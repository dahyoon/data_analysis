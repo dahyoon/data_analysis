{
 "cells": [
  {
   "cell_type": "markdown",
   "metadata": {},
   "source": [
    "# 다항 회귀 분석 (Polynomial Regression Analysis)\n",
    "- 피쳐(독립변수)들과 레이블(종속변수)이 `2차 함수 이상의 관계`를 가지는 것으로 `곡선이나 좀 더 복잡한 모양을 표현`하는 것이 가능\n",
    "\n",
    "### 만드는 방법: 피쳐(독립변수)들의 차수를 높이는 형태\n",
    "- 다항회귀 역시 선형회귀로 간주 되는데 선형회귀의 정의가 단순히 직선이나 곡선과 같은 모양에 있는 것이 아니라 가중치와 피쳐들의 선형 결합에 있기 때문\n",
    "    - 2차 항을 만들어 놓고 선형회귀로 사용하는 것\n",
    "- 다항회귀는 별도의 알고리즘이 있는 것이 아니라 `피쳐들의 제곱`, `서로 곱한 값` 등 `좀 더 복잡한 값으로 만들어` 선형회귀에 넣어서 학습시킴\n",
    "- Scikit-learn에서는 `PolynomialFeatures` 클래스로 원본 단항 Feature들을 `다항 Feature들로 변환`한 데이터 세트에 LinearRegression 객체를 적용하는 것으로 다항 회귀 기능을 제공한다\n",
    "\n",
    "## 1. 작업 준비\n",
    "### 패키지 가져오기 및 그래프 전역 설정"
   ]
  },
  {
   "cell_type": "code",
   "execution_count": 3,
   "metadata": {},
   "outputs": [],
   "source": [
    "import sys\n",
    "\n",
    "sys.path.append(\"../../\")\n",
    "import helper\n",
    "\n",
    "import numpy as np\n",
    "import seaborn as sb\n",
    "from pandas import read_excel, DataFrame\n",
    "from matplotlib import pyplot as plt\n",
    "\n",
    "from sklearn.linear_model import LinearRegression\n",
    "from sklearn.model_selection import train_test_split\n",
    "from sklearn.preprocessing import PolynomialFeatures"
   ]
  },
  {
   "cell_type": "code",
   "execution_count": 4,
   "metadata": {},
   "outputs": [],
   "source": [
    "plt.rcParams[\"font.family\"] = 'AppleGothic' if sys.platform == 'darwin' else 'Malgun Gothic'\n",
    "plt.rcParams[\"font.size\"] = 12\n",
    "plt.rcParams[\"figure.figsize\"] = (10, 5)\n",
    "plt.rcParams[\"axes.unicode_minus\"] = False"
   ]
  },
  {
   "cell_type": "markdown",
   "metadata": {},
   "source": [
    "## 2. 자동차의 속도(speed)에 따른 제동거리 (dist) 예측\n",
    "- -> `한 개의 독립변수`를 갖고 있는 데이터의 다항회귀분석\n",
    "### 1) 데이터 가져오기\n",
    "- 총 50개의 데이터:\n",
    "    - 데이터가 이렇게 작은 경우에는 거의 대부분 과적합이 발생할 것이다 (데이터가 부족하기 때문)\n",
    "    - 그래서 앞으로의 예제에서 발생하는 과적합은 당연하다고 보고 그냥 넘어갈 것이다."
   ]
  },
  {
   "cell_type": "code",
   "execution_count": 5,
   "metadata": {},
   "outputs": [
    {
     "data": {
      "text/html": [
       "<div>\n",
       "<style scoped>\n",
       "    .dataframe tbody tr th:only-of-type {\n",
       "        vertical-align: middle;\n",
       "    }\n",
       "\n",
       "    .dataframe tbody tr th {\n",
       "        vertical-align: top;\n",
       "    }\n",
       "\n",
       "    .dataframe thead th {\n",
       "        text-align: right;\n",
       "    }\n",
       "</style>\n",
       "<table border=\"1\" class=\"dataframe\">\n",
       "  <thead>\n",
       "    <tr style=\"text-align: right;\">\n",
       "      <th></th>\n",
       "      <th>speed</th>\n",
       "      <th>dist</th>\n",
       "    </tr>\n",
       "  </thead>\n",
       "  <tbody>\n",
       "    <tr>\n",
       "      <th>0</th>\n",
       "      <td>4</td>\n",
       "      <td>2</td>\n",
       "    </tr>\n",
       "    <tr>\n",
       "      <th>1</th>\n",
       "      <td>4</td>\n",
       "      <td>10</td>\n",
       "    </tr>\n",
       "    <tr>\n",
       "      <th>2</th>\n",
       "      <td>7</td>\n",
       "      <td>4</td>\n",
       "    </tr>\n",
       "    <tr>\n",
       "      <th>3</th>\n",
       "      <td>7</td>\n",
       "      <td>22</td>\n",
       "    </tr>\n",
       "    <tr>\n",
       "      <th>4</th>\n",
       "      <td>8</td>\n",
       "      <td>16</td>\n",
       "    </tr>\n",
       "  </tbody>\n",
       "</table>\n",
       "</div>"
      ],
      "text/plain": [
       "   speed  dist\n",
       "0      4     2\n",
       "1      4    10\n",
       "2      7     4\n",
       "3      7    22\n",
       "4      8    16"
      ]
     },
     "execution_count": 5,
     "metadata": {},
     "output_type": "execute_result"
    }
   ],
   "source": [
    "origin = read_excel('https://data.hossam.kr/E04/cars.xlsx')\n",
    "origin.head()"
   ]
  },
  {
   "cell_type": "markdown",
   "metadata": {},
   "source": [
    "### 2) 데이터 전처리 (훈련 데이터, 검증 데이터 분할)\n",
    "#### 0차항(1)을 포함하는 2차식으로 변환\n",
    "- `PolynomialFeatures()` 클래스를 사용하여 $y = ax + b$ 라는 회귀식을 $y = ax^2 + bx + c$ 형태로 바꾼다.\n",
    "    - degree: 변환할 차수 (기본값 = 2)\n",
    "        - degree를 안 주면 기본값으로 2차식으로 만든다.\n",
    "    - include_bias: True인 경우 0차항(1)도 함께 생성한다 (기본값 = True)"
   ]
  },
  {
   "cell_type": "code",
   "execution_count": 6,
   "metadata": {},
   "outputs": [
    {
     "name": "stdout",
     "output_type": "stream",
     "text": [
      "len(my_fit):  50\n",
      "my_fit:  [[  1.   4.  16.]\n",
      " [  1.   4.  16.]\n",
      " [  1.   7.  49.]\n",
      " [  1.   7.  49.]\n",
      " [  1.   8.  64.]\n",
      " [  1.   9.  81.]\n",
      " [  1.  10. 100.]\n",
      " [  1.  10. 100.]\n",
      " [  1.  10. 100.]\n",
      " [  1.  11. 121.]\n",
      " [  1.  11. 121.]\n",
      " [  1.  12. 144.]\n",
      " [  1.  12. 144.]\n",
      " [  1.  12. 144.]\n",
      " [  1.  12. 144.]\n",
      " [  1.  13. 169.]\n",
      " [  1.  13. 169.]\n",
      " [  1.  13. 169.]\n",
      " [  1.  13. 169.]\n",
      " [  1.  14. 196.]\n",
      " [  1.  14. 196.]\n",
      " [  1.  14. 196.]\n",
      " [  1.  14. 196.]\n",
      " [  1.  15. 225.]\n",
      " [  1.  15. 225.]\n",
      " [  1.  15. 225.]\n",
      " [  1.  16. 256.]\n",
      " [  1.  16. 256.]\n",
      " [  1.  17. 289.]\n",
      " [  1.  17. 289.]\n",
      " [  1.  17. 289.]\n",
      " [  1.  18. 324.]\n",
      " [  1.  18. 324.]\n",
      " [  1.  18. 324.]\n",
      " [  1.  18. 324.]\n",
      " [  1.  19. 361.]\n",
      " [  1.  19. 361.]\n",
      " [  1.  19. 361.]\n",
      " [  1.  20. 400.]\n",
      " [  1.  20. 400.]\n",
      " [  1.  20. 400.]\n",
      " [  1.  20. 400.]\n",
      " [  1.  20. 400.]\n",
      " [  1.  22. 484.]\n",
      " [  1.  23. 529.]\n",
      " [  1.  24. 576.]\n",
      " [  1.  24. 576.]\n",
      " [  1.  24. 576.]\n",
      " [  1.  24. 576.]\n",
      " [  1.  25. 625.]]\n",
      "my_poly:  PolynomialFeatures()\n"
     ]
    }
   ],
   "source": [
    "my_poly = PolynomialFeatures(degree = 2, include_bias = True)\n",
    "my_poly\n",
    "\n",
    "# 독립변수만 추출한 데이터프레임을 .fit_transform() 함수에 전달해서 학습을 시킴\n",
    "my_fit = my_poly.fit_transform(origin[['speed']])\n",
    "print('len(my_fit): ', len(my_fit))\n",
    "print('my_fit: ', my_fit)\n",
    "print('my_poly: ', my_poly)"
   ]
  },
  {
   "cell_type": "markdown",
   "metadata": {},
   "source": [
    "- 머신러닝 관련 패키지들은 데이터프레임을 파라미터로 줘도 아웃풋은 항상 numpy 배열(arrange)로 준다.\n",
    "#### 생성된 피쳐의 이름 확인"
   ]
  },
  {
   "cell_type": "code",
   "execution_count": 7,
   "metadata": {},
   "outputs": [
    {
     "data": {
      "text/plain": [
       "array(['1', 'speed', 'speed^2'], dtype=object)"
      ]
     },
     "execution_count": 7,
     "metadata": {},
     "output_type": "execute_result"
    }
   ],
   "source": [
    "my_poly.get_feature_names_out()"
   ]
  },
  {
   "cell_type": "markdown",
   "metadata": {},
   "source": [
    "#### 0차항(1)을 포함하지 않는 2차식으로 변환(권장)\n",
    "- 분석에서는 보통 0차항을 넣지 않는다"
   ]
  },
  {
   "cell_type": "code",
   "execution_count": 8,
   "metadata": {},
   "outputs": [
    {
     "data": {
      "text/plain": [
       "array([[  4.,  16.],\n",
       "       [  4.,  16.],\n",
       "       [  7.,  49.],\n",
       "       [  7.,  49.],\n",
       "       [  8.,  64.],\n",
       "       [  9.,  81.],\n",
       "       [ 10., 100.],\n",
       "       [ 10., 100.],\n",
       "       [ 10., 100.],\n",
       "       [ 11., 121.],\n",
       "       [ 11., 121.],\n",
       "       [ 12., 144.],\n",
       "       [ 12., 144.],\n",
       "       [ 12., 144.],\n",
       "       [ 12., 144.],\n",
       "       [ 13., 169.],\n",
       "       [ 13., 169.],\n",
       "       [ 13., 169.],\n",
       "       [ 13., 169.],\n",
       "       [ 14., 196.],\n",
       "       [ 14., 196.],\n",
       "       [ 14., 196.],\n",
       "       [ 14., 196.],\n",
       "       [ 15., 225.],\n",
       "       [ 15., 225.],\n",
       "       [ 15., 225.],\n",
       "       [ 16., 256.],\n",
       "       [ 16., 256.],\n",
       "       [ 17., 289.],\n",
       "       [ 17., 289.],\n",
       "       [ 17., 289.],\n",
       "       [ 18., 324.],\n",
       "       [ 18., 324.],\n",
       "       [ 18., 324.],\n",
       "       [ 18., 324.],\n",
       "       [ 19., 361.],\n",
       "       [ 19., 361.],\n",
       "       [ 19., 361.],\n",
       "       [ 20., 400.],\n",
       "       [ 20., 400.],\n",
       "       [ 20., 400.],\n",
       "       [ 20., 400.],\n",
       "       [ 20., 400.],\n",
       "       [ 22., 484.],\n",
       "       [ 23., 529.],\n",
       "       [ 24., 576.],\n",
       "       [ 24., 576.],\n",
       "       [ 24., 576.],\n",
       "       [ 24., 576.],\n",
       "       [ 25., 625.]])"
      ]
     },
     "execution_count": 8,
     "metadata": {},
     "output_type": "execute_result"
    }
   ],
   "source": [
    "my_poly = PolynomialFeatures(include_bias = False)\n",
    "my_fit = my_poly.fit_transform(origin[['speed']])\n",
    "my_fit"
   ]
  },
  {
   "cell_type": "markdown",
   "metadata": {},
   "source": [
    "#### 생성된 피쳐의 이름 확인"
   ]
  },
  {
   "cell_type": "code",
   "execution_count": 9,
   "metadata": {},
   "outputs": [
    {
     "data": {
      "text/plain": [
       "array(['speed', 'speed^2'], dtype=object)"
      ]
     },
     "execution_count": 9,
     "metadata": {},
     "output_type": "execute_result"
    }
   ],
   "source": [
    "my_poly.get_feature_names_out()"
   ]
  },
  {
   "cell_type": "markdown",
   "metadata": {},
   "source": [
    "#### 데이터프레임으로 재구성"
   ]
  },
  {
   "cell_type": "code",
   "execution_count": 10,
   "metadata": {},
   "outputs": [
    {
     "data": {
      "text/html": [
       "<div>\n",
       "<style scoped>\n",
       "    .dataframe tbody tr th:only-of-type {\n",
       "        vertical-align: middle;\n",
       "    }\n",
       "\n",
       "    .dataframe tbody tr th {\n",
       "        vertical-align: top;\n",
       "    }\n",
       "\n",
       "    .dataframe thead th {\n",
       "        text-align: right;\n",
       "    }\n",
       "</style>\n",
       "<table border=\"1\" class=\"dataframe\">\n",
       "  <thead>\n",
       "    <tr style=\"text-align: right;\">\n",
       "      <th></th>\n",
       "      <th>speed</th>\n",
       "      <th>speed^2</th>\n",
       "    </tr>\n",
       "  </thead>\n",
       "  <tbody>\n",
       "    <tr>\n",
       "      <th>0</th>\n",
       "      <td>4.0</td>\n",
       "      <td>16.0</td>\n",
       "    </tr>\n",
       "    <tr>\n",
       "      <th>1</th>\n",
       "      <td>4.0</td>\n",
       "      <td>16.0</td>\n",
       "    </tr>\n",
       "    <tr>\n",
       "      <th>2</th>\n",
       "      <td>7.0</td>\n",
       "      <td>49.0</td>\n",
       "    </tr>\n",
       "    <tr>\n",
       "      <th>3</th>\n",
       "      <td>7.0</td>\n",
       "      <td>49.0</td>\n",
       "    </tr>\n",
       "    <tr>\n",
       "      <th>4</th>\n",
       "      <td>8.0</td>\n",
       "      <td>64.0</td>\n",
       "    </tr>\n",
       "  </tbody>\n",
       "</table>\n",
       "</div>"
      ],
      "text/plain": [
       "   speed  speed^2\n",
       "0    4.0     16.0\n",
       "1    4.0     16.0\n",
       "2    7.0     49.0\n",
       "3    7.0     49.0\n",
       "4    8.0     64.0"
      ]
     },
     "execution_count": 10,
     "metadata": {},
     "output_type": "execute_result"
    }
   ],
   "source": [
    "x = DataFrame(my_fit, columns = my_poly.get_feature_names_out())\n",
    "x.head()"
   ]
  },
  {
   "cell_type": "markdown",
   "metadata": {},
   "source": [
    "#### 종속변수만 추출한 데이터프레임"
   ]
  },
  {
   "cell_type": "code",
   "execution_count": 11,
   "metadata": {},
   "outputs": [
    {
     "data": {
      "text/html": [
       "<div>\n",
       "<style scoped>\n",
       "    .dataframe tbody tr th:only-of-type {\n",
       "        vertical-align: middle;\n",
       "    }\n",
       "\n",
       "    .dataframe tbody tr th {\n",
       "        vertical-align: top;\n",
       "    }\n",
       "\n",
       "    .dataframe thead th {\n",
       "        text-align: right;\n",
       "    }\n",
       "</style>\n",
       "<table border=\"1\" class=\"dataframe\">\n",
       "  <thead>\n",
       "    <tr style=\"text-align: right;\">\n",
       "      <th></th>\n",
       "      <th>dist</th>\n",
       "    </tr>\n",
       "  </thead>\n",
       "  <tbody>\n",
       "    <tr>\n",
       "      <th>0</th>\n",
       "      <td>2</td>\n",
       "    </tr>\n",
       "    <tr>\n",
       "      <th>1</th>\n",
       "      <td>10</td>\n",
       "    </tr>\n",
       "    <tr>\n",
       "      <th>2</th>\n",
       "      <td>4</td>\n",
       "    </tr>\n",
       "    <tr>\n",
       "      <th>3</th>\n",
       "      <td>22</td>\n",
       "    </tr>\n",
       "    <tr>\n",
       "      <th>4</th>\n",
       "      <td>16</td>\n",
       "    </tr>\n",
       "  </tbody>\n",
       "</table>\n",
       "</div>"
      ],
      "text/plain": [
       "   dist\n",
       "0     2\n",
       "1    10\n",
       "2     4\n",
       "3    22\n",
       "4    16"
      ]
     },
     "execution_count": 11,
     "metadata": {},
     "output_type": "execute_result"
    }
   ],
   "source": [
    "y = origin[['dist']]\n",
    "y.head()"
   ]
  },
  {
   "cell_type": "markdown",
   "metadata": {},
   "source": [
    "#### 훈련 데이터와 검증 데이터로 분리"
   ]
  },
  {
   "cell_type": "code",
   "execution_count": 12,
   "metadata": {},
   "outputs": [
    {
     "data": {
      "text/plain": [
       "((35, 2), (15, 2), (35, 1), (15, 1))"
      ]
     },
     "execution_count": 12,
     "metadata": {},
     "output_type": "execute_result"
    }
   ],
   "source": [
    "x_train, x_test, y_train, y_test = train_test_split(x, \n",
    "                                                    y, \n",
    "                                                    test_size = 0.3,\n",
    "                                                    random_state = 123)\n",
    "\n",
    "x_train.shape, x_test.shape, y_train.shape, y_test.shape"
   ]
  },
  {
   "cell_type": "code",
   "execution_count": 13,
   "metadata": {},
   "outputs": [
    {
     "name": "stdout",
     "output_type": "stream",
     "text": [
      "35\n"
     ]
    },
    {
     "data": {
      "text/html": [
       "<div>\n",
       "<style scoped>\n",
       "    .dataframe tbody tr th:only-of-type {\n",
       "        vertical-align: middle;\n",
       "    }\n",
       "\n",
       "    .dataframe tbody tr th {\n",
       "        vertical-align: top;\n",
       "    }\n",
       "\n",
       "    .dataframe thead th {\n",
       "        text-align: right;\n",
       "    }\n",
       "</style>\n",
       "<table border=\"1\" class=\"dataframe\">\n",
       "  <thead>\n",
       "    <tr style=\"text-align: right;\">\n",
       "      <th></th>\n",
       "      <th>speed</th>\n",
       "      <th>speed^2</th>\n",
       "    </tr>\n",
       "  </thead>\n",
       "  <tbody>\n",
       "    <tr>\n",
       "      <th>1</th>\n",
       "      <td>4.0</td>\n",
       "      <td>16.0</td>\n",
       "    </tr>\n",
       "    <tr>\n",
       "      <th>6</th>\n",
       "      <td>10.0</td>\n",
       "      <td>100.0</td>\n",
       "    </tr>\n",
       "    <tr>\n",
       "      <th>27</th>\n",
       "      <td>16.0</td>\n",
       "      <td>256.0</td>\n",
       "    </tr>\n",
       "    <tr>\n",
       "      <th>49</th>\n",
       "      <td>25.0</td>\n",
       "      <td>625.0</td>\n",
       "    </tr>\n",
       "    <tr>\n",
       "      <th>24</th>\n",
       "      <td>15.0</td>\n",
       "      <td>225.0</td>\n",
       "    </tr>\n",
       "  </tbody>\n",
       "</table>\n",
       "</div>"
      ],
      "text/plain": [
       "    speed  speed^2\n",
       "1     4.0     16.0\n",
       "6    10.0    100.0\n",
       "27   16.0    256.0\n",
       "49   25.0    625.0\n",
       "24   15.0    225.0"
      ]
     },
     "execution_count": 13,
     "metadata": {},
     "output_type": "execute_result"
    }
   ],
   "source": [
    "print(len(x_train))\n",
    "x_train.head()"
   ]
  },
  {
   "cell_type": "code",
   "execution_count": 14,
   "metadata": {},
   "outputs": [
    {
     "name": "stdout",
     "output_type": "stream",
     "text": [
      "15\n"
     ]
    },
    {
     "data": {
      "text/html": [
       "<div>\n",
       "<style scoped>\n",
       "    .dataframe tbody tr th:only-of-type {\n",
       "        vertical-align: middle;\n",
       "    }\n",
       "\n",
       "    .dataframe tbody tr th {\n",
       "        vertical-align: top;\n",
       "    }\n",
       "\n",
       "    .dataframe thead th {\n",
       "        text-align: right;\n",
       "    }\n",
       "</style>\n",
       "<table border=\"1\" class=\"dataframe\">\n",
       "  <thead>\n",
       "    <tr style=\"text-align: right;\">\n",
       "      <th></th>\n",
       "      <th>speed</th>\n",
       "      <th>speed^2</th>\n",
       "    </tr>\n",
       "  </thead>\n",
       "  <tbody>\n",
       "    <tr>\n",
       "      <th>10</th>\n",
       "      <td>11.0</td>\n",
       "      <td>121.0</td>\n",
       "    </tr>\n",
       "    <tr>\n",
       "      <th>13</th>\n",
       "      <td>12.0</td>\n",
       "      <td>144.0</td>\n",
       "    </tr>\n",
       "    <tr>\n",
       "      <th>30</th>\n",
       "      <td>17.0</td>\n",
       "      <td>289.0</td>\n",
       "    </tr>\n",
       "    <tr>\n",
       "      <th>46</th>\n",
       "      <td>24.0</td>\n",
       "      <td>576.0</td>\n",
       "    </tr>\n",
       "    <tr>\n",
       "      <th>18</th>\n",
       "      <td>13.0</td>\n",
       "      <td>169.0</td>\n",
       "    </tr>\n",
       "  </tbody>\n",
       "</table>\n",
       "</div>"
      ],
      "text/plain": [
       "    speed  speed^2\n",
       "10   11.0    121.0\n",
       "13   12.0    144.0\n",
       "30   17.0    289.0\n",
       "46   24.0    576.0\n",
       "18   13.0    169.0"
      ]
     },
     "execution_count": 14,
     "metadata": {},
     "output_type": "execute_result"
    }
   ],
   "source": [
    "print(len(x_test))\n",
    "x_test.head()"
   ]
  },
  {
   "cell_type": "code",
   "execution_count": 15,
   "metadata": {},
   "outputs": [
    {
     "name": "stdout",
     "output_type": "stream",
     "text": [
      "35\n"
     ]
    },
    {
     "data": {
      "text/html": [
       "<div>\n",
       "<style scoped>\n",
       "    .dataframe tbody tr th:only-of-type {\n",
       "        vertical-align: middle;\n",
       "    }\n",
       "\n",
       "    .dataframe tbody tr th {\n",
       "        vertical-align: top;\n",
       "    }\n",
       "\n",
       "    .dataframe thead th {\n",
       "        text-align: right;\n",
       "    }\n",
       "</style>\n",
       "<table border=\"1\" class=\"dataframe\">\n",
       "  <thead>\n",
       "    <tr style=\"text-align: right;\">\n",
       "      <th></th>\n",
       "      <th>dist</th>\n",
       "    </tr>\n",
       "  </thead>\n",
       "  <tbody>\n",
       "    <tr>\n",
       "      <th>1</th>\n",
       "      <td>10</td>\n",
       "    </tr>\n",
       "    <tr>\n",
       "      <th>6</th>\n",
       "      <td>18</td>\n",
       "    </tr>\n",
       "    <tr>\n",
       "      <th>27</th>\n",
       "      <td>40</td>\n",
       "    </tr>\n",
       "    <tr>\n",
       "      <th>49</th>\n",
       "      <td>85</td>\n",
       "    </tr>\n",
       "    <tr>\n",
       "      <th>24</th>\n",
       "      <td>26</td>\n",
       "    </tr>\n",
       "  </tbody>\n",
       "</table>\n",
       "</div>"
      ],
      "text/plain": [
       "    dist\n",
       "1     10\n",
       "6     18\n",
       "27    40\n",
       "49    85\n",
       "24    26"
      ]
     },
     "execution_count": 15,
     "metadata": {},
     "output_type": "execute_result"
    }
   ],
   "source": [
    "print(len(y_train))\n",
    "y_train.head()"
   ]
  },
  {
   "cell_type": "code",
   "execution_count": 16,
   "metadata": {},
   "outputs": [
    {
     "name": "stdout",
     "output_type": "stream",
     "text": [
      "15\n"
     ]
    },
    {
     "data": {
      "text/html": [
       "<div>\n",
       "<style scoped>\n",
       "    .dataframe tbody tr th:only-of-type {\n",
       "        vertical-align: middle;\n",
       "    }\n",
       "\n",
       "    .dataframe tbody tr th {\n",
       "        vertical-align: top;\n",
       "    }\n",
       "\n",
       "    .dataframe thead th {\n",
       "        text-align: right;\n",
       "    }\n",
       "</style>\n",
       "<table border=\"1\" class=\"dataframe\">\n",
       "  <thead>\n",
       "    <tr style=\"text-align: right;\">\n",
       "      <th></th>\n",
       "      <th>dist</th>\n",
       "    </tr>\n",
       "  </thead>\n",
       "  <tbody>\n",
       "    <tr>\n",
       "      <th>10</th>\n",
       "      <td>28</td>\n",
       "    </tr>\n",
       "    <tr>\n",
       "      <th>13</th>\n",
       "      <td>24</td>\n",
       "    </tr>\n",
       "    <tr>\n",
       "      <th>30</th>\n",
       "      <td>50</td>\n",
       "    </tr>\n",
       "    <tr>\n",
       "      <th>46</th>\n",
       "      <td>92</td>\n",
       "    </tr>\n",
       "    <tr>\n",
       "      <th>18</th>\n",
       "      <td>46</td>\n",
       "    </tr>\n",
       "  </tbody>\n",
       "</table>\n",
       "</div>"
      ],
      "text/plain": [
       "    dist\n",
       "10    28\n",
       "13    24\n",
       "30    50\n",
       "46    92\n",
       "18    46"
      ]
     },
     "execution_count": 16,
     "metadata": {},
     "output_type": "execute_result"
    }
   ],
   "source": [
    "print(len(y_test))\n",
    "y_test.head()"
   ]
  },
  {
   "cell_type": "markdown",
   "metadata": {},
   "source": [
    "### 3) 회귀분석 수행\n",
    "- 데이터 표본수(`35`)가 작기 떄문에 `과적합이 발생`하지만 예제 데이터셋이므로 과적합은 무시하고 진행하도록 한다"
   ]
  },
  {
   "cell_type": "code",
   "execution_count": 17,
   "metadata": {},
   "outputs": [
    {
     "name": "stdout",
     "output_type": "stream",
     "text": [
      "계수:  [[0.73773403 0.09986278]]\n",
      "절편:  [4.70067321]\n",
      "훈련 데이터 설명력:  0.5941347702404498\n",
      "검증 데이터 설명력:  0.8183504037854948\n"
     ]
    }
   ],
   "source": [
    "my_model = LinearRegression()           # 선형회귀 학습 모델 객체 만들기\n",
    "my_fit = my_model.fit(x_train, y_train) # .fit(훈련용 데이터 독립변수, 훈련용 데이터 종속변수)를 줘서 모델을 만든다.\n",
    "print('계수: ', my_fit.coef_)\n",
    "print('절편: ', my_fit.intercept_)\n",
    "print('훈련 데이터 설명력: ', my_fit.score(x_train, y_train)) # 훈련 데이터를 줬을 때의 설명력 확인\n",
    "print('검증 데이터 설명력: ', my_fit.score(x_test, y_test))   # 검증 데이터를 줬을 때의 설명력 확인"
   ]
  },
  {
   "cell_type": "markdown",
   "metadata": {},
   "source": [
    "### 4) 회귀식 추정"
   ]
  },
  {
   "cell_type": "code",
   "execution_count": 18,
   "metadata": {},
   "outputs": [
    {
     "name": "stdout",
     "output_type": "stream",
     "text": [
      "Index(['speed', 'speed^2'], dtype='object')\n",
      "expr_v1:  ['0.737734 x speed', '0.099863 x speed^2']\n",
      "expr_v2:  y = 0.737734 x speed + 0.099863 x speed^2 + 4.700673\n"
     ]
    }
   ],
   "source": [
    "# 독립 변수들의 이름\n",
    "feature_names = x.columns\n",
    "print(feature_names)\n",
    "\n",
    "expr = []\n",
    "for i, v in enumerate(feature_names):\n",
    "    expr.append('%f x %s' % (my_fit.coef_[0][i], v))\n",
    "print('expr_v1: ', expr)\n",
    "expr = ' + '.join(expr)\n",
    "expr = 'y = ' + expr + ' + %f' % my_fit.intercept_[0]\n",
    "print('expr_v2: ', expr)"
   ]
  },
  {
   "cell_type": "markdown",
   "metadata": {},
   "source": [
    "### 5) 예측값 생성\n",
    "#### 훈련 데이터에 대한 예측값\n",
    "- numpy 에서 `.reshape()` 함수는 배열의 차원을 바꿔준다\n",
    "    - .reshape(1)은 한 차원을 올리고, .reshape(-1)은 한 차원을 낮춰준다"
   ]
  },
  {
   "cell_type": "code",
   "execution_count": 19,
   "metadata": {},
   "outputs": [
    {
     "data": {
      "text/plain": [
       "array([ 9.24941376, 22.06429118, 42.06928848, 85.55825922, 38.23580838,\n",
       "       50.33542533, 31.16802484, 54.76808209, 42.06928848, 22.06429118,\n",
       "       34.60205383, 79.92724915, 14.75808748, 38.23580838, 74.49596463,\n",
       "       16.99376316, 31.16802484, 54.76808209, 27.9337214 , 69.26440567,\n",
       "       38.23580838, 54.76808209, 59.40046439, 24.89914351, 50.33542533,\n",
       "       50.33542533, 34.60205383, 59.40046439, 34.60205383, 31.16802484,\n",
       "       59.40046439, 50.33542533, 46.10249413, 14.75808748, 79.92724915])"
      ]
     },
     "execution_count": 19,
     "metadata": {},
     "output_type": "execute_result"
    }
   ],
   "source": [
    "# .predict() 함수한테 훈련 데이터를 줘서 예측값 생성\n",
    "y_train_pred = my_fit.predict(x_train)\n",
    "y_train_pred = y_train_pred.reshape(-1) # 2차원의 배열을 1차원의 배열로 변환\n",
    "y_train_pred"
   ]
  },
  {
   "cell_type": "markdown",
   "metadata": {},
   "source": [
    "#### 검증 데이터에 대한 예측값"
   ]
  },
  {
   "cell_type": "code",
   "execution_count": 20,
   "metadata": {},
   "outputs": [
    {
     "data": {
      "text/plain": [
       "array([24.89914351, 27.9337214 , 46.10249413, 79.92724915, 31.16802484,\n",
       "        9.24941376, 59.40046439, 27.9337214 , 46.10249413, 22.06429118,\n",
       "       34.60205383, 79.92724915, 27.9337214 , 59.40046439, 19.42916439])"
      ]
     },
     "execution_count": 20,
     "metadata": {},
     "output_type": "execute_result"
    }
   ],
   "source": [
    "# .predict() 함수한테 검증 데이터를 줘서 예측값 생성\n",
    "y_test_pred = my_fit.predict(x_test)\n",
    "y_test_pred = y_test_pred.reshape(-1) # 2차원의 배열을 1차원의 배열로 변환\n",
    "y_test_pred"
   ]
  },
  {
   "cell_type": "markdown",
   "metadata": {},
   "source": [
    "### 6) 학습 결과 시각화\n",
    "- 학습에 사용한 데이터와 예측값의 차이를 시각화(ax1)\n",
    "- 검증용 데이터와 예측값의 차이를 시각화 (ax2)\n",
    "- 2차 방정식의 추세선(곡선)은 항상 직접 그려야 됨 - 파이썬에서 제공하는 추세선 그래프는 직선밖에 없음"
   ]
  },
  {
   "cell_type": "code",
   "execution_count": 21,
   "metadata": {},
   "outputs": [
    {
     "data": {
      "image/png": "[encoded data removed]",
      "text/plain": [
       "<Figure size 1500x500 with 2 Axes>"
      ]
     },
     "metadata": {},
     "output_type": "display_data"
    }
   ],
   "source": [
    "fig, (ax1, ax2) = plt.subplots(1, 2, figsize = (15, 5))\n",
    "\n",
    "# 학습에 사용한 데이터 시각화\n",
    "sb.scatterplot(x=x_train['speed'],\n",
    "               y=y_train['dist'],\n",
    "               label='train data',\n",
    "               color = 'lightblue',\n",
    "               ax = ax1)\n",
    "# 예측값 시각화\n",
    "sb.scatterplot(x=x_train['speed'],\n",
    "               y=y_train_pred,\n",
    "               label='train predict',\n",
    "               color = 'black',\n",
    "               ax=ax1)\n",
    "# 그래프가 그려진 범위 안에서 1씩 증가하는 좌표 생성 (1씩이 아니라 예를 들어 5씩 증가하게 되면 선에 각이 지게 된다)\n",
    "xmin, xmax = ax1.get_xlim()\n",
    "xrange = np.arange(xmin.round(), xmax.round(), 1)\n",
    "# y값에 대한 추정치 계산\n",
    "y_pred = xrange * my_fit.coef_[0][0] + xrange**2 * my_fit.coef_[0][1] + my_fit.intercept_[0]\n",
    "# -> 추세선\n",
    "sb.lineplot(x=xrange, y=y_pred, color= 'red', ax = ax1)\n",
    "\n",
    "ax1.set_title('훈련 데이터')\n",
    "ax1.legend()\n",
    "ax1.grid()\n",
    "\n",
    "# 검증용 데이터 시각화\n",
    "sb.scatterplot(x=x_test['speed'],\n",
    "               y=y_test['dist'],\n",
    "               label='test data',\n",
    "               color = 'lightblue',\n",
    "               ax = ax2)\n",
    "# 예측값 시각화\n",
    "sb.scatterplot(x=x_test['speed'],\n",
    "               y=y_test_pred,\n",
    "               label='test predict',\n",
    "               color = 'black',\n",
    "               ax = ax2)\n",
    "# 그래프가 그려진 범위 안에서 1씩 증가하는 좌표 생성\n",
    "xmin, xmax = ax2.get_xlim()\n",
    "xrange = np.arange(xmin.round(), xmax.round(), 1)\n",
    "# y값에 대한 추정치 계산\n",
    "y_pred = xrange * my_fit.coef_[0][0] + xrange**2 * my_fit.coef_[0][1] + my_fit.intercept_[0]\n",
    "# -> 추세선\n",
    "sb.lineplot(x=xrange, y=y_pred, color='red', ax=ax2)\n",
    "\n",
    "ax2.set_title('검증 데이터')\n",
    "ax2.legend()\n",
    "ax2.grid()\n",
    "\n",
    "plt.show()\n",
    "plt.close()"
   ]
  },
  {
   "cell_type": "markdown",
   "metadata": {},
   "source": [
    "## 3. `농어의 크기`에 따른 `무게 예측`\n",
    "- -> `여러 개의 독립변수`를 갖고 있는 데이터의 다항회귀분석\n",
    "### 1) 데이터 가져오기"
   ]
  },
  {
   "cell_type": "code",
   "execution_count": 22,
   "metadata": {},
   "outputs": [
    {
     "name": "stdout",
     "output_type": "stream",
     "text": [
      "56\n"
     ]
    },
    {
     "data": {
      "text/html": [
       "<div>\n",
       "<style scoped>\n",
       "    .dataframe tbody tr th:only-of-type {\n",
       "        vertical-align: middle;\n",
       "    }\n",
       "\n",
       "    .dataframe tbody tr th {\n",
       "        vertical-align: top;\n",
       "    }\n",
       "\n",
       "    .dataframe thead th {\n",
       "        text-align: right;\n",
       "    }\n",
       "</style>\n",
       "<table border=\"1\" class=\"dataframe\">\n",
       "  <thead>\n",
       "    <tr style=\"text-align: right;\">\n",
       "      <th></th>\n",
       "      <th>길이</th>\n",
       "      <th>높이</th>\n",
       "      <th>두께</th>\n",
       "      <th>무게</th>\n",
       "    </tr>\n",
       "  </thead>\n",
       "  <tbody>\n",
       "    <tr>\n",
       "      <th>0</th>\n",
       "      <td>8.4</td>\n",
       "      <td>2.11</td>\n",
       "      <td>1.41</td>\n",
       "      <td>5.9</td>\n",
       "    </tr>\n",
       "    <tr>\n",
       "      <th>1</th>\n",
       "      <td>13.7</td>\n",
       "      <td>3.53</td>\n",
       "      <td>2.00</td>\n",
       "      <td>32.0</td>\n",
       "    </tr>\n",
       "    <tr>\n",
       "      <th>2</th>\n",
       "      <td>15.0</td>\n",
       "      <td>3.82</td>\n",
       "      <td>2.43</td>\n",
       "      <td>40.0</td>\n",
       "    </tr>\n",
       "    <tr>\n",
       "      <th>3</th>\n",
       "      <td>16.2</td>\n",
       "      <td>4.59</td>\n",
       "      <td>2.63</td>\n",
       "      <td>51.5</td>\n",
       "    </tr>\n",
       "    <tr>\n",
       "      <th>4</th>\n",
       "      <td>17.4</td>\n",
       "      <td>4.59</td>\n",
       "      <td>2.94</td>\n",
       "      <td>70.0</td>\n",
       "    </tr>\n",
       "  </tbody>\n",
       "</table>\n",
       "</div>"
      ],
      "text/plain": [
       "     길이    높이    두께    무게\n",
       "0   8.4  2.11  1.41   5.9\n",
       "1  13.7  3.53  2.00  32.0\n",
       "2  15.0  3.82  2.43  40.0\n",
       "3  16.2  4.59  2.63  51.5\n",
       "4  17.4  4.59  2.94  70.0"
      ]
     },
     "execution_count": 22,
     "metadata": {},
     "output_type": "execute_result"
    }
   ],
   "source": [
    "origin = read_excel('https://data.hossam.kr/F02/fish2.xlsx')\n",
    "print(len(origin))\n",
    "origin.head()"
   ]
  },
  {
   "cell_type": "markdown",
   "metadata": {},
   "source": [
    "### 2) 데이터 전처리 (다항식으로 변환, 훈련데이터/검증데이터 분할)\n",
    "#### 결측치, 이상치 처리\n",
    "- 이 예제에서는 필요하지 않다고 전제하여 안 함\n",
    "#### 다항식으로 변환하기\n",
    "- 만약 단순선형회귀분석 할 것이면 ols 사용해도 결과값은 같을 것이다\n",
    "- 더미변수는 이거 할 때 안 넣어도 된다: 더미변수의 값은 0 과 1 밖에 없으므로 제곱하고 서로 곱해봐야 도찐개찐이기 때문이다 --> `다항식으로 변환하는 것은 더미변수 넣기 전에 하는 것`"
   ]
  },
  {
   "cell_type": "code",
   "execution_count": 23,
   "metadata": {},
   "outputs": [
    {
     "data": {
      "text/html": [
       "<div>\n",
       "<style scoped>\n",
       "    .dataframe tbody tr th:only-of-type {\n",
       "        vertical-align: middle;\n",
       "    }\n",
       "\n",
       "    .dataframe tbody tr th {\n",
       "        vertical-align: top;\n",
       "    }\n",
       "\n",
       "    .dataframe thead th {\n",
       "        text-align: right;\n",
       "    }\n",
       "</style>\n",
       "<table border=\"1\" class=\"dataframe\">\n",
       "  <thead>\n",
       "    <tr style=\"text-align: right;\">\n",
       "      <th></th>\n",
       "      <th>길이</th>\n",
       "      <th>높이</th>\n",
       "      <th>두께</th>\n",
       "      <th>길이^2</th>\n",
       "      <th>길이 높이</th>\n",
       "      <th>길이 두께</th>\n",
       "      <th>높이^2</th>\n",
       "      <th>높이 두께</th>\n",
       "      <th>두께^2</th>\n",
       "    </tr>\n",
       "  </thead>\n",
       "  <tbody>\n",
       "    <tr>\n",
       "      <th>0</th>\n",
       "      <td>8.4</td>\n",
       "      <td>2.11</td>\n",
       "      <td>1.41</td>\n",
       "      <td>70.56</td>\n",
       "      <td>17.724</td>\n",
       "      <td>11.844</td>\n",
       "      <td>4.4521</td>\n",
       "      <td>2.9751</td>\n",
       "      <td>1.9881</td>\n",
       "    </tr>\n",
       "    <tr>\n",
       "      <th>1</th>\n",
       "      <td>13.7</td>\n",
       "      <td>3.53</td>\n",
       "      <td>2.00</td>\n",
       "      <td>187.69</td>\n",
       "      <td>48.361</td>\n",
       "      <td>27.400</td>\n",
       "      <td>12.4609</td>\n",
       "      <td>7.0600</td>\n",
       "      <td>4.0000</td>\n",
       "    </tr>\n",
       "    <tr>\n",
       "      <th>2</th>\n",
       "      <td>15.0</td>\n",
       "      <td>3.82</td>\n",
       "      <td>2.43</td>\n",
       "      <td>225.00</td>\n",
       "      <td>57.300</td>\n",
       "      <td>36.450</td>\n",
       "      <td>14.5924</td>\n",
       "      <td>9.2826</td>\n",
       "      <td>5.9049</td>\n",
       "    </tr>\n",
       "    <tr>\n",
       "      <th>3</th>\n",
       "      <td>16.2</td>\n",
       "      <td>4.59</td>\n",
       "      <td>2.63</td>\n",
       "      <td>262.44</td>\n",
       "      <td>74.358</td>\n",
       "      <td>42.606</td>\n",
       "      <td>21.0681</td>\n",
       "      <td>12.0717</td>\n",
       "      <td>6.9169</td>\n",
       "    </tr>\n",
       "    <tr>\n",
       "      <th>4</th>\n",
       "      <td>17.4</td>\n",
       "      <td>4.59</td>\n",
       "      <td>2.94</td>\n",
       "      <td>302.76</td>\n",
       "      <td>79.866</td>\n",
       "      <td>51.156</td>\n",
       "      <td>21.0681</td>\n",
       "      <td>13.4946</td>\n",
       "      <td>8.6436</td>\n",
       "    </tr>\n",
       "  </tbody>\n",
       "</table>\n",
       "</div>"
      ],
      "text/plain": [
       "     길이    높이    두께    길이^2   길이 높이   길이 두께     높이^2    높이 두께    두께^2\n",
       "0   8.4  2.11  1.41   70.56  17.724  11.844   4.4521   2.9751  1.9881\n",
       "1  13.7  3.53  2.00  187.69  48.361  27.400  12.4609   7.0600  4.0000\n",
       "2  15.0  3.82  2.43  225.00  57.300  36.450  14.5924   9.2826  5.9049\n",
       "3  16.2  4.59  2.63  262.44  74.358  42.606  21.0681  12.0717  6.9169\n",
       "4  17.4  4.59  2.94  302.76  79.866  51.156  21.0681  13.4946  8.6436"
      ]
     },
     "execution_count": 23,
     "metadata": {},
     "output_type": "execute_result"
    }
   ],
   "source": [
    "# polynomial features라는 클래스의 my_poly 객체 생성\n",
    "my_poly = PolynomialFeatures(degree = 2,\n",
    "                             include_bias = False)\n",
    "# 독립변수들만 추린 데이터프레임을 .fit_transform() 함수에 전달해서 학습을 시킴\n",
    "my_fit = my_poly.fit_transform(origin[['길이', '높이', '두께']])\n",
    "# 출력되는 이름 확인\n",
    "# my_poly.get_feature_names_out()\n",
    "# 2차항을 갖고 있는 데이터프레임 생성\n",
    "x = DataFrame(my_fit, columns=my_poly.get_feature_names_out())\n",
    "x.head()"
   ]
  },
  {
   "cell_type": "markdown",
   "metadata": {},
   "source": [
    "#### helper 모듈 기능을 활용한 다항식 변환\n",
    "- 독립변수들에 대한 2차항을 갖고 있는 `데이터프레임 생성`\n",
    "- `helper.convertPoly(독립변수들만_추린_데이터프레임)`\n",
    "    - 기본값: degree = 2, include_bias = False"
   ]
  },
  {
   "cell_type": "code",
   "execution_count": 24,
   "metadata": {},
   "outputs": [
    {
     "data": {
      "text/html": [
       "<div>\n",
       "<style scoped>\n",
       "    .dataframe tbody tr th:only-of-type {\n",
       "        vertical-align: middle;\n",
       "    }\n",
       "\n",
       "    .dataframe tbody tr th {\n",
       "        vertical-align: top;\n",
       "    }\n",
       "\n",
       "    .dataframe thead th {\n",
       "        text-align: right;\n",
       "    }\n",
       "</style>\n",
       "<table border=\"1\" class=\"dataframe\">\n",
       "  <thead>\n",
       "    <tr style=\"text-align: right;\">\n",
       "      <th></th>\n",
       "      <th>길이</th>\n",
       "      <th>높이</th>\n",
       "      <th>두께</th>\n",
       "      <th>길이^2</th>\n",
       "      <th>길이 높이</th>\n",
       "      <th>길이 두께</th>\n",
       "      <th>높이^2</th>\n",
       "      <th>높이 두께</th>\n",
       "      <th>두께^2</th>\n",
       "    </tr>\n",
       "  </thead>\n",
       "  <tbody>\n",
       "    <tr>\n",
       "      <th>0</th>\n",
       "      <td>8.4</td>\n",
       "      <td>2.11</td>\n",
       "      <td>1.41</td>\n",
       "      <td>70.56</td>\n",
       "      <td>17.724</td>\n",
       "      <td>11.844</td>\n",
       "      <td>4.4521</td>\n",
       "      <td>2.9751</td>\n",
       "      <td>1.9881</td>\n",
       "    </tr>\n",
       "    <tr>\n",
       "      <th>1</th>\n",
       "      <td>13.7</td>\n",
       "      <td>3.53</td>\n",
       "      <td>2.00</td>\n",
       "      <td>187.69</td>\n",
       "      <td>48.361</td>\n",
       "      <td>27.400</td>\n",
       "      <td>12.4609</td>\n",
       "      <td>7.0600</td>\n",
       "      <td>4.0000</td>\n",
       "    </tr>\n",
       "    <tr>\n",
       "      <th>2</th>\n",
       "      <td>15.0</td>\n",
       "      <td>3.82</td>\n",
       "      <td>2.43</td>\n",
       "      <td>225.00</td>\n",
       "      <td>57.300</td>\n",
       "      <td>36.450</td>\n",
       "      <td>14.5924</td>\n",
       "      <td>9.2826</td>\n",
       "      <td>5.9049</td>\n",
       "    </tr>\n",
       "    <tr>\n",
       "      <th>3</th>\n",
       "      <td>16.2</td>\n",
       "      <td>4.59</td>\n",
       "      <td>2.63</td>\n",
       "      <td>262.44</td>\n",
       "      <td>74.358</td>\n",
       "      <td>42.606</td>\n",
       "      <td>21.0681</td>\n",
       "      <td>12.0717</td>\n",
       "      <td>6.9169</td>\n",
       "    </tr>\n",
       "    <tr>\n",
       "      <th>4</th>\n",
       "      <td>17.4</td>\n",
       "      <td>4.59</td>\n",
       "      <td>2.94</td>\n",
       "      <td>302.76</td>\n",
       "      <td>79.866</td>\n",
       "      <td>51.156</td>\n",
       "      <td>21.0681</td>\n",
       "      <td>13.4946</td>\n",
       "      <td>8.6436</td>\n",
       "    </tr>\n",
       "  </tbody>\n",
       "</table>\n",
       "</div>"
      ],
      "text/plain": [
       "     길이    높이    두께    길이^2   길이 높이   길이 두께     높이^2    높이 두께    두께^2\n",
       "0   8.4  2.11  1.41   70.56  17.724  11.844   4.4521   2.9751  1.9881\n",
       "1  13.7  3.53  2.00  187.69  48.361  27.400  12.4609   7.0600  4.0000\n",
       "2  15.0  3.82  2.43  225.00  57.300  36.450  14.5924   9.2826  5.9049\n",
       "3  16.2  4.59  2.63  262.44  74.358  42.606  21.0681  12.0717  6.9169\n",
       "4  17.4  4.59  2.94  302.76  79.866  51.156  21.0681  13.4946  8.6436"
      ]
     },
     "execution_count": 24,
     "metadata": {},
     "output_type": "execute_result"
    }
   ],
   "source": [
    "x = helper.convertPoly(origin[['길이', '높이', '두께']])\n",
    "x.head()"
   ]
  },
  {
   "cell_type": "markdown",
   "metadata": {},
   "source": [
    "#### 훈련 데이터와 검증 데이터로 분리"
   ]
  },
  {
   "cell_type": "code",
   "execution_count": 25,
   "metadata": {},
   "outputs": [
    {
     "data": {
      "text/plain": [
       "((39, 9), (17, 9), (39, 1), (17, 1))"
      ]
     },
     "execution_count": 25,
     "metadata": {},
     "output_type": "execute_result"
    }
   ],
   "source": [
    "x_train, x_test, y_train, y_test =  train_test_split(x, origin[['무게']], \n",
    "                                                     test_size = 0.3,\n",
    "                                                     random_state = 123)\n",
    "x_train.shape, x_test.shape, y_train.shape, y_test.shape"
   ]
  },
  {
   "cell_type": "markdown",
   "metadata": {},
   "source": [
    "- 이 예제 또한 데이터가 많지 않아서 과적합이 일어날 것이다.\n",
    "- 우리가 실제에서는 최소한 100배 (-> 5000개), 1000배 (-> 5만개) 이상의 양이 되는 데이터를 분석하는 것이 이상적이다. (몇 만권 이상의 데이터로 놀아야 됨)"
   ]
  },
  {
   "cell_type": "code",
   "execution_count": 26,
   "metadata": {},
   "outputs": [
    {
     "name": "stdout",
     "output_type": "stream",
     "text": [
      "39\n"
     ]
    },
    {
     "data": {
      "text/html": [
       "<div>\n",
       "<style scoped>\n",
       "    .dataframe tbody tr th:only-of-type {\n",
       "        vertical-align: middle;\n",
       "    }\n",
       "\n",
       "    .dataframe tbody tr th {\n",
       "        vertical-align: top;\n",
       "    }\n",
       "\n",
       "    .dataframe thead th {\n",
       "        text-align: right;\n",
       "    }\n",
       "</style>\n",
       "<table border=\"1\" class=\"dataframe\">\n",
       "  <thead>\n",
       "    <tr style=\"text-align: right;\">\n",
       "      <th></th>\n",
       "      <th>길이</th>\n",
       "      <th>높이</th>\n",
       "      <th>두께</th>\n",
       "      <th>길이^2</th>\n",
       "      <th>길이 높이</th>\n",
       "      <th>길이 두께</th>\n",
       "      <th>높이^2</th>\n",
       "      <th>높이 두께</th>\n",
       "      <th>두께^2</th>\n",
       "    </tr>\n",
       "  </thead>\n",
       "  <tbody>\n",
       "    <tr>\n",
       "      <th>12</th>\n",
       "      <td>21.0</td>\n",
       "      <td>5.69</td>\n",
       "      <td>3.67</td>\n",
       "      <td>441.00</td>\n",
       "      <td>119.490</td>\n",
       "      <td>77.070</td>\n",
       "      <td>32.3761</td>\n",
       "      <td>20.8823</td>\n",
       "      <td>13.4689</td>\n",
       "    </tr>\n",
       "    <tr>\n",
       "      <th>47</th>\n",
       "      <td>40.0</td>\n",
       "      <td>11.93</td>\n",
       "      <td>7.11</td>\n",
       "      <td>1600.00</td>\n",
       "      <td>477.200</td>\n",
       "      <td>284.400</td>\n",
       "      <td>142.3249</td>\n",
       "      <td>84.8223</td>\n",
       "      <td>50.5521</td>\n",
       "    </tr>\n",
       "    <tr>\n",
       "      <th>30</th>\n",
       "      <td>27.3</td>\n",
       "      <td>8.32</td>\n",
       "      <td>5.14</td>\n",
       "      <td>745.29</td>\n",
       "      <td>227.136</td>\n",
       "      <td>140.322</td>\n",
       "      <td>69.2224</td>\n",
       "      <td>42.7648</td>\n",
       "      <td>26.4196</td>\n",
       "    </tr>\n",
       "    <tr>\n",
       "      <th>1</th>\n",
       "      <td>13.7</td>\n",
       "      <td>3.53</td>\n",
       "      <td>2.00</td>\n",
       "      <td>187.69</td>\n",
       "      <td>48.361</td>\n",
       "      <td>27.400</td>\n",
       "      <td>12.4609</td>\n",
       "      <td>7.0600</td>\n",
       "      <td>4.0000</td>\n",
       "    </tr>\n",
       "    <tr>\n",
       "      <th>6</th>\n",
       "      <td>18.7</td>\n",
       "      <td>5.20</td>\n",
       "      <td>3.12</td>\n",
       "      <td>349.69</td>\n",
       "      <td>97.240</td>\n",
       "      <td>58.344</td>\n",
       "      <td>27.0400</td>\n",
       "      <td>16.2240</td>\n",
       "      <td>9.7344</td>\n",
       "    </tr>\n",
       "  </tbody>\n",
       "</table>\n",
       "</div>"
      ],
      "text/plain": [
       "      길이     높이    두께     길이^2    길이 높이    길이 두께      높이^2    높이 두께     두께^2\n",
       "12  21.0   5.69  3.67   441.00  119.490   77.070   32.3761  20.8823  13.4689\n",
       "47  40.0  11.93  7.11  1600.00  477.200  284.400  142.3249  84.8223  50.5521\n",
       "30  27.3   8.32  5.14   745.29  227.136  140.322   69.2224  42.7648  26.4196\n",
       "1   13.7   3.53  2.00   187.69   48.361   27.400   12.4609   7.0600   4.0000\n",
       "6   18.7   5.20  3.12   349.69   97.240   58.344   27.0400  16.2240   9.7344"
      ]
     },
     "execution_count": 26,
     "metadata": {},
     "output_type": "execute_result"
    }
   ],
   "source": [
    "print(len(x_train))\n",
    "x_train.head()"
   ]
  },
  {
   "cell_type": "code",
   "execution_count": 27,
   "metadata": {},
   "outputs": [
    {
     "name": "stdout",
     "output_type": "stream",
     "text": [
      "17\n"
     ]
    },
    {
     "data": {
      "text/html": [
       "<div>\n",
       "<style scoped>\n",
       "    .dataframe tbody tr th:only-of-type {\n",
       "        vertical-align: middle;\n",
       "    }\n",
       "\n",
       "    .dataframe tbody tr th {\n",
       "        vertical-align: top;\n",
       "    }\n",
       "\n",
       "    .dataframe thead th {\n",
       "        text-align: right;\n",
       "    }\n",
       "</style>\n",
       "<table border=\"1\" class=\"dataframe\">\n",
       "  <thead>\n",
       "    <tr style=\"text-align: right;\">\n",
       "      <th></th>\n",
       "      <th>길이</th>\n",
       "      <th>높이</th>\n",
       "      <th>두께</th>\n",
       "      <th>길이^2</th>\n",
       "      <th>길이 높이</th>\n",
       "      <th>길이 두께</th>\n",
       "      <th>높이^2</th>\n",
       "      <th>높이 두께</th>\n",
       "      <th>두께^2</th>\n",
       "    </tr>\n",
       "  </thead>\n",
       "  <tbody>\n",
       "    <tr>\n",
       "      <th>18</th>\n",
       "      <td>22.0</td>\n",
       "      <td>5.52</td>\n",
       "      <td>4.00</td>\n",
       "      <td>484.00</td>\n",
       "      <td>121.440</td>\n",
       "      <td>88.000</td>\n",
       "      <td>30.4704</td>\n",
       "      <td>22.0800</td>\n",
       "      <td>16.0000</td>\n",
       "    </tr>\n",
       "    <tr>\n",
       "      <th>13</th>\n",
       "      <td>21.3</td>\n",
       "      <td>6.38</td>\n",
       "      <td>3.53</td>\n",
       "      <td>453.69</td>\n",
       "      <td>135.894</td>\n",
       "      <td>75.189</td>\n",
       "      <td>40.7044</td>\n",
       "      <td>22.5214</td>\n",
       "      <td>12.4609</td>\n",
       "    </tr>\n",
       "    <tr>\n",
       "      <th>50</th>\n",
       "      <td>40.0</td>\n",
       "      <td>11.14</td>\n",
       "      <td>6.63</td>\n",
       "      <td>1600.00</td>\n",
       "      <td>445.600</td>\n",
       "      <td>265.200</td>\n",
       "      <td>124.0996</td>\n",
       "      <td>73.8582</td>\n",
       "      <td>43.9569</td>\n",
       "    </tr>\n",
       "    <tr>\n",
       "      <th>26</th>\n",
       "      <td>24.6</td>\n",
       "      <td>6.73</td>\n",
       "      <td>4.17</td>\n",
       "      <td>605.16</td>\n",
       "      <td>165.558</td>\n",
       "      <td>102.582</td>\n",
       "      <td>45.2929</td>\n",
       "      <td>28.0641</td>\n",
       "      <td>17.3889</td>\n",
       "    </tr>\n",
       "    <tr>\n",
       "      <th>41</th>\n",
       "      <td>36.0</td>\n",
       "      <td>10.61</td>\n",
       "      <td>6.74</td>\n",
       "      <td>1296.00</td>\n",
       "      <td>381.960</td>\n",
       "      <td>242.640</td>\n",
       "      <td>112.5721</td>\n",
       "      <td>71.5114</td>\n",
       "      <td>45.4276</td>\n",
       "    </tr>\n",
       "  </tbody>\n",
       "</table>\n",
       "</div>"
      ],
      "text/plain": [
       "      길이     높이    두께     길이^2    길이 높이    길이 두께      높이^2    높이 두께     두께^2\n",
       "18  22.0   5.52  4.00   484.00  121.440   88.000   30.4704  22.0800  16.0000\n",
       "13  21.3   6.38  3.53   453.69  135.894   75.189   40.7044  22.5214  12.4609\n",
       "50  40.0  11.14  6.63  1600.00  445.600  265.200  124.0996  73.8582  43.9569\n",
       "26  24.6   6.73  4.17   605.16  165.558  102.582   45.2929  28.0641  17.3889\n",
       "41  36.0  10.61  6.74  1296.00  381.960  242.640  112.5721  71.5114  45.4276"
      ]
     },
     "execution_count": 27,
     "metadata": {},
     "output_type": "execute_result"
    }
   ],
   "source": [
    "print(len(x_test))\n",
    "x_test.head()"
   ]
  },
  {
   "cell_type": "code",
   "execution_count": 28,
   "metadata": {},
   "outputs": [
    {
     "name": "stdout",
     "output_type": "stream",
     "text": [
      "39\n"
     ]
    },
    {
     "data": {
      "text/html": [
       "<div>\n",
       "<style scoped>\n",
       "    .dataframe tbody tr th:only-of-type {\n",
       "        vertical-align: middle;\n",
       "    }\n",
       "\n",
       "    .dataframe tbody tr th {\n",
       "        vertical-align: top;\n",
       "    }\n",
       "\n",
       "    .dataframe thead th {\n",
       "        text-align: right;\n",
       "    }\n",
       "</style>\n",
       "<table border=\"1\" class=\"dataframe\">\n",
       "  <thead>\n",
       "    <tr style=\"text-align: right;\">\n",
       "      <th></th>\n",
       "      <th>무게</th>\n",
       "    </tr>\n",
       "  </thead>\n",
       "  <tbody>\n",
       "    <tr>\n",
       "      <th>12</th>\n",
       "      <td>125.0</td>\n",
       "    </tr>\n",
       "    <tr>\n",
       "      <th>47</th>\n",
       "      <td>850.0</td>\n",
       "    </tr>\n",
       "    <tr>\n",
       "      <th>30</th>\n",
       "      <td>300.0</td>\n",
       "    </tr>\n",
       "    <tr>\n",
       "      <th>1</th>\n",
       "      <td>32.0</td>\n",
       "    </tr>\n",
       "    <tr>\n",
       "      <th>6</th>\n",
       "      <td>78.0</td>\n",
       "    </tr>\n",
       "  </tbody>\n",
       "</table>\n",
       "</div>"
      ],
      "text/plain": [
       "       무게\n",
       "12  125.0\n",
       "47  850.0\n",
       "30  300.0\n",
       "1    32.0\n",
       "6    78.0"
      ]
     },
     "execution_count": 28,
     "metadata": {},
     "output_type": "execute_result"
    }
   ],
   "source": [
    "print(len(y_train))\n",
    "y_train.head()"
   ]
  },
  {
   "cell_type": "code",
   "execution_count": 29,
   "metadata": {},
   "outputs": [
    {
     "name": "stdout",
     "output_type": "stream",
     "text": [
      "17\n"
     ]
    },
    {
     "data": {
      "text/html": [
       "<div>\n",
       "<style scoped>\n",
       "    .dataframe tbody tr th:only-of-type {\n",
       "        vertical-align: middle;\n",
       "    }\n",
       "\n",
       "    .dataframe tbody tr th {\n",
       "        vertical-align: top;\n",
       "    }\n",
       "\n",
       "    .dataframe thead th {\n",
       "        text-align: right;\n",
       "    }\n",
       "</style>\n",
       "<table border=\"1\" class=\"dataframe\">\n",
       "  <thead>\n",
       "    <tr style=\"text-align: right;\">\n",
       "      <th></th>\n",
       "      <th>무게</th>\n",
       "    </tr>\n",
       "  </thead>\n",
       "  <tbody>\n",
       "    <tr>\n",
       "      <th>18</th>\n",
       "      <td>110.0</td>\n",
       "    </tr>\n",
       "    <tr>\n",
       "      <th>13</th>\n",
       "      <td>130.0</td>\n",
       "    </tr>\n",
       "    <tr>\n",
       "      <th>50</th>\n",
       "      <td>820.0</td>\n",
       "    </tr>\n",
       "    <tr>\n",
       "      <th>26</th>\n",
       "      <td>188.0</td>\n",
       "    </tr>\n",
       "    <tr>\n",
       "      <th>41</th>\n",
       "      <td>700.0</td>\n",
       "    </tr>\n",
       "  </tbody>\n",
       "</table>\n",
       "</div>"
      ],
      "text/plain": [
       "       무게\n",
       "18  110.0\n",
       "13  130.0\n",
       "50  820.0\n",
       "26  188.0\n",
       "41  700.0"
      ]
     },
     "execution_count": 29,
     "metadata": {},
     "output_type": "execute_result"
    }
   ],
   "source": [
    "print(len(y_test))\n",
    "y_test.head()"
   ]
  },
  {
   "cell_type": "markdown",
   "metadata": {},
   "source": [
    "### 3) 회귀 분석 수행"
   ]
  },
  {
   "cell_type": "code",
   "execution_count": 30,
   "metadata": {},
   "outputs": [
    {
     "name": "stdout",
     "output_type": "stream",
     "text": [
      "계수:  [[  37.41440758 -122.88132493  -97.18063962   -6.02888567    6.3426341\n",
      "    55.66996142   49.79134062 -170.93573464   -6.00162745]]\n",
      "절편:  [47.16932806]\n",
      "훈련 데이터 설명력:  0.9902576456970869\n",
      "검증 데이터 설명력:  0.9004397794100211\n"
     ]
    }
   ],
   "source": [
    "my_model = LinearRegression()\n",
    "my_fit = my_model.fit(x_train, y_train)\n",
    "\n",
    "print('계수: ', my_fit.coef_)\n",
    "print('절편: ', my_fit.intercept_)\n",
    "print('훈련 데이터 설명력: ', my_fit.score(x_train, y_train))\n",
    "print('검증 데이터 설명력: ', my_fit.score(x_test, y_test))"
   ]
  },
  {
   "cell_type": "markdown",
   "metadata": {},
   "source": [
    "- 통계 분석 후 보통 검정 할 때 이 독립변수들이 통계적으로 유의한지(p-value) 혹은 다중공선성의 여부를 확인하나 머신러닝에서는 안 본다 (scikit-learn으로 확인하는 방법도 없다; 그 값들을 뽑아주는 기능도 없다; 만약에 원한다면 직접 계산해야 된다)\n",
    "- 머신러닝은 스스로 많은 검정을 거치기 도중 통계적으로 유의하지 않거나 다중공선성인 경우는 알아서 거르기 때문이다.\n",
    "> 통계분석의 결과 보고와 머신러닝의 결과 보고 방식의 차이가 있다\n",
    "### 4) 회귀식 추정"
   ]
  },
  {
   "cell_type": "code",
   "execution_count": 31,
   "metadata": {},
   "outputs": [
    {
     "data": {
      "text/plain": [
       "'y = 37.41 * 길이 + -122.88 * 높이 + -97.18 * 두께 + -6.03 * 길이^2 + 6.34 * 길이 높이 + 55.67 * 길이 두께 + 49.79 * 높이^2 + -170.94 * 높이 두께 + -6.0 * 두께^2 + 47.17'"
      ]
     },
     "execution_count": 31,
     "metadata": {},
     "output_type": "execute_result"
    }
   ],
   "source": [
    "feature_names = x.columns\n",
    "\n",
    "expr = []\n",
    "for i, v in enumerate(feature_names):\n",
    "    expr.append(f\"{round(my_fit.coef_[0][i], 2)} * {v}\")\n",
    "\n",
    "expr = ' + '.join(expr)\n",
    "expr = f\"y = {expr} + {round(my_fit.intercept_[0], 2)}\"\n",
    "expr"
   ]
  },
  {
   "cell_type": "markdown",
   "metadata": {},
   "source": [
    "### 5) 예측값 생성\n",
    "#### 훈련 데이터에 대한 예측값"
   ]
  },
  {
   "cell_type": "code",
   "execution_count": 32,
   "metadata": {},
   "outputs": [
    {
     "data": {
      "text/plain": [
       "array([ 128.33370832,  883.83256839,  283.87720565,   21.77799523,\n",
       "         75.83145366,  216.99327745,  938.39657569,  836.74358002,\n",
       "        236.24624195, 1059.06921078,  222.57260812,  131.1820701 ,\n",
       "        520.06151948,  879.22572679,   85.49063898,  169.39734992,\n",
       "       1091.11155683,   38.96295379,   67.97550628,  131.18728322,\n",
       "        869.36496752,  301.47510957,  126.61679479,  914.5832725 ,\n",
       "        165.44141159,  671.60388692, 1044.70953338,   52.54927901,\n",
       "        234.12069536,  270.70141026,  172.25433459,  691.90023498,\n",
       "        140.65938096,  128.43625012,  587.73188249,  259.38435621,\n",
       "        223.86802028,   43.34167721,  704.4884716 ])"
      ]
     },
     "execution_count": 32,
     "metadata": {},
     "output_type": "execute_result"
    }
   ],
   "source": [
    "y_train_pred = my_fit.predict(x_train)\n",
    "y_train_pred = y_train_pred.reshape(-1) # 리스트 안에 있는 것들을 밖으로 끄집어냄\n",
    "y_train_pred"
   ]
  },
  {
   "cell_type": "markdown",
   "metadata": {},
   "source": [
    "#### 검증 데이터에 대한 예측값"
   ]
  },
  {
   "cell_type": "code",
   "execution_count": 33,
   "metadata": {},
   "outputs": [
    {
     "data": {
      "text/plain": [
       "array([ 201.35925469,  131.74411912,  764.54132634,  201.37347997,\n",
       "        660.89831696,  141.00557179, 1019.15355072,  285.76056495,\n",
       "        438.67935317,  141.57027174,  688.68240944,  112.87613858,\n",
       "         12.7130393 ,   54.17763473,  122.18773841,  153.76869217,\n",
       "         82.44640206])"
      ]
     },
     "execution_count": 33,
     "metadata": {},
     "output_type": "execute_result"
    }
   ],
   "source": [
    "y_test_pred = my_fit.predict(x_test)\n",
    "y_test_pred = y_test_pred.reshape(-1)\n",
    "y_test_pred"
   ]
  },
  {
   "cell_type": "markdown",
   "metadata": {},
   "source": [
    "### 6) 학습 결과 시각화\n",
    "- 학습에 사용한(훈련) 데이터와 예측값의 차이를 시각화(ax1)\n",
    "- 검증용 데이터와 예측값의 차이를 시각화 (ax2)"
   ]
  },
  {
   "cell_type": "code",
   "execution_count": 34,
   "metadata": {},
   "outputs": [
    {
     "data": {
      "image/png": "[encoded data removed]",
      "text/plain": [
       "<Figure size 1500x500 with 2 Axes>"
      ]
     },
     "metadata": {},
     "output_type": "display_data"
    }
   ],
   "source": [
    "fig, (ax1, ax2) = plt.subplots(1, 2, figsize = (15, 5))\n",
    "\n",
    "# 훈련 데이터와 예측값의 차이를 시각화 \n",
    "# seaborn.regplot을 쓰면 직선의 추세선만 나오므로 2차 방적식의 추세선은 직접 그려야 된다.\n",
    "sb.scatterplot(x=x_train['길이'], # 길이에 따른\n",
    "               y=y_train['무게'], # 무게\n",
    "               label='train data',\n",
    "               ax=ax1)\n",
    "sb.scatterplot(x=x_train['길이'], # 길이에 따른\n",
    "               y=y_train_pred,   # 예측값\n",
    "               label='train predict',\n",
    "               ax=ax1)\n",
    "ax1.set_title('훈련 데이터')\n",
    "ax1.legend()\n",
    "ax1.grid()\n",
    "\n",
    "# 검증용 데이터와 예측값의 차이를 시각화\n",
    "sb.scatterplot(x=x_test['길이'],    # 길이에 따른\n",
    "               y=y_test['무게'],    # 무게\n",
    "               label='test data',\n",
    "               ax=ax2)\n",
    "sb.scatterplot(x=x_test['길이'],    # 길이에 따른\n",
    "               y=y_test_pred,      # 예측값\n",
    "               label='test predict',\n",
    "               ax=ax2)\n",
    "ax2.set_title('검증 데이터')\n",
    "ax2.legend()\n",
    "ax2.grid()\n",
    "\n",
    "plt.show()\n",
    "plt.close()"
   ]
  },
  {
   "cell_type": "markdown",
   "metadata": {},
   "source": [
    "> 거의 곡선으로 되고 둘 사이 큰 차이가 없다\n",
    "> 앞에서는 어느정도 맞지만 뒤에 가서는 조금 차이가 나는 것(벌어지는 것)을 볼 수 있다: 훈련용 데이터와 예측값, 검증 데이터와 예측값\n",
    "### 7) 길이에 따른 무게에 대한 추세선\n",
    "- seaborn의 `regplot` 함수는 `직선 형태의 추세선만 제공`하기 때문에 `2차식을 표현하는 추세선은 직접 구현`해야 함\n",
    "#### x축 변수\n",
    "- `변수가 아무리 많아도` (i.e., 길이, 높이, 두께, 길이^2, 길이 높이, 길이 두께, 높이^2, 높이 두께, 두께^2) 독립 변수에 대한 선택은 그 중 `아무 하나만 사용`하면 된다 (그래프에서는 동일하기에; 여차하면 다 해봐도 됨).\n",
    "- 이 예제에서는 '길이'의 x축 좌표들을 사용하여 추세선을 그릴 것임"
   ]
  },
  {
   "cell_type": "code",
   "execution_count": 35,
   "metadata": {},
   "outputs": [
    {
     "data": {
      "text/plain": [
       "12    21.0\n",
       "47    40.0\n",
       "30    27.3\n",
       "1     13.7\n",
       "6     18.7\n",
       "Name: 길이, dtype: float64"
      ]
     },
     "execution_count": 35,
     "metadata": {},
     "output_type": "execute_result"
    }
   ],
   "source": [
    "x = x_train['길이']\n",
    "x.head()"
   ]
  },
  {
   "cell_type": "markdown",
   "metadata": {},
   "source": [
    "#### y축 변수"
   ]
  },
  {
   "cell_type": "code",
   "execution_count": 36,
   "metadata": {},
   "outputs": [
    {
     "data": {
      "text/plain": [
       "12    125.0\n",
       "47    850.0\n",
       "30    300.0\n",
       "1      32.0\n",
       "6      78.0\n",
       "Name: 무게, dtype: float64"
      ]
     },
     "execution_count": 36,
     "metadata": {},
     "output_type": "execute_result"
    }
   ],
   "source": [
    "y = y_train['무게']\n",
    "y.head()"
   ]
  },
  {
   "cell_type": "markdown",
   "metadata": {},
   "source": [
    "#### x에 따라 y값이 변하는 2차 방정식 생성\n",
    "- `numpy.polyfit(x축변수, y축변수, n)`\n",
    "    - n = 차수 (예, 2)\n",
    "    - n = 1로 주면 1차 방정식이 생성된다.\n",
    "        - 이 경우 결과값에서 첫번째 값은 기울기, 두번째 값은 절편\n",
    "    - n = 2로 주면 2차 방정식이 생성된다.\n",
    "        - 이 경우 결과값에서 첫번째 값은 x^2, 두번째 값은 x, 마지막 값은 절편"
   ]
  },
  {
   "cell_type": "code",
   "execution_count": 46,
   "metadata": {},
   "outputs": [
    {
     "data": {
      "text/plain": [
       "array([  0.97065504, -22.2971958 , 148.48575846])"
      ]
     },
     "execution_count": 46,
     "metadata": {},
     "output_type": "execute_result"
    }
   ],
   "source": [
    "coeff = np.polyfit(x, y, 2)\n",
    "coeff"
   ]
  },
  {
   "cell_type": "markdown",
   "metadata": {},
   "source": [
    "#### 평면좌표 상에서의 `가상의 x값 생성`\n",
    "- numpy.linespace(x의최솟값, x의최대값, `n`)\n",
    "    - x의 최솟값부터 최대값 사이의 범위를 `n등분` 해서 똑같은 간격으로 x값 생성"
   ]
  },
  {
   "cell_type": "code",
   "execution_count": 38,
   "metadata": {},
   "outputs": [
    {
     "data": {
      "text/plain": [
       "array([13.7       , 14.00606061, 14.31212121, 14.61818182, 14.92424242,\n",
       "       15.23030303, 15.53636364, 15.84242424, 16.14848485, 16.45454545,\n",
       "       16.76060606, 17.06666667, 17.37272727, 17.67878788, 17.98484848,\n",
       "       18.29090909, 18.5969697 , 18.9030303 , 19.20909091, 19.51515152,\n",
       "       19.82121212, 20.12727273, 20.43333333, 20.73939394, 21.04545455,\n",
       "       21.35151515, 21.65757576, 21.96363636, 22.26969697, 22.57575758,\n",
       "       22.88181818, 23.18787879, 23.49393939, 23.8       , 24.10606061,\n",
       "       24.41212121, 24.71818182, 25.02424242, 25.33030303, 25.63636364,\n",
       "       25.94242424, 26.24848485, 26.55454545, 26.86060606, 27.16666667,\n",
       "       27.47272727, 27.77878788, 28.08484848, 28.39090909, 28.6969697 ,\n",
       "       29.0030303 , 29.30909091, 29.61515152, 29.92121212, 30.22727273,\n",
       "       30.53333333, 30.83939394, 31.14545455, 31.45151515, 31.75757576,\n",
       "       32.06363636, 32.36969697, 32.67575758, 32.98181818, 33.28787879,\n",
       "       33.59393939, 33.9       , 34.20606061, 34.51212121, 34.81818182,\n",
       "       35.12424242, 35.43030303, 35.73636364, 36.04242424, 36.34848485,\n",
       "       36.65454545, 36.96060606, 37.26666667, 37.57272727, 37.87878788,\n",
       "       38.18484848, 38.49090909, 38.7969697 , 39.1030303 , 39.40909091,\n",
       "       39.71515152, 40.02121212, 40.32727273, 40.63333333, 40.93939394,\n",
       "       41.24545455, 41.55151515, 41.85757576, 42.16363636, 42.46969697,\n",
       "       42.77575758, 43.08181818, 43.38787879, 43.69393939, 44.        ])"
      ]
     },
     "execution_count": 38,
     "metadata": {},
     "output_type": "execute_result"
    }
   ],
   "source": [
    "Vtrand = np.linspace(x.min(), x.max(), 100)\n",
    "Vtrand"
   ]
  },
  {
   "cell_type": "markdown",
   "metadata": {},
   "source": [
    "#### 생성된 x값에 따른 `y값 생성`"
   ]
  },
  {
   "cell_type": "code",
   "execution_count": 39,
   "metadata": {},
   "outputs": [
    {
     "data": {
      "text/plain": [
       "array([  28.5844326 ,   29.67680903,   30.97005155,   32.46416016,\n",
       "         34.15913486,   36.05497564,   38.15168251,   40.44925547,\n",
       "         42.94769451,   45.64699964,   48.54717086,   51.64820817,\n",
       "         54.95011156,   58.45288104,   62.1565166 ,   66.06101826,\n",
       "         70.166386  ,   74.47261982,   78.97971974,   83.68768574,\n",
       "         88.59651783,   93.706216  ,   99.01678027,  104.52821062,\n",
       "        110.24050705,  116.15366958,  122.26769819,  128.58259289,\n",
       "        135.09835367,  141.81498054,  148.7324735 ,  155.85083255,\n",
       "        163.17005768,  170.6901489 ,  178.41110621,  186.33292961,\n",
       "        194.45561909,  202.77917466,  211.30359631,  220.02888405,\n",
       "        228.95503788,  238.0820578 ,  247.40994381,  256.9386959 ,\n",
       "        266.66831407,  276.59879834,  286.73014869,  297.06236513,\n",
       "        307.59544766,  318.32939627,  329.26421097,  340.39989176,\n",
       "        351.73643864,  363.2738516 ,  375.01213065,  386.95127578,\n",
       "        399.091287  ,  411.43216431,  423.97390771,  436.7165172 ,\n",
       "        449.65999277,  462.80433443,  476.14954217,  489.695616  ,\n",
       "        503.44255592,  517.39036193,  531.53903402,  545.8885722 ,\n",
       "        560.43897647,  575.19024683,  590.14238327,  605.2953858 ,\n",
       "        620.64925441,  636.20398912,  651.95958991,  667.91605679,\n",
       "        684.07338975,  700.4315888 ,  716.99065394,  733.75058517,\n",
       "        750.71138248,  767.87304588,  785.23557536,  802.79897094,\n",
       "        820.5632326 ,  838.52836035,  856.69435418,  875.0612141 ,\n",
       "        893.62894011,  912.39753221,  931.36699039,  950.53731466,\n",
       "        969.90850502,  989.48056147, 1009.253484  , 1029.22727262,\n",
       "       1049.40192732, 1069.77744811, 1090.35383499, 1111.13108796])"
      ]
     },
     "execution_count": 39,
     "metadata": {},
     "output_type": "execute_result"
    }
   ],
   "source": [
    "Ttrand = coeff[0] * Vtrand**2 + coeff[1] * Vtrand + coeff[2]\n",
    "Ttrand"
   ]
  },
  {
   "cell_type": "markdown",
   "metadata": {},
   "source": [
    "#### `시각화`하여 확인"
   ]
  },
  {
   "cell_type": "code",
   "execution_count": 40,
   "metadata": {},
   "outputs": [
    {
     "data": {
      "image/png": "[encoded data removed]",
      "text/plain": [
       "<Figure size 700x400 with 1 Axes>"
      ]
     },
     "metadata": {},
     "output_type": "display_data"
    }
   ],
   "source": [
    "plt.figure(figsize = (7, 4))\n",
    "sb.scatterplot(x=x_train['길이'], y=y_train['무게'], s=10) # s는 marker의 사이즈 설정하는 파라미터\n",
    "sb.lineplot(x=Vtrand, y=Ttrand, color = 'red', size = 10)\n",
    "plt.title('훈련 데이터, train data')\n",
    "plt.grid()\n",
    "plt.show()\n",
    "plt.close()"
   ]
  },
  {
   "cell_type": "markdown",
   "metadata": {},
   "source": [
    "#### 모듈에 구현해 둔 추세선생성 함수 활용\n",
    "- x, y = `getTrend(x, y, degree=2, value_count=100)`"
   ]
  },
  {
   "cell_type": "code",
   "execution_count": 41,
   "metadata": {},
   "outputs": [
    {
     "data": {
      "image/png": "[encoded data removed]",
      "text/plain": [
       "<Figure size 1500x500 with 2 Axes>"
      ]
     },
     "metadata": {},
     "output_type": "display_data"
    }
   ],
   "source": [
    "fig, (ax1, ax2) = plt.subplots(1, 2, figsize=(15, 5))\n",
    "\n",
    "# 학습에 사용한 관측치 시각화\n",
    "sb.scatterplot(x=x_train['길이'], y=y_train['무게'], color = 'blue', label='train data', ax=ax1)\n",
    "\n",
    "# 학습에 사용한 데이터에 추세선\n",
    "x, y = helper.getTrend(x_train['길이'], y_train['무게'])\n",
    "sb.lineplot(x=x, y=y, color='blue', ax=ax1)\n",
    "\n",
    "# 학습 데이터에 따른 추정치\n",
    "sb.scatterplot(x=x_train['길이'], y=y_train_pred, color = 'red', label='train predict', ax=ax1)\n",
    "\n",
    "# 추정치에 대한 추세선\n",
    "x, y = helper.getTrend(x_train['길이'], y_train_pred)\n",
    "sb.lineplot(x=x, y=y, color='red', ax=ax1)\n",
    "\n",
    "ax1.set_title(\"훈련 데이터\")\n",
    "ax1.legend()\n",
    "ax1.grid()\n",
    "\n",
    "# 검증데이터 시각화\n",
    "sb.scatterplot(x=x_test['길이'], y=y_test['무게'], color = 'lightblue', label='test data', ax=ax2)\n",
    "\n",
    "# 검증데이터의 추세선\n",
    "x, y = helper.getTrend(x_test['길이'], y_test['무게'])\n",
    "sb.lineplot(x=x, y=y, color='lightblue', ax=ax2)\n",
    "\n",
    "# 검증데이터에 대한 추정치 시각화\n",
    "sb.scatterplot(x=x_test['길이'], y=y_test_pred, color = 'pink', label='test predict', ax=ax2)\n",
    "\n",
    "# 검증데이터 추정치에 대한 추세선\n",
    "x, y = helper.getTrend(x_test['길이'], y_test_pred)\n",
    "sb.lineplot(x=x, y=y, color='pink', ax=ax2)\n",
    "\n",
    "ax2.set_title(\"검증 데이터\")\n",
    "ax2.legend()\n",
    "ax2.grid()\n",
    "\n",
    "plt.show()\n",
    "plt.close()"
   ]
  },
  {
   "cell_type": "markdown",
   "metadata": {},
   "source": [
    "> 훈련 데이터의 관측치와 추정치는 일치하나 검증 데이터의 값과 검증 데이터의 추정치에는 차이가 있다.\n",
    ">\n",
    "> `머신러닝`에서는 `검증 데이터의 값(관측치)`과 `검증 데이터의 추정치`의 각 `추세선 사이의 간격`을 `최대한 줄이는 방향`으로 모델을 만드려고 한다.\n",
    ">\n",
    "> 이때 `오차율`을 줄이려는 노력을 한다.\n",
    ">\n",
    "> 이 정도 사이의 간격은 (눈으로 보기에는) 괜찮은 모델이라고 볼 수 있다. (정확한 것은 오차율을 봐야 한다)"
   ]
  },
  {
   "cell_type": "markdown",
   "metadata": {},
   "source": [
    "#### 회귀분석 학습결과 그래프 모듈 기능 활용\n",
    "- `helper.regplot(파라미터)`\n",
    "- 훈련 데이터에 대한 단일 그래프"
   ]
  },
  {
   "cell_type": "code",
   "execution_count": 42,
   "metadata": {},
   "outputs": [
    {
     "data": {
      "image/png": "[encoded data removed]",
      "text/plain": [
       "<Figure size 1000x500 with 1 Axes>"
      ]
     },
     "metadata": {},
     "output_type": "display_data"
    }
   ],
   "source": [
    "helper.regplot(x_train['길이'],\n",
    "               y_train['무게'],\n",
    "               y_train_pred,\n",
    "               '훈련 데이터',\n",
    "               figsize = (10, 5))"
   ]
  },
  {
   "cell_type": "markdown",
   "metadata": {},
   "source": [
    "- 검증 데이터에 대한 단일 그래프"
   ]
  },
  {
   "cell_type": "code",
   "execution_count": 43,
   "metadata": {},
   "outputs": [
    {
     "data": {
      "image/png": "[encoded data removed]",
      "text/plain": [
       "<Figure size 1000x500 with 1 Axes>"
      ]
     },
     "metadata": {},
     "output_type": "display_data"
    }
   ],
   "source": [
    "helper.regplot(x_test['길이'],\n",
    "               y_test['무게'],\n",
    "               y_test_pred,\n",
    "               '검증 데이터',\n",
    "               figsize = (10, 5))"
   ]
  },
  {
   "cell_type": "markdown",
   "metadata": {},
   "source": [
    "- 훈련, 검증 데이터에 대한 서브 플롯"
   ]
  },
  {
   "cell_type": "code",
   "execution_count": 44,
   "metadata": {},
   "outputs": [
    {
     "data": {
      "image/png": "[encoded data removed]",
      "text/plain": [
       "<Figure size 2000x500 with 2 Axes>"
      ]
     },
     "metadata": {},
     "output_type": "display_data"
    }
   ],
   "source": [
    "helper.regplot(x_train['길이'], y_train['무게'], y_train_pred, \"훈련 데이터\", \n",
    "               x_test['길이'], y_test['무게'], y_test_pred, \"검증 데이터\", \n",
    "               figsize=(20, 5), save_path=\"다항회귀.png\")"
   ]
  }
 ],
 "metadata": {
  "kernelspec": {
   "display_name": "Python 3",
   "language": "python",
   "name": "python3"
  },
  "language_info": {
   "codemirror_mode": {
    "name": "ipython",
    "version": 3
   },
   "file_extension": ".py",
   "mimetype": "text/x-python",
   "name": "python",
   "nbconvert_exporter": "python",
   "pygments_lexer": "ipython3",
   "version": "3.9.13"
  },
  "orig_nbformat": 4
 },
 "nbformat": 4,
 "nbformat_minor": 2
}
