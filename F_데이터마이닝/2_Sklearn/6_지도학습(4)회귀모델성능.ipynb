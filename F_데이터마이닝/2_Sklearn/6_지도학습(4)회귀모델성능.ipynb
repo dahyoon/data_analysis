{
 "cells": [
  {
   "cell_type": "markdown",
   "metadata": {},
   "source": [
    "# 지도학습 (4) - 회귀모델 성능 측정 지표\n",
    "- 회귀분석을 통해 `예측 모델을 만들고` 해당 모델의 `성능을 파악`하기 위해 제동되는 사이킷런의 성능 측정 지표 모듈\n",
    "## 1. 작업 준비"
   ]
  },
  {
   "cell_type": "code",
   "execution_count": 3,
   "metadata": {},
   "outputs": [],
   "source": [
    "import sys\n",
    "sys.path.append('../../')\n",
    "import helper\n",
    "\n",
    "import numpy as np\n",
    "import seaborn as sb\n",
    "from pandas import read_excel, DataFrame\n",
    "from matplotlib import pyplot as pyplot\n",
    "\n",
    "from sklearn.linear_model import LinearRegression\n",
    "from sklearn.model_selection import train_test_split\n",
    "from sklearn.preprocessing import PolynomialFeatures\n",
    "\n",
    "# 성능 측정 지표 모듈\n",
    "from sklearn.metrics import r2_score, mean_absolute_error, mean_squared_error, mean_squared_log_error"
   ]
  },
  {
   "cell_type": "markdown",
   "metadata": {},
   "source": [
    "## 2. 자동차 속도에 따른 제동거리 회귀 모델\n",
    "### 데이터 가져오기"
   ]
  },
  {
   "cell_type": "code",
   "execution_count": 4,
   "metadata": {},
   "outputs": [
    {
     "data": {
      "text/html": [
       "<div>\n",
       "<style scoped>\n",
       "    .dataframe tbody tr th:only-of-type {\n",
       "        vertical-align: middle;\n",
       "    }\n",
       "\n",
       "    .dataframe tbody tr th {\n",
       "        vertical-align: top;\n",
       "    }\n",
       "\n",
       "    .dataframe thead th {\n",
       "        text-align: right;\n",
       "    }\n",
       "</style>\n",
       "<table border=\"1\" class=\"dataframe\">\n",
       "  <thead>\n",
       "    <tr style=\"text-align: right;\">\n",
       "      <th></th>\n",
       "      <th>speed</th>\n",
       "      <th>dist</th>\n",
       "    </tr>\n",
       "  </thead>\n",
       "  <tbody>\n",
       "    <tr>\n",
       "      <th>0</th>\n",
       "      <td>4</td>\n",
       "      <td>2</td>\n",
       "    </tr>\n",
       "    <tr>\n",
       "      <th>1</th>\n",
       "      <td>4</td>\n",
       "      <td>10</td>\n",
       "    </tr>\n",
       "    <tr>\n",
       "      <th>2</th>\n",
       "      <td>7</td>\n",
       "      <td>4</td>\n",
       "    </tr>\n",
       "    <tr>\n",
       "      <th>3</th>\n",
       "      <td>7</td>\n",
       "      <td>22</td>\n",
       "    </tr>\n",
       "    <tr>\n",
       "      <th>4</th>\n",
       "      <td>8</td>\n",
       "      <td>16</td>\n",
       "    </tr>\n",
       "  </tbody>\n",
       "</table>\n",
       "</div>"
      ],
      "text/plain": [
       "   speed  dist\n",
       "0      4     2\n",
       "1      4    10\n",
       "2      7     4\n",
       "3      7    22\n",
       "4      8    16"
      ]
     },
     "execution_count": 4,
     "metadata": {},
     "output_type": "execute_result"
    }
   ],
   "source": [
    "origin = read_excel('https://data.hossam.kr/E04/cars.xlsx')\n",
    "origin.head()"
   ]
  },
  {
   "cell_type": "markdown",
   "metadata": {},
   "source": [
    "### 독립변수에 대한 다항식 생성"
   ]
  },
  {
   "cell_type": "code",
   "execution_count": 5,
   "metadata": {},
   "outputs": [
    {
     "data": {
      "text/html": [
       "<div>\n",
       "<style scoped>\n",
       "    .dataframe tbody tr th:only-of-type {\n",
       "        vertical-align: middle;\n",
       "    }\n",
       "\n",
       "    .dataframe tbody tr th {\n",
       "        vertical-align: top;\n",
       "    }\n",
       "\n",
       "    .dataframe thead th {\n",
       "        text-align: right;\n",
       "    }\n",
       "</style>\n",
       "<table border=\"1\" class=\"dataframe\">\n",
       "  <thead>\n",
       "    <tr style=\"text-align: right;\">\n",
       "      <th></th>\n",
       "      <th>speed</th>\n",
       "      <th>speed^2</th>\n",
       "    </tr>\n",
       "  </thead>\n",
       "  <tbody>\n",
       "    <tr>\n",
       "      <th>0</th>\n",
       "      <td>4.0</td>\n",
       "      <td>16.0</td>\n",
       "    </tr>\n",
       "    <tr>\n",
       "      <th>1</th>\n",
       "      <td>4.0</td>\n",
       "      <td>16.0</td>\n",
       "    </tr>\n",
       "    <tr>\n",
       "      <th>2</th>\n",
       "      <td>7.0</td>\n",
       "      <td>49.0</td>\n",
       "    </tr>\n",
       "    <tr>\n",
       "      <th>3</th>\n",
       "      <td>7.0</td>\n",
       "      <td>49.0</td>\n",
       "    </tr>\n",
       "    <tr>\n",
       "      <th>4</th>\n",
       "      <td>8.0</td>\n",
       "      <td>64.0</td>\n",
       "    </tr>\n",
       "  </tbody>\n",
       "</table>\n",
       "</div>"
      ],
      "text/plain": [
       "   speed  speed^2\n",
       "0    4.0     16.0\n",
       "1    4.0     16.0\n",
       "2    7.0     49.0\n",
       "3    7.0     49.0\n",
       "4    8.0     64.0"
      ]
     },
     "execution_count": 5,
     "metadata": {},
     "output_type": "execute_result"
    }
   ],
   "source": [
    "poly = PolynomialFeatures(include_bias=False)\n",
    "my_fit = poly.fit_transform(origin[['speed']])\n",
    "x = DataFrame(my_fit, columns = poly.get_feature_names_out())\n",
    "x.head()"
   ]
  },
  {
   "cell_type": "markdown",
   "metadata": {},
   "source": [
    "### 종속변수 추출"
   ]
  },
  {
   "cell_type": "code",
   "execution_count": 6,
   "metadata": {},
   "outputs": [
    {
     "data": {
      "text/html": [
       "<div>\n",
       "<style scoped>\n",
       "    .dataframe tbody tr th:only-of-type {\n",
       "        vertical-align: middle;\n",
       "    }\n",
       "\n",
       "    .dataframe tbody tr th {\n",
       "        vertical-align: top;\n",
       "    }\n",
       "\n",
       "    .dataframe thead th {\n",
       "        text-align: right;\n",
       "    }\n",
       "</style>\n",
       "<table border=\"1\" class=\"dataframe\">\n",
       "  <thead>\n",
       "    <tr style=\"text-align: right;\">\n",
       "      <th></th>\n",
       "      <th>dist</th>\n",
       "    </tr>\n",
       "  </thead>\n",
       "  <tbody>\n",
       "    <tr>\n",
       "      <th>0</th>\n",
       "      <td>2</td>\n",
       "    </tr>\n",
       "    <tr>\n",
       "      <th>1</th>\n",
       "      <td>10</td>\n",
       "    </tr>\n",
       "    <tr>\n",
       "      <th>2</th>\n",
       "      <td>4</td>\n",
       "    </tr>\n",
       "    <tr>\n",
       "      <th>3</th>\n",
       "      <td>22</td>\n",
       "    </tr>\n",
       "    <tr>\n",
       "      <th>4</th>\n",
       "      <td>16</td>\n",
       "    </tr>\n",
       "  </tbody>\n",
       "</table>\n",
       "</div>"
      ],
      "text/plain": [
       "   dist\n",
       "0     2\n",
       "1    10\n",
       "2     4\n",
       "3    22\n",
       "4    16"
      ]
     },
     "execution_count": 6,
     "metadata": {},
     "output_type": "execute_result"
    }
   ],
   "source": [
    "y = origin[['dist']]\n",
    "y.head()"
   ]
  },
  {
   "cell_type": "markdown",
   "metadata": {},
   "source": [
    "### 데이터 분할\n",
    "- `.shape` returns a tuple with each index having the number of corresponding elements    \n",
    "    - returns (number of index, number of columns)"
   ]
  },
  {
   "cell_type": "code",
   "execution_count": 7,
   "metadata": {},
   "outputs": [
    {
     "name": "stdout",
     "output_type": "stream",
     "text": [
      "(35, 2)\n",
      "(15, 2)\n",
      "(35, 1)\n",
      "(15, 1)\n"
     ]
    }
   ],
   "source": [
    "x_train, x_test, y_train, y_test = train_test_split(x, \n",
    "                                                    y, \n",
    "                                                    test_size = 0.3, \n",
    "                                                    random_state = 123)\n",
    "print(x_train.shape)\n",
    "print(x_test.shape)\n",
    "print(y_train.shape)\n",
    "print(y_test.shape)"
   ]
  },
  {
   "cell_type": "code",
   "execution_count": 8,
   "metadata": {},
   "outputs": [
    {
     "name": "stdout",
     "output_type": "stream",
     "text": [
      "계수:  [[0.73773403 0.09986278]]\n",
      "절편:  [4.70067321]\n",
      "훈련 데이터 설명력:  0.5941347702404498\n",
      "검증 데이터 설명력:  0.8183504037854948\n"
     ]
    }
   ],
   "source": [
    "model = LinearRegression()\n",
    "my_fit = model.fit(x_train, y_train)\n",
    "\n",
    "print('계수: ', my_fit.coef_)\n",
    "print('절편: ', my_fit.intercept_)\n",
    "print('훈련 데이터 설명력: ', my_fit.score(x_train, y_train))\n",
    "print('검증 데이터 설명력: ', my_fit.score(x_test, y_test))"
   ]
  },
  {
   "cell_type": "markdown",
   "metadata": {},
   "source": [
    "### 예측값 생성\n",
    "#### 훈련 데이터에 대한 예측값"
   ]
  },
  {
   "cell_type": "code",
   "execution_count": 9,
   "metadata": {},
   "outputs": [
    {
     "data": {
      "text/plain": [
       "array([ 9.24941376, 22.06429118, 42.06928848, 85.55825922, 38.23580838,\n",
       "       50.33542533, 31.16802484, 54.76808209, 42.06928848, 22.06429118,\n",
       "       34.60205383, 79.92724915, 14.75808748, 38.23580838, 74.49596463,\n",
       "       16.99376316, 31.16802484, 54.76808209, 27.9337214 , 69.26440567,\n",
       "       38.23580838, 54.76808209, 59.40046439, 24.89914351, 50.33542533,\n",
       "       50.33542533, 34.60205383, 59.40046439, 34.60205383, 31.16802484,\n",
       "       59.40046439, 50.33542533, 46.10249413, 14.75808748, 79.92724915])"
      ]
     },
     "execution_count": 9,
     "metadata": {},
     "output_type": "execute_result"
    }
   ],
   "source": [
    "y_train_pred = my_fit.predict(x_train)\n",
    "y_train_pred = y_train_pred.reshape(-1)\n",
    "y_train_pred"
   ]
  },
  {
   "cell_type": "markdown",
   "metadata": {},
   "source": [
    "#### 검증 데이터에 대한 예측값"
   ]
  },
  {
   "cell_type": "code",
   "execution_count": 10,
   "metadata": {},
   "outputs": [
    {
     "data": {
      "text/plain": [
       "array([24.89914351, 27.9337214 , 46.10249413, 79.92724915, 31.16802484,\n",
       "        9.24941376, 59.40046439, 27.9337214 , 46.10249413, 22.06429118,\n",
       "       34.60205383, 79.92724915, 27.9337214 , 59.40046439, 19.42916439])"
      ]
     },
     "execution_count": 10,
     "metadata": {},
     "output_type": "execute_result"
    }
   ],
   "source": [
    "y_test_pred = my_fit.predict(x_test)\n",
    "y_test_pred = y_test_pred.reshape(-1)\n",
    "y_test_pred"
   ]
  },
  {
   "cell_type": "markdown",
   "metadata": {},
   "source": [
    "## 3. 회귀분석 모델의 성능 평가\n",
    "- 회귀분석 모델의 평가를 위한 지표는 `실제값(관측치)과 회귀 예측값의 차이`를 기반으로 함\n",
    "\n",
    "|구분|설명|\n",
    "|--|--|\n",
    "|설명력|높을수록 좋음 (1에 가까울수록)|\n",
    "|에러율|낮을수록 좋음 (0에 가까울수록)|\n",
    "\n",
    "### 1) 설명력\n",
    "- $R^2$ (결정계수)\n",
    "    - 회귀분석에서 가장 많이 채택되는 설명력 값\n",
    "    - 기본적으로 모델의 학습 결과를 갖고 있는 `fit` 객체의 `.score(독립변수, 종속변수)` 메서드를 통해 조회 가능\n",
    "    - sklearn이 제공하는 `metrics` 객체의 `.r2_score(독립변수, 예측값)` 메서드를 통해서도 조회 가능\n",
    "        - 이 때, 파라미터는 관측치와 예측치를 전달 (fit의 .score()의 파라미터와 다름)\n",
    "        - 그러나 설명력 값은 동일하게 나옴"
   ]
  },
  {
   "cell_type": "code",
   "execution_count": 11,
   "metadata": {},
   "outputs": [
    {
     "name": "stdout",
     "output_type": "stream",
     "text": [
      "훈련 데이터 설명력:  0.5941347702404498\n",
      "검증 데이터 설명력:  0.8183504037854948\n",
      "훈련 데이터 설명력:  0.5941347702404498\n",
      "검증 데이터 설명력:  0.8183504037854948\n"
     ]
    }
   ],
   "source": [
    "print('훈련 데이터 설명력: ', my_fit.score(x_train, y_train))\n",
    "print('검증 데이터 설명력: ', my_fit.score(x_test, y_test))\n",
    "print('훈련 데이터 설명력: ', r2_score(y_train, y_train_pred))\n",
    "print('검증 데이터 설명력: ', r2_score(y_test, y_test_pred))"
   ]
  },
  {
   "cell_type": "markdown",
   "metadata": {},
   "source": [
    "### 2) 에러율\n",
    "\n",
    "- `절대적인 기준은 없고` 값이 `0에 가까울수록` 좋으나 암만 못해도 `20~30% 이하`는 나와야 에러율이 낮다고 판단할 수 있다\n",
    "- `교차 검증이 필요`하다\n",
    "    - 교차 검증 한 후 에러율이 가장 낮은 것으로 사용한다\n",
    "    - `검증 데이터`와 `훈련/학습 데이터`를 `1대3 (0.25:0.75)`으로 나눠서,\n",
    "        - 첫번째) 검증데이터(x)를 앞에 0.25의 비율, 훈련데이터(o)를 뒤에 0.75의 비율로 에러율 검증: xooo\n",
    "        - 두번째) 훈련데이터(o) 앞 0.25, 검증데이터(x) 중간 0.25, 훈련데이터(o) 뒤 0.50의 비율로 에러율 검증: oxoo\n",
    "        - 세번째) 훈련데이터(o) 앞 0.50, 검증데이터(x) 중간 0.25, 훈련데이터(o) 뒤 0.25의 비율로 에러율 검증: ooxo\n",
    "        - 네번째) 훈련데이터(o) 앞 0.75, 검증데이터(x) 뒤 0.25의 비율로 에러율 검증: ooox\n",
    "\n",
    "|종류|이름|한글명|잔차계산|이상치에 영향 여부|\n",
    "|--|--|--|--|--|\n",
    "|MAE|Mean Absolute Error|평균절대오차|절대값|Yes|\n",
    "|MSE|Mean Squared Error|평균제곱오차|제곱값|No|\n",
    "|RMSE|Root Mean Squared Error|평균오차|제곱값|No|\n",
    "|MAPE|Mean Absolute Percentage Error|평균절대백분오차 비율|절대값|Yes|\n",
    "|MPE|Mean Percentage Error|평균비율오차|N/A|Yes|\n",
    "\n",
    "#### $MAE$ (Mean Absolute Error, 평균절대오차)\n",
    "- `mean_absolute_error()`"
   ]
  },
  {
   "cell_type": "code",
   "execution_count": 12,
   "metadata": {},
   "outputs": [
    {
     "data": {
      "image/png": "[encoded data removed]",
      "text/plain": [
       "<IPython.core.display.Image object>"
      ]
     },
     "metadata": {},
     "output_type": "display_data"
    }
   ],
   "source": [
    "from IPython.display import Image, display\n",
    "display(Image(filename='mae_expr.png'))"
   ]
  },
  {
   "cell_type": "markdown",
   "metadata": {},
   "source": [
    "- 모델의 예측값과 실제값의 차이를 모두 더하는 개념\n",
    "- 이상치에 영향을 받지 않음\n",
    "- 절대값을 취하기 때문에 \n",
    "    - 직관적으로 알 수 있는 지표\n",
    "    - 실제보다 낮은 값(underperformance)인지 큰 값(overperformance)인지 알 수 없다 (양성인지 음성인지 알 수 없다는 뜻)"
   ]
  },
  {
   "cell_type": "code",
   "execution_count": 13,
   "metadata": {},
   "outputs": [
    {
     "data": {
      "image/jpeg": "[encoded data removed]",
      "text/plain": [
       "<IPython.core.display.Image object>"
      ]
     },
     "metadata": {},
     "output_type": "display_data"
    }
   ],
   "source": [
    "from IPython.display import Image, display\n",
    "display(Image(filename = 'mae.jpg'))"
   ]
  },
  {
   "cell_type": "code",
   "execution_count": 14,
   "metadata": {},
   "outputs": [
    {
     "name": "stdout",
     "output_type": "stream",
     "text": [
      "훈련 데이터 MAE:  11.60665421831887\n",
      "검증 데이터 MAE:  9.579510632066915\n"
     ]
    }
   ],
   "source": [
    "print('훈련 데이터 MAE: ', mean_absolute_error(y_train, y_train_pred))\n",
    "print('검증 데이터 MAE: ', mean_absolute_error(y_test, y_test_pred))"
   ]
  },
  {
   "cell_type": "markdown",
   "metadata": {},
   "source": [
    "#### $MSE$ (Mean Squared Error, 평균 제곱 오타)\n",
    "- `mean_squared_error()`"
   ]
  },
  {
   "cell_type": "code",
   "execution_count": 15,
   "metadata": {},
   "outputs": [
    {
     "data": {
      "image/png": "[encoded data removed]",
      "text/plain": [
       "<IPython.core.display.Image object>"
      ]
     },
     "metadata": {},
     "output_type": "display_data"
    }
   ],
   "source": [
    "from IPython.display import Image, display\n",
    "display(Image(filename = 'mse_expr.png'))"
   ]
  },
  {
   "cell_type": "markdown",
   "metadata": {},
   "source": [
    "- MAE와는 다르게 제곱을 하기에 모델의 `실제값과 예측값의 차이의 면적의 합`이다\n",
    "- 제곱을 하기에 특이값이 존재하면 수치가 많이 늘어난다 (특이치, 이상치에 민감함)\n",
    "- 실제로 잘 안쓰고 이것보단 이 값에 루트를 씌운 RMSE를 더 많이 사용함"
   ]
  },
  {
   "cell_type": "code",
   "execution_count": 16,
   "metadata": {},
   "outputs": [
    {
     "data": {
      "image/jpeg": "[encoded data removed]",
      "text/plain": [
       "<IPython.core.display.Image object>"
      ]
     },
     "metadata": {},
     "output_type": "display_data"
    }
   ],
   "source": [
    "from IPython.display import Image, display\n",
    "display(Image(filename = 'mse.jpg'))"
   ]
  },
  {
   "cell_type": "code",
   "execution_count": 17,
   "metadata": {},
   "outputs": [
    {
     "name": "stdout",
     "output_type": "stream",
     "text": [
      "훈련 데이터 MSE:  257.5491533817692\n",
      "검증 데이터 MSE:  124.43723939078464\n"
     ]
    }
   ],
   "source": [
    "print('훈련 데이터 MSE: ', mean_squared_error(y_train, y_train_pred))\n",
    "print('검증 데이터 MSE: ', mean_squared_error(y_test, y_test_pred))"
   ]
  },
  {
   "cell_type": "markdown",
   "metadata": {},
   "source": [
    "#### $RMSE$ (Root Mean Squared Error, 평균 오차)\n",
    "- `numply.sqrt(mean_squared_error())`"
   ]
  },
  {
   "cell_type": "code",
   "execution_count": 18,
   "metadata": {},
   "outputs": [
    {
     "data": {
      "image/png": "[encoded data removed]",
      "text/plain": [
       "<IPython.core.display.Image object>"
      ]
     },
     "metadata": {},
     "output_type": "display_data"
    }
   ],
   "source": [
    "from IPython.display import display, Image\n",
    "display(Image(filename='rmse_expr.png'))"
   ]
  },
  {
   "cell_type": "markdown",
   "metadata": {},
   "source": [
    "- MSE를 구한 값에 루트를 씌움\n",
    "- 오류 지표를 실제 값과 유사한 단위로 변환하여 해석을 쉽게 함"
   ]
  },
  {
   "cell_type": "code",
   "execution_count": 19,
   "metadata": {},
   "outputs": [
    {
     "name": "stdout",
     "output_type": "stream",
     "text": [
      "훈련 데이터 RMSE:  16.048338025533024\n",
      "검증 데이터 RMSE:  11.15514407754488\n"
     ]
    }
   ],
   "source": [
    "print(\"훈련 데이터 RMSE: \", np.sqrt(mean_squared_error(y_train, y_train_pred)))\n",
    "print(\"검증 데이터 RMSE: \", np.sqrt(mean_squared_error(y_test, y_test_pred)))"
   ]
  },
  {
   "cell_type": "markdown",
   "metadata": {},
   "source": [
    "#### $MAPE$ (Mean Absolute Percentage Error, 평균 절대 백분오차 비율)\n",
    "- `numpy.mean(numpy.abs())`"
   ]
  },
  {
   "cell_type": "code",
   "execution_count": 20,
   "metadata": {},
   "outputs": [
    {
     "data": {
      "image/png": "[encoded data removed]",
      "text/plain": [
       "<IPython.core.display.Image object>"
      ]
     },
     "metadata": {},
     "output_type": "display_data"
    }
   ],
   "source": [
    "from IPython.display import display, Image\n",
    "display(Image(filename = 'mape_expr.png'))"
   ]
  },
  {
   "cell_type": "markdown",
   "metadata": {},
   "source": [
    "- MAE를 퍼센트로 변환한 것\n",
    "- MAE와 동일하게\n",
    "    - MSE보다 이상치에 민감\n",
    "    - 실제값보다 낮은 값인지 높은 값인지 알 수 없음\n",
    "- 모델에 대한 편향이 있음 (이를 대응하기 위해 MPE도 추가로 확인하는 것 추천)"
   ]
  },
  {
   "cell_type": "code",
   "execution_count": 21,
   "metadata": {},
   "outputs": [
    {
     "data": {
      "image/jpeg": "[encoded data removed]",
      "text/plain": [
       "<IPython.core.display.Image object>"
      ]
     },
     "metadata": {},
     "output_type": "display_data"
    }
   ],
   "source": [
    "from IPython.display import display, Image\n",
    "display(Image(filename = 'mape.jpg'))"
   ]
  },
  {
   "cell_type": "code",
   "execution_count": 22,
   "metadata": {},
   "outputs": [
    {
     "name": "stdout",
     "output_type": "stream",
     "text": [
      "훈련 데이터 MAPE:  98.62187448277136\n",
      "검증 데이터 MAPE:  202.18312156089843\n"
     ]
    }
   ],
   "source": [
    "# API로 제공되는 기능이 아니고 직접 계산해야 하기 때문에 관측치와 예측치의 데이터타입이 동일해야 함\n",
    "# -> numpy 배열 혹은 Series 타입으로 통일해야 함\n",
    "# 그냥 y_train 으로 한 것이 아니라 y_train.values로 하여 numpy 배열로 변환\n",
    "print('훈련 데이터 MAPE: ', np.mean(np.abs((y_train.values - y_train_pred) / y_train.values)) * 100)\n",
    "print('검증 데이터 MAPE: ', np.mean(np.abs((y_test.values - y_test_pred) / y_test.values)) * 100)"
   ]
  },
  {
   "cell_type": "markdown",
   "metadata": {},
   "source": [
    "#### $MPE$ (Mean Percentage Error, 평균 비율 오차)\n",
    "- `numpy.mean()`"
   ]
  },
  {
   "cell_type": "code",
   "execution_count": 23,
   "metadata": {},
   "outputs": [
    {
     "data": {
      "image/png": "[encoded data removed]",
      "text/plain": [
       "<IPython.core.display.Image object>"
      ]
     },
     "metadata": {},
     "output_type": "display_data"
    }
   ],
   "source": [
    "from IPython.display import display, Image\n",
    "display(Image(filename = 'mpe_expr.png'))"
   ]
  },
  {
   "cell_type": "markdown",
   "metadata": {},
   "source": [
    "- MAPE와 비슷하지만 `MAPE에서 절대값을 제외한 지표`\n",
    "- 장점: 모델이 실제값보다 낮은 값인지 큰 값인지 판단 가능"
   ]
  },
  {
   "cell_type": "code",
   "execution_count": 24,
   "metadata": {},
   "outputs": [
    {
     "data": {
      "image/jpeg": "[encoded data removed]",
      "text/plain": [
       "<IPython.core.display.Image object>"
      ]
     },
     "metadata": {},
     "output_type": "display_data"
    }
   ],
   "source": [
    "from IPython.display import display, Image\n",
    "display(Image(filename = 'mpe.jpg'))"
   ]
  },
  {
   "cell_type": "code",
   "execution_count": 25,
   "metadata": {},
   "outputs": [
    {
     "name": "stdout",
     "output_type": "stream",
     "text": [
      "훈련 데이터 MPE:  -60.125435326146004\n",
      "검증 데이터 MPE:  -157.06332774885408\n"
     ]
    }
   ],
   "source": [
    "# API로 제공되는 기능이 아니고 직접 계산해야 하기 때문에 관측치와 예측치의 데이터타입이 동일해야 함\n",
    "# -> numpy 배열 혹은 Series 타입으로 통일해야 함\n",
    "# 그냥 y_train 으로 한 것이 아니라 y_train.values로 하여 numpy 배열로 변환\n",
    "print('훈련 데이터 MPE: ', np.mean((y_train.values - y_train_pred) / y_train.values) * 100)\n",
    "print('검증 데이터 MPE: ', np.mean((y_test.values - y_test_pred) / y_test.values) * 100)"
   ]
  },
  {
   "cell_type": "markdown",
   "metadata": {},
   "source": [
    "## 4. 머신러닝 회귀분석 모듈 테스트\n",
    "### 회귀분석 수행"
   ]
  },
  {
   "cell_type": "code",
   "execution_count": 26,
   "metadata": {},
   "outputs": [
    {
     "name": "stdout",
     "output_type": "stream",
     "text": [
      "계수:  [[0.73773403 0.09986278]]\n",
      "절편:  [4.70067321]\n"
     ]
    }
   ],
   "source": [
    "olsResult = helper.ml_ols(origin, \n",
    "                          xnames = 'speed',\n",
    "                          yname = 'dist',\n",
    "                          degree = 2,\n",
    "                          test_size = 0.3,      # 7:3으로 분할; test_size = 0이면 분할 안 함\n",
    "                          random_state = 123)\n",
    "print('계수: ', olsResult.coef)\n",
    "print('절편: ', olsResult.intercept)"
   ]
  },
  {
   "cell_type": "markdown",
   "metadata": {},
   "source": [
    "### 훈련데이터에 대한 평가 지표"
   ]
  },
  {
   "cell_type": "code",
   "execution_count": 27,
   "metadata": {},
   "outputs": [
    {
     "name": "stdout",
     "output_type": "stream",
     "text": [
      "R^2:  0.5941347702404498\n",
      "MAE:  11.60665421831887\n",
      "MSE:  257.5491533817692\n",
      "RMSE:  16.048338025533024\n",
      "MAPE:  33.73025758680721\n",
      "MPE:  -16.22850108764368\n"
     ]
    }
   ],
   "source": [
    "print('R^2: ', olsResult.trainRegMetric.r2)\n",
    "print('MAE: ', olsResult.trainRegMetric.mae)\n",
    "print('MSE: ', olsResult.trainRegMetric.mse)\n",
    "print('RMSE: ', olsResult.trainRegMetric.rmse)\n",
    "print('MAPE: ', olsResult.trainRegMetric.mape)\n",
    "print('MPE: ', olsResult.trainRegMetric.mpe)"
   ]
  },
  {
   "cell_type": "markdown",
   "metadata": {},
   "source": [
    "### 검증데이터에 대한 평가 지표"
   ]
  },
  {
   "cell_type": "code",
   "execution_count": 28,
   "metadata": {},
   "outputs": [
    {
     "name": "stdout",
     "output_type": "stream",
     "text": [
      "R^2:  0.8183504037854948\n",
      "MAE:  9.579510632066915\n",
      "MSE:  124.43723939078464\n",
      "RMSE:  11.15514407754488\n",
      "MAPE:  53.575687880029236\n",
      "MPE:  -32.81206970634045\n"
     ]
    }
   ],
   "source": [
    "print('R^2: ', olsResult.testRegMetric.r2)\n",
    "print('MAE: ', olsResult.testRegMetric.mae)\n",
    "print('MSE: ', olsResult.testRegMetric.mse)\n",
    "print('RMSE: ', olsResult.testRegMetric.rmse)\n",
    "print('MAPE: ', olsResult.testRegMetric.mape)\n",
    "print('MPE: ', olsResult.testRegMetric.mpe)"
   ]
  }
 ],
 "metadata": {
  "kernelspec": {
   "display_name": "Python 3",
   "language": "python",
   "name": "python3"
  },
  "language_info": {
   "codemirror_mode": {
    "name": "ipython",
    "version": 3
   },
   "file_extension": ".py",
   "mimetype": "text/x-python",
   "name": "python",
   "nbconvert_exporter": "python",
   "pygments_lexer": "ipython3",
   "version": "3.11.3"
  },
  "orig_nbformat": 4
 },
 "nbformat": 4,
 "nbformat_minor": 2
}
