{
 "cells": [
  {
   "cell_type": "markdown",
   "metadata": {},
   "source": [
    "# 사이킷 런 (Scikit-learn) 소개\n",
    "- 2007년도 구글 하계 코드 프로젝트 모임에 참여한 몇몇 개발자들이 중심이 되어 시작된 `라이브러리`\n",
    "- 지도학습, 비지도학습을 위한 다양한 모델 제공\n",
    "- 이 모델을 위한 시각화 도구, 교차검증 도구들까지 매우 광범위한 기능 제공\n",
    "- 그러나 딥러님은 제공 안함\n",
    "\n",
    "## 1. sklearn의 핵심 기능\n",
    "### 1) 주요 기능 분류"
   ]
  },
  {
   "cell_type": "code",
   "execution_count": null,
   "metadata": {
    "vscode": {
     "languageId": "plaintext"
    }
   },
   "outputs": [],
   "source": []
  },
  {
   "cell_type": "markdown",
   "metadata": {},
   "source": []
  }
 ],
 "metadata": {
  "language_info": {
   "name": "python"
  },
  "orig_nbformat": 4
 },
 "nbformat": 4,
 "nbformat_minor": 2
}
