{
 "cells": [
  {
   "cell_type": "markdown",
   "metadata": {},
   "source": [
    "# 다중선형회귀\n",
    "## 다중선형회귀 수행\n",
    "### 1) 패키지 준비"
   ]
  },
  {
   "cell_type": "code",
   "execution_count": null,
   "metadata": {},
   "outputs": [],
   "source": [
    "import sys\n",
    "sys.path.append('../../')\n",
    "import helper\n",
    "\n",
    "from pandas import read_excel, DataFrame, merge\n",
    "from matplotlib import pyplot as plt\n",
    "import seaborn as sb\n",
    "import numpy as np\n",
    "\n",
    "from sklearn.model_selection import train_test_split\n",
    "from sklearn.preprocessing import StandardScaler\n",
    "\n",
    "from tensorflow.keras.models import Sequential\n",
    "from tensorflow.keras.layers import Dense\n",
    "from tensorflow.keras.callbacks import EarlyStopping, ReduceLROnPlateau, ModelChcekpoint"
   ]
  },
  {
   "cell_type": "markdown",
   "metadata": {},
   "source": [
    "### 2) 데이터셋 준비"
   ]
  },
  {
   "cell_type": "code",
   "execution_count": null,
   "metadata": {},
   "outputs": [],
   "source": [
    "origin = read_excel('https://data.hossam.kr/F02/fish2.xlsx')\n",
    "origin.info()"
   ]
  },
  {
   "cell_type": "markdown",
   "metadata": {},
   "source": [
    "### 3) 데이터 전처리\n",
    "- 결측치 확인"
   ]
  },
  {
   "cell_type": "code",
   "execution_count": null,
   "metadata": {},
   "outputs": [],
   "source": [
    "origin.isna().sum()"
   ]
  },
  {
   "cell_type": "markdown",
   "metadata": {},
   "source": [
    "### 4) 탐색적 데이터 분석\n",
    "- 기본 통계 확인"
   ]
  },
  {
   "cell_type": "code",
   "execution_count": null,
   "metadata": {},
   "outputs": [],
   "source": [
    "origin.describe()"
   ]
  },
  {
   "cell_type": "markdown",
   "metadata": {},
   "source": [
    "> 평균 값의 차이가 크기 때문에 표준화가 필요해 보인다\n",
    "\n",
    "- 상자그림"
   ]
  },
  {
   "cell_type": "code",
   "execution_count": null,
   "metadata": {},
   "outputs": [],
   "source": [
    "plt.rcParams['font.family'] = 'AppleGothic'\n",
    "plt.rcParams['font.size'] = 12\n",
    "plt.rcParams['axes.unicode_minus'] = False\n",
    "\n",
    "plt.figure(figsize=(10, 5))\n",
    "sb.boxplot(data=origin)\n",
    "plt.show()\n",
    "plt.close()"
   ]
  },
  {
   "cell_type": "markdown",
   "metadata": {},
   "source": [
    "> 데이터의 분포가 상이하므로 표준화가 필요해 보인다\n",
    "- 산점도 그래프와 추세선 확인"
   ]
  },
  {
   "cell_type": "code",
   "execution_count": null,
   "metadata": {},
   "outputs": [],
   "source": [
    "plt.figure(figsize = (30, 30))\n",
    "sb.pairplot(origin)\n",
    "plt.show()\n",
    "plt.close()"
   ]
  },
  {
   "cell_type": "markdown",
   "metadata": {},
   "source": [
    "> `다중공선성`이 발생할 것으로 보이고, 선형회귀보다는 `다항회귀가 더 적합해 보이지만` 예제를 위해 다항선형회귀로 진행하기로 함"
   ]
  },
  {
   "cell_type": "markdown",
   "metadata": {},
   "source": [
    "### 5) 데이터셋 분할\n",
    "- 랜덤시드 고정"
   ]
  },
  {
   "cell_type": "code",
   "execution_count": 1,
   "metadata": {},
   "outputs": [
    {
     "ename": "NameError",
     "evalue": "name 'np' is not defined",
     "output_type": "error",
     "traceback": [
      "\u001b[0;31m---------------------------------------------------------------------------\u001b[0m",
      "\u001b[0;31mNameError\u001b[0m                                 Traceback (most recent call last)",
      "Cell \u001b[0;32mIn[1], line 1\u001b[0m\n\u001b[0;32m----> 1\u001b[0m np\u001b[39m.\u001b[39mrandom\u001b[39m.\u001b[39mseed(\u001b[39m777\u001b[39m)\n",
      "\u001b[0;31mNameError\u001b[0m: name 'np' is not defined"
     ]
    }
   ],
   "source": [
    "np.random.seed(777)"
   ]
  },
  {
   "cell_type": "markdown",
   "metadata": {},
   "source": [
    "- 훈련 데이터(독립변수)와 레이블(종속변수) 구분하기"
   ]
  },
  {
   "cell_type": "code",
   "execution_count": null,
   "metadata": {},
   "outputs": [],
   "source": [
    "x = origin[['길이', '높이', '두께']]\n",
    "y = origin[['무게']]\n",
    "x.shape, y.shape"
   ]
  },
  {
   "cell_type": "markdown",
   "metadata": {},
   "source": [
    "- 데이터 표준화"
   ]
  },
  {
   "cell_type": "code",
   "execution_count": null,
   "metadata": {},
   "outputs": [],
   "source": [
    "x_scaler = StandardScaler()\n",
    "x_scale = x_scaler.fit_transform(x)\n",
    "\n",
    "y_scaler = StandardScaler()\n",
    "y_scale = y_scaler.fit_transform(y)\n",
    "\n",
    "x_scale.shape, y_scale.shape"
   ]
  },
  {
   "cell_type": "markdown",
   "metadata": {},
   "source": [
    "- 표준화 전/후 상자그림 비교"
   ]
  },
  {
   "cell_type": "code",
   "execution_count": null,
   "metadata": {},
   "outputs": [],
   "source": [
    "# 임시로 독립변수와 종속변수를 하나의 DataFrame으로 병합\n",
    "x_scale_df = DataFrame(x_scale, columns=['길이', '높이', '두께'])\n",
    "y_scale_df = DataFrame(y_scale, columns=['무게'])\n",
    "tmp = merge(x_scale_df, y_scale_df, left_index=True, right_index=True)\n",
    "\n",
    "fig, ax = plt.subplots(1, 2, figsize = (15, 5), dpi=150)\n",
    "sb.boxplot(data=origin, ax=ax[0])\n",
    "sb.boxplot(data=tmp, ax=ax[1])\n",
    "ax[0].set_title('before')\n",
    "ax[1].set_title('bafter')\n",
    "plt.show()\n",
    "plt.close()"
   ]
  },
  {
   "cell_type": "markdown",
   "metadata": {},
   "source": [
    "- 훈련 데이터와 검증 데이터 분할"
   ]
  },
  {
   "cell_type": "code",
   "execution_count": null,
   "metadata": {},
   "outputs": [],
   "source": [
    "x_train, x_test, y_train, y_test = train_test_split(x_scale, \n",
    "                                                    y_scale,\n",
    "                                                    test_size=0.3,\n",
    "                                                    random_state=777)\n",
    "x_train.shape, x_test.shape, y_train.shape, y_test.shape"
   ]
  },
  {
   "cell_type": "markdown",
   "metadata": {},
   "source": [
    "### 6) 모델 개발\n",
    "- 모델 정의\n",
    "    - 데이터가 단순하고 개수가 적다면 `과대적합이 발생할 확률이 높기 때문에` 주의하면서 적절한 크기와 모델층을 쌓아야 한다"
   ]
  },
  {
   "cell_type": "code",
   "execution_count": null,
   "metadata": {},
   "outputs": [],
   "source": [
    "my_model = Sequential()\n",
    "\n",
    "# 1차원의 데이터를 입력으로 받고, 64개의 출력을 가지는 첫 번째 Dense 층\n",
    "my_model.add(Dense(64, activation='relu', input_shape=(len(x_train[0]), )))\n",
    "my_model.add(Dense(32, activation ='relu'))\n",
    "\n",
    "# 하나의 값을 출력 정답의 범위가 정해지지 않기 때문에 활성화 함수는 linear\n",
    "my_model.add(Dense(1, activation = 'linear'))\n",
    "\n",
    "my_model.compile(optimizer='adam', loss='mse', metrics=['mae'])\n",
    "my_model.summary()"
   ]
  },
  {
   "cell_type": "markdown",
   "metadata": {},
   "source": [
    "- 학습하기"
   ]
  },
  {
   "cell_type": "code",
   "execution_count": null,
   "metadata": {},
   "outputs": [],
   "source": [
    "result = my_model.fit(x_train, \n",
    "                      y_train, \n",
    "                      epochs=500, \n",
    "                      validation_data = (x_test, y_test),\n",
    "                      callbacks=[EarlyStopping(monitor='val_loss',\n",
    "                                               patience=10,\n",
    "                                               verbose=1),\n",
    "                                 ReduceLROnPlateau(monitor='val_loss',\n",
    "                                                   patience=3,\n",
    "                                                   factor=0.5,\n",
    "                                                   min_lr=0.001,\n",
    "                                                   verbose=1)])"
   ]
  },
  {
   "cell_type": "markdown",
   "metadata": {},
   "source": [
    "### 7) 학습 결과 평가"
   ]
  },
  {
   "cell_type": "code",
   "execution_count": null,
   "metadata": {},
   "outputs": [],
   "source": [
    "# 학습 결과\n",
    "result_df = DataFrame(result.history)\n",
    "result_df['epochs'] = result_df.index+1\n",
    "result_df.set_index('epochs', inplace=True)\n",
    "result_df"
   ]
  },
  {
   "cell_type": "code",
   "execution_count": null,
   "metadata": {},
   "outputs": [],
   "source": [
    "# 그래프 기본설정\n",
    "plt.rcParams['font.family'] = 'AppleGothic'\n",
    "plt.rcParams['font.size'] = 12\n",
    "plt.rcParams['axes.unicode_minus'] = False\n",
    "\n",
    "# 그래프를 그리기 위한 객체 생성\n",
    "fig, (ax1, ax2) = plt.subplots(1, 2, figsize=(15, 5), dpi=150)\n",
    "\n",
    "# 1) 훈련 및 검증 손실 그리기\n",
    "sb.lineplot(x=result_df.inex,\n",
    "            y='loss',\n",
    "            data=result_df,\n",
    "            color='blue',\n",
    "            lable='훈련 손실률',\n",
    "            ax=ax1)\n",
    "sb.lineplot(x=result_df.index, \n",
    "            y_'val_loss',\n",
    "            data=result_df,\n",
    "            color='orange',\n",
    "            label='검증 손실률',\n",
    "            ax = ax1)\n",
    "ax1.set_title('훈련 및 검증 손실률')\n",
    "ax1.set_xlabel('반복회차')\n",
    "ax1.set_ylabel('손실률')\n",
    "ax1.grid()\n",
    "ax1.legend()\n",
    "\n",
    "# 2) 훈련 및 검증 절대오차 그리기\n",
    "sb.lineplot(x=result_df.index, \n",
    "            y='mae',\n",
    "            data=result_df, \n",
    "            color='blue',\n",
    "            label='훈련 절대오차',\n",
    "            ax=ax2)\n",
    "sb.lineplot(x=result_df.index, \n",
    "            y='val_mae',\n",
    "            data=result_df, \n",
    "            color='orange',\n",
    "            label='검증 절대오차',\n",
    "            ax=ax2)\n",
    "ax2.set_title('훈련 및 검증 절대오차')\n",
    "ax2.set_xlabel('반복회차')\n",
    "ax2.set_ylabel('정확도')\n",
    "ax2.grid()\n",
    "ax2.legend()\n",
    "\n",
    "plt.show()\n",
    "plt.close()"
   ]
  },
  {
   "cell_type": "markdown",
   "metadata": {},
   "source": [
    "- 모델 성능 평가"
   ]
  },
  {
   "cell_type": "code",
   "execution_count": 3,
   "metadata": {},
   "outputs": [
    {
     "ename": "NameError",
     "evalue": "name 'my_model' is not defined",
     "output_type": "error",
     "traceback": [
      "\u001b[0;31m---------------------------------------------------------------------------\u001b[0m",
      "\u001b[0;31mNameError\u001b[0m                                 Traceback (most recent call last)",
      "Cell \u001b[0;32mIn[3], line 1\u001b[0m\n\u001b[0;32m----> 1\u001b[0m evaluate1 \u001b[39m=\u001b[39m my_model\u001b[39m.\u001b[39mevaluate(x_train, y_train)\n\u001b[1;32m      2\u001b[0m \u001b[39mprint\u001b[39m(\u001b[39m'\u001b[39m\u001b[39m최종 훈련 손실률: \u001b[39m\u001b[39m%f\u001b[39;00m\u001b[39m, 최종 훈련 절대오차: \u001b[39m\u001b[39m%f\u001b[39;00m\u001b[39m'\u001b[39m \u001b[39m%\u001b[39m (evaluate1[\u001b[39m0\u001b[39m], evaluate1[\u001b[39m1\u001b[39m]))\n\u001b[1;32m      3\u001b[0m evaluate2 \u001b[39m=\u001b[39m my_model\u001b[39m.\u001b[39mevaluate(x_test, y_test)\n",
      "\u001b[0;31mNameError\u001b[0m: name 'my_model' is not defined"
     ]
    }
   ],
   "source": [
    "evaluate1 = my_model.evaluate(x_train, y_train)\n",
    "print('최종 훈련 손실률: %f, 최종 훈련 절대오차: %f' % (evaluate1[0], evaluate1[1]))\n",
    "evaluate2 = my_model.evaluate(x_test, y_test)\n",
    "print('최종 검증 손실률: %f, 최종 검증 절대오차: %f' % (evaluate2[0], evaluate2[1]))"
   ]
  },
  {
   "cell_type": "markdown",
   "metadata": {},
   "source": [
    "### 8) 학습 결과 적용\n",
    "- 예측 결과 산정"
   ]
  },
  {
   "cell_type": "code",
   "execution_count": 4,
   "metadata": {},
   "outputs": [
    {
     "ename": "NameError",
     "evalue": "name 'my_model' is not defined",
     "output_type": "error",
     "traceback": [
      "\u001b[0;31m---------------------------------------------------------------------------\u001b[0m",
      "\u001b[0;31mNameError\u001b[0m                                 Traceback (most recent call last)",
      "Cell \u001b[0;32mIn[4], line 1\u001b[0m\n\u001b[0;32m----> 1\u001b[0m train_pred \u001b[39m=\u001b[39m my_model\u001b[39m.\u001b[39mpredict(x_train)\n\u001b[1;32m      2\u001b[0m test_pred \u001b[39m=\u001b[39m my_model\u001b[39m.\u001b[39mpredict(x_test)\n",
      "\u001b[0;31mNameError\u001b[0m: name 'my_model' is not defined"
     ]
    }
   ],
   "source": [
    "train_pred = my_model.predict(x_train)\n",
    "test_pred = my_model.predict(x_test)"
   ]
  },
  {
   "cell_type": "markdown",
   "metadata": {},
   "source": [
    "- 결과 데이터셋 구성"
   ]
  },
  {
   "cell_type": "code",
   "execution_count": null,
   "metadata": {},
   "outputs": [],
   "source": [
    "train_df = DataFrame(x_train, columns=['길이', '높이', '두께'])\n",
    "train_df['무게(관측치)'] = y_train.flatten()\n",
    "train_df['무게(예측치)'] = train_pred.flatten()\n",
    "train_df['훈련오차'] = train_df['무게(관측치)']-train_df['무게(예측치)'] \n",
    "train_df.head()\n",
    "\n",
    "test_df = DataFrame(x_test, columns=['길이', '높이','두께'])\n",
    "test_df['무게(관측치)'] = y_test.flatten()\n",
    "test_df['무게(예측치)'] = test_pred.flatten()\n",
    "\n",
    "test_df['훈련오차'] = test_df['무게(관측치)']-test_df['무게(에측치)']\n",
    "test_df.head()                                    "
   ]
  },
  {
   "cell_type": "markdown",
   "metadata": {},
   "source": [
    "- 실제 결과값과 머신러닝에 의한 예측값 비교"
   ]
  },
  {
   "cell_type": "code",
   "execution_count": 5,
   "metadata": {},
   "outputs": [
    {
     "ename": "SyntaxError",
     "evalue": "invalid syntax (19865544.py, line 1)",
     "output_type": "error",
     "traceback": [
      "\u001b[0;36m  Cell \u001b[0;32mIn[5], line 1\u001b[0;36m\u001b[0m\n\u001b[0;31m    for key in ['길이', '높이', '두께']\u001b[0m\n\u001b[0m                                 ^\u001b[0m\n\u001b[0;31mSyntaxError\u001b[0m\u001b[0;31m:\u001b[0m invalid syntax\n"
     ]
    }
   ],
   "source": [
    "for key in ['길이', '높이', '두께']\n",
    "    helper.regplot(train_df[key], \n",
    "                   train_df['무게(관측치)'],\n",
    "                   train_df['무게(예측치)']\n",
    "                   '훈련데이터', \n",
    "                   test_df[key], \n",
    "                   test_df['무게(관측치)'],\n",
    "                   test_df['무게(예측치)'],\n",
    "                   '검증데이터',\n",
    "                   figsize=(15,5))"
   ]
  }
 ],
 "metadata": {
  "kernelspec": {
   "display_name": "Python 3",
   "language": "python",
   "name": "python3"
  },
  "language_info": {
   "codemirror_mode": {
    "name": "ipython",
    "version": 3
   },
   "file_extension": ".py",
   "mimetype": "text/x-python",
   "name": "python",
   "nbconvert_exporter": "python",
   "pygments_lexer": "ipython3",
   "version": "3.9.13"
  },
  "orig_nbformat": 4
 },
 "nbformat": 4,
 "nbformat_minor": 2
}
