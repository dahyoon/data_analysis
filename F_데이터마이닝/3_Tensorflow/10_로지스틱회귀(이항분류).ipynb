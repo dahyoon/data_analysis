{
 "cells": [
  {
   "cell_type": "markdown",
   "metadata": {},
   "source": [
    "# 로지스틱 회귀 - 이항분류\n",
    "\n",
    "## 로지스틱 회귀 분석 수행\n",
    "\n",
    "### 1) 패키지 준비하기"
   ]
  },
  {
   "cell_type": "code",
   "execution_count": 4,
   "metadata": {},
   "outputs": [],
   "source": [
    "import sys\n",
    "sys.path.append('../../')\n",
    "import helper\n",
    "\n",
    "from pandas import read_excel, DataFrame\n",
    "from matplotlib import pyplot as plt\n",
    "import seaborn as sb\n",
    "import numpy as np\n",
    "\n",
    "from sklearn.model_selection import train_test_split\n",
    "from sklearn.preprocessing import StandardScaler\n",
    "from sklearn.metrics import classification_report, confusion_matrix\n",
    "from sklearn.metrics import roc_curve, roc_auc_score\n",
    "from sklearn.metrics import accuracy_score, recall_score, precision_score, f1_score\n",
    "\n",
    "from tensorflow.keras.models import Sequential # 순서층을 구성하는 모델 객체 생성 기능\n",
    "from tensorflow.keras.layers import Dense      # 모델 객체에 학습층을 쌓기 위한 클래스\n",
    "from tensorflow.keras.callbacks import EarlyStopping, ReduceLROnPlateau, ModelCheckpoint"
   ]
  },
  {
   "cell_type": "markdown",
   "metadata": {},
   "source": [
    "### 2) 데이터셋 준비\n",
    "- 방사선학 석사과정 대학원생을 모집하였다. 이 때 지원한 방사선사의 대학원 합격 여부에 따른 주요 요인이 무엇인지 분석하라\n",
    "- 단, 독립 변수는 정규분포(normal distribution)를 따른다고 가정한다.\n",
    "\n",
    "|변수|구분|설명|\n",
    "|--|--|--|\n",
    "|합격여부|범주형|1: 합격, 0: 불합격|\n",
    "|필기점수|연속형|800점 만점|\n",
    "|학부성적|연속형|4.0 만점|\n",
    "|병원경력|범주형|1: 10년이상, 2: 5~9년, 3: 1~4년, 4: 1년 미만"
   ]
  },
  {
   "cell_type": "code",
   "execution_count": 5,
   "metadata": {},
   "outputs": [
    {
     "data": {
      "text/html": [
       "<div>\n",
       "<style scoped>\n",
       "    .dataframe tbody tr th:only-of-type {\n",
       "        vertical-align: middle;\n",
       "    }\n",
       "\n",
       "    .dataframe tbody tr th {\n",
       "        vertical-align: top;\n",
       "    }\n",
       "\n",
       "    .dataframe thead th {\n",
       "        text-align: right;\n",
       "    }\n",
       "</style>\n",
       "<table border=\"1\" class=\"dataframe\">\n",
       "  <thead>\n",
       "    <tr style=\"text-align: right;\">\n",
       "      <th></th>\n",
       "      <th>합격여부</th>\n",
       "      <th>필기점수</th>\n",
       "      <th>학부성적</th>\n",
       "      <th>병원경력</th>\n",
       "    </tr>\n",
       "  </thead>\n",
       "  <tbody>\n",
       "    <tr>\n",
       "      <th>0</th>\n",
       "      <td>0</td>\n",
       "      <td>380</td>\n",
       "      <td>3.61</td>\n",
       "      <td>3</td>\n",
       "    </tr>\n",
       "    <tr>\n",
       "      <th>1</th>\n",
       "      <td>1</td>\n",
       "      <td>660</td>\n",
       "      <td>3.67</td>\n",
       "      <td>3</td>\n",
       "    </tr>\n",
       "    <tr>\n",
       "      <th>2</th>\n",
       "      <td>1</td>\n",
       "      <td>800</td>\n",
       "      <td>4.00</td>\n",
       "      <td>1</td>\n",
       "    </tr>\n",
       "    <tr>\n",
       "      <th>3</th>\n",
       "      <td>1</td>\n",
       "      <td>640</td>\n",
       "      <td>3.19</td>\n",
       "      <td>4</td>\n",
       "    </tr>\n",
       "    <tr>\n",
       "      <th>4</th>\n",
       "      <td>0</td>\n",
       "      <td>520</td>\n",
       "      <td>2.93</td>\n",
       "      <td>4</td>\n",
       "    </tr>\n",
       "  </tbody>\n",
       "</table>\n",
       "</div>"
      ],
      "text/plain": [
       "   합격여부  필기점수  학부성적  병원경력\n",
       "0     0   380  3.61     3\n",
       "1     1   660  3.67     3\n",
       "2     1   800  4.00     1\n",
       "3     1   640  3.19     4\n",
       "4     0   520  2.93     4"
      ]
     },
     "execution_count": 5,
     "metadata": {},
     "output_type": "execute_result"
    }
   ],
   "source": [
    "origin = read_excel('https://data.hossam.kr/E05/gradeuate.xlsx')\n",
    "origin.head()"
   ]
  },
  {
   "cell_type": "markdown",
   "metadata": {},
   "source": [
    "### 3) 데이터 전처리\n",
    "- 결측치 확인"
   ]
  },
  {
   "cell_type": "code",
   "execution_count": 6,
   "metadata": {},
   "outputs": [
    {
     "data": {
      "text/plain": [
       "합격여부    0\n",
       "필기점수    0\n",
       "학부성적    0\n",
       "병원경력    0\n",
       "dtype: int64"
      ]
     },
     "execution_count": 6,
     "metadata": {},
     "output_type": "execute_result"
    }
   ],
   "source": [
    "origin.isna().sum()"
   ]
  },
  {
   "cell_type": "markdown",
   "metadata": {},
   "source": [
    "- 명목형에 대한 데이터타입 설정"
   ]
  },
  {
   "cell_type": "code",
   "execution_count": 7,
   "metadata": {},
   "outputs": [
    {
     "name": "stdout",
     "output_type": "stream",
     "text": [
      "<class 'pandas.core.frame.DataFrame'>\n",
      "RangeIndex: 400 entries, 0 to 399\n",
      "Data columns (total 4 columns):\n",
      " #   Column  Non-Null Count  Dtype   \n",
      "---  ------  --------------  -----   \n",
      " 0   합격여부    400 non-null    category\n",
      " 1   필기점수    400 non-null    int64   \n",
      " 2   학부성적    400 non-null    float64 \n",
      " 3   병원경력    400 non-null    int64   \n",
      "dtypes: category(1), float64(1), int64(2)\n",
      "memory usage: 10.0 KB\n"
     ]
    }
   ],
   "source": [
    "origin['합격여부'] = origin['합격여부'].astype('category')\n",
    "origin.info()"
   ]
  },
  {
   "cell_type": "markdown",
   "metadata": {},
   "source": [
    "### 4) 탐색적 데이터 분석\n",
    "- 기본통계 확인"
   ]
  },
  {
   "cell_type": "code",
   "execution_count": 8,
   "metadata": {},
   "outputs": [
    {
     "data": {
      "text/html": [
       "<div>\n",
       "<style scoped>\n",
       "    .dataframe tbody tr th:only-of-type {\n",
       "        vertical-align: middle;\n",
       "    }\n",
       "\n",
       "    .dataframe tbody tr th {\n",
       "        vertical-align: top;\n",
       "    }\n",
       "\n",
       "    .dataframe thead th {\n",
       "        text-align: right;\n",
       "    }\n",
       "</style>\n",
       "<table border=\"1\" class=\"dataframe\">\n",
       "  <thead>\n",
       "    <tr style=\"text-align: right;\">\n",
       "      <th></th>\n",
       "      <th>필기점수</th>\n",
       "      <th>학부성적</th>\n",
       "      <th>병원경력</th>\n",
       "    </tr>\n",
       "  </thead>\n",
       "  <tbody>\n",
       "    <tr>\n",
       "      <th>count</th>\n",
       "      <td>400.000000</td>\n",
       "      <td>400.000000</td>\n",
       "      <td>400.00000</td>\n",
       "    </tr>\n",
       "    <tr>\n",
       "      <th>mean</th>\n",
       "      <td>587.700000</td>\n",
       "      <td>3.389900</td>\n",
       "      <td>2.48500</td>\n",
       "    </tr>\n",
       "    <tr>\n",
       "      <th>std</th>\n",
       "      <td>115.516536</td>\n",
       "      <td>0.380567</td>\n",
       "      <td>0.94446</td>\n",
       "    </tr>\n",
       "    <tr>\n",
       "      <th>min</th>\n",
       "      <td>220.000000</td>\n",
       "      <td>2.260000</td>\n",
       "      <td>1.00000</td>\n",
       "    </tr>\n",
       "    <tr>\n",
       "      <th>25%</th>\n",
       "      <td>520.000000</td>\n",
       "      <td>3.130000</td>\n",
       "      <td>2.00000</td>\n",
       "    </tr>\n",
       "    <tr>\n",
       "      <th>50%</th>\n",
       "      <td>580.000000</td>\n",
       "      <td>3.395000</td>\n",
       "      <td>2.00000</td>\n",
       "    </tr>\n",
       "    <tr>\n",
       "      <th>75%</th>\n",
       "      <td>660.000000</td>\n",
       "      <td>3.670000</td>\n",
       "      <td>3.00000</td>\n",
       "    </tr>\n",
       "    <tr>\n",
       "      <th>max</th>\n",
       "      <td>800.000000</td>\n",
       "      <td>4.000000</td>\n",
       "      <td>4.00000</td>\n",
       "    </tr>\n",
       "  </tbody>\n",
       "</table>\n",
       "</div>"
      ],
      "text/plain": [
       "             필기점수        학부성적       병원경력\n",
       "count  400.000000  400.000000  400.00000\n",
       "mean   587.700000    3.389900    2.48500\n",
       "std    115.516536    0.380567    0.94446\n",
       "min    220.000000    2.260000    1.00000\n",
       "25%    520.000000    3.130000    2.00000\n",
       "50%    580.000000    3.395000    2.00000\n",
       "75%    660.000000    3.670000    3.00000\n",
       "max    800.000000    4.000000    4.00000"
      ]
     },
     "execution_count": 8,
     "metadata": {},
     "output_type": "execute_result"
    }
   ],
   "source": [
    "origin.describe()"
   ]
  },
  {
   "cell_type": "markdown",
   "metadata": {},
   "source": [
    "- 상자그림 확인"
   ]
  },
  {
   "cell_type": "code",
   "execution_count": 9,
   "metadata": {},
   "outputs": [
    {
     "name": "stderr",
     "output_type": "stream",
     "text": [
      "/Library/Frameworks/Python.framework/Versions/3.9/lib/python3.9/site-packages/seaborn/_oldcore.py:1498: FutureWarning: is_categorical_dtype is deprecated and will be removed in a future version. Use isinstance(dtype, CategoricalDtype) instead\n",
      "  if pd.api.types.is_categorical_dtype(vector):\n",
      "/Library/Frameworks/Python.framework/Versions/3.9/lib/python3.9/site-packages/seaborn/_oldcore.py:1498: FutureWarning: is_categorical_dtype is deprecated and will be removed in a future version. Use isinstance(dtype, CategoricalDtype) instead\n",
      "  if pd.api.types.is_categorical_dtype(vector):\n",
      "/Library/Frameworks/Python.framework/Versions/3.9/lib/python3.9/site-packages/seaborn/_oldcore.py:1498: FutureWarning: is_categorical_dtype is deprecated and will be removed in a future version. Use isinstance(dtype, CategoricalDtype) instead\n",
      "  if pd.api.types.is_categorical_dtype(vector):\n",
      "/Users/dayoonz/Library/Python/3.9/lib/python/site-packages/IPython/core/pylabtools.py:152: UserWarning: Glyph 54596 (\\N{HANGUL SYLLABLE PIL}) missing from current font.\n",
      "  fig.canvas.print_figure(bytes_io, **kw)\n",
      "/Users/dayoonz/Library/Python/3.9/lib/python/site-packages/IPython/core/pylabtools.py:152: UserWarning: Glyph 44592 (\\N{HANGUL SYLLABLE GI}) missing from current font.\n",
      "  fig.canvas.print_figure(bytes_io, **kw)\n",
      "/Users/dayoonz/Library/Python/3.9/lib/python/site-packages/IPython/core/pylabtools.py:152: UserWarning: Glyph 51216 (\\N{HANGUL SYLLABLE JEOM}) missing from current font.\n",
      "  fig.canvas.print_figure(bytes_io, **kw)\n",
      "/Users/dayoonz/Library/Python/3.9/lib/python/site-packages/IPython/core/pylabtools.py:152: UserWarning: Glyph 49688 (\\N{HANGUL SYLLABLE SU}) missing from current font.\n",
      "  fig.canvas.print_figure(bytes_io, **kw)\n",
      "/Users/dayoonz/Library/Python/3.9/lib/python/site-packages/IPython/core/pylabtools.py:152: UserWarning: Glyph 54617 (\\N{HANGUL SYLLABLE HAG}) missing from current font.\n",
      "  fig.canvas.print_figure(bytes_io, **kw)\n",
      "/Users/dayoonz/Library/Python/3.9/lib/python/site-packages/IPython/core/pylabtools.py:152: UserWarning: Glyph 48512 (\\N{HANGUL SYLLABLE BU}) missing from current font.\n",
      "  fig.canvas.print_figure(bytes_io, **kw)\n",
      "/Users/dayoonz/Library/Python/3.9/lib/python/site-packages/IPython/core/pylabtools.py:152: UserWarning: Glyph 49457 (\\N{HANGUL SYLLABLE SEONG}) missing from current font.\n",
      "  fig.canvas.print_figure(bytes_io, **kw)\n",
      "/Users/dayoonz/Library/Python/3.9/lib/python/site-packages/IPython/core/pylabtools.py:152: UserWarning: Glyph 51201 (\\N{HANGUL SYLLABLE JEOG}) missing from current font.\n",
      "  fig.canvas.print_figure(bytes_io, **kw)\n",
      "/Users/dayoonz/Library/Python/3.9/lib/python/site-packages/IPython/core/pylabtools.py:152: UserWarning: Glyph 48337 (\\N{HANGUL SYLLABLE BYEONG}) missing from current font.\n",
      "  fig.canvas.print_figure(bytes_io, **kw)\n",
      "/Users/dayoonz/Library/Python/3.9/lib/python/site-packages/IPython/core/pylabtools.py:152: UserWarning: Glyph 50896 (\\N{HANGUL SYLLABLE WEON}) missing from current font.\n",
      "  fig.canvas.print_figure(bytes_io, **kw)\n",
      "/Users/dayoonz/Library/Python/3.9/lib/python/site-packages/IPython/core/pylabtools.py:152: UserWarning: Glyph 44221 (\\N{HANGUL SYLLABLE GYEONG}) missing from current font.\n",
      "  fig.canvas.print_figure(bytes_io, **kw)\n",
      "/Users/dayoonz/Library/Python/3.9/lib/python/site-packages/IPython/core/pylabtools.py:152: UserWarning: Glyph 47141 (\\N{HANGUL SYLLABLE RYEOG}) missing from current font.\n",
      "  fig.canvas.print_figure(bytes_io, **kw)\n"
     ]
    },
    {
     "data": {
      "image/png": "[encoded data removed]",
      "text/plain": [
       "<Figure size 1000x500 with 1 Axes>"
      ]
     },
     "metadata": {},
     "output_type": "display_data"
    }
   ],
   "source": [
    "plt.figure(figsize=(10, 5))\n",
    "sb.boxplot(data=origin)\n",
    "plt.show()\n",
    "plt.close()"
   ]
  },
  {
   "cell_type": "markdown",
   "metadata": {},
   "source": [
    "> 데이터 단위가 크게 다르므로 표준화가 필요해 보임"
   ]
  },
  {
   "cell_type": "markdown",
   "metadata": {},
   "source": [
    "### 5) 데이터셋 분할하기\n",
    "- 랜덤시드 고정"
   ]
  },
  {
   "cell_type": "code",
   "execution_count": 10,
   "metadata": {},
   "outputs": [],
   "source": [
    "np.random.seed(777)"
   ]
  },
  {
   "cell_type": "markdown",
   "metadata": {},
   "source": [
    "- 훈련 데이터(독립변수)와 레이블(종속변수) 구분하기"
   ]
  },
  {
   "cell_type": "code",
   "execution_count": 11,
   "metadata": {},
   "outputs": [
    {
     "data": {
      "text/plain": [
       "((400, 3), (400, 1))"
      ]
     },
     "execution_count": 11,
     "metadata": {},
     "output_type": "execute_result"
    }
   ],
   "source": [
    "x = origin[['필기점수', '학부성적','병원경력']]\n",
    "y = origin[['합격여부']]\n",
    "x.shape, y.shape"
   ]
  },
  {
   "cell_type": "markdown",
   "metadata": {},
   "source": [
    "- 데이터 표준화"
   ]
  },
  {
   "cell_type": "code",
   "execution_count": 12,
   "metadata": {},
   "outputs": [
    {
     "name": "stdout",
     "output_type": "stream",
     "text": [
      "(400, 3)\n"
     ]
    },
    {
     "data": {
      "text/plain": [
       "array([[-1.80026271,  0.57907192,  0.54596793],\n",
       "       [ 0.62666824,  0.73692942,  0.54596793],\n",
       "       [ 1.84013372,  1.60514289, -1.57429586],\n",
       "       ...,\n",
       "       [-1.10685387, -1.99925902, -0.51416397],\n",
       "       [ 0.97337266,  0.68431046, -0.51416397],\n",
       "       [ 0.10661161,  1.31573861,  0.54596793]])"
      ]
     },
     "execution_count": 12,
     "metadata": {},
     "output_type": "execute_result"
    }
   ],
   "source": [
    "x_scaler = StandardScaler()\n",
    "x_scale = x_scaler.fit_transform(x)\n",
    "print(x_scale.shape)\n",
    "x_scale"
   ]
  },
  {
   "cell_type": "markdown",
   "metadata": {},
   "source": [
    "- 표준화 전/후 상자그림 비교"
   ]
  },
  {
   "cell_type": "code",
   "execution_count": 13,
   "metadata": {},
   "outputs": [
    {
     "name": "stderr",
     "output_type": "stream",
     "text": [
      "/Library/Frameworks/Python.framework/Versions/3.9/lib/python3.9/site-packages/seaborn/_oldcore.py:1498: FutureWarning: is_categorical_dtype is deprecated and will be removed in a future version. Use isinstance(dtype, CategoricalDtype) instead\n",
      "  if pd.api.types.is_categorical_dtype(vector):\n",
      "/Library/Frameworks/Python.framework/Versions/3.9/lib/python3.9/site-packages/seaborn/_oldcore.py:1498: FutureWarning: is_categorical_dtype is deprecated and will be removed in a future version. Use isinstance(dtype, CategoricalDtype) instead\n",
      "  if pd.api.types.is_categorical_dtype(vector):\n",
      "/Library/Frameworks/Python.framework/Versions/3.9/lib/python3.9/site-packages/seaborn/_oldcore.py:1498: FutureWarning: is_categorical_dtype is deprecated and will be removed in a future version. Use isinstance(dtype, CategoricalDtype) instead\n",
      "  if pd.api.types.is_categorical_dtype(vector):\n",
      "/Library/Frameworks/Python.framework/Versions/3.9/lib/python3.9/site-packages/seaborn/_oldcore.py:1498: FutureWarning: is_categorical_dtype is deprecated and will be removed in a future version. Use isinstance(dtype, CategoricalDtype) instead\n",
      "  if pd.api.types.is_categorical_dtype(vector):\n",
      "/Library/Frameworks/Python.framework/Versions/3.9/lib/python3.9/site-packages/seaborn/_oldcore.py:1498: FutureWarning: is_categorical_dtype is deprecated and will be removed in a future version. Use isinstance(dtype, CategoricalDtype) instead\n",
      "  if pd.api.types.is_categorical_dtype(vector):\n",
      "/Library/Frameworks/Python.framework/Versions/3.9/lib/python3.9/site-packages/seaborn/_oldcore.py:1498: FutureWarning: is_categorical_dtype is deprecated and will be removed in a future version. Use isinstance(dtype, CategoricalDtype) instead\n",
      "  if pd.api.types.is_categorical_dtype(vector):\n",
      "/Users/dayoonz/Library/Python/3.9/lib/python/site-packages/IPython/core/pylabtools.py:152: UserWarning: Glyph 54596 (\\N{HANGUL SYLLABLE PIL}) missing from current font.\n",
      "  fig.canvas.print_figure(bytes_io, **kw)\n",
      "/Users/dayoonz/Library/Python/3.9/lib/python/site-packages/IPython/core/pylabtools.py:152: UserWarning: Glyph 44592 (\\N{HANGUL SYLLABLE GI}) missing from current font.\n",
      "  fig.canvas.print_figure(bytes_io, **kw)\n",
      "/Users/dayoonz/Library/Python/3.9/lib/python/site-packages/IPython/core/pylabtools.py:152: UserWarning: Glyph 51216 (\\N{HANGUL SYLLABLE JEOM}) missing from current font.\n",
      "  fig.canvas.print_figure(bytes_io, **kw)\n",
      "/Users/dayoonz/Library/Python/3.9/lib/python/site-packages/IPython/core/pylabtools.py:152: UserWarning: Glyph 49688 (\\N{HANGUL SYLLABLE SU}) missing from current font.\n",
      "  fig.canvas.print_figure(bytes_io, **kw)\n",
      "/Users/dayoonz/Library/Python/3.9/lib/python/site-packages/IPython/core/pylabtools.py:152: UserWarning: Glyph 54617 (\\N{HANGUL SYLLABLE HAG}) missing from current font.\n",
      "  fig.canvas.print_figure(bytes_io, **kw)\n",
      "/Users/dayoonz/Library/Python/3.9/lib/python/site-packages/IPython/core/pylabtools.py:152: UserWarning: Glyph 48512 (\\N{HANGUL SYLLABLE BU}) missing from current font.\n",
      "  fig.canvas.print_figure(bytes_io, **kw)\n",
      "/Users/dayoonz/Library/Python/3.9/lib/python/site-packages/IPython/core/pylabtools.py:152: UserWarning: Glyph 49457 (\\N{HANGUL SYLLABLE SEONG}) missing from current font.\n",
      "  fig.canvas.print_figure(bytes_io, **kw)\n",
      "/Users/dayoonz/Library/Python/3.9/lib/python/site-packages/IPython/core/pylabtools.py:152: UserWarning: Glyph 51201 (\\N{HANGUL SYLLABLE JEOG}) missing from current font.\n",
      "  fig.canvas.print_figure(bytes_io, **kw)\n",
      "/Users/dayoonz/Library/Python/3.9/lib/python/site-packages/IPython/core/pylabtools.py:152: UserWarning: Glyph 48337 (\\N{HANGUL SYLLABLE BYEONG}) missing from current font.\n",
      "  fig.canvas.print_figure(bytes_io, **kw)\n",
      "/Users/dayoonz/Library/Python/3.9/lib/python/site-packages/IPython/core/pylabtools.py:152: UserWarning: Glyph 50896 (\\N{HANGUL SYLLABLE WEON}) missing from current font.\n",
      "  fig.canvas.print_figure(bytes_io, **kw)\n",
      "/Users/dayoonz/Library/Python/3.9/lib/python/site-packages/IPython/core/pylabtools.py:152: UserWarning: Glyph 44221 (\\N{HANGUL SYLLABLE GYEONG}) missing from current font.\n",
      "  fig.canvas.print_figure(bytes_io, **kw)\n",
      "/Users/dayoonz/Library/Python/3.9/lib/python/site-packages/IPython/core/pylabtools.py:152: UserWarning: Glyph 47141 (\\N{HANGUL SYLLABLE RYEOG}) missing from current font.\n",
      "  fig.canvas.print_figure(bytes_io, **kw)\n"
     ]
    },
    {
     "data": {
      "image/png": "[encoded data removed]",
      "text/plain": [
       "<Figure size 2250x750 with 2 Axes>"
      ]
     },
     "metadata": {},
     "output_type": "display_data"
    }
   ],
   "source": [
    "# 임시로 독립변수와 종속변수를 하나의 DataFrame으로 병합\n",
    "x_scale_df = DataFrame(x_scale, columns=['필기점수', '학부성적', '병원경력'])\n",
    "\n",
    "fig, ax = plt.subplots(1, 2, figsize=(15, 5), dpi=150)\n",
    "sb.boxplot(data=origin, ax=ax[0])\n",
    "sb.boxplot(data=x_scale_df, ax=ax[1])\n",
    "ax[0].set_title('before')\n",
    "ax[1].set_title('after')\n",
    "plt.show()\n",
    "plt.close()\n"
   ]
  },
  {
   "cell_type": "markdown",
   "metadata": {},
   "source": [
    "- 훈련데이터와 검증데이터로 분할"
   ]
  },
  {
   "cell_type": "code",
   "execution_count": 14,
   "metadata": {},
   "outputs": [
    {
     "data": {
      "text/plain": [
       "((280, 3), (120, 3), (280, 1), (120, 1))"
      ]
     },
     "execution_count": 14,
     "metadata": {},
     "output_type": "execute_result"
    }
   ],
   "source": [
    "x_train, x_test, y_train, y_test = train_test_split(x_scale, \n",
    "                                                    y, \n",
    "                                                    test_size=0.3,\n",
    "                                                    random_state = 777)\n",
    "x_train.shape, x_test.shape, y_train.shape, y_test.shape"
   ]
  },
  {
   "cell_type": "markdown",
   "metadata": {},
   "source": [
    "### 6) 모델 개발\n",
    "- 모델 정의\n",
    "- [relu,] sigmoid rmsporp binary_crossentropy acc"
   ]
  },
  {
   "cell_type": "code",
   "execution_count": 16,
   "metadata": {},
   "outputs": [
    {
     "name": "stdout",
     "output_type": "stream",
     "text": [
      "Model: \"sequential\"\n",
      "_________________________________________________________________\n",
      " Layer (type)                Output Shape              Param #   \n",
      "=================================================================\n",
      " dense (Dense)               (None, 32)                128       \n",
      "                                                                 \n",
      " dense_1 (Dense)             (None, 1)                 33        \n",
      "                                                                 \n",
      "=================================================================\n",
      "Total params: 161 (644.00 Byte)\n",
      "Trainable params: 161 (644.00 Byte)\n",
      "Non-trainable params: 0 (0.00 Byte)\n",
      "_________________________________________________________________\n"
     ]
    }
   ],
   "source": [
    "my_model = Sequential()\n",
    "my_model.add(Dense(32, activation = 'relu', input_shape=(3, )))\n",
    "my_model.add(Dense(1, activation = 'sigmoid'))\n",
    "my_model.compile(optimizer='rmsprop', \n",
    "                 loss='binary_crossentropy',\n",
    "                 metrics=['acc'])\n",
    "my_model.summary()"
   ]
  },
  {
   "cell_type": "markdown",
   "metadata": {},
   "source": [
    "- 학습하기"
   ]
  },
  {
   "cell_type": "code",
   "execution_count": 17,
   "metadata": {},
   "outputs": [
    {
     "name": "stdout",
     "output_type": "stream",
     "text": [
      "Epoch 1/500\n",
      "9/9 [==============================] - 0s 13ms/step - loss: 0.6546 - acc: 0.6214 - val_loss: 0.6310 - val_acc: 0.6917 - lr: 0.0010\n",
      "Epoch 2/500\n",
      "9/9 [==============================] - 0s 3ms/step - loss: 0.6368 - acc: 0.6500 - val_loss: 0.6158 - val_acc: 0.7000 - lr: 0.0010\n",
      "Epoch 3/500\n",
      "9/9 [==============================] - 0s 3ms/step - loss: 0.6265 - acc: 0.6679 - val_loss: 0.6042 - val_acc: 0.7167 - lr: 0.0010\n",
      "Epoch 4/500\n",
      "9/9 [==============================] - 0s 3ms/step - loss: 0.6189 - acc: 0.6821 - val_loss: 0.5952 - val_acc: 0.7167 - lr: 0.0010\n",
      "Epoch 5/500\n",
      "9/9 [==============================] - 0s 3ms/step - loss: 0.6133 - acc: 0.6750 - val_loss: 0.5877 - val_acc: 0.6917 - lr: 0.0010\n",
      "Epoch 6/500\n",
      "9/9 [==============================] - 0s 3ms/step - loss: 0.6087 - acc: 0.6679 - val_loss: 0.5813 - val_acc: 0.7000 - lr: 0.0010\n",
      "Epoch 7/500\n",
      "9/9 [==============================] - 0s 3ms/step - loss: 0.6050 - acc: 0.6786 - val_loss: 0.5753 - val_acc: 0.7000 - lr: 0.0010\n",
      "Epoch 8/500\n",
      "9/9 [==============================] - 0s 3ms/step - loss: 0.6020 - acc: 0.6786 - val_loss: 0.5711 - val_acc: 0.7083 - lr: 0.0010\n",
      "Epoch 9/500\n",
      "9/9 [==============================] - 0s 3ms/step - loss: 0.5994 - acc: 0.6786 - val_loss: 0.5671 - val_acc: 0.7083 - lr: 0.0010\n",
      "Epoch 10/500\n",
      "9/9 [==============================] - 0s 3ms/step - loss: 0.5974 - acc: 0.6821 - val_loss: 0.5638 - val_acc: 0.7083 - lr: 0.0010\n",
      "Epoch 11/500\n",
      "9/9 [==============================] - 0s 3ms/step - loss: 0.5962 - acc: 0.6786 - val_loss: 0.5611 - val_acc: 0.7250 - lr: 0.0010\n",
      "Epoch 12/500\n",
      "9/9 [==============================] - 0s 3ms/step - loss: 0.5949 - acc: 0.6786 - val_loss: 0.5588 - val_acc: 0.7250 - lr: 0.0010\n",
      "Epoch 13/500\n",
      "9/9 [==============================] - 0s 3ms/step - loss: 0.5941 - acc: 0.6786 - val_loss: 0.5573 - val_acc: 0.7333 - lr: 0.0010\n",
      "Epoch 14/500\n",
      "9/9 [==============================] - 0s 3ms/step - loss: 0.5937 - acc: 0.6821 - val_loss: 0.5558 - val_acc: 0.7333 - lr: 0.0010\n",
      "Epoch 15/500\n",
      "9/9 [==============================] - 0s 3ms/step - loss: 0.5934 - acc: 0.6714 - val_loss: 0.5544 - val_acc: 0.7333 - lr: 0.0010\n",
      "Epoch 16/500\n",
      "9/9 [==============================] - 0s 3ms/step - loss: 0.5924 - acc: 0.6786 - val_loss: 0.5532 - val_acc: 0.7333 - lr: 0.0010\n",
      "Epoch 17/500\n",
      "9/9 [==============================] - 0s 2ms/step - loss: 0.5921 - acc: 0.6786 - val_loss: 0.5521 - val_acc: 0.7250 - lr: 0.0010\n",
      "Epoch 18/500\n",
      "9/9 [==============================] - 0s 2ms/step - loss: 0.5917 - acc: 0.6857 - val_loss: 0.5511 - val_acc: 0.7250 - lr: 0.0010\n",
      "Epoch 19/500\n",
      "9/9 [==============================] - 0s 2ms/step - loss: 0.5913 - acc: 0.6929 - val_loss: 0.5500 - val_acc: 0.7250 - lr: 0.0010\n",
      "Epoch 20/500\n",
      "9/9 [==============================] - 0s 2ms/step - loss: 0.5907 - acc: 0.6929 - val_loss: 0.5492 - val_acc: 0.7250 - lr: 0.0010\n",
      "Epoch 21/500\n",
      "9/9 [==============================] - 0s 3ms/step - loss: 0.5907 - acc: 0.6964 - val_loss: 0.5484 - val_acc: 0.7250 - lr: 0.0010\n",
      "Epoch 22/500\n",
      "9/9 [==============================] - 0s 2ms/step - loss: 0.5900 - acc: 0.7000 - val_loss: 0.5482 - val_acc: 0.7250 - lr: 0.0010\n",
      "Epoch 23/500\n",
      "9/9 [==============================] - 0s 3ms/step - loss: 0.5901 - acc: 0.7000 - val_loss: 0.5477 - val_acc: 0.7333 - lr: 0.0010\n",
      "Epoch 24/500\n",
      "9/9 [==============================] - 0s 3ms/step - loss: 0.5900 - acc: 0.7000 - val_loss: 0.5471 - val_acc: 0.7417 - lr: 0.0010\n",
      "Epoch 25/500\n",
      "9/9 [==============================] - 0s 3ms/step - loss: 0.5892 - acc: 0.7036 - val_loss: 0.5468 - val_acc: 0.7417 - lr: 0.0010\n",
      "Epoch 26/500\n",
      "9/9 [==============================] - 0s 3ms/step - loss: 0.5892 - acc: 0.6964 - val_loss: 0.5465 - val_acc: 0.7417 - lr: 0.0010\n",
      "Epoch 27/500\n",
      "9/9 [==============================] - 0s 3ms/step - loss: 0.5891 - acc: 0.7000 - val_loss: 0.5465 - val_acc: 0.7417 - lr: 0.0010\n",
      "Epoch 28/500\n",
      "9/9 [==============================] - 0s 3ms/step - loss: 0.5888 - acc: 0.7036 - val_loss: 0.5463 - val_acc: 0.7417 - lr: 0.0010\n",
      "Epoch 29/500\n",
      "9/9 [==============================] - 0s 3ms/step - loss: 0.5887 - acc: 0.7036 - val_loss: 0.5462 - val_acc: 0.7417 - lr: 0.0010\n",
      "Epoch 30/500\n",
      "9/9 [==============================] - 0s 3ms/step - loss: 0.5883 - acc: 0.7036 - val_loss: 0.5457 - val_acc: 0.7417 - lr: 0.0010\n",
      "Epoch 31/500\n",
      "9/9 [==============================] - 0s 3ms/step - loss: 0.5880 - acc: 0.7036 - val_loss: 0.5457 - val_acc: 0.7417 - lr: 0.0010\n",
      "Epoch 32/500\n",
      "9/9 [==============================] - 0s 3ms/step - loss: 0.5881 - acc: 0.7036 - val_loss: 0.5455 - val_acc: 0.7417 - lr: 0.0010\n",
      "Epoch 33/500\n",
      "9/9 [==============================] - 0s 3ms/step - loss: 0.5877 - acc: 0.7000 - val_loss: 0.5453 - val_acc: 0.7417 - lr: 0.0010\n",
      "Epoch 34/500\n",
      "9/9 [==============================] - 0s 3ms/step - loss: 0.5872 - acc: 0.7036 - val_loss: 0.5456 - val_acc: 0.7417 - lr: 0.0010\n",
      "Epoch 35/500\n",
      "9/9 [==============================] - 0s 3ms/step - loss: 0.5872 - acc: 0.7036 - val_loss: 0.5457 - val_acc: 0.7417 - lr: 0.0010\n",
      "Epoch 36/500\n",
      "1/9 [==>...........................] - ETA: 0s - loss: 0.7352 - acc: 0.6250\n",
      "Epoch 36: ReduceLROnPlateau reducing learning rate to 0.0005000000237487257.\n",
      "9/9 [==============================] - 0s 3ms/step - loss: 0.5874 - acc: 0.7000 - val_loss: 0.5455 - val_acc: 0.7417 - lr: 0.0010\n",
      "Epoch 37/500\n",
      "9/9 [==============================] - 0s 3ms/step - loss: 0.5864 - acc: 0.7036 - val_loss: 0.5455 - val_acc: 0.7417 - lr: 5.0000e-04\n",
      "Epoch 38/500\n",
      "9/9 [==============================] - 0s 3ms/step - loss: 0.5863 - acc: 0.7036 - val_loss: 0.5454 - val_acc: 0.7417 - lr: 5.0000e-04\n",
      "Epoch 38: early stopping\n"
     ]
    }
   ],
   "source": [
    "result = my_model.fit(x_train,\n",
    "                      y_train, \n",
    "                      epochs=500,\n",
    "                      validation_data = (x_test, y_test),\n",
    "                      callbacks = [EarlyStopping(monitor='val_loss',\n",
    "                                                 patience=5,\n",
    "                                                 verbose=1),\n",
    "                                   ReduceLROnPlateau(monitor='val_loss',\n",
    "                                                     patience=3,\n",
    "                                                     factor=0.5,\n",
    "                                                     min_lr=0.0001,\n",
    "                                                     verbose=1)])"
   ]
  },
  {
   "cell_type": "markdown",
   "metadata": {},
   "source": [
    "### 7) 학습 결과 평가"
   ]
  },
  {
   "cell_type": "code",
   "execution_count": 18,
   "metadata": {},
   "outputs": [
    {
     "name": "stderr",
     "output_type": "stream",
     "text": [
      "/Library/Frameworks/Python.framework/Versions/3.9/lib/python3.9/site-packages/seaborn/_oldcore.py:1498: FutureWarning: is_categorical_dtype is deprecated and will be removed in a future version. Use isinstance(dtype, CategoricalDtype) instead\n",
      "  if pd.api.types.is_categorical_dtype(vector):\n",
      "/Library/Frameworks/Python.framework/Versions/3.9/lib/python3.9/site-packages/seaborn/_oldcore.py:1498: FutureWarning: is_categorical_dtype is deprecated and will be removed in a future version. Use isinstance(dtype, CategoricalDtype) instead\n",
      "  if pd.api.types.is_categorical_dtype(vector):\n",
      "/Library/Frameworks/Python.framework/Versions/3.9/lib/python3.9/site-packages/seaborn/_oldcore.py:1119: FutureWarning: use_inf_as_na option is deprecated and will be removed in a future version. Convert inf values to NaN before operating instead.\n",
      "  with pd.option_context('mode.use_inf_as_na', True):\n",
      "/Library/Frameworks/Python.framework/Versions/3.9/lib/python3.9/site-packages/seaborn/_oldcore.py:1119: FutureWarning: use_inf_as_na option is deprecated and will be removed in a future version. Convert inf values to NaN before operating instead.\n",
      "  with pd.option_context('mode.use_inf_as_na', True):\n",
      "/Library/Frameworks/Python.framework/Versions/3.9/lib/python3.9/site-packages/seaborn/_oldcore.py:1498: FutureWarning: is_categorical_dtype is deprecated and will be removed in a future version. Use isinstance(dtype, CategoricalDtype) instead\n",
      "  if pd.api.types.is_categorical_dtype(vector):\n",
      "/Library/Frameworks/Python.framework/Versions/3.9/lib/python3.9/site-packages/seaborn/_oldcore.py:1498: FutureWarning: is_categorical_dtype is deprecated and will be removed in a future version. Use isinstance(dtype, CategoricalDtype) instead\n",
      "  if pd.api.types.is_categorical_dtype(vector):\n",
      "/Library/Frameworks/Python.framework/Versions/3.9/lib/python3.9/site-packages/seaborn/_oldcore.py:1119: FutureWarning: use_inf_as_na option is deprecated and will be removed in a future version. Convert inf values to NaN before operating instead.\n",
      "  with pd.option_context('mode.use_inf_as_na', True):\n",
      "/Library/Frameworks/Python.framework/Versions/3.9/lib/python3.9/site-packages/seaborn/_oldcore.py:1119: FutureWarning: use_inf_as_na option is deprecated and will be removed in a future version. Convert inf values to NaN before operating instead.\n",
      "  with pd.option_context('mode.use_inf_as_na', True):\n",
      "/Library/Frameworks/Python.framework/Versions/3.9/lib/python3.9/site-packages/seaborn/_oldcore.py:1498: FutureWarning: is_categorical_dtype is deprecated and will be removed in a future version. Use isinstance(dtype, CategoricalDtype) instead\n",
      "  if pd.api.types.is_categorical_dtype(vector):\n",
      "/Library/Frameworks/Python.framework/Versions/3.9/lib/python3.9/site-packages/seaborn/_oldcore.py:1498: FutureWarning: is_categorical_dtype is deprecated and will be removed in a future version. Use isinstance(dtype, CategoricalDtype) instead\n",
      "  if pd.api.types.is_categorical_dtype(vector):\n",
      "/Library/Frameworks/Python.framework/Versions/3.9/lib/python3.9/site-packages/seaborn/_oldcore.py:1119: FutureWarning: use_inf_as_na option is deprecated and will be removed in a future version. Convert inf values to NaN before operating instead.\n",
      "  with pd.option_context('mode.use_inf_as_na', True):\n",
      "/Library/Frameworks/Python.framework/Versions/3.9/lib/python3.9/site-packages/seaborn/_oldcore.py:1119: FutureWarning: use_inf_as_na option is deprecated and will be removed in a future version. Convert inf values to NaN before operating instead.\n",
      "  with pd.option_context('mode.use_inf_as_na', True):\n",
      "/Library/Frameworks/Python.framework/Versions/3.9/lib/python3.9/site-packages/seaborn/_oldcore.py:1498: FutureWarning: is_categorical_dtype is deprecated and will be removed in a future version. Use isinstance(dtype, CategoricalDtype) instead\n",
      "  if pd.api.types.is_categorical_dtype(vector):\n",
      "/Library/Frameworks/Python.framework/Versions/3.9/lib/python3.9/site-packages/seaborn/_oldcore.py:1498: FutureWarning: is_categorical_dtype is deprecated and will be removed in a future version. Use isinstance(dtype, CategoricalDtype) instead\n",
      "  if pd.api.types.is_categorical_dtype(vector):\n",
      "/Library/Frameworks/Python.framework/Versions/3.9/lib/python3.9/site-packages/seaborn/_oldcore.py:1119: FutureWarning: use_inf_as_na option is deprecated and will be removed in a future version. Convert inf values to NaN before operating instead.\n",
      "  with pd.option_context('mode.use_inf_as_na', True):\n",
      "/Library/Frameworks/Python.framework/Versions/3.9/lib/python3.9/site-packages/seaborn/_oldcore.py:1119: FutureWarning: use_inf_as_na option is deprecated and will be removed in a future version. Convert inf values to NaN before operating instead.\n",
      "  with pd.option_context('mode.use_inf_as_na', True):\n"
     ]
    },
    {
     "data": {
      "image/png": "[encoded data removed]",
      "text/plain": [
       "<Figure size 2250x750 with 2 Axes>"
      ]
     },
     "metadata": {},
     "output_type": "display_data"
    },
    {
     "name": "stdout",
     "output_type": "stream",
     "text": [
      "9/9 [==============================] - 0s 728us/step - loss: 0.5858 - acc: 0.7000\n",
      "최종 훈련 손실룰: 0.585801, 최종 훈련 정확도: 0.700000\n",
      "4/4 [==============================] - 0s 859us/step - loss: 0.5454 - acc: 0.7417\n",
      "최종 검증 손실률: 0.545363, 최종 검증 정확도: 0.741667\n"
     ]
    }
   ],
   "source": [
    "helper.tf_result_plot(result)\n",
    "\n",
    "evaluate1 = my_model.evaluate(x_train, y_train)\n",
    "print('최종 훈련 손실룰: %f, 최종 훈련 정확도: %f' % (evaluate1[0], evaluate1[1]))\n",
    "\n",
    "evaluate2 = my_model.evaluate(x_test, y_test)\n",
    "print('최종 검증 손실률: %f, 최종 검증 정확도: %f' % (evaluate2[0], evaluate2[1]))"
   ]
  },
  {
   "cell_type": "markdown",
   "metadata": {},
   "source": [
    "### 8) 학습 결과 적용\n",
    "- 훈련 데이터에 대한 예측 결과 산정"
   ]
  },
  {
   "cell_type": "code",
   "execution_count": 19,
   "metadata": {},
   "outputs": [
    {
     "name": "stdout",
     "output_type": "stream",
     "text": [
      "9/9 [==============================] - 0s 523us/step\n",
      "280개의 훈련 데이터가 1개의 경우의 수를 갖는다.\n",
      "[[0.39642125]\n",
      " [0.53339684]\n",
      " [0.13520591]\n",
      " [0.21914482]\n",
      " [0.15968062]\n",
      " [0.13103957]\n",
      " [0.4861693 ]\n",
      " [0.51576245]\n",
      " [0.33677882]\n",
      " [0.40094516]\n",
      " [0.32884   ]\n",
      " [0.3583506 ]\n",
      " [0.4586125 ]\n",
      " [0.29313987]\n",
      " [0.17055279]\n",
      " [0.4209932 ]\n",
      " [0.2097536 ]\n",
      " [0.4775457 ]\n",
      " [0.5635714 ]\n",
      " [0.5005306 ]\n",
      " [0.32300854]\n",
      " [0.51688313]\n",
      " [0.3308776 ]\n",
      " [0.13586631]\n",
      " [0.36374617]\n",
      " [0.33227888]\n",
      " [0.43463063]\n",
      " [0.33831292]\n",
      " [0.45675018]\n",
      " [0.47862712]\n",
      " [0.34206942]\n",
      " [0.47907928]\n",
      " [0.3469862 ]\n",
      " [0.22713865]\n",
      " [0.37694755]\n",
      " [0.2764097 ]\n",
      " [0.18169522]\n",
      " [0.08429828]\n",
      " [0.32011932]\n",
      " [0.4149415 ]\n",
      " [0.4179128 ]\n",
      " [0.13678649]\n",
      " [0.44430998]\n",
      " [0.31857997]\n",
      " [0.29160804]\n",
      " [0.4516215 ]\n",
      " [0.08770265]\n",
      " [0.2953635 ]\n",
      " [0.46066785]\n",
      " [0.14407805]\n",
      " [0.44102216]\n",
      " [0.3573014 ]\n",
      " [0.44238418]\n",
      " [0.15079245]\n",
      " [0.4664556 ]\n",
      " [0.5248494 ]\n",
      " [0.35526395]\n",
      " [0.44102216]\n",
      " [0.14678511]\n",
      " [0.3165926 ]\n",
      " [0.40212542]\n",
      " [0.42741156]\n",
      " [0.26637766]\n",
      " [0.32089898]\n",
      " [0.215888  ]\n",
      " [0.22264257]\n",
      " [0.47813344]\n",
      " [0.27499175]\n",
      " [0.16995354]\n",
      " [0.33624855]\n",
      " [0.31991693]\n",
      " [0.26134816]\n",
      " [0.3674362 ]\n",
      " [0.26659885]\n",
      " [0.4610764 ]\n",
      " [0.46120304]\n",
      " [0.46066785]\n",
      " [0.453292  ]\n",
      " [0.49367082]\n",
      " [0.33562332]\n",
      " [0.41955242]\n",
      " [0.32392073]\n",
      " [0.1663468 ]\n",
      " [0.15635839]\n",
      " [0.37175152]\n",
      " [0.22552598]\n",
      " [0.30872086]\n",
      " [0.4894835 ]\n",
      " [0.16005653]\n",
      " [0.5584184 ]\n",
      " [0.4334077 ]\n",
      " [0.10162986]\n",
      " [0.13587031]\n",
      " [0.32808596]\n",
      " [0.44881532]\n",
      " [0.3089654 ]\n",
      " [0.46307057]\n",
      " [0.5867974 ]\n",
      " [0.23026381]\n",
      " [0.4885643 ]\n",
      " [0.32537082]\n",
      " [0.20129444]\n",
      " [0.4812546 ]\n",
      " [0.48443943]\n",
      " [0.527091  ]\n",
      " [0.26182428]\n",
      " [0.25893578]\n",
      " [0.29056904]\n",
      " [0.18847851]\n",
      " [0.11208986]\n",
      " [0.50644463]\n",
      " [0.3584412 ]\n",
      " [0.40033445]\n",
      " [0.48734057]\n",
      " [0.42452106]\n",
      " [0.1857633 ]\n",
      " [0.13765988]\n",
      " [0.34622568]\n",
      " [0.3308787 ]\n",
      " [0.09174172]\n",
      " [0.12716262]\n",
      " [0.23648824]\n",
      " [0.445075  ]\n",
      " [0.34924057]\n",
      " [0.17541076]\n",
      " [0.43113315]\n",
      " [0.378729  ]\n",
      " [0.26353136]\n",
      " [0.35027078]\n",
      " [0.10963445]\n",
      " [0.25660318]\n",
      " [0.3693389 ]\n",
      " [0.42511472]\n",
      " [0.20788777]\n",
      " [0.20409171]\n",
      " [0.23413552]\n",
      " [0.10440173]\n",
      " [0.301448  ]\n",
      " [0.2628595 ]\n",
      " [0.22424565]\n",
      " [0.05543073]\n",
      " [0.33221743]\n",
      " [0.23761676]\n",
      " [0.34519294]\n",
      " [0.15256518]\n",
      " [0.49425137]\n",
      " [0.31808433]\n",
      " [0.32763195]\n",
      " [0.19193017]\n",
      " [0.54977113]\n",
      " [0.45701152]\n",
      " [0.4816519 ]\n",
      " [0.06087464]\n",
      " [0.48026484]\n",
      " [0.44527346]\n",
      " [0.20292062]\n",
      " [0.4047409 ]\n",
      " [0.35363835]\n",
      " [0.37368372]\n",
      " [0.4478439 ]\n",
      " [0.3614986 ]\n",
      " [0.3387746 ]\n",
      " [0.52349925]\n",
      " [0.470919  ]\n",
      " [0.03470803]\n",
      " [0.4015364 ]\n",
      " [0.48200503]\n",
      " [0.13847817]\n",
      " [0.34603673]\n",
      " [0.39562485]\n",
      " [0.5167223 ]\n",
      " [0.24274011]\n",
      " [0.32261112]\n",
      " [0.39003274]\n",
      " [0.19524005]\n",
      " [0.2121012 ]\n",
      " [0.4040317 ]\n",
      " [0.19852336]\n",
      " [0.48152858]\n",
      " [0.24494915]\n",
      " [0.34861624]\n",
      " [0.46980694]\n",
      " [0.19754682]\n",
      " [0.18690826]\n",
      " [0.1938725 ]\n",
      " [0.4498384 ]\n",
      " [0.2071251 ]\n",
      " [0.2096207 ]\n",
      " [0.250338  ]\n",
      " [0.19045404]\n",
      " [0.34124148]\n",
      " [0.41634637]\n",
      " [0.52256364]\n",
      " [0.3924848 ]\n",
      " [0.22278571]\n",
      " [0.16362436]\n",
      " [0.18179038]\n",
      " [0.17310041]\n",
      " [0.35086158]\n",
      " [0.4885643 ]\n",
      " [0.29430133]\n",
      " [0.45029354]\n",
      " [0.4368359 ]\n",
      " [0.33776498]\n",
      " [0.24948865]\n",
      " [0.45225027]\n",
      " [0.10656498]\n",
      " [0.18744959]\n",
      " [0.3541912 ]\n",
      " [0.05977434]\n",
      " [0.32599193]\n",
      " [0.38341832]\n",
      " [0.4703062 ]\n",
      " [0.5148302 ]\n",
      " [0.5223091 ]\n",
      " [0.12848409]\n",
      " [0.27124685]\n",
      " [0.32801878]\n",
      " [0.44370356]\n",
      " [0.21521223]\n",
      " [0.11610734]\n",
      " [0.32537082]\n",
      " [0.4089917 ]\n",
      " [0.44374225]\n",
      " [0.34721994]\n",
      " [0.37425685]\n",
      " [0.320469  ]\n",
      " [0.45361197]\n",
      " [0.41921306]\n",
      " [0.34257144]\n",
      " [0.46862113]\n",
      " [0.34088713]\n",
      " [0.43659133]\n",
      " [0.2858724 ]\n",
      " [0.16790393]\n",
      " [0.45371214]\n",
      " [0.3209036 ]\n",
      " [0.53523487]\n",
      " [0.41116917]\n",
      " [0.22025914]\n",
      " [0.38551947]\n",
      " [0.34619823]\n",
      " [0.46424055]\n",
      " [0.62528884]\n",
      " [0.32472575]\n",
      " [0.2702554 ]\n",
      " [0.3875722 ]\n",
      " [0.54977113]\n",
      " [0.11422075]\n",
      " [0.4411758 ]\n",
      " [0.33520094]\n",
      " [0.13760123]\n",
      " [0.12192182]\n",
      " [0.19840345]\n",
      " [0.32750863]\n",
      " [0.15046872]\n",
      " [0.2355662 ]\n",
      " [0.32693377]\n",
      " [0.26306865]\n",
      " [0.39668423]\n",
      " [0.48639247]\n",
      " [0.32300854]\n",
      " [0.55284077]\n",
      " [0.13976583]\n",
      " [0.36751315]\n",
      " [0.4544566 ]\n",
      " [0.5053254 ]\n",
      " [0.32907414]\n",
      " [0.2036334 ]\n",
      " [0.23276064]\n",
      " [0.47083148]\n",
      " [0.26155418]\n",
      " [0.39463043]\n",
      " [0.22457497]\n",
      " [0.49853995]\n",
      " [0.0438627 ]\n",
      " [0.4614171 ]\n",
      " [0.15079245]\n",
      " [0.4606331 ]\n",
      " [0.34451562]]\n"
     ]
    }
   ],
   "source": [
    "train_pred = my_model.predict(x_train)\n",
    "data_count, case_count = train_pred.shape\n",
    "print('%d개의 훈련 데이터가 %d개의 경우의 수를 갖는다.' % (data_count, case_count))\n",
    "print(train_pred)"
   ]
  },
  {
   "cell_type": "markdown",
   "metadata": {},
   "source": [
    "- 검증 데이터에 대한 예측 결과 산정"
   ]
  },
  {
   "cell_type": "code",
   "execution_count": 20,
   "metadata": {},
   "outputs": [
    {
     "name": "stdout",
     "output_type": "stream",
     "text": [
      "4/4 [==============================] - 0s 895us/step\n",
      "280개의 검증 데이터가 1개의 경우의 수를 갖는다.\n",
      "[[0.24618056]\n",
      " [0.2816202 ]\n",
      " [0.21216935]\n",
      " [0.24756543]\n",
      " [0.46216455]\n",
      " [0.19216646]\n",
      " [0.51471704]\n",
      " [0.14336987]\n",
      " [0.3355888 ]\n",
      " [0.4632692 ]\n",
      " [0.5490991 ]\n",
      " [0.283002  ]\n",
      " [0.14580873]\n",
      " [0.44567   ]\n",
      " [0.4006287 ]\n",
      " [0.34620827]\n",
      " [0.49136102]\n",
      " [0.31521136]\n",
      " [0.4084267 ]\n",
      " [0.19535346]\n",
      " [0.16673106]\n",
      " [0.33227888]\n",
      " [0.33455828]\n",
      " [0.19334112]\n",
      " [0.33294436]\n",
      " [0.44082743]\n",
      " [0.18086788]\n",
      " [0.45452285]\n",
      " [0.35360762]\n",
      " [0.42421165]\n",
      " [0.27867293]\n",
      " [0.0489634 ]\n",
      " [0.2136965 ]\n",
      " [0.32313088]\n",
      " [0.39792103]\n",
      " [0.34651732]\n",
      " [0.21439321]\n",
      " [0.33860737]\n",
      " [0.24450167]\n",
      " [0.2916393 ]\n",
      " [0.23547931]\n",
      " [0.34945247]\n",
      " [0.43843216]\n",
      " [0.47110096]\n",
      " [0.46895933]\n",
      " [0.15393423]\n",
      " [0.17494164]\n",
      " [0.16631043]\n",
      " [0.1011732 ]\n",
      " [0.4805308 ]\n",
      " [0.3043826 ]\n",
      " [0.29980528]\n",
      " [0.10560285]\n",
      " [0.17607069]\n",
      " [0.52605915]\n",
      " [0.17958787]\n",
      " [0.5165324 ]\n",
      " [0.4133506 ]\n",
      " [0.19680698]\n",
      " [0.52317107]\n",
      " [0.49315152]\n",
      " [0.45803574]\n",
      " [0.19055717]\n",
      " [0.20771235]\n",
      " [0.49065036]\n",
      " [0.32743305]\n",
      " [0.4343489 ]\n",
      " [0.45293134]\n",
      " [0.3483424 ]\n",
      " [0.41784018]\n",
      " [0.3614042 ]\n",
      " [0.31809044]\n",
      " [0.2668238 ]\n",
      " [0.2127331 ]\n",
      " [0.10983774]\n",
      " [0.40138495]\n",
      " [0.4120772 ]\n",
      " [0.54977113]\n",
      " [0.31372753]\n",
      " [0.41617745]\n",
      " [0.6068005 ]\n",
      " [0.3102886 ]\n",
      " [0.2545778 ]\n",
      " [0.468264  ]\n",
      " [0.40936938]\n",
      " [0.24891733]\n",
      " [0.48899487]\n",
      " [0.1707982 ]\n",
      " [0.5891634 ]\n",
      " [0.1621403 ]\n",
      " [0.34338766]\n",
      " [0.3340895 ]\n",
      " [0.39582273]\n",
      " [0.09227742]\n",
      " [0.44907844]\n",
      " [0.16113566]\n",
      " [0.4469578 ]\n",
      " [0.48916817]\n",
      " [0.3435187 ]\n",
      " [0.58444345]\n",
      " [0.4540116 ]\n",
      " [0.27399498]\n",
      " [0.20014516]\n",
      " [0.21772952]\n",
      " [0.09853777]\n",
      " [0.39070848]\n",
      " [0.34483093]\n",
      " [0.5830858 ]\n",
      " [0.35688227]\n",
      " [0.44959784]\n",
      " [0.5341489 ]\n",
      " [0.16384628]\n",
      " [0.3435829 ]\n",
      " [0.11755566]\n",
      " [0.16201986]\n",
      " [0.35684857]\n",
      " [0.2162833 ]\n",
      " [0.29461366]\n",
      " [0.10130324]\n",
      " [0.45850807]]\n"
     ]
    }
   ],
   "source": [
    "test_pred = my_model.predict(x_test)\n",
    "data_count, case_count = train_pred.shape\n",
    "print('%d개의 검증 데이터가 %d개의 경우의 수를 갖는다.' % (data_count, case_count))\n",
    "print(test_pred)"
   ]
  },
  {
   "cell_type": "markdown",
   "metadata": {},
   "source": [
    "- 결과 데이터셋 구성"
   ]
  },
  {
   "cell_type": "code",
   "execution_count": 21,
   "metadata": {},
   "outputs": [
    {
     "data": {
      "text/html": [
       "<div>\n",
       "<style scoped>\n",
       "    .dataframe tbody tr th:only-of-type {\n",
       "        vertical-align: middle;\n",
       "    }\n",
       "\n",
       "    .dataframe tbody tr th {\n",
       "        vertical-align: top;\n",
       "    }\n",
       "\n",
       "    .dataframe thead th {\n",
       "        text-align: right;\n",
       "    }\n",
       "</style>\n",
       "<table border=\"1\" class=\"dataframe\">\n",
       "  <thead>\n",
       "    <tr style=\"text-align: right;\">\n",
       "      <th></th>\n",
       "      <th>결과값</th>\n",
       "      <th>예측값</th>\n",
       "      <th>합격확률(%)</th>\n",
       "    </tr>\n",
       "  </thead>\n",
       "  <tbody>\n",
       "    <tr>\n",
       "      <th>0</th>\n",
       "      <td>1</td>\n",
       "      <td>0.0</td>\n",
       "      <td>39.599998</td>\n",
       "    </tr>\n",
       "    <tr>\n",
       "      <th>1</th>\n",
       "      <td>1</td>\n",
       "      <td>1.0</td>\n",
       "      <td>53.299999</td>\n",
       "    </tr>\n",
       "    <tr>\n",
       "      <th>2</th>\n",
       "      <td>1</td>\n",
       "      <td>0.0</td>\n",
       "      <td>13.500000</td>\n",
       "    </tr>\n",
       "    <tr>\n",
       "      <th>3</th>\n",
       "      <td>0</td>\n",
       "      <td>0.0</td>\n",
       "      <td>21.900000</td>\n",
       "    </tr>\n",
       "    <tr>\n",
       "      <th>4</th>\n",
       "      <td>0</td>\n",
       "      <td>0.0</td>\n",
       "      <td>16.000000</td>\n",
       "    </tr>\n",
       "    <tr>\n",
       "      <th>...</th>\n",
       "      <td>...</td>\n",
       "      <td>...</td>\n",
       "      <td>...</td>\n",
       "    </tr>\n",
       "    <tr>\n",
       "      <th>275</th>\n",
       "      <td>0</td>\n",
       "      <td>0.0</td>\n",
       "      <td>4.400000</td>\n",
       "    </tr>\n",
       "    <tr>\n",
       "      <th>276</th>\n",
       "      <td>0</td>\n",
       "      <td>0.0</td>\n",
       "      <td>46.099998</td>\n",
       "    </tr>\n",
       "    <tr>\n",
       "      <th>277</th>\n",
       "      <td>0</td>\n",
       "      <td>0.0</td>\n",
       "      <td>15.100000</td>\n",
       "    </tr>\n",
       "    <tr>\n",
       "      <th>278</th>\n",
       "      <td>1</td>\n",
       "      <td>0.0</td>\n",
       "      <td>46.099998</td>\n",
       "    </tr>\n",
       "    <tr>\n",
       "      <th>279</th>\n",
       "      <td>0</td>\n",
       "      <td>0.0</td>\n",
       "      <td>34.500000</td>\n",
       "    </tr>\n",
       "  </tbody>\n",
       "</table>\n",
       "<p>280 rows × 3 columns</p>\n",
       "</div>"
      ],
      "text/plain": [
       "    결과값  예측값    합격확률(%)\n",
       "0     1  0.0  39.599998\n",
       "1     1  1.0  53.299999\n",
       "2     1  0.0  13.500000\n",
       "3     0  0.0  21.900000\n",
       "4     0  0.0  16.000000\n",
       "..   ..  ...        ...\n",
       "275   0  0.0   4.400000\n",
       "276   0  0.0  46.099998\n",
       "277   0  0.0  15.100000\n",
       "278   1  0.0  46.099998\n",
       "279   0  0.0  34.500000\n",
       "\n",
       "[280 rows x 3 columns]"
      ]
     },
     "execution_count": 21,
     "metadata": {},
     "output_type": "execute_result"
    }
   ],
   "source": [
    "kdf = DataFrame({\n",
    "    '결과값': y_train['합격여부'].values,\n",
    "    '예측값': np.round(train_pred.flatten()),\n",
    "    '합격확률(%)': np.round(train_pred.flatten() * 100, 1)\n",
    "})\n",
    "kdf"
   ]
  },
  {
   "cell_type": "markdown",
   "metadata": {},
   "source": [
    "- 혼돈행렬\n",
    "    - 각 항목의 의미:\n",
    "        |구분|설명|\n",
    "        |--|--|\n",
    "        |TN(True Negative, Negative Negative)|실제는 Negative인데, Negative로 예측함.|\n",
    "        |FP(False Positive, Negative Positive)|실제는 Negative인데, Positive로 예측함. (Type1 Error)|\n",
    "        |FN(False Negative, Positive Negative)|실제는 Positive인데, Negative로 예측함. (Type2 Error)|\n",
    "        |TP(True Positive, Positive Positive)|실제는 Positive인데, Positive로 예측함.|"
   ]
  },
  {
   "cell_type": "code",
   "execution_count": 22,
   "metadata": {},
   "outputs": [
    {
     "name": "stdout",
     "output_type": "stream",
     "text": [
      "182 7 77 14\n"
     ]
    },
    {
     "data": {
      "text/html": [
       "<div>\n",
       "<style scoped>\n",
       "    .dataframe tbody tr th:only-of-type {\n",
       "        vertical-align: middle;\n",
       "    }\n",
       "\n",
       "    .dataframe tbody tr th {\n",
       "        vertical-align: top;\n",
       "    }\n",
       "\n",
       "    .dataframe thead th {\n",
       "        text-align: right;\n",
       "    }\n",
       "</style>\n",
       "<table border=\"1\" class=\"dataframe\">\n",
       "  <thead>\n",
       "    <tr style=\"text-align: right;\">\n",
       "      <th></th>\n",
       "      <th>Negative</th>\n",
       "      <th>Positive</th>\n",
       "    </tr>\n",
       "  </thead>\n",
       "  <tbody>\n",
       "    <tr>\n",
       "      <th>True</th>\n",
       "      <td>182</td>\n",
       "      <td>14</td>\n",
       "    </tr>\n",
       "    <tr>\n",
       "      <th>False</th>\n",
       "      <td>77</td>\n",
       "      <td>7</td>\n",
       "    </tr>\n",
       "  </tbody>\n",
       "</table>\n",
       "</div>"
      ],
      "text/plain": [
       "       Negative  Positive\n",
       "True        182        14\n",
       "False        77         7"
      ]
     },
     "execution_count": 22,
     "metadata": {},
     "output_type": "execute_result"
    }
   ],
   "source": [
    "cm = confusion_matrix(kdf['결과값'], kdf['예측값'])\n",
    "tn, fp, fn, tp = cm.ravel()\n",
    "print(tn, fp, fn, tp)\n",
    "cmdf1 = DataFrame([[tn, tp], [fn, fp]], \n",
    "                  index=['True', 'False'], \n",
    "                  columns=['Negative', 'Positive'])\n",
    "cmdf1"
   ]
  },
  {
   "cell_type": "code",
   "execution_count": 23,
   "metadata": {},
   "outputs": [],
   "source": [
    "cm2 = confusion_matrix(kdf['결과값'], kdf['예측값'])\n",
    "cmdf2 = DataFrame(cm2, \n",
    "                  index=['실제(False)', '실제(True)'], \n",
    "                  columns=['예측(Negative)', '예측(Positive)'])"
   ]
  },
  {
   "cell_type": "code",
   "execution_count": 24,
   "metadata": {},
   "outputs": [
    {
     "name": "stderr",
     "output_type": "stream",
     "text": [
      "/Users/dayoonz/Library/Python/3.9/lib/python/site-packages/IPython/core/pylabtools.py:152: UserWarning: Glyph 50696 (\\N{HANGUL SYLLABLE YE}) missing from current font.\n",
      "  fig.canvas.print_figure(bytes_io, **kw)\n",
      "/Users/dayoonz/Library/Python/3.9/lib/python/site-packages/IPython/core/pylabtools.py:152: UserWarning: Glyph 52769 (\\N{HANGUL SYLLABLE CEUG}) missing from current font.\n",
      "  fig.canvas.print_figure(bytes_io, **kw)\n",
      "/Users/dayoonz/Library/Python/3.9/lib/python/site-packages/IPython/core/pylabtools.py:152: UserWarning: Glyph 44050 (\\N{HANGUL SYLLABLE GABS}) missing from current font.\n",
      "  fig.canvas.print_figure(bytes_io, **kw)\n",
      "/Users/dayoonz/Library/Python/3.9/lib/python/site-packages/IPython/core/pylabtools.py:152: UserWarning: Glyph 44208 (\\N{HANGUL SYLLABLE GYEOL}) missing from current font.\n",
      "  fig.canvas.print_figure(bytes_io, **kw)\n",
      "/Users/dayoonz/Library/Python/3.9/lib/python/site-packages/IPython/core/pylabtools.py:152: UserWarning: Glyph 44284 (\\N{HANGUL SYLLABLE GWA}) missing from current font.\n",
      "  fig.canvas.print_figure(bytes_io, **kw)\n"
     ]
    },
    {
     "data": {
      "image/png": "[encoded data removed]",
      "text/plain": [
       "<Figure size 500x300 with 2 Axes>"
      ]
     },
     "metadata": {},
     "output_type": "display_data"
    }
   ],
   "source": [
    "plt.figure(figsize=(5, 3))\n",
    "# 오차 행렬을 히트맵 그래프로 표현\n",
    "# -> annot : 그래프의 각 칸에 수치값 출력\n",
    "# -> fmt : 수치값 출력 format (여기서는 10진수)\n",
    "# -> cmap : 색상맵 (<https://matplotlib.org/3.2.1/tutorials/colors/colormaps.html>)\n",
    "sb.heatmap(cm,\n",
    "           annot = True,\n",
    "           fmt = 'd',\n",
    "           cmap = 'Blues')\n",
    "plt.xticks([0.5,1.5], ['Negative', 'Positive'])\n",
    "plt.yticks([0.5,1.5], ['True', 'False'])\n",
    "plt.xlabel('예측값')\n",
    "plt.ylabel('결과값')\n",
    "plt.show()"
   ]
  },
  {
   "cell_type": "markdown",
   "metadata": {},
   "source": [
    "- 평가지표"
   ]
  },
  {
   "cell_type": "code",
   "execution_count": 25,
   "metadata": {},
   "outputs": [
    {
     "name": "stderr",
     "output_type": "stream",
     "text": [
      "/Library/Frameworks/Python.framework/Versions/3.9/lib/python3.9/site-packages/seaborn/_oldcore.py:1498: FutureWarning: is_categorical_dtype is deprecated and will be removed in a future version. Use isinstance(dtype, CategoricalDtype) instead\n",
      "  if pd.api.types.is_categorical_dtype(vector):\n",
      "/Library/Frameworks/Python.framework/Versions/3.9/lib/python3.9/site-packages/seaborn/_oldcore.py:1498: FutureWarning: is_categorical_dtype is deprecated and will be removed in a future version. Use isinstance(dtype, CategoricalDtype) instead\n",
      "  if pd.api.types.is_categorical_dtype(vector):\n",
      "/Library/Frameworks/Python.framework/Versions/3.9/lib/python3.9/site-packages/seaborn/_oldcore.py:1119: FutureWarning: use_inf_as_na option is deprecated and will be removed in a future version. Convert inf values to NaN before operating instead.\n",
      "  with pd.option_context('mode.use_inf_as_na', True):\n",
      "/Library/Frameworks/Python.framework/Versions/3.9/lib/python3.9/site-packages/seaborn/_oldcore.py:1119: FutureWarning: use_inf_as_na option is deprecated and will be removed in a future version. Convert inf values to NaN before operating instead.\n",
      "  with pd.option_context('mode.use_inf_as_na', True):\n",
      "/Library/Frameworks/Python.framework/Versions/3.9/lib/python3.9/site-packages/seaborn/_oldcore.py:1498: FutureWarning: is_categorical_dtype is deprecated and will be removed in a future version. Use isinstance(dtype, CategoricalDtype) instead\n",
      "  if pd.api.types.is_categorical_dtype(vector):\n",
      "/Library/Frameworks/Python.framework/Versions/3.9/lib/python3.9/site-packages/seaborn/_oldcore.py:1498: FutureWarning: is_categorical_dtype is deprecated and will be removed in a future version. Use isinstance(dtype, CategoricalDtype) instead\n",
      "  if pd.api.types.is_categorical_dtype(vector):\n",
      "/Library/Frameworks/Python.framework/Versions/3.9/lib/python3.9/site-packages/seaborn/_oldcore.py:1119: FutureWarning: use_inf_as_na option is deprecated and will be removed in a future version. Convert inf values to NaN before operating instead.\n",
      "  with pd.option_context('mode.use_inf_as_na', True):\n",
      "/Library/Frameworks/Python.framework/Versions/3.9/lib/python3.9/site-packages/seaborn/_oldcore.py:1119: FutureWarning: use_inf_as_na option is deprecated and will be removed in a future version. Convert inf values to NaN before operating instead.\n",
      "  with pd.option_context('mode.use_inf_as_na', True):\n"
     ]
    },
    {
     "data": {
      "image/png": "[encoded data removed]",
      "text/plain": [
       "<Figure size 640x480 with 1 Axes>"
      ]
     },
     "metadata": {},
     "output_type": "display_data"
    }
   ],
   "source": [
    "ras = roc_auc_score(kdf['결과값'], kdf['예측값'])\n",
    "# 위양성율, 재현율, 임계값(사용안함)\n",
    "fpr, tpr, thresholds = roc_curve(kdf['결과값'], kdf['예측값'])\n",
    "\n",
    "plt.figure()\n",
    "sb.lineplot(x=fpr, y=tpr)\n",
    "sb.lineplot(x=[0,1],\n",
    "            y=[0,1],\n",
    "            color='red',\n",
    "            linestyle=':',\n",
    "            alpha=0.5)\n",
    "plt.title('AUC={:.4f}'.format(ras))\n",
    "plt.grid()\n",
    "plt.show()\n",
    "plt.close()"
   ]
  },
  {
   "cell_type": "code",
   "execution_count": 26,
   "metadata": {},
   "outputs": [
    {
     "data": {
      "text/html": [
       "<div>\n",
       "<style scoped>\n",
       "    .dataframe tbody tr th:only-of-type {\n",
       "        vertical-align: middle;\n",
       "    }\n",
       "\n",
       "    .dataframe tbody tr th {\n",
       "        vertical-align: top;\n",
       "    }\n",
       "\n",
       "    .dataframe thead th {\n",
       "        text-align: right;\n",
       "    }\n",
       "</style>\n",
       "<table border=\"1\" class=\"dataframe\">\n",
       "  <thead>\n",
       "    <tr style=\"text-align: right;\">\n",
       "      <th></th>\n",
       "      <th>정확도(Accuracy)</th>\n",
       "      <th>정밀도(Precision)</th>\n",
       "      <th>재현율(Recall, TPR)</th>\n",
       "      <th>위양성율(Fallout, FPR)</th>\n",
       "      <th>특이성(Specificity, TNR)</th>\n",
       "      <th>RAS</th>\n",
       "      <th>f1_score</th>\n",
       "    </tr>\n",
       "  </thead>\n",
       "  <tbody>\n",
       "    <tr>\n",
       "      <th>0</th>\n",
       "      <td>0.7</td>\n",
       "      <td>0.666667</td>\n",
       "      <td>0.153846</td>\n",
       "      <td>0.037037</td>\n",
       "      <td>0.962963</td>\n",
       "      <td>0.558405</td>\n",
       "      <td>0.25</td>\n",
       "    </tr>\n",
       "  </tbody>\n",
       "</table>\n",
       "</div>"
      ],
      "text/plain": [
       "   정확도(Accuracy)  정밀도(Precision)  재현율(Recall, TPR)  위양성율(Fallout, FPR)  \\\n",
       "0            0.7        0.666667          0.153846            0.037037   \n",
       "\n",
       "   특이성(Specificity, TNR)       RAS  f1_score  \n",
       "0               0.962963  0.558405      0.25  "
      ]
     },
     "execution_count": 26,
     "metadata": {},
     "output_type": "execute_result"
    }
   ],
   "source": [
    "# 정확도\n",
    "acc = accuracy_score(kdf['결과값'], kdf['예측값'])\n",
    "\n",
    "# 정밀도\n",
    "pre = precision_score(kdf['결과값'], kdf['예측값'])\n",
    "\n",
    "# 재현율\n",
    "recall = recall_score(kdf['결과값'], kdf['예측값'])\n",
    "\n",
    "# F1 score\n",
    "f1 = f1_score(kdf['결과값'], kdf['예측값'])\n",
    "\n",
    "# 위양성율\n",
    "fallout = fp / (fp + tn)\n",
    "\n",
    "# 특이성\n",
    "spe = 1 - fallout\n",
    "\n",
    "result_df = DataFrame({'정확도(Accuracy)': [acc],\n",
    "                       '정밀도(Precision)': [pre],\n",
    "                       '재현율(Recall, TPR)': [recall],\n",
    "                       '위양성율(Fallout, FPR)': [fallout],\n",
    "                       '특이성(Specificity, TNR)': [spe],\n",
    "                       'RAS': [ras],\n",
    "                       'f1_score': [f1]})\n",
    "\n",
    "result_df"
   ]
  },
  {
   "cell_type": "markdown",
   "metadata": {},
   "source": [
    "- 분류 보고서\n",
    "    - precision : 정밀도 (분류기가 참으로 분류한 항목 중에서 실제 데이터가 참인 비율)\n",
    "    - recall : 재현율 (실제 참 중에서 분류기가 참으로 분류한 비율)\n",
    "    - f1-score : 2(Recall Precision) / (Recall + Precision)\n",
    "        - Precision과 Recall의 조화평균\n",
    "        - 주로 분류 클래스 간 데이터가 심각한 불균형을 이루는 경우에 사용\n",
    "        - 정확도의 경우, 클래스가 데이터 분류가 균일하지 못하면 머신의 성능을 제대로 나타내줄 수 없기 때문에 F1을 사용한다.\n",
    "    - support : 전체 데이터 수"
   ]
  },
  {
   "cell_type": "code",
   "execution_count": 27,
   "metadata": {},
   "outputs": [
    {
     "name": "stdout",
     "output_type": "stream",
     "text": [
      "              precision    recall  f1-score   support\n",
      "\n",
      "           0       0.70      0.96      0.81       189\n",
      "           1       0.67      0.15      0.25        91\n",
      "\n",
      "    accuracy                           0.70       280\n",
      "   macro avg       0.68      0.56      0.53       280\n",
      "weighted avg       0.69      0.70      0.63       280\n",
      "\n"
     ]
    }
   ],
   "source": [
    "report = classification_report(kdf['결과값'], kdf['예측값'])\n",
    "print(report)"
   ]
  }
 ],
 "metadata": {
  "kernelspec": {
   "display_name": "Python 3",
   "language": "python",
   "name": "python3"
  },
  "language_info": {
   "codemirror_mode": {
    "name": "ipython",
    "version": 3
   },
   "file_extension": ".py",
   "mimetype": "text/x-python",
   "name": "python",
   "nbconvert_exporter": "python",
   "pygments_lexer": "ipython3",
   "version": "3.9.13"
  },
  "orig_nbformat": 4
 },
 "nbformat": 4,
 "nbformat_minor": 2
}
