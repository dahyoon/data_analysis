{
 "cells": [
  {
   "cell_type": "markdown",
   "metadata": {},
   "source": [
    "# 다중선형회귀 - 보스턴 집값 예측하기\n",
    "## 다중선형회귀 수행\n",
    "### 1) 패키지 준비"
   ]
  },
  {
   "cell_type": "code",
   "execution_count": null,
   "metadata": {},
   "outputs": [],
   "source": [
    "import sys\n",
    "sys.path.append('../../')\n",
    "import helper\n",
    "\n",
    "from pandas import read_excel, DataFrame, merge\n",
    "from matplotlib import pyplot as plt\n",
    "import seaborn as sb\n",
    "import numpy as np\n",
    "\n",
    "from sklearn.model_selection import train_test_split\n",
    "from sklearn.preprocessing import StandardScaler\n",
    "\n",
    "from tensorflow.keras.models import Sequential\n",
    "from tensorflow.keras.layers import Dense\n",
    "from tensorflow.keras.callbacks import EarlyStopping, ReduceLROnPlateau, ModelCheckpoint"
   ]
  },
  {
   "cell_type": "markdown",
   "metadata": {},
   "source": [
    "### 2) 데이터셋 준비\n",
    "\n",
    "|필드|설명|\n",
    "|--:|-|\n",
    "|CRIM|범죄율|\n",
    "|ZN|25,000 평방피트를 초과 거주지역 비율|\n",
    "|INDUS|비소매상업지역 면적 비율|\n",
    "|CHAS|찰스강의 경계에 위치한 경우는 1, 아니면 0|\n",
    "|NOX|일산화질소 농도|\n",
    "|RM|주택당 방 수|\n",
    "|AGE|1940년 이전에 건축된 주택의 비율|\n",
    "|DIS|직업센터의 거리|\n",
    "|RAD|방사형 고속도로까지의 거리|\n",
    "|TAX|재산세율|\n",
    "|PTRATIO|학생/교사 비율|\n",
    "|B|인구 중 흑인 비율|\n",
    "|LSTAT|인구 중 하위 계층 비율|\n",
    "|MEDV|집값|\n",
    "|CAT.MEDV|$3000 이상 여부|"
   ]
  },
  {
   "cell_type": "code",
   "execution_count": null,
   "metadata": {},
   "outputs": [],
   "source": [
    "origin = read_excel('https://data.hossam.kr/E04/boston.xlsx')\n",
    "origin.info()"
   ]
  },
  {
   "cell_type": "markdown",
   "metadata": {},
   "source": [
    "### 3) 데이터 전처리\n",
    "- 결측치 확인"
   ]
  },
  {
   "cell_type": "code",
   "execution_count": 2,
   "metadata": {},
   "outputs": [
    {
     "ename": "NameError",
     "evalue": "name 'origin' is not defined",
     "output_type": "error",
     "traceback": [
      "\u001b[0;31m---------------------------------------------------------------------------\u001b[0m",
      "\u001b[0;31mNameError\u001b[0m                                 Traceback (most recent call last)",
      "Cell \u001b[0;32mIn[2], line 1\u001b[0m\n\u001b[0;32m----> 1\u001b[0m origin\u001b[39m.\u001b[39misna()\u001b[39m.\u001b[39msum()\n",
      "\u001b[0;31mNameError\u001b[0m: name 'origin' is not defined"
     ]
    }
   ],
   "source": [
    "origin.isna().sum()"
   ]
  },
  {
   "cell_type": "markdown",
   "metadata": {},
   "source": [
    "### 4) 탐색적 데이터 분석\n",
    "- 명목형 처리"
   ]
  },
  {
   "cell_type": "code",
   "execution_count": null,
   "metadata": {},
   "outputs": [],
   "source": [
    "origin['CHAS'] = origin['CHAS'].astype('category')\n",
    "origin['CAT. MEDV'] = origin['CAT. MEDV'].astype('category')\n",
    "origin.info()"
   ]
  },
  {
   "cell_type": "markdown",
   "metadata": {},
   "source": [
    "- 기본통계 확인\n",
    "    - `DataFrame.describe()`\n",
    "    - 명목형 레이블들은 따로 파라미터에 넣지 않는 이상 default로 제외된다"
   ]
  },
  {
   "cell_type": "code",
   "execution_count": 3,
   "metadata": {},
   "outputs": [
    {
     "ename": "NameError",
     "evalue": "name 'origin' is not defined",
     "output_type": "error",
     "traceback": [
      "\u001b[0;31m---------------------------------------------------------------------------\u001b[0m",
      "\u001b[0;31mNameError\u001b[0m                                 Traceback (most recent call last)",
      "Cell \u001b[0;32mIn[3], line 1\u001b[0m\n\u001b[0;32m----> 1\u001b[0m origin\u001b[39m.\u001b[39mdescribe()\n",
      "\u001b[0;31mNameError\u001b[0m: name 'origin' is not defined"
     ]
    }
   ],
   "source": [
    "origin.describe()"
   ]
  },
  {
   "cell_type": "markdown",
   "metadata": {},
   "source": [
    "- 상자그림"
   ]
  },
  {
   "cell_type": "code",
   "execution_count": null,
   "metadata": {},
   "outputs": [],
   "source": [
    "plt.figure(figsize = (10, 5))\n",
    "sb.boxplot(data=origin)\n",
    "plt.show()\n",
    "plt.close()"
   ]
  },
  {
   "cell_type": "markdown",
   "metadata": {},
   "source": [
    "- 산점도 그래프와 추세선 확인"
   ]
  },
  {
   "cell_type": "code",
   "execution_count": null,
   "metadata": {},
   "outputs": [],
   "source": [
    "plt.figure(figsize=(30, 30))\n",
    "sb.pairplot(origin)\n",
    "plt.show()\n",
    "plt.close()"
   ]
  },
  {
   "cell_type": "markdown",
   "metadata": {},
   "source": [
    "- 상관 계수 확인\n",
    "    - 상관 계수: 두 변수 x, y 사이의 상관관계의 정도를 나타내는 수치\n",
    "        - 상관계수 r은 항상 -1 ~ 1 사이에 있음\n",
    "        - 상관계수 절대값의 크기는 직선 관계에 가까운 정도를 나타내고, 부호는 직선관계의 방향을 나타낸다\n",
    "            - 상관계수의 절대값이 클수록(즉, 상관계수의 값이 1 또는 -1에 가까울수록) 두 변수 사이의 연관성이 크고, 0에 가까울수록 매우 약합을 의미\n",
    "        - 종류\n",
    "            - r > 0: 양의 상관관계\n",
    "            - r < 0: 음의 상관관계\n",
    "            - r = +1: 모든 점이 정확히 기울기가 양수인 직선 위에 위치한다\n",
    "            - r = -1: 모든 점이 정확히 기울기가 음수인 직선 위에 위치한다\n",
    "    - 주의할 점:\n",
    "        - 자료분석시 큰 상관계수값이 항상 두 변수 사이의 어떤 인과관계를 의미하지는 않는다는 사실\n",
    "        - 두 변수 사이에 연관성이 높다는 것이지, 뚜렷한 인과관계를 의미하지는 않는다는 의미\n",
    "> 상관계수 내용 참조: https://leedakyeong.tistory.com/entry/%EA%B8%B0%EC%B4%88%ED%86%B5%EA%B3%84-%EC%83%81%EA%B4%80%EA%B3%84%EC%88%98%EB%9E%80-What-is-correlation-coefficient"
   ]
  },
  {
   "cell_type": "code",
   "execution_count": null,
   "metadata": {},
   "outputs": [],
   "source": [
    "corr = origin.drop('MEDV', axis=1).corr()\n",
    "corr"
   ]
  },
  {
   "cell_type": "markdown",
   "metadata": {},
   "source": [
    "- 상관계수 히트맵"
   ]
  },
  {
   "cell_type": "code",
   "execution_count": null,
   "metadata": {},
   "outputs": [],
   "source": [
    "plt.figure(figsize=(15, 10))\n",
    "sb.heatmap(corr, \n",
    "           annot = True, \\\n",
    "           cmap = 'Greens', \n",
    "           vmin=-1, \n",
    "           vmax=1,\n",
    "           linewidths=0.5)\n",
    "plt.show()\n",
    "plt.close()"
   ]
  },
  {
   "cell_type": "markdown",
   "metadata": {},
   "source": [
    "- 제외하기로 한 독립변수 제거\n",
    "> 상관계수의 절대값이 0.7 이상인 항목을 순차적으로 제거하여 회귀분석에 사용할 요인을 선정"
   ]
  },
  {
   "cell_type": "code",
   "execution_count": 4,
   "metadata": {},
   "outputs": [
    {
     "ename": "NameError",
     "evalue": "name 'origin' is not defined",
     "output_type": "error",
     "traceback": [
      "\u001b[0;31m---------------------------------------------------------------------------\u001b[0m",
      "\u001b[0;31mNameError\u001b[0m                                 Traceback (most recent call last)",
      "Cell \u001b[0;32mIn[4], line 1\u001b[0m\n\u001b[0;32m----> 1\u001b[0m x \u001b[39m=\u001b[39m origin\u001b[39m.\u001b[39mdrop([\u001b[39m'\u001b[39m\u001b[39mTAX\u001b[39m\u001b[39m'\u001b[39m, \u001b[39m'\u001b[39m\u001b[39mDIS\u001b[39m\u001b[39m'\u001b[39m, \u001b[39m'\u001b[39m\u001b[39mNOX\u001b[39m\u001b[39m'\u001b[39m, \u001b[39m'\u001b[39m\u001b[39mINDUS\u001b[39m\u001b[39m'\u001b[39m], axis \u001b[39m=\u001b[39m \u001b[39m1\u001b[39m)\n\u001b[1;32m      2\u001b[0m x\n",
      "\u001b[0;31mNameError\u001b[0m: name 'origin' is not defined"
     ]
    }
   ],
   "source": [
    "x = origin.drop(['TAX', 'DIS', 'NOX', 'INDUS'], axis = 1)\n",
    "x"
   ]
  },
  {
   "cell_type": "code",
   "execution_count": null,
   "metadata": {},
   "outputs": [],
   "source": [
    "plt.figure(figsize = (15, 10))\n",
    "sb.heatmap(x.corr(), \n",
    "           annot=True, \n",
    "           cmap='Greens',\n",
    "           vmin=-1,\n",
    "           vmax=+1,\n",
    "           linewidths=0.5)\n",
    "plt.show()\n",
    "plt.close()"
   ]
  },
  {
   "cell_type": "code",
   "execution_count": null,
   "metadata": {},
   "outputs": [],
   "source": [
    "x.info()"
   ]
  },
  {
   "cell_type": "markdown",
   "metadata": {},
   "source": [
    "- 명목형 변수만 추출"
   ]
  },
  {
   "cell_type": "code",
   "execution_count": null,
   "metadata": {},
   "outputs": [],
   "source": [
    "categorical_df = x.filter(['CHAS', 'CAT. MEDV'])\n",
    "categorical_df.info()"
   ]
  },
  {
   "cell_type": "markdown",
   "metadata": {},
   "source": [
    "- 종속변수만 추출"
   ]
  },
  {
   "cell_type": "code",
   "execution_count": null,
   "metadata": {},
   "outputs": [],
   "source": [
    "y = x['MEDV']\n",
    "y"
   ]
  },
  {
   "cell_type": "markdown",
   "metadata": {},
   "source": [
    "- 데이터프레임에서 추출한 필드를 제거"
   ]
  },
  {
   "cell_type": "code",
   "execution_count": null,
   "metadata": {},
   "outputs": [],
   "source": [
    "x.drop(['CHAS', 'CAT. MEDV', 'MEDV'], axis = 1, inplace=True)\n",
    "x.info()"
   ]
  },
  {
   "cell_type": "markdown",
   "metadata": {},
   "source": [
    "- 최종 산점도 행렬 확인"
   ]
  },
  {
   "cell_type": "code",
   "execution_count": null,
   "metadata": {},
   "outputs": [],
   "source": [
    "plt.figure(figsize = (30, 30))\n",
    "sb.pairplot(x)\n",
    "plt.show()\n",
    "plt.savefig('pairplot.png')\n",
    "plt.close()"
   ]
  },
  {
   "cell_type": "markdown",
   "metadata": {},
   "source": [
    "### 5) 데이터셋 분할\n",
    "- 랜덤시드 고정"
   ]
  },
  {
   "cell_type": "code",
   "execution_count": null,
   "metadata": {},
   "outputs": [],
   "source": [
    "np.random.seed(777)"
   ]
  },
  {
   "cell_type": "markdown",
   "metadata": {},
   "source": [
    "- 데이터 표준화"
   ]
  },
  {
   "cell_type": "code",
   "execution_count": null,
   "metadata": {},
   "outputs": [],
   "source": [
    "x_scaler = StandardScaler()\n",
    "x_scale = x_scaler.fit_transform(x)\n",
    "x_scale"
   ]
  },
  {
   "cell_type": "markdown",
   "metadata": {},
   "source": [
    "- 분리해 놓은 명목형 데이터와 결합\n",
    "1. 명목형 변수의 값이 0, 1 두 종류 밖에 없기 때문에 별도로 더미변수 처리는 필요 없다\n",
    "2. 표준화의 결과와 병합이 필요하지만 표준화 함수는 리턴타입이 numpy array이므로 이를 다시 DataFrame으로 변환해야만 명목형과 결합이 가능하다"
   ]
  },
  {
   "cell_type": "code",
   "execution_count": null,
   "metadata": {},
   "outputs": [],
   "source": [
    "x_scale_df = DataFrame(x_scale, colulmns=x.columns)\n",
    "x_scale_df"
   ]
  },
  {
   "cell_type": "code",
   "execution_count": null,
   "metadata": {},
   "outputs": [],
   "source": [
    "x_df = merge(x_scale_df, categorical_df, left_index=True, right_index=True)\n",
    "x_df.info()"
   ]
  },
  {
   "cell_type": "markdown",
   "metadata": {},
   "source": [
    "- 훈련 데이터와 검증 데이터로 분할"
   ]
  },
  {
   "cell_type": "code",
   "execution_count": null,
   "metadata": {},
   "outputs": [],
   "source": [
    "x_train, x_test, y_train, y_test = train_test_split(x_df, \n",
    "                                                    y, \n",
    "                                                    test_size = 0.3,\n",
    "                                                     random_state=777)\n",
    "x_train.shape, x_test.shape, y_train.shape, y_test.shape"
   ]
  },
  {
   "cell_type": "markdown",
   "metadata": {},
   "source": [
    "### 6) 모델 개발\n",
    "- 모델 정의"
   ]
  },
  {
   "cell_type": "code",
   "execution_count": null,
   "metadata": {},
   "outputs": [],
   "source": [
    "my_model = Sequential()\n",
    "\n",
    "# 1 차원의 데이터를 입력으로 받고, 64개의 출력을 가지는 첫 번째 Dense 층\n",
    "my_model.add(Dense(64, activation='relu', input_shape=(len(x_train.columns),)))\n",
    "my_model.add(Dense(32, activation='relu'))\n",
    "\n",
    "# 하나의 값을 출력 정답의 범위가 정해지지 않기 때문에 활성화 함수는 linear\n",
    "my_model.add(Dense(1, activation = 'linear'))\n",
    "\n",
    "my_model.compilt(optimizer = 'adam', loss='mse', metrics=['mae'])\n",
    "my_model.summary()"
   ]
  },
  {
   "cell_type": "markdown",
   "metadata": {},
   "source": [
    "- 학습하기"
   ]
  },
  {
   "cell_type": "code",
   "execution_count": null,
   "metadata": {},
   "outputs": [],
   "source": [
    "result = my_model.fit(x_train,\n",
    "                      y_train, \n",
    "                      epochs=500, \n",
    "                      validation_data = (x_test, y_test),\n",
    "                      callbacks = [EarlyStopping(monitor='val_loss',\n",
    "                                                 patience=10,\n",
    "                                                 verbose=1),\n",
    "                                   ReduceLROnPlateau(monitor='val_loss',\n",
    "                                                     patience=3,\n",
    "                                                     factor = 0.5,\n",
    "                                                     min_lr=0.001,\n",
    "                                                     verbose = 1)])"
   ]
  },
  {
   "cell_type": "markdown",
   "metadata": {},
   "source": [
    "### 7) 학습 결과 평가"
   ]
  },
  {
   "cell_type": "code",
   "execution_count": null,
   "metadata": {},
   "outputs": [],
   "source": [
    "helper.tf_result_plot(result)\n",
    "\n",
    "evaluate1 = my_model.evaluate(x_train, y_train)\n",
    "print('최종 훈련 손실룰: %f, 최종 훈련 절대오차: %f' % (evaluate1[0], evaluate1[1]))\n",
    "\n",
    "evaluate2 = my_model.evaluate(x_test, y_test)      \n",
    "print('최종 검증 손실룰: %f, 최종 검증 절대오차: %f' % (evaluate2[0], evaluate2[1]))"
   ]
  },
  {
   "cell_type": "markdown",
   "metadata": {},
   "source": [
    "### 8) 학습 결과 적용\n",
    "- 테스트 데이터에 대한 예측 결과 산정"
   ]
  },
  {
   "cell_type": "code",
   "execution_count": null,
   "metadata": {},
   "outputs": [],
   "source": [
    "train_pred = my_model.predict(x_train)\n",
    "test_pred = my_model.predict(x_test)"
   ]
  },
  {
   "cell_type": "markdown",
   "metadata": {},
   "source": [
    "- 결과 데이터셋 구성"
   ]
  },
  {
   "cell_type": "code",
   "execution_count": null,
   "metadata": {},
   "outputs": [],
   "source": [
    "train_df = DataFrame(x_train, columns=x_train.columns)\n",
    "train_df['관측치'] = y_train.values\n",
    "train_df['예측치'] = train_pred.flatten()\n",
    "\n",
    "train_df['훈련오차'] = train_df['관측치'] - train_df['예측치']\n",
    "\n",
    "train_df.head()"
   ]
  },
  {
   "cell_type": "code",
   "execution_count": null,
   "metadata": {},
   "outputs": [],
   "source": [
    "test_df = DataFrame(x_test, columns=x_test.columns)\n",
    "test_df['관측치'] = y_test.values\n",
    "test_df['예측치'] = test_pred.flatten()\n",
    "\n",
    "test_df['훈련오차'] = test_df['관측치'] - test_df['예측치']\n",
    "\n",
    "test_df.head()"
   ]
  },
  {
   "cell_type": "markdown",
   "metadata": {},
   "source": [
    "- 실제 결과값과 머신러닝에 의한 예측값 비교"
   ]
  },
  {
   "cell_type": "code",
   "execution_count": null,
   "metadata": {},
   "outputs": [],
   "source": [
    "for key in ['CRIM', 'ZN', 'RM', 'AGE', 'RAD', 'PTRATIO', 'B', 'LSTAT']:\n",
    "    helper.regplot(train_df[key],\n",
    "                   train_df['관측치'],\n",
    "                   train_df['예측치'],\n",
    "                   '훈련데이터',\n",
    "                   test_df[key],\n",
    "                   test_df['관측치'],\n",
    "                   '검증데이터',\n",
    "                   figsize = (15,5))"
   ]
  }
 ],
 "metadata": {
  "kernelspec": {
   "display_name": "Python 3",
   "language": "python",
   "name": "python3"
  },
  "language_info": {
   "codemirror_mode": {
    "name": "ipython",
    "version": 3
   },
   "file_extension": ".py",
   "mimetype": "text/x-python",
   "name": "python",
   "nbconvert_exporter": "python",
   "pygments_lexer": "ipython3",
   "version": "3.9.13"
  },
  "orig_nbformat": 4
 },
 "nbformat": 4,
 "nbformat_minor": 2
}
