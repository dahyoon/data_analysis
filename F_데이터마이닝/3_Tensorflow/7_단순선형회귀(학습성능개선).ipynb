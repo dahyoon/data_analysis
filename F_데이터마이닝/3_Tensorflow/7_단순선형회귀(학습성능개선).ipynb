{
 "cells": [
  {
   "cell_type": "markdown",
   "metadata": {},
   "source": [
    "# 단순 선형 회귀 (학습 성능 개선)\n",
    "- 텐서플로우의 학습성능을 개선하기 위해 아래의 기능을 사용할 수 있음\n",
    "1. `데이터 표준화`: 학습률 향상에 도움을 줌\n",
    "2. `콜백 함수`: 모델의 학습 방향, 저장 시점, 학습 정지 시점 등에 관한 상황을 모니터링하기 위한 도구\n",
    "\n",
    "## 1. 데이터 정규화 (Normalization)\n",
    "### 1) 데이터 정규화의 이해\n",
    "- 데이터 정규화란? \n",
    "    - 모든 데이터가 동일한 정도의 스케일(중요도)로 반영되도록 해주는 처리\n",
    "- 정규화를 해야하는 이유\n",
    "    - 머신러닝 알고리즘은 데이터가 가진 feature(특성)들을 비교하여 데이터의 패턴을 찾는다\n",
    "    - 이 때, 데이터가 가진 feature의 스케일이 심하게 차이가 나는 경우 수많은 학습단계를 거쳐 최적값에 도달하게 된다\n",
    "    - 데이터에 `정규화 처리를 적용`하면 `쉽게 최적값에 도달`할 수 있으며 `학습률을 상대적으로 높여서 사용`할 수 있기 때문에 빠르게 훈련시킬 수 있다.\n",
    "\n",
    "### 2) 데이터 정규화 방법\n",
    "#### 1- 최소-최대 정규화 (Min-Max Normalization)\n",
    "- 모든 feature에 대해 각각의 `최솟값 0`, `최대값 1`로, 그리고 `다른 값들은 0과 1 사이의 값`으로 변환\n",
    "- 예) 어떤 특성의 `최솟값이 20`이고 `최대값이 40`인 경우, 30이라는 데이터가 있을 경우, 20은 `0`, 40은 `1`로 환산되기 때문에 30은 중간치인 `0.5`로 변환됨\n",
    "\n",
    "## 2. 콜백함수\n",
    "- 모델의 학습 방향, 저장 시점, 학습 정지 시점 등에 관한 상황을 모니터링하기 위한 도구\n",
    "### 1) 콜백함수 사용 방법\n",
    "- 콜백 정의\n",
    "\n",
    "    ```python\n",
    "    callbacks = [  콜백1, 콜백2, ... 콜백n  ]\n",
    "    ```\n",
    "- 학습을 위한 `fit() 함수`에서 `callbacks 파라미터`에 미리 정의한 리스트를 지정\n",
    "\n",
    "    ```python\n",
    "    callbacks = [콜백1, 콜백2, ..., 콜백n]\n",
    "    model.fit(x_train, \n",
    "              y_train, \n",
    "              validation_data = (x_val, y_val), \n",
    "              epochs = 500, \n",
    "              callbacks=callbacks)```\n",
    "- 혹은\n",
    "\n",
    "    ```python\n",
    "    model.fit(x_train,\n",
    "              y_train,\n",
    "              validation_data = (x_val, y_val),\n",
    "              epochs = 500,\n",
    "              callbacks = [콜백1, 콜백2, ..., 콜백n])```\n",
    "\n",
    "### 2) 콜백함수 종류\n",
    "#### 1- EarlyStopping()\n",
    "- 모델 학습 시에 지정된 기간 동안 모니터링하는 평가지표에서 더 이상 성능 향상이 일어나지 않는 경우 학습을 스스로 중단\n",
    "\n",
    "    ```python\n",
    "    EarlyStopping(monitor='평가지표', patience=10, verbose=1)```\n",
    "\n",
    "- patience: 지정한 수만큼의 기간에서 평가지표의 향상이 일어나지 않을 경우 학습을 중단 (기간=에폭)\n",
    "    - 예) `patience=10`일 때, 10에폭 동안 성능 향상이 일어나지 않으면 학습을 중단. 즉, `10회 이상 성능향상이 발견되지 않으면 중단`\n",
    "- verbose: 콜백의 수행 과정 노출 여부를 지정\n",
    "    - 0: 아무런 표시 하지 않음(기본값)\n",
    "    - 1: 프로그래스바로 표시\n",
    "    - 2: 매 에폭마다 수행과정을 자세하게 출력함\n",
    "#### 2- ReduceLROnPlateau()\n",
    "- EarlyStopping 콜백과 같이 patience 인자를 지정하여, 지정된 기간 동안 평가지표에서 성능 향상이 일어나지 않으면 학습률을 조정하는 콜백\n",
    "\n",
    "    ```python\n",
    "    ReduceLROnPlateau(monitor='평가지표', factor=0.1,\n",
    "                      patience=10, min_lr=0, verbose=1)```\n",
    "\n",
    "- factor: 학습률 조정에 사용되는 값 (새로운 학습률 = factor  * 기존 학습률)\n",
    "- patience: 지정한 수만큼의 기간에서 성능 향상이 일어나지 않을 경우, 학습률을 조정\n",
    "- min_lr: 학습률의 하한 (lower limit)을 지정\n",
    "- verbose: 콜백의 수행 과정 노출 여부를 지정\n",
    "#### 3- ModelCheckpoint()\n",
    "- 지정한 평가지표를 기준으로 `가장 뛰어난 성능을 보여주는 모델을 저장` 할 때 사용\n",
    "\n",
    "    ```python\n",
    "    ModelCheckpoint(filepath, monitor='평가지표', verbose=1,\n",
    "                    save_best_only = True|False, save_weights_only = False)```\n",
    "- filepath: 모델의 저장 경로를 지정\n",
    "- save_best_only: True인 경우, 가장 성능이 뛰어난 모델만 저장. 그보다 좋지 않은 모델의 경우는 덮어쓰지 않음\n",
    "- save_weights_only: 모델의 가중치만 저장\n",
    "## 3. 단순선형회귀 수행\n",
    "### 1) 패키지 준비하기"
   ]
  },
  {
   "cell_type": "code",
   "execution_count": 19,
   "metadata": {},
   "outputs": [],
   "source": [
    "import sys, os\n",
    "sys.path.append('../../')\n",
    "import helper\n",
    "\n",
    "from pandas import read_excel, DataFrame\n",
    "from matplotlib import pyplot as plt\n",
    "import seaborn as sb\n",
    "import numpy as np\n",
    "\n",
    "# 데이터를 훈련용과 테스트용으로 나누는 기능\n",
    "from sklearn.model_selection import train_test_split\n",
    "# 데이터 정규화를 위한 패키지\n",
    "from sklearn.preprocessing import MinMaxScaler\n",
    "\n",
    "# 순서층을 구성하는 모델 객체 생성 기능\n",
    "from tensorflow.keras.models import Sequential\n",
    "# 모델 객체에 학습층을 쌓기 위한 클래스\n",
    "from tensorflow.keras.layers import Dense\n",
    "# 학습에 대한 콜백함수 참조\n",
    "from tensorflow.keras.callbacks import EarlyStopping\n",
    "from tensorflow.keras.callbacks import ReduceLROnPlateau\n",
    "from tensorflow.keras.callbacks import ModelCheckpoint"
   ]
  },
  {
   "cell_type": "markdown",
   "metadata": {},
   "source": [
    "### 2) 데이터셋 준비"
   ]
  },
  {
   "cell_type": "code",
   "execution_count": 2,
   "metadata": {},
   "outputs": [
    {
     "data": {
      "text/html": [
       "<div>\n",
       "<style scoped>\n",
       "    .dataframe tbody tr th:only-of-type {\n",
       "        vertical-align: middle;\n",
       "    }\n",
       "\n",
       "    .dataframe tbody tr th {\n",
       "        vertical-align: top;\n",
       "    }\n",
       "\n",
       "    .dataframe thead th {\n",
       "        text-align: right;\n",
       "    }\n",
       "</style>\n",
       "<table border=\"1\" class=\"dataframe\">\n",
       "  <thead>\n",
       "    <tr style=\"text-align: right;\">\n",
       "      <th></th>\n",
       "      <th>speed</th>\n",
       "      <th>dist</th>\n",
       "    </tr>\n",
       "  </thead>\n",
       "  <tbody>\n",
       "    <tr>\n",
       "      <th>0</th>\n",
       "      <td>4</td>\n",
       "      <td>2</td>\n",
       "    </tr>\n",
       "    <tr>\n",
       "      <th>1</th>\n",
       "      <td>4</td>\n",
       "      <td>10</td>\n",
       "    </tr>\n",
       "    <tr>\n",
       "      <th>2</th>\n",
       "      <td>7</td>\n",
       "      <td>4</td>\n",
       "    </tr>\n",
       "    <tr>\n",
       "      <th>3</th>\n",
       "      <td>7</td>\n",
       "      <td>22</td>\n",
       "    </tr>\n",
       "    <tr>\n",
       "      <th>4</th>\n",
       "      <td>8</td>\n",
       "      <td>16</td>\n",
       "    </tr>\n",
       "  </tbody>\n",
       "</table>\n",
       "</div>"
      ],
      "text/plain": [
       "   speed  dist\n",
       "0      4     2\n",
       "1      4    10\n",
       "2      7     4\n",
       "3      7    22\n",
       "4      8    16"
      ]
     },
     "execution_count": 2,
     "metadata": {},
     "output_type": "execute_result"
    }
   ],
   "source": [
    "origin = read_excel('https://data.hossam.kr/E04/cars.xlsx')\n",
    "origin.head()"
   ]
  },
  {
   "cell_type": "markdown",
   "metadata": {},
   "source": [
    "### 3) 데이터 전처리\n",
    "- 결측치 확인"
   ]
  },
  {
   "cell_type": "code",
   "execution_count": 3,
   "metadata": {},
   "outputs": [
    {
     "data": {
      "text/plain": [
       "speed    0\n",
       "dist     0\n",
       "dtype: int64"
      ]
     },
     "execution_count": 3,
     "metadata": {},
     "output_type": "execute_result"
    }
   ],
   "source": [
    "origin.isna().sum()"
   ]
  },
  {
   "cell_type": "markdown",
   "metadata": {},
   "source": [
    "> 결측치 없음"
   ]
  },
  {
   "cell_type": "markdown",
   "metadata": {},
   "source": [
    "### 4) 탐색적 데이터 분석\n",
    "- 기본통계 확인"
   ]
  },
  {
   "cell_type": "code",
   "execution_count": 4,
   "metadata": {},
   "outputs": [
    {
     "data": {
      "text/html": [
       "<div>\n",
       "<style scoped>\n",
       "    .dataframe tbody tr th:only-of-type {\n",
       "        vertical-align: middle;\n",
       "    }\n",
       "\n",
       "    .dataframe tbody tr th {\n",
       "        vertical-align: top;\n",
       "    }\n",
       "\n",
       "    .dataframe thead th {\n",
       "        text-align: right;\n",
       "    }\n",
       "</style>\n",
       "<table border=\"1\" class=\"dataframe\">\n",
       "  <thead>\n",
       "    <tr style=\"text-align: right;\">\n",
       "      <th></th>\n",
       "      <th>speed</th>\n",
       "      <th>dist</th>\n",
       "    </tr>\n",
       "  </thead>\n",
       "  <tbody>\n",
       "    <tr>\n",
       "      <th>count</th>\n",
       "      <td>50.000000</td>\n",
       "      <td>50.000000</td>\n",
       "    </tr>\n",
       "    <tr>\n",
       "      <th>mean</th>\n",
       "      <td>15.400000</td>\n",
       "      <td>42.980000</td>\n",
       "    </tr>\n",
       "    <tr>\n",
       "      <th>std</th>\n",
       "      <td>5.287644</td>\n",
       "      <td>25.769377</td>\n",
       "    </tr>\n",
       "    <tr>\n",
       "      <th>min</th>\n",
       "      <td>4.000000</td>\n",
       "      <td>2.000000</td>\n",
       "    </tr>\n",
       "    <tr>\n",
       "      <th>25%</th>\n",
       "      <td>12.000000</td>\n",
       "      <td>26.000000</td>\n",
       "    </tr>\n",
       "    <tr>\n",
       "      <th>50%</th>\n",
       "      <td>15.000000</td>\n",
       "      <td>36.000000</td>\n",
       "    </tr>\n",
       "    <tr>\n",
       "      <th>75%</th>\n",
       "      <td>19.000000</td>\n",
       "      <td>56.000000</td>\n",
       "    </tr>\n",
       "    <tr>\n",
       "      <th>max</th>\n",
       "      <td>25.000000</td>\n",
       "      <td>120.000000</td>\n",
       "    </tr>\n",
       "  </tbody>\n",
       "</table>\n",
       "</div>"
      ],
      "text/plain": [
       "           speed        dist\n",
       "count  50.000000   50.000000\n",
       "mean   15.400000   42.980000\n",
       "std     5.287644   25.769377\n",
       "min     4.000000    2.000000\n",
       "25%    12.000000   26.000000\n",
       "50%    15.000000   36.000000\n",
       "75%    19.000000   56.000000\n",
       "max    25.000000  120.000000"
      ]
     },
     "execution_count": 4,
     "metadata": {},
     "output_type": "execute_result"
    }
   ],
   "source": [
    "origin.describe()"
   ]
  },
  {
   "cell_type": "markdown",
   "metadata": {},
   "source": [
    "- 산점도 그래프와 추세선 확인\n",
    "    - `seaborn.regplot()`"
   ]
  },
  {
   "cell_type": "code",
   "execution_count": 5,
   "metadata": {},
   "outputs": [
    {
     "data": {
      "image/png": "[encoded data removed]",
      "text/plain": [
       "<Figure size 1000x500 with 1 Axes>"
      ]
     },
     "metadata": {},
     "output_type": "display_data"
    }
   ],
   "source": [
    "plt.rcParams['font.family'] = 'AppleGothic'\n",
    "plt.rcParams['font.size'] = 12\n",
    "plt.rcParams['axes.unicode_minus'] = False\n",
    "\n",
    "plt.figure(figsize=(10, 5))\n",
    "sb.regplot(data=origin, x='speed', y='dist', color='orange')\n",
    "plt.grid()\n",
    "\n",
    "plt.show()\n",
    "plt.close()"
   ]
  },
  {
   "cell_type": "markdown",
   "metadata": {},
   "source": [
    "> 곡선보다는 선형 분포에 더 가까우므로 단순선형회귀모델을 적용하기로 함"
   ]
  },
  {
   "cell_type": "markdown",
   "metadata": {},
   "source": [
    "### 5) 데이터셋 분할\n",
    "- 랜덤시드 고정"
   ]
  },
  {
   "cell_type": "code",
   "execution_count": 6,
   "metadata": {},
   "outputs": [],
   "source": [
    "np.random.seed(777)"
   ]
  },
  {
   "cell_type": "markdown",
   "metadata": {},
   "source": [
    "- 훈련 데이터(독립변수)와 레이블(종속변수) 구분하기"
   ]
  },
  {
   "cell_type": "code",
   "execution_count": 7,
   "metadata": {},
   "outputs": [
    {
     "name": "stdout",
     "output_type": "stream",
     "text": [
      "훈련데이터 크기: (50, 1) / 레이블 크기: (50, 1)\n"
     ]
    }
   ],
   "source": [
    "x = origin.drop(['dist'], axis = 1)\n",
    "y = origin[['dist']]\n",
    "print('훈련데이터 크기:', x.shape, '/ 레이블 크기:', y.shape)"
   ]
  },
  {
   "cell_type": "markdown",
   "metadata": {},
   "source": [
    "- (추가) 데이터 정규화(표준화) 수행"
   ]
  },
  {
   "cell_type": "code",
   "execution_count": 8,
   "metadata": {},
   "outputs": [
    {
     "data": {
      "text/plain": [
       "array([[0.        ],\n",
       "       [0.06779661],\n",
       "       [0.01694915],\n",
       "       [0.16949153],\n",
       "       [0.11864407],\n",
       "       [0.06779661],\n",
       "       [0.13559322],\n",
       "       [0.20338983],\n",
       "       [0.27118644],\n",
       "       [0.12711864],\n",
       "       [0.22033898],\n",
       "       [0.10169492],\n",
       "       [0.15254237],\n",
       "       [0.18644068],\n",
       "       [0.22033898],\n",
       "       [0.20338983],\n",
       "       [0.27118644],\n",
       "       [0.27118644],\n",
       "       [0.37288136],\n",
       "       [0.20338983],\n",
       "       [0.28813559],\n",
       "       [0.49152542],\n",
       "       [0.66101695],\n",
       "       [0.15254237],\n",
       "       [0.20338983],\n",
       "       [0.44067797],\n",
       "       [0.25423729],\n",
       "       [0.3220339 ],\n",
       "       [0.25423729],\n",
       "       [0.3220339 ],\n",
       "       [0.40677966],\n",
       "       [0.33898305],\n",
       "       [0.45762712],\n",
       "       [0.62711864],\n",
       "       [0.69491525],\n",
       "       [0.28813559],\n",
       "       [0.37288136],\n",
       "       [0.55932203],\n",
       "       [0.25423729],\n",
       "       [0.38983051],\n",
       "       [0.42372881],\n",
       "       [0.45762712],\n",
       "       [0.52542373],\n",
       "       [0.54237288],\n",
       "       [0.44067797],\n",
       "       [0.57627119],\n",
       "       [0.76271186],\n",
       "       [0.77118644],\n",
       "       [1.        ],\n",
       "       [0.70338983]])"
      ]
     },
     "execution_count": 8,
     "metadata": {},
     "output_type": "execute_result"
    }
   ],
   "source": [
    "# 독립변수 표준화\n",
    "x_scaler = MinMaxScaler()\n",
    "x_scale = x_scaler.fit_transform(x)\n",
    "x_scale\n",
    "\n",
    "# 종속변수 표준화\n",
    "y_scaler = MinMaxScaler()\n",
    "y_scale = y_scaler.fit_transform(y)\n",
    "y_scale"
   ]
  },
  {
   "cell_type": "markdown",
   "metadata": {},
   "source": [
    "- 훈련 데이터와 검증 데이터로 분할"
   ]
  },
  {
   "cell_type": "code",
   "execution_count": 9,
   "metadata": {},
   "outputs": [
    {
     "name": "stdout",
     "output_type": "stream",
     "text": [
      "훈련용 데이터셋 크기: 35, 검증용 데이터셋 크기: 15\n"
     ]
    }
   ],
   "source": [
    "x_train, x_test, y_train, y_test = train_test_split(x_scale, \n",
    "                                                    y_scale, \n",
    "                                                    test_size = 0.3, \n",
    "                                                    random_state=777)\n",
    "print('훈련용 데이터셋 크기: %d, 검증용 데이터셋 크기: %d' % (len(x_train), len(x_test)))"
   ]
  },
  {
   "cell_type": "markdown",
   "metadata": {},
   "source": [
    "### 6) 모델 개발\n",
    "- 모델 정의"
   ]
  },
  {
   "cell_type": "code",
   "execution_count": 10,
   "metadata": {},
   "outputs": [
    {
     "name": "stdout",
     "output_type": "stream",
     "text": [
      "Model: \"sequential\"\n",
      "_________________________________________________________________\n",
      " Layer (type)                Output Shape              Param #   \n",
      "=================================================================\n",
      " dense (Dense)               (None, 32)                64        \n",
      "                                                                 \n",
      " dense_1 (Dense)             (None, 1)                 33        \n",
      "                                                                 \n",
      "=================================================================\n",
      "Total params: 97 (388.00 Byte)\n",
      "Trainable params: 97 (388.00 Byte)\n",
      "Non-trainable params: 0 (0.00 Byte)\n",
      "_________________________________________________________________\n"
     ]
    }
   ],
   "source": [
    "my_model = Sequential()\n",
    "# 1차원의 데이터를 입력으로 받고, 32개의 출력을 가지는 첫 번때 Dense 층\n",
    "my_model.add(Dense(32, activation = 'relu', input_shape = (1,)))\n",
    "# 하나의 값을 출력\n",
    "# -> 정답의 범위가 정해지지 않기 때문에 활성화 함수는 linear\n",
    "# -> linear는 기본값이므로 생략 가능\n",
    "my_model.add(Dense(1, activation = 'linear'))\n",
    "\n",
    "my_model.compile(optimizer='adam', \n",
    "                 loss='mse',\n",
    "                 metrics=['mae'])\n",
    "my_model.summary()"
   ]
  },
  {
   "cell_type": "code",
   "execution_count": 11,
   "metadata": {},
   "outputs": [
    {
     "data": {
      "text/plain": [
       "'/Users/dayoonz/Desktop/data_analysist/F_데이터마이닝/3_Tensorflow'"
      ]
     },
     "execution_count": 11,
     "metadata": {},
     "output_type": "execute_result"
    }
   ],
   "source": [
    "os.getcwd()"
   ]
  },
  {
   "cell_type": "code",
   "execution_count": 13,
   "metadata": {},
   "outputs": [
    {
     "name": "stdout",
     "output_type": "stream",
     "text": [
      "Epoch 1/500\n",
      "1/2 [==============>...............] - ETA: 0s - loss: 0.4347 - mae: 0.5832\n",
      "Epoch 1: val_loss improved from inf to 0.26868, saving model to D:\\tensorflow_checkpoint\\model07-cp-0001-ckpt\n",
      "INFO:tensorflow:Assets written to: D:\\tensorflow_checkpoint\\model07-cp-0001-ckpt/assets\n"
     ]
    },
    {
     "name": "stderr",
     "output_type": "stream",
     "text": [
      "INFO:tensorflow:Assets written to: D:\\tensorflow_checkpoint\\model07-cp-0001-ckpt/assets\n"
     ]
    },
    {
     "name": "stdout",
     "output_type": "stream",
     "text": [
      "2/2 [==============================] - 1s 351ms/step - loss: 0.4071 - mae: 0.5602 - val_loss: 0.2687 - val_mae: 0.4599 - lr: 0.0010\n",
      "Epoch 2/500\n",
      "1/2 [==============>...............] - ETA: 0s - loss: 0.3694 - mae: 0.5296\n",
      "Epoch 2: val_loss improved from 0.26868 to 0.25158, saving model to D:\\tensorflow_checkpoint\\model07-cp-0002-ckpt\n",
      "INFO:tensorflow:Assets written to: D:\\tensorflow_checkpoint\\model07-cp-0002-ckpt/assets\n"
     ]
    },
    {
     "name": "stderr",
     "output_type": "stream",
     "text": [
      "INFO:tensorflow:Assets written to: D:\\tensorflow_checkpoint\\model07-cp-0002-ckpt/assets\n"
     ]
    },
    {
     "name": "stdout",
     "output_type": "stream",
     "text": [
      "2/2 [==============================] - 0s 182ms/step - loss: 0.3837 - mae: 0.5416 - val_loss: 0.2516 - val_mae: 0.4435 - lr: 0.0010\n",
      "Epoch 3/500\n",
      "1/2 [==============>...............] - ETA: 0s - loss: 0.3497 - mae: 0.5132\n",
      "Epoch 3: val_loss improved from 0.25158 to 0.23514, saving model to D:\\tensorflow_checkpoint\\model07-cp-0003-ckpt\n",
      "INFO:tensorflow:Assets written to: D:\\tensorflow_checkpoint\\model07-cp-0003-ckpt/assets\n"
     ]
    },
    {
     "name": "stderr",
     "output_type": "stream",
     "text": [
      "INFO:tensorflow:Assets written to: D:\\tensorflow_checkpoint\\model07-cp-0003-ckpt/assets\n"
     ]
    },
    {
     "name": "stdout",
     "output_type": "stream",
     "text": [
      "2/2 [==============================] - 0s 178ms/step - loss: 0.3618 - mae: 0.5230 - val_loss: 0.2351 - val_mae: 0.4271 - lr: 0.0010\n",
      "Epoch 4/500\n",
      "1/2 [==============>...............] - ETA: 0s - loss: 0.3360 - mae: 0.5051\n",
      "Epoch 4: val_loss improved from 0.23514 to 0.21933, saving model to D:\\tensorflow_checkpoint\\model07-cp-0004-ckpt\n",
      "INFO:tensorflow:Assets written to: D:\\tensorflow_checkpoint\\model07-cp-0004-ckpt/assets\n"
     ]
    },
    {
     "name": "stderr",
     "output_type": "stream",
     "text": [
      "INFO:tensorflow:Assets written to: D:\\tensorflow_checkpoint\\model07-cp-0004-ckpt/assets\n"
     ]
    },
    {
     "name": "stdout",
     "output_type": "stream",
     "text": [
      "2/2 [==============================] - 0s 184ms/step - loss: 0.3408 - mae: 0.5046 - val_loss: 0.2193 - val_mae: 0.4107 - lr: 0.0010\n",
      "Epoch 5/500\n",
      "1/2 [==============>...............] - ETA: 0s - loss: 0.3135 - mae: 0.4824\n",
      "Epoch 5: val_loss improved from 0.21933 to 0.20418, saving model to D:\\tensorflow_checkpoint\\model07-cp-0005-ckpt\n",
      "INFO:tensorflow:Assets written to: D:\\tensorflow_checkpoint\\model07-cp-0005-ckpt/assets\n"
     ]
    },
    {
     "name": "stderr",
     "output_type": "stream",
     "text": [
      "INFO:tensorflow:Assets written to: D:\\tensorflow_checkpoint\\model07-cp-0005-ckpt/assets\n"
     ]
    },
    {
     "name": "stdout",
     "output_type": "stream",
     "text": [
      "2/2 [==============================] - 0s 179ms/step - loss: 0.3203 - mae: 0.4862 - val_loss: 0.2042 - val_mae: 0.3944 - lr: 0.0010\n",
      "Epoch 6/500\n",
      "1/2 [==============>...............] - ETA: 0s - loss: 0.3245 - mae: 0.4937\n",
      "Epoch 6: val_loss improved from 0.20418 to 0.19009, saving model to D:\\tensorflow_checkpoint\\model07-cp-0006-ckpt\n",
      "INFO:tensorflow:Assets written to: D:\\tensorflow_checkpoint\\model07-cp-0006-ckpt/assets\n"
     ]
    },
    {
     "name": "stderr",
     "output_type": "stream",
     "text": [
      "INFO:tensorflow:Assets written to: D:\\tensorflow_checkpoint\\model07-cp-0006-ckpt/assets\n"
     ]
    },
    {
     "name": "stdout",
     "output_type": "stream",
     "text": [
      "2/2 [==============================] - 0s 268ms/step - loss: 0.3015 - mae: 0.4679 - val_loss: 0.1901 - val_mae: 0.3787 - lr: 0.0010\n",
      "Epoch 7/500\n",
      "1/2 [==============>...............] - ETA: 0s - loss: 0.2593 - mae: 0.4286\n",
      "Epoch 7: val_loss improved from 0.19009 to 0.17681, saving model to D:\\tensorflow_checkpoint\\model07-cp-0007-ckpt\n",
      "INFO:tensorflow:Assets written to: D:\\tensorflow_checkpoint\\model07-cp-0007-ckpt/assets\n"
     ]
    },
    {
     "name": "stderr",
     "output_type": "stream",
     "text": [
      "INFO:tensorflow:Assets written to: D:\\tensorflow_checkpoint\\model07-cp-0007-ckpt/assets\n"
     ]
    },
    {
     "name": "stdout",
     "output_type": "stream",
     "text": [
      "2/2 [==============================] - 0s 177ms/step - loss: 0.2821 - mae: 0.4501 - val_loss: 0.1768 - val_mae: 0.3632 - lr: 0.0010\n",
      "Epoch 8/500\n",
      "1/2 [==============>...............] - ETA: 0s - loss: 0.2429 - mae: 0.4114\n",
      "Epoch 8: val_loss improved from 0.17681 to 0.16387, saving model to D:\\tensorflow_checkpoint\\model07-cp-0008-ckpt\n",
      "INFO:tensorflow:Assets written to: D:\\tensorflow_checkpoint\\model07-cp-0008-ckpt/assets\n"
     ]
    },
    {
     "name": "stderr",
     "output_type": "stream",
     "text": [
      "INFO:tensorflow:Assets written to: D:\\tensorflow_checkpoint\\model07-cp-0008-ckpt/assets\n"
     ]
    },
    {
     "name": "stdout",
     "output_type": "stream",
     "text": [
      "2/2 [==============================] - 0s 164ms/step - loss: 0.2647 - mae: 0.4333 - val_loss: 0.1639 - val_mae: 0.3475 - lr: 0.0010\n",
      "Epoch 9/500\n",
      "1/2 [==============>...............] - ETA: 0s - loss: 0.2634 - mae: 0.4317\n",
      "Epoch 9: val_loss improved from 0.16387 to 0.15180, saving model to D:\\tensorflow_checkpoint\\model07-cp-0009-ckpt\n",
      "INFO:tensorflow:Assets written to: D:\\tensorflow_checkpoint\\model07-cp-0009-ckpt/assets\n"
     ]
    },
    {
     "name": "stderr",
     "output_type": "stream",
     "text": [
      "INFO:tensorflow:Assets written to: D:\\tensorflow_checkpoint\\model07-cp-0009-ckpt/assets\n"
     ]
    },
    {
     "name": "stdout",
     "output_type": "stream",
     "text": [
      "2/2 [==============================] - 0s 154ms/step - loss: 0.2486 - mae: 0.4168 - val_loss: 0.1518 - val_mae: 0.3322 - lr: 0.0010\n",
      "Epoch 10/500\n",
      "1/2 [==============>...............] - ETA: 0s - loss: 0.2379 - mae: 0.4056\n",
      "Epoch 10: val_loss improved from 0.15180 to 0.14074, saving model to D:\\tensorflow_checkpoint\\model07-cp-0010-ckpt\n",
      "INFO:tensorflow:Assets written to: D:\\tensorflow_checkpoint\\model07-cp-0010-ckpt/assets\n"
     ]
    },
    {
     "name": "stderr",
     "output_type": "stream",
     "text": [
      "INFO:tensorflow:Assets written to: D:\\tensorflow_checkpoint\\model07-cp-0010-ckpt/assets\n"
     ]
    },
    {
     "name": "stdout",
     "output_type": "stream",
     "text": [
      "2/2 [==============================] - 0s 179ms/step - loss: 0.2324 - mae: 0.3996 - val_loss: 0.1407 - val_mae: 0.3176 - lr: 0.0010\n",
      "Epoch 11/500\n",
      "1/2 [==============>...............] - ETA: 0s - loss: 0.2269 - mae: 0.3931\n",
      "Epoch 11: val_loss improved from 0.14074 to 0.13048, saving model to D:\\tensorflow_checkpoint\\model07-cp-0011-ckpt\n",
      "INFO:tensorflow:Assets written to: D:\\tensorflow_checkpoint\\model07-cp-0011-ckpt/assets\n"
     ]
    },
    {
     "name": "stderr",
     "output_type": "stream",
     "text": [
      "INFO:tensorflow:Assets written to: D:\\tensorflow_checkpoint\\model07-cp-0011-ckpt/assets\n"
     ]
    },
    {
     "name": "stdout",
     "output_type": "stream",
     "text": [
      "2/2 [==============================] - 0s 181ms/step - loss: 0.2177 - mae: 0.3837 - val_loss: 0.1305 - val_mae: 0.3034 - lr: 0.0010\n",
      "Epoch 12/500\n",
      "1/2 [==============>...............] - ETA: 0s - loss: 0.2170 - mae: 0.3788\n",
      "Epoch 12: val_loss improved from 0.13048 to 0.12114, saving model to D:\\tensorflow_checkpoint\\model07-cp-0012-ckpt\n",
      "INFO:tensorflow:Assets written to: D:\\tensorflow_checkpoint\\model07-cp-0012-ckpt/assets\n"
     ]
    },
    {
     "name": "stderr",
     "output_type": "stream",
     "text": [
      "INFO:tensorflow:Assets written to: D:\\tensorflow_checkpoint\\model07-cp-0012-ckpt/assets\n"
     ]
    },
    {
     "name": "stdout",
     "output_type": "stream",
     "text": [
      "2/2 [==============================] - 0s 185ms/step - loss: 0.2040 - mae: 0.3680 - val_loss: 0.1211 - val_mae: 0.2899 - lr: 0.0010\n",
      "Epoch 13/500\n",
      "1/2 [==============>...............] - ETA: 0s - loss: 0.2036 - mae: 0.3681\n",
      "Epoch 13: val_loss improved from 0.12114 to 0.11260, saving model to D:\\tensorflow_checkpoint\\model07-cp-0013-ckpt\n",
      "INFO:tensorflow:Assets written to: D:\\tensorflow_checkpoint\\model07-cp-0013-ckpt/assets\n"
     ]
    },
    {
     "name": "stderr",
     "output_type": "stream",
     "text": [
      "INFO:tensorflow:Assets written to: D:\\tensorflow_checkpoint\\model07-cp-0013-ckpt/assets\n"
     ]
    },
    {
     "name": "stdout",
     "output_type": "stream",
     "text": [
      "2/2 [==============================] - 0s 187ms/step - loss: 0.1913 - mae: 0.3534 - val_loss: 0.1126 - val_mae: 0.2769 - lr: 0.0010\n",
      "Epoch 14/500\n",
      "1/2 [==============>...............] - ETA: 0s - loss: 0.1680 - mae: 0.3226\n",
      "Epoch 14: val_loss improved from 0.11260 to 0.10449, saving model to D:\\tensorflow_checkpoint\\model07-cp-0014-ckpt\n",
      "INFO:tensorflow:Assets written to: D:\\tensorflow_checkpoint\\model07-cp-0014-ckpt/assets\n"
     ]
    },
    {
     "name": "stderr",
     "output_type": "stream",
     "text": [
      "INFO:tensorflow:Assets written to: D:\\tensorflow_checkpoint\\model07-cp-0014-ckpt/assets\n"
     ]
    },
    {
     "name": "stdout",
     "output_type": "stream",
     "text": [
      "2/2 [==============================] - 0s 184ms/step - loss: 0.1791 - mae: 0.3396 - val_loss: 0.1045 - val_mae: 0.2640 - lr: 0.0010\n",
      "Epoch 15/500\n",
      "1/2 [==============>...............] - ETA: 0s - loss: 0.1789 - mae: 0.3362\n",
      "Epoch 15: val_loss improved from 0.10449 to 0.09679, saving model to D:\\tensorflow_checkpoint\\model07-cp-0015-ckpt\n",
      "INFO:tensorflow:Assets written to: D:\\tensorflow_checkpoint\\model07-cp-0015-ckpt/assets\n"
     ]
    },
    {
     "name": "stderr",
     "output_type": "stream",
     "text": [
      "INFO:tensorflow:Assets written to: D:\\tensorflow_checkpoint\\model07-cp-0015-ckpt/assets\n"
     ]
    },
    {
     "name": "stdout",
     "output_type": "stream",
     "text": [
      "2/2 [==============================] - 0s 184ms/step - loss: 0.1684 - mae: 0.3263 - val_loss: 0.0968 - val_mae: 0.2511 - lr: 0.0010\n",
      "Epoch 16/500\n",
      "1/2 [==============>...............] - ETA: 0s - loss: 0.1601 - mae: 0.3122\n",
      "Epoch 16: val_loss improved from 0.09679 to 0.08965, saving model to D:\\tensorflow_checkpoint\\model07-cp-0016-ckpt\n",
      "INFO:tensorflow:Assets written to: D:\\tensorflow_checkpoint\\model07-cp-0016-ckpt/assets\n"
     ]
    },
    {
     "name": "stderr",
     "output_type": "stream",
     "text": [
      "INFO:tensorflow:Assets written to: D:\\tensorflow_checkpoint\\model07-cp-0016-ckpt/assets\n"
     ]
    },
    {
     "name": "stdout",
     "output_type": "stream",
     "text": [
      "2/2 [==============================] - 0s 189ms/step - loss: 0.1576 - mae: 0.3129 - val_loss: 0.0896 - val_mae: 0.2386 - lr: 0.0010\n",
      "Epoch 17/500\n",
      "1/2 [==============>...............] - ETA: 0s - loss: 0.1430 - mae: 0.2935\n",
      "Epoch 17: val_loss improved from 0.08965 to 0.08284, saving model to D:\\tensorflow_checkpoint\\model07-cp-0017-ckpt\n",
      "INFO:tensorflow:Assets written to: D:\\tensorflow_checkpoint\\model07-cp-0017-ckpt/assets\n"
     ]
    },
    {
     "name": "stderr",
     "output_type": "stream",
     "text": [
      "INFO:tensorflow:Assets written to: D:\\tensorflow_checkpoint\\model07-cp-0017-ckpt/assets\n"
     ]
    },
    {
     "name": "stdout",
     "output_type": "stream",
     "text": [
      "2/2 [==============================] - 0s 163ms/step - loss: 0.1476 - mae: 0.2998 - val_loss: 0.0828 - val_mae: 0.2273 - lr: 0.0010\n",
      "Epoch 18/500\n",
      "1/2 [==============>...............] - ETA: 0s - loss: 0.1029 - mae: 0.2516\n",
      "Epoch 18: val_loss improved from 0.08284 to 0.07618, saving model to D:\\tensorflow_checkpoint\\model07-cp-0018-ckpt\n",
      "INFO:tensorflow:Assets written to: D:\\tensorflow_checkpoint\\model07-cp-0018-ckpt/assets\n"
     ]
    },
    {
     "name": "stderr",
     "output_type": "stream",
     "text": [
      "INFO:tensorflow:Assets written to: D:\\tensorflow_checkpoint\\model07-cp-0018-ckpt/assets\n"
     ]
    },
    {
     "name": "stdout",
     "output_type": "stream",
     "text": [
      "2/2 [==============================] - 0s 182ms/step - loss: 0.1376 - mae: 0.2872 - val_loss: 0.0762 - val_mae: 0.2162 - lr: 0.0010\n",
      "Epoch 19/500\n",
      "1/2 [==============>...............] - ETA: 0s - loss: 0.1301 - mae: 0.2732\n",
      "Epoch 19: val_loss improved from 0.07618 to 0.06984, saving model to D:\\tensorflow_checkpoint\\model07-cp-0019-ckpt\n",
      "INFO:tensorflow:Assets written to: D:\\tensorflow_checkpoint\\model07-cp-0019-ckpt/assets\n"
     ]
    },
    {
     "name": "stderr",
     "output_type": "stream",
     "text": [
      "INFO:tensorflow:Assets written to: D:\\tensorflow_checkpoint\\model07-cp-0019-ckpt/assets\n"
     ]
    },
    {
     "name": "stdout",
     "output_type": "stream",
     "text": [
      "2/2 [==============================] - 0s 181ms/step - loss: 0.1287 - mae: 0.2742 - val_loss: 0.0698 - val_mae: 0.2064 - lr: 0.0010\n",
      "Epoch 20/500\n",
      "1/2 [==============>...............] - ETA: 0s - loss: 0.1231 - mae: 0.2652\n",
      "Epoch 20: val_loss improved from 0.06984 to 0.06416, saving model to D:\\tensorflow_checkpoint\\model07-cp-0020-ckpt\n",
      "INFO:tensorflow:Assets written to: D:\\tensorflow_checkpoint\\model07-cp-0020-ckpt/assets\n"
     ]
    },
    {
     "name": "stderr",
     "output_type": "stream",
     "text": [
      "INFO:tensorflow:Assets written to: D:\\tensorflow_checkpoint\\model07-cp-0020-ckpt/assets\n"
     ]
    },
    {
     "name": "stdout",
     "output_type": "stream",
     "text": [
      "2/2 [==============================] - 0s 172ms/step - loss: 0.1197 - mae: 0.2618 - val_loss: 0.0642 - val_mae: 0.1969 - lr: 0.0010\n",
      "Epoch 21/500\n",
      "1/2 [==============>...............] - ETA: 0s - loss: 0.1161 - mae: 0.2532\n",
      "Epoch 21: val_loss improved from 0.06416 to 0.05912, saving model to D:\\tensorflow_checkpoint\\model07-cp-0021-ckpt\n",
      "INFO:tensorflow:Assets written to: D:\\tensorflow_checkpoint\\model07-cp-0021-ckpt/assets\n"
     ]
    },
    {
     "name": "stderr",
     "output_type": "stream",
     "text": [
      "INFO:tensorflow:Assets written to: D:\\tensorflow_checkpoint\\model07-cp-0021-ckpt/assets\n"
     ]
    },
    {
     "name": "stdout",
     "output_type": "stream",
     "text": [
      "2/2 [==============================] - 0s 150ms/step - loss: 0.1115 - mae: 0.2498 - val_loss: 0.0591 - val_mae: 0.1892 - lr: 0.0010\n",
      "Epoch 22/500\n",
      "1/2 [==============>...............] - ETA: 0s - loss: 0.1040 - mae: 0.2310\n",
      "Epoch 22: val_loss improved from 0.05912 to 0.05455, saving model to D:\\tensorflow_checkpoint\\model07-cp-0022-ckpt\n",
      "INFO:tensorflow:Assets written to: D:\\tensorflow_checkpoint\\model07-cp-0022-ckpt/assets\n"
     ]
    },
    {
     "name": "stderr",
     "output_type": "stream",
     "text": [
      "INFO:tensorflow:Assets written to: D:\\tensorflow_checkpoint\\model07-cp-0022-ckpt/assets\n"
     ]
    },
    {
     "name": "stdout",
     "output_type": "stream",
     "text": [
      "2/2 [==============================] - 0s 186ms/step - loss: 0.1039 - mae: 0.2381 - val_loss: 0.0546 - val_mae: 0.1820 - lr: 0.0010\n",
      "Epoch 23/500\n",
      "1/2 [==============>...............] - ETA: 0s - loss: 0.0965 - mae: 0.2308\n",
      "Epoch 23: val_loss improved from 0.05455 to 0.05037, saving model to D:\\tensorflow_checkpoint\\model07-cp-0023-ckpt\n",
      "INFO:tensorflow:Assets written to: D:\\tensorflow_checkpoint\\model07-cp-0023-ckpt/assets\n"
     ]
    },
    {
     "name": "stderr",
     "output_type": "stream",
     "text": [
      "INFO:tensorflow:Assets written to: D:\\tensorflow_checkpoint\\model07-cp-0023-ckpt/assets\n"
     ]
    },
    {
     "name": "stdout",
     "output_type": "stream",
     "text": [
      "2/2 [==============================] - 0s 291ms/step - loss: 0.0972 - mae: 0.2279 - val_loss: 0.0504 - val_mae: 0.1748 - lr: 0.0010\n",
      "Epoch 24/500\n",
      "1/2 [==============>...............] - ETA: 0s - loss: 0.0819 - mae: 0.2006\n",
      "Epoch 24: val_loss improved from 0.05037 to 0.04648, saving model to D:\\tensorflow_checkpoint\\model07-cp-0024-ckpt\n",
      "INFO:tensorflow:Assets written to: D:\\tensorflow_checkpoint\\model07-cp-0024-ckpt/assets\n"
     ]
    },
    {
     "name": "stderr",
     "output_type": "stream",
     "text": [
      "INFO:tensorflow:Assets written to: D:\\tensorflow_checkpoint\\model07-cp-0024-ckpt/assets\n"
     ]
    },
    {
     "name": "stdout",
     "output_type": "stream",
     "text": [
      "2/2 [==============================] - 0s 182ms/step - loss: 0.0905 - mae: 0.2176 - val_loss: 0.0465 - val_mae: 0.1681 - lr: 0.0010\n",
      "Epoch 25/500\n",
      "1/2 [==============>...............] - ETA: 0s - loss: 0.0925 - mae: 0.2225\n",
      "Epoch 25: val_loss improved from 0.04648 to 0.04299, saving model to D:\\tensorflow_checkpoint\\model07-cp-0025-ckpt\n",
      "INFO:tensorflow:Assets written to: D:\\tensorflow_checkpoint\\model07-cp-0025-ckpt/assets\n"
     ]
    },
    {
     "name": "stderr",
     "output_type": "stream",
     "text": [
      "INFO:tensorflow:Assets written to: D:\\tensorflow_checkpoint\\model07-cp-0025-ckpt/assets\n"
     ]
    },
    {
     "name": "stdout",
     "output_type": "stream",
     "text": [
      "2/2 [==============================] - 0s 152ms/step - loss: 0.0850 - mae: 0.2081 - val_loss: 0.0430 - val_mae: 0.1622 - lr: 0.0010\n",
      "Epoch 26/500\n",
      "1/2 [==============>...............] - ETA: 0s - loss: 0.0660 - mae: 0.1885\n",
      "Epoch 26: val_loss improved from 0.04299 to 0.03994, saving model to D:\\tensorflow_checkpoint\\model07-cp-0026-ckpt\n",
      "INFO:tensorflow:Assets written to: D:\\tensorflow_checkpoint\\model07-cp-0026-ckpt/assets\n"
     ]
    },
    {
     "name": "stderr",
     "output_type": "stream",
     "text": [
      "INFO:tensorflow:Assets written to: D:\\tensorflow_checkpoint\\model07-cp-0026-ckpt/assets\n"
     ]
    },
    {
     "name": "stdout",
     "output_type": "stream",
     "text": [
      "2/2 [==============================] - 0s 182ms/step - loss: 0.0791 - mae: 0.1993 - val_loss: 0.0399 - val_mae: 0.1580 - lr: 0.0010\n",
      "Epoch 27/500\n",
      "1/2 [==============>...............] - ETA: 0s - loss: 0.0800 - mae: 0.2021\n",
      "Epoch 27: val_loss improved from 0.03994 to 0.03726, saving model to D:\\tensorflow_checkpoint\\model07-cp-0027-ckpt\n",
      "INFO:tensorflow:Assets written to: D:\\tensorflow_checkpoint\\model07-cp-0027-ckpt/assets\n"
     ]
    },
    {
     "name": "stderr",
     "output_type": "stream",
     "text": [
      "INFO:tensorflow:Assets written to: D:\\tensorflow_checkpoint\\model07-cp-0027-ckpt/assets\n"
     ]
    },
    {
     "name": "stdout",
     "output_type": "stream",
     "text": [
      "2/2 [==============================] - 0s 178ms/step - loss: 0.0744 - mae: 0.1921 - val_loss: 0.0373 - val_mae: 0.1539 - lr: 0.0010\n",
      "Epoch 28/500\n",
      "1/2 [==============>...............] - ETA: 0s - loss: 0.0746 - mae: 0.1924\n",
      "Epoch 28: val_loss improved from 0.03726 to 0.03499, saving model to D:\\tensorflow_checkpoint\\model07-cp-0028-ckpt\n",
      "INFO:tensorflow:Assets written to: D:\\tensorflow_checkpoint\\model07-cp-0028-ckpt/assets\n"
     ]
    },
    {
     "name": "stderr",
     "output_type": "stream",
     "text": [
      "INFO:tensorflow:Assets written to: D:\\tensorflow_checkpoint\\model07-cp-0028-ckpt/assets\n"
     ]
    },
    {
     "name": "stdout",
     "output_type": "stream",
     "text": [
      "2/2 [==============================] - 0s 190ms/step - loss: 0.0699 - mae: 0.1857 - val_loss: 0.0350 - val_mae: 0.1501 - lr: 0.0010\n",
      "Epoch 29/500\n",
      "1/2 [==============>...............] - ETA: 0s - loss: 0.0674 - mae: 0.1827\n",
      "Epoch 29: val_loss improved from 0.03499 to 0.03306, saving model to D:\\tensorflow_checkpoint\\model07-cp-0029-ckpt\n",
      "INFO:tensorflow:Assets written to: D:\\tensorflow_checkpoint\\model07-cp-0029-ckpt/assets\n"
     ]
    },
    {
     "name": "stderr",
     "output_type": "stream",
     "text": [
      "INFO:tensorflow:Assets written to: D:\\tensorflow_checkpoint\\model07-cp-0029-ckpt/assets\n"
     ]
    },
    {
     "name": "stdout",
     "output_type": "stream",
     "text": [
      "2/2 [==============================] - 0s 152ms/step - loss: 0.0659 - mae: 0.1806 - val_loss: 0.0331 - val_mae: 0.1465 - lr: 0.0010\n",
      "Epoch 30/500\n",
      "1/2 [==============>...............] - ETA: 0s - loss: 0.0619 - mae: 0.1748\n",
      "Epoch 30: val_loss improved from 0.03306 to 0.03140, saving model to D:\\tensorflow_checkpoint\\model07-cp-0030-ckpt\n",
      "INFO:tensorflow:Assets written to: D:\\tensorflow_checkpoint\\model07-cp-0030-ckpt/assets\n"
     ]
    },
    {
     "name": "stderr",
     "output_type": "stream",
     "text": [
      "INFO:tensorflow:Assets written to: D:\\tensorflow_checkpoint\\model07-cp-0030-ckpt/assets\n"
     ]
    },
    {
     "name": "stdout",
     "output_type": "stream",
     "text": [
      "2/2 [==============================] - 0s 177ms/step - loss: 0.0624 - mae: 0.1752 - val_loss: 0.0314 - val_mae: 0.1431 - lr: 0.0010\n",
      "Epoch 31/500\n",
      "1/2 [==============>...............] - ETA: 0s - loss: 0.0555 - mae: 0.1603\n",
      "Epoch 31: val_loss improved from 0.03140 to 0.02990, saving model to D:\\tensorflow_checkpoint\\model07-cp-0031-ckpt\n",
      "INFO:tensorflow:Assets written to: D:\\tensorflow_checkpoint\\model07-cp-0031-ckpt/assets\n"
     ]
    },
    {
     "name": "stderr",
     "output_type": "stream",
     "text": [
      "INFO:tensorflow:Assets written to: D:\\tensorflow_checkpoint\\model07-cp-0031-ckpt/assets\n"
     ]
    },
    {
     "name": "stdout",
     "output_type": "stream",
     "text": [
      "2/2 [==============================] - 0s 180ms/step - loss: 0.0591 - mae: 0.1711 - val_loss: 0.0299 - val_mae: 0.1397 - lr: 0.0010\n",
      "Epoch 32/500\n",
      "1/2 [==============>...............] - ETA: 0s - loss: 0.0611 - mae: 0.1774\n",
      "Epoch 32: val_loss improved from 0.02990 to 0.02860, saving model to D:\\tensorflow_checkpoint\\model07-cp-0032-ckpt\n",
      "INFO:tensorflow:Assets written to: D:\\tensorflow_checkpoint\\model07-cp-0032-ckpt/assets\n"
     ]
    },
    {
     "name": "stderr",
     "output_type": "stream",
     "text": [
      "INFO:tensorflow:Assets written to: D:\\tensorflow_checkpoint\\model07-cp-0032-ckpt/assets\n"
     ]
    },
    {
     "name": "stdout",
     "output_type": "stream",
     "text": [
      "2/2 [==============================] - 0s 197ms/step - loss: 0.0564 - mae: 0.1686 - val_loss: 0.0286 - val_mae: 0.1364 - lr: 0.0010\n",
      "Epoch 33/500\n",
      "1/2 [==============>...............] - ETA: 0s - loss: 0.0583 - mae: 0.1751\n",
      "Epoch 33: val_loss improved from 0.02860 to 0.02754, saving model to D:\\tensorflow_checkpoint\\model07-cp-0033-ckpt\n",
      "INFO:tensorflow:Assets written to: D:\\tensorflow_checkpoint\\model07-cp-0033-ckpt/assets\n"
     ]
    },
    {
     "name": "stderr",
     "output_type": "stream",
     "text": [
      "INFO:tensorflow:Assets written to: D:\\tensorflow_checkpoint\\model07-cp-0033-ckpt/assets\n"
     ]
    },
    {
     "name": "stdout",
     "output_type": "stream",
     "text": [
      "2/2 [==============================] - 0s 143ms/step - loss: 0.0537 - mae: 0.1654 - val_loss: 0.0275 - val_mae: 0.1346 - lr: 0.0010\n",
      "Epoch 34/500\n",
      "1/2 [==============>...............] - ETA: 0s - loss: 0.0483 - mae: 0.1565\n",
      "Epoch 34: val_loss improved from 0.02754 to 0.02665, saving model to D:\\tensorflow_checkpoint\\model07-cp-0034-ckpt\n",
      "INFO:tensorflow:Assets written to: D:\\tensorflow_checkpoint\\model07-cp-0034-ckpt/assets\n"
     ]
    },
    {
     "name": "stderr",
     "output_type": "stream",
     "text": [
      "INFO:tensorflow:Assets written to: D:\\tensorflow_checkpoint\\model07-cp-0034-ckpt/assets\n"
     ]
    },
    {
     "name": "stdout",
     "output_type": "stream",
     "text": [
      "2/2 [==============================] - 0s 142ms/step - loss: 0.0513 - mae: 0.1632 - val_loss: 0.0267 - val_mae: 0.1335 - lr: 0.0010\n",
      "Epoch 35/500\n",
      "1/2 [==============>...............] - ETA: 0s - loss: 0.0481 - mae: 0.1553\n",
      "Epoch 35: val_loss improved from 0.02665 to 0.02587, saving model to D:\\tensorflow_checkpoint\\model07-cp-0035-ckpt\n",
      "INFO:tensorflow:Assets written to: D:\\tensorflow_checkpoint\\model07-cp-0035-ckpt/assets\n"
     ]
    },
    {
     "name": "stderr",
     "output_type": "stream",
     "text": [
      "INFO:tensorflow:Assets written to: D:\\tensorflow_checkpoint\\model07-cp-0035-ckpt/assets\n"
     ]
    },
    {
     "name": "stdout",
     "output_type": "stream",
     "text": [
      "2/2 [==============================] - 0s 152ms/step - loss: 0.0493 - mae: 0.1609 - val_loss: 0.0259 - val_mae: 0.1324 - lr: 0.0010\n",
      "Epoch 36/500\n",
      "1/2 [==============>...............] - ETA: 0s - loss: 0.0518 - mae: 0.1701\n",
      "Epoch 36: val_loss improved from 0.02587 to 0.02524, saving model to D:\\tensorflow_checkpoint\\model07-cp-0036-ckpt\n",
      "INFO:tensorflow:Assets written to: D:\\tensorflow_checkpoint\\model07-cp-0036-ckpt/assets\n"
     ]
    },
    {
     "name": "stderr",
     "output_type": "stream",
     "text": [
      "INFO:tensorflow:Assets written to: D:\\tensorflow_checkpoint\\model07-cp-0036-ckpt/assets\n"
     ]
    },
    {
     "name": "stdout",
     "output_type": "stream",
     "text": [
      "2/2 [==============================] - 0s 177ms/step - loss: 0.0476 - mae: 0.1597 - val_loss: 0.0252 - val_mae: 0.1313 - lr: 0.0010\n",
      "Epoch 37/500\n",
      "1/2 [==============>...............] - ETA: 0s - loss: 0.0495 - mae: 0.1661\n",
      "Epoch 37: val_loss improved from 0.02524 to 0.02476, saving model to D:\\tensorflow_checkpoint\\model07-cp-0037-ckpt\n",
      "INFO:tensorflow:Assets written to: D:\\tensorflow_checkpoint\\model07-cp-0037-ckpt/assets\n"
     ]
    },
    {
     "name": "stderr",
     "output_type": "stream",
     "text": [
      "INFO:tensorflow:Assets written to: D:\\tensorflow_checkpoint\\model07-cp-0037-ckpt/assets\n"
     ]
    },
    {
     "name": "stdout",
     "output_type": "stream",
     "text": [
      "2/2 [==============================] - 0s 178ms/step - loss: 0.0459 - mae: 0.1579 - val_loss: 0.0248 - val_mae: 0.1304 - lr: 0.0010\n",
      "Epoch 38/500\n",
      "1/2 [==============>...............] - ETA: 0s - loss: 0.0452 - mae: 0.1557\n",
      "Epoch 38: val_loss improved from 0.02476 to 0.02438, saving model to D:\\tensorflow_checkpoint\\model07-cp-0038-ckpt\n",
      "INFO:tensorflow:Assets written to: D:\\tensorflow_checkpoint\\model07-cp-0038-ckpt/assets\n"
     ]
    },
    {
     "name": "stderr",
     "output_type": "stream",
     "text": [
      "INFO:tensorflow:Assets written to: D:\\tensorflow_checkpoint\\model07-cp-0038-ckpt/assets\n"
     ]
    },
    {
     "name": "stdout",
     "output_type": "stream",
     "text": [
      "2/2 [==============================] - 0s 179ms/step - loss: 0.0444 - mae: 0.1564 - val_loss: 0.0244 - val_mae: 0.1295 - lr: 0.0010\n",
      "Epoch 39/500\n",
      "1/2 [==============>...............] - ETA: 0s - loss: 0.0341 - mae: 0.1474\n",
      "Epoch 39: val_loss improved from 0.02438 to 0.02404, saving model to D:\\tensorflow_checkpoint\\model07-cp-0039-ckpt\n",
      "INFO:tensorflow:Assets written to: D:\\tensorflow_checkpoint\\model07-cp-0039-ckpt/assets\n"
     ]
    },
    {
     "name": "stderr",
     "output_type": "stream",
     "text": [
      "INFO:tensorflow:Assets written to: D:\\tensorflow_checkpoint\\model07-cp-0039-ckpt/assets\n"
     ]
    },
    {
     "name": "stdout",
     "output_type": "stream",
     "text": [
      "2/2 [==============================] - 0s 185ms/step - loss: 0.0431 - mae: 0.1559 - val_loss: 0.0240 - val_mae: 0.1287 - lr: 0.0010\n",
      "Epoch 40/500\n",
      "1/2 [==============>...............] - ETA: 0s - loss: 0.0324 - mae: 0.1429\n",
      "Epoch 40: val_loss improved from 0.02404 to 0.02376, saving model to D:\\tensorflow_checkpoint\\model07-cp-0040-ckpt\n",
      "INFO:tensorflow:Assets written to: D:\\tensorflow_checkpoint\\model07-cp-0040-ckpt/assets\n"
     ]
    },
    {
     "name": "stderr",
     "output_type": "stream",
     "text": [
      "INFO:tensorflow:Assets written to: D:\\tensorflow_checkpoint\\model07-cp-0040-ckpt/assets\n"
     ]
    },
    {
     "name": "stdout",
     "output_type": "stream",
     "text": [
      "2/2 [==============================] - 0s 160ms/step - loss: 0.0419 - mae: 0.1555 - val_loss: 0.0238 - val_mae: 0.1287 - lr: 0.0010\n",
      "Epoch 41/500\n",
      "1/2 [==============>...............] - ETA: 0s - loss: 0.0272 - mae: 0.1353\n",
      "Epoch 41: val_loss improved from 0.02376 to 0.02357, saving model to D:\\tensorflow_checkpoint\\model07-cp-0041-ckpt\n",
      "INFO:tensorflow:Assets written to: D:\\tensorflow_checkpoint\\model07-cp-0041-ckpt/assets\n"
     ]
    },
    {
     "name": "stderr",
     "output_type": "stream",
     "text": [
      "INFO:tensorflow:Assets written to: D:\\tensorflow_checkpoint\\model07-cp-0041-ckpt/assets\n"
     ]
    },
    {
     "name": "stdout",
     "output_type": "stream",
     "text": [
      "2/2 [==============================] - 0s 302ms/step - loss: 0.0406 - mae: 0.1551 - val_loss: 0.0236 - val_mae: 0.1286 - lr: 0.0010\n",
      "Epoch 42/500\n",
      "1/2 [==============>...............] - ETA: 0s - loss: 0.0424 - mae: 0.1598\n",
      "Epoch 42: val_loss improved from 0.02357 to 0.02348, saving model to D:\\tensorflow_checkpoint\\model07-cp-0042-ckpt\n",
      "INFO:tensorflow:Assets written to: D:\\tensorflow_checkpoint\\model07-cp-0042-ckpt/assets\n"
     ]
    },
    {
     "name": "stderr",
     "output_type": "stream",
     "text": [
      "INFO:tensorflow:Assets written to: D:\\tensorflow_checkpoint\\model07-cp-0042-ckpt/assets\n"
     ]
    },
    {
     "name": "stdout",
     "output_type": "stream",
     "text": [
      "2/2 [==============================] - 0s 179ms/step - loss: 0.0398 - mae: 0.1552 - val_loss: 0.0235 - val_mae: 0.1286 - lr: 0.0010\n",
      "Epoch 43/500\n",
      "1/2 [==============>...............] - ETA: 0s - loss: 0.0404 - mae: 0.1588\n",
      "Epoch 43: val_loss improved from 0.02348 to 0.02348, saving model to D:\\tensorflow_checkpoint\\model07-cp-0043-ckpt\n",
      "INFO:tensorflow:Assets written to: D:\\tensorflow_checkpoint\\model07-cp-0043-ckpt/assets\n"
     ]
    },
    {
     "name": "stderr",
     "output_type": "stream",
     "text": [
      "INFO:tensorflow:Assets written to: D:\\tensorflow_checkpoint\\model07-cp-0043-ckpt/assets\n"
     ]
    },
    {
     "name": "stdout",
     "output_type": "stream",
     "text": [
      "2/2 [==============================] - 0s 188ms/step - loss: 0.0387 - mae: 0.1546 - val_loss: 0.0235 - val_mae: 0.1293 - lr: 0.0010\n",
      "Epoch 44/500\n",
      "1/2 [==============>...............] - ETA: 0s - loss: 0.0371 - mae: 0.1531\n",
      "Epoch 44: ReduceLROnPlateau reducing learning rate to 0.0005000000237487257.\n",
      "\n",
      "Epoch 44: val_loss did not improve from 0.02348\n",
      "2/2 [==============================] - 0s 22ms/step - loss: 0.0378 - mae: 0.1539 - val_loss: 0.0235 - val_mae: 0.1301 - lr: 0.0010\n",
      "Epoch 45/500\n",
      "1/2 [==============>...............] - ETA: 0s - loss: 0.0396 - mae: 0.1587\n",
      "Epoch 45: val_loss did not improve from 0.02348\n",
      "2/2 [==============================] - 0s 25ms/step - loss: 0.0373 - mae: 0.1537 - val_loss: 0.0236 - val_mae: 0.1304 - lr: 5.0000e-04\n",
      "Epoch 46/500\n",
      "1/2 [==============>...............] - ETA: 0s - loss: 0.0388 - mae: 0.1559\n",
      "Epoch 46: val_loss did not improve from 0.02348\n",
      "2/2 [==============================] - 0s 17ms/step - loss: 0.0370 - mae: 0.1538 - val_loss: 0.0236 - val_mae: 0.1307 - lr: 5.0000e-04\n",
      "Epoch 47/500\n",
      "1/2 [==============>...............] - ETA: 0s - loss: 0.0262 - mae: 0.1351\n",
      "Epoch 47: ReduceLROnPlateau reducing learning rate to 0.0002500000118743628.\n",
      "\n",
      "Epoch 47: val_loss did not improve from 0.02348\n",
      "2/2 [==============================] - 0s 18ms/step - loss: 0.0368 - mae: 0.1537 - val_loss: 0.0236 - val_mae: 0.1308 - lr: 5.0000e-04\n",
      "Epoch 48/500\n",
      "1/2 [==============>...............] - ETA: 0s - loss: 0.0379 - mae: 0.1556\n",
      "Epoch 48: val_loss did not improve from 0.02348\n",
      "2/2 [==============================] - 0s 18ms/step - loss: 0.0366 - mae: 0.1536 - val_loss: 0.0236 - val_mae: 0.1309 - lr: 2.5000e-04\n",
      "Epoch 49/500\n",
      "1/2 [==============>...............] - ETA: 0s - loss: 0.0377 - mae: 0.1538\n",
      "Epoch 49: val_loss did not improve from 0.02348\n",
      "2/2 [==============================] - 0s 17ms/step - loss: 0.0366 - mae: 0.1536 - val_loss: 0.0236 - val_mae: 0.1309 - lr: 2.5000e-04\n",
      "Epoch 50/500\n",
      "1/2 [==============>...............] - ETA: 0s - loss: 0.0385 - mae: 0.1574\n",
      "Epoch 50: ReduceLROnPlateau reducing learning rate to 0.0001250000059371814.\n",
      "\n",
      "Epoch 50: val_loss did not improve from 0.02348\n",
      "2/2 [==============================] - 0s 19ms/step - loss: 0.0365 - mae: 0.1535 - val_loss: 0.0237 - val_mae: 0.1310 - lr: 2.5000e-04\n",
      "Epoch 51/500\n",
      "1/2 [==============>...............] - ETA: 0s - loss: 0.0362 - mae: 0.1519\n",
      "Epoch 51: val_loss did not improve from 0.02348\n",
      "2/2 [==============================] - 0s 17ms/step - loss: 0.0364 - mae: 0.1535 - val_loss: 0.0237 - val_mae: 0.1310 - lr: 1.2500e-04\n",
      "Epoch 52/500\n",
      "1/2 [==============>...............] - ETA: 0s - loss: 0.0370 - mae: 0.1527\n",
      "Epoch 52: val_loss did not improve from 0.02348\n",
      "2/2 [==============================] - 0s 17ms/step - loss: 0.0364 - mae: 0.1534 - val_loss: 0.0237 - val_mae: 0.1310 - lr: 1.2500e-04\n",
      "Epoch 53/500\n",
      "1/2 [==============>...............] - ETA: 0s - loss: 0.0351 - mae: 0.1496\n",
      "Epoch 53: ReduceLROnPlateau reducing learning rate to 0.0001.\n",
      "\n",
      "Epoch 53: val_loss did not improve from 0.02348\n",
      "2/2 [==============================] - 0s 19ms/step - loss: 0.0364 - mae: 0.1534 - val_loss: 0.0237 - val_mae: 0.1310 - lr: 1.2500e-04\n",
      "Epoch 53: early stopping\n"
     ]
    },
    {
     "data": {
      "text/html": [
       "<div>\n",
       "<style scoped>\n",
       "    .dataframe tbody tr th:only-of-type {\n",
       "        vertical-align: middle;\n",
       "    }\n",
       "\n",
       "    .dataframe tbody tr th {\n",
       "        vertical-align: top;\n",
       "    }\n",
       "\n",
       "    .dataframe thead th {\n",
       "        text-align: right;\n",
       "    }\n",
       "</style>\n",
       "<table border=\"1\" class=\"dataframe\">\n",
       "  <thead>\n",
       "    <tr style=\"text-align: right;\">\n",
       "      <th></th>\n",
       "      <th>loss</th>\n",
       "      <th>mae</th>\n",
       "      <th>val_loss</th>\n",
       "      <th>val_mae</th>\n",
       "      <th>lr</th>\n",
       "    </tr>\n",
       "    <tr>\n",
       "      <th>epochs</th>\n",
       "      <th></th>\n",
       "      <th></th>\n",
       "      <th></th>\n",
       "      <th></th>\n",
       "      <th></th>\n",
       "    </tr>\n",
       "  </thead>\n",
       "  <tbody>\n",
       "    <tr>\n",
       "      <th>1</th>\n",
       "      <td>0.407088</td>\n",
       "      <td>0.560246</td>\n",
       "      <td>0.268681</td>\n",
       "      <td>0.459873</td>\n",
       "      <td>0.001000</td>\n",
       "    </tr>\n",
       "    <tr>\n",
       "      <th>2</th>\n",
       "      <td>0.383684</td>\n",
       "      <td>0.541557</td>\n",
       "      <td>0.251583</td>\n",
       "      <td>0.443477</td>\n",
       "      <td>0.001000</td>\n",
       "    </tr>\n",
       "    <tr>\n",
       "      <th>3</th>\n",
       "      <td>0.361796</td>\n",
       "      <td>0.523036</td>\n",
       "      <td>0.235145</td>\n",
       "      <td>0.427097</td>\n",
       "      <td>0.001000</td>\n",
       "    </tr>\n",
       "    <tr>\n",
       "      <th>4</th>\n",
       "      <td>0.340837</td>\n",
       "      <td>0.504581</td>\n",
       "      <td>0.219330</td>\n",
       "      <td>0.410736</td>\n",
       "      <td>0.001000</td>\n",
       "    </tr>\n",
       "    <tr>\n",
       "      <th>5</th>\n",
       "      <td>0.320334</td>\n",
       "      <td>0.486173</td>\n",
       "      <td>0.204177</td>\n",
       "      <td>0.394441</td>\n",
       "      <td>0.001000</td>\n",
       "    </tr>\n",
       "    <tr>\n",
       "      <th>6</th>\n",
       "      <td>0.301453</td>\n",
       "      <td>0.467906</td>\n",
       "      <td>0.190085</td>\n",
       "      <td>0.378658</td>\n",
       "      <td>0.001000</td>\n",
       "    </tr>\n",
       "    <tr>\n",
       "      <th>7</th>\n",
       "      <td>0.282101</td>\n",
       "      <td>0.450149</td>\n",
       "      <td>0.176812</td>\n",
       "      <td>0.363177</td>\n",
       "      <td>0.001000</td>\n",
       "    </tr>\n",
       "    <tr>\n",
       "      <th>8</th>\n",
       "      <td>0.264732</td>\n",
       "      <td>0.433297</td>\n",
       "      <td>0.163867</td>\n",
       "      <td>0.347473</td>\n",
       "      <td>0.001000</td>\n",
       "    </tr>\n",
       "    <tr>\n",
       "      <th>9</th>\n",
       "      <td>0.248601</td>\n",
       "      <td>0.416753</td>\n",
       "      <td>0.151797</td>\n",
       "      <td>0.332186</td>\n",
       "      <td>0.001000</td>\n",
       "    </tr>\n",
       "    <tr>\n",
       "      <th>10</th>\n",
       "      <td>0.232357</td>\n",
       "      <td>0.399632</td>\n",
       "      <td>0.140736</td>\n",
       "      <td>0.317575</td>\n",
       "      <td>0.001000</td>\n",
       "    </tr>\n",
       "    <tr>\n",
       "      <th>11</th>\n",
       "      <td>0.217686</td>\n",
       "      <td>0.383692</td>\n",
       "      <td>0.130483</td>\n",
       "      <td>0.303408</td>\n",
       "      <td>0.001000</td>\n",
       "    </tr>\n",
       "    <tr>\n",
       "      <th>12</th>\n",
       "      <td>0.203958</td>\n",
       "      <td>0.367984</td>\n",
       "      <td>0.121143</td>\n",
       "      <td>0.289854</td>\n",
       "      <td>0.001000</td>\n",
       "    </tr>\n",
       "    <tr>\n",
       "      <th>13</th>\n",
       "      <td>0.191333</td>\n",
       "      <td>0.353380</td>\n",
       "      <td>0.112596</td>\n",
       "      <td>0.276891</td>\n",
       "      <td>0.001000</td>\n",
       "    </tr>\n",
       "    <tr>\n",
       "      <th>14</th>\n",
       "      <td>0.179113</td>\n",
       "      <td>0.339564</td>\n",
       "      <td>0.104495</td>\n",
       "      <td>0.263997</td>\n",
       "      <td>0.001000</td>\n",
       "    </tr>\n",
       "    <tr>\n",
       "      <th>15</th>\n",
       "      <td>0.168443</td>\n",
       "      <td>0.326300</td>\n",
       "      <td>0.096795</td>\n",
       "      <td>0.251129</td>\n",
       "      <td>0.001000</td>\n",
       "    </tr>\n",
       "    <tr>\n",
       "      <th>16</th>\n",
       "      <td>0.157634</td>\n",
       "      <td>0.312916</td>\n",
       "      <td>0.089645</td>\n",
       "      <td>0.238565</td>\n",
       "      <td>0.001000</td>\n",
       "    </tr>\n",
       "    <tr>\n",
       "      <th>17</th>\n",
       "      <td>0.147580</td>\n",
       "      <td>0.299820</td>\n",
       "      <td>0.082839</td>\n",
       "      <td>0.227250</td>\n",
       "      <td>0.001000</td>\n",
       "    </tr>\n",
       "    <tr>\n",
       "      <th>18</th>\n",
       "      <td>0.137552</td>\n",
       "      <td>0.287161</td>\n",
       "      <td>0.076180</td>\n",
       "      <td>0.216204</td>\n",
       "      <td>0.001000</td>\n",
       "    </tr>\n",
       "    <tr>\n",
       "      <th>19</th>\n",
       "      <td>0.128742</td>\n",
       "      <td>0.274224</td>\n",
       "      <td>0.069838</td>\n",
       "      <td>0.206363</td>\n",
       "      <td>0.001000</td>\n",
       "    </tr>\n",
       "    <tr>\n",
       "      <th>20</th>\n",
       "      <td>0.119742</td>\n",
       "      <td>0.261850</td>\n",
       "      <td>0.064157</td>\n",
       "      <td>0.196912</td>\n",
       "      <td>0.001000</td>\n",
       "    </tr>\n",
       "    <tr>\n",
       "      <th>21</th>\n",
       "      <td>0.111529</td>\n",
       "      <td>0.249820</td>\n",
       "      <td>0.059116</td>\n",
       "      <td>0.189204</td>\n",
       "      <td>0.001000</td>\n",
       "    </tr>\n",
       "    <tr>\n",
       "      <th>22</th>\n",
       "      <td>0.103891</td>\n",
       "      <td>0.238113</td>\n",
       "      <td>0.054553</td>\n",
       "      <td>0.181989</td>\n",
       "      <td>0.001000</td>\n",
       "    </tr>\n",
       "    <tr>\n",
       "      <th>23</th>\n",
       "      <td>0.097153</td>\n",
       "      <td>0.227858</td>\n",
       "      <td>0.050367</td>\n",
       "      <td>0.174835</td>\n",
       "      <td>0.001000</td>\n",
       "    </tr>\n",
       "    <tr>\n",
       "      <th>24</th>\n",
       "      <td>0.090521</td>\n",
       "      <td>0.217614</td>\n",
       "      <td>0.046480</td>\n",
       "      <td>0.168096</td>\n",
       "      <td>0.001000</td>\n",
       "    </tr>\n",
       "    <tr>\n",
       "      <th>25</th>\n",
       "      <td>0.084967</td>\n",
       "      <td>0.208060</td>\n",
       "      <td>0.042991</td>\n",
       "      <td>0.162234</td>\n",
       "      <td>0.001000</td>\n",
       "    </tr>\n",
       "    <tr>\n",
       "      <th>26</th>\n",
       "      <td>0.079149</td>\n",
       "      <td>0.199327</td>\n",
       "      <td>0.039936</td>\n",
       "      <td>0.157985</td>\n",
       "      <td>0.001000</td>\n",
       "    </tr>\n",
       "    <tr>\n",
       "      <th>27</th>\n",
       "      <td>0.074419</td>\n",
       "      <td>0.192148</td>\n",
       "      <td>0.037256</td>\n",
       "      <td>0.153915</td>\n",
       "      <td>0.001000</td>\n",
       "    </tr>\n",
       "    <tr>\n",
       "      <th>28</th>\n",
       "      <td>0.069888</td>\n",
       "      <td>0.185685</td>\n",
       "      <td>0.034990</td>\n",
       "      <td>0.150111</td>\n",
       "      <td>0.001000</td>\n",
       "    </tr>\n",
       "    <tr>\n",
       "      <th>29</th>\n",
       "      <td>0.065928</td>\n",
       "      <td>0.180596</td>\n",
       "      <td>0.033059</td>\n",
       "      <td>0.146522</td>\n",
       "      <td>0.001000</td>\n",
       "    </tr>\n",
       "    <tr>\n",
       "      <th>30</th>\n",
       "      <td>0.062401</td>\n",
       "      <td>0.175179</td>\n",
       "      <td>0.031399</td>\n",
       "      <td>0.143108</td>\n",
       "      <td>0.001000</td>\n",
       "    </tr>\n",
       "    <tr>\n",
       "      <th>31</th>\n",
       "      <td>0.059102</td>\n",
       "      <td>0.171076</td>\n",
       "      <td>0.029903</td>\n",
       "      <td>0.139691</td>\n",
       "      <td>0.001000</td>\n",
       "    </tr>\n",
       "    <tr>\n",
       "      <th>32</th>\n",
       "      <td>0.056418</td>\n",
       "      <td>0.168592</td>\n",
       "      <td>0.028603</td>\n",
       "      <td>0.136357</td>\n",
       "      <td>0.001000</td>\n",
       "    </tr>\n",
       "    <tr>\n",
       "      <th>33</th>\n",
       "      <td>0.053716</td>\n",
       "      <td>0.165429</td>\n",
       "      <td>0.027543</td>\n",
       "      <td>0.134624</td>\n",
       "      <td>0.001000</td>\n",
       "    </tr>\n",
       "    <tr>\n",
       "      <th>34</th>\n",
       "      <td>0.051344</td>\n",
       "      <td>0.163177</td>\n",
       "      <td>0.026651</td>\n",
       "      <td>0.133524</td>\n",
       "      <td>0.001000</td>\n",
       "    </tr>\n",
       "    <tr>\n",
       "      <th>35</th>\n",
       "      <td>0.049284</td>\n",
       "      <td>0.160875</td>\n",
       "      <td>0.025873</td>\n",
       "      <td>0.132410</td>\n",
       "      <td>0.001000</td>\n",
       "    </tr>\n",
       "    <tr>\n",
       "      <th>36</th>\n",
       "      <td>0.047568</td>\n",
       "      <td>0.159725</td>\n",
       "      <td>0.025241</td>\n",
       "      <td>0.131346</td>\n",
       "      <td>0.001000</td>\n",
       "    </tr>\n",
       "    <tr>\n",
       "      <th>37</th>\n",
       "      <td>0.045878</td>\n",
       "      <td>0.157863</td>\n",
       "      <td>0.024764</td>\n",
       "      <td>0.130390</td>\n",
       "      <td>0.001000</td>\n",
       "    </tr>\n",
       "    <tr>\n",
       "      <th>38</th>\n",
       "      <td>0.044413</td>\n",
       "      <td>0.156402</td>\n",
       "      <td>0.024380</td>\n",
       "      <td>0.129474</td>\n",
       "      <td>0.001000</td>\n",
       "    </tr>\n",
       "    <tr>\n",
       "      <th>39</th>\n",
       "      <td>0.043117</td>\n",
       "      <td>0.155924</td>\n",
       "      <td>0.024042</td>\n",
       "      <td>0.128710</td>\n",
       "      <td>0.001000</td>\n",
       "    </tr>\n",
       "    <tr>\n",
       "      <th>40</th>\n",
       "      <td>0.041893</td>\n",
       "      <td>0.155535</td>\n",
       "      <td>0.023765</td>\n",
       "      <td>0.128669</td>\n",
       "      <td>0.001000</td>\n",
       "    </tr>\n",
       "    <tr>\n",
       "      <th>41</th>\n",
       "      <td>0.040583</td>\n",
       "      <td>0.155055</td>\n",
       "      <td>0.023568</td>\n",
       "      <td>0.128627</td>\n",
       "      <td>0.001000</td>\n",
       "    </tr>\n",
       "    <tr>\n",
       "      <th>42</th>\n",
       "      <td>0.039752</td>\n",
       "      <td>0.155206</td>\n",
       "      <td>0.023482</td>\n",
       "      <td>0.128569</td>\n",
       "      <td>0.001000</td>\n",
       "    </tr>\n",
       "    <tr>\n",
       "      <th>43</th>\n",
       "      <td>0.038681</td>\n",
       "      <td>0.154628</td>\n",
       "      <td>0.023482</td>\n",
       "      <td>0.129349</td>\n",
       "      <td>0.001000</td>\n",
       "    </tr>\n",
       "    <tr>\n",
       "      <th>44</th>\n",
       "      <td>0.037824</td>\n",
       "      <td>0.153885</td>\n",
       "      <td>0.023531</td>\n",
       "      <td>0.130096</td>\n",
       "      <td>0.001000</td>\n",
       "    </tr>\n",
       "    <tr>\n",
       "      <th>45</th>\n",
       "      <td>0.037300</td>\n",
       "      <td>0.153724</td>\n",
       "      <td>0.023573</td>\n",
       "      <td>0.130433</td>\n",
       "      <td>0.000500</td>\n",
       "    </tr>\n",
       "    <tr>\n",
       "      <th>46</th>\n",
       "      <td>0.037049</td>\n",
       "      <td>0.153790</td>\n",
       "      <td>0.023605</td>\n",
       "      <td>0.130662</td>\n",
       "      <td>0.000500</td>\n",
       "    </tr>\n",
       "    <tr>\n",
       "      <th>47</th>\n",
       "      <td>0.036797</td>\n",
       "      <td>0.153654</td>\n",
       "      <td>0.023632</td>\n",
       "      <td>0.130839</td>\n",
       "      <td>0.000500</td>\n",
       "    </tr>\n",
       "    <tr>\n",
       "      <th>48</th>\n",
       "      <td>0.036649</td>\n",
       "      <td>0.153613</td>\n",
       "      <td>0.023644</td>\n",
       "      <td>0.130909</td>\n",
       "      <td>0.000250</td>\n",
       "    </tr>\n",
       "    <tr>\n",
       "      <th>49</th>\n",
       "      <td>0.036556</td>\n",
       "      <td>0.153570</td>\n",
       "      <td>0.023649</td>\n",
       "      <td>0.130945</td>\n",
       "      <td>0.000250</td>\n",
       "    </tr>\n",
       "    <tr>\n",
       "      <th>50</th>\n",
       "      <td>0.036479</td>\n",
       "      <td>0.153513</td>\n",
       "      <td>0.023651</td>\n",
       "      <td>0.130968</td>\n",
       "      <td>0.000250</td>\n",
       "    </tr>\n",
       "    <tr>\n",
       "      <th>51</th>\n",
       "      <td>0.036416</td>\n",
       "      <td>0.153466</td>\n",
       "      <td>0.023653</td>\n",
       "      <td>0.130983</td>\n",
       "      <td>0.000125</td>\n",
       "    </tr>\n",
       "    <tr>\n",
       "      <th>52</th>\n",
       "      <td>0.036386</td>\n",
       "      <td>0.153447</td>\n",
       "      <td>0.023654</td>\n",
       "      <td>0.130990</td>\n",
       "      <td>0.000125</td>\n",
       "    </tr>\n",
       "    <tr>\n",
       "      <th>53</th>\n",
       "      <td>0.036350</td>\n",
       "      <td>0.153412</td>\n",
       "      <td>0.023654</td>\n",
       "      <td>0.130996</td>\n",
       "      <td>0.000125</td>\n",
       "    </tr>\n",
       "  </tbody>\n",
       "</table>\n",
       "</div>"
      ],
      "text/plain": [
       "            loss       mae  val_loss   val_mae        lr\n",
       "epochs                                                  \n",
       "1       0.407088  0.560246  0.268681  0.459873  0.001000\n",
       "2       0.383684  0.541557  0.251583  0.443477  0.001000\n",
       "3       0.361796  0.523036  0.235145  0.427097  0.001000\n",
       "4       0.340837  0.504581  0.219330  0.410736  0.001000\n",
       "5       0.320334  0.486173  0.204177  0.394441  0.001000\n",
       "6       0.301453  0.467906  0.190085  0.378658  0.001000\n",
       "7       0.282101  0.450149  0.176812  0.363177  0.001000\n",
       "8       0.264732  0.433297  0.163867  0.347473  0.001000\n",
       "9       0.248601  0.416753  0.151797  0.332186  0.001000\n",
       "10      0.232357  0.399632  0.140736  0.317575  0.001000\n",
       "11      0.217686  0.383692  0.130483  0.303408  0.001000\n",
       "12      0.203958  0.367984  0.121143  0.289854  0.001000\n",
       "13      0.191333  0.353380  0.112596  0.276891  0.001000\n",
       "14      0.179113  0.339564  0.104495  0.263997  0.001000\n",
       "15      0.168443  0.326300  0.096795  0.251129  0.001000\n",
       "16      0.157634  0.312916  0.089645  0.238565  0.001000\n",
       "17      0.147580  0.299820  0.082839  0.227250  0.001000\n",
       "18      0.137552  0.287161  0.076180  0.216204  0.001000\n",
       "19      0.128742  0.274224  0.069838  0.206363  0.001000\n",
       "20      0.119742  0.261850  0.064157  0.196912  0.001000\n",
       "21      0.111529  0.249820  0.059116  0.189204  0.001000\n",
       "22      0.103891  0.238113  0.054553  0.181989  0.001000\n",
       "23      0.097153  0.227858  0.050367  0.174835  0.001000\n",
       "24      0.090521  0.217614  0.046480  0.168096  0.001000\n",
       "25      0.084967  0.208060  0.042991  0.162234  0.001000\n",
       "26      0.079149  0.199327  0.039936  0.157985  0.001000\n",
       "27      0.074419  0.192148  0.037256  0.153915  0.001000\n",
       "28      0.069888  0.185685  0.034990  0.150111  0.001000\n",
       "29      0.065928  0.180596  0.033059  0.146522  0.001000\n",
       "30      0.062401  0.175179  0.031399  0.143108  0.001000\n",
       "31      0.059102  0.171076  0.029903  0.139691  0.001000\n",
       "32      0.056418  0.168592  0.028603  0.136357  0.001000\n",
       "33      0.053716  0.165429  0.027543  0.134624  0.001000\n",
       "34      0.051344  0.163177  0.026651  0.133524  0.001000\n",
       "35      0.049284  0.160875  0.025873  0.132410  0.001000\n",
       "36      0.047568  0.159725  0.025241  0.131346  0.001000\n",
       "37      0.045878  0.157863  0.024764  0.130390  0.001000\n",
       "38      0.044413  0.156402  0.024380  0.129474  0.001000\n",
       "39      0.043117  0.155924  0.024042  0.128710  0.001000\n",
       "40      0.041893  0.155535  0.023765  0.128669  0.001000\n",
       "41      0.040583  0.155055  0.023568  0.128627  0.001000\n",
       "42      0.039752  0.155206  0.023482  0.128569  0.001000\n",
       "43      0.038681  0.154628  0.023482  0.129349  0.001000\n",
       "44      0.037824  0.153885  0.023531  0.130096  0.001000\n",
       "45      0.037300  0.153724  0.023573  0.130433  0.000500\n",
       "46      0.037049  0.153790  0.023605  0.130662  0.000500\n",
       "47      0.036797  0.153654  0.023632  0.130839  0.000500\n",
       "48      0.036649  0.153613  0.023644  0.130909  0.000250\n",
       "49      0.036556  0.153570  0.023649  0.130945  0.000250\n",
       "50      0.036479  0.153513  0.023651  0.130968  0.000250\n",
       "51      0.036416  0.153466  0.023653  0.130983  0.000125\n",
       "52      0.036386  0.153447  0.023654  0.130990  0.000125\n",
       "53      0.036350  0.153412  0.023654  0.130996  0.000125"
      ]
     },
     "execution_count": 13,
     "metadata": {},
     "output_type": "execute_result"
    }
   ],
   "source": [
    "# result = my_model.fit(x_train, y_train, epochs=500, validation_data=(x_test,y_test))\n",
    "# 파일이 저장될 경로(폴더) 지정 (한글, 공백, 점(.)이 포함되어 잇을 경우 에러 발생함)\n",
    "\n",
    "checkpoint_path = os.path.join('D:\\\\tensorflow_checkpoint\\\\model07-cp-{epoch:04d}-ckpt')\n",
    "\n",
    "result = my_model.fit(x_train, \n",
    "                      y_train, \n",
    "                      epochs=500, \n",
    "                      validation_data=(x_test,y_test),\n",
    "                      callbacks=[EarlyStopping(monitor='val_loss',\n",
    "                                               patience=10,\n",
    "                                               verbose=1),\n",
    "                                ReduceLROnPlateau(monitor='val_loss',\n",
    "                                                  patience=3,\n",
    "                                                  factor = 0.5,\n",
    "                                                  min_lr=0.0001,\n",
    "                                                  verbose=1),\n",
    "                                ModelCheckpoint(filepath=checkpoint_path,\n",
    "                                                monitor='val_loss',\n",
    "                                                verbose=1,\n",
    "                                                save_best_only=True)])\n",
    "# 학습 결과\n",
    "result_df = DataFrame(result.history)\n",
    "result_df['epochs']=result_df.index+1\n",
    "result_df.set_index('epochs', inplace=True)\n",
    "result_df"
   ]
  },
  {
   "cell_type": "markdown",
   "metadata": {},
   "source": [
    "### 7) 학습 결과 평가\n",
    "- 학습 결과 시각화"
   ]
  },
  {
   "cell_type": "code",
   "execution_count": 14,
   "metadata": {},
   "outputs": [
    {
     "name": "stderr",
     "output_type": "stream",
     "text": [
      "/Library/Frameworks/Python.framework/Versions/3.9/lib/python3.9/site-packages/seaborn/_oldcore.py:1498: FutureWarning: is_categorical_dtype is deprecated and will be removed in a future version. Use isinstance(dtype, CategoricalDtype) instead\n",
      "  if pd.api.types.is_categorical_dtype(vector):\n",
      "/Library/Frameworks/Python.framework/Versions/3.9/lib/python3.9/site-packages/seaborn/_oldcore.py:1498: FutureWarning: is_categorical_dtype is deprecated and will be removed in a future version. Use isinstance(dtype, CategoricalDtype) instead\n",
      "  if pd.api.types.is_categorical_dtype(vector):\n",
      "/Library/Frameworks/Python.framework/Versions/3.9/lib/python3.9/site-packages/seaborn/_oldcore.py:1119: FutureWarning: use_inf_as_na option is deprecated and will be removed in a future version. Convert inf values to NaN before operating instead.\n",
      "  with pd.option_context('mode.use_inf_as_na', True):\n",
      "/Library/Frameworks/Python.framework/Versions/3.9/lib/python3.9/site-packages/seaborn/_oldcore.py:1119: FutureWarning: use_inf_as_na option is deprecated and will be removed in a future version. Convert inf values to NaN before operating instead.\n",
      "  with pd.option_context('mode.use_inf_as_na', True):\n",
      "/Library/Frameworks/Python.framework/Versions/3.9/lib/python3.9/site-packages/seaborn/_oldcore.py:1498: FutureWarning: is_categorical_dtype is deprecated and will be removed in a future version. Use isinstance(dtype, CategoricalDtype) instead\n",
      "  if pd.api.types.is_categorical_dtype(vector):\n",
      "/Library/Frameworks/Python.framework/Versions/3.9/lib/python3.9/site-packages/seaborn/_oldcore.py:1498: FutureWarning: is_categorical_dtype is deprecated and will be removed in a future version. Use isinstance(dtype, CategoricalDtype) instead\n",
      "  if pd.api.types.is_categorical_dtype(vector):\n",
      "/Library/Frameworks/Python.framework/Versions/3.9/lib/python3.9/site-packages/seaborn/_oldcore.py:1119: FutureWarning: use_inf_as_na option is deprecated and will be removed in a future version. Convert inf values to NaN before operating instead.\n",
      "  with pd.option_context('mode.use_inf_as_na', True):\n",
      "/Library/Frameworks/Python.framework/Versions/3.9/lib/python3.9/site-packages/seaborn/_oldcore.py:1119: FutureWarning: use_inf_as_na option is deprecated and will be removed in a future version. Convert inf values to NaN before operating instead.\n",
      "  with pd.option_context('mode.use_inf_as_na', True):\n",
      "/Library/Frameworks/Python.framework/Versions/3.9/lib/python3.9/site-packages/seaborn/_oldcore.py:1498: FutureWarning: is_categorical_dtype is deprecated and will be removed in a future version. Use isinstance(dtype, CategoricalDtype) instead\n",
      "  if pd.api.types.is_categorical_dtype(vector):\n",
      "/Library/Frameworks/Python.framework/Versions/3.9/lib/python3.9/site-packages/seaborn/_oldcore.py:1498: FutureWarning: is_categorical_dtype is deprecated and will be removed in a future version. Use isinstance(dtype, CategoricalDtype) instead\n",
      "  if pd.api.types.is_categorical_dtype(vector):\n",
      "/Library/Frameworks/Python.framework/Versions/3.9/lib/python3.9/site-packages/seaborn/_oldcore.py:1119: FutureWarning: use_inf_as_na option is deprecated and will be removed in a future version. Convert inf values to NaN before operating instead.\n",
      "  with pd.option_context('mode.use_inf_as_na', True):\n",
      "/Library/Frameworks/Python.framework/Versions/3.9/lib/python3.9/site-packages/seaborn/_oldcore.py:1119: FutureWarning: use_inf_as_na option is deprecated and will be removed in a future version. Convert inf values to NaN before operating instead.\n",
      "  with pd.option_context('mode.use_inf_as_na', True):\n",
      "/Library/Frameworks/Python.framework/Versions/3.9/lib/python3.9/site-packages/seaborn/_oldcore.py:1498: FutureWarning: is_categorical_dtype is deprecated and will be removed in a future version. Use isinstance(dtype, CategoricalDtype) instead\n",
      "  if pd.api.types.is_categorical_dtype(vector):\n",
      "/Library/Frameworks/Python.framework/Versions/3.9/lib/python3.9/site-packages/seaborn/_oldcore.py:1498: FutureWarning: is_categorical_dtype is deprecated and will be removed in a future version. Use isinstance(dtype, CategoricalDtype) instead\n",
      "  if pd.api.types.is_categorical_dtype(vector):\n",
      "/Library/Frameworks/Python.framework/Versions/3.9/lib/python3.9/site-packages/seaborn/_oldcore.py:1119: FutureWarning: use_inf_as_na option is deprecated and will be removed in a future version. Convert inf values to NaN before operating instead.\n",
      "  with pd.option_context('mode.use_inf_as_na', True):\n",
      "/Library/Frameworks/Python.framework/Versions/3.9/lib/python3.9/site-packages/seaborn/_oldcore.py:1119: FutureWarning: use_inf_as_na option is deprecated and will be removed in a future version. Convert inf values to NaN before operating instead.\n",
      "  with pd.option_context('mode.use_inf_as_na', True):\n"
     ]
    },
    {
     "data": {
      "image/png": "[encoded data removed]",
      "text/plain": [
       "<Figure size 2250x750 with 2 Axes>"
      ]
     },
     "metadata": {},
     "output_type": "display_data"
    }
   ],
   "source": [
    "# 그래프 기본설정\n",
    "plt.rcParams['font.family']='AppleGothic'\n",
    "plt.rcParams['font.size']=12\n",
    "plt.rcParams['axes.unicode_minus']=False\n",
    "\n",
    "# 그래프를 그리기 위한 객체 생성\n",
    "fig, (ax1, ax2) = plt.subplots(1, 2, figsize=(15, 5), dpi=150)\n",
    "\n",
    "# 1) 훈련 및 검증 손실 그리기\n",
    "sb.lineplot(x=result_df.index, \n",
    "            y='loss',\n",
    "            data=result_df, \n",
    "            color='blue',\n",
    "            label='훈련 손실률',\n",
    "            ax=ax1)\n",
    "sb.lineplot(x=result_df.index, \n",
    "            y='val_loss',\n",
    "            data=result_df, \n",
    "            color='orange',\n",
    "            label='검증 손실률',\n",
    "            ax=ax1)\n",
    "ax1.set_title('훈련 및 검증 손실률')\n",
    "ax1.set_xlabel('반복회차')\n",
    "ax1.set_ylabel('손실률')\n",
    "ax1.grid()\n",
    "ax1.legend()\n",
    "\n",
    "# 2) 훈련 및 검증 절대오차 그리기\n",
    "sb.lineplot(x=result_df.index,\n",
    "            y='mae',\n",
    "            data=result_df,\n",
    "            color='blue',\n",
    "            label='훈련 절대오차',\n",
    "            ax=ax2)\n",
    "sb.lineplot(x=result_df.index,\n",
    "            y='val_mae',\n",
    "            data=result_df,\n",
    "            color='orange',\n",
    "            label='검증 절대오차',\n",
    "            ax=ax2)\n",
    "ax2.set_title('훈련 및 검증 절대오차')\n",
    "ax2.set_xlabel('반복회차')\n",
    "ax2.set_ylabel('정확도')\n",
    "ax2.grid()\n",
    "ax2.legend()\n",
    "\n",
    "plt.show()\n",
    "plt.close()"
   ]
  },
  {
   "cell_type": "markdown",
   "metadata": {},
   "source": [
    "> epochs를 500으로 지정했지만 `일찍 학습을 멈춘 것을 확인`할 수 있다\n",
    ">\n",
    "> 즉, 학습을 `조기 종료`함으로서 `학습 성능을 향상`시켰다고 할 수 있다\n",
    "\n",
    "- 모델 성능 평가"
   ]
  },
  {
   "cell_type": "code",
   "execution_count": 15,
   "metadata": {},
   "outputs": [
    {
     "name": "stdout",
     "output_type": "stream",
     "text": [
      "2/2 [==============================] - 0s 5ms/step - loss: 0.0363 - mae: 0.1534\n",
      "최종 훈련 손실률: 0.036322, 최종 훈련 절대오차: 0.153388\n",
      "1/1 [==============================] - 0s 14ms/step - loss: 0.0237 - mae: 0.1310\n",
      "최종 검증 손실률: 0.036322, 최종 검증 절대오차: 0.130996\n"
     ]
    }
   ],
   "source": [
    "evaluate1 = my_model.evaluate(x_train, y_train)\n",
    "print('최종 훈련 손실률: %f, 최종 훈련 절대오차: %f' % (evaluate1[0], evaluate1[1]))\n",
    "\n",
    "evaluate2 = my_model.evaluate(x_test, y_test)\n",
    "print('최종 검증 손실률: %f, 최종 검증 절대오차: %f' % (evaluate1[0], evaluate2[1]))"
   ]
  },
  {
   "cell_type": "markdown",
   "metadata": {},
   "source": [
    "### 8) 학습 결과 적용\n",
    "- 테스트 데이터에 대한 예측 결과 산정"
   ]
  },
  {
   "cell_type": "code",
   "execution_count": 16,
   "metadata": {},
   "outputs": [
    {
     "name": "stdout",
     "output_type": "stream",
     "text": [
      "1/1 [==============================] - 0s 48ms/step\n",
      "[[0.4192801 ]\n",
      " [0.3467598 ]\n",
      " [0.33603132]\n",
      " [0.32278538]\n",
      " [0.39596617]\n",
      " [0.35748821]\n",
      " [0.35748821]\n",
      " [0.38842893]\n",
      " [0.33603132]\n",
      " [0.39596617]\n",
      " [0.35748821]\n",
      " [0.40245646]\n",
      " [0.26443684]\n",
      " [0.3467598 ]\n",
      " [0.20124234]]\n"
     ]
    }
   ],
   "source": [
    "results = my_model.predict(x_test)\n",
    "print(results)"
   ]
  },
  {
   "cell_type": "markdown",
   "metadata": {},
   "source": [
    "- 결과 데이터셋 구성"
   ]
  },
  {
   "cell_type": "code",
   "execution_count": 17,
   "metadata": {},
   "outputs": [
    {
     "data": {
      "text/html": [
       "<div>\n",
       "<style scoped>\n",
       "    .dataframe tbody tr th:only-of-type {\n",
       "        vertical-align: middle;\n",
       "    }\n",
       "\n",
       "    .dataframe tbody tr th {\n",
       "        vertical-align: top;\n",
       "    }\n",
       "\n",
       "    .dataframe thead th {\n",
       "        text-align: right;\n",
       "    }\n",
       "</style>\n",
       "<table border=\"1\" class=\"dataframe\">\n",
       "  <thead>\n",
       "    <tr style=\"text-align: right;\">\n",
       "      <th></th>\n",
       "      <th>검증데이터</th>\n",
       "      <th>실제값</th>\n",
       "      <th>예측값</th>\n",
       "      <th>예측오차</th>\n",
       "    </tr>\n",
       "  </thead>\n",
       "  <tbody>\n",
       "    <tr>\n",
       "      <th>0</th>\n",
       "      <td>0.904762</td>\n",
       "      <td>0.440678</td>\n",
       "      <td>0.419280</td>\n",
       "      <td>0.021398</td>\n",
       "    </tr>\n",
       "    <tr>\n",
       "      <th>1</th>\n",
       "      <td>0.428571</td>\n",
       "      <td>0.271186</td>\n",
       "      <td>0.346760</td>\n",
       "      <td>-0.075573</td>\n",
       "    </tr>\n",
       "    <tr>\n",
       "      <th>2</th>\n",
       "      <td>0.380952</td>\n",
       "      <td>0.101695</td>\n",
       "      <td>0.336031</td>\n",
       "      <td>-0.234336</td>\n",
       "    </tr>\n",
       "    <tr>\n",
       "      <th>3</th>\n",
       "      <td>0.333333</td>\n",
       "      <td>0.127119</td>\n",
       "      <td>0.322785</td>\n",
       "      <td>-0.195667</td>\n",
       "    </tr>\n",
       "    <tr>\n",
       "      <th>4</th>\n",
       "      <td>0.714286</td>\n",
       "      <td>0.372881</td>\n",
       "      <td>0.395966</td>\n",
       "      <td>-0.023085</td>\n",
       "    </tr>\n",
       "    <tr>\n",
       "      <th>5</th>\n",
       "      <td>0.476190</td>\n",
       "      <td>0.491525</td>\n",
       "      <td>0.357488</td>\n",
       "      <td>0.134037</td>\n",
       "    </tr>\n",
       "    <tr>\n",
       "      <th>6</th>\n",
       "      <td>0.476190</td>\n",
       "      <td>0.661017</td>\n",
       "      <td>0.357488</td>\n",
       "      <td>0.303529</td>\n",
       "    </tr>\n",
       "    <tr>\n",
       "      <th>7</th>\n",
       "      <td>0.666667</td>\n",
       "      <td>0.338983</td>\n",
       "      <td>0.388429</td>\n",
       "      <td>-0.049446</td>\n",
       "    </tr>\n",
       "    <tr>\n",
       "      <th>8</th>\n",
       "      <td>0.380952</td>\n",
       "      <td>0.152542</td>\n",
       "      <td>0.336031</td>\n",
       "      <td>-0.183489</td>\n",
       "    </tr>\n",
       "    <tr>\n",
       "      <th>9</th>\n",
       "      <td>0.714286</td>\n",
       "      <td>0.559322</td>\n",
       "      <td>0.395966</td>\n",
       "      <td>0.163356</td>\n",
       "    </tr>\n",
       "    <tr>\n",
       "      <th>10</th>\n",
       "      <td>0.476190</td>\n",
       "      <td>0.203390</td>\n",
       "      <td>0.357488</td>\n",
       "      <td>-0.154098</td>\n",
       "    </tr>\n",
       "    <tr>\n",
       "      <th>11</th>\n",
       "      <td>0.761905</td>\n",
       "      <td>0.457627</td>\n",
       "      <td>0.402456</td>\n",
       "      <td>0.055171</td>\n",
       "    </tr>\n",
       "    <tr>\n",
       "      <th>12</th>\n",
       "      <td>0.142857</td>\n",
       "      <td>0.169492</td>\n",
       "      <td>0.264437</td>\n",
       "      <td>-0.094945</td>\n",
       "    </tr>\n",
       "    <tr>\n",
       "      <th>13</th>\n",
       "      <td>0.428571</td>\n",
       "      <td>0.271186</td>\n",
       "      <td>0.346760</td>\n",
       "      <td>-0.075573</td>\n",
       "    </tr>\n",
       "    <tr>\n",
       "      <th>14</th>\n",
       "      <td>0.000000</td>\n",
       "      <td>0.000000</td>\n",
       "      <td>0.201242</td>\n",
       "      <td>-0.201242</td>\n",
       "    </tr>\n",
       "  </tbody>\n",
       "</table>\n",
       "</div>"
      ],
      "text/plain": [
       "       검증데이터       실제값       예측값      예측오차\n",
       "0   0.904762  0.440678  0.419280  0.021398\n",
       "1   0.428571  0.271186  0.346760 -0.075573\n",
       "2   0.380952  0.101695  0.336031 -0.234336\n",
       "3   0.333333  0.127119  0.322785 -0.195667\n",
       "4   0.714286  0.372881  0.395966 -0.023085\n",
       "5   0.476190  0.491525  0.357488  0.134037\n",
       "6   0.476190  0.661017  0.357488  0.303529\n",
       "7   0.666667  0.338983  0.388429 -0.049446\n",
       "8   0.380952  0.152542  0.336031 -0.183489\n",
       "9   0.714286  0.559322  0.395966  0.163356\n",
       "10  0.476190  0.203390  0.357488 -0.154098\n",
       "11  0.761905  0.457627  0.402456  0.055171\n",
       "12  0.142857  0.169492  0.264437 -0.094945\n",
       "13  0.428571  0.271186  0.346760 -0.075573\n",
       "14  0.000000  0.000000  0.201242 -0.201242"
      ]
     },
     "execution_count": 17,
     "metadata": {},
     "output_type": "execute_result"
    }
   ],
   "source": [
    "kdf = DataFrame({'검증데이터': x_test.flatten(),\n",
    "                 '실제값': y_test.flatten(),\n",
    "                 '예측값': results.flatten()})\n",
    "\n",
    "kdf['예측오차'] = kdf['실제값'] - kdf['예측값']\n",
    "\n",
    "kdf"
   ]
  },
  {
   "cell_type": "markdown",
   "metadata": {},
   "source": [
    "- 실제 결과값과 머신러닝에 의한 예측값 비교"
   ]
  },
  {
   "cell_type": "code",
   "execution_count": 20,
   "metadata": {},
   "outputs": [
    {
     "name": "stderr",
     "output_type": "stream",
     "text": [
      "/Library/Frameworks/Python.framework/Versions/3.9/lib/python3.9/site-packages/seaborn/_oldcore.py:1498: FutureWarning: is_categorical_dtype is deprecated and will be removed in a future version. Use isinstance(dtype, CategoricalDtype) instead\n",
      "  if pd.api.types.is_categorical_dtype(vector):\n",
      "/Library/Frameworks/Python.framework/Versions/3.9/lib/python3.9/site-packages/seaborn/_oldcore.py:1498: FutureWarning: is_categorical_dtype is deprecated and will be removed in a future version. Use isinstance(dtype, CategoricalDtype) instead\n",
      "  if pd.api.types.is_categorical_dtype(vector):\n",
      "/Library/Frameworks/Python.framework/Versions/3.9/lib/python3.9/site-packages/seaborn/_oldcore.py:1498: FutureWarning: is_categorical_dtype is deprecated and will be removed in a future version. Use isinstance(dtype, CategoricalDtype) instead\n",
      "  if pd.api.types.is_categorical_dtype(vector):\n",
      "/Library/Frameworks/Python.framework/Versions/3.9/lib/python3.9/site-packages/seaborn/_oldcore.py:1498: FutureWarning: is_categorical_dtype is deprecated and will be removed in a future version. Use isinstance(dtype, CategoricalDtype) instead\n",
      "  if pd.api.types.is_categorical_dtype(vector):\n",
      "/Library/Frameworks/Python.framework/Versions/3.9/lib/python3.9/site-packages/seaborn/_oldcore.py:1119: FutureWarning: use_inf_as_na option is deprecated and will be removed in a future version. Convert inf values to NaN before operating instead.\n",
      "  with pd.option_context('mode.use_inf_as_na', True):\n",
      "/Library/Frameworks/Python.framework/Versions/3.9/lib/python3.9/site-packages/seaborn/_oldcore.py:1119: FutureWarning: use_inf_as_na option is deprecated and will be removed in a future version. Convert inf values to NaN before operating instead.\n",
      "  with pd.option_context('mode.use_inf_as_na', True):\n",
      "/Library/Frameworks/Python.framework/Versions/3.9/lib/python3.9/site-packages/seaborn/_oldcore.py:1498: FutureWarning: is_categorical_dtype is deprecated and will be removed in a future version. Use isinstance(dtype, CategoricalDtype) instead\n",
      "  if pd.api.types.is_categorical_dtype(vector):\n",
      "/Library/Frameworks/Python.framework/Versions/3.9/lib/python3.9/site-packages/seaborn/_oldcore.py:1498: FutureWarning: is_categorical_dtype is deprecated and will be removed in a future version. Use isinstance(dtype, CategoricalDtype) instead\n",
      "  if pd.api.types.is_categorical_dtype(vector):\n",
      "/Library/Frameworks/Python.framework/Versions/3.9/lib/python3.9/site-packages/seaborn/_oldcore.py:1498: FutureWarning: is_categorical_dtype is deprecated and will be removed in a future version. Use isinstance(dtype, CategoricalDtype) instead\n",
      "  if pd.api.types.is_categorical_dtype(vector):\n",
      "/Library/Frameworks/Python.framework/Versions/3.9/lib/python3.9/site-packages/seaborn/_oldcore.py:1498: FutureWarning: is_categorical_dtype is deprecated and will be removed in a future version. Use isinstance(dtype, CategoricalDtype) instead\n",
      "  if pd.api.types.is_categorical_dtype(vector):\n",
      "/Library/Frameworks/Python.framework/Versions/3.9/lib/python3.9/site-packages/seaborn/_oldcore.py:1119: FutureWarning: use_inf_as_na option is deprecated and will be removed in a future version. Convert inf values to NaN before operating instead.\n",
      "  with pd.option_context('mode.use_inf_as_na', True):\n",
      "/Library/Frameworks/Python.framework/Versions/3.9/lib/python3.9/site-packages/seaborn/_oldcore.py:1119: FutureWarning: use_inf_as_na option is deprecated and will be removed in a future version. Convert inf values to NaN before operating instead.\n",
      "  with pd.option_context('mode.use_inf_as_na', True):\n"
     ]
    },
    {
     "data": {
      "image/png": "[encoded data removed]",
      "text/plain": [
       "<Figure size 1000x500 with 1 Axes>"
      ]
     },
     "metadata": {},
     "output_type": "display_data"
    }
   ],
   "source": [
    "helper.regplot(x_left=kdf['검증데이터'],\n",
    "               y_left=kdf['실제값'],\n",
    "               y_left_pred=kdf['예측값'])"
   ]
  },
  {
   "cell_type": "markdown",
   "metadata": {},
   "source": [
    "- 임의의 값에 대한 머신러닝 예측 결과"
   ]
  },
  {
   "cell_type": "code",
   "execution_count": 21,
   "metadata": {},
   "outputs": [
    {
     "name": "stdout",
     "output_type": "stream",
     "text": [
      "1/1 [==============================] - 0s 14ms/step\n"
     ]
    },
    {
     "name": "stderr",
     "output_type": "stream",
     "text": [
      "/Library/Frameworks/Python.framework/Versions/3.9/lib/python3.9/site-packages/sklearn/base.py:464: UserWarning: X does not have valid feature names, but MinMaxScaler was fitted with feature names\n",
      "  warnings.warn(\n"
     ]
    },
    {
     "data": {
      "text/plain": [
       "array([[68.78204]], dtype=float32)"
      ]
     },
     "execution_count": 21,
     "metadata": {},
     "output_type": "execute_result"
    }
   ],
   "source": [
    "# 속도가 50일 때의 제동거리를 예측해보자\n",
    "my_speed = 50\n",
    "\n",
    "# 독립변수 표준화에 사용한 객체를 활용\n",
    "my_speed_scale = x_scaler.transform([[my_speed]])\n",
    "my_speed_scale\n",
    "\n",
    "results = my_model.predict(my_speed_scale)\n",
    "results\n",
    "\n",
    "# 예측 결과는 표준화된 값으로 나오기 때문에 원래의 단위로 되돌리기 위해 역변환\n",
    "y_scaler.inverse_transform(results)"
   ]
  }
 ],
 "metadata": {
  "kernelspec": {
   "display_name": "Python 3",
   "language": "python",
   "name": "python3"
  },
  "language_info": {
   "codemirror_mode": {
    "name": "ipython",
    "version": 3
   },
   "file_extension": ".py",
   "mimetype": "text/x-python",
   "name": "python",
   "nbconvert_exporter": "python",
   "pygments_lexer": "ipython3",
   "version": "3.9.13"
  },
  "orig_nbformat": 4
 },
 "nbformat": 4,
 "nbformat_minor": 2
}
