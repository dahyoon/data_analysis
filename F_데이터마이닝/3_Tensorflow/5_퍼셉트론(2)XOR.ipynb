{
 "cells": [
  {
   "cell_type": "markdown",
   "metadata": {},
   "source": [
    "# 퍼셉트론 (2)\n",
    "\n",
    "## 1. 퍼셉트론 구현하기 (XOR 게이트)\n",
    "\n",
    "### 1) 패키지 참조하기"
   ]
  },
  {
   "cell_type": "code",
   "execution_count": null,
   "metadata": {},
   "outputs": [],
   "source": [
    "import tensorflow as tf\n",
    "import numpy as np\n",
    "import seaborn as sns\n",
    "\n",
    "from matplotlib import pyplot as plt\n",
    "from pandas import DataFrame\n",
    "\n",
    "from tensorflow.keras.models import Sequential  # 순서층을 구성하는 모델 객체 생성 기능\n",
    "from tensorflow.keras.layers import Dense       # 모델 객체에 학습을 위한 층을 쌓는다\n",
    "from tensorflow.keras.optimizers import RMSprop # 옵티마이저\n",
    "from tensorflow.keras.losses import mse         # 활성화 함수"
   ]
  },
  {
   "cell_type": "markdown",
   "metadata": {},
   "source": [
    "### 2) 데이터셋 준비하기\n",
    "- 랜덤 시드값 고정"
   ]
  },
  {
   "cell_type": "code",
   "execution_count": null,
   "metadata": {},
   "outputs": [],
   "source": [
    "np.random.seed(777)"
   ]
  },
  {
   "cell_type": "markdown",
   "metadata": {},
   "source": [
    "- 데이터셋 구성\n",
    "    - `XOR 회로`는 입력값이 동일한 경우 `False`, 입력값이 서로 다른 경우 `True`를 반환한다."
   ]
  },
  {
   "cell_type": "code",
   "execution_count": 2,
   "metadata": {},
   "outputs": [
    {
     "ename": "NameError",
     "evalue": "name 'np' is not defined",
     "output_type": "error",
     "traceback": [
      "\u001b[0;31m---------------------------------------------------------------------------\u001b[0m",
      "\u001b[0;31mNameError\u001b[0m                                 Traceback (most recent call last)",
      "Cell \u001b[0;32mIn[2], line 1\u001b[0m\n\u001b[0;32m----> 1\u001b[0m train_x \u001b[39m=\u001b[39m np\u001b[39m.\u001b[39marray([[\u001b[39m0\u001b[39m,\u001b[39m0\u001b[39m], [\u001b[39m1\u001b[39m,\u001b[39m0\u001b[39m], [\u001b[39m0\u001b[39m,\u001b[39m1\u001b[39m], [\u001b[39m1\u001b[39m,\u001b[39m1\u001b[39m]])\n\u001b[1;32m      2\u001b[0m train_y \u001b[39m=\u001b[39m np\u001b[39m.\u001b[39marray([[\u001b[39m0\u001b[39m], [\u001b[39m1\u001b[39m], [\u001b[39m1\u001b[39m], [\u001b[39m0\u001b[39m]])\n",
      "\u001b[0;31mNameError\u001b[0m: name 'np' is not defined"
     ]
    }
   ],
   "source": [
    "train_x = np.array([[0,0], [1,0], [0,1], [1,1]])\n",
    "train_y = np.array([[0], [1], [1], [0]])"
   ]
  },
  {
   "cell_type": "markdown",
   "metadata": {},
   "source": [
    "### 3) 데이터 전처리\n",
    "> 간단한 데이터이므로 이 예제에서는 수행하지 않는다\n",
    "### 4) 탐색적 데이터 분석\n",
    "- `flatten`: 무조건 1차원으로 풀어버린다"
   ]
  },
  {
   "cell_type": "code",
   "execution_count": 3,
   "metadata": {},
   "outputs": [
    {
     "ename": "NameError",
     "evalue": "name 'train_y' is not defined",
     "output_type": "error",
     "traceback": [
      "\u001b[0;31m---------------------------------------------------------------------------\u001b[0m",
      "\u001b[0;31mNameError\u001b[0m                                 Traceback (most recent call last)",
      "Cell \u001b[0;32mIn[3], line 1\u001b[0m\n\u001b[0;32m----> 1\u001b[0m label \u001b[39m=\u001b[39m train_y\u001b[39m.\u001b[39mflatten()\n\u001b[1;32m      2\u001b[0m df \u001b[39m=\u001b[39m DataFrame(train_x, label, columns\u001b[39m=\u001b[39m[\u001b[39m'\u001b[39m\u001b[39mx1\u001b[39m\u001b[39m'\u001b[39m, \u001b[39m'\u001b[39m\u001b[39mx2\u001b[39m\u001b[39m'\u001b[39m])\n\u001b[1;32m      3\u001b[0m df\u001b[39m.\u001b[39mindex\u001b[39m.\u001b[39mname \u001b[39m=\u001b[39m \u001b[39m'\u001b[39m\u001b[39my\u001b[39m\u001b[39m'\u001b[39m\n",
      "\u001b[0;31mNameError\u001b[0m: name 'train_y' is not defined"
     ]
    }
   ],
   "source": [
    "label = train_y.flatten()\n",
    "df = DataFrame(train_x, label, columns=['x1', 'x2'])\n",
    "df.index.name = 'y'\n",
    "df"
   ]
  },
  {
   "cell_type": "markdown",
   "metadata": {},
   "source": [
    "### 5) 데이터셋 분할\n",
    "> 훈련을 위한 데이터 자체가 워낙 양이 적기 때문에 이 예제에서는 진행하지 않는다.\n",
    "\n",
    "### 6) 모델 개발\n",
    "- 모델 정의"
   ]
  },
  {
   "cell_type": "code",
   "execution_count": null,
   "metadata": {},
   "outputs": [],
   "source": [
    "my_model = Sequential()\n",
    "# 층이 1, 2인 경우 정확도 50%\n",
    "# 층이 8인 경우 정확도 75%\n",
    "# 층이 16, 32인 경우 정확도 100%\n",
    "my_model.add(Dense(16, input_shape = (2,), activation = 'relu'))\n",
    "my_model.add(Dense(1, activation = 'sigmoid'))\n",
    "my_model.compile(optimizer = RMSprop(), loss=mse, metrics=['acc'])\n",
    "my_model.summary()"
   ]
  },
  {
   "cell_type": "markdown",
   "metadata": {},
   "source": [
    "- 학습하기"
   ]
  },
  {
   "cell_type": "code",
   "execution_count": null,
   "metadata": {},
   "outputs": [],
   "source": [
    "my_hist = my_model.fit(train_x, train_y, epochs=500)\n",
    "\n",
    "result_df = DataFrame(my_hist.history)\n",
    "result_df['epochs'] = result_df.index+1\n",
    "result_df.set_index('epochs', inplace=True)\n",
    "result_df"
   ]
  },
  {
   "cell_type": "markdown",
   "metadata": {},
   "source": [
    "### 7) 학습 결과 평가\n",
    "- 학습 결과 시각화"
   ]
  },
  {
   "cell_type": "code",
   "execution_count": null,
   "metadata": {},
   "outputs": [],
   "source": [
    "plt.rcParams['font.family'] = 'AppleGothic'\n",
    "plt.rcParams['font.size'] = 12\n",
    "\n",
    "fig, ax1 = plt.subplots(1,1,figsize=(14, 7), dpi=150)\n",
    "ax2 = ax1.twinx()\n",
    "\n",
    "sns.lineplot(x=result_df.index,\n",
    "             y='loss',\n",
    "             data=result_df,\n",
    "             color='red',\n",
    "             label='학습 손실률',\n",
    "             ax=ax1)\n",
    "ax1.set_xlabel('에폭 epochs')\n",
    "ax1.set_ylabel('손실률')\n",
    "ax1.legend(loc='upper left')\n",
    "ax1.grid(axis='x')\n",
    "\n",
    "sns.lineplot(x=result_df.index,\n",
    "             y='acc',\n",
    "             data=result_df,\n",
    "             color='blue',\n",
    "             label='학습 정확도',\n",
    "             ax=ax2)\n",
    "ax2.set_ylabel('정확도')\n",
    "ax2.legend(loc='lower left')\n",
    "\n",
    "plt.show()\n",
    "plt.close()"
   ]
  },
  {
   "cell_type": "markdown",
   "metadata": {},
   "source": [
    "- 모델 성능 평가\n",
    "    - `모델객체.evaluate(독립변수데이터, 종속변수데이터)`"
   ]
  },
  {
   "cell_type": "code",
   "execution_count": null,
   "metadata": {},
   "outputs": [],
   "source": [
    "ev = my_model.evaluate(train_x, train_y)\n",
    "print('손실률: %0.2f, 정확도: %0.2f' % (ev[0], ev[1]))"
   ]
  },
  {
   "cell_type": "markdown",
   "metadata": {},
   "source": [
    "- 가중치, 편향 확인\n",
    "    - `모델객체.get_weights()`"
   ]
  },
  {
   "cell_type": "code",
   "execution_count": 4,
   "metadata": {},
   "outputs": [
    {
     "ename": "NameError",
     "evalue": "name 'ᄌᄃ' is not defined",
     "output_type": "error",
     "traceback": [
      "\u001b[0;31m---------------------------------------------------------------------------\u001b[0m",
      "\u001b[0;31mNameError\u001b[0m                                 Traceback (most recent call last)",
      "Cell \u001b[0;32mIn[4], line 1\u001b[0m\n\u001b[0;32m----> 1\u001b[0m ㅈㄷ\n",
      "\u001b[0;31mNameError\u001b[0m: name 'ᄌᄃ' is not defined"
     ]
    }
   ],
   "source": [
    "weights = my_model.get_weights()\n",
    "weights"
   ]
  },
  {
   "cell_type": "code",
   "execution_count": null,
   "metadata": {},
   "outputs": [],
   "source": [
    "# 2차원 배열 - 입력층과 은닉층을 연결하는 가중치\n",
    "print(weights[0].shape)\n",
    "\n",
    "# 1차원 배열 - 은닉층의 편향\n",
    "print(weights[1].shape)\n",
    "\n",
    "# 2차원 배열 - 은닉층와 출력층을 연결하는 가중치\n",
    "print(weights[2].shape)\n",
    "\n",
    "# 1차원 배열 - 출력층의 편향\n",
    "print(weights[3].shape)"
   ]
  },
  {
   "cell_type": "markdown",
   "metadata": {},
   "source": [
    "### 8) 학습 결과 적용"
   ]
  },
  {
   "cell_type": "code",
   "execution_count": null,
   "metadata": {},
   "outputs": [],
   "source": [
    "r = my_model.predict(train_x)\n",
    "df['예측값'] = r.reshape(-1).round()\n",
    "df"
   ]
  }
 ],
 "metadata": {
  "kernelspec": {
   "display_name": "Python 3",
   "language": "python",
   "name": "python3"
  },
  "language_info": {
   "codemirror_mode": {
    "name": "ipython",
    "version": 3
   },
   "file_extension": ".py",
   "mimetype": "text/x-python",
   "name": "python",
   "nbconvert_exporter": "python",
   "pygments_lexer": "ipython3",
   "version": "3.9.13"
  },
  "orig_nbformat": 4
 },
 "nbformat": 4,
 "nbformat_minor": 2
}
