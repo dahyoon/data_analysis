{
 "cells": [
  {
   "cell_type": "markdown",
   "metadata": {},
   "source": [
    "# 난수 (random number)\n",
    "- 의미: 무작위로 만들어진 수열\n",
    "## 1. 작업 준비"
   ]
  },
  {
   "cell_type": "code",
   "execution_count": null,
   "metadata": {},
   "outputs": [],
   "source": [
    "import tensorflow as tf"
   ]
  },
  {
   "cell_type": "markdown",
   "metadata": {},
   "source": [
    "## 2. `균등 분포` 난수\n",
    "- 일반적으로 `각 이벤트의 결과값을 알 수 없는 경우` 미래에 발생할 이벤트의 결과값 $x$ 가 각 예상되는 범위별로 균등한 확률로 일어날 것이라고 예상될 때 사용\n",
    "### 1) 균등 분포 난수의 사용 예\n",
    "- 주사위에 대한 확률\n",
    "    - 200번을 던지고 201번째 주사위를 던진다고 했을 때 201번째 결과값은 앞의 1에서 200번까지 결과값에 영향을 받지 않는다\n",
    "    - 201번째 결과값이 1, 2, 3, 4, 5, 6 각각의 결과값으로 나올 확룰은 1/6이며 이는 앞의 1~200번째 결과값에 영향을 받아 줄어들거나 늘어나지 않는다는 것\n",
    "    - 이처럼 미래 결과값을 경험적으로 알 수 없는 상황에서 사용하는 것이 균등분포이다.\n",
    "### 2) 균등 분포 난수 실험\n",
    "#### 1- Scalar (스칼라) 형태의 균등분포난수 \n",
    "- Scalar 배열: 랭크가 0인 배열; 원소가 1개인 1차 배열"
   ]
  },
  {
   "cell_type": "code",
   "execution_count": 1,
   "metadata": {},
   "outputs": [
    {
     "ename": "SyntaxError",
     "evalue": "invalid syntax (2412308510.py, line 1)",
     "output_type": "error",
     "traceback": [
      "\u001b[0;36m  Cell \u001b[0;32mIn[1], line 1\u001b[0;36m\u001b[0m\n\u001b[0;31m    uni_rnd1 = tf.random.uniform(shape=[], minval=0, maxval=100, dtype = tf..int32)\u001b[0m\n\u001b[0m                                                                            ^\u001b[0m\n\u001b[0;31mSyntaxError\u001b[0m\u001b[0;31m:\u001b[0m invalid syntax\n"
     ]
    }
   ],
   "source": [
    "uni_rnd1 = tf.random.uniform(shape=[], minval=0, maxval=100, dtype = tf..int32)\n",
    "tf.print(uni_rnd1)"
   ]
  },
  {
   "cell_type": "markdown",
   "metadata": {},
   "source": [
    "#### 2- Vector (백터) 형태의 균등분포난수\n",
    "- Vector 배열: 원소가 2개 이상인 1차 배열"
   ]
  },
  {
   "cell_type": "code",
   "execution_count": null,
   "metadata": {},
   "outputs": [],
   "source": [
    "uni_rnd2 = tf.random.uniform(shapr=[5], minval = 0, maxval = 100, dtype=tf.int32)\n",
    "tf.print(uni_rnd2)"
   ]
  },
  {
   "cell_type": "markdown",
   "metadata": {},
   "source": [
    "#### 3- Matrix (행렬) 형태의 균등분포난수\n",
    "- Matrix 배열: 2차 배열"
   ]
  },
  {
   "cell_type": "code",
   "execution_count": null,
   "metadata": {},
   "outputs": [],
   "source": [
    "uni_rnd3 = tf.random.uniform(shape=[2, 3], minval=0, maxval=100, dtype=tf.int32)\n",
    "tf.print(uni_rnd3)"
   ]
  },
  {
   "cell_type": "markdown",
   "metadata": {},
   "source": [
    "#### 4- Tensor (텐서) 형탸의 균등분포난수"
   ]
  },
  {
   "cell_type": "code",
   "execution_count": 2,
   "metadata": {},
   "outputs": [
    {
     "ename": "NameError",
     "evalue": "name 'tf' is not defined",
     "output_type": "error",
     "traceback": [
      "\u001b[0;31m---------------------------------------------------------------------------\u001b[0m",
      "\u001b[0;31mNameError\u001b[0m                                 Traceback (most recent call last)",
      "Cell \u001b[0;32mIn[2], line 1\u001b[0m\n\u001b[0;32m----> 1\u001b[0m uni_rnd4 \u001b[39m=\u001b[39m tf\u001b[39m.\u001b[39mrandom\u001b[39m.\u001b[39muniform(shape\u001b[39m=\u001b[39m[\u001b[39m2\u001b[39m, \u001b[39m3\u001b[39m, \u001b[39m4\u001b[39m], minval\u001b[39m=\u001b[39m\u001b[39m0\u001b[39m, maxval\u001b[39m=\u001b[39m\u001b[39m100\u001b[39m, dtype\u001b[39m=\u001b[39mtf\u001b[39m.\u001b[39mint32)\n\u001b[1;32m      2\u001b[0m tf\u001b[39m.\u001b[39mprint(uni_rnd4)\n",
      "\u001b[0;31mNameError\u001b[0m: name 'tf' is not defined"
     ]
    }
   ],
   "source": [
    "uni_rnd4 = tf.random.uniform(shape=[2, 3, 4], minval=0, maxval=100, dtype=tf.int32)\n",
    "tf.print(uni_rnd4)"
   ]
  },
  {
   "cell_type": "markdown",
   "metadata": {},
   "source": []
  },
  {
   "cell_type": "markdown",
   "metadata": {},
   "source": [
    "### 3) 랜덤값을 갖는 행렬 곱 예시\n",
    "#### 랜덤값을 갖는 3행2열의 행렬을 변수 x로 정의"
   ]
  },
  {
   "cell_type": "code",
   "execution_count": 4,
   "metadata": {},
   "outputs": [
    {
     "ename": "NameError",
     "evalue": "name 'tf' is not defined",
     "output_type": "error",
     "traceback": [
      "\u001b[0;31m---------------------------------------------------------------------------\u001b[0m",
      "\u001b[0;31mNameError\u001b[0m                                 Traceback (most recent call last)",
      "Cell \u001b[0;32mIn[4], line 1\u001b[0m\n\u001b[0;32m----> 1\u001b[0m x \u001b[39m=\u001b[39m tf\u001b[39m.\u001b[39mVariable(tf\u001b[39m.\u001b[39mrandom\u001b[39m.\u001b[39muniform([\u001b[39m3\u001b[39m, \u001b[39m2\u001b[39m]))\n\u001b[1;32m      2\u001b[0m tf\u001b[39m.\u001b[39mprint(x)\n",
      "\u001b[0;31mNameError\u001b[0m: name 'tf' is not defined"
     ]
    }
   ],
   "source": [
    "x = tf.Variable(tf.random.uniform([3, 2]))\n",
    "tf.print(x)"
   ]
  },
  {
   "cell_type": "markdown",
   "metadata": {},
   "source": [
    "#### 랜덤값을 갖는 2행1열의 행렬을 변수 y로 정의"
   ]
  },
  {
   "cell_type": "code",
   "execution_count": null,
   "metadata": {},
   "outputs": [],
   "source": [
    "y = tf.Variable(tf.random.uniform([2, 1]))\n",
    "tf.print(y)"
   ]
  },
  {
   "cell_type": "markdown",
   "metadata": {},
   "source": [
    "#### 행렬곱에 대한 연산을 수행하는 노드 정의"
   ]
  },
  {
   "cell_type": "code",
   "execution_count": 5,
   "metadata": {},
   "outputs": [
    {
     "ename": "NameError",
     "evalue": "name 'tf' is not defined",
     "output_type": "error",
     "traceback": [
      "\u001b[0;31m---------------------------------------------------------------------------\u001b[0m",
      "\u001b[0;31mNameError\u001b[0m                                 Traceback (most recent call last)",
      "Cell \u001b[0;32mIn[5], line 1\u001b[0m\n\u001b[0;32m----> 1\u001b[0m expr \u001b[39m=\u001b[39m tf\u001b[39m.\u001b[39mmatmul(x, y)\n\u001b[1;32m      2\u001b[0m tf\u001b[39m.\u001b[39mprint(expr)\n",
      "\u001b[0;31mNameError\u001b[0m: name 'tf' is not defined"
     ]
    }
   ],
   "source": [
    "expr = tf.matmul(x, y)\n",
    "tf.print(expr)"
   ]
  },
  {
   "cell_type": "markdown",
   "metadata": {},
   "source": [
    "## 3. 정규 분포 난수\n",
    "- `정규분포`란 과거의 축적된 경험적 데이터를 이미 보유하고 있는 상태에서 이용하여 미래에 발생할 결과값 $x$ 의 각 예상되는 범위별로 발생될 확률을 어느 정도 추정할 수 있을 때 사용\n",
    "\n",
    "### 1) 정규 분포 난수의 사용 예\n",
    "- 매장의 매출액 예츨\n",
    "    - 이전 3개월의 매출이 2천만원, 2천백만원, 2천2백민원 발생한 경우 평균이나 범위에 대한 예측이 가능하다\n",
    "    - **`평균`에 대한 예측** -> 이번달 매출은 과거 3개월의 매출평균인 2천백만원으로 예측\n",
    "    - **`범위`에 대한 예측** -> 최소 2천만원 ~ 최대 2천2백만원까지 매출이 발생할 수 있다는 예상이 가능함\n",
    "- 로또 추첨\n",
    "    - 64개의 공 중에서 하나를 랜덤으로 추출하면, 두 번째 랜덤 범위는 첫 번째 추출된 공을 제외한 범위 안에서 생성된다\n",
    "    - 만약 로또 추첨시 하나의 공을 뽑아 번호를 확인하고 그 공을 다시 추첨 대상에 포함시켰다면 균등분포 난수가 된다.\n",
    "### 2) 정규 분포 난수 실험\n",
    "- 정규 분포 난수를 생성할 때는 `평균 (mean)`과 `표준편차 (stddev)`를 지정해야 한다\n",
    "#### 1- Scalar (스칼라) 형태의 정규분포난수"
   ]
  },
  {
   "cell_type": "code",
   "execution_count": null,
   "metadata": {},
   "outputs": [],
   "source": [
    "normal_rnd1 = tf.random.normal(shape=[], mean=0.0, stddev=1.0)\n",
    "tf.print(normal_rnd1)"
   ]
  },
  {
   "cell_type": "markdown",
   "metadata": {},
   "source": [
    "#### 2- Vector (백터) 형태의 정규분포난수"
   ]
  },
  {
   "cell_type": "code",
   "execution_count": null,
   "metadata": {},
   "outputs": [],
   "source": [
    "normal_rnd2 = tf.random.normal(shape=[5], mean=0.0, stddev=1.0)\n",
    "tf.print(normal_rnd2)"
   ]
  },
  {
   "cell_type": "markdown",
   "metadata": {},
   "source": [
    "#### 3- Matrix (행렬) 형태의 정규분포난수"
   ]
  },
  {
   "cell_type": "code",
   "execution_count": null,
   "metadata": {},
   "outputs": [],
   "source": [
    "normal_rnd3 = tf.random.normal(shape=[2,3], mean=0.0, stddev=1.0)\n",
    "tf.print(normal_rnd3)"
   ]
  },
  {
   "cell_type": "markdown",
   "metadata": {},
   "source": [
    "#### 4- Tensor (텐서) 형태의 정규분포난수"
   ]
  },
  {
   "cell_type": "code",
   "execution_count": null,
   "metadata": {},
   "outputs": [],
   "source": [
    "normal_rnd4 = tf.random.normal(shape=[2,3,4], mean=0.0, stddev=1.0)\n",
    "tf.print(normal_rnd4)"
   ]
  },
  {
   "cell_type": "markdown",
   "metadata": {},
   "source": []
  }
 ],
 "metadata": {
  "kernelspec": {
   "display_name": "Python 3",
   "language": "python",
   "name": "python3"
  },
  "language_info": {
   "codemirror_mode": {
    "name": "ipython",
    "version": 3
   },
   "file_extension": ".py",
   "mimetype": "text/x-python",
   "name": "python",
   "nbconvert_exporter": "python",
   "pygments_lexer": "ipython3",
   "version": "3.9.13"
  },
  "orig_nbformat": 4
 },
 "nbformat": 4,
 "nbformat_minor": 2
}
