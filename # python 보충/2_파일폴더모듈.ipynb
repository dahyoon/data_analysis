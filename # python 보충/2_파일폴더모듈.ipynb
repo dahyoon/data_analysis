{
 "cells": [
  {
   "cell_type": "markdown",
   "metadata": {},
   "source": [
    "# 파이썬 보충 2\n",
    "> 파일 및 폴더 관련 모듈\n",
    "\n",
    "## 1. 파일 및 폴더 관련 모듈 활용\n",
    "\n",
    "### 1) 패키지/모듈 참조"
   ]
  },
  {
   "cell_type": "code",
   "execution_count": 12,
   "metadata": {},
   "outputs": [],
   "source": [
    "# 모듈 참조\n",
    "import sys # 현재 시스템의 정보를 제공하는 모듈\n",
    "import os  # 운영체제의 기능에 접근할 수 있는 모듈\n",
    "import glob as gl"
   ]
  },
  {
   "cell_type": "markdown",
   "metadata": {},
   "source": [
    "### 2) 현재 운영체제 이름 조회"
   ]
  },
  {
   "cell_type": "code",
   "execution_count": 5,
   "metadata": {},
   "outputs": [
    {
     "name": "stdout",
     "output_type": "stream",
     "text": [
      "darwin\n"
     ]
    }
   ],
   "source": [
    "print(sys.platform)\n",
    "# windows는 'win32' 등으로 나올 것"
   ]
  },
  {
   "cell_type": "markdown",
   "metadata": {},
   "source": [
    "### 3) 경로 문자열 관련 기능"
   ]
  },
  {
   "cell_type": "code",
   "execution_count": 7,
   "metadata": {},
   "outputs": [
    {
     "name": "stdout",
     "output_type": "stream",
     "text": [
      "현재 폴더 파일들: ['Python_연구과제1_풀이.ipynb.pdf', '4_CSV저장불러오기.pdf', 'mail', 'Python_연구과제1.ipynb', '1_문자열포매팅,구조분해.pdf', '5_메일발송2.pdf', '5_메일발송1.pdf', 'Python_연구과제2_풀이.pdf', 'Sendmail.py', '2_파일폴더모듈.ipynb', '3_파일입출력.pdf', 'Python_연구과제.pdf', '2_파일폴더모듈.pdf']\n",
      "상위 폴더 파일들: ['Thread_위경도주소변환.ipynb', 'C_데이터다루기', '.DS_Store', 'Tableau', '프로젝트_샘플.pdf', 'notes.txt', 'Schedule.ipynb', 'gettersetter.py', 'B_데이터수집', '번외편', '__pycache__', 'E_확증적데이터분석CDA', 'question.txt', '# 시간표_(산대특)_빅데이터+분석+기반+AI+알고리즘+개발+과정_양성_육성0522(수정).xls', 'hotkey_mac.txt', 'README.md', 'TableOfContents.txt', '.gitignore', 'A_서론및설정', 'helper.py', 'Colab_Notes.ipynb', 'Thread.ipynb', '코딩테스트', '프로젝트', 'D_탐색적데이터분석EDA', 'F_QGIS', 'source.ipynb', 'Javascript', '.git', 'G_데이터마이닝', '# python 보충', 'python functions.txt', '# python introduction']\n"
     ]
    }
   ],
   "source": [
    "# 현재 폴더 내의 하위 항목들의 이름을 리스트로 리턴받음\n",
    "# -> './' 혹은 '.'은 현재 폴더라는 의미\n",
    "# -> '../'는 상위 폴더라는 의미\n",
    "ls = os.listdir('./')\n",
    "ls2 = os.listdir('../')\n",
    "print('현재 폴더 파일들:', ls)\n",
    "print('상위 폴더 파일들:', ls2)"
   ]
  },
  {
   "cell_type": "code",
   "execution_count": 8,
   "metadata": {},
   "outputs": [
    {
     "data": {
      "text/plain": [
       "False"
      ]
     },
     "execution_count": 8,
     "metadata": {},
     "output_type": "execute_result"
    }
   ],
   "source": [
    "# 특정 폴더나 파일이 존재하는지 확인 -> 상대경로일 경우 현재 소스파일 기준\n",
    "k = os.path.exists('./hello')\n",
    "k"
   ]
  },
  {
   "cell_type": "code",
   "execution_count": 9,
   "metadata": {},
   "outputs": [
    {
     "name": "stdout",
     "output_type": "stream",
     "text": [
      "/Users/dayoonz/Desktop/data_analysis/# python 보충/hello\n"
     ]
    }
   ],
   "source": [
    "# 절대경로 확인 -> 존재하지 않더라도 경로값은 확인 가능\n",
    "print(os.path.abspath('./hello'))"
   ]
  },
  {
   "cell_type": "markdown",
   "metadata": {},
   "source": [
    "### 4) 폴더의 생성과 삭제\n",
    "- `os.mkdir()` -> 폴더 생성\n",
    "- `os.rmdir()` -> 폴더 삭제"
   ]
  },
  {
   "cell_type": "code",
   "execution_count": 11,
   "metadata": {},
   "outputs": [
    {
     "name": "stdout",
     "output_type": "stream",
     "text": [
      "hello 폴더를 삭제했습니다.\n"
     ]
    }
   ],
   "source": [
    "if os.path.exists('./hello') == False:\n",
    "    # 없다면 생성\n",
    "    os.mkdir('./hello')\n",
    "    print('hello 폴더를 생성했습니다.')\n",
    "else:\n",
    "    # 있다면 삭제 -> 빈 폴더만 삭제가능\n",
    "    os.rmdir('./hello')\n",
    "    print('hello 폴더를 삭제했습니다.')"
   ]
  },
  {
   "cell_type": "markdown",
   "metadata": {},
   "source": [
    "### 5) 파일이나 폴더 검색\n",
    "- `import glob as gl`"
   ]
  },
  {
   "cell_type": "code",
   "execution_count": 14,
   "metadata": {},
   "outputs": [
    {
     "data": {
      "text/plain": [
       "['Python_연구과제1_풀이.ipynb.pdf',\n",
       " '4_CSV저장불러오기.pdf',\n",
       " 'mail',\n",
       " 'Python_연구과제1.ipynb',\n",
       " '1_문자열포매팅,구조분해.pdf',\n",
       " '5_메일발송2.pdf',\n",
       " '5_메일발송1.pdf',\n",
       " 'Python_연구과제2_풀이.pdf',\n",
       " 'Sendmail.py',\n",
       " '2_파일폴더모듈.ipynb',\n",
       " '3_파일입출력.pdf',\n",
       " 'Python_연구과제.pdf',\n",
       " '2_파일폴더모듈.pdf']"
      ]
     },
     "execution_count": 14,
     "metadata": {},
     "output_type": "execute_result"
    }
   ],
   "source": [
    "# 현재 폴더의 모든 하위 요소들 조회\n",
    "ls3 = gl.glob('*')\n",
    "ls3"
   ]
  },
  {
   "cell_type": "code",
   "execution_count": 15,
   "metadata": {},
   "outputs": [
    {
     "data": {
      "text/plain": [
       "['Python_연구과제1.ipynb', '2_파일폴더모듈.ipynb']"
      ]
     },
     "execution_count": 15,
     "metadata": {},
     "output_type": "execute_result"
    }
   ],
   "source": [
    "# 현재 폴더에서 '.ipynb'로 끝나는 모든 요소들 조회\n",
    "ls4 = gl.glob('*.ipynb')\n",
    "ls4"
   ]
  },
  {
   "cell_type": "code",
   "execution_count": 16,
   "metadata": {},
   "outputs": [
    {
     "data": {
      "text/plain": [
       "['5_메일발송2.pdf', 'Python_연구과제2_풀이.pdf', '2_파일폴더모듈.ipynb', '2_파일폴더모듈.pdf']"
      ]
     },
     "execution_count": 16,
     "metadata": {},
     "output_type": "execute_result"
    }
   ],
   "source": [
    "# 현재 폴더에서 '2'를 포함하는 파일 조회\n",
    "ls5 = gl.glob('*2*')\n",
    "ls5"
   ]
  },
  {
   "cell_type": "markdown",
   "metadata": {},
   "source": [
    "### 6) 폴더 트리 생성 및 삭제\n",
    "- `import shutil`\n",
    "- `os.makedirs()` -> 폴더 트리 생성\n",
    "    - 예) os.makedirs('python/test/hello/world', exist_ok = True)\n",
    "        - 'test'와 'hello'라는 폴더가 없어도 해당 폴더들을 생성하며 마지만 'world'라는 폴더를 생성한다\n",
    "    - 반면, os.mkdir('python/test/hello/world')는 마지막 'world'만 만드는 기능이다\n",
    "        - 'test'와 'hello'라는 폴더가 없으면 에러가 뜬다\n",
    "        - 'test'와 'hello'라는 폴더가 있어야지 맨 마지막의 'world'라는 폴더가 생성된다"
   ]
  },
  {
   "cell_type": "code",
   "execution_count": 28,
   "metadata": {},
   "outputs": [
    {
     "name": "stdout",
     "output_type": "stream",
     "text": [
      "python 폴더가 삭제되었습니다.\n"
     ]
    }
   ],
   "source": [
    "import shutil # 파일, 폴더 관련 작업에 확장된 기능을 제공\n",
    "\n",
    "# 현재 작업 위치에서 'python'이라는 이름의 폴더가 없다면?\n",
    "if os.path.exists('python') == False:\n",
    "    # 순환적으로 폴더를 생성함 -> exist_ok = True 옵션은 이미 존재하더라도 에러 발생 안함\n",
    "    os.makedirs('python/test/hello/world', exist_ok = True)\n",
    "    print('python 폴더와 하위 폴더들을 생성했습니다.')\n",
    "# 그렇지 않다면?\n",
    "else:\n",
    "    # 비어있지 않은 폴더도 강제 삭제 -> 존재하지 않는 폴더인 경우 에러\n",
    "    shutil.rmtree('python')\n",
    "    print('python 폴더가 삭제되었습니다.')"
   ]
  },
  {
   "cell_type": "markdown",
   "metadata": {},
   "source": [
    "### 7) 폴더의 이동과 폴더 트리 복사\n",
    "- `import shutil`"
   ]
  },
  {
   "cell_type": "code",
   "execution_count": 29,
   "metadata": {},
   "outputs": [],
   "source": [
    "# 폴더의 이동\n",
    "if os.path.exists('python'):\n",
    "    shutil.move('python', '../created')\n",
    "    print('python 폴더가 ../created 폴더로 이동되었습니다.')"
   ]
  },
  {
   "cell_type": "code",
   "execution_count": 26,
   "metadata": {},
   "outputs": [
    {
     "name": "stdout",
     "output_type": "stream",
     "text": [
      "python 폴더가 copy로 복사되었습니다.\n"
     ]
    }
   ],
   "source": [
    "# 폴더의 복사\n",
    "if os.path.exists('../created'):\n",
    "    shutil.copytree('../created', './copy')\n",
    "    print('python 폴더가 copy로 복사되었습니다.')"
   ]
  },
  {
   "cell_type": "markdown",
   "metadata": {},
   "source": [
    "### 8) 파일의 복사 및 삭제 작업"
   ]
  },
  {
   "cell_type": "code",
   "execution_count": 31,
   "metadata": {},
   "outputs": [
    {
     "name": "stdout",
     "output_type": "stream",
     "text": [
      "hello.txt가 삭제되었습니다.\n",
      "world.txt가 삭제되었습니다.\n"
     ]
    }
   ],
   "source": [
    "# os 모듈 내의 path 객체가 갖는 exists() 함수를 사용\n",
    "# -> 'hello.txt'라는 파일이 존재하지 않는다면?\n",
    "if os.path.exists('hello.txt') == False:\n",
    "    # 테스트용 파일 생성\n",
    "    with open('hello.txt', 'w', encoding = 'utf-8') as f:\n",
    "        f.write('Life is too short, you need Jesus')\n",
    "        print('hello.txt 파일을 생성했습니다.')\n",
    "    \n",
    "    # 생성한 파일을 복사함 -> 이미 존재할 경우 덮어씀\n",
    "    shutil.copy('hello.txt', 'world.txt')\n",
    "    print('hello.txt가 world.txt로 복사되었습니다.')\n",
    "# -> hello.txt라는 파일이 존재한다면?\n",
    "else:\n",
    "    os.remove('hello.txt')\n",
    "    print('hello.txt가 삭제되었습니다.')\n",
    "    os.remove('world.txt')\n",
    "    print('world.txt가 삭제되었습니다.')"
   ]
  }
 ],
 "metadata": {
  "kernelspec": {
   "display_name": "Python 3",
   "language": "python",
   "name": "python3"
  },
  "language_info": {
   "codemirror_mode": {
    "name": "ipython",
    "version": 3
   },
   "file_extension": ".py",
   "mimetype": "text/x-python",
   "name": "python",
   "nbconvert_exporter": "python",
   "pygments_lexer": "ipython3",
   "version": "3.9.13"
  },
  "orig_nbformat": 4
 },
 "nbformat": 4,
 "nbformat_minor": 2
}
