{
 "cells": [
  {
   "cell_type": "markdown",
   "metadata": {},
   "source": [
    "# 파이썬 보충 6\n",
    "> 메일링 리스트\n",
    "\n",
    "### 1) 메일 발송에 필요한 모듈 참조"
   ]
  },
  {
   "cell_type": "code",
   "execution_count": 1,
   "metadata": {},
   "outputs": [],
   "source": [
    "import Sendmail\n",
    "import datetime as dt"
   ]
  },
  {
   "cell_type": "markdown",
   "metadata": {},
   "source": [
    "### 2) 날짜 성분값 초기화"
   ]
  },
  {
   "cell_type": "code",
   "execution_count": 2,
   "metadata": {},
   "outputs": [
    {
     "name": "stdout",
     "output_type": "stream",
     "text": [
      "2024 1 5\n"
     ]
    }
   ],
   "source": [
    "today = dt.datetime.now()\n",
    "year = today.year\n",
    "month = today.month\n",
    "day = today.day\n",
    "print(year, month, day)"
   ]
  },
  {
   "cell_type": "markdown",
   "metadata": {},
   "source": [
    "### 3) 보내는 사람, 메일 제목"
   ]
  },
  {
   "cell_type": "code",
   "execution_count": 3,
   "metadata": {},
   "outputs": [],
   "source": [
    "# 메일 발신자 정보\n",
    "from_addr = 'w2crosss@gmail.com'\n",
    "\n",
    "# 메일 제목을 위한 템플릿\n",
    "subjectTmpl = '{name}님의 {yy}년 {mm}월 급여명세서입니다.'"
   ]
  },
  {
   "cell_type": "markdown",
   "metadata": {},
   "source": [
    "### 4) 메일 본문 가져오기"
   ]
  },
  {
   "cell_type": "code",
   "execution_count": 4,
   "metadata": {},
   "outputs": [
    {
     "name": "stdout",
     "output_type": "stream",
     "text": [
      "안녕하세요 {name}님\n",
      "\n",
      "{yy}년도 {mm}월 급여명세서와 결산보고서 보내드립니다.\n",
      "\n",
      "귀하의 노고에 감사드립니다.\n",
      "\n",
      "- {yy}년 {mm}월 {dd}일 / 운영지원팀 드림\n"
     ]
    }
   ],
   "source": [
    "with open('mail/content.txt', 'r', encoding = 'utf-8') as f:\n",
    "    contentTmpl = f.read()\n",
    "    print(contentTmpl)"
   ]
  },
  {
   "cell_type": "markdown",
   "metadata": {},
   "source": [
    "### 5) 수신자 목록에 대한 CSV파일에 대한 반복 수행"
   ]
  },
  {
   "cell_type": "code",
   "execution_count": 5,
   "metadata": {},
   "outputs": [
    {
     "name": "stdout",
     "output_type": "stream",
     "text": [
      "['Python학생1,redshinypearl@hotmail.com,mail/document.pptx,mail/pay1.xlsx\\n', '\\x08Python학생2,redshinypearl@hotmail.com,mail/document.pptx,mail/pay2.xlsx\\n', 'Python학생3,redlenz@naver.com,mail/document.pptx,mail/pay3.xlsx\\n', 'Python학생4,w2crosss@gmail.com,mail/document.pptx,mail/pay4.xlsx\\n', 'Python학생5,pearl.ahn@mail.utoronto.ca,mail/document.pptx,mail/pay5.xlsx']\n"
     ]
    }
   ],
   "source": [
    "with open('mail/mail_list.csv', 'r', encoding='utf-8') as f:\n",
    "    csv = f.readlines()\n",
    "    print(csv)\n",
    "\n",
    "    # CSV 파일의 라인 수 만큼 반복\n",
    "    for line in csv:\n",
    "        # print(line)\n",
    "\n",
    "        name, email, file1, file2 = line.strip().split(',')\n",
    "        # print(name, email, file1, file2)\n",
    "\n",
    "        # 메일 제목\n",
    "        subject = subjectTmpl.format(name=name, yy=year, mm=month)\n",
    "        # print(subject)\n",
    "\n",
    "        # 메일 내용\n",
    "        content = contentTmpl.format(name=name, yy=year, mm=month, dd=day)\n",
    "        # print(content)\n",
    "\n",
    "        Sendmail.sendMail(from_addr, email, subject, content, [file1, file2])"
   ]
  },
  {
   "cell_type": "code",
   "execution_count": null,
   "metadata": {},
   "outputs": [],
   "source": []
  }
 ],
 "metadata": {
  "kernelspec": {
   "display_name": "Python 3",
   "language": "python",
   "name": "python3"
  },
  "language_info": {
   "codemirror_mode": {
    "name": "ipython",
    "version": 3
   },
   "file_extension": ".py",
   "mimetype": "text/x-python",
   "name": "python",
   "nbconvert_exporter": "python",
   "pygments_lexer": "ipython3",
   "version": "3.9.13"
  },
  "orig_nbformat": 4
 },
 "nbformat": 4,
 "nbformat_minor": 2
}
