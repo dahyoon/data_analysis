{
 "cells": [
  {
   "cell_type": "markdown",
   "metadata": {},
   "source": [
    "# 분류, 군집 연습문제\n",
    "## 문제 1\n",
    "- 아래의 주소는 오랜지와 자몽의 특성을 조사한 데이터셋을 내려받을 수 있는 웹 페이지이다\n",
    "> https://www.kaggle.com/datasets/joshmcadams/oranges-vs-grapefruit\n",
    "\n",
    "|변수|설명|구분|\n",
    "|--|--|--|\n",
    "|name|오랜지, 자몽 여부|종속|\n",
    "|diameter|지름|독립|\n",
    "|weight|무게|독립|\n",
    "|red|붉은 색상 정도|독립|\n",
    "|green|초록 색상 정도|독립|\n",
    "|blue|파란 색상 정도|독립|\n",
    "\n",
    "이 데이터셋을 활용하여 오랜지와 자몽을 분류할 수 있는 모델을 구성하고 성능 측정 결과를 제시하시오"
   ]
  },
  {
   "cell_type": "markdown",
   "metadata": {},
   "source": [
    "## 1. 패키지 참조"
   ]
  },
  {
   "cell_type": "code",
   "execution_count": null,
   "metadata": {},
   "outputs": [],
   "source": []
  }
 ],
 "metadata": {
  "language_info": {
   "name": "python"
  },
  "orig_nbformat": 4
 },
 "nbformat": 4,
 "nbformat_minor": 2
}
