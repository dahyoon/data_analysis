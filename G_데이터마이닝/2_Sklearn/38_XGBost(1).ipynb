{
 "cells": [
  {
   "cell_type": "markdown",
   "metadata": {},
   "source": [
    "# XGBoost (1) - Basic\n",
    "\n",
    "- XGBoost는 트리 기반의 앙상블 학습에서 가장 각광받고 있는 알고리즘 중 하나\n",
    "- GBM에 기반을 하고 있으면서 GMB의 실행 시간 및 과적합 규제가 없는 부분 등의 문제를 해결한 학습 모델\n",
    "- 병렬 CPU환경에서 분산 처리가 가능하기 때문에 기존 모델보다 수행 시간이 단축된다\n",
    "- `C/C++로 구현된 독립 라이브러리이기 때문에 skleaern과의 코드 진행이 다소 다르다\n",
    "- 수행시간에 있어서 굉장히 빠른 모델이다\n",
    "- 데이터프레임을 안 쓴다\n",
    "\n",
    "## 1. 패키지 참조\n",
    "```shell\n",
    "pip3 install --upgrade xgboost\n",
    "```"
   ]
  },
  {
   "cell_type": "code",
   "execution_count": 1,
   "metadata": {},
   "outputs": [],
   "source": [
    "import warnings\n",
    "warnings.filterwarnings('ignore')\n",
    "\n",
    "import numpy as np\n",
    "import seaborn as sb\n",
    "import xgboost as xgb\n",
    "from xgboost import plot_importance\n",
    "from matplotlib import pyplot as plt\n",
    "from pandas import read_excel\n",
    "from sklearn.model_selection import train_test_split\n",
    "from sklearn.preprocessing import StandardScaler\n",
    "from imblearn.over_sampling import SMOTE\n",
    "\n",
    "from sklearn.metrics import confusion_matrix, accuracy_score, precision_score, recall_score, f1_score, roc_auc_score"
   ]
  },
  {
   "cell_type": "markdown",
   "metadata": {},
   "source": [
    "## 2. 데이터 가져오기 및 전처리"
   ]
  },
  {
   "cell_type": "code",
   "execution_count": 2,
   "metadata": {},
   "outputs": [
    {
     "data": {
      "text/plain": [
       "((500, 30), (500,), (171, 30), (171,))"
      ]
     },
     "execution_count": 2,
     "metadata": {},
     "output_type": "execute_result"
    }
   ],
   "source": [
    "origin = read_excel('https://data.hossam.kr/G02/breast_cancer.xlsx')\n",
    "\n",
    "# 독립/종속 변수 분리\n",
    "x = origin.drop('target', axis = 1)\n",
    "y = origin['target']\n",
    "\n",
    "# 데이터 표준화\n",
    "std_x = StandardScaler().fit_transform(x)\n",
    "\n",
    "# 훈련/검증 데이터 분리\n",
    "x_train, x_test, y_train, y_test = train_test_split(\n",
    "    std_x, y, test_size = 0.3, random_state=2021\n",
    ")\n",
    "\n",
    "# SMOTE 적용\n",
    "x_sm, y_sm = SMOTE(random_state=2021).fit_resample(x_train, y_train)\n",
    "\n",
    "x_sm.shape, y_sm.shape, x_test.shape, y_test.shape"
   ]
  }
 ],
 "metadata": {
  "kernelspec": {
   "display_name": "Python 3",
   "language": "python",
   "name": "python3"
  },
  "language_info": {
   "codemirror_mode": {
    "name": "ipython",
    "version": 3
   },
   "file_extension": ".py",
   "mimetype": "text/x-python",
   "name": "python",
   "nbconvert_exporter": "python",
   "pygments_lexer": "ipython3",
   "version": "3.9.13"
  }
 },
 "nbformat": 4,
 "nbformat_minor": 2
}
