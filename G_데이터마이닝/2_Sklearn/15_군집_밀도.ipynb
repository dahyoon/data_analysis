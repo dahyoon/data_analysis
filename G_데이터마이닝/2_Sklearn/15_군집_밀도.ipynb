{
 "cells": [
  {
   "cell_type": "markdown",
   "metadata": {},
   "source": [
    "# \n",
    "- 밀도 기반 데이터 클러스터링 알고리즘\n",
    "- 클러스터의 개수를 미리 지정할 필요가 없다\n",
    "- 복잡한 형상의 데이터셋에도 무리 없이 적용 가능\n",
    "어- 떤 클래스에도 속하지 않는 포인트를 구분할 수 있다\n",
    "속도는 다소 느리다\n",
    "## 1. \n",
    "패키지 참조- - "
   ]
  },
  {
   "cell_type": "code",
   "execution_count": null,
   "metadata": {},
   "outputs": [],
   "source": []
  }
 ],
 "metadata": {
  "language_info": {
   "name": "python"
  },
  "orig_nbformat": 4
 },
 "nbformat": 4,
 "nbformat_minor": 2
}
