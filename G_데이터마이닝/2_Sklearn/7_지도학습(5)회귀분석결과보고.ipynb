{
 "cells": [
  {
   "cell_type": "markdown",
   "metadata": {},
   "source": [
    "# 지도 학습 (5) - 결과 보고\n",
    "- 논문 등의 보고서에서 `결과 보고`를 위해 `회귀계수 표`를 구성하기 위한 값을 구하는 과정\n",
    "## 1. 작업 준비"
   ]
  },
  {
   "cell_type": "code",
   "execution_count": 46,
   "metadata": {},
   "outputs": [],
   "source": [
    "import sys\n",
    "sys.path.append(\"../../\")\n",
    "import helper\n",
    "\n",
    "import numpy as np\n",
    "from scipy import stats\n",
    "from pandas import read_excel, DataFrame\n",
    "from statsmodels.stats.outliers_influence import variance_inflation_factor"
   ]
  },
  {
   "cell_type": "code",
   "execution_count": 47,
   "metadata": {},
   "outputs": [
    {
     "data": {
      "text/html": [
       "<div>\n",
       "<style scoped>\n",
       "    .dataframe tbody tr th:only-of-type {\n",
       "        vertical-align: middle;\n",
       "    }\n",
       "\n",
       "    .dataframe tbody tr th {\n",
       "        vertical-align: top;\n",
       "    }\n",
       "\n",
       "    .dataframe thead th {\n",
       "        text-align: right;\n",
       "    }\n",
       "</style>\n",
       "<table border=\"1\" class=\"dataframe\">\n",
       "  <thead>\n",
       "    <tr style=\"text-align: right;\">\n",
       "      <th></th>\n",
       "      <th>길이</th>\n",
       "      <th>높이</th>\n",
       "      <th>두께</th>\n",
       "      <th>무게</th>\n",
       "    </tr>\n",
       "  </thead>\n",
       "  <tbody>\n",
       "    <tr>\n",
       "      <th>0</th>\n",
       "      <td>8.4</td>\n",
       "      <td>2.11</td>\n",
       "      <td>1.41</td>\n",
       "      <td>5.9</td>\n",
       "    </tr>\n",
       "    <tr>\n",
       "      <th>1</th>\n",
       "      <td>13.7</td>\n",
       "      <td>3.53</td>\n",
       "      <td>2.00</td>\n",
       "      <td>32.0</td>\n",
       "    </tr>\n",
       "    <tr>\n",
       "      <th>2</th>\n",
       "      <td>15.0</td>\n",
       "      <td>3.82</td>\n",
       "      <td>2.43</td>\n",
       "      <td>40.0</td>\n",
       "    </tr>\n",
       "    <tr>\n",
       "      <th>3</th>\n",
       "      <td>16.2</td>\n",
       "      <td>4.59</td>\n",
       "      <td>2.63</td>\n",
       "      <td>51.5</td>\n",
       "    </tr>\n",
       "    <tr>\n",
       "      <th>4</th>\n",
       "      <td>17.4</td>\n",
       "      <td>4.59</td>\n",
       "      <td>2.94</td>\n",
       "      <td>70.0</td>\n",
       "    </tr>\n",
       "  </tbody>\n",
       "</table>\n",
       "</div>"
      ],
      "text/plain": [
       "     길이    높이    두께    무게\n",
       "0   8.4  2.11  1.41   5.9\n",
       "1  13.7  3.53  2.00  32.0\n",
       "2  15.0  3.82  2.43  40.0\n",
       "3  16.2  4.59  2.63  51.5\n",
       "4  17.4  4.59  2.94  70.0"
      ]
     },
     "execution_count": 47,
     "metadata": {},
     "output_type": "execute_result"
    }
   ],
   "source": [
    "origin = read_excel('https://data.hossam.kr/F02/fish2.xlsx')\n",
    "origin.head()"
   ]
  },
  {
   "cell_type": "markdown",
   "metadata": {},
   "source": [
    "## 2. 머신러닝에 의한 회귀분석 수행"
   ]
  },
  {
   "cell_type": "code",
   "execution_count": 48,
   "metadata": {},
   "outputs": [],
   "source": [
    "xnames = ['길이', '높이', '두께']\n",
    "yname = '무게'"
   ]
  },
  {
   "cell_type": "code",
   "execution_count": 49,
   "metadata": {},
   "outputs": [
    {
     "name": "stdout",
     "output_type": "stream",
     "text": [
      "계수:  [ 2.9082713  67.20469902 67.26029602]\n",
      "절편:  -546.4397914448649\n"
     ]
    },
    {
     "data": {
      "text/html": [
       "<div>\n",
       "<style scoped>\n",
       "    .dataframe tbody tr th:only-of-type {\n",
       "        vertical-align: middle;\n",
       "    }\n",
       "\n",
       "    .dataframe tbody tr th {\n",
       "        vertical-align: top;\n",
       "    }\n",
       "\n",
       "    .dataframe thead th {\n",
       "        text-align: right;\n",
       "    }\n",
       "</style>\n",
       "<table border=\"1\" class=\"dataframe\">\n",
       "  <thead>\n",
       "    <tr style=\"text-align: right;\">\n",
       "      <th></th>\n",
       "      <th>종속변수</th>\n",
       "      <th>독립변수</th>\n",
       "      <th>B</th>\n",
       "      <th>표준오차</th>\n",
       "      <th>β</th>\n",
       "      <th>t</th>\n",
       "      <th>유의확률</th>\n",
       "      <th>VIF</th>\n",
       "    </tr>\n",
       "  </thead>\n",
       "  <tbody>\n",
       "    <tr>\n",
       "      <th>0</th>\n",
       "      <td>무게</td>\n",
       "      <td>길이</td>\n",
       "      <td>2.908271</td>\n",
       "      <td>7.733688</td>\n",
       "      <td>0</td>\n",
       "      <td>0.376052</td>\n",
       "      <td>0.708408</td>\n",
       "      <td>338.760305</td>\n",
       "    </tr>\n",
       "    <tr>\n",
       "      <th>1</th>\n",
       "      <td>무게</td>\n",
       "      <td>높이</td>\n",
       "      <td>67.204699</td>\n",
       "      <td>29.447158</td>\n",
       "      <td>0</td>\n",
       "      <td>2.282213</td>\n",
       "      <td>0.026598</td>\n",
       "      <td>500.757056</td>\n",
       "    </tr>\n",
       "    <tr>\n",
       "      <th>2</th>\n",
       "      <td>무게</td>\n",
       "      <td>두께</td>\n",
       "      <td>67.260296</td>\n",
       "      <td>36.011233</td>\n",
       "      <td>0</td>\n",
       "      <td>1.867759</td>\n",
       "      <td>0.067436</td>\n",
       "      <td>263.015058</td>\n",
       "    </tr>\n",
       "  </tbody>\n",
       "</table>\n",
       "</div>"
      ],
      "text/plain": [
       "  종속변수 독립변수          B       표준오차  β         t      유의확률         VIF\n",
       "0   무게   길이   2.908271   7.733688  0  0.376052  0.708408  338.760305\n",
       "1   무게   높이  67.204699  29.447158  0  2.282213  0.026598  500.757056\n",
       "2   무게   두께  67.260296  36.011233  0  1.867759  0.067436  263.015058"
      ]
     },
     "execution_count": 49,
     "metadata": {},
     "output_type": "execute_result"
    }
   ],
   "source": [
    "# 머신러닝 전에 사용했던 ols 회귀분석과 비교하기 위하여 \n",
    "# 2차항으로 변환하지 않을 것, 훈련/검증 데이터로도 분리하지 않을 것\n",
    "result = helper.ml_ols(origin, xnames, yname, degree = 1, test_size = 0)\n",
    "print('계수: ', result.coef)\n",
    "print('절편: ', result.intercept)\n",
    "result.table"
   ]
  },
  {
   "cell_type": "markdown",
   "metadata": {},
   "source": [
    "## 3. 결과보고에 필요한 값 구하기\n",
    "### 1) 절편과 계수를 하나의 배열로 결합"
   ]
  },
  {
   "cell_type": "code",
   "execution_count": 50,
   "metadata": {},
   "outputs": [
    {
     "data": {
      "text/plain": [
       "array([-546.43979144,    2.9082713 ,   67.20469902,   67.26029602])"
      ]
     },
     "execution_count": 50,
     "metadata": {},
     "output_type": "execute_result"
    }
   ],
   "source": [
    "params = np.append(result.intercept, result.coef)\n",
    "params"
   ]
  },
  {
   "cell_type": "markdown",
   "metadata": {},
   "source": [
    "### 2) `상수항 추가하기`\n",
    "- 각종 api들을 사용할 떄 api가 내부적으로 상수항이 있다라고 처리해주기에 api를 사용할 때에는 상수항을 인지할 필요가 없으나 지금은 우리가 회귀분석에서 사용되는 모든 값들을 직접 계산을 하고 있기에 상수항을 우리가 직접 추가 해줘야 된다.\n",
    "- 이 `상수항 (1)`에다가 `절편을 곱하는 방식`이다."
   ]
  },
  {
   "cell_type": "code",
   "execution_count": 65,
   "metadata": {},
   "outputs": [
    {
     "data": {
      "text/html": [
       "<div>\n",
       "<style scoped>\n",
       "    .dataframe tbody tr th:only-of-type {\n",
       "        vertical-align: middle;\n",
       "    }\n",
       "\n",
       "    .dataframe tbody tr th {\n",
       "        vertical-align: top;\n",
       "    }\n",
       "\n",
       "    .dataframe thead th {\n",
       "        text-align: right;\n",
       "    }\n",
       "</style>\n",
       "<table border=\"1\" class=\"dataframe\">\n",
       "  <thead>\n",
       "    <tr style=\"text-align: right;\">\n",
       "      <th></th>\n",
       "      <th>상수</th>\n",
       "      <th>길이</th>\n",
       "      <th>높이</th>\n",
       "      <th>두께</th>\n",
       "    </tr>\n",
       "  </thead>\n",
       "  <tbody>\n",
       "    <tr>\n",
       "      <th>0</th>\n",
       "      <td>1</td>\n",
       "      <td>8.4</td>\n",
       "      <td>2.11</td>\n",
       "      <td>1.41</td>\n",
       "    </tr>\n",
       "    <tr>\n",
       "      <th>1</th>\n",
       "      <td>1</td>\n",
       "      <td>13.7</td>\n",
       "      <td>3.53</td>\n",
       "      <td>2.00</td>\n",
       "    </tr>\n",
       "    <tr>\n",
       "      <th>2</th>\n",
       "      <td>1</td>\n",
       "      <td>15.0</td>\n",
       "      <td>3.82</td>\n",
       "      <td>2.43</td>\n",
       "    </tr>\n",
       "    <tr>\n",
       "      <th>3</th>\n",
       "      <td>1</td>\n",
       "      <td>16.2</td>\n",
       "      <td>4.59</td>\n",
       "      <td>2.63</td>\n",
       "    </tr>\n",
       "    <tr>\n",
       "      <th>4</th>\n",
       "      <td>1</td>\n",
       "      <td>17.4</td>\n",
       "      <td>4.59</td>\n",
       "      <td>2.94</td>\n",
       "    </tr>\n",
       "  </tbody>\n",
       "</table>\n",
       "</div>"
      ],
      "text/plain": [
       "   상수    길이    높이    두께\n",
       "0   1   8.4  2.11  1.41\n",
       "1   1  13.7  3.53  2.00\n",
       "2   1  15.0  3.82  2.43\n",
       "3   1  16.2  4.59  2.63\n",
       "4   1  17.4  4.59  2.94"
      ]
     },
     "execution_count": 65,
     "metadata": {},
     "output_type": "execute_result"
    }
   ],
   "source": [
    "# 독립변수 추출\n",
    "x = origin.filter(xnames)\n",
    "# 종속변수 추출\n",
    "y = origin[yname]       # 이 때 y는 시리즈 객체\n",
    "# 상수항 추가\n",
    "designX = x.copy()\n",
    "designX.insert(0, '상수', 1)    # .insert(추가할열위치, '추가할열이름', 넣을값)\n",
    "designX.head()"
   ]
  },
  {
   "cell_type": "markdown",
   "metadata": {},
   "source": [
    "### 3) `행렬곱` 구하기\n",
    "- `numpy.dot(데이터프레임1, 데이터프레임2)`\n",
    "- 방법: 주어진 데이터프레임의 역행렬에 원래 데이터프레임 곱하기"
   ]
  },
  {
   "cell_type": "code",
   "execution_count": 53,
   "metadata": {},
   "outputs": [
    {
     "data": {
      "text/plain": [
       "array([[   56.    ,  1562.    ,   440.28  ,   265.75  ],\n",
       "       [ 1562.    , 48045.12  , 13688.339 ,  8270.876 ],\n",
       "       [  440.28  , 13688.339 ,  3917.2114,  2365.5425],\n",
       "       [  265.75  ,  8270.876 ,  2365.5425,  1434.4117]])"
      ]
     },
     "execution_count": 53,
     "metadata": {},
     "output_type": "execute_result"
    }
   ],
   "source": [
    "dot = np.dot(designX.T, designX)\n",
    "dot"
   ]
  },
  {
   "cell_type": "markdown",
   "metadata": {},
   "source": [
    "### 4) 행렬곱에 대한 `역행렬`\n",
    "- `numpy.linalg.inv()`"
   ]
  },
  {
   "cell_type": "code",
   "execution_count": 54,
   "metadata": {},
   "outputs": [
    {
     "data": {
      "text/plain": [
       "array([[ 0.25997581, -0.02937614,  0.05587393,  0.02907514],\n",
       "       [-0.02937614,  0.00811062, -0.0207489 , -0.00710593],\n",
       "       [ 0.05587393, -0.0207489 ,  0.11758923, -0.08463348],\n",
       "       [ 0.02907514, -0.00710593, -0.08463348,  0.17585582]])"
      ]
     },
     "execution_count": 54,
     "metadata": {},
     "output_type": "execute_result"
    }
   ],
   "source": [
    "inv = np.linalg.inv(dot)\n",
    "inv"
   ]
  },
  {
   "cell_type": "markdown",
   "metadata": {},
   "source": [
    "### 5) 역행렬의 `대각선 값` 추출\n",
    "- inv.diagonal()\n",
    "- 위 값에서 [0][0], [1][1], [2][2], [3][3]의 값을 구해준다."
   ]
  },
  {
   "cell_type": "code",
   "execution_count": 9,
   "metadata": {},
   "outputs": [
    {
     "data": {
      "text/plain": [
       "array([0.25997581, 0.00811062, 0.11758923, 0.17585582])"
      ]
     },
     "execution_count": 9,
     "metadata": {},
     "output_type": "execute_result"
    }
   ],
   "source": [
    "dia = inv.diagonal()\n",
    "dia"
   ]
  },
  {
   "cell_type": "markdown",
   "metadata": {},
   "source": [
    "### 6) 평균 제곱오차 구하기\n",
    "- 상수항이 적용된 형태이므로 API를 통한 값이 아닌 직접 구한 값이 필요하다\n",
    "- 아까 구한 result라는 결과에 `.fit.predict()` 함수를 적용하면 예측표가 나온다. "
   ]
  },
  {
   "cell_type": "code",
   "execution_count": 37,
   "metadata": {},
   "outputs": [
    {
     "data": {
      "text/plain": [
       "7374.273394715796"
      ]
     },
     "execution_count": 37,
     "metadata": {},
     "output_type": "execute_result"
    }
   ],
   "source": [
    "predictions = result.fit.predict(x).reshape(-1)\n",
    "# MSE = 잔차의 제곱 / ((전체 데이터 개수) - (첫번째 행의 값의 개수))\n",
    "MSE = (sum((y-predictions)**2)) / (len(designX)-len(designX.iloc[0])) # 평균 제곱 오차 값\n",
    "MSE"
   ]
  },
  {
   "cell_type": "markdown",
   "metadata": {},
   "source": [
    "### 7) 표준 오차 값들 구하기\n",
    "- `numpy.sqrt()`는 제곱근을 구하는 함수"
   ]
  },
  {
   "cell_type": "code",
   "execution_count": 11,
   "metadata": {},
   "outputs": [
    {
     "data": {
      "text/plain": [
       "array([43.78507388,  7.73368804, 29.44715768, 36.0112326 ])"
      ]
     },
     "execution_count": 11,
     "metadata": {},
     "output_type": "execute_result"
    }
   ],
   "source": [
    "se_b = np.sqrt(MSE * dia)\n",
    "se_b"
   ]
  },
  {
   "cell_type": "markdown",
   "metadata": {},
   "source": [
    "### 8) t-value 구하기\n",
    "- 절편과 계수들 (array([-546.43979144, 2.9082713, 67.20469902, 67.26029602])을 표준오차 값들로 나눈 값이 t-value들이다.\n",
    "- t-value은 `표본 데이터 변동에 비례한 차이의 크기를 측정`\n",
    "- T는 `계산된 차이를 표준 오차 단위로 나타낸 것`\n",
    "- T의 크기가 `클수록 귀무 가설에 대한 증거가 큽니`다 즉, `유의한 차이가 있다는 증거가 더 명확한 것`\n",
    "- 반면 T가 0에 가까울수록 유의미한 차이가 없을 가능성이 커짐"
   ]
  },
  {
   "cell_type": "code",
   "execution_count": 38,
   "metadata": {},
   "outputs": [
    {
     "data": {
      "text/plain": [
       "array([-12.48004726,   0.37605232,   2.28221344,   1.86775878])"
      ]
     },
     "execution_count": 38,
     "metadata": {},
     "output_type": "execute_result"
    }
   ],
   "source": [
    "ts_b = params / se_b\n",
    "ts_b"
   ]
  },
  {
   "cell_type": "markdown",
   "metadata": {},
   "source": [
    "### 9) p-value 구하기"
   ]
  },
  {
   "cell_type": "code",
   "execution_count": 39,
   "metadata": {},
   "outputs": [
    {
     "data": {
      "text/plain": [
       "[0.0, 0.7084079152880389, 0.026597717787693265, 0.06743585337091984]"
      ]
     },
     "execution_count": 39,
     "metadata": {},
     "output_type": "execute_result"
    }
   ],
   "source": [
    "p_values = [2*(1-stats.t.cdf(np.abs(i), (len(designX)-len(designX.iloc[0])))) for i in ts_b]\n",
    "p_values"
   ]
  },
  {
   "cell_type": "markdown",
   "metadata": {},
   "source": [
    "### 10) VIF 구하기\n",
    "- VIF (Variance Inflation Factor)란, `분산 팽창 인수`라고 합니다\n",
    "    - 이 값은 다중회귀분석에서 독립변수가 `다중 공산성(Multicollnearity)`의 `문제를 갖고 있는지 판단`하는 기준이며, 주로 `10보다 크면 그 독립변수는 다중공산성이 있다`고 말합니다."
   ]
  },
  {
   "cell_type": "code",
   "execution_count": 14,
   "metadata": {},
   "outputs": [
    {
     "data": {
      "text/plain": [
       "[338.76030542544714, 500.757055790855, 263.01505845905143]"
      ]
     },
     "execution_count": 14,
     "metadata": {},
     "output_type": "execute_result"
    }
   ],
   "source": [
    "vif = []\n",
    "for i, v in enumerate(xnames):\n",
    "    j = list(origin.columns).index(v)\n",
    "    vif.append(variance_inflation_factor(origin, j))\n",
    "vif"
   ]
  },
  {
   "cell_type": "markdown",
   "metadata": {},
   "source": [
    "### 11) 결과표 구성하기"
   ]
  },
  {
   "cell_type": "code",
   "execution_count": 43,
   "metadata": {},
   "outputs": [
    {
     "data": {
      "text/html": [
       "<div>\n",
       "<style scoped>\n",
       "    .dataframe tbody tr th:only-of-type {\n",
       "        vertical-align: middle;\n",
       "    }\n",
       "\n",
       "    .dataframe tbody tr th {\n",
       "        vertical-align: top;\n",
       "    }\n",
       "\n",
       "    .dataframe thead th {\n",
       "        text-align: right;\n",
       "    }\n",
       "</style>\n",
       "<table border=\"1\" class=\"dataframe\">\n",
       "  <thead>\n",
       "    <tr style=\"text-align: right;\">\n",
       "      <th></th>\n",
       "      <th>종속변수</th>\n",
       "      <th>독립변수</th>\n",
       "      <th>B</th>\n",
       "      <th>표준오차</th>\n",
       "      <th>β</th>\n",
       "      <th>t</th>\n",
       "      <th>유의확률</th>\n",
       "      <th>VIF</th>\n",
       "    </tr>\n",
       "  </thead>\n",
       "  <tbody>\n",
       "    <tr>\n",
       "      <th>0</th>\n",
       "      <td>무게</td>\n",
       "      <td>길이</td>\n",
       "      <td>2.908271</td>\n",
       "      <td>7.733688</td>\n",
       "      <td>0</td>\n",
       "      <td>0.376052</td>\n",
       "      <td>0.708408</td>\n",
       "      <td>338.760305</td>\n",
       "    </tr>\n",
       "    <tr>\n",
       "      <th>1</th>\n",
       "      <td>무게</td>\n",
       "      <td>높이</td>\n",
       "      <td>67.204699</td>\n",
       "      <td>29.447158</td>\n",
       "      <td>0</td>\n",
       "      <td>2.282213</td>\n",
       "      <td>0.026598</td>\n",
       "      <td>500.757056</td>\n",
       "    </tr>\n",
       "    <tr>\n",
       "      <th>2</th>\n",
       "      <td>무게</td>\n",
       "      <td>두께</td>\n",
       "      <td>67.260296</td>\n",
       "      <td>36.011233</td>\n",
       "      <td>0</td>\n",
       "      <td>1.867759</td>\n",
       "      <td>0.067436</td>\n",
       "      <td>263.015058</td>\n",
       "    </tr>\n",
       "  </tbody>\n",
       "</table>\n",
       "</div>"
      ],
      "text/plain": [
       "  종속변수 독립변수          B       표준오차  β         t      유의확률         VIF\n",
       "0   무게   길이   2.908271   7.733688  0  0.376052  0.708408  338.760305\n",
       "1   무게   높이  67.204699  29.447158  0  2.282213  0.026598  500.757056\n",
       "2   무게   두께  67.260296  36.011233  0  1.867759  0.067436  263.015058"
      ]
     },
     "execution_count": 43,
     "metadata": {},
     "output_type": "execute_result"
    }
   ],
   "source": [
    "resultDf = DataFrame({\n",
    "    \"종속변수\": [yname] * len(xnames),    # -> 출력: ['무게', '무게', '무게']\n",
    "    \"독립변수\": xnames,\n",
    "    \"B\": result.coef.reshape(-1),       # 각 피처의 계수\n",
    "    \"표준오차\": se_b[1:].reshape(-1),     # 상수항 제외 -> [1:]\n",
    "    \"β\": 0,                             # 나중에 배울 것임\n",
    "    \"t\": ts_b[1:].reshape(-1),          # 상수항 제외 -> [1:]\n",
    "    \"유의확률\": p_values[1:],             # 상수항 제외 -> [1:]\n",
    "    \"VIF\": vif                          # 다중공선성 판단 여부\n",
    "})\n",
    "resultDf"
   ]
  },
  {
   "cell_type": "markdown",
   "metadata": {},
   "source": [
    "### 12) statsmodels 패키지의 결과와 비교해보기\n",
    "- -> 기존에 사용하던 statsmodels의 회귀분석과 결과가 똑같은지 비교해보는 것"
   ]
  },
  {
   "cell_type": "code",
   "execution_count": 44,
   "metadata": {},
   "outputs": [
    {
     "data": {
      "text/html": [
       "<div>\n",
       "<style scoped>\n",
       "    .dataframe tbody tr th:only-of-type {\n",
       "        vertical-align: middle;\n",
       "    }\n",
       "\n",
       "    .dataframe tbody tr th {\n",
       "        vertical-align: top;\n",
       "    }\n",
       "\n",
       "    .dataframe thead th {\n",
       "        text-align: right;\n",
       "    }\n",
       "</style>\n",
       "<table border=\"1\" class=\"dataframe\">\n",
       "  <thead>\n",
       "    <tr style=\"text-align: right;\">\n",
       "      <th></th>\n",
       "      <th></th>\n",
       "      <th>B</th>\n",
       "      <th>표준오차</th>\n",
       "      <th>β</th>\n",
       "      <th>t</th>\n",
       "      <th>유의확률</th>\n",
       "      <th>VIF</th>\n",
       "    </tr>\n",
       "    <tr>\n",
       "      <th>종속변수</th>\n",
       "      <th>독립변수</th>\n",
       "      <th></th>\n",
       "      <th></th>\n",
       "      <th></th>\n",
       "      <th></th>\n",
       "      <th></th>\n",
       "      <th></th>\n",
       "    </tr>\n",
       "  </thead>\n",
       "  <tbody>\n",
       "    <tr>\n",
       "      <th rowspan=\"3\" valign=\"top\">무게</th>\n",
       "      <th>길이</th>\n",
       "      <td>2.9083</td>\n",
       "      <td>7.734</td>\n",
       "      <td>0</td>\n",
       "      <td>0.376*</td>\n",
       "      <td>0.708</td>\n",
       "      <td>338.760305</td>\n",
       "    </tr>\n",
       "    <tr>\n",
       "      <th>높이</th>\n",
       "      <td>67.2047</td>\n",
       "      <td>29.447</td>\n",
       "      <td>0</td>\n",
       "      <td>2.282*</td>\n",
       "      <td>0.027</td>\n",
       "      <td>500.757056</td>\n",
       "    </tr>\n",
       "    <tr>\n",
       "      <th>두께</th>\n",
       "      <td>67.2603</td>\n",
       "      <td>36.011</td>\n",
       "      <td>0</td>\n",
       "      <td>1.868*</td>\n",
       "      <td>0.067</td>\n",
       "      <td>263.015058</td>\n",
       "    </tr>\n",
       "  </tbody>\n",
       "</table>\n",
       "</div>"
      ],
      "text/plain": [
       "                 B    표준오차  β       t   유의확률         VIF\n",
       "종속변수 독립변수                                               \n",
       "무게   길이     2.9083   7.734  0  0.376*  0.708  338.760305\n",
       "     높이    67.2047  29.447  0  2.282*  0.027  500.757056\n",
       "     두께    67.2603  36.011  0  1.868*  0.067  263.015058"
      ]
     },
     "execution_count": 44,
     "metadata": {},
     "output_type": "execute_result"
    }
   ],
   "source": [
    "result = helper.myOls(origin, x=['길이', '높이', '두께'], y = '무게')\n",
    "result.table"
   ]
  },
  {
   "cell_type": "markdown",
   "metadata": {},
   "source": [
    "> 계수의 값(B)이 반올림 된 것을 고려하면 `머신러닝으로 얻어진 분석 결과값`이 `statsmodels(회귀분석 모듈)가 주는 분석 결과값`과 거의 동일하다는 것을 확인\n",
    "> \n",
    "> 그러므로 statsmodels을 사용하던, scikit-learn을 사용하던 둘 다 값이 거의 동일하여 상관 없을 것이다.\n",
    "### 13) 모듈에 추가된 기능 확인하기"
   ]
  },
  {
   "cell_type": "code",
   "execution_count": 71,
   "metadata": {},
   "outputs": [
    {
     "data": {
      "text/html": [
       "<div>\n",
       "<style scoped>\n",
       "    .dataframe tbody tr th:only-of-type {\n",
       "        vertical-align: middle;\n",
       "    }\n",
       "\n",
       "    .dataframe tbody tr th {\n",
       "        vertical-align: top;\n",
       "    }\n",
       "\n",
       "    .dataframe thead th {\n",
       "        text-align: right;\n",
       "    }\n",
       "</style>\n",
       "<table border=\"1\" class=\"dataframe\">\n",
       "  <thead>\n",
       "    <tr style=\"text-align: right;\">\n",
       "      <th></th>\n",
       "      <th>종속변수</th>\n",
       "      <th>독립변수</th>\n",
       "      <th>B</th>\n",
       "      <th>표준오차</th>\n",
       "      <th>β</th>\n",
       "      <th>t</th>\n",
       "      <th>유의확률</th>\n",
       "      <th>VIF</th>\n",
       "    </tr>\n",
       "  </thead>\n",
       "  <tbody>\n",
       "    <tr>\n",
       "      <th>0</th>\n",
       "      <td>무게</td>\n",
       "      <td>길이</td>\n",
       "      <td>2.908271</td>\n",
       "      <td>7.733688</td>\n",
       "      <td>0</td>\n",
       "      <td>0.376052</td>\n",
       "      <td>0.708408</td>\n",
       "      <td>338.760305</td>\n",
       "    </tr>\n",
       "    <tr>\n",
       "      <th>1</th>\n",
       "      <td>무게</td>\n",
       "      <td>높이</td>\n",
       "      <td>67.204699</td>\n",
       "      <td>29.447158</td>\n",
       "      <td>0</td>\n",
       "      <td>2.282213</td>\n",
       "      <td>0.026598</td>\n",
       "      <td>500.757056</td>\n",
       "    </tr>\n",
       "    <tr>\n",
       "      <th>2</th>\n",
       "      <td>무게</td>\n",
       "      <td>두께</td>\n",
       "      <td>67.260296</td>\n",
       "      <td>36.011233</td>\n",
       "      <td>0</td>\n",
       "      <td>1.867759</td>\n",
       "      <td>0.067436</td>\n",
       "      <td>263.015058</td>\n",
       "    </tr>\n",
       "  </tbody>\n",
       "</table>\n",
       "</div>"
      ],
      "text/plain": [
       "  종속변수 독립변수          B       표준오차  β         t      유의확률         VIF\n",
       "0   무게   길이   2.908271   7.733688  0  0.376052  0.708408  338.760305\n",
       "1   무게   높이  67.204699  29.447158  0  2.282213  0.026598  500.757056\n",
       "2   무게   두께  67.260296  36.011233  0  1.867759  0.067436  263.015058"
      ]
     },
     "execution_count": 71,
     "metadata": {},
     "output_type": "execute_result"
    }
   ],
   "source": [
    "ols_result = helper.ml_ols(origin, xnames = ['길이', '높이', '두께'], yname = '무게',\n",
    "                           degree = 1, test_size = 0)\n",
    "ols_result.table"
   ]
  },
  {
   "cell_type": "markdown",
   "metadata": {},
   "source": [
    "## 참고자료 (reference)\n",
    "- https://m.blog.naver.com/pmw9440/222482746927\n",
    "- https://stackoverflow.com/questions/27928275/find-p-value-significance-in-scikit-learn-linearregression\n",
    "- https://stats.stackexchange.com/questions/85943/how-to-derive-the-standard-error-of-linear-regression-coefficient\n",
    "- https://calcworkshop.com/linear-regression/t-test/\n",
    "- https://www.google.com/url?sa=i&url=http%3A%2F%2Fwww.few.vu.nl%2F~wvanwie%2FCourses%2FHighdimensionalDataAnalysis%2FWNvanWieringen_HDDA_Lecture234_RidgeRegression_20182019.pdf&psig=AOvVaw31slQKGfkCNf2PAa3VEIGC&ust=1630070470635000&source=images&cd=vfe&ved=0CAsQjRxqFwoTCIjJworkzvICFQAAAAAdAAAAABAR"
   ]
  }
 ],
 "metadata": {
  "kernelspec": {
   "display_name": "Python 3",
   "language": "python",
   "name": "python3"
  },
  "language_info": {
   "codemirror_mode": {
    "name": "ipython",
    "version": 3
   },
   "file_extension": ".py",
   "mimetype": "text/x-python",
   "name": "python",
   "nbconvert_exporter": "python",
   "pygments_lexer": "ipython3",
   "version": "3.9.13"
  },
  "orig_nbformat": 4
 },
 "nbformat": 4,
 "nbformat_minor": 2
}
