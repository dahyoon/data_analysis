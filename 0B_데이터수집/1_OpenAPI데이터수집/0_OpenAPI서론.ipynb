{
 "cells": [
  {
   "cell_type": "markdown",
   "metadata": {},
   "source": [
    "# Open API 데이터 수집 서론\n",
    "\n",
    "## 1. 웹 프로그래밍의 이해\n",
    "\n",
    "### 0) 웹 브라우저에 URL을 입력하면 어떤 일이 일어나는가?\n",
    "0. 웹 브라우저에 URL을 입력하고 Enter 키를 누른다\n",
    "1. 웹 브라우저가 도메인의 IP 주소를 조회 (먼저 캐시를 찾고, DNS-Domain Name System-를 검색)\n",
    "2. 웹 서버에 연결 (웹 브라우저가 찾은 IP 주소를 기반으로 서버와의 TCP-Transmission Control Protocol 연결 시작)\n",
    "3. 웹 브라우저가 HTTP요청을 서버로 전송 (필요시 HTTPS 보안 통신이 진행됨)\n",
    "4. 웹 서버가 요청을 처리하고 응답을 다시 웹 브라우저로 전송\n",
    "5. 웹 브라우저가 전송 받은 콘텐츠/페이지를 렌더링(서버로부터 HTML파일을 받아 브라우저에 뿌려주는 과정) 함\n",
    "### 1) 웹프로그래밍 언어\n",
    "- 웹프로그래밍 언어는 출력 형식이 html일 수도 있고 json 형태일 수도 있다\n",
    "- 우리가 python으로 원하는 내용을 출력하기엔 json 형태가 훨씬 수월하다 (딕셔너리로 바꾸면 더 수월하게 조회할 수 있기 때문)\n",
    "\n",
    "### 2) Get, Post 파라미터\n",
    "- 웹프로그래밍 언어는 전달되는 변수값에 따라 껍데기는 그대로 유지하지만 컨텐츠는 바뀔 수 있다\n",
    "    - 예) 네이버 웹툰 페이지에서 페이지 자체는 같지만 요일별로 클릭하면 다른 요일마다 다른 웹툰들이 페이지 상에 띄어지는 것\n",
    "    - 예) 인터넷 쇼핑몰 - 쿠팡, 11번가 등\n",
    "- 그러므로 하나의 웹프로그램은 전달되는 파라미터에 따라 컨텐츠를 바꿀 수 있다\n",
    "\n",
    "### 3) 종합\n",
    "- 웹프로그램은 json을 줄 수 있는데, 이 json은 전달되는 파라미터에 따라 컨텐츠를 바꿀 수 있다\n",
    "\n",
    "### 4) URL 파해치기\n",
    "- URL: Uniform Resource Lo cator\n",
    "    - Resource can be: web page, image, video, pdf, etc.\n",
    "- 예) `https://www.coupang.com/np/search?q=%EB%85%B8%ED%8A%B8%EB%B6%81&listSize=72&channel=user`\n",
    "\n",
    "#### i. 실제 주소 \n",
    "- `https://www.coupang.com/np/search`\n",
    "- 물음표(?) 앞에 오는 문자들\n",
    "\n",
    "##### i) 프로토콜 (=규약, 규격): `https://`\n",
    "- 통신 방식을 나타낸다\n",
    "- 종류: `http`, `https`\n",
    "    - http (Hypertext Transfer Protocol) = 일반 웹으로서 보안이 안 됨\n",
    "        - defines how clients and servers communicate\n",
    "    - https = 보안이 되고있는 웹\n",
    "\n",
    "##### ii) 도메인 (=컴퓨터 주소): `www.coupang.com`\n",
    "##### iii) 파일 경로: `/np/search`\n",
    "#### ii. Query String\n",
    "- `?q=%EB%85%B8%ED%8A%B8%EB%B6%81&listSize=72&channel=user`\n",
    "- 물음표(?) 뒤에 오는 나머지 문자들\n",
    "- 구조: `변수이름=값&변수이름=값...`\n",
    "##### i) URL Encoding한 값: `%EB%85%B8%ED%8A%B8%EB%B6%81`\n",
    "- Encoding과 Decoding\n",
    "    - Encoding이란 원본 형식을 어떠한 형태로 변환하는 것\n",
    "    - Decoding이란 변환된 형태을 다시 원본 형식으로 변환하는 것\n",
    "- 즉 url encoding이란 한글, 공백, 특수문자 등을 `url로 변환`하는 것\n",
    "- 예) 노트북 -> %EB%85%B8%ED%8A%B8%EB%B6%81\n",
    "\n",
    "## 2. 필요한 모듈/기능\n",
    "\n",
    "### 1) `request` 모듈\n",
    "- 웹 상의 데이터를 요청하는 기능 (설치 안 되어있을 시 설치 필요)\n",
    "\n",
    "### 2) `json` 모듈\n",
    "- JSON을 딕셔너리로 변환하는 기능 (파이썬 내장모듈이기 때문에 설치 불필요)\n",
    "#### i. JSON 데이터 처리\n",
    "- 아래와 같은 개념을 잘 이해해야지 json 데이터 처리를 잘 할 수 있다\n",
    "    - 리스트를 포함하는 딕셔너리\n",
    "    - 딕셔너리를 포함하는 리스트"
   ]
  },
  {
   "cell_type": "code",
   "execution_count": null,
   "metadata": {
    "vscode": {
     "languageId": "plaintext"
    }
   },
   "outputs": [],
   "source": []
  },
  {
   "cell_type": "markdown",
   "metadata": {},
   "source": []
  }
 ],
 "metadata": {
  "language_info": {
   "name": "python"
  }
 },
 "nbformat": 4,
 "nbformat_minor": 2
}
