{
 "cells": [
  {
   "cell_type": "markdown",
   "metadata": {},
   "source": [
    "Google Sheet - Geocode by AwesomeTable\n",
    "- 한글주소를 위도, 경도로 변환할 수 있음"
   ]
  },
  {
   "cell_type": "markdown",
   "metadata": {},
   "source": [
    "# Geo Coding\n",
    "- 지오코딩: 주소에서 지리정보를 추출하는 과정\n",
    "## 1. GeoCoding 개요\n",
    "- 좌표계를 갖지 않는 문자열 형식의 주소를 수치 형태로 만들 때 사용\n",
    "- QGIS에는 한글 주소를 지오코딩하는 기능이 없기에 외부 프로그햄이나 API를 활용해야 한다\n",
    "\n",
    "## 2. X-Ray Map\n",
    "### 방법 1) 민간 GIS 분석회사인 `biz-gis.com`에서 제작하여 무료로 배포하는 프로그램\n",
    "- 한 번에 변환할 수 있는 양이 100개 까지로 한정되어 있기에 100개 이상의 데이터를 처리하는 경우 분할 작업 필요\n",
    "### 방법 2) `geoservice.co.kr`\n",
    "- 개수 제한 없으나 처리 속도는 느림\n",
    "- 회원가입 후 사용 가능\n",
    "- 아카이브에 데이터를 업로드 후 사용 가능\n",
    "- 변환 > 지오코딩 > 주소를 좌표로 변환(지오코딩) > 아카이브에 업로드 한 csv 파일 선택 > 주소필드: 해당주소필드 > 지오코딩 후 결과를 아카이브에 등록: 예\n",
    "- 아카이브에 등록된 .zip 파일을 다운로드 -> shape파일로 된 파일이 다운로드 됨\n",
    "- 특징: 위도 경도만 추출할 뿐 아니라 위도 경도 데이터를 담고 있는 shape 파일을 바로 만들어준다\n",
    "### 방법 3) Google Spreadsheet\n",
    "- 구글 스프레드시트에 들어가서 Extension에서 Geocode by Awesome Table 설치 한 다음 지오코딩하기\n",
    "- 하루에 1000개의 주소만 바꿀 수 있는 제한이 있음\n",
    "### 방법 4) Kakao Developers `https://developers.kakao.com/`\n",
    "    - 시간 제한은 없지만 하루에 가능한 호출 제한은 있음 (아마 3000건 정도)\n",
    "- https://developers.kakao.com/에 로그인 \n",
    "    - 메인화면 > 내 애플리케이션 > 만들어 놓은 애플리케이션 (treehouse) > 앱 키: REST API 키 (f903e6bb99d409d576298b6e08527c66) 복사\n",
    "    - 메인화면 > 문서 > 지도/로컬 > 로컬 > REST API > `주소 검색하기`, `좌표로 행정구역정보 받기`, `좌표로 주소 변환하기`, `좌표계 변환하기` 등이 있음\n",
    "        - 전에 배운 open api 연동하는 방법 따라서 사용하면 됨\n",
    " - QGIS로 들어감\n",
    "    - 강사님이 파일 하나 주심 (web_geocoder.zip)\n",
    "    - Plugins > Manage and Install Plugins > Install from ZIP > Zip file: 강사님이 준 파일 (zip 안 푼 상태) 선택 -> /Users/dayoonz/Desktop/data_analysis_local/F_GIS/Lab04_지오코딩/web_geocoder.zip > Install Plugin 클릭 > 설치 됐으면 close\n",
    "    - Plugins > web_geocoder > web_geocoder > \n",
    "        - 주소 텍스트 데이터: ... > 주소.txt\n",
    "            - 이 방법을 사용하는 조건: 주소값만 담고 있는 텍스트(txt) 파일을 만들어야 된다 (excel이나 csv 안됨, '주소'등의 제목도 있으면 안 됨)\n",
    "        - KAKAO REST API KEY: 아까 복사한 REST API KEY (f903e6bb99d409d576298b6e08527c66) 입력\n",
    "        - 좌표설정: EPSG:4326 = WGS 84\n",
    "        - 지오코딩 텍스트 저장: 저장될 경로랑 이름 잡아주기\n",
    "        - Run 클릭\n",
    "            - 잠시 멈춘 듯한 것처럼 보이나 다 끝나면 100%가 뜨며 result, address, x_coord(경도), y_coord(위도) 데이터를 담은 파일이 하나 생성될 것이다\n",
    "            - 못 찾은 경도 위도 데이터는 따로 찾아보면 됨"
   ]
  },
  {
   "cell_type": "code",
   "execution_count": null,
   "metadata": {},
   "outputs": [],
   "source": []
  }
 ],
 "metadata": {
  "language_info": {
   "name": "python"
  }
 },
 "nbformat": 4,
 "nbformat_minor": 2
}
