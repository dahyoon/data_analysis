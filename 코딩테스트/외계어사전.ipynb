{
 "cells": [
  {
   "cell_type": "code",
   "execution_count": 5,
   "metadata": {},
   "outputs": [
    {
     "name": "stdout",
     "output_type": "stream",
     "text": [
      "2\n"
     ]
    }
   ],
   "source": [
    "# spell = [\"p\", \"o\", \"s\"]\t\n",
    "# dic = [\"sod\", \"eocd\", \"qixm\", \"adio\", \"soo\"]\t\n",
    "# result = 2\n",
    "\n",
    "# spell = [\"z\", \"d\", \"x\"]\t\n",
    "# dic = [\"def\", \"dww\", \"dzx\", \"loveaw\"]\t\n",
    "# result = 1\n",
    "\n",
    "spell = [\"s\", \"o\", \"m\", \"d\"]\n",
    "dic = [\"moos\", \"dzx\", \"smm\", \"sunmmo\", \"som\"]\t\n",
    "result = 2\n",
    "\n",
    "copy = dic.copy()\n",
    "for a in range(len(dic)):\n",
    "    lista = []\n",
    "    for b in range(len(spell)):\n",
    "        if spell[b] not in dic[a]:\n",
    "            if dic[a] in copy:\n",
    "                copy.remove(dic[a])\n",
    "        elif dic[a].count(spell[b]) != 1:\n",
    "            if dic[a] in copy:\n",
    "                copy.remove(dic[a])\n",
    "        else:\n",
    "            pass\n",
    "if len(copy) > 0:\n",
    "    print(1)\n",
    "else:\n",
    "    print(2)"
   ]
  },
  {
   "cell_type": "code",
   "execution_count": null,
   "metadata": {},
   "outputs": [],
   "source": []
  }
 ],
 "metadata": {
  "kernelspec": {
   "display_name": "Python 3",
   "language": "python",
   "name": "python3"
  },
  "language_info": {
   "codemirror_mode": {
    "name": "ipython",
    "version": 3
   },
   "file_extension": ".py",
   "mimetype": "text/x-python",
   "name": "python",
   "nbconvert_exporter": "python",
   "pygments_lexer": "ipython3",
   "version": "3.9.13"
  }
 },
 "nbformat": 4,
 "nbformat_minor": 2
}
