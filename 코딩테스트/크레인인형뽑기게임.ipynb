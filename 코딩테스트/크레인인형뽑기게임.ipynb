{
 "cells": [
  {
   "cell_type": "code",
   "execution_count": 1,
   "metadata": {},
   "outputs": [],
   "source": [
    "board = [[0,0,0,0,0],[0,0,1,0,3],[0,2,5,0,1],[4,2,4,4,2],[3,5,1,3,1]]\t\n",
    "moves = [1,5,3,5,1,2,1,4]\n",
    "\n",
    "def solution(board, moves):\n",
    "    moves_new = []\n",
    "    doll_disappear = 0\n",
    "    for a in range(len(moves)):\n",
    "        moves_new.append(moves[a]-1)\n",
    "    basket = []\n",
    "    for m in range(len(moves_new)):\n",
    "        for b in range(len(board)):\n",
    "            if board[b][moves_new[m]] == 0:\n",
    "                continue\n",
    "            else:\n",
    "                basket.append(board[b][moves_new[m]])\n",
    "                board[b][moves_new[m]] = 0\n",
    "                if len(basket) > 1:\n",
    "                    if basket[-1] == basket [-2]:\n",
    "                        doll_disappear += 2\n",
    "                        basket.remove(basket[-1])\n",
    "                        basket.remove(basket[-1])\n",
    "                    else:\n",
    "                        break\n",
    "                else:\n",
    "                    break\n",
    "                break\n",
    "    return doll_disappear"
   ]
  },
  {
   "cell_type": "code",
   "execution_count": 2,
   "metadata": {},
   "outputs": [
    {
     "data": {
      "text/plain": [
       "4"
      ]
     },
     "execution_count": 2,
     "metadata": {},
     "output_type": "execute_result"
    }
   ],
   "source": [
    "solution(board, moves)"
   ]
  }
 ],
 "metadata": {
  "kernelspec": {
   "display_name": "Python 3",
   "language": "python",
   "name": "python3"
  },
  "language_info": {
   "codemirror_mode": {
    "name": "ipython",
    "version": 3
   },
   "file_extension": ".py",
   "mimetype": "text/x-python",
   "name": "python",
   "nbconvert_exporter": "python",
   "pygments_lexer": "ipython3",
   "version": "3.9.13"
  },
  "orig_nbformat": 4
 },
 "nbformat": 4,
 "nbformat_minor": 2
}
