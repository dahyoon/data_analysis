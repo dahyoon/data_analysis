{
 "cells": [
  {
   "cell_type": "code",
   "execution_count": 4,
   "metadata": {},
   "outputs": [
    {
     "name": "stdout",
     "output_type": "stream",
     "text": [
      "a =  0 n =  2\n",
      "0\n",
      "[0]\n",
      "a =  1 n =  2\n",
      "a =  2 n =  2\n",
      "0\n",
      "[0, 2]\n",
      "a =  3 n =  2\n",
      "a =  4 n =  2\n",
      "0\n",
      "[0, 2, 4]\n",
      "a =  5 n =  2\n"
     ]
    },
    {
     "data": {
      "text/plain": [
       "[4, 2, 6]"
      ]
     },
     "execution_count": 4,
     "metadata": {},
     "output_type": "execute_result"
    }
   ],
   "source": [
    "num_list = [4, 2, 6, 1, 7, 6]\n",
    "n = 2\n",
    "\n",
    "def solution(num_list, n):\n",
    "    index_list = []\n",
    "    for a in range(len(num_list)):\n",
    "        if a%n == 0:\n",
    "            index_list.append(a)\n",
    "        else:\n",
    "            pass\n",
    "    result = []\n",
    "    for index in range(len(index_list)):\n",
    "        result.append(num_list[index_list[index]])\n",
    "    return result"
   ]
  }
 ],
 "metadata": {
  "kernelspec": {
   "display_name": "Python 3",
   "language": "python",
   "name": "python3"
  },
  "language_info": {
   "codemirror_mode": {
    "name": "ipython",
    "version": 3
   },
   "file_extension": ".py",
   "mimetype": "text/x-python",
   "name": "python",
   "nbconvert_exporter": "python",
   "pygments_lexer": "ipython3",
   "version": "3.9.13"
  }
 },
 "nbformat": 4,
 "nbformat_minor": 2
}
