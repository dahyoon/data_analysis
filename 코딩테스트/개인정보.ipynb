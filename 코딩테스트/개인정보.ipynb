{
 "cells": [
  {
   "cell_type": "code",
   "execution_count": 58,
   "metadata": {},
   "outputs": [],
   "source": [
    "today = \"2022.05.19\"\n",
    "terms =[\"A 6\", \"B 12\", \"C 3\"]\n",
    "privacies = [\"2021.05.02 A\", \"2021.07.01 B\", \"2022.02.19 C\", \"2022.02.20 C\"]\n",
    "# result = [1, 3]\n",
    "# 모든 달 28일까지 있다고 가정\n",
    "from datetime import date, timedelta\n",
    "from dateutil.relativedelta import relativedelta \n"
   ]
  },
  {
   "cell_type": "code",
   "execution_count": 65,
   "metadata": {},
   "outputs": [
    {
     "data": {
      "text/plain": [
       "[1, 3]"
      ]
     },
     "execution_count": 65,
     "metadata": {},
     "output_type": "execute_result"
    }
   ],
   "source": [
    "# 입력된 날짜를 date타입으로 변환\n",
    "today_date = date(int(today[0:4]),int(today[5:7]),int(today[8:]))\n",
    "today_date # datetime.date(2022, 5, 19)\n",
    "\n",
    "# term 종류에 따른 파기 월을 담은 terms_dict 딕셔너리 생성\n",
    "terms_dict = {}\n",
    "for b in range(len(terms)):\n",
    "    terms_dict[terms[b][0]] = int(terms[b][2:])\n",
    "terms_dict # {'A': 6, 'B': 12, 'C': 3}\n",
    "\n",
    "# 수집날짜와 term 종류 분리\n",
    "privacies_list= []\n",
    "for a in privacies:\n",
    "    privacies_list.append(a.split())\n",
    "privacies_list\n",
    "    # [['2021.05.02', 'A'],\n",
    "    #  ['2021.07.01', 'B'],\n",
    "    #  ['2022.02.19', 'C'],\n",
    "    #  ['2022.02.20', 'C']]\n",
    "\n",
    "# 수집날짜들을 date타입으로 변환한 수집날짜_list 생성\n",
    "수집날짜_list = []\n",
    "for a in privacies_list:\n",
    "    수집날짜 = date(int(a[0][0:4]),int(a[0][5:7]),int(a[0][8:]))\n",
    "    수집날짜_list.append(수집날짜)\n",
    "수집날짜_list\n",
    "    # [datetime.date(2021, 5, 2),\n",
    "    #  datetime.date(2021, 7, 1),\n",
    "    #  datetime.date(2022, 2, 19),\n",
    "    #  datetime.date(2022, 2, 20)]\n",
    "\n",
    "# 파기날짜를 담은 exp_day_list 생성\n",
    "exp_day_list = []\n",
    "for a in privacies_list:\n",
    "    exp_day = (date(int(a[0][0:4]), \n",
    "                         int(a[0][5:7]), \n",
    "                         int(a[0][8:]))\\\n",
    "                    + relativedelta(months=terms_dict[a[1]])\\\n",
    "                    - timedelta(days=1))\n",
    "    # print(exp_day) \n",
    "        # 2021-11-01\n",
    "        # 2022-06-30\n",
    "        # 2022-05-18\n",
    "        # 2022-05-19\n",
    "    # 모든 달이 28일까지만 있다는 가정을 위한 날짜 처리\n",
    "    if exp_day.day == 31:\n",
    "        exp_day -= timedelta(days=3)\n",
    "    elif exp_day.day == 30:\n",
    "        exp_day -= timedelta(days=2)\n",
    "    elif exp_day.day == 29:\n",
    "        exp_day -= timedelta(days=1)\n",
    "    else:\n",
    "        pass\n",
    "    exp_day_list.append(exp_day)  \n",
    "exp_day_list\n",
    "    # [datetime.date(2021, 11, 1),\n",
    "    #  datetime.date(2022, 6, 28),\n",
    "    #  datetime.date(2022, 5, 18),\n",
    "    #  datetime.date(2022, 5, 19)]\n",
    "\n",
    "# 파기해야할 정보의 번호를 담은 exp_num_list 생성\n",
    "exp_num_list = []\n",
    "for a in range(len(exp_day_list)):\n",
    "    if exp_day_list[a] < today_date:\n",
    "        exp_num_list.append(a+1)\n",
    "    else:\n",
    "        pass\n",
    "exp_num_list"
   ]
  }
 ],
 "metadata": {
  "kernelspec": {
   "display_name": "Python 3",
   "language": "python",
   "name": "python3"
  },
  "language_info": {
   "codemirror_mode": {
    "name": "ipython",
    "version": 3
   },
   "file_extension": ".py",
   "mimetype": "text/x-python",
   "name": "python",
   "nbconvert_exporter": "python",
   "pygments_lexer": "ipython3",
   "version": "3.9.13"
  },
  "orig_nbformat": 4
 },
 "nbformat": 4,
 "nbformat_minor": 2
}
