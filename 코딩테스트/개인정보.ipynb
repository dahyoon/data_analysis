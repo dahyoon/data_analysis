{
 "cells": [
  {
   "cell_type": "code",
   "execution_count": 16,
   "metadata": {},
   "outputs": [],
   "source": [
    "# today = \"2022.05.19\"\n",
    "terms =[\"A 6\", \"B 12\", \"C 3\"]\n",
    "privacies = [\"2021.05.02 A\", \"2021.07.01 B\", \"2022.02.19 C\", \"2022.02.20 C\"]\n",
    "# result = [1, 3]\n",
    "from datetime import date"
   ]
  },
  {
   "cell_type": "code",
   "execution_count": 21,
   "metadata": {},
   "outputs": [
    {
     "data": {
      "text/plain": [
       "dict_keys(['A', 'B', 'C'])"
      ]
     },
     "execution_count": 21,
     "metadata": {},
     "output_type": "execute_result"
    }
   ],
   "source": [
    "terms_list = []\n",
    "for a in terms:\n",
    "    terms_list.append(a.split())\n",
    "terms_list # [['A', '6'], ['B', '12'], ['C', '3']]\n",
    "\n",
    "terms_dict = {}\n",
    "for a in range(len(terms_list)):\n",
    "    terms_dict[terms_list[a][0]] = int(terms_list[a][1])\n",
    "terms_dict # {'A': 6, 'B': 12, 'C': 3}\n",
    "\n",
    "privacies_list= []\n",
    "exp_date = []\n",
    "for a in privacies:\n",
    "    privacies_list.append(a.split())\n",
    "for a in privacies_list:\n",
    "    exp_date.append(date(int(a[0][0:4]), int(a[0][5:7]), int(a[0][8:])))\n",
    "exp_date\n",
    "\n",
    "for a in range(len(privacies)):\n",
    "    for b in terms_dict.keys()\n",
    "    if privacies[a][-1] ==\n"
   ]
  }
 ],
 "metadata": {
  "kernelspec": {
   "display_name": "Python 3",
   "language": "python",
   "name": "python3"
  },
  "language_info": {
   "codemirror_mode": {
    "name": "ipython",
    "version": 3
   },
   "file_extension": ".py",
   "mimetype": "text/x-python",
   "name": "python",
   "nbconvert_exporter": "python",
   "pygments_lexer": "ipython3",
   "version": "3.9.13"
  },
  "orig_nbformat": 4
 },
 "nbformat": 4,
 "nbformat_minor": 2
}
