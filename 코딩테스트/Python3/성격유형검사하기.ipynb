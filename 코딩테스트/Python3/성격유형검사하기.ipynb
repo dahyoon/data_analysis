{
 "cells": [
  {
   "cell_type": "code",
   "execution_count": 7,
   "metadata": {},
   "outputs": [],
   "source": [
    "survey\t= [\"AN\", \"CF\", \"MJ\", \"RT\", \"NA\"]\n",
    "choices\t= [5, 3, 2, 7, 5]\n",
    "result = \"TCMA\""
   ]
  },
  {
   "cell_type": "code",
   "execution_count": 17,
   "metadata": {},
   "outputs": [
    {
     "data": {
      "text/plain": [
       "'TCMA'"
      ]
     },
     "execution_count": 17,
     "metadata": {},
     "output_type": "execute_result"
    }
   ],
   "source": [
    "answer = 'RCJA'\n",
    "traits = {'R':0, 'T':0, 'C':0, 'F':0, 'J':0, 'M':0, 'A':0, 'N':0}\n",
    "for a in range(len(survey)):\n",
    "    if choices[a]  == 4:\n",
    "        continue\n",
    "    elif choices[a] > 4:\n",
    "        traits[survey[a][1]] += choices[a] - 4\n",
    "    elif choices[a] < 4:\n",
    "        traits[survey[a][0]] += 4 - choices[a]\n",
    "if traits['R'] < traits['T']:\n",
    "    answer = answer.replace('R', 'T')\n",
    "if traits['C'] < traits['F']:\n",
    "    answer = answer.replace('C', 'F')\n",
    "if traits['J'] < traits['M']:\n",
    "    answer = answer.replace('J', 'M')\n",
    "if traits['A'] < traits['N']:\n",
    "    answer = answer.replace('A', 'N')\n",
    "answer"
   ]
  }
 ],
 "metadata": {
  "kernelspec": {
   "display_name": "Python 3",
   "language": "python",
   "name": "python3"
  },
  "language_info": {
   "codemirror_mode": {
    "name": "ipython",
    "version": 3
   },
   "file_extension": ".py",
   "mimetype": "text/x-python",
   "name": "python",
   "nbconvert_exporter": "python",
   "pygments_lexer": "ipython3",
   "version": "3.9.13"
  }
 },
 "nbformat": 4,
 "nbformat_minor": 2
}
