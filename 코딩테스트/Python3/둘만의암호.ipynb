{
 "cells": [
  {
   "cell_type": "code",
   "execution_count": 105,
   "metadata": {},
   "outputs": [],
   "source": [
    "s = \"aukks\"\t\n",
    "skip = \"wbqd\"\n",
    "index = 5\n",
    "result = \"happy\"\n",
    "\n",
    "# s = \"klmnopqrstuvzyx\"\t\n",
    "# skip = \"abcdefghij\"\n",
    "# index = 20\n",
    "# result = 'opqrstuvwxyznml'\n"
   ]
  },
  {
   "cell_type": "code",
   "execution_count": 108,
   "metadata": {},
   "outputs": [
    {
     "name": "stdout",
     "output_type": "stream",
     "text": [
      "validletter1 is: ['a', 'b0', 'c', 'd0', 'e']\n",
      "validletter2 is: ['a', 'c', 'e']\n",
      "validletter3 is: ['a', 'c', 'e', 'f', 'g', 'h']\n",
      "validletter1 is: ['u', 'v', 'w0', 'x', 'y']\n",
      "validletter2 is: ['u', 'v', 'x', 'y']\n",
      "validletter3 is: ['u', 'v', 'x', 'y', 'z', 'a']\n",
      "validletter1 is: ['k', 'l', 'm', 'n', 'o']\n",
      "validletter2 is: ['k', 'l', 'm', 'n', 'o']\n",
      "validletter3 is: ['k', 'l', 'm', 'n', 'o', 'p']\n",
      "validletter1 is: ['k', 'l', 'm', 'n', 'o']\n",
      "validletter2 is: ['k', 'l', 'm', 'n', 'o']\n",
      "validletter3 is: ['k', 'l', 'm', 'n', 'o', 'p']\n",
      "validletter1 is: ['s', 't', 'u', 'v', 'w0']\n",
      "validletter2 is: ['s', 't', 'u', 'v']\n",
      "validletter3 is: ['s', 't', 'u', 'v', 'x', 'y']\n"
     ]
    },
    {
     "data": {
      "text/plain": [
       "'happy'"
      ]
     },
     "execution_count": 108,
     "metadata": {},
     "output_type": "execute_result"
    }
   ],
   "source": [
    "\n",
    "answer = []\n",
    "알파벳 = ['a', 'b', 'c', 'd', 'e', 'f', 'g',\n",
    "        'h', 'i', 'j', 'k', 'l','m', 'n',\n",
    "        'o', 'p', 'q', 'r', 's', 't', 'u',\n",
    "        'v', 'w', 'x', 'y', 'z',\n",
    "        'a', 'b', 'c', 'd', 'e', 'f', 'g',\n",
    "        'h', 'i', 'j', 'k', 'l','m', 'n',\n",
    "        'o', 'p', 'q', 'r', 's', 't', 'u',\n",
    "        'v', 'w', 'x', 'y', 'z',\n",
    "        'a', 'b', 'c', 'd', 'e', 'f', 'g',\n",
    "        'h', 'i', 'j', 'k', 'l','m', 'n']\n",
    "스킵 = list(skip)\n",
    "스킵_not = []\n",
    "count = 0\n",
    "\n",
    "# 스킵할 알파벳들 뒤에 '0' 표시 및 스킵하지 않을 letter들 스킵_not에 추가\n",
    "for a in range(len(알파벳)):\n",
    "    if 알파벳[a] in 스킵:\n",
    "        알파벳[a] = 알파벳[a] + '0'\n",
    "    else:\n",
    "        스킵_not.append(알파벳[a])\n",
    "\n",
    "for a in range(len(s)):\n",
    "    # s의 각 letter 별 start index와 end index 정의\n",
    "    for b in range(len(알파벳)):\n",
    "        if s[a] == 알파벳[b]:\n",
    "            start = b\n",
    "            end = b + index\n",
    "            break\n",
    "    validletter = 알파벳[start:end]\n",
    "    print('validletter1 is:', validletter)\n",
    "    # start index와 end index 사이 스킵할 알파벳들의 수 만큼 index값을 count로 늘림\n",
    "    for c in range(start, end):\n",
    "        if '0' in 알파벳[c]:\n",
    "            count += 1\n",
    "            validletter.remove(알파벳[c])\n",
    "        else:\n",
    "            continue\n",
    "    print('validletter2 is:', validletter)\n",
    "    for d in range(len(스킵_not)):\n",
    "        if 스킵_not[d] == validletter[-1]:\n",
    "            validletter.extend(스킵_not[d+1:d+1+count+1])\n",
    "            break\n",
    "    print('validletter3 is:', validletter)\n",
    "    # 암호 해제한 letter 정의\n",
    "    letter = validletter[index]\n",
    "    # 암호 해제한 letter 정답값에 추가\n",
    "    answer.append(letter)\n",
    "    # count 초기화\n",
    "    count = 0\n",
    "''.join(answer)"
   ]
  },
  {
   "cell_type": "code",
   "execution_count": null,
   "metadata": {},
   "outputs": [],
   "source": []
  }
 ],
 "metadata": {
  "kernelspec": {
   "display_name": "Python 3",
   "language": "python",
   "name": "python3"
  },
  "language_info": {
   "codemirror_mode": {
    "name": "ipython",
    "version": 3
   },
   "file_extension": ".py",
   "mimetype": "text/x-python",
   "name": "python",
   "nbconvert_exporter": "python",
   "pygments_lexer": "ipython3",
   "version": "3.9.13"
  }
 },
 "nbformat": 4,
 "nbformat_minor": 2
}
