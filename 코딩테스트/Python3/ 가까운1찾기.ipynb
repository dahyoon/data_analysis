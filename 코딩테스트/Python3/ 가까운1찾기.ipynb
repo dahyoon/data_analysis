{
 "cells": [
  {
   "cell_type": "code",
   "execution_count": 36,
   "metadata": {},
   "outputs": [],
   "source": [
    "# arr = [0, 0, 0, 1]\t\n",
    "# idx = 1\n",
    "# result = 3\n",
    "\n",
    "# arr = [1, 0, 0, 1, 0, 0]\t\n",
    "# idx = 4\n",
    "# result = -1\n",
    "\n",
    "arr = [1, 1, 1, 1, 0]\n",
    "idx = 3\t\n",
    "result = 3"
   ]
  },
  {
   "cell_type": "code",
   "execution_count": 42,
   "metadata": {},
   "outputs": [],
   "source": [
    "def solution(arr, idx):\n",
    "    for a in range(idx, len(arr)):\n",
    "        if arr[a] == 1:\n",
    "            return a\n",
    "        else:\n",
    "            if a == len(arr) -1:\n",
    "                return -1\n",
    "            else:\n",
    "                continue"
   ]
  },
  {
   "cell_type": "code",
   "execution_count": 43,
   "metadata": {},
   "outputs": [
    {
     "data": {
      "text/plain": [
       "3"
      ]
     },
     "execution_count": 43,
     "metadata": {},
     "output_type": "execute_result"
    }
   ],
   "source": [
    "solution(arr, idx)"
   ]
  }
 ],
 "metadata": {
  "kernelspec": {
   "display_name": "Python 3",
   "language": "python",
   "name": "python3"
  },
  "language_info": {
   "codemirror_mode": {
    "name": "ipython",
    "version": 3
   },
   "file_extension": ".py",
   "mimetype": "text/x-python",
   "name": "python",
   "nbconvert_exporter": "python",
   "pygments_lexer": "ipython3",
   "version": "3.9.13"
  }
 },
 "nbformat": 4,
 "nbformat_minor": 2
}
