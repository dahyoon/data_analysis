{
 "cells": [
  {
   "cell_type": "code",
   "execution_count": 102,
   "metadata": {},
   "outputs": [],
   "source": [
    "n = 3\n",
    "words = [\"tank\", \"kick\", \"know\", \"wheel\", \"land\", \"dream\", \"mother\", \"robot\", \"tank\"]\n",
    "result = [3,3]\n",
    "\n",
    "# n = 5\n",
    "# words = [\"hello\", \"observe\", \"effect\", \"take\", \"either\", \"recognize\", \"encourage\", \"ensure\", \"establish\", \"hang\", \"gather\", \"refer\", \"reference\", \"estimate\", \"executive\"]\n",
    "# result = [0,0]\n",
    "\n",
    "# n = 2\n",
    "# words = [\"hello\", \"one\", \"even\", \"never\", \"now\", \"world\", \"draw\"]\n",
    "# result = [1,3]"
   ]
  },
  {
   "cell_type": "code",
   "execution_count": 116,
   "metadata": {},
   "outputs": [
    {
     "data": {
      "text/plain": [
       "[3, 3]"
      ]
     },
     "execution_count": 116,
     "metadata": {},
     "output_type": "execute_result"
    }
   ],
   "source": [
    "def solution(n, words):\n",
    "    answer = [words[0]]\n",
    "    for a in range(1, len(words)):\n",
    "        if words[a] not in answer:\n",
    "            answer.append(words[a])\n",
    "            if words[a-1][-1] != words[a][0]:\n",
    "                print(a)\n",
    "                if (a+1)%n == 0:\n",
    "                    number = n\n",
    "                else:\n",
    "                    number = (a+1)%n\n",
    "                round = len(answer)//n + 1\n",
    "                return [number, round]\n",
    "        else:\n",
    "            if (a+1)%n == 0:\n",
    "                number = n\n",
    "            else:\n",
    "                number = (a+1)%n\n",
    "            round = len(answer)//n + 1\n",
    "            return [number, round]\n",
    "    if len(answer) == len(words):\n",
    "        return [0,0]"
   ]
  }
 ],
 "metadata": {
  "kernelspec": {
   "display_name": "Python 3",
   "language": "python",
   "name": "python3"
  },
  "language_info": {
   "codemirror_mode": {
    "name": "ipython",
    "version": 3
   },
   "file_extension": ".py",
   "mimetype": "text/x-python",
   "name": "python",
   "nbconvert_exporter": "python",
   "pygments_lexer": "ipython3",
   "version": "3.9.13"
  }
 },
 "nbformat": 4,
 "nbformat_minor": 2
}
