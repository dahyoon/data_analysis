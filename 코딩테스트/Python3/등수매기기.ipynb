{
 "cells": [
  {
   "cell_type": "code",
   "execution_count": 46,
   "metadata": {},
   "outputs": [
    {
     "name": "stdout",
     "output_type": "stream",
     "text": [
      "list_1[a] is: 100.0\n",
      "list_1[a+1] is: 95.0\n",
      "등수: 1\n",
      "list_1[a] is: 95.0\n",
      "list_1[a+1] is: 95.0\n",
      "등수: 2\n",
      "list_1[a] is: 95.0\n",
      "list_1[a+1] is: 75.0\n",
      "등수: 2\n",
      "list_1[a] is: 75.0\n",
      "list_1[a+1] is: 75.0\n",
      "등수: 4\n",
      "list_1[a] is: 75.0\n",
      "list_1[a+1] is: 40.0\n",
      "등수: 4\n",
      "list_1[a] is: 40.0\n",
      "list_1[a+1] is: 20.0\n",
      "등수: 6\n"
     ]
    },
    {
     "data": {
      "text/plain": [
       "[4, 4, 6, 2, 2, 1, 7]"
      ]
     },
     "execution_count": 46,
     "metadata": {},
     "output_type": "execute_result"
    }
   ],
   "source": [
    "# score = [[80, 70], [90, 50], [40, 70], [50, 80]]\t\n",
    "# result = [1, 2, 4, 3]\n",
    "\n",
    "score = [[80, 70], [70, 80], [30, 50], [90, 100], [100, 90], [100, 100], [10, 30]]\t\n",
    "result = [4, 4, 6, 2, 2, 1, 7]\n",
    "\n",
    "\n",
    "average_list = []\n",
    "for a in range(len(score)):\n",
    "    eng = score[a][0]\n",
    "    math = score[a][1]\n",
    "    average = (eng + math) / 2\n",
    "    average_list.append(average)\n",
    "list_1= average_list.copy()\n",
    "list_1.sort(reverse = True)\n",
    "dict_1 = {}\n",
    "등수 = 1\n",
    "for a in range(len(list_1)):\n",
    "    if a != len(list_1)-1:\n",
    "        if list_1[a] > list_1[a+1]:\n",
    "            print('list_1[a] is:', list_1[a])\n",
    "            print('list_1[a+1] is:', list_1[a+1])\n",
    "            dict_1[list_1[a]] = 등수\n",
    "            print('등수:', 등수)\n",
    "            등수 += list_1.count(list_1[a])\n",
    "        elif list_1[a] == list_1[a+1]:\n",
    "            print('list_1[a] is:', list_1[a])\n",
    "            print('list_1[a+1] is:', list_1[a+1])\n",
    "            dict_1[list_1[a]] = 등수\n",
    "            print('등수:', 등수)\n",
    "    else:\n",
    "        dict_1[list_1[a]] = 등수\n",
    "dict_1\n",
    "등수_list = []\n",
    "for a in range(len(average_list)):\n",
    "    등수_list.append(dict_1[average_list[a]])\n",
    "등수_list\n"
   ]
  },
  {
   "cell_type": "code",
   "execution_count": null,
   "metadata": {},
   "outputs": [],
   "source": [
    "def solution(score):\n",
    "    a = sorted([sum(i) for i in score], reverse = True)\n",
    "    return [a.index(sum(i))+1 for i in score]"
   ]
  }
 ],
 "metadata": {
  "kernelspec": {
   "display_name": "Python 3",
   "language": "python",
   "name": "python3"
  },
  "language_info": {
   "codemirror_mode": {
    "name": "ipython",
    "version": 3
   },
   "file_extension": ".py",
   "mimetype": "text/x-python",
   "name": "python",
   "nbconvert_exporter": "python",
   "pygments_lexer": "ipython3",
   "version": "3.9.13"
  }
 },
 "nbformat": 4,
 "nbformat_minor": 2
}
