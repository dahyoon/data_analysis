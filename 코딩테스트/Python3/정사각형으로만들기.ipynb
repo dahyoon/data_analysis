{
 "cells": [
  {
   "cell_type": "code",
   "execution_count": 26,
   "metadata": {},
   "outputs": [],
   "source": [
    "arr = [[572, 22, 37], [287, 726, 384], [85, 137, 292], [487, 13, 876]]\t\n",
    "result = [[572, 22, 37, 0], [287, 726, 384, 0], [85, 137, 292, 0], [487, 13, 876, 0]]\n",
    "\n",
    "# arr = [[57, 192, 534, 2], [9, 345, 192, 999]]\t\n",
    "# result = [[57, 192, 534, 2], [9, 345, 192, 999], [0, 0, 0, 0], [0, 0, 0, 0]]\n",
    "\n",
    "# arr = [[1, 2], [3, 4]]\n",
    "# result = [[1, 2], [3, 4]]"
   ]
  },
  {
   "cell_type": "code",
   "execution_count": 27,
   "metadata": {},
   "outputs": [
    {
     "name": "stdout",
     "output_type": "stream",
     "text": [
      "[[572, 22, 37, 0], [287, 726, 384, 0], [85, 137, 292, 0], [487, 13, 876, 0]]\n"
     ]
    }
   ],
   "source": [
    "\n",
    "if len(arr) > len(arr[0]):\n",
    "    for a in range(len(arr)):\n",
    "        for b in range(len(arr) - len(arr[a])):\n",
    "            arr[a].extend([0])\n",
    "elif len(arr) < len(arr[0]):\n",
    "    for a in range(len(arr[0])-len(arr)):\n",
    "        list = []\n",
    "        for b in range(len(arr[0])):\n",
    "            list.append(0)\n",
    "        arr.append(list)\n",
    "elif len(arr) == len(arr[0]):\n",
    "    pass\n",
    "print(arr)"
   ]
  },
  {
   "cell_type": "code",
   "execution_count": 12,
   "metadata": {},
   "outputs": [
    {
     "data": {
      "text/plain": [
       "[1, 2, 0]"
      ]
     },
     "execution_count": 12,
     "metadata": {},
     "output_type": "execute_result"
    }
   ],
   "source": [
    "are = [1, 2]\n",
    "are.append(0)\n",
    "are"
   ]
  },
  {
   "cell_type": "code",
   "execution_count": null,
   "metadata": {},
   "outputs": [],
   "source": []
  }
 ],
 "metadata": {
  "kernelspec": {
   "display_name": "Python 3",
   "language": "python",
   "name": "python3"
  },
  "language_info": {
   "codemirror_mode": {
    "name": "ipython",
    "version": 3
   },
   "file_extension": ".py",
   "mimetype": "text/x-python",
   "name": "python",
   "nbconvert_exporter": "python",
   "pygments_lexer": "ipython3",
   "version": "3.9.13"
  },
  "orig_nbformat": 4
 },
 "nbformat": 4,
 "nbformat_minor": 2
}
