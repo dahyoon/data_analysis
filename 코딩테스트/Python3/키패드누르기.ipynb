{
 "cells": [
  {
   "cell_type": "code",
   "execution_count": 1,
   "metadata": {},
   "outputs": [],
   "source": [
    "from pandas import DataFrame\n",
    "\n",
    "def solution(numbers, hand):\n",
    "    answer = []\n",
    "    L_1_dist = {2:1, 5:2, 8:3, 0:4}\n",
    "    L_4_dist = {2:2, 5:1, 8:2, 0:3}\n",
    "    L_7_dist = {2:3, 5:2, 8:1, 0:2}\n",
    "    L_start_dist = {2:4, 5:3, 8:2, 0:1}\n",
    "    L_2_dist = {2:0, 5:1, 8:2, 0:3}\n",
    "    L_5_dist = {2:1, 5:0, 8:1, 0:2}\n",
    "    L_8_dist = {2:2, 5:1, 8:0, 0:1}\n",
    "    L_0_dist = {2:3, 5:2, 8:1, 0:0}\n",
    "    R_3_dist = {2:1, 5:2, 8:3, 0:4}\n",
    "    R_6_dist = {2:2, 5:1, 8:2, 0:3}\n",
    "    R_9_dist = {2:3, 5:2, 8:1, 0:2}\n",
    "    R_start_dist = {2:4, 5:3, 8:2, 0:1}\n",
    "    R_2_dist = {2:0, 5:1, 8:2, 0:3}\n",
    "    R_5_dist = {2:1, 5:0, 8:1, 0:2}\n",
    "    R_8_dist = {2:2, 5:1, 8:0, 0:1}\n",
    "    R_0_dist = {2:3, 5:2, 8:1, 0:0}\n",
    "\n",
    "    L_dist = DataFrame([L_1_dist,\n",
    "                        L_4_dist,\n",
    "                        L_7_dist,\n",
    "                        L_start_dist,\n",
    "                        L_2_dist,\n",
    "                        L_5_dist,\n",
    "                        L_8_dist,\n",
    "                        L_0_dist]).rename(index={0: 1,\n",
    "                                                   1: 4,\n",
    "                                                   2: 7,\n",
    "                                                   3: 99,   # 99는 시작점을 의미\n",
    "                                                   4: 2,\n",
    "                                                   5: 5,\n",
    "                                                   6: 8,\n",
    "                                                   7: 0}).sort_index()\n",
    "    R_dist = DataFrame([R_3_dist,\n",
    "                        R_6_dist,\n",
    "                        R_9_dist,\n",
    "                        R_start_dist,\n",
    "                        R_2_dist,\n",
    "                        R_5_dist,\n",
    "                        R_8_dist,\n",
    "                        R_0_dist]).rename(index={0: 3,\n",
    "                                                   1: 6,\n",
    "                                                   2: 9,\n",
    "                                                   3: 99,   # 99는 시작점을 의미\n",
    "                                                   4: 2,\n",
    "                                                   5: 5,\n",
    "                                                   6: 8,\n",
    "                                                   7: 0}).sort_index()\n",
    "\n",
    "    L_place = 99\n",
    "    R_place = 99\n",
    "    for a in range(len(numbers)):\n",
    "        if numbers[a] in [1, 4, 7]:\n",
    "            answer.append('L')\n",
    "            L_place = numbers[a]\n",
    "        elif numbers[a] in [3, 6, 9]:\n",
    "            answer.append('R')\n",
    "            R_place = numbers[a]\n",
    "        elif numbers[a] in [2, 5, 8, 0]:\n",
    "            if a == 0:\n",
    "                if hand == 'left':\n",
    "                    answer.append('L')\n",
    "                    L_place = numbers[a]\n",
    "                else:\n",
    "                    answer.append('R')\n",
    "                    R_place = numbers[a]\n",
    "            else:\n",
    "                if L_dist[numbers[a]][L_place] == R_dist[numbers[a]][R_place]: \n",
    "                    if hand == 'left':\n",
    "                        answer.append('L')\n",
    "                        L_place = numbers[a]\n",
    "                    else:\n",
    "                        answer.append('R')\n",
    "                        R_place = numbers[a]\n",
    "                elif L_dist[numbers[a]][L_place] < R_dist[numbers[a]][R_place]:\n",
    "                    answer.append('L')\n",
    "                    L_place = numbers[a]\n",
    "                else:\n",
    "                    answer.append('R')\n",
    "                    R_place = numbers[a]\n",
    "\n",
    "    final_answer = ''.join(answer)\n",
    "    final_answer\n",
    "    return final_answer"
   ]
  },
  {
   "cell_type": "code",
   "execution_count": 3,
   "metadata": {},
   "outputs": [
    {
     "data": {
      "text/plain": [
       "'LRLLLRLLRRL'"
      ]
     },
     "execution_count": 3,
     "metadata": {},
     "output_type": "execute_result"
    }
   ],
   "source": [
    "numbers = [1, 3, 4, 5, 8, 2, 1, 4, 5, 9, 5]\n",
    "hand = \"right\"\t\n",
    "# numbers = [7, 0, 8, 2, 8, 3, 1, 5, 7, 6, 2]\t\n",
    "# hand =  \"left\"\n",
    "# numbers = [1, 2, 3, 4, 5, 6, 7, 8, 9, 0]\t\n",
    "# hand = \"right\"\n",
    "solution(numbers, hand)"
   ]
  }
 ],
 "metadata": {
  "kernelspec": {
   "display_name": "Python 3",
   "language": "python",
   "name": "python3"
  },
  "language_info": {
   "codemirror_mode": {
    "name": "ipython",
    "version": 3
   },
   "file_extension": ".py",
   "mimetype": "text/x-python",
   "name": "python",
   "nbconvert_exporter": "python",
   "pygments_lexer": "ipython3",
   "version": "3.11.3"
  },
  "orig_nbformat": 4
 },
 "nbformat": 4,
 "nbformat_minor": 2
}
