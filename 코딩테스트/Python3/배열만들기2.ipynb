{
 "cells": [
  {
   "cell_type": "code",
   "execution_count": 39,
   "metadata": {},
   "outputs": [],
   "source": [
    "l = 5\n",
    "r = 555\n",
    "result = [5, 50, 55, 500, 505, 550, 555]\n",
    "\n",
    "# l = 10\n",
    "# r = 20\n",
    "# result = [-1]"
   ]
  },
  {
   "cell_type": "code",
   "execution_count": 54,
   "metadata": {},
   "outputs": [
    {
     "name": "stdout",
     "output_type": "stream",
     "text": [
      "<built-in method sort of list object at 0x105e2a2c0>\n"
     ]
    }
   ],
   "source": [
    "정답 = []\n",
    "for num_1 in range(l, r+1):\n",
    "    if len(set(list(str(num_1))) - {'5', '0'}) == 0:\n",
    "        정답.append(num_1)\n",
    "\n",
    "if len(정답) == 0:\n",
    "    print([-1])\n",
    "else:\n",
    "    print(정답.sort)"
   ]
  },
  {
   "cell_type": "code",
   "execution_count": 53,
   "metadata": {},
   "outputs": [
    {
     "data": {
      "text/plain": [
       "[5, 50, 55, 500, 505, 550, 555]"
      ]
     },
     "execution_count": 53,
     "metadata": {},
     "output_type": "execute_result"
    }
   ],
   "source": [
    "정답"
   ]
  }
 ],
 "metadata": {
  "kernelspec": {
   "display_name": "Python 3",
   "language": "python",
   "name": "python3"
  },
  "language_info": {
   "codemirror_mode": {
    "name": "ipython",
    "version": 3
   },
   "file_extension": ".py",
   "mimetype": "text/x-python",
   "name": "python",
   "nbconvert_exporter": "python",
   "pygments_lexer": "ipython3",
   "version": "3.9.13"
  }
 },
 "nbformat": 4,
 "nbformat_minor": 2
}
