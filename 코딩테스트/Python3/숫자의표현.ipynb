{
 "cells": [
  {
   "cell_type": "code",
   "execution_count": 38,
   "metadata": {},
   "outputs": [],
   "source": [
    "n = 15\n",
    "result = 4"
   ]
  },
  {
   "cell_type": "code",
   "execution_count": 69,
   "metadata": {},
   "outputs": [
    {
     "data": {
      "text/plain": [
       "4"
      ]
     },
     "execution_count": 69,
     "metadata": {},
     "output_type": "execute_result"
    }
   ],
   "source": [
    "result = 1\n",
    "num = ['1']\n",
    "if n > 1:\n",
    "    for a in range(2, n + 1):\n",
    "        num.append('+')\n",
    "        num.append(str(a))\n",
    "for a in range(0, len(num)-1, 2):\n",
    "    for b in range(2, len(num), 2):\n",
    "        if b > a:\n",
    "            answer = eval(''.join(num[a: b+1]))\n",
    "            if answer == n:\n",
    "                result += 1\n",
    "result"
   ]
  }
 ],
 "metadata": {
  "kernelspec": {
   "display_name": "Python 3",
   "language": "python",
   "name": "python3"
  },
  "language_info": {
   "codemirror_mode": {
    "name": "ipython",
    "version": 3
   },
   "file_extension": ".py",
   "mimetype": "text/x-python",
   "name": "python",
   "nbconvert_exporter": "python",
   "pygments_lexer": "ipython3",
   "version": "3.9.13"
  }
 },
 "nbformat": 4,
 "nbformat_minor": 2
}
