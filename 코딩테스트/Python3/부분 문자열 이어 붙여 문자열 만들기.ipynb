{
 "cells": [
  {
   "cell_type": "code",
   "execution_count": 26,
   "metadata": {},
   "outputs": [],
   "source": [
    "my_strings = [\"progressive\", \"hamburger\", \"hammer\", \"ahocorasick\"]\t\n",
    "parts = [[0, 4], [1, 2], [3, 5], [7, 7]]\t\n",
    "result = \"programmers\""
   ]
  },
  {
   "cell_type": "code",
   "execution_count": 32,
   "metadata": {},
   "outputs": [
    {
     "name": "stdout",
     "output_type": "stream",
     "text": [
      "programmers\n"
     ]
    }
   ],
   "source": [
    "list = []\n",
    "for a in range(len(my_strings)):\n",
    "    for b in range(len(parts)):\n",
    "        if a == b:\n",
    "            start, end = parts[b]\n",
    "            list.append(my_strings[a][start: end+1])\n",
    "        else:\n",
    "            pass\n",
    "print(''.join(list))\n"
   ]
  },
  {
   "cell_type": "code",
   "execution_count": 33,
   "metadata": {},
   "outputs": [],
   "source": [
    "def solution(my_strings, parts):\n",
    "    list = []\n",
    "    for a, (b, c) in enumerate(parts):\n",
    "        list.append(my_strings[a][b: c+1])\n",
    "    return ''.join(list)"
   ]
  },
  {
   "cell_type": "code",
   "execution_count": 34,
   "metadata": {},
   "outputs": [
    {
     "data": {
      "text/plain": [
       "'programmers'"
      ]
     },
     "execution_count": 34,
     "metadata": {},
     "output_type": "execute_result"
    }
   ],
   "source": [
    "solution(my_strings, parts)"
   ]
  }
 ],
 "metadata": {
  "kernelspec": {
   "display_name": "Python 3",
   "language": "python",
   "name": "python3"
  },
  "language_info": {
   "codemirror_mode": {
    "name": "ipython",
    "version": 3
   },
   "file_extension": ".py",
   "mimetype": "text/x-python",
   "name": "python",
   "nbconvert_exporter": "python",
   "pygments_lexer": "ipython3",
   "version": "3.9.13"
  }
 },
 "nbformat": 4,
 "nbformat_minor": 2
}
