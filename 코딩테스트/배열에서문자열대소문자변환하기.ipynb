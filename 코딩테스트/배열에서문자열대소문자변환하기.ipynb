{
 "cells": [
  {
   "cell_type": "code",
   "execution_count": 2,
   "metadata": {},
   "outputs": [
    {
     "name": "stdout",
     "output_type": "stream",
     "text": [
      "aaa\n",
      "ccc\n"
     ]
    },
    {
     "data": {
      "text/plain": [
       "['aaa', 'BBB', 'ccc', 'DDD']"
      ]
     },
     "execution_count": 2,
     "metadata": {},
     "output_type": "execute_result"
    }
   ],
   "source": [
    "strArr = [\"AAA\",\"BBB\",\"CCC\",\"DDD\"]\t\n",
    "\n",
    "new_list = []\n",
    "for index in range(len(strArr)):\n",
    "    if index%2 == 0:\n",
    "        new_str = strArr[index].lower()\n",
    "        print(new_str)\n",
    "        new_list.append(new_str)\n",
    "    else:\n",
    "        new_str = strArr[index].upper()\n",
    "        new_list.append(new_str)\n",
    "new_list"
   ]
  }
 ],
 "metadata": {
  "kernelspec": {
   "display_name": "Python 3",
   "language": "python",
   "name": "python3"
  },
  "language_info": {
   "codemirror_mode": {
    "name": "ipython",
    "version": 3
   },
   "file_extension": ".py",
   "mimetype": "text/x-python",
   "name": "python",
   "nbconvert_exporter": "python",
   "pygments_lexer": "ipython3",
   "version": "3.9.13"
  }
 },
 "nbformat": 4,
 "nbformat_minor": 2
}
