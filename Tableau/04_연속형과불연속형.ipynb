{
 "cells": [
  {
   "cell_type": "markdown",
   "metadata": {},
   "source": [
    "# 연속형과 불연속형 (Continuous and Discrete)\n",
    "> 참조: https://vizlab.tistory.com/34<br>\n",
    "> https://vizlab.tistory.com/35<br>\n",
    "> https://vizlab.tistory.com/36\n",
    "\n",
    "## 1. 연속형이란\n",
    "- 정의\n",
    "    - 방해 없이 나누어지지 않는 전체 (forming an unbroken whole without interruption)\n",
    "    <img src=\"image31_relationship.png\" width=\"40%\">\n",
    "\n",
    "## 2. 불연속형\n",
    "- 정의\n",
    "    - 각각 나누어지고 구별됨 (individually separate and distinct)\n",
    "\n",
    "## 3. 화면에서의 표현\n",
    "### 1) 초록색 알약 (Green Pill) vs. 파란색 알약 (Blue Pill)\n",
    "- 매출 = 초록색 알약 (연속형), 고객 구분 = 파란색 알약 (불연속형)<br>\n",
    "<img src=\"image27_pills.png\" width=\"30%\">\n",
    "### 2) 축 vs. 레이블 리스트 (axis vs. list with labels)\n",
    "- 좌측이 연속형, 우측이 불연속형<br>\n",
    "<img src=\"image30_axis.png\" width=\"50%\">\n",
    "### 3) 그라데이션 vs. 다른 계열의 색상 (Gradient vs. Distinct Colors)\n",
    "- 연속형 필드를 마크 카드 색상에 올리면 색상이 1 또는 2가지 색상이 톤을 다르게 하여 표현됨<br>\n",
    "<img src=\"image28_gradient.png\" width=\"50%\">\n",
    "- 불연속형 필드를 마크 카드 색생에 올리면 완전히 다른 컬러로 구별됨<br>\n",
    "<img src=\"image29_discrete.png\" width=\"50%\"><br>\n",
    "### 4) 범주형 필터 vs. 범위 설정 (Categorical Filter vs. Range Scope)"
   ]
  },
  {
   "cell_type": "markdown",
   "metadata": {},
   "source": []
  }
 ],
 "metadata": {
  "language_info": {
   "name": "python"
  }
 },
 "nbformat": 4,
 "nbformat_minor": 2
}
