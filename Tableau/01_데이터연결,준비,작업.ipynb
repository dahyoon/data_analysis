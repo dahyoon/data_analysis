{
 "cells": [
  {
   "cell_type": "markdown",
   "metadata": {},
   "source": [
    "# Tableau\n",
    "- Tableau Public 다운로드 받기\n",
    "## 1. 데이터 연결하기\n",
    "- 불러오기 가능한 파일 종류:\n",
    "    - excel, text, json, pdf, spacia 공간(shape), statistical 통계(r, spss, sass)\n",
    "- server에서 불러오기도 가능\n",
    "    - 일부 서버는 드라이브 설치 필요 -> tableau help의 도움을 받아 설치 후 접속 가능"
   ]
  },
  {
   "cell_type": "markdown",
   "metadata": {},
   "source": []
  }
 ],
 "metadata": {
  "language_info": {
   "name": "python"
  }
 },
 "nbformat": 4,
 "nbformat_minor": 2
}
