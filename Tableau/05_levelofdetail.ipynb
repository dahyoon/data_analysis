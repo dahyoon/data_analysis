{
 "cells": [
  {
   "cell_type": "markdown",
   "metadata": {},
   "source": [
    "# Level of Detail\n",
    "> 참조: https://vizlab.tistory.com/37 <br>\n",
    "\n",
    "목차:\n",
    "1. Tableau vs. Excel\n",
    "- 태블로와 엑셀의 차이점\n",
    "2. Aggretation in Tableau\n",
    "- 태블로가 작동하는 핵심적인 원리인 Level of Detail의 개념\n",
    "3. Data Investigation in Tableau\n",
    "- 위 개념을 바탕으로 태블로에서 데이터를 탐색하는 기법 몇 가지"
   ]
  },
  {
   "cell_type": "markdown",
   "metadata": {},
   "source": [
    "## 1. 태블로 vs. 엑셀\n",
    "|종류|태블로|엑셀|\n",
    "|--|--|--|\n",
    "|툴의 본질|데이터 시각화 도구|데이터 원본 그 자체 or 스프레드 시트|\n",
    "|표현 방식|차트/그래프 중심|표/테이블 중심|\n",
    "|편집 방식|데이터 원본 편집 불가|데이터 원본 편집 가능|\n",
    "|계산 방식|측정값 집계(sum, avg, min, max 등)|측정값 있는 그대로 (row level에서)|\n",
    "\n",
    "## 2. Aggregation\n",
    "- 태블로는 `집계`한다\n",
    "- 태블로는 빠른 summary를 제공한다\n",
    "- 태블로는 항상 집계하기 때문에 데이터를 어느 수준의 depth, detail, granularity로 썰어서 볼 지 결정하여야 한다\n",
    "- 즉, 태블로는 슬라이스의 예술\n",
    "- 잘라진 하나의 데이터의 의미를 찾기 위해서, 전체 데이터셋을 한 줄 한 줄로 나누어줄 수 있는 `필드` 또는 `필드의 조합`을 찾아야한다.\n",
    "\n",
    "## 3. Data Investigation\n",
    "### 가져야하는 질문들:\n",
    "1) 데이터셋은 몇 개의 행과 몇 개의 열로 구성되어 있나요? (크기)\n",
    "2) 각 행(row)이 의미하는 바가 무엇인가요?\n",
    "#### 1) 단 하나의 필드로 데이터셋의 최종 디테일까지 분기할 수 있는 경우\n",
    "- 예) Dental Magic HR. Olist Orders\n",
    "#### 2) 몇 개의 필드를 조합하여 데이터셋의 최종 디테일까지 분기할 수 있는 경우\n",
    "- 예) KCB 금융 데이터, World Indicators\n",
    "#### 3) 어떤 필드를 조합하더라도, 데이터셋의 최종 디테일까지 분기할 수 없는 경우\n",
    "- 예) Google Play Apps, Sample-Superstore\n"
   ]
  },
  {
   "cell_type": "code",
   "execution_count": null,
   "metadata": {},
   "outputs": [],
   "source": []
  }
 ],
 "metadata": {
  "language_info": {
   "name": "python"
  }
 },
 "nbformat": 4,
 "nbformat_minor": 2
}
