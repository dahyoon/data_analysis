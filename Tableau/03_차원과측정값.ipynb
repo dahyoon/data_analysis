{
 "cells": [
  {
   "cell_type": "markdown",
   "metadata": {},
   "source": [
    "# 차원과 측정값 (Dimension and Measure)\n",
    "> 참조: https://vizlab.tistory.com/33\n",
    "## 1. 측정값이란\n",
    "- 정의\n",
    "    - Measure\n",
    "    - 우리의 `관심을 받는 대상`그 자체\n",
    "    - 예) '나는 우리 학급 학생들의 키를 분석할거야'에서 `키`가 측정값\n",
    "    - 얘) '나는 우리 회사 매출액을 검토할거야'에서 `매출액`이 측정값\n",
    "## 2. 차원이란\n",
    "- 정의 \n",
    "    - Dimension\n",
    "    - 우리가 관심을 가지는 측정값을 `어떻게 썰어서 볼 것`인가, 즉 `관점의 문제`\n",
    "    - 예) '나는 우리 학급 학생들의 남자와 여자 즉, 성별을 기준으로 키를 분석할거야'에서 `성별`이 차원\n",
    "    - 예) '나는 우리 회사 매출액을 월별로 검토할거야'에서 `월`이 차원"
   ]
  },
  {
   "cell_type": "markdown",
   "metadata": {},
   "source": []
  }
 ],
 "metadata": {
  "language_info": {
   "name": "python"
  }
 },
 "nbformat": 4,
 "nbformat_minor": 2
}
