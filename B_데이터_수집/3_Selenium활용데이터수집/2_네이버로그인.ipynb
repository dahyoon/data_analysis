{
 "cells": [
  {
   "attachments": {},
   "cell_type": "markdown",
   "metadata": {},
   "source": [
    "# 네이버 로그인\n",
    "\n",
    "## 1. 패키지 참조"
   ]
  },
  {
   "cell_type": "code",
   "execution_count": 1,
   "metadata": {
    "tags": []
   },
   "outputs": [],
   "source": [
    "# ChromeDriver 자동 설치 모듈\n",
    "import chromedriver_autoinstaller\n",
    "# Chrome을 제어하기 위한 객체\n",
    "from selenium import webdriver\n",
    "# Chrome이 웹 페이지 로딩을 완료 할 때까지 최대 n초간 대기하는 기능\n",
    "from selenium.webdriver.support.ui import WebDriverWait\n",
    "from selenium.webdriver.common.by import By\n",
    "from bs4 import BeautifulSoup\n",
    "from pandas import DataFrame\n",
    "# 파이썬 프로그램에 지정된 시간동안 랙을 거는 기능을 위해 사용\n",
    "import time"
   ]
  },
  {
   "attachments": {},
   "cell_type": "markdown",
   "metadata": {},
   "source": [
    "## 2. 크롬브라우저 가동하기"
   ]
  },
  {
   "cell_type": "code",
   "execution_count": 2,
   "metadata": {},
   "outputs": [],
   "source": [
    "# 크롬드라이버 자동 설치\n",
    "chromedriver_autoinstaller.install()\n",
    "\n",
    "# 크롬드라이버를 통해 크롬을 실행시킴\n",
    "# -> driver 객체는 Chrome 자체\n",
    "driver = webdriver.Chrome()\n",
    "\n",
    "# 크롬브라우저가 준비될 때까지 최대 5초씩 대기\n",
    "driver.implicitly_wait(5)"
   ]
  },
  {
   "attachments": {},
   "cell_type": "markdown",
   "metadata": {},
   "source": [
    "## 3. 크롬브라우저의 페이지 이동"
   ]
  },
  {
   "cell_type": "code",
   "execution_count": 28,
   "metadata": {},
   "outputs": [],
   "source": [
    "# 네이버 로그인 페이지로 이동 \n",
    "driver.get(\"https://nid.naver.com/nidlogin.login?mode=form&url=https://www.naver.com/\")\n",
    "# 페이지 로딩이 완료될 때까지 1초간 대기 \n",
    "time.sleep(1)"
   ]
  },
  {
   "attachments": {},
   "cell_type": "markdown",
   "metadata": {},
   "source": [
    "## 4. 아이디와 비밀번호 입력"
   ]
  },
  {
   "cell_type": "code",
   "execution_count": 29,
   "metadata": {},
   "outputs": [],
   "source": [
    "# 최대 3초까지 대기 하면서 id속성값이 `id`인 요소를 찾아서 id_input에 저장\n",
    "id_input = WebDriverWait(driver, 3).until(lambda x: x.find_element(By.CSS_SELECTOR,\"#id\"))\n",
    "\n",
    "# id_input에 키보드 입력을 전달 \n",
    "id_input.send_keys(\"자신의 is\")\n",
    "\n",
    "# 같은 방식으로 비밀번호 입력 \n",
    "pw_input = WebDriverWait(driver, 3).until(\n",
    "    lambda x: x.find_element(By.CSS_SELECTOR, \"#pw\"))\n",
    "pw_input.send_keys(\"자신의 pw\")\n",
    "\n",
    "# 같은 방식으로 버튼객체 취득\n",
    "login_button = WebDriverWait(driver, 3).until(\n",
    "    lambda x: x.find_element(By.CSS_SELECTOR, \".btn_login\")) \n",
    "\n",
    "# 버튼을 클릭함 \n",
    "login_button.click() \n",
    "\n",
    "# 로그인이 처리되는 동안 3초간 대기 \n",
    "time.sleep(3)"
   ]
  },
  {
   "attachments": {},
   "cell_type": "markdown",
   "metadata": {},
   "source": [
    "## 5. 로그인 시에만 접근 가능한 페이지로 이동"
   ]
  },
  {
   "cell_type": "code",
   "execution_count": 30,
   "metadata": {},
   "outputs": [],
   "source": [
    "driver.get('https://order.pay.naver.com/home')\n",
    "time.sleep(1)"
   ]
  }
 ],
 "metadata": {
  "kernelspec": {
   "display_name": "Python 3",
   "language": "python",
   "name": "python3"
  },
  "language_info": {
   "codemirror_mode": {
    "name": "ipython",
    "version": 3
   },
   "file_extension": ".py",
   "mimetype": "text/x-python",
   "name": "python",
   "nbconvert_exporter": "python",
   "pygments_lexer": "ipython3",
   "version": "3.11.3"
  },
  "orig_nbformat": 4
 },
 "nbformat": 4,
 "nbformat_minor": 2
}
