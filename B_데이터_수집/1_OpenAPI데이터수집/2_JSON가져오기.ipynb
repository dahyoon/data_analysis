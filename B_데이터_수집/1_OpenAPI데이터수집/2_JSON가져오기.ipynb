{
 "cells": [
  {
   "attachments": {},
   "cell_type": "markdown",
   "metadata": {},
   "source": [
    "# JSON 가져오기\n",
    "\n",
    "- 웹 브라우저에서 json 형태의 파일을 보기 좋게 보려면 google에서 `chrome 웹 스토어`에 들어가서 `JSONview` (추천이라고 뜨는 것)을 다운받으면 사용자가 보기 편하게 나타날 것\n",
    "\n",
    "## 1. 필요한 모듈 참조"
   ]
  },
  {
   "cell_type": "code",
   "execution_count": 10,
   "metadata": {},
   "outputs": [],
   "source": [
    "# -> 웹 상의 데이터를 요청하는 기능\n",
    "import requests\n",
    "# -> JSON을 딕셔너리로 변환하는 기능(파이썬 내장모듈이기 때문에 설치 불필요)\n",
    "import json"
   ]
  },
  {
   "cell_type": "markdown",
   "metadata": {},
   "source": [
    "## 2. 온라인 상의 URL 객체 생성"
   ]
  },
  {
   "cell_type": "code",
   "execution_count": 12,
   "metadata": {},
   "outputs": [],
   "source": [
    "# 온라인 상의 URL\n",
    "url = 'https://www.kobis.or.kr/kobisopenapi/webservice/rest/boxoffice/searchDailyBoxOfficeList.json?key=6d2cf4aa96725383235c717f2e569f1e&targetDt=20231217'\n",
    "# url = \"https://data.hossam.kr/B01/sample.json\""
   ]
  },
  {
   "cell_type": "markdown",
   "metadata": {},
   "source": [
    "## 3. 접속 객체 생성 및 접속 정보 설정"
   ]
  },
  {
   "cell_type": "code",
   "execution_count": 13,
   "metadata": {},
   "outputs": [],
   "source": [
    "# 접속 객체 생성\n",
    "session = requests.Session()\n",
    "\n",
    "# 접속 정보 설정\n",
    "session.headers.update({\n",
    "    \"Referer\": \"\",\n",
    "    \"User-Agent\": \"Mozilla/5.0 (Windows NT 10.0; Win64; x64) AppleWebKit/537.36 (KHTML, like Gecko) Chrome/114.0.0.0 Safari/537.36\"\n",
    "})"
   ]
  },
  {
   "cell_type": "markdown",
   "metadata": {},
   "source": [
    "## 4. 원하는 웹페이지에 접속"
   ]
  },
  {
   "cell_type": "code",
   "execution_count": 14,
   "metadata": {},
   "outputs": [],
   "source": [
    "# 특정 웹 페이지에 접속\n",
    "r = session.get(url)\n",
    "\n",
    "if r.status_code != 200:\n",
    "    msg = \"[%d Error] %s 에러가 발생함\" % (r.status_code, r.reason)\n",
    "    raise Exception(msg)"
   ]
  },
  {
   "cell_type": "markdown",
   "metadata": {},
   "source": [
    "## 5. 추출"
   ]
  },
  {
   "cell_type": "code",
   "execution_count": 15,
   "metadata": {},
   "outputs": [
    {
     "name": "stdout",
     "output_type": "stream",
     "text": [
      "<class 'str'>\n",
      "{\"boxOfficeResult\":{\"boxofficeType\":\"일별 박스오피스\",\"showRange\":\"20231217~20231217\",\"dailyBoxOfficeList\":[{\"rnum\":\"1\",\"rank\":\"1\",\"rankInten\":\"0\",\"rankOldAndNew\":\"OLD\",\"movieCd\":\"20212866\",\"movieNm\":\"서울의 봄\",\"openDt\":\"2023-11-22\",\"salesAmt\":\"4482576400\",\"salesShare\":\"72.0\",\"salesInten\":\"-545722420\",\"salesChange\":\"-10.9\",\"salesAcc\":\"86502037671\",\"audiCnt\":\"445492\",\"audiInten\":\"-51598\",\"audiChange\":\"-10.4\",\"audiAcc\":\"8940972\",\"scrnCnt\":\"2259\",\"showCnt\":\"8887\"},{\"rnum\":\"2\",\"rank\":\"2\",\"rankInten\":\"0\",\"rankOldAndNew\":\"OLD\",\"movieCd\":\"20234673\",\"movieNm\":\"뽀로로 극장판 슈퍼스타 대모험\",\"openDt\":\"2023-12-13\",\"salesAmt\":\"449388441\",\"salesShare\":\"7.2\",\"salesInten\":\"189653\",\"salesChange\":\"0\",\"salesAcc\":\"1443402598\",\"audiCnt\":\"48800\",\"audiInten\":\"-273\",\"audiChange\":\"-0.6\",\"audiAcc\":\"159720\",\"scrnCnt\":\"850\",\"showCnt\":\"1594\"},{\"rnum\":\"3\",\"rank\":\"3\",\"rankInten\":\"0\",\"rankOldAndNew\":\"OLD\",\"movieCd\":\"20190324\",\"movieNm\":\"3일의 휴가\",\"openDt\":\"2023-12-06\",\"salesAmt\":\"364528712\",\"salesShare\":\"5.9\",\"salesInten\":\"-28905500\",\"salesChange\":\"-7.3\",\"salesAcc\":\"4026993896\",\"audiCnt\":\"36426\",\"audiInten\":\"-2942\",\"audiChange\":\"-7.5\",\"audiAcc\":\"425865\",\"scrnCnt\":\"801\",\"showCnt\":\"1887\"},{\"rnum\":\"4\",\"rank\":\"4\",\"rankInten\":\"0\",\"rankOldAndNew\":\"OLD\",\"movieCd\":\"20234114\",\"movieNm\":\"괴물\",\"openDt\":\"2023-11-29\",\"salesAmt\":\"165084507\",\"salesShare\":\"2.7\",\"salesInten\":\"-13631409\",\"salesChange\":\"-7.6\",\"salesAcc\":\"2778565838\",\"audiCnt\":\"15805\",\"audiInten\":\"-1363\",\"audiChange\":\"-7.9\",\"audiAcc\":\"288601\",\"scrnCnt\":\"401\",\"showCnt\":\"635\"},{\"rnum\":\"5\",\"rank\":\"5\",\"rankInten\":\"1\",\"rankOldAndNew\":\"OLD\",\"movieCd\":\"20235980\",\"movieNm\":\"말하고 싶은 비밀\",\"openDt\":\"2023-12-13\",\"salesAmt\":\"111810808\",\"salesShare\":\"1.8\",\"salesInten\":\"6098110\",\"salesChange\":\"5.8\",\"salesAcc\":\"441180290\",\"audiCnt\":\"11100\",\"audiInten\":\"572\",\"audiChange\":\"5.4\",\"audiAcc\":\"45696\",\"scrnCnt\":\"392\",\"showCnt\":\"586\"},{\"rnum\":\"6\",\"rank\":\"6\",\"rankInten\":\"-1\",\"rankOldAndNew\":\"OLD\",\"movieCd\":\"20235698\",\"movieNm\":\"쏘우 X\",\"openDt\":\"2023-12-13\",\"salesAmt\":\"102059505\",\"salesShare\":\"1.6\",\"salesInten\":\"-23630967\",\"salesChange\":\"-18.8\",\"salesAcc\":\"524330177\",\"audiCnt\":\"9414\",\"audiInten\":\"-2324\",\"audiChange\":\"-19.8\",\"audiAcc\":\"50318\",\"scrnCnt\":\"483\",\"showCnt\":\"776\"},{\"rnum\":\"7\",\"rank\":\"7\",\"rankInten\":\"0\",\"rankOldAndNew\":\"OLD\",\"movieCd\":\"20235098\",\"movieNm\":\"나폴레옹\",\"openDt\":\"2023-12-06\",\"salesAmt\":\"90378181\",\"salesShare\":\"1.5\",\"salesInten\":\"-8852295\",\"salesChange\":\"-8.9\",\"salesAcc\":\"2089597868\",\"audiCnt\":\"9161\",\"audiInten\":\"-789\",\"audiChange\":\"-7.9\",\"audiAcc\":\"208102\",\"scrnCnt\":\"482\",\"showCnt\":\"632\"},{\"rnum\":\"8\",\"rank\":\"8\",\"rankInten\":\"2\",\"rankOldAndNew\":\"OLD\",\"movieCd\":\"20235030\",\"movieNm\":\"프레디의 피자가게\",\"openDt\":\"2023-11-15\",\"salesAmt\":\"67175743\",\"salesShare\":\"1.1\",\"salesInten\":\"-4786608\",\"salesChange\":\"-6.7\",\"salesAcc\":\"6934650101\",\"audiCnt\":\"6529\",\"audiInten\":\"-401\",\"audiChange\":\"-5.8\",\"audiAcc\":\"709645\",\"scrnCnt\":\"217\",\"showCnt\":\"280\"},{\"rnum\":\"9\",\"rank\":\"9\",\"rankInten\":\"0\",\"rankOldAndNew\":\"OLD\",\"movieCd\":\"20202247\",\"movieNm\":\"싱글 인 서울\",\"openDt\":\"2023-11-29\",\"salesAmt\":\"61128020\",\"salesShare\":\"1.0\",\"salesInten\":\"-10879389\",\"salesChange\":\"-15.1\",\"salesAcc\":\"3569191206\",\"audiCnt\":\"6108\",\"audiInten\":\"-1042\",\"audiChange\":\"-14.6\",\"audiAcc\":\"381205\",\"scrnCnt\":\"365\",\"showCnt\":\"472\"},{\"rnum\":\"10\",\"rank\":\"10\",\"rankInten\":\"-2\",\"rankOldAndNew\":\"OLD\",\"movieCd\":\"20203702\",\"movieNm\":\"노량: 죽음의 바다\",\"openDt\":\"2023-12-20\",\"salesAmt\":\"44706400\",\"salesShare\":\"0.7\",\"salesInten\":\"-42615210\",\"salesChange\":\"-48.8\",\"salesAcc\":\"274591010\",\"audiCnt\":\"5087\",\"audiInten\":\"-4112\",\"audiChange\":\"-44.7\",\"audiAcc\":\"27503\",\"scrnCnt\":\"15\",\"showCnt\":\"31\"}]}}\n"
     ]
    }
   ],
   "source": [
    "# 인코딩 형식 지정\n",
    "r.encoding = \"utf-8\"\n",
    "\n",
    "# 텍스트 출력\n",
    "print(type(r.text))\n",
    "print(r.text)"
   ]
  },
  {
   "cell_type": "markdown",
   "metadata": {},
   "source": [
    "## 6. json을 딕셔너리로 변환"
   ]
  },
  {
   "cell_type": "code",
   "execution_count": 16,
   "metadata": {},
   "outputs": [
    {
     "name": "stdout",
     "output_type": "stream",
     "text": [
      "<class 'dict'>\n"
     ]
    },
    {
     "data": {
      "text/plain": [
       "{'boxOfficeResult': {'boxofficeType': '일별 박스오피스',\n",
       "  'showRange': '20231217~20231217',\n",
       "  'dailyBoxOfficeList': [{'rnum': '1',\n",
       "    'rank': '1',\n",
       "    'rankInten': '0',\n",
       "    'rankOldAndNew': 'OLD',\n",
       "    'movieCd': '20212866',\n",
       "    'movieNm': '서울의 봄',\n",
       "    'openDt': '2023-11-22',\n",
       "    'salesAmt': '4482576400',\n",
       "    'salesShare': '72.0',\n",
       "    'salesInten': '-545722420',\n",
       "    'salesChange': '-10.9',\n",
       "    'salesAcc': '86502037671',\n",
       "    'audiCnt': '445492',\n",
       "    'audiInten': '-51598',\n",
       "    'audiChange': '-10.4',\n",
       "    'audiAcc': '8940972',\n",
       "    'scrnCnt': '2259',\n",
       "    'showCnt': '8887'},\n",
       "   {'rnum': '2',\n",
       "    'rank': '2',\n",
       "    'rankInten': '0',\n",
       "    'rankOldAndNew': 'OLD',\n",
       "    'movieCd': '20234673',\n",
       "    'movieNm': '뽀로로 극장판 슈퍼스타 대모험',\n",
       "    'openDt': '2023-12-13',\n",
       "    'salesAmt': '449388441',\n",
       "    'salesShare': '7.2',\n",
       "    'salesInten': '189653',\n",
       "    'salesChange': '0',\n",
       "    'salesAcc': '1443402598',\n",
       "    'audiCnt': '48800',\n",
       "    'audiInten': '-273',\n",
       "    'audiChange': '-0.6',\n",
       "    'audiAcc': '159720',\n",
       "    'scrnCnt': '850',\n",
       "    'showCnt': '1594'},\n",
       "   {'rnum': '3',\n",
       "    'rank': '3',\n",
       "    'rankInten': '0',\n",
       "    'rankOldAndNew': 'OLD',\n",
       "    'movieCd': '20190324',\n",
       "    'movieNm': '3일의 휴가',\n",
       "    'openDt': '2023-12-06',\n",
       "    'salesAmt': '364528712',\n",
       "    'salesShare': '5.9',\n",
       "    'salesInten': '-28905500',\n",
       "    'salesChange': '-7.3',\n",
       "    'salesAcc': '4026993896',\n",
       "    'audiCnt': '36426',\n",
       "    'audiInten': '-2942',\n",
       "    'audiChange': '-7.5',\n",
       "    'audiAcc': '425865',\n",
       "    'scrnCnt': '801',\n",
       "    'showCnt': '1887'},\n",
       "   {'rnum': '4',\n",
       "    'rank': '4',\n",
       "    'rankInten': '0',\n",
       "    'rankOldAndNew': 'OLD',\n",
       "    'movieCd': '20234114',\n",
       "    'movieNm': '괴물',\n",
       "    'openDt': '2023-11-29',\n",
       "    'salesAmt': '165084507',\n",
       "    'salesShare': '2.7',\n",
       "    'salesInten': '-13631409',\n",
       "    'salesChange': '-7.6',\n",
       "    'salesAcc': '2778565838',\n",
       "    'audiCnt': '15805',\n",
       "    'audiInten': '-1363',\n",
       "    'audiChange': '-7.9',\n",
       "    'audiAcc': '288601',\n",
       "    'scrnCnt': '401',\n",
       "    'showCnt': '635'},\n",
       "   {'rnum': '5',\n",
       "    'rank': '5',\n",
       "    'rankInten': '1',\n",
       "    'rankOldAndNew': 'OLD',\n",
       "    'movieCd': '20235980',\n",
       "    'movieNm': '말하고 싶은 비밀',\n",
       "    'openDt': '2023-12-13',\n",
       "    'salesAmt': '111810808',\n",
       "    'salesShare': '1.8',\n",
       "    'salesInten': '6098110',\n",
       "    'salesChange': '5.8',\n",
       "    'salesAcc': '441180290',\n",
       "    'audiCnt': '11100',\n",
       "    'audiInten': '572',\n",
       "    'audiChange': '5.4',\n",
       "    'audiAcc': '45696',\n",
       "    'scrnCnt': '392',\n",
       "    'showCnt': '586'},\n",
       "   {'rnum': '6',\n",
       "    'rank': '6',\n",
       "    'rankInten': '-1',\n",
       "    'rankOldAndNew': 'OLD',\n",
       "    'movieCd': '20235698',\n",
       "    'movieNm': '쏘우 X',\n",
       "    'openDt': '2023-12-13',\n",
       "    'salesAmt': '102059505',\n",
       "    'salesShare': '1.6',\n",
       "    'salesInten': '-23630967',\n",
       "    'salesChange': '-18.8',\n",
       "    'salesAcc': '524330177',\n",
       "    'audiCnt': '9414',\n",
       "    'audiInten': '-2324',\n",
       "    'audiChange': '-19.8',\n",
       "    'audiAcc': '50318',\n",
       "    'scrnCnt': '483',\n",
       "    'showCnt': '776'},\n",
       "   {'rnum': '7',\n",
       "    'rank': '7',\n",
       "    'rankInten': '0',\n",
       "    'rankOldAndNew': 'OLD',\n",
       "    'movieCd': '20235098',\n",
       "    'movieNm': '나폴레옹',\n",
       "    'openDt': '2023-12-06',\n",
       "    'salesAmt': '90378181',\n",
       "    'salesShare': '1.5',\n",
       "    'salesInten': '-8852295',\n",
       "    'salesChange': '-8.9',\n",
       "    'salesAcc': '2089597868',\n",
       "    'audiCnt': '9161',\n",
       "    'audiInten': '-789',\n",
       "    'audiChange': '-7.9',\n",
       "    'audiAcc': '208102',\n",
       "    'scrnCnt': '482',\n",
       "    'showCnt': '632'},\n",
       "   {'rnum': '8',\n",
       "    'rank': '8',\n",
       "    'rankInten': '2',\n",
       "    'rankOldAndNew': 'OLD',\n",
       "    'movieCd': '20235030',\n",
       "    'movieNm': '프레디의 피자가게',\n",
       "    'openDt': '2023-11-15',\n",
       "    'salesAmt': '67175743',\n",
       "    'salesShare': '1.1',\n",
       "    'salesInten': '-4786608',\n",
       "    'salesChange': '-6.7',\n",
       "    'salesAcc': '6934650101',\n",
       "    'audiCnt': '6529',\n",
       "    'audiInten': '-401',\n",
       "    'audiChange': '-5.8',\n",
       "    'audiAcc': '709645',\n",
       "    'scrnCnt': '217',\n",
       "    'showCnt': '280'},\n",
       "   {'rnum': '9',\n",
       "    'rank': '9',\n",
       "    'rankInten': '0',\n",
       "    'rankOldAndNew': 'OLD',\n",
       "    'movieCd': '20202247',\n",
       "    'movieNm': '싱글 인 서울',\n",
       "    'openDt': '2023-11-29',\n",
       "    'salesAmt': '61128020',\n",
       "    'salesShare': '1.0',\n",
       "    'salesInten': '-10879389',\n",
       "    'salesChange': '-15.1',\n",
       "    'salesAcc': '3569191206',\n",
       "    'audiCnt': '6108',\n",
       "    'audiInten': '-1042',\n",
       "    'audiChange': '-14.6',\n",
       "    'audiAcc': '381205',\n",
       "    'scrnCnt': '365',\n",
       "    'showCnt': '472'},\n",
       "   {'rnum': '10',\n",
       "    'rank': '10',\n",
       "    'rankInten': '-2',\n",
       "    'rankOldAndNew': 'OLD',\n",
       "    'movieCd': '20203702',\n",
       "    'movieNm': '노량: 죽음의 바다',\n",
       "    'openDt': '2023-12-20',\n",
       "    'salesAmt': '44706400',\n",
       "    'salesShare': '0.7',\n",
       "    'salesInten': '-42615210',\n",
       "    'salesChange': '-48.8',\n",
       "    'salesAcc': '274591010',\n",
       "    'audiCnt': '5087',\n",
       "    'audiInten': '-4112',\n",
       "    'audiChange': '-44.7',\n",
       "    'audiAcc': '27503',\n",
       "    'scrnCnt': '15',\n",
       "    'showCnt': '31'}]}}"
      ]
     },
     "execution_count": 16,
     "metadata": {},
     "output_type": "execute_result"
    }
   ],
   "source": [
    "# 가져온 문자열을 딕셔너리로 변환\n",
    "data = json.loads(r.text)\n",
    "print(type(data))\n",
    "data"
   ]
  }
 ],
 "metadata": {
  "kernelspec": {
   "display_name": "Python 3",
   "language": "python",
   "name": "python3"
  },
  "language_info": {
   "codemirror_mode": {
    "name": "ipython",
    "version": 3
   },
   "file_extension": ".py",
   "mimetype": "text/x-python",
   "name": "python",
   "nbconvert_exporter": "python",
   "pygments_lexer": "ipython3",
   "version": "3.9.13"
  },
  "orig_nbformat": 4
 },
 "nbformat": 4,
 "nbformat_minor": 2
}
