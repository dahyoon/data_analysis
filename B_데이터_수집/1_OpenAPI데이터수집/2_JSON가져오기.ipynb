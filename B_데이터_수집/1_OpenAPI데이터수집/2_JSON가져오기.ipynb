{
 "cells": [
  {
   "attachments": {},
   "cell_type": "markdown",
   "metadata": {},
   "source": [
    "# JSON 가져오기\n",
    "\n",
    "## 1. 필요한 모듈 참조"
   ]
  },
  {
   "cell_type": "code",
   "execution_count": 10,
   "metadata": {},
   "outputs": [],
   "source": [
    "# -> 웹 상의 데이터를 요청하는 기능\n",
    "import requests\n",
    "# -> JSON을 딕셔너리로 변환하는 기능(파이썬 내장모듈이기 때문에 설치 불필요)\n",
    "import json"
   ]
  },
  {
   "cell_type": "markdown",
   "metadata": {},
   "source": [
    "## 2. 온라인 상의 URL 객체 생성"
   ]
  },
  {
   "cell_type": "code",
   "execution_count": 8,
   "metadata": {},
   "outputs": [],
   "source": [
    "# 온라인 상의 URL\n",
    "url = \"https://data.hossam.kr/B01/sample.json\""
   ]
  },
  {
   "cell_type": "markdown",
   "metadata": {},
   "source": [
    "## 3. 접속 객체 생성 및 접속 정보 설정"
   ]
  },
  {
   "cell_type": "code",
   "execution_count": 6,
   "metadata": {},
   "outputs": [],
   "source": [
    "# 접속 객체 생성\n",
    "session = requests.Session()\n",
    "\n",
    "# 접속 정보 설정\n",
    "session.headers.update({\n",
    "    \"Referer\": \"\",\n",
    "    \"User-Agent\": \"Mozilla/5.0 (Windows NT 10.0; Win64; x64) AppleWebKit/537.36 (KHTML, like Gecko) Chrome/114.0.0.0 Safari/537.36\"\n",
    "})"
   ]
  },
  {
   "cell_type": "markdown",
   "metadata": {},
   "source": [
    "## 4. 원하는 웹페이지에 접속"
   ]
  },
  {
   "cell_type": "code",
   "execution_count": 7,
   "metadata": {},
   "outputs": [
    {
     "ename": "Exception",
     "evalue": "[404 Error] Not Found 에러가 발생함",
     "output_type": "error",
     "traceback": [
      "\u001b[0;31m---------------------------------------------------------------------------\u001b[0m",
      "\u001b[0;31mException\u001b[0m                                 Traceback (most recent call last)",
      "\u001b[1;32m/Users/dayoonz/Desktop/data_analysis/B_데이터_수집/1_OpenAPI데이터수집/2_JSON가져오기.ipynb Cell 5\u001b[0m line \u001b[0;36m6\n\u001b[1;32m      <a href='vscode-notebook-cell:/Users/dayoonz/Desktop/data_analysis/B_%EB%8D%B0%EC%9D%B4%ED%84%B0_%EC%88%98%EC%A7%91/1_OpenAPI%EB%8D%B0%EC%9D%B4%ED%84%B0%EC%88%98%EC%A7%91/2_JSON%EA%B0%80%EC%A0%B8%EC%98%A4%EA%B8%B0.ipynb#W4sZmlsZQ%3D%3D?line=3'>4</a>\u001b[0m \u001b[39mif\u001b[39;00m r\u001b[39m.\u001b[39mstatus_code \u001b[39m!=\u001b[39m \u001b[39m200\u001b[39m:\n\u001b[1;32m      <a href='vscode-notebook-cell:/Users/dayoonz/Desktop/data_analysis/B_%EB%8D%B0%EC%9D%B4%ED%84%B0_%EC%88%98%EC%A7%91/1_OpenAPI%EB%8D%B0%EC%9D%B4%ED%84%B0%EC%88%98%EC%A7%91/2_JSON%EA%B0%80%EC%A0%B8%EC%98%A4%EA%B8%B0.ipynb#W4sZmlsZQ%3D%3D?line=4'>5</a>\u001b[0m     msg \u001b[39m=\u001b[39m \u001b[39m\"\u001b[39m\u001b[39m[\u001b[39m\u001b[39m%d\u001b[39;00m\u001b[39m Error] \u001b[39m\u001b[39m%s\u001b[39;00m\u001b[39m 에러가 발생함\u001b[39m\u001b[39m\"\u001b[39m \u001b[39m%\u001b[39m (r\u001b[39m.\u001b[39mstatus_code, r\u001b[39m.\u001b[39mreason)\n\u001b[0;32m----> <a href='vscode-notebook-cell:/Users/dayoonz/Desktop/data_analysis/B_%EB%8D%B0%EC%9D%B4%ED%84%B0_%EC%88%98%EC%A7%91/1_OpenAPI%EB%8D%B0%EC%9D%B4%ED%84%B0%EC%88%98%EC%A7%91/2_JSON%EA%B0%80%EC%A0%B8%EC%98%A4%EA%B8%B0.ipynb#W4sZmlsZQ%3D%3D?line=5'>6</a>\u001b[0m     \u001b[39mraise\u001b[39;00m \u001b[39mException\u001b[39;00m(msg)\n",
      "\u001b[0;31mException\u001b[0m: [404 Error] Not Found 에러가 발생함"
     ]
    }
   ],
   "source": [
    "# 특정 웹 페이지에 접속\n",
    "r = session.get(url)\n",
    "\n",
    "if r.status_code != 200:\n",
    "    msg = \"[%d Error] %s 에러가 발생함\" % (r.status_code, r.reason)\n",
    "    raise Exception(msg)"
   ]
  },
  {
   "cell_type": "markdown",
   "metadata": {},
   "source": [
    "## 5. 추출"
   ]
  },
  {
   "cell_type": "code",
   "execution_count": 11,
   "metadata": {},
   "outputs": [
    {
     "name": "stdout",
     "output_type": "stream",
     "text": [
      "<class 'str'>\n",
      "{\n",
      "    \"name\": \"갤럭시 S6\",\n",
      "    \"type\": \"삼성\",\n",
      "    \"img\": \"http://itpaper.co.kr/demo/app/img/GalaxyS6.png\"\n",
      "}\n"
     ]
    }
   ],
   "source": [
    "# 인코딩 형식 지정\n",
    "r.encoding = \"utf-8\"\n",
    "\n",
    "# 텍스트 출력\n",
    "print(type(r.text))\n",
    "print(r.text)"
   ]
  },
  {
   "cell_type": "markdown",
   "metadata": {},
   "source": [
    "## 6. json을 딕셔너리로 변환"
   ]
  },
  {
   "cell_type": "code",
   "execution_count": 13,
   "metadata": {},
   "outputs": [
    {
     "name": "stdout",
     "output_type": "stream",
     "text": [
      "<class 'dict'>\n"
     ]
    },
    {
     "data": {
      "text/plain": [
       "{'name': '갤럭시 S6',\n",
       " 'type': '삼성',\n",
       " 'img': 'http://itpaper.co.kr/demo/app/img/GalaxyS6.png'}"
      ]
     },
     "execution_count": 13,
     "metadata": {},
     "output_type": "execute_result"
    }
   ],
   "source": [
    "# 가져온 문자열을 딕셔너리로 변환\n",
    "data = json.loads(r.text)\n",
    "print(type(data))\n",
    "data"
   ]
  }
 ],
 "metadata": {
  "kernelspec": {
   "display_name": "Python 3",
   "language": "python",
   "name": "python3"
  },
  "language_info": {
   "codemirror_mode": {
    "name": "ipython",
    "version": 3
   },
   "file_extension": ".py",
   "mimetype": "text/x-python",
   "name": "python",
   "nbconvert_exporter": "python",
   "pygments_lexer": "ipython3",
   "version": "3.9.13"
  },
  "orig_nbformat": 4
 },
 "nbformat": 4,
 "nbformat_minor": 2
}
