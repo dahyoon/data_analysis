{
 "cells": [
  {
   "cell_type": "markdown",
   "metadata": {},
   "source": [
    "# Open API 데이터 수집 서론\n",
    "\n",
    "## 1. 웹프로그래밍 언어\n",
    "- 웹프로그래밍 언어는 출력 형식이 html일 수도 있고 json 형태일 수도 있다\n",
    "- 우리가 python으로 원하는 내용을 출력하기엔 json 형태가 훨씬 수월하다 (딕셔너리로 바꾸면 더 수월하게 조회할 수 있기 때문)"
   ]
  },
  {
   "cell_type": "code",
   "execution_count": null,
   "metadata": {},
   "outputs": [],
   "source": []
  }
 ],
 "metadata": {
  "language_info": {
   "name": "python"
  }
 },
 "nbformat": 4,
 "nbformat_minor": 2
}
