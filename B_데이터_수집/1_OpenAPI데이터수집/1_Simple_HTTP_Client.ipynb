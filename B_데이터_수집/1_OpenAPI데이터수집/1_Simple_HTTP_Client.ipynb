{
 "cells": [
  {
   "attachments": {},
   "cell_type": "markdown",
   "metadata": {},
   "source": [
    "# Simple HTTP Client\n",
    "- `requests`모듈 설치 필요\n",
    "> $ pip install --upgrade requests\n",
    "\n",
    "## 1. 필요한 모듈 참조"
   ]
  },
  {
   "cell_type": "code",
   "execution_count": 3,
   "metadata": {},
   "outputs": [],
   "source": [
    "import requests"
   ]
  },
  {
   "attachments": {},
   "cell_type": "markdown",
   "metadata": {},
   "source": [
    "## 2. 온라인 상의 URL"
   ]
  },
  {
   "cell_type": "code",
   "execution_count": 4,
   "metadata": {},
   "outputs": [],
   "source": [
    "url = \"https://data.hossam.kr/sample.txt\""
   ]
  },
  {
   "attachments": {},
   "cell_type": "markdown",
   "metadata": {},
   "source": [
    "## 3. 접속 객체 생성, 접속 정보 설정"
   ]
  },
  {
   "cell_type": "code",
   "execution_count": 5,
   "metadata": {},
   "outputs": [],
   "source": [
    "# 접속 객체 생성\n",
    "session = requests.Session()\n",
    "\n",
    "# 접속 정보 설정\n",
    "session.headers.update({\n",
    "    # 직전에 머물렀던 페이지의 URL\n",
    "    \"Referer\": \"\",\n",
    "    # 브라우저 및 OS 버전 정보\n",
    "    \"User-Agent\": \"Mozilla/5.0 (Windows NT 10.0; Win64; x64) AppleWebKit/537.36 (KHTML, like Gecko) Chrome/114.0.0.0 Safari/537.36\"\n",
    "})"
   ]
  },
  {
   "attachments": {},
   "cell_type": "markdown",
   "metadata": {},
   "source": [
    "## 4. 특정 웹 페이지에 접속"
   ]
  },
  {
   "cell_type": "code",
   "execution_count": 6,
   "metadata": {},
   "outputs": [],
   "source": [
    "r = session.get(url)\n",
    "\n",
    "# 접속에 실패한 경우\n",
    "if r.status_code != 200:\n",
    "    # 에러코드와 에러메시지 출력\n",
    "    msg = \"[%d Error] %s 에러가 발생함\" % (r.status_code, r.reason)\n",
    "    # 에러를 강제로 생성시킴\n",
    "    raise Exception(msg)"
   ]
  },
  {
   "attachments": {},
   "cell_type": "markdown",
   "metadata": {},
   "source": [
    "## 5. 인코딩 형식 지정, 텍스트 출력"
   ]
  },
  {
   "cell_type": "code",
   "execution_count": 7,
   "metadata": {},
   "outputs": [
    {
     "name": "stdout",
     "output_type": "stream",
     "text": [
      "안녕하세요.\n",
      "\n",
      "이 파일은 HTTP Client 기능을 구현한 후 결과를 확인하기 위한 샘플 파일입니다.\n",
      "\n"
     ]
    }
   ],
   "source": [
    "r.encoding = \"utf-8\"\n",
    "\n",
    "print(r.text)"
   ]
  },
  {
   "cell_type": "code",
   "execution_count": null,
   "metadata": {},
   "outputs": [],
   "source": [
    "with open(\"sample.txt\", \"w\", encoding=\"utf-8\") as f:\n",
    "    f.write(r.text)"
   ]
  }
 ],
 "metadata": {
  "kernelspec": {
   "display_name": "Python 3",
   "language": "python",
   "name": "python3"
  },
  "language_info": {
   "codemirror_mode": {
    "name": "ipython",
    "version": 3
   },
   "file_extension": ".py",
   "mimetype": "text/x-python",
   "name": "python",
   "nbconvert_exporter": "python",
   "pygments_lexer": "ipython3",
   "version": "3.11.3"
  },
  "orig_nbformat": 4
 },
 "nbformat": 4,
 "nbformat_minor": 2
}
