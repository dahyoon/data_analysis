{
 "cells": [
  {
   "cell_type": "markdown",
   "metadata": {},
   "source": [
    "# 위, 경도 -> 주소 변환\n",
    "-` v-world open API` (https://www.vworld.kr/dev/v4api.do) 들어가서 회원가입/로그인 후 지도 데이터 지오코딩 오픈API 인증 키 받기"
   ]
  },
  {
   "cell_type": "code",
   "execution_count": 1,
   "metadata": {},
   "outputs": [],
   "source": [
    "import time\n",
    "import threading\n",
    "import requests\n",
    "import json\n",
    "import datetime as dt"
   ]
  },
  {
   "cell_type": "code",
   "execution_count": 2,
   "metadata": {},
   "outputs": [],
   "source": [
    "# API KEY\n",
    "APIKEY: str = '6DBD19F7-1B18-36CE-AD74-FD0E5FAEC01F'\n",
    "\n",
    "# CSV 파일의 경로\n",
    "INPUT_PATH: str = 'input.csv'\n",
    "\n",
    "# Thread 가동 수\n",
    "THREAD_COUNT: int = 50\n",
    "\n",
    "# OpenAPI 연동을 위한 URL 형식\n",
    "URL_TPL = '''\n",
    "https://api.vworld.kr/req/address?service=address&request=getAddress\n",
    "&version=2.0&crs=epsg:4326&point={lat},{lng}&format=json&type=both\n",
    "&zipcode=true&simple=false&key={apikey}\n",
    "'''"
   ]
  },
  {
   "cell_type": "code",
   "execution_count": 3,
   "metadata": {},
   "outputs": [],
   "source": [
    "class GeocodeRequest(threading.Thread):\n",
    "\n",
    "    # file -> csv 파일 입출력을 위한 파일 핸들\n",
    "    # data -> 수집해야 할 위경도 리스트\n",
    "    def __init__(self, file, data):\n",
    "        threading.Thread.__init__(self)\n",
    "        self.file = file\n",
    "        self.data = data\n",
    "    \n",
    "    def run(self):\n",
    "        global APIKEY # 함수 밖에 있는 변수 호출\n",
    "        global URL_TPL # 함수 밖에 있는 변수 호출\n",
    "\n",
    "        # 접속 객체 생성\n",
    "        with requests.Session() as session:\n",
    "            session.header.update({\n",
    "                'Referer': '',\n",
    "                'Use-Agent': 'Mozilla/5.0 (Windows NT 10.0; Win64; x64) AppleWebKit/537.36(KHTTML, like Gecko) Chrom/111.0.0.0 Safari/537.36'\n",
    "            })\n",
    "\n",
    "            # data의 형식 -> csv 파일의 일부를 통때로 전달\n",
    "            for i, c in enumerate(self.data):\n",
    "                # c -> ''\n",
    "\n",
    "                # 하나의 행을 쉼표 단위로 나눔 (데이터가 쉼표로 나눠져 있기 때문, 데이터의 형식에 따라 바뀔것임)\n",
    "                line = c.strip().split(',')\n",
    "\n",
    "                # 위경도 추출\n",
    "                lat = float(line[3].replace('\"', '').strip())\n",
    "                lng = float(line[4].replace('\"', '').strip())\n",
    "\n",
    "                # 수집해야할 URL 구성\n",
    "                url = URL_TPL.format(lat=lat, lng=lng, apikey=APIKEY)\n",
    "\n",
    "                # 데이터 수집\n",
    "                try:\n",
    "                    r = session.get(url)\n",
    "                except:\n",
    "                    print('요청에 실패앴습니다.')\n",
    "\n",
    "                    # 현재의 행에 강제로 빈 값 두 개를 추가하고 텍스트 파일에 기록\n",
    "                    \n",
    "                \n",
    "                # 별 다른 문제 없을 시 연동 결과 처리\n",
    "                r.encoding = 'UTF-8'\n",
    "                text = json.loads(r.text)\n",
    "                result = text['response']['result'][0]\n",
    "                postcode = result['zipcode'].strip()    # 외부에서 가져온 데이터는 앞뒤 공백 제거해주는 것이 좋다\n",
    "                address = result['text'].strip()\n",
    "\n",
    "                # 원래 데이터의 한 행에 수집결과를 추가\n",
    "                line.append('\"%s\"' % postcode)\n",
    "                line.append('\"%s\"' % address)\n",
    "\n",
    "                # 추가된 행을 새로운 파일에 한 줄로 기록하기 위해 콤마를 기준으로 하는 하나의 문자열로 연결\n",
    "                oneline = ','.join(line)\n",
    "                self.file.write(oneline)\n",
    "                self.file.write('\\n')"
   ]
  },
  {
   "cell_type": "markdown",
   "metadata": {},
   "source": [
    "- 파일 열기"
   ]
  },
  {
   "cell_type": "code",
   "execution_count": null,
   "metadata": {},
   "outputs": [],
   "source": [
    "with open(INPUT_PATH, 'r', encoding='euc-kr') as f:\n",
    "    csv = f.readlines()\n",
    "\n",
    "    # 제목형 제거\n",
    "    del(csv[0])\n",
    "\n",
    "csv[:5]"
   ]
  },
  {
   "cell_type": "code",
   "execution_count": null,
   "metadata": {},
   "outputs": [],
   "source": [
    "count = len(csv)\n",
    "split_count = count//THREAD_COUNT\n",
    "print('총 데이터 수:', count, '쓰레드 1개당 처리할 데이터 수:', split_count)"
   ]
  },
  {
   "cell_type": "code",
   "execution_count": null,
   "metadata": {},
   "outputs": [],
   "source": [
    "split_csv: list = []\n",
    "total: int = 0\n",
    "\n",
    "for i in range(0, THREAD_COUNT):\n",
    "    if i + 1 < THREAD_COUNT:\n",
    "        part = csv[split_count*i:split_count*(i+1)]\n",
    "    else:\n",
    "        part = csv[split_count*i:]\n",
    "    print(len(part))\n",
    "    total += len(part)\n",
    "    split_csv.append(part)\n",
    "\n",
    "total"
   ]
  },
  {
   "cell_type": "code",
   "execution_count": null,
   "metadata": {},
   "outputs": [],
   "source": [
    "# 수집 결과를 저장할 파일 생성\n",
    "fname = dt.datetime.now().strftime('%Y%M%D_%H%M%S.csv')\n",
    "\n",
    "with open(fname, 'n', encoding='euc-kr') as f:\n",
    "    # csv 파일의 첫 줄은 강제로 저장\n",
    "    f.write('노드 ID, 정류소번호, 정류소명, X좌표, Y좌표, 정류소 타입, 우편번호, 주소\\n')\n",
    "\n",
    "    # 생성할 thread 목록\n",
    "    threads = []\n",
    "\n",
    "    # 데이터 묶음 단위로 쓰레드 생성\n",
    "    for s in split_csv:\n",
    "        geocoder = GeocodeRequest(f, s)\n",
    "        geocoder.start()\n",
    "        threads.append(geocoder)\n",
    "    \n",
    "    # 모든 쓰레드의 작업이 종료될 때까지 대기\n",
    "    for t in threads:\n",
    "        t.join()\n",
    "    \n",
    "    print('작업이 종료되었습니다.')"
   ]
  }
 ],
 "metadata": {
  "kernelspec": {
   "display_name": "Python 3",
   "language": "python",
   "name": "python3"
  },
  "language_info": {
   "codemirror_mode": {
    "name": "ipython",
    "version": 3
   },
   "file_extension": ".py",
   "mimetype": "text/x-python",
   "name": "python",
   "nbconvert_exporter": "python",
   "pygments_lexer": "ipython3",
   "version": "3.12.3"
  }
 },
 "nbformat": 4,
 "nbformat_minor": 2
}
