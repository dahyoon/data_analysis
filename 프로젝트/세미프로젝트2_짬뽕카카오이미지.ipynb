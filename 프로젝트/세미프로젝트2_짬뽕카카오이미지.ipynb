{
 "cells": [
  {
   "attachments": {},
   "cell_type": "markdown",
   "metadata": {},
   "source": [
    "# 짬뽕\n",
    "\n",
    "## 1. 카카오 이미지 다운로드\n",
    "### 1) 필요한 모듈 참조"
   ]
  },
  {
   "cell_type": "code",
   "execution_count": 1,
   "metadata": {},
   "outputs": [],
   "source": [
    "import requests\n",
    "import json\n",
    "from pandas import DataFrame\n",
    "import os"
   ]
  },
  {
   "attachments": {},
   "cell_type": "markdown",
   "metadata": {},
   "source": [
    "### 2) 접속할 URL 설정 및 접속 객체 생성"
   ]
  },
  {
   "cell_type": "code",
   "execution_count": null,
   "metadata": {},
   "outputs": [],
   "source": [
    "urlFmt = \"https://dapi.kakao.com/v2/search/image?query={query}&page={page}&size={size}\"\n",
    "\n",
    "# 요청변수\n",
    "query = \"짬뽕\"\n",
    "page = 1\n",
    "size = 80\n",
    "key = \"b636ff83df45f778874b079dcb979102\"\n",
    "\n",
    "# 브라우저 버전정보\n",
    "userAgent = \"Mozilla/5.0 (Windows NT 10.0; Win64; x64) AppleWebKit/537.36 (KHTML, like Gecko) Chrome/111.0.0.0 Safari/537.36\"\n",
    "\n",
    "# 접속객체 생성\n",
    "session = requests.Session()\n",
    "\n",
    "# 접속객체에 부가정보(header) 삽입하기\n",
    "session.headers.update({\n",
    "    \"Authorization\": \"KakaoAK %s\" % key\n",
    "})"
   ]
  },
  {
   "attachments": {},
   "cell_type": "markdown",
   "metadata": {},
   "source": [
    "### 3) 첫 페이지부터 마지막 페이지까지 반복문 돌리며 짬뽕 이미지 다운로드"
   ]
  },
  {
   "cell_type": "code",
   "execution_count": null,
   "metadata": {},
   "outputs": [],
   "source": [
    "# 다음 페이지가 존재하는지 여부 --> False인 동안은 while문 반복\n",
    "isEnd = False\n",
    "\n",
    "# 1페이지부터 시작\n",
    "page = 1\n",
    "\n",
    "# 저장된 이미지 카운트\n",
    "count = 0\n",
    "\n",
    "while (not isEnd):\n",
    "    # 접속할 URL\n",
    "    url = urlFmt.format(query=query, page=page, size=size)\n",
    "\n",
    "    # 생성한 접속객체를 활용하여 API에 접속\n",
    "    r = session.get(url)\n",
    "\n",
    "    # 접속에 실패한 경우\n",
    "    if r.status_code != 200:\n",
    "        # 에러코드와 에러메시지 출력\n",
    "        msg = \"[%d Error] %s 에러가 발생함\" % (r.status_code, r.reason)\n",
    "        # 에러를 강제로 생성시킴\n",
    "        raise Exception(msg)\n",
    "\n",
    "    # 인코딩 형식 지정\n",
    "    r.encoding = \"utf-8\"\n",
    "\n",
    "    # 가져온 문자열을 딕셔너리로 변환\n",
    "    data = json.loads(r.text)\n",
    "\n",
    "    # 검색 결과를 갖고 있는 딕셔너리를 포함하는 리스트 추출\n",
    "    searchList = data['documents']\n",
    "\n",
    "    # 증감식에 해당하는 isEnd변수 추출\n",
    "    isEnd = bool(data['meta']['is_end'])\n",
    "    page += 1\n",
    "    print(\"isEnd=\", isEnd, \" / 다음페이지=\", page)\n",
    "\n",
    "    # 이미지가 저장될 폴더 생성\n",
    "    if os.path.exists(query) == False:\n",
    "        os.mkdir(query)\n",
    "\n",
    "    # 이미지 저장\n",
    "    for i, v in enumerate(searchList):\n",
    "        # 숫자 카운트\n",
    "        count += 1\n",
    "\n",
    "        # 이미지 URL 추출\n",
    "        docUrl = v['doc_url']\n",
    "        imageUrl = v['image_url']\n",
    "        print(imageUrl)\n",
    "        \n",
    "        # 접속객체에 부가정보(header) 삽입하기\n",
    "        session.headers.update({\n",
    "            \"Authorization\": \"KakaoAK %s\" % key,\n",
    "            \"Referer\": docUrl,\n",
    "            \"User-Agent\": userAgent\n",
    "        })\n",
    "\n",
    "        # 텍스트 이외의 파일 형식을 가져오기 위해서는 stream 파라미터 추가\n",
    "        try:\n",
    "            r = session.get(imageUrl, stream=True)\n",
    "        except:\n",
    "            continue\n",
    "\n",
    "        # 다운로드에 실패한 경우 다음 이미지로 이동\n",
    "        if r.status_code != 200:\n",
    "            continue\n",
    "\n",
    "        fileName = \"%s/%05d.png\" % (query, count)\n",
    "\n",
    "        with open(fileName , 'wb') as f:\n",
    "            # 통신으로 가져온 내용의 바이너리(기계어)를 직접 추출\n",
    "            f.write(r.raw.read())"
   ]
  },
  {
   "attachments": {},
   "cell_type": "markdown",
   "metadata": {},
   "source": [
    "### 4) 이미지 확인"
   ]
  }
 ],
 "metadata": {
  "kernelspec": {
   "display_name": "Python 3",
   "language": "python",
   "name": "python3"
  },
  "language_info": {
   "codemirror_mode": {
    "name": "ipython",
    "version": 3
   },
   "file_extension": ".py",
   "mimetype": "text/x-python",
   "name": "python",
   "nbconvert_exporter": "python",
   "pygments_lexer": "ipython3",
   "version": "3.11.3"
  },
  "orig_nbformat": 4
 },
 "nbformat": 4,
 "nbformat_minor": 2
}
