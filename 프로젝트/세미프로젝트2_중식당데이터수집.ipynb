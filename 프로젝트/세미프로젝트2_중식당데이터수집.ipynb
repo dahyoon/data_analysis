{
 "cells": [
  {
   "attachments": {},
   "cell_type": "markdown",
   "metadata": {},
   "source": [
    "# 짬뽕\n",
    "- 중식당 비율 찾기!\n",
    "- 사람들이 중식당을 다른 식당 (한식, 일식, 양식 등등)들에 비해 얼마나 더 자주 가는지 알아보기!\n",
    "## 2. 중식당 빈도/비율 시각화\n",
    "### 1) 필요한 패키지 참조"
   ]
  },
  {
   "cell_type": "code",
   "execution_count": 27,
   "metadata": {},
   "outputs": [],
   "source": [
    "import numpy as np\n",
    "import requests\n",
    "from matplotlib import pyplot as plt\n",
    "from pandas import read_excel, DataFrame"
   ]
  },
  {
   "attachments": {},
   "cell_type": "markdown",
   "metadata": {},
   "source": [
    "### 2) 그래프 전역 설정"
   ]
  },
  {
   "cell_type": "code",
   "execution_count": 18,
   "metadata": {},
   "outputs": [],
   "source": [
    "# 폰트 설정\n",
    "plt.rcParams['font.family'] = \"Malgun Gothic\"  # 윈도우 전용\n",
    "#plt.rcParams['font.family'] = \"AppleGothic\"    # 맥 전용 (띄어쓰기 없음)\n",
    "\n",
    "# 글자 크기\n",
    "plt.rcParams[\"font.size\"] = 12\n",
    "\n",
    "# 그래프 크기 설정(inch)\n",
    "plt.rcParams[\"figure.figsize\"] = (20, 5)\n",
    "\n",
    "# 유니코드에서 음수 부호설정\n",
    "plt.rcParams['axes.unicode_minus'] = False"
   ]
  },
  {
   "attachments": {},
   "cell_type": "markdown",
   "metadata": {},
   "source": [
    "### 3) 필요한 데이터 가져오기\n",
    "- read_excel()\n",
    "- .filter()"
   ]
  },
  {
   "cell_type": "code",
   "execution_count": 20,
   "metadata": {},
   "outputs": [
    {
     "name": "stderr",
     "output_type": "stream",
     "text": [
      "/Library/Frameworks/Python.framework/Versions/3.11/lib/python3.11/site-packages/openpyxl/styles/stylesheet.py:226: UserWarning: Workbook contains no default style, apply openpyxl's default\n",
      "  warn(\"Workbook contains no default style, apply openpyxl's default\")\n"
     ]
    },
    {
     "name": "stdout",
     "output_type": "stream",
     "text": [
      "업태구분명\n",
      "한식                 125648\n",
      "분식                  48322\n",
      "경양식                 25590\n",
      "기타                  24781\n",
      "호프/통닭               24430\n",
      "일식                  10805\n",
      "중국식                  9305\n",
      "정종/대포집/소주방           9072\n",
      "통닭(치킨)               6051\n",
      "까페                   5426\n",
      "패스트푸드                2171\n",
      "뷔페식                  2092\n",
      "외국음식전문점(인도,태국등)      1618\n",
      "식육(숯불구이)             1019\n",
      "횟집                   1008\n",
      "김밥(도시락)               955\n",
      "전통찻집                  366\n",
      "탕류(보신용)               289\n",
      "감성주점                  239\n",
      "라이브카페                 163\n",
      "냉면집                   145\n",
      "출장조리                  139\n",
      "패밀리레스트랑               139\n",
      "복어취급                   73\n",
      "이동조리                   72\n",
      "키즈카페                   61\n",
      "커피숍                     3\n",
      "룸살롱                     1\n",
      "다방                      1\n",
      "기타 휴게음식점                1\n",
      "간이주점                    1\n",
      "Name: count, dtype: int64\n"
     ]
    }
   ],
   "source": [
    "data = read_excel(\"/Users/dayoonz/Desktop/일반음식점.xlsx\")\n",
    "\n",
    "# 중식당data = DataFrame(data.query(\"영업상태명 == '영업/정상'\").filter(['소재지전체주소', '사업자명', '업태구분명', '좌표정보(X)', '좌표정보(Y)']))\n",
    "\n"
   ]
  },
  {
   "attachments": {},
   "cell_type": "markdown",
   "metadata": {},
   "source": [
    "### 4) 데이터 전처리\n",
    "-> category"
   ]
  },
  {
   "cell_type": "code",
   "execution_count": 24,
   "metadata": {},
   "outputs": [
    {
     "data": {
      "text/plain": [
       "번호             int64\n",
       "개방서비스명        object\n",
       "개방서비스아이디      object\n",
       "개방자치단체코드       int64\n",
       "관리번호          object\n",
       "인허가일자         object\n",
       "인허가취소일자      float64\n",
       "영업상태구분코드       int64\n",
       "영업상태명         object\n",
       "상세영업상태코드       int64\n",
       "상세영업상태명       object\n",
       "폐업일자          object\n",
       "휴업시작일자       float64\n",
       "휴업종료일자       float64\n",
       "재개업일자        float64\n",
       "소재지전화         object\n",
       "소재지면적        float64\n",
       "소재지우편번호       object\n",
       "소재지전체주소       object\n",
       "도로명전체주소       object\n",
       "도로명우편번호      float64\n",
       "사업장명          object\n",
       "최종수정시점        object\n",
       "데이터갱신구분       object\n",
       "데이터갱신일자       object\n",
       "업태구분명       category\n",
       "좌표정보(X)      float64\n",
       "좌표정보(Y)      float64\n",
       "위생업태명         object\n",
       "남성종사자수       float64\n",
       "여성종사자수       float64\n",
       "영업장주변구분명      object\n",
       "등급구분명         object\n",
       "급수시설구분명       object\n",
       "총직원수         float64\n",
       "본사직원수        float64\n",
       "공장사무직직원수     float64\n",
       "공장판매직직원수     float64\n",
       "공장생산직직원수     float64\n",
       "건물소유구분명      float64\n",
       "보증액          float64\n",
       "월세액          float64\n",
       "다중이용업소여부      object\n",
       "시설총규모        float64\n",
       "전통업소지정번호      object\n",
       "전통업소주된음식      object\n",
       "홈페이지          object\n",
       "dtype: object"
      ]
     },
     "execution_count": 24,
     "metadata": {},
     "output_type": "execute_result"
    }
   ],
   "source": [
    "data['업태구분명'] = data['업태구분명'].astype('category')\n",
    "data.dtypes"
   ]
  },
  {
   "attachments": {},
   "cell_type": "markdown",
   "metadata": {},
   "source": [
    "### 5) 데이터 정제\n",
    "- .value_counts()를 통해 업태구분명 항목 조회\n",
    "- .loc[]을 통해 같은 종류의 업태구분명 병합"
   ]
  },
  {
   "cell_type": "code",
   "execution_count": 25,
   "metadata": {},
   "outputs": [
    {
     "name": "stdout",
     "output_type": "stream",
     "text": [
      "업태구분명\n",
      "한식                 126748\n",
      "분식                  48322\n",
      "경양식                 25590\n",
      "기타                  24781\n",
      "호프/통닭               24430\n",
      "일식                  10805\n",
      "중국식                  9305\n",
      "정종/대포집/소주방           9072\n",
      "통닭(치킨)               6051\n",
      "까페                   5426\n",
      "패스트푸드                2171\n",
      "뷔페식                  2092\n",
      "외국음식전문점(인도,태국등)      1618\n",
      "식육(숯불구이)             1019\n",
      "횟집                   1008\n",
      "전통찻집                  366\n",
      "탕류(보신용)               289\n",
      "감성주점                  239\n",
      "라이브카페                 163\n",
      "출장조리                  139\n",
      "패밀리레스트랑               139\n",
      "복어취급                   73\n",
      "이동조리                   72\n",
      "키즈카페                   61\n",
      "커피숍                     3\n",
      "룸살롱                     1\n",
      "다방                      1\n",
      "기타 휴게음식점                1\n",
      "간이주점                    1\n",
      "Name: count, dtype: int64\n"
     ]
    },
    {
     "data": {
      "text/plain": [
       "업태구분명\n",
       "한식                 126748\n",
       "분식                  48322\n",
       "경양식                 25590\n",
       "기타                  24781\n",
       "호프/통닭               24430\n",
       "일식                  10805\n",
       "중국식                  9305\n",
       "정종/대포집/소주방           9072\n",
       "통닭(치킨)               6051\n",
       "까페                   5426\n",
       "패스트푸드                2171\n",
       "뷔페식                  2092\n",
       "외국음식전문점(인도,태국등)      1618\n",
       "식육(숯불구이)             1019\n",
       "횟집                   1008\n",
       "전통찻집                  366\n",
       "탕류(보신용)               289\n",
       "감성주점                  239\n",
       "라이브카페                 163\n",
       "출장조리                  139\n",
       "패밀리레스트랑               139\n",
       "복어취급                   73\n",
       "이동조리                   72\n",
       "키즈카페                   61\n",
       "커피숍                     3\n",
       "룸살롱                     1\n",
       "다방                      1\n",
       "기타 휴게음식점                1\n",
       "간이주점                    1\n",
       "Name: count, dtype: int64"
      ]
     },
     "execution_count": 25,
     "metadata": {},
     "output_type": "execute_result"
    }
   ],
   "source": [
    "print(data['업태구분명'].value_counts())\n",
    "# 한식 = 냉면집 = 김밥(도시락)\n",
    "# -> 김밥과 냉면집도 한식으로 포함하기 위해 .loc['']을 통하여 데이터 병합\n",
    "\n",
    "data.loc[data['업태구분명'] == '김밥(도시락)', '업태구분명'] = '한식'\n",
    "data.loc[data['업태구분명'] == '냉면집', '업태구분명'] = '한식'\n",
    "data['업태구분명'].value_counts()"
   ]
  },
  {
   "attachments": {},
   "cell_type": "markdown",
   "metadata": {},
   "source": [
    "### 5) 데이터프레임 생성\n",
    "- DataFrame()을 통해 업태구분명 별 count 데이터프레임 생성"
   ]
  },
  {
   "cell_type": "code",
   "execution_count": 34,
   "metadata": {},
   "outputs": [
    {
     "data": {
      "text/html": [
       "<div>\n",
       "<style scoped>\n",
       "    .dataframe tbody tr th:only-of-type {\n",
       "        vertical-align: middle;\n",
       "    }\n",
       "\n",
       "    .dataframe tbody tr th {\n",
       "        vertical-align: top;\n",
       "    }\n",
       "\n",
       "    .dataframe thead th {\n",
       "        text-align: right;\n",
       "    }\n",
       "</style>\n",
       "<table border=\"1\" class=\"dataframe\">\n",
       "  <thead>\n",
       "    <tr style=\"text-align: right;\">\n",
       "      <th></th>\n",
       "      <th>업태구분명</th>\n",
       "      <th>count</th>\n",
       "    </tr>\n",
       "  </thead>\n",
       "  <tbody>\n",
       "    <tr>\n",
       "      <th>0</th>\n",
       "      <td>한식</td>\n",
       "      <td>126748</td>\n",
       "    </tr>\n",
       "    <tr>\n",
       "      <th>1</th>\n",
       "      <td>분식</td>\n",
       "      <td>48322</td>\n",
       "    </tr>\n",
       "    <tr>\n",
       "      <th>2</th>\n",
       "      <td>경양식</td>\n",
       "      <td>25590</td>\n",
       "    </tr>\n",
       "    <tr>\n",
       "      <th>3</th>\n",
       "      <td>기타</td>\n",
       "      <td>24781</td>\n",
       "    </tr>\n",
       "    <tr>\n",
       "      <th>4</th>\n",
       "      <td>호프/통닭</td>\n",
       "      <td>24430</td>\n",
       "    </tr>\n",
       "    <tr>\n",
       "      <th>5</th>\n",
       "      <td>일식</td>\n",
       "      <td>10805</td>\n",
       "    </tr>\n",
       "    <tr>\n",
       "      <th>6</th>\n",
       "      <td>중국식</td>\n",
       "      <td>9305</td>\n",
       "    </tr>\n",
       "    <tr>\n",
       "      <th>7</th>\n",
       "      <td>정종/대포집/소주방</td>\n",
       "      <td>9072</td>\n",
       "    </tr>\n",
       "    <tr>\n",
       "      <th>8</th>\n",
       "      <td>통닭(치킨)</td>\n",
       "      <td>6051</td>\n",
       "    </tr>\n",
       "    <tr>\n",
       "      <th>9</th>\n",
       "      <td>까페</td>\n",
       "      <td>5426</td>\n",
       "    </tr>\n",
       "    <tr>\n",
       "      <th>10</th>\n",
       "      <td>패스트푸드</td>\n",
       "      <td>2171</td>\n",
       "    </tr>\n",
       "    <tr>\n",
       "      <th>11</th>\n",
       "      <td>뷔페식</td>\n",
       "      <td>2092</td>\n",
       "    </tr>\n",
       "    <tr>\n",
       "      <th>12</th>\n",
       "      <td>외국음식전문점(인도,태국등)</td>\n",
       "      <td>1618</td>\n",
       "    </tr>\n",
       "    <tr>\n",
       "      <th>13</th>\n",
       "      <td>식육(숯불구이)</td>\n",
       "      <td>1019</td>\n",
       "    </tr>\n",
       "    <tr>\n",
       "      <th>14</th>\n",
       "      <td>횟집</td>\n",
       "      <td>1008</td>\n",
       "    </tr>\n",
       "    <tr>\n",
       "      <th>15</th>\n",
       "      <td>전통찻집</td>\n",
       "      <td>366</td>\n",
       "    </tr>\n",
       "    <tr>\n",
       "      <th>16</th>\n",
       "      <td>탕류(보신용)</td>\n",
       "      <td>289</td>\n",
       "    </tr>\n",
       "    <tr>\n",
       "      <th>17</th>\n",
       "      <td>감성주점</td>\n",
       "      <td>239</td>\n",
       "    </tr>\n",
       "    <tr>\n",
       "      <th>18</th>\n",
       "      <td>라이브카페</td>\n",
       "      <td>163</td>\n",
       "    </tr>\n",
       "    <tr>\n",
       "      <th>19</th>\n",
       "      <td>출장조리</td>\n",
       "      <td>139</td>\n",
       "    </tr>\n",
       "    <tr>\n",
       "      <th>20</th>\n",
       "      <td>패밀리레스트랑</td>\n",
       "      <td>139</td>\n",
       "    </tr>\n",
       "    <tr>\n",
       "      <th>21</th>\n",
       "      <td>복어취급</td>\n",
       "      <td>73</td>\n",
       "    </tr>\n",
       "    <tr>\n",
       "      <th>22</th>\n",
       "      <td>이동조리</td>\n",
       "      <td>72</td>\n",
       "    </tr>\n",
       "    <tr>\n",
       "      <th>23</th>\n",
       "      <td>키즈카페</td>\n",
       "      <td>61</td>\n",
       "    </tr>\n",
       "    <tr>\n",
       "      <th>24</th>\n",
       "      <td>커피숍</td>\n",
       "      <td>3</td>\n",
       "    </tr>\n",
       "    <tr>\n",
       "      <th>25</th>\n",
       "      <td>룸살롱</td>\n",
       "      <td>1</td>\n",
       "    </tr>\n",
       "    <tr>\n",
       "      <th>26</th>\n",
       "      <td>다방</td>\n",
       "      <td>1</td>\n",
       "    </tr>\n",
       "    <tr>\n",
       "      <th>27</th>\n",
       "      <td>기타 휴게음식점</td>\n",
       "      <td>1</td>\n",
       "    </tr>\n",
       "    <tr>\n",
       "      <th>28</th>\n",
       "      <td>간이주점</td>\n",
       "      <td>1</td>\n",
       "    </tr>\n",
       "  </tbody>\n",
       "</table>\n",
       "</div>"
      ],
      "text/plain": [
       "              업태구분명   count\n",
       "0                한식  126748\n",
       "1                분식   48322\n",
       "2               경양식   25590\n",
       "3                기타   24781\n",
       "4             호프/통닭   24430\n",
       "5                일식   10805\n",
       "6               중국식    9305\n",
       "7        정종/대포집/소주방    9072\n",
       "8            통닭(치킨)    6051\n",
       "9                까페    5426\n",
       "10            패스트푸드    2171\n",
       "11              뷔페식    2092\n",
       "12  외국음식전문점(인도,태국등)    1618\n",
       "13         식육(숯불구이)    1019\n",
       "14               횟집    1008\n",
       "15             전통찻집     366\n",
       "16          탕류(보신용)     289\n",
       "17             감성주점     239\n",
       "18            라이브카페     163\n",
       "19             출장조리     139\n",
       "20          패밀리레스트랑     139\n",
       "21             복어취급      73\n",
       "22             이동조리      72\n",
       "23             키즈카페      61\n",
       "24              커피숍       3\n",
       "25              룸살롱       1\n",
       "26               다방       1\n",
       "27         기타 휴게음식점       1\n",
       "28             간이주점       1"
      ]
     },
     "execution_count": 34,
     "metadata": {},
     "output_type": "execute_result"
    }
   ],
   "source": [
    "업태구분data = DataFrame(data['업태구분명'].value_counts()).reset_index()\n",
    "업태구분data"
   ]
  },
  {
   "attachments": {},
   "cell_type": "markdown",
   "metadata": {},
   "source": [
    "### 6) 데이터 정제 2\n",
    "- .query() 를 통해 행 단위 필터링\n",
    "- 중식처럼 주된 식사가 아닌 간식 또는 후식 음식점들을 배제(분식, 호프/통닭,통닭(치킨), 까페, 전통찻집, 라이브카페, 키즈카페,커피숍, 다방)\n",
    "- 업태구분이 불분명한 항목들 배제 (정종/대포집/소주방, 패밀리레스토랑, 기타, 패스트푸드, 뷔패식, 식육(숯불구이), 횟집, 탕류(보신용), 감성주점,\t출장조리, 이동조리, 복어취급,룸살롱, 기타 휴게음식점, 간이주점 등) \n"
   ]
  },
  {
   "cell_type": "code",
   "execution_count": 53,
   "metadata": {},
   "outputs": [
    {
     "ename": "SyntaxError",
     "evalue": "invalid syntax. Perhaps you forgot a comma? (3053670666.py, line 2)",
     "output_type": "error",
     "traceback": [
      "\u001b[0;36m  Cell \u001b[0;32mIn[53], line 2\u001b[0;36m\u001b[0m\n\u001b[0;31m    주식data = 업태구분data.query('업태구분명 in ['한식', '경양식', '일식', '중국식', '외국음식전문점(인도,태국등)']')\u001b[0m\n\u001b[0m                            ^\u001b[0m\n\u001b[0;31mSyntaxError\u001b[0m\u001b[0;31m:\u001b[0m invalid syntax. Perhaps you forgot a comma?\n"
     ]
    }
   ],
   "source": [
    "주식list = ['한식', '경양식', '일식', '중국식', '외국음식전문점(인도,태국등)']\n",
    "주식data = 업태구분data.query('업태구분명 in ['한식', '경양식', '일식', '중국식', '외국음식전문점(인도,태국등)']')\n",
    "주식data"
   ]
  },
  {
   "attachments": {},
   "cell_type": "markdown",
   "metadata": {},
   "source": [
    "### 5) 탐색적 데이터 분석"
   ]
  },
  {
   "cell_type": "code",
   "execution_count": null,
   "metadata": {},
   "outputs": [],
   "source": [
    "datafilter = DataFrame(data.query(\"영업상태명 == '영업/정상'\").filter(['소재지전체주소', '사업자명', '업태구분명', '좌표정보(X)', '좌표정보(Y)']))\n"
   ]
  },
  {
   "attachments": {},
   "cell_type": "markdown",
   "metadata": {},
   "source": []
  }
 ],
 "metadata": {
  "kernelspec": {
   "display_name": "Python 3",
   "language": "python",
   "name": "python3"
  },
  "language_info": {
   "codemirror_mode": {
    "name": "ipython",
    "version": 3
   },
   "file_extension": ".py",
   "mimetype": "text/x-python",
   "name": "python",
   "nbconvert_exporter": "python",
   "pygments_lexer": "ipython3",
   "version": "3.11.3"
  },
  "orig_nbformat": 4
 },
 "nbformat": 4,
 "nbformat_minor": 2
}
