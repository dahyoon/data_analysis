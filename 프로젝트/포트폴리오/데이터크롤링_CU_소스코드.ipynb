{
 "cells": [
  {
   "attachments": {},
   "cell_type": "markdown",
   "metadata": {},
   "source": [
    "# CU Icecream Data\n",
    "- CU 웹사이트 특징:\n",
    "    1. 더보기 버튼이 총 7번 있다\n",
    "    2. 브랜드 명은 ')' 앞에, 이름은 뒤에 있다\n",
    "    3. HEYROO와 delaffe만 브랜드명과 이름이 ')'구분 없이 붙어있다\n",
    "\n",
    "#### 1. 필요한 패키지 참조"
   ]
  },
  {
   "cell_type": "code",
   "execution_count": 2,
   "metadata": {},
   "outputs": [],
   "source": [
    "import chromedriver_autoinstaller\n",
    "from selenium import webdriver\n",
    "from selenium.webdriver.support.ui import WebDriverWait\n",
    "from selenium.webdriver.common.by import By\n",
    "import time\n",
    "\n",
    "from bs4 import BeautifulSoup\n",
    "from pandas import DataFrame\n",
    "\n",
    "import pymysql"
   ]
  },
  {
   "attachments": {},
   "cell_type": "markdown",
   "metadata": {},
   "source": [
    "#### 2. Chrome Browser 가동"
   ]
  },
  {
   "cell_type": "code",
   "execution_count": 3,
   "metadata": {},
   "outputs": [],
   "source": [
    "chromedriver_autoinstaller.install()\n",
    "driver = webdriver.Chrome()\n",
    "\n",
    "# 크롬브라우저가 준비될 때 까지 최대 5초씩 대기\n",
    "driver.implicitly_wait(5)"
   ]
  },
  {
   "attachments": {},
   "cell_type": "markdown",
   "metadata": {},
   "source": [
    "#### 3. CU 아이스크림 페이지로 이동"
   ]
  },
  {
   "cell_type": "code",
   "execution_count": 4,
   "metadata": {},
   "outputs": [],
   "source": [
    "driver.get(\"https://cu.bgfretail.com/product/product.do?category=product&depth2=4&depth3=4\")\n",
    "# 1초간 대기\n",
    "time.sleep(1)"
   ]
  },
  {
   "attachments": {},
   "cell_type": "markdown",
   "metadata": {},
   "source": [
    "#### 4. 더보기 버튼 누르기 (총 7번)"
   ]
  },
  {
   "cell_type": "code",
   "execution_count": 5,
   "metadata": {},
   "outputs": [],
   "source": [
    "a = 0\n",
    "for a in range(7):\n",
    "    if a < 7:\n",
    "        more_button = WebDriverWait(driver, 3).until(\n",
    "            lambda x: x.find_element(By.CSS_SELECTOR, \".prodListBtn-w\")\n",
    "        )\n",
    "        more_button.click()\n",
    "        # 5초간 대기\n",
    "        time.sleep(5)\n",
    "        a += 1"
   ]
  },
  {
   "attachments": {},
   "cell_type": "markdown",
   "metadata": {},
   "source": [
    "#### 5. 내용 수집\n",
    "\n",
    "##### 1) 모든 정보 수집할 리스트 생성 및 아이스크림의 정보가 표시되는 html&css 추출"
   ]
  },
  {
   "cell_type": "code",
   "execution_count": 6,
   "metadata": {},
   "outputs": [],
   "source": [
    "icecream_data = []\n",
    "\n",
    "soup = BeautifulSoup(driver.page_source)\n",
    "icecreamList = soup.select(\".prod_wrap\")"
   ]
  },
  {
   "attachments": {},
   "cell_type": "markdown",
   "metadata": {},
   "source": [
    "##### 2) 추출된 아이스크림 목록 수 만큼 반복하며 이름, 브랜드명, 가격 가져온 후 결과 병합"
   ]
  },
  {
   "cell_type": "code",
   "execution_count": 7,
   "metadata": {},
   "outputs": [],
   "source": [
    "for i in icecreamList:\n",
    "    # 이름\n",
    "    name = i.select(\".name\")\n",
    "    if name:\n",
    "        nameValue = name[0].text.strip()\n",
    "        if ')' in nameValue:\n",
    "            indexBeforeName = nameValue.index(')')\n",
    "            nameValue = nameValue[indexBeforeName + 1:]\n",
    "        elif 'delaffe' in nameValue:\n",
    "            nameValue = nameValue[7:]\n",
    "        elif 'HEYROO' in nameValue:\n",
    "            nameValue = nameValue[6:]\n",
    "        else:\n",
    "            nameValue = nameValue\n",
    "    else: \n",
    "        nameValue = None\n",
    "    \n",
    "    # 브랜드명\n",
    "    brand = i.select(\".name\")\n",
    "    if brand:\n",
    "        brandValue = brand[0].text.strip()\n",
    "        if ')' in brandValue:\n",
    "            indexBeforeName = brandValue.index(')')\n",
    "            brandValue = brandValue[:indexBeforeName]\n",
    "        elif 'delaffe' in brandValue:\n",
    "            brandValue = 'delaffe'\n",
    "        elif 'HEYROO' in brandValue:\n",
    "            brandValue = 'HEYROO'\n",
    "        else:\n",
    "            brandValue = None\n",
    "    else:\n",
    "        brandValue = None\n",
    "\n",
    "    # 가격\n",
    "    price = i.select(\".price\")\n",
    "    if price:\n",
    "        priceValue = int(price[0].text.strip().replace('원', '').replace(',', ''))\n",
    "    else:\n",
    "        priceValue = None\n",
    "\n",
    "    # 결과 병합\n",
    "    resultDic = {'이름': nameValue, \n",
    "                '브랜드': brandValue,\n",
    "                '가격(원)': priceValue}\n",
    "    icecream_data.append(resultDic)"
   ]
  },
  {
   "attachments": {},
   "cell_type": "markdown",
   "metadata": {},
   "source": [
    "#### 6. Excel 파일로 수집한 내용 저장"
   ]
  },
  {
   "cell_type": "code",
   "execution_count": 8,
   "metadata": {},
   "outputs": [],
   "source": [
    "df = DataFrame(icecream_data)\n",
    "df.to_excel(\"icecream_list_cu.xlsx\")"
   ]
  },
  {
   "cell_type": "code",
   "execution_count": 16,
   "metadata": {},
   "outputs": [
    {
     "data": {
      "text/plain": [
       "307"
      ]
     },
     "execution_count": 16,
     "metadata": {},
     "output_type": "execute_result"
    }
   ],
   "source": [
    "len(icecream_data)"
   ]
  },
  {
   "cell_type": "markdown",
   "metadata": {},
   "source": [
    "#### 7. MySQL에 저장 - pymysql 사용\n",
    "##### 데이터 베이스에 접속"
   ]
  },
  {
   "cell_type": "code",
   "execution_count": 10,
   "metadata": {},
   "outputs": [],
   "source": [
    "dbcon = pymysql.connect(host=\"127.0.0.1\",   # 서버주소 - \"127.0.0.1\" 또는 \"localhost\"\n",
    "                        port = 3406,        # 포트번호\n",
    "                        user = \"root\",      # 계정이름\n",
    "                        password = \"1234\",  # 비밀번호\n",
    "                        db = \"icecream\",    # 데이터베이스 이름\n",
    "                        charset = \"utf8\"    # 인코딩\n",
    "                        )"
   ]
  },
  {
   "cell_type": "markdown",
   "metadata": {},
   "source": [
    "##### 커서 객체 생성"
   ]
  },
  {
   "cell_type": "code",
   "execution_count": 11,
   "metadata": {},
   "outputs": [],
   "source": [
    "cursor = dbcon.cursor()"
   ]
  },
  {
   "cell_type": "markdown",
   "metadata": {},
   "source": [
    "##### 데이터 입력"
   ]
  },
  {
   "cell_type": "code",
   "execution_count": 13,
   "metadata": {},
   "outputs": [],
   "source": [
    "웹페이지_이름 = ['cu_icecream']\n",
    "\n",
    "for 웹페이지 in 웹페이지_이름:\n",
    "    # 테이블 생성\n",
    "    create_table = \"CREATE TABLE %s (id INT auto_increment, name VARCHAR(10), brand VARCHAR(10), price INT, PRIMARY KEY (id))\" % 웹페이지\n",
    "    cursor.execute(create_table)         # 쿼리문 실행\n",
    "\n",
    "    # 각 테이블 (CU, EMART)에 해당 아이스크림 정보 입력\n",
    "    for 아이스크림 in range(len(icecream_data)):\n",
    "        이름 = icecream_data[아이스크림]['이름']\n",
    "        브랜드 = icecream_data[아이스크림]['브랜드']\n",
    "        가격 = icecream_data[아이스크림]['가격(원)']\n",
    "        insert = \"INSERT INTO %s (name, brand, price) VALUES ('%s', '%s', %d)\" % (웹페이지, 이름, 브랜드, 가격)\n",
    "        cursor.execute(insert)         # 쿼리문 실행"
   ]
  },
  {
   "cell_type": "markdown",
   "metadata": {},
   "source": [
    "##### 데이터 조회/확인"
   ]
  },
  {
   "cell_type": "code",
   "execution_count": 14,
   "metadata": {},
   "outputs": [],
   "source": [
    "for 웹페이지 in 웹페이지_이름:\n",
    "    조회 = \"SELECT * FROM %s\" % 웹페이지\n",
    "    cursor.execute(조회)         # 쿼리문 실행\n",
    "    result = cursor.fetchall()  # 데이터 반환받기\n",
    "    df = DataFrame(result)\n",
    "    df.set_index(0, inplace= True)\n",
    "    df.index.name = 'id'\n",
    "    df.rename(columns = {1: '이름', 2: '브랜드', 3: '가격(원)'}, inplace=True)"
   ]
  },
  {
   "cell_type": "code",
   "execution_count": 15,
   "metadata": {},
   "outputs": [
    {
     "data": {
      "text/html": [
       "<div>\n",
       "<style scoped>\n",
       "    .dataframe tbody tr th:only-of-type {\n",
       "        vertical-align: middle;\n",
       "    }\n",
       "\n",
       "    .dataframe tbody tr th {\n",
       "        vertical-align: top;\n",
       "    }\n",
       "\n",
       "    .dataframe thead th {\n",
       "        text-align: right;\n",
       "    }\n",
       "</style>\n",
       "<table border=\"1\" class=\"dataframe\">\n",
       "  <thead>\n",
       "    <tr style=\"text-align: right;\">\n",
       "      <th></th>\n",
       "      <th>이름</th>\n",
       "      <th>브랜드</th>\n",
       "      <th>가격(원)</th>\n",
       "    </tr>\n",
       "    <tr>\n",
       "      <th>id</th>\n",
       "      <th></th>\n",
       "      <th></th>\n",
       "      <th></th>\n",
       "    </tr>\n",
       "  </thead>\n",
       "  <tbody>\n",
       "    <tr>\n",
       "      <th>1</th>\n",
       "      <td>녹차미니컵</td>\n",
       "      <td>나뚜루</td>\n",
       "      <td>4800</td>\n",
       "    </tr>\n",
       "    <tr>\n",
       "      <th>2</th>\n",
       "      <td>녹차바</td>\n",
       "      <td>나뚜루</td>\n",
       "      <td>4800</td>\n",
       "    </tr>\n",
       "    <tr>\n",
       "      <th>3</th>\n",
       "      <td>딸기미니컵</td>\n",
       "      <td>나뚜루</td>\n",
       "      <td>4800</td>\n",
       "    </tr>\n",
       "    <tr>\n",
       "      <th>4</th>\n",
       "      <td>바닐라아몬드바</td>\n",
       "      <td>나뚜루</td>\n",
       "      <td>4800</td>\n",
       "    </tr>\n",
       "    <tr>\n",
       "      <th>5</th>\n",
       "      <td>초코미니컵</td>\n",
       "      <td>나뚜루</td>\n",
       "      <td>4800</td>\n",
       "    </tr>\n",
       "    <tr>\n",
       "      <th>...</th>\n",
       "      <td>...</td>\n",
       "      <td>...</td>\n",
       "      <td>...</td>\n",
       "    </tr>\n",
       "    <tr>\n",
       "      <th>303</th>\n",
       "      <td>초코미니컵</td>\n",
       "      <td>나뚜루</td>\n",
       "      <td>4800</td>\n",
       "    </tr>\n",
       "    <tr>\n",
       "      <th>304</th>\n",
       "      <td>바닐라아몬드바</td>\n",
       "      <td>나뚜루</td>\n",
       "      <td>4800</td>\n",
       "    </tr>\n",
       "    <tr>\n",
       "      <th>305</th>\n",
       "      <td>딸기미니컵</td>\n",
       "      <td>나뚜루</td>\n",
       "      <td>4800</td>\n",
       "    </tr>\n",
       "    <tr>\n",
       "      <th>306</th>\n",
       "      <td>녹차바</td>\n",
       "      <td>나뚜루</td>\n",
       "      <td>4800</td>\n",
       "    </tr>\n",
       "    <tr>\n",
       "      <th>307</th>\n",
       "      <td>녹차미니컵</td>\n",
       "      <td>나뚜루</td>\n",
       "      <td>4800</td>\n",
       "    </tr>\n",
       "  </tbody>\n",
       "</table>\n",
       "<p>307 rows × 3 columns</p>\n",
       "</div>"
      ],
      "text/plain": [
       "          이름  브랜드  가격(원)\n",
       "id                      \n",
       "1      녹차미니컵  나뚜루   4800\n",
       "2        녹차바  나뚜루   4800\n",
       "3      딸기미니컵  나뚜루   4800\n",
       "4    바닐라아몬드바  나뚜루   4800\n",
       "5      초코미니컵  나뚜루   4800\n",
       "..       ...  ...    ...\n",
       "303    초코미니컵  나뚜루   4800\n",
       "304  바닐라아몬드바  나뚜루   4800\n",
       "305    딸기미니컵  나뚜루   4800\n",
       "306      녹차바  나뚜루   4800\n",
       "307    녹차미니컵  나뚜루   4800\n",
       "\n",
       "[307 rows x 3 columns]"
      ]
     },
     "execution_count": 15,
     "metadata": {},
     "output_type": "execute_result"
    }
   ],
   "source": [
    "df"
   ]
  }
 ],
 "metadata": {
  "kernelspec": {
   "display_name": "Python 3",
   "language": "python",
   "name": "python3"
  },
  "language_info": {
   "codemirror_mode": {
    "name": "ipython",
    "version": 3
   },
   "file_extension": ".py",
   "mimetype": "text/x-python",
   "name": "python",
   "nbconvert_exporter": "python",
   "pygments_lexer": "ipython3",
   "version": "3.9.13"
  },
  "orig_nbformat": 4
 },
 "nbformat": 4,
 "nbformat_minor": 2
}
