{
 "cells": [
  {
   "attachments": {},
   "cell_type": "markdown",
   "metadata": {},
   "source": [
    "# 데이터 전처리 (2) - 행 열 병합\n",
    "- 다른 데이터 프레임과 데이터 합치기 (열)\n",
    "- 다른 데이터 프레임과 데이터 합치기 (행)\n",
    "\n",
    "### 1. 분석 준비\n",
    "#### 1) 패키지 참조"
   ]
  },
  {
   "cell_type": "code",
   "execution_count": 2,
   "metadata": {},
   "outputs": [],
   "source": [
    "from pandas import DataFrame, read_excel\n",
    "from pandas import merge, concat"
   ]
  },
  {
   "attachments": {},
   "cell_type": "markdown",
   "metadata": {},
   "source": [
    "#### 2) 데이터 가져오기"
   ]
  },
  {
   "cell_type": "code",
   "execution_count": 3,
   "metadata": {},
   "outputs": [
    {
     "name": "stdout",
     "output_type": "stream",
     "text": [
      "   고객번호   이름\n",
      "0  1001   둘리\n",
      "1  1002  도우너\n",
      "2  1003   또치\n",
      "3  1004   길동\n",
      "4  1005   희동\n",
      "5  1006  마이콜\n",
      "6  1007   영희\n",
      "   고객번호      금액\n",
      "0  1001   10000\n",
      "1  1001   20000\n",
      "2  1005   15000\n",
      "3  1006    5000\n",
      "4  1008  100000\n",
      "5  1001   30000\n"
     ]
    }
   ],
   "source": [
    "고객 = read_excel(\"https://data.hossam.kr/C02/customer.xlsx\")\n",
    "print(고객)\n",
    "매출 = read_excel('https://data.hossam.kr/C02/money.xlsx')\n",
    "print(매출)"
   ]
  },
  {
   "attachments": {},
   "cell_type": "markdown",
   "metadata": {},
   "source": [
    "### 2. 다른 데이터 프레임과 데이터 합치기 (열)\n",
    "#### 1) 데이터 프레임 기본 병합\n",
    "- `merge(데이터프레임1, 데이터프레임2 [, how = 'left/right/outer'])`\n",
    "\n",
    "- 일치하는 데이터끼리의 병합\n",
    "    - 2개의 데이터프레임에서 이름이 동일한 컬럼을 기준으로 같은 데이터끼리 병합하고 일치하지 않는 데이터는 버려진다\n",
    "    - 양쪽 데이터프레임의 공통컬럼에 중복 데이터가 여러개 있는 경우: 모든 경우의 수를 따져서 조합을 만들어 낸다 (예: 1001번 둘리의 데이터)\n",
    "> SQL의 equi 혹은 inner join과 동일"
   ]
  },
  {
   "cell_type": "code",
   "execution_count": 4,
   "metadata": {},
   "outputs": [
    {
     "data": {
      "text/html": [
       "<div>\n",
       "<style scoped>\n",
       "    .dataframe tbody tr th:only-of-type {\n",
       "        vertical-align: middle;\n",
       "    }\n",
       "\n",
       "    .dataframe tbody tr th {\n",
       "        vertical-align: top;\n",
       "    }\n",
       "\n",
       "    .dataframe thead th {\n",
       "        text-align: right;\n",
       "    }\n",
       "</style>\n",
       "<table border=\"1\" class=\"dataframe\">\n",
       "  <thead>\n",
       "    <tr style=\"text-align: right;\">\n",
       "      <th></th>\n",
       "      <th>고객번호</th>\n",
       "      <th>이름</th>\n",
       "      <th>금액</th>\n",
       "    </tr>\n",
       "  </thead>\n",
       "  <tbody>\n",
       "    <tr>\n",
       "      <th>0</th>\n",
       "      <td>1001</td>\n",
       "      <td>둘리</td>\n",
       "      <td>10000.0</td>\n",
       "    </tr>\n",
       "    <tr>\n",
       "      <th>1</th>\n",
       "      <td>1001</td>\n",
       "      <td>둘리</td>\n",
       "      <td>20000.0</td>\n",
       "    </tr>\n",
       "    <tr>\n",
       "      <th>2</th>\n",
       "      <td>1001</td>\n",
       "      <td>둘리</td>\n",
       "      <td>30000.0</td>\n",
       "    </tr>\n",
       "    <tr>\n",
       "      <th>3</th>\n",
       "      <td>1002</td>\n",
       "      <td>도우너</td>\n",
       "      <td>NaN</td>\n",
       "    </tr>\n",
       "    <tr>\n",
       "      <th>4</th>\n",
       "      <td>1003</td>\n",
       "      <td>또치</td>\n",
       "      <td>NaN</td>\n",
       "    </tr>\n",
       "    <tr>\n",
       "      <th>5</th>\n",
       "      <td>1004</td>\n",
       "      <td>길동</td>\n",
       "      <td>NaN</td>\n",
       "    </tr>\n",
       "    <tr>\n",
       "      <th>6</th>\n",
       "      <td>1005</td>\n",
       "      <td>희동</td>\n",
       "      <td>15000.0</td>\n",
       "    </tr>\n",
       "    <tr>\n",
       "      <th>7</th>\n",
       "      <td>1006</td>\n",
       "      <td>마이콜</td>\n",
       "      <td>5000.0</td>\n",
       "    </tr>\n",
       "    <tr>\n",
       "      <th>8</th>\n",
       "      <td>1007</td>\n",
       "      <td>영희</td>\n",
       "      <td>NaN</td>\n",
       "    </tr>\n",
       "    <tr>\n",
       "      <th>9</th>\n",
       "      <td>1008</td>\n",
       "      <td>NaN</td>\n",
       "      <td>100000.0</td>\n",
       "    </tr>\n",
       "  </tbody>\n",
       "</table>\n",
       "</div>"
      ],
      "text/plain": [
       "   고객번호   이름        금액\n",
       "0  1001   둘리   10000.0\n",
       "1  1001   둘리   20000.0\n",
       "2  1001   둘리   30000.0\n",
       "3  1002  도우너       NaN\n",
       "4  1003   또치       NaN\n",
       "5  1004   길동       NaN\n",
       "6  1005   희동   15000.0\n",
       "7  1006  마이콜    5000.0\n",
       "8  1007   영희       NaN\n",
       "9  1008  NaN  100000.0"
      ]
     },
     "execution_count": 4,
     "metadata": {},
     "output_type": "execute_result"
    }
   ],
   "source": [
    "merge(고객, 매출)\n",
    "\n",
    "# 왼쪽 데이터 프레임을 기준으로 병합\n",
    "# : 고객(왼쪽) 데이터를 기준으로 일치하는 매출 데이터를 병합 (고객 데이터의 모든 항목에 대한 출력 보장)\n",
    "# : SQL의 LEFT OUTER JOIN과 동일\n",
    "# merge(고객, 매출, how=\"left\")\n",
    "\n",
    "# # 오른쪽 데이터 프레임을 기준으로 병합\n",
    "# # : SQL의 RIGHT OUTER JOIN과 동일\n",
    "# merge(고객, 매출, how=\"right\")\n",
    "\n",
    "# 모든 데이터의 교차 병합\n",
    "# : SQL의 FULL OUTER JOIN과 동일\n",
    "merge(고객, 매출, how=\"outer\")"
   ]
  },
  {
   "attachments": {},
   "cell_type": "markdown",
   "metadata": {},
   "source": [
    "#### 2) 병합 대상 열 지정하기"
   ]
  },
  {
   "attachments": {},
   "cell_type": "markdown",
   "metadata": {},
   "source": [
    "기본 병합\n",
    "- merge(데이터프레임1, 데이터프레임1)\n",
    "- 두 데이터 프레임에서 이름이 같은 열은 모두 키가 됨"
   ]
  },
  {
   "cell_type": "code",
   "execution_count": 5,
   "metadata": {},
   "outputs": [
    {
     "name": "stdout",
     "output_type": "stream",
     "text": [
      "  고객명         날짜     데이터\n",
      "0  민수 2018-01-01   20000\n",
      "1  수영 2018-01-01  100000\n",
      "  고객명  데이터\n",
      "0  민수  21세\n",
      "1  수영  20세\n"
     ]
    }
   ],
   "source": [
    "# 샘플 데이터 가져오기\n",
    "cd1 = read_excel(\"https://data.hossam.kr/C02/customer_data1.xlsx\")\n",
    "print(cd1)\n",
    "cd2 = read_excel(\"https://data.hossam.kr/C02/customer_data2.xlsx\")\n",
    "print(cd2)\n",
    "\n",
    "# 기본 병합\n",
    "# -> 샘플 데이터에서는 데이터라는 이름의 변수가 df_left는 int, df_right는 str타입이므로 병합 기준을 충족하지 않는다.\n",
    "# -> 그러므로 아래 코드는 에러\n",
    "# merge(cd1, cd2)"
   ]
  },
  {
   "attachments": {},
   "cell_type": "markdown",
   "metadata": {},
   "source": [
    "병합 기준 설정\n",
    "- 병합 기준 열이 아니면서 이름이 같은 열에는 _x 또는 _y 와 같은 접미사가 붙음"
   ]
  },
  {
   "cell_type": "code",
   "execution_count": 6,
   "metadata": {},
   "outputs": [
    {
     "name": "stdout",
     "output_type": "stream",
     "text": [
      "  고객명         날짜   데이터_x 데이터_y\n",
      "0  민수 2018-01-01   20000   21세\n",
      "1  수영 2018-01-01  100000   20세\n"
     ]
    },
    {
     "data": {
      "text/html": [
       "<div>\n",
       "<style scoped>\n",
       "    .dataframe tbody tr th:only-of-type {\n",
       "        vertical-align: middle;\n",
       "    }\n",
       "\n",
       "    .dataframe tbody tr th {\n",
       "        vertical-align: top;\n",
       "    }\n",
       "\n",
       "    .dataframe thead th {\n",
       "        text-align: right;\n",
       "    }\n",
       "</style>\n",
       "<table border=\"1\" class=\"dataframe\">\n",
       "  <thead>\n",
       "    <tr style=\"text-align: right;\">\n",
       "      <th></th>\n",
       "      <th>고객명</th>\n",
       "      <th>날짜</th>\n",
       "      <th>금액</th>\n",
       "      <th>나이</th>\n",
       "    </tr>\n",
       "  </thead>\n",
       "  <tbody>\n",
       "    <tr>\n",
       "      <th>0</th>\n",
       "      <td>민수</td>\n",
       "      <td>2018-01-01</td>\n",
       "      <td>20000</td>\n",
       "      <td>21세</td>\n",
       "    </tr>\n",
       "    <tr>\n",
       "      <th>1</th>\n",
       "      <td>수영</td>\n",
       "      <td>2018-01-01</td>\n",
       "      <td>100000</td>\n",
       "      <td>20세</td>\n",
       "    </tr>\n",
       "  </tbody>\n",
       "</table>\n",
       "</div>"
      ],
      "text/plain": [
       "  고객명         날짜      금액   나이\n",
       "0  민수 2018-01-01   20000  21세\n",
       "1  수영 2018-01-01  100000  20세"
      ]
     },
     "execution_count": 6,
     "metadata": {},
     "output_type": "execute_result"
    }
   ],
   "source": [
    "tmp = merge(cd1, cd2, on='고객명')\n",
    "print(tmp)\n",
    "tmp.rename(columns={'데이터_x': '금액', '데이터_y': '나이'})"
   ]
  },
  {
   "attachments": {},
   "cell_type": "markdown",
   "metadata": {},
   "source": [
    "두 데이터 프레임의 모든 컬럼 이름이 다른 경우\n",
    "- 왼쪽의 기준열 이름과 오른쪽의 기준열 이름을 각각 설정해야 함"
   ]
  },
  {
   "cell_type": "code",
   "execution_count": 9,
   "metadata": {},
   "outputs": [
    {
     "name": "stdout",
     "output_type": "stream",
     "text": [
      "   이름  국어\n",
      "0  영희  87\n",
      "1  철수  91\n",
      "   성명  영어\n",
      "0  영희  90\n",
      "1  철수  82\n"
     ]
    },
    {
     "data": {
      "text/html": [
       "<div>\n",
       "<style scoped>\n",
       "    .dataframe tbody tr th:only-of-type {\n",
       "        vertical-align: middle;\n",
       "    }\n",
       "\n",
       "    .dataframe tbody tr th {\n",
       "        vertical-align: top;\n",
       "    }\n",
       "\n",
       "    .dataframe thead th {\n",
       "        text-align: right;\n",
       "    }\n",
       "</style>\n",
       "<table border=\"1\" class=\"dataframe\">\n",
       "  <thead>\n",
       "    <tr style=\"text-align: right;\">\n",
       "      <th></th>\n",
       "      <th>이름</th>\n",
       "      <th>국어</th>\n",
       "      <th>영어</th>\n",
       "    </tr>\n",
       "  </thead>\n",
       "  <tbody>\n",
       "    <tr>\n",
       "      <th>0</th>\n",
       "      <td>영희</td>\n",
       "      <td>87</td>\n",
       "      <td>90</td>\n",
       "    </tr>\n",
       "    <tr>\n",
       "      <th>1</th>\n",
       "      <td>철수</td>\n",
       "      <td>91</td>\n",
       "      <td>82</td>\n",
       "    </tr>\n",
       "  </tbody>\n",
       "</table>\n",
       "</div>"
      ],
      "text/plain": [
       "   이름  국어  영어\n",
       "0  영희  87  90\n",
       "1  철수  91  82"
      ]
     },
     "execution_count": 9,
     "metadata": {},
     "output_type": "execute_result"
    }
   ],
   "source": [
    "# 새 데이터 생성\n",
    "df_left = DataFrame({'이름': ['영희', '철수'], '국어': [87, 91]})\n",
    "df_right = DataFrame({'성명': ['영희', '철수'], '영어': [90, 82]})\n",
    "print(df_left)\n",
    "print(df_right)\n",
    "\n",
    "r3 = merge(df_left, df_right, left_on=['이름'], right_on=['성명'])\n",
    "r3\n",
    "r4 = r3.drop('성명', axis = 1)\n",
    "r4"
   ]
  },
  {
   "attachments": {},
   "cell_type": "markdown",
   "metadata": {},
   "source": [
    "인덱스를 활용한 병합\n",
    "- 인덱스를 기준으로 한 병합"
   ]
  },
  {
   "cell_type": "code",
   "execution_count": 15,
   "metadata": {},
   "outputs": [
    {
     "name": "stdout",
     "output_type": "stream",
     "text": [
      "    수학\n",
      "민철  90\n",
      "봉구  82\n",
      "    국어\n",
      "민철  90\n",
      "철수  82\n"
     ]
    },
    {
     "data": {
      "text/html": [
       "<div>\n",
       "<style scoped>\n",
       "    .dataframe tbody tr th:only-of-type {\n",
       "        vertical-align: middle;\n",
       "    }\n",
       "\n",
       "    .dataframe tbody tr th {\n",
       "        vertical-align: top;\n",
       "    }\n",
       "\n",
       "    .dataframe thead th {\n",
       "        text-align: right;\n",
       "    }\n",
       "</style>\n",
       "<table border=\"1\" class=\"dataframe\">\n",
       "  <thead>\n",
       "    <tr style=\"text-align: right;\">\n",
       "      <th></th>\n",
       "      <th>수학</th>\n",
       "      <th>국어</th>\n",
       "    </tr>\n",
       "  </thead>\n",
       "  <tbody>\n",
       "    <tr>\n",
       "      <th>민철</th>\n",
       "      <td>90</td>\n",
       "      <td>90.0</td>\n",
       "    </tr>\n",
       "    <tr>\n",
       "      <th>봉구</th>\n",
       "      <td>82</td>\n",
       "      <td>NaN</td>\n",
       "    </tr>\n",
       "  </tbody>\n",
       "</table>\n",
       "</div>"
      ],
      "text/plain": [
       "    수학    국어\n",
       "민철  90  90.0\n",
       "봉구  82   NaN"
      ]
     },
     "execution_count": 15,
     "metadata": {},
     "output_type": "execute_result"
    }
   ],
   "source": [
    "# 학생의 이름을 인덱스로 갖는 두 데이터 프레임\n",
    "df_left = DataFrame({'수학': [90, 82]}, index=['민철', '봉구'])\n",
    "print(df_left)\n",
    "df_right = DataFrame({'국어': [90, 82]}, index=['민철', '철수'])\n",
    "print(df_right)\n",
    "\n",
    "merge(df_left, df_right, left_index=True, right_index=True)\n",
    "# >>   수학\t국어\n",
    "# 민철\t90\t90\n",
    "merge(df_left, df_right, left_index=True, right_index=True, how='left')\n",
    "# >>   수학\t국어\n",
    "# 민철\t90\t90.0\n",
    "# 봉구\t82\tNaN\n",
    "merge(df_left, df_right, left_index=True, right_index=True, how=\"right\")\n",
    "# >>   수학\t   국어\n",
    "# 민철\t90.0\t90\n",
    "# 철수\tNaN\t    82\n",
    "merge(df_left, df_right, left_index=True, right_index=True, how=\"outer\")\n",
    "# >> \t수학\t국어\n",
    "# 민철\t90.0\t90.0\n",
    "# 봉구\t82.0\tNaN\n",
    "# 철수\tNaN\t    82.0"
   ]
  },
  {
   "attachments": {},
   "cell_type": "markdown",
   "metadata": {},
   "source": [
    "인덱스와 컬럼을 각각 기준으로 하기"
   ]
  },
  {
   "cell_type": "code",
   "execution_count": 9,
   "metadata": {},
   "outputs": [
    {
     "name": "stdout",
     "output_type": "stream",
     "text": [
      "    수학\n",
      "민철  90\n",
      "봉구  82\n",
      "   성명  영어\n",
      "0  민철  90\n",
      "1  철수  82\n"
     ]
    },
    {
     "data": {
      "text/html": [
       "<div>\n",
       "<style scoped>\n",
       "    .dataframe tbody tr th:only-of-type {\n",
       "        vertical-align: middle;\n",
       "    }\n",
       "\n",
       "    .dataframe tbody tr th {\n",
       "        vertical-align: top;\n",
       "    }\n",
       "\n",
       "    .dataframe thead th {\n",
       "        text-align: right;\n",
       "    }\n",
       "</style>\n",
       "<table border=\"1\" class=\"dataframe\">\n",
       "  <thead>\n",
       "    <tr style=\"text-align: right;\">\n",
       "      <th></th>\n",
       "      <th>수학</th>\n",
       "      <th>영어</th>\n",
       "    </tr>\n",
       "    <tr>\n",
       "      <th>성명</th>\n",
       "      <th></th>\n",
       "      <th></th>\n",
       "    </tr>\n",
       "  </thead>\n",
       "  <tbody>\n",
       "    <tr>\n",
       "      <th>민철</th>\n",
       "      <td>90.0</td>\n",
       "      <td>90.0</td>\n",
       "    </tr>\n",
       "    <tr>\n",
       "      <th>봉구</th>\n",
       "      <td>82.0</td>\n",
       "      <td>NaN</td>\n",
       "    </tr>\n",
       "    <tr>\n",
       "      <th>철수</th>\n",
       "      <td>NaN</td>\n",
       "      <td>82.0</td>\n",
       "    </tr>\n",
       "  </tbody>\n",
       "</table>\n",
       "</div>"
      ],
      "text/plain": [
       "      수학    영어\n",
       "성명            \n",
       "민철  90.0  90.0\n",
       "봉구  82.0   NaN\n",
       "철수   NaN  82.0"
      ]
     },
     "execution_count": 9,
     "metadata": {},
     "output_type": "execute_result"
    }
   ],
   "source": [
    "df_left = DataFrame({'수학': [90, 82]}, index=['민철', '봉구'])\n",
    "print(df_left) \n",
    "df_right = DataFrame({'성명': ['민철', '철수'], '영어': [90, 82]})\n",
    "print(df_right)\n",
    "\n",
    "merge(df_left, df_right, left_index=True, right_on=['성명'])\n",
    "# >> 수학\t성명\t영어\n",
    "#  0  90   민철    90\n",
    "merge(df_left, df_right, left_index=True, right_on=['성명'], how='left')\n",
    "# >>    수학\t성명\t영어\n",
    "# 0.0\t90\t   민철\t   90.0\n",
    "# NaN\t82\t   봉구\t   NaN\n",
    "merge(df_left, df_right, left_index=True, right_on=['성명'], how='right')\n",
    "# >>    수학\t성명\t영어\n",
    "# 0 \t90.0   민철\t   90\n",
    "# 1\t    NaN\t   철수\t   82\n",
    "tmp = merge(df_left, df_right, left_index=True, right_on=['성명'], how='outer')\n",
    "tmp\n",
    "# >> \t수학\t성명\t영어\n",
    "# 0.0\t90.0   민철\t   90.0\n",
    "# NaN\t82.0   봉구\t   NaN\n",
    "# 1.0\tNaN\t   철수\t   82.0\n",
    "tmp2 = tmp.set_index('성명')\n",
    "tmp2\n",
    "# >>   수학\t   영어\n",
    "# 성명\t\t\n",
    "# 민철  90.0   90.0\n",
    "# 봉구  82.0   NaN\n",
    "# 철수  NaN\t   82.0"
   ]
  },
  {
   "attachments": {},
   "cell_type": "markdown",
   "metadata": {},
   "source": [
    "### 3. 다른 데이터프레임과 데이터 합치기 (행)\n",
    "\n",
    "#### 1) 행 단위 병합 기본 사용 방법\n",
    "- `concat([데이터프레임1, 데이터프레임2])` 명령어\n",
    "- concat은 구조가 같은 데이터프레임끼리만 가능\n",
    "- 병합할 데이터 프레임을 리스트로 묶는다 (2개 이상 가능)\n",
    "- 각 데이터프레임이 갖는 인덱스는 그대로 유지됨 (인덱스 중복 발생)\n",
    "    - 그러므로 인덱스를 주의해야 된다\n",
    "    - concat 후 인덱스 재설정 하는 등 인덱스에 대한 처리를 하는 것이 좋다\n",
    "        - 예) 인덱스 재설정\n",
    "            - 데이터프레임.reset_index(drop=True, inplace=True)\n",
    "                - drop=True -> 기존 인덱스 날려버림\n",
    "                - inplace=True -> 원본에 즉시 반영함"
   ]
  },
  {
   "cell_type": "code",
   "execution_count": 10,
   "metadata": {},
   "outputs": [
    {
     "name": "stdout",
     "output_type": "stream",
     "text": [
      "   이름  국어\n",
      "0  영희  87\n",
      "1  철수  91\n",
      "   이름  국어\n",
      "0  민철  78\n",
      "1  수현  92\n"
     ]
    },
    {
     "data": {
      "text/html": [
       "<div>\n",
       "<style scoped>\n",
       "    .dataframe tbody tr th:only-of-type {\n",
       "        vertical-align: middle;\n",
       "    }\n",
       "\n",
       "    .dataframe tbody tr th {\n",
       "        vertical-align: top;\n",
       "    }\n",
       "\n",
       "    .dataframe thead th {\n",
       "        text-align: right;\n",
       "    }\n",
       "</style>\n",
       "<table border=\"1\" class=\"dataframe\">\n",
       "  <thead>\n",
       "    <tr style=\"text-align: right;\">\n",
       "      <th></th>\n",
       "      <th>이름</th>\n",
       "      <th>국어</th>\n",
       "    </tr>\n",
       "  </thead>\n",
       "  <tbody>\n",
       "    <tr>\n",
       "      <th>0</th>\n",
       "      <td>영희</td>\n",
       "      <td>87</td>\n",
       "    </tr>\n",
       "    <tr>\n",
       "      <th>1</th>\n",
       "      <td>철수</td>\n",
       "      <td>91</td>\n",
       "    </tr>\n",
       "    <tr>\n",
       "      <th>0</th>\n",
       "      <td>민철</td>\n",
       "      <td>78</td>\n",
       "    </tr>\n",
       "    <tr>\n",
       "      <th>1</th>\n",
       "      <td>수현</td>\n",
       "      <td>92</td>\n",
       "    </tr>\n",
       "  </tbody>\n",
       "</table>\n",
       "</div>"
      ],
      "text/plain": [
       "   이름  국어\n",
       "0  영희  87\n",
       "1  철수  91\n",
       "0  민철  78\n",
       "1  수현  92"
      ]
     },
     "execution_count": 10,
     "metadata": {},
     "output_type": "execute_result"
    }
   ],
   "source": [
    "df1 = DataFrame({'이름': ['영희', '철수'], '국어': [87, 91]})\n",
    "print(df1)\n",
    "df2 = DataFrame({'이름': ['민철', '수현'], '국어': [78, 92]})\n",
    "print(df2)\n",
    "concat([df1, df2])"
   ]
  },
  {
   "attachments": {},
   "cell_type": "markdown",
   "metadata": {},
   "source": [
    "#### 2) 인덱스 재구성\n",
    "- ` ignore_index = True`파라미터 설정 시 병합 후 인덱스 재구성 함"
   ]
  },
  {
   "cell_type": "code",
   "execution_count": 47,
   "metadata": {},
   "outputs": [
    {
     "data": {
      "text/html": [
       "<div>\n",
       "<style scoped>\n",
       "    .dataframe tbody tr th:only-of-type {\n",
       "        vertical-align: middle;\n",
       "    }\n",
       "\n",
       "    .dataframe tbody tr th {\n",
       "        vertical-align: top;\n",
       "    }\n",
       "\n",
       "    .dataframe thead th {\n",
       "        text-align: right;\n",
       "    }\n",
       "</style>\n",
       "<table border=\"1\" class=\"dataframe\">\n",
       "  <thead>\n",
       "    <tr style=\"text-align: right;\">\n",
       "      <th></th>\n",
       "      <th>이름</th>\n",
       "      <th>국어</th>\n",
       "    </tr>\n",
       "  </thead>\n",
       "  <tbody>\n",
       "    <tr>\n",
       "      <th>0</th>\n",
       "      <td>영희</td>\n",
       "      <td>87</td>\n",
       "    </tr>\n",
       "    <tr>\n",
       "      <th>1</th>\n",
       "      <td>철수</td>\n",
       "      <td>91</td>\n",
       "    </tr>\n",
       "    <tr>\n",
       "      <th>2</th>\n",
       "      <td>민철</td>\n",
       "      <td>78</td>\n",
       "    </tr>\n",
       "    <tr>\n",
       "      <th>3</th>\n",
       "      <td>수현</td>\n",
       "      <td>92</td>\n",
       "    </tr>\n",
       "  </tbody>\n",
       "</table>\n",
       "</div>"
      ],
      "text/plain": [
       "   이름  국어\n",
       "0  영희  87\n",
       "1  철수  91\n",
       "2  민철  78\n",
       "3  수현  92"
      ]
     },
     "execution_count": 47,
     "metadata": {},
     "output_type": "execute_result"
    }
   ],
   "source": [
    "concat([df1, df2], ignore_index=True)"
   ]
  },
  {
   "attachments": {},
   "cell_type": "markdown",
   "metadata": {},
   "source": [
    "#### 3) 서로 다른 변수를 갖는 데이터프레임의 병합"
   ]
  },
  {
   "cell_type": "code",
   "execution_count": 49,
   "metadata": {},
   "outputs": [
    {
     "name": "stdout",
     "output_type": "stream",
     "text": [
      "   이름  국어\n",
      "0  영희  87\n",
      "1  철수  91\n",
      "   이름  수학\n",
      "0  민철  78\n",
      "1  수현  92\n"
     ]
    },
    {
     "data": {
      "text/html": [
       "<div>\n",
       "<style scoped>\n",
       "    .dataframe tbody tr th:only-of-type {\n",
       "        vertical-align: middle;\n",
       "    }\n",
       "\n",
       "    .dataframe tbody tr th {\n",
       "        vertical-align: top;\n",
       "    }\n",
       "\n",
       "    .dataframe thead th {\n",
       "        text-align: right;\n",
       "    }\n",
       "</style>\n",
       "<table border=\"1\" class=\"dataframe\">\n",
       "  <thead>\n",
       "    <tr style=\"text-align: right;\">\n",
       "      <th></th>\n",
       "      <th>이름</th>\n",
       "      <th>국어</th>\n",
       "      <th>수학</th>\n",
       "    </tr>\n",
       "  </thead>\n",
       "  <tbody>\n",
       "    <tr>\n",
       "      <th>0</th>\n",
       "      <td>영희</td>\n",
       "      <td>87.0</td>\n",
       "      <td>NaN</td>\n",
       "    </tr>\n",
       "    <tr>\n",
       "      <th>1</th>\n",
       "      <td>철수</td>\n",
       "      <td>91.0</td>\n",
       "      <td>NaN</td>\n",
       "    </tr>\n",
       "    <tr>\n",
       "      <th>2</th>\n",
       "      <td>민철</td>\n",
       "      <td>NaN</td>\n",
       "      <td>78.0</td>\n",
       "    </tr>\n",
       "    <tr>\n",
       "      <th>3</th>\n",
       "      <td>수현</td>\n",
       "      <td>NaN</td>\n",
       "      <td>92.0</td>\n",
       "    </tr>\n",
       "  </tbody>\n",
       "</table>\n",
       "</div>"
      ],
      "text/plain": [
       "   이름    국어    수학\n",
       "0  영희  87.0   NaN\n",
       "1  철수  91.0   NaN\n",
       "2  민철   NaN  78.0\n",
       "3  수현   NaN  92.0"
      ]
     },
     "execution_count": 49,
     "metadata": {},
     "output_type": "execute_result"
    }
   ],
   "source": [
    "df3 = DataFrame({'이름': ['영희', '철수'], '국어': [87, 91]})\n",
    "print(df3)\n",
    "df4 = DataFrame({'이름': ['민철', '수현'], '수학': [78, 92]})\n",
    "print(df4)\n",
    "concat([df3, df4], ignore_index=True)"
   ]
  },
  {
   "attachments": {},
   "cell_type": "markdown",
   "metadata": {},
   "source": [
    "#### 3) 인덱스를 설정한 데이터프레임의 병합"
   ]
  },
  {
   "cell_type": "code",
   "execution_count": 52,
   "metadata": {},
   "outputs": [
    {
     "name": "stdout",
     "output_type": "stream",
     "text": [
      "    국어\n",
      "영희  87\n",
      "철수  91\n",
      "    국어\n",
      "민철  78\n",
      "수현  92\n"
     ]
    },
    {
     "data": {
      "text/html": [
       "<div>\n",
       "<style scoped>\n",
       "    .dataframe tbody tr th:only-of-type {\n",
       "        vertical-align: middle;\n",
       "    }\n",
       "\n",
       "    .dataframe tbody tr th {\n",
       "        vertical-align: top;\n",
       "    }\n",
       "\n",
       "    .dataframe thead th {\n",
       "        text-align: right;\n",
       "    }\n",
       "</style>\n",
       "<table border=\"1\" class=\"dataframe\">\n",
       "  <thead>\n",
       "    <tr style=\"text-align: right;\">\n",
       "      <th></th>\n",
       "      <th>국어</th>\n",
       "    </tr>\n",
       "  </thead>\n",
       "  <tbody>\n",
       "    <tr>\n",
       "      <th>0</th>\n",
       "      <td>87</td>\n",
       "    </tr>\n",
       "    <tr>\n",
       "      <th>1</th>\n",
       "      <td>91</td>\n",
       "    </tr>\n",
       "    <tr>\n",
       "      <th>2</th>\n",
       "      <td>78</td>\n",
       "    </tr>\n",
       "    <tr>\n",
       "      <th>3</th>\n",
       "      <td>92</td>\n",
       "    </tr>\n",
       "  </tbody>\n",
       "</table>\n",
       "</div>"
      ],
      "text/plain": [
       "   국어\n",
       "0  87\n",
       "1  91\n",
       "2  78\n",
       "3  92"
      ]
     },
     "execution_count": 52,
     "metadata": {},
     "output_type": "execute_result"
    }
   ],
   "source": [
    "df5 = DataFrame({'국어': [87, 91]}, index=['영희', '철수'])\n",
    "print(df5)\n",
    "df6 = DataFrame({'국어': [78, 92]}, index=['민철', '수현'])\n",
    "print(df6)\n",
    "concat([df5, df6])\n",
    "concat([df5, df6], ignore_index=True)"
   ]
  },
  {
   "attachments": {},
   "cell_type": "markdown",
   "metadata": {},
   "source": [
    "### 데이터프레임 병합 처리 시 참고\n",
    "- merge() 함수\n",
    "    - 열단위 병합\n",
    "    - 변수, 인덱스 모두 기준으로 설정 가능\n",
    "    - left_on, right_on, left_index, right_index 파라미터가 있다\n",
    "    - join()보다 사용 범위가 넓음\n",
    "- join() 함수\n",
    "    - 열단위 병합\n",
    "    - 인덱스만을 기준으로 설정 가능\n",
    "    - left_on, right_on, left_index, right_index 파라미터가 `없다`\n",
    "    - merge()보다 사용 범위가 좁음\n",
    "- concat() 함수\n",
    "    - axis 파라미터를 사용하면 열단위 병합도 가능"
   ]
  }
 ],
 "metadata": {
  "kernelspec": {
   "display_name": "Python 3",
   "language": "python",
   "name": "python3"
  },
  "language_info": {
   "codemirror_mode": {
    "name": "ipython",
    "version": 3
   },
   "file_extension": ".py",
   "mimetype": "text/x-python",
   "name": "python",
   "nbconvert_exporter": "python",
   "pygments_lexer": "ipython3",
   "version": "3.9.13"
  },
  "orig_nbformat": 4
 },
 "nbformat": 4,
 "nbformat_minor": 2
}
