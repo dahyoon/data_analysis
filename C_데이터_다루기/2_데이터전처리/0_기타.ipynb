{
 "cells": [
  {
   "attachments": {},
   "cell_type": "markdown",
   "metadata": {},
   "source": [
    "참조:\n",
    "- https://seong6496.tistory.com/73 (DataFrame 인덱스 설정, 리셋: 직접 배정, .set_index(), .reset_index())"
   ]
  },
  {
   "cell_type": "code",
   "execution_count": 1,
   "metadata": {},
   "outputs": [],
   "source": [
    "import numpy\n",
    "from pandas import DataFrame"
   ]
  },
  {
   "attachments": {},
   "cell_type": "markdown",
   "metadata": {},
   "source": [
    "### DataFrame 인덱스 설정, 리셋\n",
    "#### 1) 직접 배정\n",
    "- 직접 배정 시 data와 객수가 맞아야 됨\n",
    "- `DataFrame.index = list`\n",
    "- `DataFrame.columns = list`"
   ]
  },
  {
   "cell_type": "code",
   "execution_count": 5,
   "metadata": {},
   "outputs": [
    {
     "name": "stdout",
     "output_type": "stream",
     "text": [
      "    0   1   2   3\n",
      "0   0   1   2   3\n",
      "1   4   5   6   7\n",
      "2   8   9  10  11\n",
      "3  12  13  14  15\n",
      "new table: \n",
      "     c0  c1  c2  c3\n",
      "r0   0   1   2   3\n",
      "r1   4   5   6   7\n",
      "r2   8   9  10  11\n",
      "r3  12  13  14  15\n"
     ]
    }
   ],
   "source": [
    "table = DataFrame(numpy.arange(0, 16).reshape(4,4))\n",
    "print(table)\n",
    "table.index = ['r0', 'r1', 'r2', 'r3']\n",
    "table.columns = ['c0', 'c1', 'c2', 'c3']\n",
    "print('new table:', '\\n', table)"
   ]
  },
  {
   "attachments": {},
   "cell_type": "markdown",
   "metadata": {},
   "source": [
    "#### 2) `.set_index()`\n",
    "- .set_index()로 원래 있던 컬럼은 인덱스로 불러들이는 방법\n",
    "- DataFrame.set_index(keys, drop=True, append=False, inplace=False, verify_integrity=False)\n",
    "--------------\n",
    "- keys: 인덱스로 사용하려는 열의 레이블을 입력; 멀티 인덱스 경우 리스트 형태로 값을 넣어주면 됨\n",
    "- drop: 인덱스로 쓸 열을 데이터 내에서 지울 여부 결정\n",
    "- append: 기존의 쓰던 인덱스를 삭제할지 여부 결정\n",
    "- inplace: 원본 객체를 변경할지 여부 결정\n",
    "- verify_integrity:인덱스 중복여부를 체크하는 것 - True로 하면 체크하는 시간 때문에 성능이 떨어짐"
   ]
  },
  {
   "cell_type": "code",
   "execution_count": 6,
   "metadata": {},
   "outputs": [
    {
     "data": {
      "text/html": [
       "<div>\n",
       "<style scoped>\n",
       "    .dataframe tbody tr th:only-of-type {\n",
       "        vertical-align: middle;\n",
       "    }\n",
       "\n",
       "    .dataframe tbody tr th {\n",
       "        vertical-align: top;\n",
       "    }\n",
       "\n",
       "    .dataframe thead th {\n",
       "        text-align: right;\n",
       "    }\n",
       "</style>\n",
       "<table border=\"1\" class=\"dataframe\">\n",
       "  <thead>\n",
       "    <tr style=\"text-align: right;\">\n",
       "      <th></th>\n",
       "      <th>c1</th>\n",
       "      <th>c2</th>\n",
       "      <th>c3</th>\n",
       "    </tr>\n",
       "    <tr>\n",
       "      <th>c0</th>\n",
       "      <th></th>\n",
       "      <th></th>\n",
       "      <th></th>\n",
       "    </tr>\n",
       "  </thead>\n",
       "  <tbody>\n",
       "    <tr>\n",
       "      <th>0</th>\n",
       "      <td>1</td>\n",
       "      <td>2</td>\n",
       "      <td>3</td>\n",
       "    </tr>\n",
       "    <tr>\n",
       "      <th>4</th>\n",
       "      <td>5</td>\n",
       "      <td>6</td>\n",
       "      <td>7</td>\n",
       "    </tr>\n",
       "    <tr>\n",
       "      <th>8</th>\n",
       "      <td>9</td>\n",
       "      <td>10</td>\n",
       "      <td>11</td>\n",
       "    </tr>\n",
       "    <tr>\n",
       "      <th>12</th>\n",
       "      <td>13</td>\n",
       "      <td>14</td>\n",
       "      <td>15</td>\n",
       "    </tr>\n",
       "  </tbody>\n",
       "</table>\n",
       "</div>"
      ],
      "text/plain": [
       "    c1  c2  c3\n",
       "c0            \n",
       "0    1   2   3\n",
       "4    5   6   7\n",
       "8    9  10  11\n",
       "12  13  14  15"
      ]
     },
     "execution_count": 6,
     "metadata": {},
     "output_type": "execute_result"
    }
   ],
   "source": [
    "table.set_index('c0', drop=True)"
   ]
  },
  {
   "attachments": {},
   "cell_type": "markdown",
   "metadata": {},
   "source": [
    "#### 2) `.reset_index()`\n",
    "- 설정했던 인덱스 초기화\n",
    "- DataFrame.reset_index(level=None, drop=False, inplace=False, col_level=0, col_fill='')\n",
    "- drop과 inplace 만 주로 사용\n",
    "--------------\n",
    "- drop: 인덱스로 쓸 열을 데이터 내에서 지울 여부 결정\n",
    "- inplace: 원본 객체를 변경할지 여부 결정\n",
    "- level: 인덱스에서 주어진 단계를 제거 (기본값 = 모든 단계 제거)\n",
    "- col_level: 멀티인덱스일 경우 어떤 것으로 삽입할 것인지 설정 (기본값 = 0 -> 첫번째 것이 삽입됨)\n",
    "- col_fill: 멀티인덱스일 경우 어떻게 다른 단계의 이름을 붙일 것인지 설정 (기본값 = '' -> 안 붙여짐)\n",
    "- 'None'으로 할 시 인덱스 이름이 반복됨"
   ]
  },
  {
   "attachments": {},
   "cell_type": "markdown",
   "metadata": {},
   "source": []
  }
 ],
 "metadata": {
  "kernelspec": {
   "display_name": "Python 3",
   "language": "python",
   "name": "python3"
  },
  "language_info": {
   "codemirror_mode": {
    "name": "ipython",
    "version": 3
   },
   "file_extension": ".py",
   "mimetype": "text/x-python",
   "name": "python",
   "nbconvert_exporter": "python",
   "pygments_lexer": "ipython3",
   "version": "3.11.3"
  },
  "orig_nbformat": 4
 },
 "nbformat": 4,
 "nbformat_minor": 2
}
