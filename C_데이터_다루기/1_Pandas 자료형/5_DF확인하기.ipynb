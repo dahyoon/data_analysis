{
 "cells": [
  {
   "attachments": {},
   "cell_type": "markdown",
   "metadata": {},
   "source": [
    "## DataFrame 확인하기"
   ]
  },
  {
   "cell_type": "code",
   "execution_count": 2,
   "metadata": {},
   "outputs": [],
   "source": [
    "# 필요한 패키지 가져오기\n",
    "from pandas import read_excel, DataFrame"
   ]
  },
  {
   "cell_type": "code",
   "execution_count": 3,
   "metadata": {},
   "outputs": [
    {
     "data": {
      "text/html": [
       "<div>\n",
       "<style scoped>\n",
       "    .dataframe tbody tr th:only-of-type {\n",
       "        vertical-align: middle;\n",
       "    }\n",
       "\n",
       "    .dataframe tbody tr th {\n",
       "        vertical-align: top;\n",
       "    }\n",
       "\n",
       "    .dataframe thead th {\n",
       "        text-align: right;\n",
       "    }\n",
       "</style>\n",
       "<table border=\"1\" class=\"dataframe\">\n",
       "  <thead>\n",
       "    <tr style=\"text-align: right;\">\n",
       "      <th></th>\n",
       "      <th>학년</th>\n",
       "      <th>성별</th>\n",
       "      <th>국어</th>\n",
       "      <th>영어</th>\n",
       "      <th>수학</th>\n",
       "      <th>과학</th>\n",
       "    </tr>\n",
       "    <tr>\n",
       "      <th>이름</th>\n",
       "      <th></th>\n",
       "      <th></th>\n",
       "      <th></th>\n",
       "      <th></th>\n",
       "      <th></th>\n",
       "      <th></th>\n",
       "    </tr>\n",
       "  </thead>\n",
       "  <tbody>\n",
       "    <tr>\n",
       "      <th>철수</th>\n",
       "      <td>1</td>\n",
       "      <td>남자</td>\n",
       "      <td>98</td>\n",
       "      <td>77</td>\n",
       "      <td>88</td>\n",
       "      <td>64</td>\n",
       "    </tr>\n",
       "    <tr>\n",
       "      <th>영희</th>\n",
       "      <td>2</td>\n",
       "      <td>여자</td>\n",
       "      <td>88</td>\n",
       "      <td>90</td>\n",
       "      <td>62</td>\n",
       "      <td>72</td>\n",
       "    </tr>\n",
       "    <tr>\n",
       "      <th>민철</th>\n",
       "      <td>1</td>\n",
       "      <td>남자</td>\n",
       "      <td>92</td>\n",
       "      <td>70</td>\n",
       "      <td>83</td>\n",
       "      <td>79</td>\n",
       "    </tr>\n",
       "    <tr>\n",
       "      <th>수현</th>\n",
       "      <td>3</td>\n",
       "      <td>여자</td>\n",
       "      <td>63</td>\n",
       "      <td>60</td>\n",
       "      <td>31</td>\n",
       "      <td>70</td>\n",
       "    </tr>\n",
       "    <tr>\n",
       "      <th>호영</th>\n",
       "      <td>4</td>\n",
       "      <td>남자</td>\n",
       "      <td>75</td>\n",
       "      <td>50</td>\n",
       "      <td>90</td>\n",
       "      <td>88</td>\n",
       "    </tr>\n",
       "  </tbody>\n",
       "</table>\n",
       "</div>"
      ],
      "text/plain": [
       "    학년  성별  국어  영어  수학  과학\n",
       "이름                        \n",
       "철수   1  남자  98  77  88  64\n",
       "영희   2  여자  88  90  62  72\n",
       "민철   1  남자  92  70  83  79\n",
       "수현   3  여자  63  60  31  70\n",
       "호영   4  남자  75  50  90  88"
      ]
     },
     "execution_count": 3,
     "metadata": {},
     "output_type": "execute_result"
    }
   ],
   "source": [
    "# 데이터 준비\n",
    "df = read_excel('https://data.hossam.kr/C01/grade.xlsx', index_col = '이름')\n",
    "df"
   ]
  },
  {
   "attachments": {},
   "cell_type": "markdown",
   "metadata": {},
   "source": [
    "#### 데이터 확인"
   ]
  },
  {
   "attachments": {},
   "cell_type": "markdown",
   "metadata": {},
   "source": [
    "##### 1) 데이터 구조 확인"
   ]
  },
  {
   "cell_type": "code",
   "execution_count": 4,
   "metadata": {},
   "outputs": [
    {
     "name": "stdout",
     "output_type": "stream",
     "text": [
      "(5, 6)\n",
      "<class 'pandas.core.frame.DataFrame'>\n",
      "Index: 5 entries, 철수 to 호영\n",
      "Data columns (total 6 columns):\n",
      " #   Column  Non-Null Count  Dtype \n",
      "---  ------  --------------  ----- \n",
      " 0   학년      5 non-null      int64 \n",
      " 1   성별      5 non-null      object\n",
      " 2   국어      5 non-null      int64 \n",
      " 3   영어      5 non-null      int64 \n",
      " 4   수학      5 non-null      int64 \n",
      " 5   과학      5 non-null      int64 \n",
      "dtypes: int64(5), object(1)\n",
      "memory usage: 280.0+ bytes\n"
     ]
    }
   ],
   "source": [
    "# 데이터 차원 확인\n",
    "df.ndim\n",
    "\n",
    "# 데이터 행, 열 수 확인\n",
    "print(df.shape)\n",
    "\n",
    "# 각 변수의 데이터 타입 확인\n",
    "df.dtypes\n",
    "\n",
    "# 행과 열을 바꿔 확인\n",
    "df.T\n",
    "\n",
    "# 데이터 정보 확인 - 컬럼 목록, 빈값, dtype\n",
    "df.info()\n",
    "\n",
    "# 데이터프레임()의 기초통계량 확인\n",
    "df.describe()"
   ]
  },
  {
   "attachments": {},
   "cell_type": "markdown",
   "metadata": {},
   "source": [
    "##### 2) 데이터 내용 확인"
   ]
  },
  {
   "cell_type": "code",
   "execution_count": 10,
   "metadata": {},
   "outputs": [
    {
     "data": {
      "text/plain": [
       "Index(['철수', '영희', '민철', '수현', '호영'], dtype='object', name='이름')"
      ]
     },
     "execution_count": 10,
     "metadata": {},
     "output_type": "execute_result"
    }
   ],
   "source": [
    "# 열 조회\n",
    "df['국어']\n",
    "\n",
    "# 열에 대한 데이터 타입 확인\n",
    "type(df['국어'])\n",
    "\n",
    "# 행 조회\n",
    "df.loc['철수']\n",
    "\n",
    "# 같은 컬럼 값의 행 조회\n",
    "df[df['성별'] == '여자']\n",
    "\n",
    "# index로 행 조회\n",
    "df.iloc[[0]]\n",
    "\n",
    "# 행에 대한 데이터 타입 확인 \n",
    "type(df.loc['철수'])\n",
    "\n",
    "# 값 확인하기 (열 -> 행 순서)\n",
    "df['국어']['철수']\n",
    "\n",
    "# 값 확인하기 (행 -> 열 순서)\n",
    "df.loc['철수', '국어']\n",
    "\n",
    "# 값 변경: 행 -> 열 군으로 접근하는 경우만 가능\n",
    "df.loc['철수', '국어'] = 100\n",
    "df\n",
    "\n",
    "# 상위 n건 확인: 파라미터가 없을 경우 5개가 기본값\n",
    "df.head(2)\n",
    "\n",
    "# 하위 n건 확인: 파라미터가 없을 경우 5개가 기본값\n",
    "df.tail(2)\n",
    "\n",
    "# 특정 열에 대한 데이터 빈도수 학인\n",
    "df['성별'].value_counts()\n",
    "\n",
    "# 데이터프레임 열 항목 조회\n",
    "df.columns\n",
    "\n",
    "# 데이터프레임 인덱스 조회\n",
    "df.index"
   ]
  },
  {
   "cell_type": "code",
   "execution_count": null,
   "metadata": {},
   "outputs": [],
   "source": []
  }
 ],
 "metadata": {
  "kernelspec": {
   "display_name": "Python 3",
   "language": "python",
   "name": "python3"
  },
  "language_info": {
   "codemirror_mode": {
    "name": "ipython",
    "version": 3
   },
   "file_extension": ".py",
   "mimetype": "text/x-python",
   "name": "python",
   "nbconvert_exporter": "python",
   "pygments_lexer": "ipython3",
   "version": "3.11.3"
  },
  "orig_nbformat": 4
 },
 "nbformat": 4,
 "nbformat_minor": 2
}
