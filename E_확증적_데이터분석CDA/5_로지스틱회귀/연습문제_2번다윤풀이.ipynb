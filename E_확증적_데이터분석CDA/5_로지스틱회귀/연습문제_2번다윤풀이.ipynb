{
 "cells": [
  {
   "cell_type": "markdown",
   "metadata": {},
   "source": [
    "# 로지스틱 회귀 연습문제\n",
    "### 문제 2\n",
    "- 타이타닉 탑승객 명단 데이터이다. 적절한 데이터 전처리와 정제를 수행한 후 분석하라.\n",
    "> https://data.hossam.kr/E05/titanic.xlsx\n",
    "- 단, 모든 독립변수는 정규분포를 만족한다고 가정한다. (-> 표준화 해야됨)"
   ]
  },
  {
   "cell_type": "code",
   "execution_count": null,
   "metadata": {},
   "outputs": [],
   "source": []
  }
 ],
 "metadata": {
  "language_info": {
   "name": "python"
  },
  "orig_nbformat": 4
 },
 "nbformat": 4,
 "nbformat_minor": 2
}
