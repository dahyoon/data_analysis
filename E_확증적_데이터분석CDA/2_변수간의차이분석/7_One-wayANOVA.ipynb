{
 "cells": [
  {
   "cell_type": "markdown",
   "metadata": {},
   "source": [
    "# One-Way ANOVA (일원분산분석)\n",
    "## 1. 작업 준비\n",
    "#### 패키지 가져오기"
   ]
  },
  {
   "cell_type": "code",
   "execution_count": 2,
   "metadata": {},
   "outputs": [],
   "source": [
    "import os\n",
    "import sys\n",
    "from pandas import read_excel, melt\n",
    "from scipy.stats import shapiro, normaltest, ks_2samp, bartlett, fligner, levene, f_oneway, chi2_contingency\n",
    "from statsmodels.formula.api import ols\n",
    "from statsmodels.stats.anova import anova_lm\n",
    "\n",
    "sys.path.append(os.path.dirname(os.path.dirname(os.getcwd())))\n",
    "from helper import normality_test, equal_variance_test, independence_test, all_test"
   ]
  },
  {
   "cell_type": "markdown",
   "metadata": {},
   "source": [
    "## (예제 1)\n",
    "- 어떤 지역에서 동일한 제품을 판매하고 있는 두 가게에 대한 일별 매출액\n",
    "### 1. 데이터 가져오기"
   ]
  },
  {
   "cell_type": "code",
   "execution_count": 3,
   "metadata": {},
   "outputs": [
    {
     "data": {
      "text/html": [
       "<div>\n",
       "<style scoped>\n",
       "    .dataframe tbody tr th:only-of-type {\n",
       "        vertical-align: middle;\n",
       "    }\n",
       "\n",
       "    .dataframe tbody tr th {\n",
       "        vertical-align: top;\n",
       "    }\n",
       "\n",
       "    .dataframe thead th {\n",
       "        text-align: right;\n",
       "    }\n",
       "</style>\n",
       "<table border=\"1\" class=\"dataframe\">\n",
       "  <thead>\n",
       "    <tr style=\"text-align: right;\">\n",
       "      <th></th>\n",
       "      <th>store1</th>\n",
       "      <th>store2</th>\n",
       "    </tr>\n",
       "  </thead>\n",
       "  <tbody>\n",
       "    <tr>\n",
       "      <th>0</th>\n",
       "      <td>46</td>\n",
       "      <td>78</td>\n",
       "    </tr>\n",
       "    <tr>\n",
       "      <th>1</th>\n",
       "      <td>47</td>\n",
       "      <td>57</td>\n",
       "    </tr>\n",
       "    <tr>\n",
       "      <th>2</th>\n",
       "      <td>58</td>\n",
       "      <td>31</td>\n",
       "    </tr>\n",
       "    <tr>\n",
       "      <th>3</th>\n",
       "      <td>47</td>\n",
       "      <td>28</td>\n",
       "    </tr>\n",
       "    <tr>\n",
       "      <th>4</th>\n",
       "      <td>27</td>\n",
       "      <td>67</td>\n",
       "    </tr>\n",
       "    <tr>\n",
       "      <th>5</th>\n",
       "      <td>58</td>\n",
       "      <td>77</td>\n",
       "    </tr>\n",
       "    <tr>\n",
       "      <th>6</th>\n",
       "      <td>56</td>\n",
       "      <td>36</td>\n",
       "    </tr>\n",
       "    <tr>\n",
       "      <th>7</th>\n",
       "      <td>26</td>\n",
       "      <td>57</td>\n",
       "    </tr>\n",
       "    <tr>\n",
       "      <th>8</th>\n",
       "      <td>47</td>\n",
       "      <td>36</td>\n",
       "    </tr>\n",
       "    <tr>\n",
       "      <th>9</th>\n",
       "      <td>25</td>\n",
       "      <td>57</td>\n",
       "    </tr>\n",
       "  </tbody>\n",
       "</table>\n",
       "</div>"
      ],
      "text/plain": [
       "   store1  store2\n",
       "0      46      78\n",
       "1      47      57\n",
       "2      58      31\n",
       "3      47      28\n",
       "4      27      67\n",
       "5      58      77\n",
       "6      56      36\n",
       "7      26      57\n",
       "8      47      36\n",
       "9      25      57"
      ]
     },
     "execution_count": 3,
     "metadata": {},
     "output_type": "execute_result"
    }
   ],
   "source": [
    "df = read_excel(\"https://data.hossam.kr/E02/store.xlsx\")\n",
    "df"
   ]
  },
  {
   "cell_type": "code",
   "execution_count": 4,
   "metadata": {},
   "outputs": [
    {
     "data": {
      "text/html": [
       "<div>\n",
       "<style scoped>\n",
       "    .dataframe tbody tr th:only-of-type {\n",
       "        vertical-align: middle;\n",
       "    }\n",
       "\n",
       "    .dataframe tbody tr th {\n",
       "        vertical-align: top;\n",
       "    }\n",
       "\n",
       "    .dataframe thead th {\n",
       "        text-align: right;\n",
       "    }\n",
       "</style>\n",
       "<table border=\"1\" class=\"dataframe\">\n",
       "  <thead>\n",
       "    <tr style=\"text-align: right;\">\n",
       "      <th></th>\n",
       "      <th>store</th>\n",
       "      <th>sales</th>\n",
       "    </tr>\n",
       "  </thead>\n",
       "  <tbody>\n",
       "    <tr>\n",
       "      <th>0</th>\n",
       "      <td>0</td>\n",
       "      <td>46</td>\n",
       "    </tr>\n",
       "    <tr>\n",
       "      <th>1</th>\n",
       "      <td>0</td>\n",
       "      <td>47</td>\n",
       "    </tr>\n",
       "    <tr>\n",
       "      <th>2</th>\n",
       "      <td>0</td>\n",
       "      <td>58</td>\n",
       "    </tr>\n",
       "    <tr>\n",
       "      <th>3</th>\n",
       "      <td>0</td>\n",
       "      <td>47</td>\n",
       "    </tr>\n",
       "    <tr>\n",
       "      <th>4</th>\n",
       "      <td>0</td>\n",
       "      <td>27</td>\n",
       "    </tr>\n",
       "    <tr>\n",
       "      <th>5</th>\n",
       "      <td>0</td>\n",
       "      <td>58</td>\n",
       "    </tr>\n",
       "    <tr>\n",
       "      <th>6</th>\n",
       "      <td>0</td>\n",
       "      <td>56</td>\n",
       "    </tr>\n",
       "    <tr>\n",
       "      <th>7</th>\n",
       "      <td>0</td>\n",
       "      <td>26</td>\n",
       "    </tr>\n",
       "    <tr>\n",
       "      <th>8</th>\n",
       "      <td>0</td>\n",
       "      <td>47</td>\n",
       "    </tr>\n",
       "    <tr>\n",
       "      <th>9</th>\n",
       "      <td>0</td>\n",
       "      <td>25</td>\n",
       "    </tr>\n",
       "    <tr>\n",
       "      <th>10</th>\n",
       "      <td>1</td>\n",
       "      <td>78</td>\n",
       "    </tr>\n",
       "    <tr>\n",
       "      <th>11</th>\n",
       "      <td>1</td>\n",
       "      <td>57</td>\n",
       "    </tr>\n",
       "    <tr>\n",
       "      <th>12</th>\n",
       "      <td>1</td>\n",
       "      <td>31</td>\n",
       "    </tr>\n",
       "    <tr>\n",
       "      <th>13</th>\n",
       "      <td>1</td>\n",
       "      <td>28</td>\n",
       "    </tr>\n",
       "    <tr>\n",
       "      <th>14</th>\n",
       "      <td>1</td>\n",
       "      <td>67</td>\n",
       "    </tr>\n",
       "    <tr>\n",
       "      <th>15</th>\n",
       "      <td>1</td>\n",
       "      <td>77</td>\n",
       "    </tr>\n",
       "    <tr>\n",
       "      <th>16</th>\n",
       "      <td>1</td>\n",
       "      <td>36</td>\n",
       "    </tr>\n",
       "    <tr>\n",
       "      <th>17</th>\n",
       "      <td>1</td>\n",
       "      <td>57</td>\n",
       "    </tr>\n",
       "    <tr>\n",
       "      <th>18</th>\n",
       "      <td>1</td>\n",
       "      <td>36</td>\n",
       "    </tr>\n",
       "    <tr>\n",
       "      <th>19</th>\n",
       "      <td>1</td>\n",
       "      <td>57</td>\n",
       "    </tr>\n",
       "  </tbody>\n",
       "</table>\n",
       "</div>"
      ],
      "text/plain": [
       "    store  sales\n",
       "0       0     46\n",
       "1       0     47\n",
       "2       0     58\n",
       "3       0     47\n",
       "4       0     27\n",
       "5       0     58\n",
       "6       0     56\n",
       "7       0     26\n",
       "8       0     47\n",
       "9       0     25\n",
       "10      1     78\n",
       "11      1     57\n",
       "12      1     31\n",
       "13      1     28\n",
       "14      1     67\n",
       "15      1     77\n",
       "16      1     36\n",
       "17      1     57\n",
       "18      1     36\n",
       "19      1     57"
      ]
     },
     "execution_count": 4,
     "metadata": {},
     "output_type": "execute_result"
    }
   ],
   "source": [
    "df2 = df.melt(var_name='store', value_name='sales')\n",
    "df2['store'] = df2['store'].map({'store1': 0, 'store2': 1})\n",
    "df2"
   ]
  },
  {
   "cell_type": "markdown",
   "metadata": {},
   "source": [
    "### 2. 분산분석의 조건 충족 여부 검사\n",
    "#### 1) 데이터의 정규성 검정\n",
    "##### shapiro wilk 검정\n",
    "- `shapiro(DataFrame['컬럼명'])`\n",
    "- `샘플의 수가 적을 때` `정규성을 확인`하는 검정\n",
    "- (샘플의 수가 대략 50개 미만인 경우, 중심극한 정리는 30개 미만을 권장하기도 함)\n",
    "|가설|내용|\n",
    "|--:|--|\n",
    "|귀무가설|집단간 데이터 분포에는 차이가 없다(정규성을 따름)|\n",
    "|대립가설|집단간 데이터 분포에는 차이가 있다(정규성을 따르지 않음)|"
   ]
  },
  {
   "cell_type": "code",
   "execution_count": 5,
   "metadata": {},
   "outputs": [
    {
     "name": "stdout",
     "output_type": "stream",
     "text": [
      "ShapiroResult(statistic=0.6411193013191223, pvalue=8.099757906165905e-06)\n",
      "ShapiroResult(statistic=0.9331830739974976, pvalue=0.17777423560619354)\n"
     ]
    }
   ],
   "source": [
    "print(shapiro(df2['store']))\n",
    "print(shapiro(df2['sales']))"
   ]
  },
  {
   "cell_type": "markdown",
   "metadata": {},
   "source": [
    "##### Normal Test\n",
    "- `normaltest(DataFrame['컬럼명'])`"
   ]
  },
  {
   "cell_type": "code",
   "execution_count": 6,
   "metadata": {},
   "outputs": [
    {
     "name": "stdout",
     "output_type": "stream",
     "text": [
      "NormaltestResult(statistic=52.67832231762539, pvalue=3.6395496705596064e-12)\n",
      "NormaltestResult(statistic=0.8935420573562478, pvalue=0.6396903622551172)\n"
     ]
    }
   ],
   "source": [
    "print(normaltest(df2['store']))\n",
    "print(normaltest(df2['sales']))"
   ]
  },
  {
   "cell_type": "markdown",
   "metadata": {},
   "source": [
    "##### 콜모고로프-스미르노프 검정(Kolmogorov-Smirnov test)\n",
    "- `ks_2samp()`\n",
    "- 정규분포에 국한되지 않고 `두 표본이 같은 분포를 따르는지 확인`할 수 있는 방법\n",
    "- 한 번에 `2개씩 검사` 가능"
   ]
  },
  {
   "cell_type": "code",
   "execution_count": 7,
   "metadata": {},
   "outputs": [
    {
     "data": {
      "text/plain": [
       "KstestResult(statistic=1.0, pvalue=1.4508889103849681e-11, statistic_location=1, statistic_sign=1)"
      ]
     },
     "execution_count": 7,
     "metadata": {},
     "output_type": "execute_result"
    }
   ],
   "source": [
    "ks_2samp(df2['store'], df2['sales'])"
   ]
  },
  {
   "cell_type": "markdown",
   "metadata": {},
   "source": [
    "##### 함수로 한 번에 처리하기\n",
    "- `normality_test()`는 helper.py 모듈에 정의한 함수"
   ]
  },
  {
   "cell_type": "code",
   "execution_count": 8,
   "metadata": {},
   "outputs": [
    {
     "data": {
      "text/html": [
       "<div>\n",
       "<style scoped>\n",
       "    .dataframe tbody tr th:only-of-type {\n",
       "        vertical-align: middle;\n",
       "    }\n",
       "\n",
       "    .dataframe tbody tr th {\n",
       "        vertical-align: top;\n",
       "    }\n",
       "\n",
       "    .dataframe thead th {\n",
       "        text-align: right;\n",
       "    }\n",
       "</style>\n",
       "<table border=\"1\" class=\"dataframe\">\n",
       "  <thead>\n",
       "    <tr style=\"text-align: right;\">\n",
       "      <th></th>\n",
       "      <th></th>\n",
       "      <th></th>\n",
       "      <th>statistic</th>\n",
       "      <th>p-value</th>\n",
       "      <th>result</th>\n",
       "    </tr>\n",
       "    <tr>\n",
       "      <th>condition</th>\n",
       "      <th>test</th>\n",
       "      <th>field</th>\n",
       "      <th></th>\n",
       "      <th></th>\n",
       "      <th></th>\n",
       "    </tr>\n",
       "  </thead>\n",
       "  <tbody>\n",
       "    <tr>\n",
       "      <th rowspan=\"6\" valign=\"top\">정규성</th>\n",
       "      <th rowspan=\"2\" valign=\"top\">shapiro</th>\n",
       "      <th>store</th>\n",
       "      <td>0.641119</td>\n",
       "      <td>8.099758e-06</td>\n",
       "      <td>False</td>\n",
       "    </tr>\n",
       "    <tr>\n",
       "      <th>sales</th>\n",
       "      <td>0.933183</td>\n",
       "      <td>1.777742e-01</td>\n",
       "      <td>True</td>\n",
       "    </tr>\n",
       "    <tr>\n",
       "      <th rowspan=\"2\" valign=\"top\">normaltest</th>\n",
       "      <th>store</th>\n",
       "      <td>52.678322</td>\n",
       "      <td>3.639550e-12</td>\n",
       "      <td>False</td>\n",
       "    </tr>\n",
       "    <tr>\n",
       "      <th>sales</th>\n",
       "      <td>0.893542</td>\n",
       "      <td>6.396904e-01</td>\n",
       "      <td>True</td>\n",
       "    </tr>\n",
       "    <tr>\n",
       "      <th rowspan=\"2\" valign=\"top\">ks_2samp</th>\n",
       "      <th>store vs sales</th>\n",
       "      <td>1.000000</td>\n",
       "      <td>1.450889e-11</td>\n",
       "      <td>False</td>\n",
       "    </tr>\n",
       "    <tr>\n",
       "      <th>sales vs store</th>\n",
       "      <td>1.000000</td>\n",
       "      <td>1.450889e-11</td>\n",
       "      <td>False</td>\n",
       "    </tr>\n",
       "  </tbody>\n",
       "</table>\n",
       "</div>"
      ],
      "text/plain": [
       "                                     statistic       p-value  result\n",
       "condition test       field                                          \n",
       "정규성       shapiro    store            0.641119  8.099758e-06   False\n",
       "                     sales            0.933183  1.777742e-01    True\n",
       "          normaltest store           52.678322  3.639550e-12   False\n",
       "                     sales            0.893542  6.396904e-01    True\n",
       "          ks_2samp   store vs sales   1.000000  1.450889e-11   False\n",
       "                     sales vs store   1.000000  1.450889e-11   False"
      ]
     },
     "execution_count": 8,
     "metadata": {},
     "output_type": "execute_result"
    }
   ],
   "source": [
    "normality_test(df2['store'], df2['sales'])"
   ]
  },
  {
   "cell_type": "markdown",
   "metadata": {},
   "source": [
    "#### 2) 데이터의 등분산성 검정\n",
    "##### Bartlett 검정\n",
    "- `bartlett()`\n",
    "- 집단간 `분산이 같은지 다른지 여부를 알아볼 때` 사용\n",
    "- 독립 2표본 t-검정 또는 일원분산분석(one-way ANOVA) 실시 전에 `등분산성을 확인하는 용도`\n",
    "- Barlett 검정은 두 집단 뿐만 아니라 `세 집단 이상`에서도 사용 가능\n",
    "- `모든 변수가 정규분포를 따른다`는 가정 하에서만 사용 가능\n",
    "\n",
    "|가설|내용|\n",
    "|--:|--|\n",
    "|귀무가설|집단간 분산이 차이가 없다(같다)|\n",
    "|대립가설|집단간 분산이 차이가 있다(다르다)|"
   ]
  },
  {
   "cell_type": "code",
   "execution_count": 9,
   "metadata": {},
   "outputs": [
    {
     "data": {
      "text/plain": [
       "BartlettResult(statistic=102.42750228837312, pvalue=4.474464390522148e-24)"
      ]
     },
     "execution_count": 9,
     "metadata": {},
     "output_type": "execute_result"
    }
   ],
   "source": [
    "bartlett(df2['store'], df2['sales'])"
   ]
  },
  {
   "cell_type": "markdown",
   "metadata": {},
   "source": [
    "##### fligner 검정\n",
    "- `fligner()`\n",
    "- Fligner-Killeen test는 비모수 등분산 검정으로 `각 독립 표본들이 정규분포를 따르지 않아도 사용 가능`한 검정 방법\n",
    "\n",
    "|가설|내용|\n",
    "|--:|--|\n",
    "|귀무가설|집단간 분산이 차이가 없다(같다)|\n",
    "|대립가설|집단간 분산이 차이가 있다(다르다)|"
   ]
  },
  {
   "cell_type": "code",
   "execution_count": 10,
   "metadata": {},
   "outputs": [
    {
     "data": {
      "text/plain": [
       "FlignerResult(statistic=16.545710139110323, pvalue=4.749130117443737e-05)"
      ]
     },
     "execution_count": 10,
     "metadata": {},
     "output_type": "execute_result"
    }
   ],
   "source": [
    "fligner(df2['store'], df2['sales'])"
   ]
  },
  {
   "cell_type": "markdown",
   "metadata": {},
   "source": [
    "##### 레빈 검정 (Levene's test)\n",
    "- `levene()`\n",
    "- 통계학에서 `등분산성(homoscedasticity)을 검증하기 위해 사용`되는 방법\n",
    "- 분석하려는 `데이터의 그룹이 2개 이상`인 경우 사용\n",
    "- 다른 등분산성 검정 방법과 달리 레빈 검정은 정규성 가정을 거의 하지 않기에 `비모수적인 방법으로도 적용 가능`\n",
    "\n",
    "|가설|내용|\n",
    "|--:|--|\n",
    "|귀무가설|집단간 분산이 차이가 없다(같다)|\n",
    "|대립가설|집단간 분산이 차이가 있다(다르다)|"
   ]
  },
  {
   "cell_type": "code",
   "execution_count": 11,
   "metadata": {},
   "outputs": [
    {
     "data": {
      "text/plain": [
       "LeveneResult(statistic=37.756387569463854, pvalue=3.605670265394161e-07)"
      ]
     },
     "execution_count": 11,
     "metadata": {},
     "output_type": "execute_result"
    }
   ],
   "source": [
    "levene(df2['store'], df2['sales'])"
   ]
  },
  {
   "cell_type": "markdown",
   "metadata": {},
   "source": [
    "##### 함수로 한 번에 처리하기\n",
    "- `equal_variance_test()`는 helper.py 모듈에 정의한 함수"
   ]
  },
  {
   "cell_type": "code",
   "execution_count": 12,
   "metadata": {},
   "outputs": [
    {
     "data": {
      "text/html": [
       "<div>\n",
       "<style scoped>\n",
       "    .dataframe tbody tr th:only-of-type {\n",
       "        vertical-align: middle;\n",
       "    }\n",
       "\n",
       "    .dataframe tbody tr th {\n",
       "        vertical-align: top;\n",
       "    }\n",
       "\n",
       "    .dataframe thead th {\n",
       "        text-align: right;\n",
       "    }\n",
       "</style>\n",
       "<table border=\"1\" class=\"dataframe\">\n",
       "  <thead>\n",
       "    <tr style=\"text-align: right;\">\n",
       "      <th></th>\n",
       "      <th></th>\n",
       "      <th></th>\n",
       "      <th>statistic</th>\n",
       "      <th>p-value</th>\n",
       "      <th>result</th>\n",
       "    </tr>\n",
       "    <tr>\n",
       "      <th>condition</th>\n",
       "      <th>test</th>\n",
       "      <th>field</th>\n",
       "      <th></th>\n",
       "      <th></th>\n",
       "      <th></th>\n",
       "    </tr>\n",
       "  </thead>\n",
       "  <tbody>\n",
       "    <tr>\n",
       "      <th rowspan=\"3\" valign=\"top\">등분산성</th>\n",
       "      <th>Bartlett</th>\n",
       "      <th>store vs sales</th>\n",
       "      <td>102.427502</td>\n",
       "      <td>4.474464e-24</td>\n",
       "      <td>False</td>\n",
       "    </tr>\n",
       "    <tr>\n",
       "      <th>Fligner</th>\n",
       "      <th>store vs sales</th>\n",
       "      <td>16.545710</td>\n",
       "      <td>4.749130e-05</td>\n",
       "      <td>False</td>\n",
       "    </tr>\n",
       "    <tr>\n",
       "      <th>Levene</th>\n",
       "      <th>store vs sales</th>\n",
       "      <td>37.756388</td>\n",
       "      <td>3.605670e-07</td>\n",
       "      <td>False</td>\n",
       "    </tr>\n",
       "  </tbody>\n",
       "</table>\n",
       "</div>"
      ],
      "text/plain": [
       "                                    statistic       p-value  result\n",
       "condition test     field                                           \n",
       "등분산성      Bartlett store vs sales  102.427502  4.474464e-24   False\n",
       "          Fligner  store vs sales   16.545710  4.749130e-05   False\n",
       "          Levene   store vs sales   37.756388  3.605670e-07   False"
      ]
     },
     "execution_count": 12,
     "metadata": {},
     "output_type": "execute_result"
    }
   ],
   "source": [
    "y = equal_variance_test(df2['store'], df2['sales'])\n",
    "y"
   ]
  },
  {
   "cell_type": "markdown",
   "metadata": {},
   "source": [
    "#### 3) 독립성 검정\n",
    "- `chi2_contingency()`\n",
    "\n",
    "|가설|내용|\n",
    "|--:|--|\n",
    "|귀무가설|각 변수는 상관이 없다(독립적이다)|\n",
    "|대립가설|각 변수는 상관이 있다(독립적이지 않다)|"
   ]
  },
  {
   "cell_type": "code",
   "execution_count": 13,
   "metadata": {},
   "outputs": [
    {
     "data": {
      "text/plain": [
       "Chi2ContingencyResult(statistic=10.665480367780301, pvalue=0.9345787652103084, dof=19, expected_freq=array([[ 0.47373841, 45.52626159],\n",
       "       [ 0.48403708, 46.51596292],\n",
       "       [ 0.59732235, 57.40267765],\n",
       "       [ 0.48403708, 46.51596292],\n",
       "       [ 0.27806385, 26.72193615],\n",
       "       [ 0.59732235, 57.40267765],\n",
       "       [ 0.57672503, 55.42327497],\n",
       "       [ 0.26776519, 25.73223481],\n",
       "       [ 0.48403708, 46.51596292],\n",
       "       [ 0.25746653, 24.74253347],\n",
       "       [ 0.81359423, 78.18640577],\n",
       "       [ 0.59732235, 57.40267765],\n",
       "       [ 0.32955716, 31.67044284],\n",
       "       [ 0.29866117, 28.70133883],\n",
       "       [ 0.70030896, 67.29969104],\n",
       "       [ 0.80329557, 77.19670443],\n",
       "       [ 0.38105046, 36.61894954],\n",
       "       [ 0.59732235, 57.40267765],\n",
       "       [ 0.38105046, 36.61894954],\n",
       "       [ 0.59732235, 57.40267765]]))"
      ]
     },
     "execution_count": 13,
     "metadata": {},
     "output_type": "execute_result"
    }
   ],
   "source": [
    "chi2_contingency(df2[['store', 'sales']])"
   ]
  },
  {
   "cell_type": "markdown",
   "metadata": {},
   "source": [
    "##### 함수로 처리하기\n",
    "- `independence_test()`는 helper.py 모듈에 정의한 함수"
   ]
  },
  {
   "cell_type": "code",
   "execution_count": 14,
   "metadata": {},
   "outputs": [
    {
     "data": {
      "text/html": [
       "<div>\n",
       "<style scoped>\n",
       "    .dataframe tbody tr th:only-of-type {\n",
       "        vertical-align: middle;\n",
       "    }\n",
       "\n",
       "    .dataframe tbody tr th {\n",
       "        vertical-align: top;\n",
       "    }\n",
       "\n",
       "    .dataframe thead th {\n",
       "        text-align: right;\n",
       "    }\n",
       "</style>\n",
       "<table border=\"1\" class=\"dataframe\">\n",
       "  <thead>\n",
       "    <tr style=\"text-align: right;\">\n",
       "      <th></th>\n",
       "      <th></th>\n",
       "      <th></th>\n",
       "      <th>statistic</th>\n",
       "      <th>p-value</th>\n",
       "      <th>result</th>\n",
       "    </tr>\n",
       "    <tr>\n",
       "      <th>condition</th>\n",
       "      <th>test</th>\n",
       "      <th>field</th>\n",
       "      <th></th>\n",
       "      <th></th>\n",
       "      <th></th>\n",
       "    </tr>\n",
       "  </thead>\n",
       "  <tbody>\n",
       "    <tr>\n",
       "      <th>독립성</th>\n",
       "      <th>Chi2</th>\n",
       "      <th>store vs sales</th>\n",
       "      <td>10.66548</td>\n",
       "      <td>0.934579</td>\n",
       "      <td>True</td>\n",
       "    </tr>\n",
       "  </tbody>\n",
       "</table>\n",
       "</div>"
      ],
      "text/plain": [
       "                               statistic   p-value  result\n",
       "condition test field                                      \n",
       "독립성       Chi2 store vs sales   10.66548  0.934579    True"
      ]
     },
     "execution_count": 14,
     "metadata": {},
     "output_type": "execute_result"
    }
   ],
   "source": [
    "independence_test(df2['store'], df2['sales'])"
   ]
  },
  {
   "cell_type": "markdown",
   "metadata": {},
   "source": [
    "#### 4) 모든 조건을 하나의 함수로 확인하기\n",
    "- `all_test()`는 helper.py 모듈에 정의한 함수"
   ]
  },
  {
   "cell_type": "code",
   "execution_count": 15,
   "metadata": {},
   "outputs": [
    {
     "data": {
      "text/html": [
       "<div>\n",
       "<style scoped>\n",
       "    .dataframe tbody tr th:only-of-type {\n",
       "        vertical-align: middle;\n",
       "    }\n",
       "\n",
       "    .dataframe tbody tr th {\n",
       "        vertical-align: top;\n",
       "    }\n",
       "\n",
       "    .dataframe thead th {\n",
       "        text-align: right;\n",
       "    }\n",
       "</style>\n",
       "<table border=\"1\" class=\"dataframe\">\n",
       "  <thead>\n",
       "    <tr style=\"text-align: right;\">\n",
       "      <th></th>\n",
       "      <th></th>\n",
       "      <th></th>\n",
       "      <th>statistic</th>\n",
       "      <th>p-value</th>\n",
       "      <th>result</th>\n",
       "    </tr>\n",
       "    <tr>\n",
       "      <th>condition</th>\n",
       "      <th>test</th>\n",
       "      <th>field</th>\n",
       "      <th></th>\n",
       "      <th></th>\n",
       "      <th></th>\n",
       "    </tr>\n",
       "  </thead>\n",
       "  <tbody>\n",
       "    <tr>\n",
       "      <th rowspan=\"6\" valign=\"top\">정규성</th>\n",
       "      <th rowspan=\"2\" valign=\"top\">shapiro</th>\n",
       "      <th>store</th>\n",
       "      <td>0.641119</td>\n",
       "      <td>8.099758e-06</td>\n",
       "      <td>False</td>\n",
       "    </tr>\n",
       "    <tr>\n",
       "      <th>sales</th>\n",
       "      <td>0.933183</td>\n",
       "      <td>1.777742e-01</td>\n",
       "      <td>True</td>\n",
       "    </tr>\n",
       "    <tr>\n",
       "      <th rowspan=\"2\" valign=\"top\">normaltest</th>\n",
       "      <th>store</th>\n",
       "      <td>52.678322</td>\n",
       "      <td>3.639550e-12</td>\n",
       "      <td>False</td>\n",
       "    </tr>\n",
       "    <tr>\n",
       "      <th>sales</th>\n",
       "      <td>0.893542</td>\n",
       "      <td>6.396904e-01</td>\n",
       "      <td>True</td>\n",
       "    </tr>\n",
       "    <tr>\n",
       "      <th rowspan=\"2\" valign=\"top\">ks_2samp</th>\n",
       "      <th>store vs sales</th>\n",
       "      <td>1.000000</td>\n",
       "      <td>1.450889e-11</td>\n",
       "      <td>False</td>\n",
       "    </tr>\n",
       "    <tr>\n",
       "      <th>sales vs store</th>\n",
       "      <td>1.000000</td>\n",
       "      <td>1.450889e-11</td>\n",
       "      <td>False</td>\n",
       "    </tr>\n",
       "    <tr>\n",
       "      <th rowspan=\"3\" valign=\"top\">등분산성</th>\n",
       "      <th>Bartlett</th>\n",
       "      <th>store vs sales</th>\n",
       "      <td>102.427502</td>\n",
       "      <td>4.474464e-24</td>\n",
       "      <td>False</td>\n",
       "    </tr>\n",
       "    <tr>\n",
       "      <th>Fligner</th>\n",
       "      <th>store vs sales</th>\n",
       "      <td>16.545710</td>\n",
       "      <td>4.749130e-05</td>\n",
       "      <td>False</td>\n",
       "    </tr>\n",
       "    <tr>\n",
       "      <th>Levene</th>\n",
       "      <th>store vs sales</th>\n",
       "      <td>37.756388</td>\n",
       "      <td>3.605670e-07</td>\n",
       "      <td>False</td>\n",
       "    </tr>\n",
       "    <tr>\n",
       "      <th>독립성</th>\n",
       "      <th>Chi2</th>\n",
       "      <th>store vs sales</th>\n",
       "      <td>10.665480</td>\n",
       "      <td>9.345788e-01</td>\n",
       "      <td>True</td>\n",
       "    </tr>\n",
       "  </tbody>\n",
       "</table>\n",
       "</div>"
      ],
      "text/plain": [
       "                                      statistic       p-value  result\n",
       "condition test       field                                           \n",
       "정규성       shapiro    store             0.641119  8.099758e-06   False\n",
       "                     sales             0.933183  1.777742e-01    True\n",
       "          normaltest store            52.678322  3.639550e-12   False\n",
       "                     sales             0.893542  6.396904e-01    True\n",
       "          ks_2samp   store vs sales    1.000000  1.450889e-11   False\n",
       "                     sales vs store    1.000000  1.450889e-11   False\n",
       "등분산성      Bartlett   store vs sales  102.427502  4.474464e-24   False\n",
       "          Fligner    store vs sales   16.545710  4.749130e-05   False\n",
       "          Levene     store vs sales   37.756388  3.605670e-07   False\n",
       "독립성       Chi2       store vs sales   10.665480  9.345788e-01    True"
      ]
     },
     "execution_count": 15,
     "metadata": {},
     "output_type": "execute_result"
    }
   ],
   "source": [
    "all_test(df2['store'], df2['sales'])"
   ]
  },
  {
   "cell_type": "markdown",
   "metadata": {},
   "source": [
    "### 3. `scipy.stats` 패키지를 사용한 분산분석\n",
    "- `f_oneway()`"
   ]
  },
  {
   "cell_type": "code",
   "execution_count": 16,
   "metadata": {},
   "outputs": [
    {
     "data": {
      "text/plain": [
       "F_onewayResult(statistic=170.06917131008828, pvalue=1.3198634743887305e-15)"
      ]
     },
     "execution_count": 16,
     "metadata": {},
     "output_type": "execute_result"
    }
   ],
   "source": [
    "f_oneway(df2['store'], df2['sales'])"
   ]
  },
  {
   "cell_type": "markdown",
   "metadata": {},
   "source": [
    "##### 해석\n",
    "- `p-value가 0.05보다 크므로` 귀무가설을 기각할 수 없다\n",
    "- 즉, `두 가게의 일별 매출 평균은 같다`.\n",
    "\n",
    "### 4. statsmodels 패키지를 사용한 분산분석\n",
    "- `ols()`\n",
    "- `anova_lm()`"
   ]
  },
  {
   "cell_type": "code",
   "execution_count": 17,
   "metadata": {},
   "outputs": [
    {
     "data": {
      "text/html": [
       "<div>\n",
       "<style scoped>\n",
       "    .dataframe tbody tr th:only-of-type {\n",
       "        vertical-align: middle;\n",
       "    }\n",
       "\n",
       "    .dataframe tbody tr th {\n",
       "        vertical-align: top;\n",
       "    }\n",
       "\n",
       "    .dataframe thead th {\n",
       "        text-align: right;\n",
       "    }\n",
       "</style>\n",
       "<table border=\"1\" class=\"dataframe\">\n",
       "  <thead>\n",
       "    <tr style=\"text-align: right;\">\n",
       "      <th></th>\n",
       "      <th>df</th>\n",
       "      <th>sum_sq</th>\n",
       "      <th>mean_sq</th>\n",
       "      <th>F</th>\n",
       "      <th>PR(&gt;F)</th>\n",
       "    </tr>\n",
       "  </thead>\n",
       "  <tbody>\n",
       "    <tr>\n",
       "      <th>C(store)</th>\n",
       "      <td>1.0</td>\n",
       "      <td>378.45</td>\n",
       "      <td>378.450000</td>\n",
       "      <td>1.459162</td>\n",
       "      <td>0.242696</td>\n",
       "    </tr>\n",
       "    <tr>\n",
       "      <th>Residual</th>\n",
       "      <td>18.0</td>\n",
       "      <td>4668.50</td>\n",
       "      <td>259.361111</td>\n",
       "      <td>NaN</td>\n",
       "      <td>NaN</td>\n",
       "    </tr>\n",
       "  </tbody>\n",
       "</table>\n",
       "</div>"
      ],
      "text/plain": [
       "            df   sum_sq     mean_sq         F    PR(>F)\n",
       "C(store)   1.0   378.45  378.450000  1.459162  0.242696\n",
       "Residual  18.0  4668.50  259.361111       NaN       NaN"
      ]
     },
     "execution_count": 17,
     "metadata": {},
     "output_type": "execute_result"
    }
   ],
   "source": [
    "lm = ols('sales ~ C(store)', data=df2).fit()\n",
    "anova_lm(lm)"
   ]
  }
 ],
 "metadata": {
  "kernelspec": {
   "display_name": "Python 3",
   "language": "python",
   "name": "python3"
  },
  "language_info": {
   "codemirror_mode": {
    "name": "ipython",
    "version": 3
   },
   "file_extension": ".py",
   "mimetype": "text/x-python",
   "name": "python",
   "nbconvert_exporter": "python",
   "pygments_lexer": "ipython3",
   "version": "3.11.3"
  },
  "orig_nbformat": 4
 },
 "nbformat": 4,
 "nbformat_minor": 2
}
