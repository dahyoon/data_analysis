{
 "cells": [
  {
   "cell_type": "markdown",
   "metadata": {},
   "source": [
    "# 독립 표본 t-검정 (이표본 검정; Independent Two Sample T-Test)\n",
    "- 서로 다른 2개의 그룹 간 `평균의 차이`가 유의미한지 여부 판단\n",
    "\n",
    "## 1. 작업 준비\n",
    "#### 패키지 참조"
   ]
  },
  {
   "cell_type": "code",
   "execution_count": 1,
   "metadata": {},
   "outputs": [],
   "source": [
    "import seaborn as sb\n",
    "from scipy import stats\n",
    "from pandas import read_excel\n",
    "from matplotlib import pyplot as plt"
   ]
  },
  {
   "cell_type": "markdown",
   "metadata": {},
   "source": [
    "## 2. (예제1) - 지혈제 효과 비교\n",
    "#### 데이터 가져오기\n",
    "- 두 종류의 지혈제 효과를 측정한 자료이다\n",
    "- 실험 참여 총 14명, 두 그룹으로 임의 분할한 후 피부에 작은 상처를 내어 피가 흐르게 한 후, 한 그룹에는 지혈제 B를, 다른 그룹에는 지혈제 G를 투여하여 완전히 지혈될 때 까지의 시간(분)을 측정하였다"
   ]
  },
  {
   "cell_type": "code",
   "execution_count": 3,
   "metadata": {},
   "outputs": [
    {
     "data": {
      "text/html": [
       "<div>\n",
       "<style scoped>\n",
       "    .dataframe tbody tr th:only-of-type {\n",
       "        vertical-align: middle;\n",
       "    }\n",
       "\n",
       "    .dataframe tbody tr th {\n",
       "        vertical-align: top;\n",
       "    }\n",
       "\n",
       "    .dataframe thead th {\n",
       "        text-align: right;\n",
       "    }\n",
       "</style>\n",
       "<table border=\"1\" class=\"dataframe\">\n",
       "  <thead>\n",
       "    <tr style=\"text-align: right;\">\n",
       "      <th></th>\n",
       "      <th>B</th>\n",
       "      <th>G</th>\n",
       "    </tr>\n",
       "  </thead>\n",
       "  <tbody>\n",
       "    <tr>\n",
       "      <th>0</th>\n",
       "      <td>8.80</td>\n",
       "      <td>9.9</td>\n",
       "    </tr>\n",
       "    <tr>\n",
       "      <th>1</th>\n",
       "      <td>8.40</td>\n",
       "      <td>9.0</td>\n",
       "    </tr>\n",
       "    <tr>\n",
       "      <th>2</th>\n",
       "      <td>7.90</td>\n",
       "      <td>11.1</td>\n",
       "    </tr>\n",
       "    <tr>\n",
       "      <th>3</th>\n",
       "      <td>8.70</td>\n",
       "      <td>9.6</td>\n",
       "    </tr>\n",
       "    <tr>\n",
       "      <th>4</th>\n",
       "      <td>9.10</td>\n",
       "      <td>8.7</td>\n",
       "    </tr>\n",
       "    <tr>\n",
       "      <th>5</th>\n",
       "      <td>9.60</td>\n",
       "      <td>10.4</td>\n",
       "    </tr>\n",
       "    <tr>\n",
       "      <th>6</th>\n",
       "      <td>8.75</td>\n",
       "      <td>9.5</td>\n",
       "    </tr>\n",
       "  </tbody>\n",
       "</table>\n",
       "</div>"
      ],
      "text/plain": [
       "      B     G\n",
       "0  8.80   9.9\n",
       "1  8.40   9.0\n",
       "2  7.90  11.1\n",
       "3  8.70   9.6\n",
       "4  9.10   8.7\n",
       "5  9.60  10.4\n",
       "6  8.75   9.5"
      ]
     },
     "execution_count": 3,
     "metadata": {},
     "output_type": "execute_result"
    }
   ],
   "source": [
    "df = read_excel(\"https://data.hossam.kr/E02/styptic.xlsx\")\n",
    "df"
   ]
  },
  {
   "cell_type": "markdown",
   "metadata": {},
   "source": [
    "#### 1) 두 그룹의 분산 확인"
   ]
  },
  {
   "cell_type": "code",
   "execution_count": 4,
   "metadata": {},
   "outputs": [
    {
     "data": {
      "text/plain": [
       "(0.2824999999999997, 0.6695238095238097)"
      ]
     },
     "execution_count": 4,
     "metadata": {},
     "output_type": "execute_result"
    }
   ],
   "source": [
    "var1 = df['B'].var()\n",
    "var2 = df['G'].var()\n",
    "var1, var2"
   ]
  },
  {
   "cell_type": "markdown",
   "metadata": {},
   "source": [
    "#### 2) 커널 밀도 그래프\n",
    "- 두 그룹에 데이터 분포가 서로 다름이 확인됨"
   ]
  },
  {
   "cell_type": "code",
   "execution_count": 5,
   "metadata": {},
   "outputs": [
    {
     "data": {
      "image/png": "[encoded data removed]",
      "text/plain": [
       "<Figure size 1000x500 with 2 Axes>"
      ]
     },
     "metadata": {},
     "output_type": "display_data"
    }
   ],
   "source": [
    "bins = [7, 8, 9, 10, 11, 12]\n",
    "\n",
    "fig, ax1 = plt.subplots(1, 1, figsize = (10, 5))\n",
    "ax2 = ax1.twinx()\n",
    "sb.histplot(data=df, x='B', bins=bins, kde=True, ax=ax1, color='pink')\n",
    "sb.histplot(data=df, x='G', bins=bins, kde=True, ax=ax2, color='lightblue')\n",
    "plt.show()\n",
    "plt.close()"
   ]
  },
  {
   "cell_type": "markdown",
   "metadata": {},
   "source": [
    "#### 3) T-Test 시행\n",
    "##### case 1\n",
    "- 가설:\n",
    "    - 귀무가설: B를 사용한 그룹과 G를 사용한 그룹의 지형 시간에는 차이가 없다\n",
    "    - 대립가설: B를 사용한 그룹과 G를 사용한 그룹의 지혈 시간에는 차이가 있다\n",
    "- 두 그룹 간 평균에 차이가 있는지를 검정\n",
    "- 기본 파라미터 사용시 `equal_var = True`, `alternative = 'two-sided'`으로 설정됨"
   ]
  },
  {
   "cell_type": "code",
   "execution_count": 6,
   "metadata": {},
   "outputs": [
    {
     "data": {
      "text/plain": [
       "TtestResult(statistic=-2.69222826574718, pvalue=0.019588953351304183, df=12.0)"
      ]
     },
     "execution_count": 6,
     "metadata": {},
     "output_type": "execute_result"
    }
   ],
   "source": [
    "stats.ttest_ind(df['B'], df['G'])"
   ]
  },
  {
   "cell_type": "markdown",
   "metadata": {},
   "source": [
    "- 결과 해석:\n",
    "    - `p-value`가 0.05보다 작으므로 (P < 0.05) 지혈제 B를 사용한 그룹과 지혈제 G를 사용한 그룹 간 평균 지혈시간에는 차이가 있다\n",
    "\n",
    "##### case 2 - 공통 분산이 아님을 가정\n",
    "- `equal_var = False` 설정"
   ]
  },
  {
   "cell_type": "code",
   "execution_count": 7,
   "metadata": {},
   "outputs": [
    {
     "data": {
      "text/plain": [
       "TtestResult(statistic=-2.69222826574718, pvalue=0.022077570616415278, df=10.29809053849377)"
      ]
     },
     "execution_count": 7,
     "metadata": {},
     "output_type": "execute_result"
    }
   ],
   "source": [
    "stats.ttest_ind(df['B'], df['G'], equal_var=False, alternative='two-sided')"
   ]
  },
  {
   "cell_type": "markdown",
   "metadata": {},
   "source": [
    "- 결과 해석:\n",
    "    - `p-value`가 0.05보다 작으므로 (P < 0.05) 지혈제 B를 사용한 그룹과 지혈제 G를 사용한 그룹 간 평균 지혈시간에는 차이가 있다\n",
    "\n",
    "##### case 3\n",
    "- 가설:\n",
    "    - 귀무가설: 지혈제 B를 사용한 그룹의 평균 지혈시간은 G를 사용한 그룹의 평균 지혈시간보다 `크지 않다`\n",
    "    - 대립가설: 지혈제 B를 사용한 그룹의 평균 지혈시간은 G를 사용한 그룹의 평균 지혈시간보다 `크다`\n",
    "- `alternative = 'greater'`"
   ]
  },
  {
   "cell_type": "code",
   "execution_count": 8,
   "metadata": {},
   "outputs": [
    {
     "data": {
      "text/plain": [
       "TtestResult(statistic=-2.69222826574718, pvalue=0.9889612146917923, df=10.29809053849377)"
      ]
     },
     "execution_count": 8,
     "metadata": {},
     "output_type": "execute_result"
    }
   ],
   "source": [
    "stats.ttest_ind(df['B'], df['G'], equal_var=False, alternative='greater')"
   ]
  },
  {
   "cell_type": "markdown",
   "metadata": {},
   "source": [
    "- 결과 해석:\n",
    "    - `p-value`가 0.05보다 크므로(P > 0.05) 지혈제 B를 사용한 그룹의 평균 지혈 시간은 지혈제 G를 사용한 그룹의 평균 지혈시간보다 크지 않다\n",
    "\n",
    "##### case 4\n",
    "- 가설:\n",
    "    - 귀무가설: 지혈제 B를 사용한 그룹의 평균 지혈시간은 G를 사용한 그룹의 평균 지혈시간보다 작지 않다\n",
    "    - 대립가설: 지혈제 B를 사용한 그룹의 평균 지혈시간은 G를 사용한 그룹의 평균 지혈시간보다 작다\n",
    "- `alternative = 'less'`"
   ]
  },
  {
   "cell_type": "code",
   "execution_count": 9,
   "metadata": {},
   "outputs": [
    {
     "data": {
      "text/plain": [
       "TtestResult(statistic=-2.69222826574718, pvalue=0.011038785308207639, df=10.29809053849377)"
      ]
     },
     "execution_count": 9,
     "metadata": {},
     "output_type": "execute_result"
    }
   ],
   "source": [
    "stats.ttest_ind(df['B'], df['G'], equal_var=False, alternative='less')"
   ]
  },
  {
   "cell_type": "markdown",
   "metadata": {},
   "source": [
    "- 결과 해석:\n",
    "    - `p-value`가 0.05보다 작으므로(P < 0.05) 지혈제 B를 사용한 그룹의 평균 지혈 시간은 지혈제 G를 사용한 그룹의 평균 지혈시간보다 작다\n",
    "\n",
    "## 3. (예제2) - 인공심장 효과 측정\n",
    "\n",
    "#### 데이터 가져오기\n",
    "- 자료는 두 독립적인 그룹의 심장병 환자에 대한 심장계수(cardiac index)를 측정한 것\n",
    "- 그룹 1: 심장수술을 받고 부착한 인공장기의 기능이 정상적인 사람들\n",
    "- 그룹 2: 비정상으로 판명된 사람들\n",
    "- 심장계수는 수술 직후에 측정함\n",
    "- 이 두 그룹의 환자에게 부착한 인공장기의 기능에 따라 심장계수가 서로 차이가 나는지 알고 싶은 것이 이 실험의 목적\n",
    "- (단, 두 그룹은 공통분산 가정에 어긋난다고 가정함)"
   ]
  },
  {
   "cell_type": "code",
   "execution_count": 10,
   "metadata": {},
   "outputs": [
    {
     "data": {
      "text/html": [
       "<div>\n",
       "<style scoped>\n",
       "    .dataframe tbody tr th:only-of-type {\n",
       "        vertical-align: middle;\n",
       "    }\n",
       "\n",
       "    .dataframe tbody tr th {\n",
       "        vertical-align: top;\n",
       "    }\n",
       "\n",
       "    .dataframe thead th {\n",
       "        text-align: right;\n",
       "    }\n",
       "</style>\n",
       "<table border=\"1\" class=\"dataframe\">\n",
       "  <thead>\n",
       "    <tr style=\"text-align: right;\">\n",
       "      <th></th>\n",
       "      <th>그룹1</th>\n",
       "      <th>그룹2</th>\n",
       "    </tr>\n",
       "  </thead>\n",
       "  <tbody>\n",
       "    <tr>\n",
       "      <th>0</th>\n",
       "      <td>3.84</td>\n",
       "      <td>3.97</td>\n",
       "    </tr>\n",
       "    <tr>\n",
       "      <th>1</th>\n",
       "      <td>2.60</td>\n",
       "      <td>2.50</td>\n",
       "    </tr>\n",
       "    <tr>\n",
       "      <th>2</th>\n",
       "      <td>1.19</td>\n",
       "      <td>2.70</td>\n",
       "    </tr>\n",
       "    <tr>\n",
       "      <th>3</th>\n",
       "      <td>2.00</td>\n",
       "      <td>3.36</td>\n",
       "    </tr>\n",
       "    <tr>\n",
       "      <th>4</th>\n",
       "      <td>6.20</td>\n",
       "      <td>3.55</td>\n",
       "    </tr>\n",
       "    <tr>\n",
       "      <th>5</th>\n",
       "      <td>0.96</td>\n",
       "      <td>2.97</td>\n",
       "    </tr>\n",
       "    <tr>\n",
       "      <th>6</th>\n",
       "      <td>5.50</td>\n",
       "      <td>3.20</td>\n",
       "    </tr>\n",
       "    <tr>\n",
       "      <th>7</th>\n",
       "      <td>3.18</td>\n",
       "      <td>2.30</td>\n",
       "    </tr>\n",
       "  </tbody>\n",
       "</table>\n",
       "</div>"
      ],
      "text/plain": [
       "    그룹1   그룹2\n",
       "0  3.84  3.97\n",
       "1  2.60  2.50\n",
       "2  1.19  2.70\n",
       "3  2.00  3.36\n",
       "4  6.20  3.55\n",
       "5  0.96  2.97\n",
       "6  5.50  3.20\n",
       "7  3.18  2.30"
      ]
     },
     "execution_count": 10,
     "metadata": {},
     "output_type": "execute_result"
    }
   ],
   "source": [
    "df = read_excel(\"https://data.hossam.kr/E02/heatrate.xlsx\")\n",
    "df"
   ]
  },
  {
   "cell_type": "markdown",
   "metadata": {},
   "source": [
    "##### case 1\n",
    "- 두 그룹 간 심장계수의 차이가 있는지를 검정\n",
    "- 가설:\n",
    "    - 귀무가설: 두 그룹 간 심장계수에는 차이가 없다\n",
    "    - 대립가설: 두 그룹 간 심장계수에는 차이가 있다"
   ]
  },
  {
   "cell_type": "code",
   "execution_count": 11,
   "metadata": {},
   "outputs": [
    {
     "data": {
      "text/plain": [
       "TtestResult(statistic=0.16333115041045673, pvalue=0.8742117697901691, df=8.19961125071249)"
      ]
     },
     "execution_count": 11,
     "metadata": {},
     "output_type": "execute_result"
    }
   ],
   "source": [
    "stats.ttest_ind(df['그룹1'], df['그룹2'], equal_var=False, alternative='two-sided')"
   ]
  },
  {
   "cell_type": "markdown",
   "metadata": {},
   "source": [
    "- 결과 해석:\n",
    "    - `p-value`가 0.05보다 크므로(P > 0.05) 귀무가설을 기각할 수 없다\n",
    "    - 두 그룹의 심장계수가 같지 않다고 판단할 근거가 될 수 없다\n",
    "\n",
    "##### case 2\n",
    "- 가설:\n",
    "    - 귀무가설: 그룹1의 심장계수가 그룹2의 심장계수보다 작지 않다\n",
    "    - 대립가설: 그룹1의 심장계수가 그룹2의 심장계수보다 작다\n",
    "- `alternative = 'less'`"
   ]
  },
  {
   "cell_type": "code",
   "execution_count": 12,
   "metadata": {},
   "outputs": [
    {
     "data": {
      "text/plain": [
       "TtestResult(statistic=0.16333115041045673, pvalue=0.5628941151049154, df=8.19961125071249)"
      ]
     },
     "execution_count": 12,
     "metadata": {},
     "output_type": "execute_result"
    }
   ],
   "source": [
    "stats.ttest_ind(df['그룹1'], df['그룹2'], equal_var=False, alternative='less')"
   ]
  },
  {
   "cell_type": "markdown",
   "metadata": {},
   "source": [
    "- 결과 해석:\n",
    "    - `p-value`가 0.05보다 크므로(P > 0.05) 귀무가설을 기각할 수 없다\n",
    "##### case 3\n",
    "- 가설:\n",
    "    - 귀무가설: 그룹1의 심장계수가 그룹2의 심장계수보다 크지 않다\n",
    "    - 대립가설: 그룹1의 심장계수가 그룹2의 심장계수보다 크다\n",
    "- `alternative = 'greater'`\n"
   ]
  },
  {
   "cell_type": "code",
   "execution_count": 13,
   "metadata": {},
   "outputs": [
    {
     "data": {
      "text/plain": [
       "TtestResult(statistic=0.16333115041045673, pvalue=0.43710588489508456, df=8.19961125071249)"
      ]
     },
     "execution_count": 13,
     "metadata": {},
     "output_type": "execute_result"
    }
   ],
   "source": [
    "stats.ttest_ind(df['그룹1'], df['그룹2'], equal_var=False, alternative='greater')"
   ]
  },
  {
   "cell_type": "markdown",
   "metadata": {},
   "source": [
    "- 결과 해석:\n",
    "    - `p-value`가 0.05보다 크므로(P > 0.05) 귀무가설을 기각할 수 없다"
   ]
  }
 ],
 "metadata": {
  "kernelspec": {
   "display_name": "Python 3",
   "language": "python",
   "name": "python3"
  },
  "language_info": {
   "codemirror_mode": {
    "name": "ipython",
    "version": 3
   },
   "file_extension": ".py",
   "mimetype": "text/x-python",
   "name": "python",
   "nbconvert_exporter": "python",
   "pygments_lexer": "ipython3",
   "version": "3.11.3"
  },
  "orig_nbformat": 4
 },
 "nbformat": 4,
 "nbformat_minor": 2
}
