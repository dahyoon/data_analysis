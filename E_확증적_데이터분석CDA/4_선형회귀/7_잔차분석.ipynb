{
 "cells": [
  {
   "cell_type": "markdown",
   "metadata": {},
   "source": [
    "# 잔차 분석\n",
    "## 잔차 분석의 이해\n",
    "### 잔차란\n",
    "- `실제 관측값`과 `예측값`의 `사이`\n",
    "- 즉, 예측값에 대한 오차를 의미함\n",
    "- $잔차 = 실제관측값 - 예측값$\n",
    "\n",
    "### 잔차 분석\n",
    "- 회귀분석 수행 후 회귀분석이 적절하게 수행되었는지, 모델이 데이터에 적합한지를 평가하기 위해 사용\n",
    "1. 잔차의 선형성\n",
    "2. 잔차의 정규성\n",
    "3. 잔차의 등분산성\n",
    "4. 잔차의 독립성\n",
    "\n",
    "## 1. 작업 준비\n",
    "#### 패키지 참조, 그래프 초기화"
   ]
  },
  {
   "cell_type": "code",
   "execution_count": 2,
   "metadata": {},
   "outputs": [],
   "source": [
    "from pandas import read_excel, DataFrame, merge\n",
    "from matplotlib import pyplot as plt\n",
    "import seaborn as sb\n",
    "import numpy as np\n",
    "import sys, os\n",
    "import statsmodels.api as sm\n",
    "from statsmodels.stats.api import het_breuschpagan\n",
    "from statsmodels.stats.stattools import durbin_watson\n",
    "from scipy import stats\n",
    "\n",
    "sys.path.append(os.path.dirname(os.path.dirname(os.getcwd())))\n",
    "from helper import my_ols, scalling # scalling: 데이터프레임 표준화 처리\n",
    "\n",
    "plt.rcParams[\"font.family\"] = 'AppleGothic' if sys.platform == 'darwin' else 'Malgun Gothic'\n",
    "plt.rcParams[\"font.size\"] = 12\n",
    "plt.rcParams[\"figure.figsize\"] = (10, 5)\n",
    "plt.rcParams[\"axes.unicode_minus\"] = False"
   ]
  },
  {
   "cell_type": "markdown",
   "metadata": {},
   "source": [
    "#### 데이터 가져오기"
   ]
  },
  {
   "cell_type": "code",
   "execution_count": 3,
   "metadata": {},
   "outputs": [
    {
     "data": {
      "text/html": [
       "<div>\n",
       "<style scoped>\n",
       "    .dataframe tbody tr th:only-of-type {\n",
       "        vertical-align: middle;\n",
       "    }\n",
       "\n",
       "    .dataframe tbody tr th {\n",
       "        vertical-align: top;\n",
       "    }\n",
       "\n",
       "    .dataframe thead th {\n",
       "        text-align: right;\n",
       "    }\n",
       "</style>\n",
       "<table border=\"1\" class=\"dataframe\">\n",
       "  <thead>\n",
       "    <tr style=\"text-align: right;\">\n",
       "      <th></th>\n",
       "      <th>speed</th>\n",
       "      <th>dist</th>\n",
       "    </tr>\n",
       "  </thead>\n",
       "  <tbody>\n",
       "    <tr>\n",
       "      <th>0</th>\n",
       "      <td>4</td>\n",
       "      <td>2</td>\n",
       "    </tr>\n",
       "    <tr>\n",
       "      <th>1</th>\n",
       "      <td>4</td>\n",
       "      <td>10</td>\n",
       "    </tr>\n",
       "    <tr>\n",
       "      <th>2</th>\n",
       "      <td>7</td>\n",
       "      <td>4</td>\n",
       "    </tr>\n",
       "    <tr>\n",
       "      <th>3</th>\n",
       "      <td>7</td>\n",
       "      <td>22</td>\n",
       "    </tr>\n",
       "    <tr>\n",
       "      <th>4</th>\n",
       "      <td>8</td>\n",
       "      <td>16</td>\n",
       "    </tr>\n",
       "  </tbody>\n",
       "</table>\n",
       "</div>"
      ],
      "text/plain": [
       "   speed  dist\n",
       "0      4     2\n",
       "1      4    10\n",
       "2      7     4\n",
       "3      7    22\n",
       "4      8    16"
      ]
     },
     "execution_count": 3,
     "metadata": {},
     "output_type": "execute_result"
    }
   ],
   "source": [
    "df = read_excel(\"https://data.hossam.kr/E04/cars.xlsx\")\n",
    "df.head()"
   ]
  },
  {
   "cell_type": "markdown",
   "metadata": {},
   "source": [
    "#### 데이터 전처리\n",
    "##### 데이터 표준화"
   ]
  },
  {
   "cell_type": "code",
   "execution_count": 4,
   "metadata": {},
   "outputs": [
    {
     "data": {
      "text/html": [
       "<div>\n",
       "<style scoped>\n",
       "    .dataframe tbody tr th:only-of-type {\n",
       "        vertical-align: middle;\n",
       "    }\n",
       "\n",
       "    .dataframe tbody tr th {\n",
       "        vertical-align: top;\n",
       "    }\n",
       "\n",
       "    .dataframe thead th {\n",
       "        text-align: right;\n",
       "    }\n",
       "</style>\n",
       "<table border=\"1\" class=\"dataframe\">\n",
       "  <thead>\n",
       "    <tr style=\"text-align: right;\">\n",
       "      <th></th>\n",
       "      <th>speed</th>\n",
       "      <th>dist</th>\n",
       "    </tr>\n",
       "  </thead>\n",
       "  <tbody>\n",
       "    <tr>\n",
       "      <th>0</th>\n",
       "      <td>-2.177858</td>\n",
       "      <td>-1.606405</td>\n",
       "    </tr>\n",
       "    <tr>\n",
       "      <th>1</th>\n",
       "      <td>-2.177858</td>\n",
       "      <td>-1.292807</td>\n",
       "    </tr>\n",
       "    <tr>\n",
       "      <th>2</th>\n",
       "      <td>-1.604738</td>\n",
       "      <td>-1.528005</td>\n",
       "    </tr>\n",
       "    <tr>\n",
       "      <th>3</th>\n",
       "      <td>-1.604738</td>\n",
       "      <td>-0.822410</td>\n",
       "    </tr>\n",
       "    <tr>\n",
       "      <th>4</th>\n",
       "      <td>-1.413697</td>\n",
       "      <td>-1.057609</td>\n",
       "    </tr>\n",
       "    <tr>\n",
       "      <th>5</th>\n",
       "      <td>-1.222657</td>\n",
       "      <td>-1.292807</td>\n",
       "    </tr>\n",
       "    <tr>\n",
       "      <th>6</th>\n",
       "      <td>-1.031617</td>\n",
       "      <td>-0.979209</td>\n",
       "    </tr>\n",
       "    <tr>\n",
       "      <th>7</th>\n",
       "      <td>-1.031617</td>\n",
       "      <td>-0.665611</td>\n",
       "    </tr>\n",
       "    <tr>\n",
       "      <th>8</th>\n",
       "      <td>-1.031617</td>\n",
       "      <td>-0.352014</td>\n",
       "    </tr>\n",
       "    <tr>\n",
       "      <th>9</th>\n",
       "      <td>-0.840577</td>\n",
       "      <td>-1.018409</td>\n",
       "    </tr>\n",
       "    <tr>\n",
       "      <th>10</th>\n",
       "      <td>-0.840577</td>\n",
       "      <td>-0.587212</td>\n",
       "    </tr>\n",
       "    <tr>\n",
       "      <th>11</th>\n",
       "      <td>-0.649537</td>\n",
       "      <td>-1.136008</td>\n",
       "    </tr>\n",
       "    <tr>\n",
       "      <th>12</th>\n",
       "      <td>-0.649537</td>\n",
       "      <td>-0.900810</td>\n",
       "    </tr>\n",
       "    <tr>\n",
       "      <th>13</th>\n",
       "      <td>-0.649537</td>\n",
       "      <td>-0.744011</td>\n",
       "    </tr>\n",
       "    <tr>\n",
       "      <th>14</th>\n",
       "      <td>-0.649537</td>\n",
       "      <td>-0.587212</td>\n",
       "    </tr>\n",
       "    <tr>\n",
       "      <th>15</th>\n",
       "      <td>-0.458496</td>\n",
       "      <td>-0.665611</td>\n",
       "    </tr>\n",
       "    <tr>\n",
       "      <th>16</th>\n",
       "      <td>-0.458496</td>\n",
       "      <td>-0.352014</td>\n",
       "    </tr>\n",
       "    <tr>\n",
       "      <th>17</th>\n",
       "      <td>-0.458496</td>\n",
       "      <td>-0.352014</td>\n",
       "    </tr>\n",
       "    <tr>\n",
       "      <th>18</th>\n",
       "      <td>-0.458496</td>\n",
       "      <td>0.118383</td>\n",
       "    </tr>\n",
       "    <tr>\n",
       "      <th>19</th>\n",
       "      <td>-0.267456</td>\n",
       "      <td>-0.665611</td>\n",
       "    </tr>\n",
       "    <tr>\n",
       "      <th>20</th>\n",
       "      <td>-0.267456</td>\n",
       "      <td>-0.273614</td>\n",
       "    </tr>\n",
       "    <tr>\n",
       "      <th>21</th>\n",
       "      <td>-0.267456</td>\n",
       "      <td>0.667179</td>\n",
       "    </tr>\n",
       "    <tr>\n",
       "      <th>22</th>\n",
       "      <td>-0.267456</td>\n",
       "      <td>1.451174</td>\n",
       "    </tr>\n",
       "    <tr>\n",
       "      <th>23</th>\n",
       "      <td>-0.076416</td>\n",
       "      <td>-0.900810</td>\n",
       "    </tr>\n",
       "    <tr>\n",
       "      <th>24</th>\n",
       "      <td>-0.076416</td>\n",
       "      <td>-0.665611</td>\n",
       "    </tr>\n",
       "    <tr>\n",
       "      <th>25</th>\n",
       "      <td>-0.076416</td>\n",
       "      <td>0.431981</td>\n",
       "    </tr>\n",
       "    <tr>\n",
       "      <th>26</th>\n",
       "      <td>0.114624</td>\n",
       "      <td>-0.430413</td>\n",
       "    </tr>\n",
       "    <tr>\n",
       "      <th>27</th>\n",
       "      <td>0.114624</td>\n",
       "      <td>-0.116815</td>\n",
       "    </tr>\n",
       "    <tr>\n",
       "      <th>28</th>\n",
       "      <td>0.305664</td>\n",
       "      <td>-0.430413</td>\n",
       "    </tr>\n",
       "    <tr>\n",
       "      <th>29</th>\n",
       "      <td>0.305664</td>\n",
       "      <td>-0.116815</td>\n",
       "    </tr>\n",
       "    <tr>\n",
       "      <th>30</th>\n",
       "      <td>0.305664</td>\n",
       "      <td>0.275182</td>\n",
       "    </tr>\n",
       "    <tr>\n",
       "      <th>31</th>\n",
       "      <td>0.496704</td>\n",
       "      <td>-0.038416</td>\n",
       "    </tr>\n",
       "    <tr>\n",
       "      <th>32</th>\n",
       "      <td>0.496704</td>\n",
       "      <td>0.510380</td>\n",
       "    </tr>\n",
       "    <tr>\n",
       "      <th>33</th>\n",
       "      <td>0.496704</td>\n",
       "      <td>1.294375</td>\n",
       "    </tr>\n",
       "    <tr>\n",
       "      <th>34</th>\n",
       "      <td>0.496704</td>\n",
       "      <td>1.607973</td>\n",
       "    </tr>\n",
       "    <tr>\n",
       "      <th>35</th>\n",
       "      <td>0.687745</td>\n",
       "      <td>-0.273614</td>\n",
       "    </tr>\n",
       "    <tr>\n",
       "      <th>36</th>\n",
       "      <td>0.687745</td>\n",
       "      <td>0.118383</td>\n",
       "    </tr>\n",
       "    <tr>\n",
       "      <th>37</th>\n",
       "      <td>0.687745</td>\n",
       "      <td>0.980777</td>\n",
       "    </tr>\n",
       "    <tr>\n",
       "      <th>38</th>\n",
       "      <td>0.878785</td>\n",
       "      <td>-0.430413</td>\n",
       "    </tr>\n",
       "    <tr>\n",
       "      <th>39</th>\n",
       "      <td>0.878785</td>\n",
       "      <td>0.196783</td>\n",
       "    </tr>\n",
       "    <tr>\n",
       "      <th>40</th>\n",
       "      <td>0.878785</td>\n",
       "      <td>0.353582</td>\n",
       "    </tr>\n",
       "    <tr>\n",
       "      <th>41</th>\n",
       "      <td>0.878785</td>\n",
       "      <td>0.510380</td>\n",
       "    </tr>\n",
       "    <tr>\n",
       "      <th>42</th>\n",
       "      <td>0.878785</td>\n",
       "      <td>0.823978</td>\n",
       "    </tr>\n",
       "    <tr>\n",
       "      <th>43</th>\n",
       "      <td>1.260865</td>\n",
       "      <td>0.902378</td>\n",
       "    </tr>\n",
       "    <tr>\n",
       "      <th>44</th>\n",
       "      <td>1.451905</td>\n",
       "      <td>0.431981</td>\n",
       "    </tr>\n",
       "    <tr>\n",
       "      <th>45</th>\n",
       "      <td>1.642946</td>\n",
       "      <td>1.059177</td>\n",
       "    </tr>\n",
       "    <tr>\n",
       "      <th>46</th>\n",
       "      <td>1.642946</td>\n",
       "      <td>1.921571</td>\n",
       "    </tr>\n",
       "    <tr>\n",
       "      <th>47</th>\n",
       "      <td>1.642946</td>\n",
       "      <td>1.960770</td>\n",
       "    </tr>\n",
       "    <tr>\n",
       "      <th>48</th>\n",
       "      <td>1.642946</td>\n",
       "      <td>3.019163</td>\n",
       "    </tr>\n",
       "    <tr>\n",
       "      <th>49</th>\n",
       "      <td>1.833986</td>\n",
       "      <td>1.647172</td>\n",
       "    </tr>\n",
       "  </tbody>\n",
       "</table>\n",
       "</div>"
      ],
      "text/plain": [
       "       speed      dist\n",
       "0  -2.177858 -1.606405\n",
       "1  -2.177858 -1.292807\n",
       "2  -1.604738 -1.528005\n",
       "3  -1.604738 -0.822410\n",
       "4  -1.413697 -1.057609\n",
       "5  -1.222657 -1.292807\n",
       "6  -1.031617 -0.979209\n",
       "7  -1.031617 -0.665611\n",
       "8  -1.031617 -0.352014\n",
       "9  -0.840577 -1.018409\n",
       "10 -0.840577 -0.587212\n",
       "11 -0.649537 -1.136008\n",
       "12 -0.649537 -0.900810\n",
       "13 -0.649537 -0.744011\n",
       "14 -0.649537 -0.587212\n",
       "15 -0.458496 -0.665611\n",
       "16 -0.458496 -0.352014\n",
       "17 -0.458496 -0.352014\n",
       "18 -0.458496  0.118383\n",
       "19 -0.267456 -0.665611\n",
       "20 -0.267456 -0.273614\n",
       "21 -0.267456  0.667179\n",
       "22 -0.267456  1.451174\n",
       "23 -0.076416 -0.900810\n",
       "24 -0.076416 -0.665611\n",
       "25 -0.076416  0.431981\n",
       "26  0.114624 -0.430413\n",
       "27  0.114624 -0.116815\n",
       "28  0.305664 -0.430413\n",
       "29  0.305664 -0.116815\n",
       "30  0.305664  0.275182\n",
       "31  0.496704 -0.038416\n",
       "32  0.496704  0.510380\n",
       "33  0.496704  1.294375\n",
       "34  0.496704  1.607973\n",
       "35  0.687745 -0.273614\n",
       "36  0.687745  0.118383\n",
       "37  0.687745  0.980777\n",
       "38  0.878785 -0.430413\n",
       "39  0.878785  0.196783\n",
       "40  0.878785  0.353582\n",
       "41  0.878785  0.510380\n",
       "42  0.878785  0.823978\n",
       "43  1.260865  0.902378\n",
       "44  1.451905  0.431981\n",
       "45  1.642946  1.059177\n",
       "46  1.642946  1.921571\n",
       "47  1.642946  1.960770\n",
       "48  1.642946  3.019163\n",
       "49  1.833986  1.647172"
      ]
     },
     "execution_count": 4,
     "metadata": {},
     "output_type": "execute_result"
    }
   ],
   "source": [
    "x, y = scalling(df, yname='dist')\n",
    "df = merge(x, y, left_index=True, right_index=True)\n",
    "df"
   ]
  },
  {
   "cell_type": "markdown",
   "metadata": {},
   "source": [
    "#### 회귀분석"
   ]
  },
  {
   "cell_type": "code",
   "execution_count": 5,
   "metadata": {},
   "outputs": [
    {
     "data": {
      "text/plain": [
       "<helper.OlsResult at 0x280c39550>"
      ]
     },
     "execution_count": 5,
     "metadata": {},
     "output_type": "execute_result"
    }
   ],
   "source": [
    "ols = my_ols(df, x='speed', y='dist')\n",
    "ols"
   ]
  },
  {
   "cell_type": "markdown",
   "metadata": {},
   "source": [
    "## 2. 잔차 분석 수행\n",
    "### 0) 잔차 구하기\n",
    "#### 예측값\n",
    "- `.fit.predict(컬럼)`"
   ]
  },
  {
   "cell_type": "code",
   "execution_count": 15,
   "metadata": {},
   "outputs": [
    {
     "data": {
      "text/plain": [
       "0    -1.757303\n",
       "1    -1.757303\n",
       "2    -1.294855\n",
       "3    -1.294855\n",
       "4    -1.140705\n",
       "5    -0.986556\n",
       "6    -0.832406\n",
       "7    -0.832406\n",
       "8    -0.832406\n",
       "9    -0.678257\n",
       "10   -0.678257\n",
       "11   -0.524108\n",
       "12   -0.524108\n",
       "13   -0.524108\n",
       "14   -0.524108\n",
       "15   -0.369958\n",
       "16   -0.369958\n",
       "17   -0.369958\n",
       "18   -0.369958\n",
       "19   -0.215809\n",
       "20   -0.215809\n",
       "21   -0.215809\n",
       "22   -0.215809\n",
       "23   -0.061660\n",
       "24   -0.061660\n",
       "25   -0.061660\n",
       "26    0.092490\n",
       "27    0.092490\n",
       "28    0.246639\n",
       "29    0.246639\n",
       "30    0.246639\n",
       "31    0.400788\n",
       "32    0.400788\n",
       "33    0.400788\n",
       "34    0.400788\n",
       "35    0.554938\n",
       "36    0.554938\n",
       "37    0.554938\n",
       "38    0.709087\n",
       "39    0.709087\n",
       "40    0.709087\n",
       "41    0.709087\n",
       "42    0.709087\n",
       "43    1.017386\n",
       "44    1.171535\n",
       "45    1.325684\n",
       "46    1.325684\n",
       "47    1.325684\n",
       "48    1.325684\n",
       "49    1.479834\n",
       "dtype: float64"
      ]
     },
     "execution_count": 15,
     "metadata": {},
     "output_type": "execute_result"
    }
   ],
   "source": [
    "y = ols.fit.predict(df['speed'])\n",
    "y"
   ]
  },
  {
   "cell_type": "markdown",
   "metadata": {},
   "source": [
    "#### 회귀분석 결과에 내장된 예측값\n",
    "- `.predict()` 함수의 결과와 동일함"
   ]
  },
  {
   "cell_type": "code",
   "execution_count": 16,
   "metadata": {},
   "outputs": [
    {
     "data": {
      "text/plain": [
       "0    -1.757303\n",
       "1    -1.757303\n",
       "2    -1.294855\n",
       "3    -1.294855\n",
       "4    -1.140705\n",
       "5    -0.986556\n",
       "6    -0.832406\n",
       "7    -0.832406\n",
       "8    -0.832406\n",
       "9    -0.678257\n",
       "10   -0.678257\n",
       "11   -0.524108\n",
       "12   -0.524108\n",
       "13   -0.524108\n",
       "14   -0.524108\n",
       "15   -0.369958\n",
       "16   -0.369958\n",
       "17   -0.369958\n",
       "18   -0.369958\n",
       "19   -0.215809\n",
       "20   -0.215809\n",
       "21   -0.215809\n",
       "22   -0.215809\n",
       "23   -0.061660\n",
       "24   -0.061660\n",
       "25   -0.061660\n",
       "26    0.092490\n",
       "27    0.092490\n",
       "28    0.246639\n",
       "29    0.246639\n",
       "30    0.246639\n",
       "31    0.400788\n",
       "32    0.400788\n",
       "33    0.400788\n",
       "34    0.400788\n",
       "35    0.554938\n",
       "36    0.554938\n",
       "37    0.554938\n",
       "38    0.709087\n",
       "39    0.709087\n",
       "40    0.709087\n",
       "41    0.709087\n",
       "42    0.709087\n",
       "43    1.017386\n",
       "44    1.171535\n",
       "45    1.325684\n",
       "46    1.325684\n",
       "47    1.325684\n",
       "48    1.325684\n",
       "49    1.479834\n",
       "dtype: float64"
      ]
     },
     "execution_count": 16,
     "metadata": {},
     "output_type": "execute_result"
    }
   ],
   "source": [
    "y = ols.fit.fittedvalues\n",
    "y"
   ]
  },
  {
   "cell_type": "markdown",
   "metadata": {},
   "source": [
    "#### 잔차(직접계산)"
   ]
  },
  {
   "cell_type": "code",
   "execution_count": 17,
   "metadata": {},
   "outputs": [
    {
     "data": {
      "text/plain": [
       "0     0.150898\n",
       "1     0.464496\n",
       "2    -0.233151\n",
       "3     0.472444\n",
       "4     0.083097\n",
       "5    -0.306251\n",
       "6    -0.146803\n",
       "7     0.166795\n",
       "8     0.480393\n",
       "9    -0.340152\n",
       "10    0.091045\n",
       "11   -0.611900\n",
       "12   -0.376702\n",
       "13   -0.219903\n",
       "14   -0.063104\n",
       "15   -0.295653\n",
       "16    0.017945\n",
       "17    0.017945\n",
       "18    0.488342\n",
       "19   -0.449802\n",
       "20   -0.057805\n",
       "21    0.882988\n",
       "22    1.666983\n",
       "23   -0.839150\n",
       "24   -0.603952\n",
       "25    0.493641\n",
       "26   -0.522903\n",
       "27   -0.209305\n",
       "28   -0.677052\n",
       "29   -0.363454\n",
       "30    0.028543\n",
       "31   -0.439204\n",
       "32    0.109592\n",
       "33    0.893587\n",
       "34    1.207184\n",
       "35   -0.828552\n",
       "36   -0.436554\n",
       "37    0.425840\n",
       "38   -1.139500\n",
       "39   -0.512304\n",
       "40   -0.355505\n",
       "41   -0.198707\n",
       "42    0.114891\n",
       "43   -0.115008\n",
       "44   -0.739554\n",
       "45   -0.266508\n",
       "46    0.595886\n",
       "47    0.635086\n",
       "48    1.693479\n",
       "49    0.167339\n",
       "dtype: float64"
      ]
     },
     "execution_count": 17,
     "metadata": {},
     "output_type": "execute_result"
    }
   ],
   "source": [
    "residual = df['dist'] - y\n",
    "residual"
   ]
  },
  {
   "cell_type": "markdown",
   "metadata": {},
   "source": [
    "#### 회귀분석 결과에 내장된 잔차값"
   ]
  },
  {
   "cell_type": "code",
   "execution_count": 18,
   "metadata": {},
   "outputs": [
    {
     "data": {
      "text/plain": [
       "0     0.150898\n",
       "1     0.464496\n",
       "2    -0.233151\n",
       "3     0.472444\n",
       "4     0.083097\n",
       "5    -0.306251\n",
       "6    -0.146803\n",
       "7     0.166795\n",
       "8     0.480393\n",
       "9    -0.340152\n",
       "10    0.091045\n",
       "11   -0.611900\n",
       "12   -0.376702\n",
       "13   -0.219903\n",
       "14   -0.063104\n",
       "15   -0.295653\n",
       "16    0.017945\n",
       "17    0.017945\n",
       "18    0.488342\n",
       "19   -0.449802\n",
       "20   -0.057805\n",
       "21    0.882988\n",
       "22    1.666983\n",
       "23   -0.839150\n",
       "24   -0.603952\n",
       "25    0.493641\n",
       "26   -0.522903\n",
       "27   -0.209305\n",
       "28   -0.677052\n",
       "29   -0.363454\n",
       "30    0.028543\n",
       "31   -0.439204\n",
       "32    0.109592\n",
       "33    0.893587\n",
       "34    1.207184\n",
       "35   -0.828552\n",
       "36   -0.436554\n",
       "37    0.425840\n",
       "38   -1.139500\n",
       "39   -0.512304\n",
       "40   -0.355505\n",
       "41   -0.198707\n",
       "42    0.114891\n",
       "43   -0.115008\n",
       "44   -0.739554\n",
       "45   -0.266508\n",
       "46    0.595886\n",
       "47    0.635086\n",
       "48    1.693479\n",
       "49    0.167339\n",
       "dtype: float64"
      ]
     },
     "execution_count": 18,
     "metadata": {},
     "output_type": "execute_result"
    }
   ],
   "source": [
    "residual = ols.fit.resid\n",
    "residual"
   ]
  },
  {
   "cell_type": "markdown",
   "metadata": {},
   "source": [
    "#### 분석결과가 내장하고 있는 독립변수 데이터 set"
   ]
  },
  {
   "cell_type": "code",
   "execution_count": 19,
   "metadata": {},
   "outputs": [
    {
     "data": {
      "text/plain": [
       "array([[ 1.        , -2.17785805],\n",
       "       [ 1.        , -2.17785805],\n",
       "       [ 1.        , -1.60473751],\n",
       "       [ 1.        , -1.60473751],\n",
       "       [ 1.        , -1.41369733],\n",
       "       [ 1.        , -1.22265715],\n",
       "       [ 1.        , -1.03161697],\n",
       "       [ 1.        , -1.03161697],\n",
       "       [ 1.        , -1.03161697],\n",
       "       [ 1.        , -0.84057679],\n",
       "       [ 1.        , -0.84057679],\n",
       "       [ 1.        , -0.64953661],\n",
       "       [ 1.        , -0.64953661],\n",
       "       [ 1.        , -0.64953661],\n",
       "       [ 1.        , -0.64953661],\n",
       "       [ 1.        , -0.45849643],\n",
       "       [ 1.        , -0.45849643],\n",
       "       [ 1.        , -0.45849643],\n",
       "       [ 1.        , -0.45849643],\n",
       "       [ 1.        , -0.26745625],\n",
       "       [ 1.        , -0.26745625],\n",
       "       [ 1.        , -0.26745625],\n",
       "       [ 1.        , -0.26745625],\n",
       "       [ 1.        , -0.07641607],\n",
       "       [ 1.        , -0.07641607],\n",
       "       [ 1.        , -0.07641607],\n",
       "       [ 1.        ,  0.11462411],\n",
       "       [ 1.        ,  0.11462411],\n",
       "       [ 1.        ,  0.30566429],\n",
       "       [ 1.        ,  0.30566429],\n",
       "       [ 1.        ,  0.30566429],\n",
       "       [ 1.        ,  0.49670447],\n",
       "       [ 1.        ,  0.49670447],\n",
       "       [ 1.        ,  0.49670447],\n",
       "       [ 1.        ,  0.49670447],\n",
       "       [ 1.        ,  0.68774465],\n",
       "       [ 1.        ,  0.68774465],\n",
       "       [ 1.        ,  0.68774465],\n",
       "       [ 1.        ,  0.87878483],\n",
       "       [ 1.        ,  0.87878483],\n",
       "       [ 1.        ,  0.87878483],\n",
       "       [ 1.        ,  0.87878483],\n",
       "       [ 1.        ,  0.87878483],\n",
       "       [ 1.        ,  1.26086519],\n",
       "       [ 1.        ,  1.45190537],\n",
       "       [ 1.        ,  1.64294555],\n",
       "       [ 1.        ,  1.64294555],\n",
       "       [ 1.        ,  1.64294555],\n",
       "       [ 1.        ,  1.64294555],\n",
       "       [ 1.        ,  1.83398573]])"
      ]
     },
     "execution_count": 19,
     "metadata": {},
     "output_type": "execute_result"
    }
   ],
   "source": [
    "ols.fit.model.exog"
   ]
  },
  {
   "cell_type": "markdown",
   "metadata": {},
   "source": [
    "#### 원본 데이터프레임에 병합"
   ]
  },
  {
   "cell_type": "code",
   "execution_count": 20,
   "metadata": {},
   "outputs": [
    {
     "data": {
      "text/html": [
       "<div>\n",
       "<style scoped>\n",
       "    .dataframe tbody tr th:only-of-type {\n",
       "        vertical-align: middle;\n",
       "    }\n",
       "\n",
       "    .dataframe tbody tr th {\n",
       "        vertical-align: top;\n",
       "    }\n",
       "\n",
       "    .dataframe thead th {\n",
       "        text-align: right;\n",
       "    }\n",
       "</style>\n",
       "<table border=\"1\" class=\"dataframe\">\n",
       "  <thead>\n",
       "    <tr style=\"text-align: right;\">\n",
       "      <th></th>\n",
       "      <th>speed</th>\n",
       "      <th>dist</th>\n",
       "      <th>예측값</th>\n",
       "      <th>잔차</th>\n",
       "    </tr>\n",
       "  </thead>\n",
       "  <tbody>\n",
       "    <tr>\n",
       "      <th>0</th>\n",
       "      <td>-2.177858</td>\n",
       "      <td>-1.606405</td>\n",
       "      <td>-1.757303</td>\n",
       "      <td>0.150898</td>\n",
       "    </tr>\n",
       "    <tr>\n",
       "      <th>1</th>\n",
       "      <td>-2.177858</td>\n",
       "      <td>-1.292807</td>\n",
       "      <td>-1.757303</td>\n",
       "      <td>0.464496</td>\n",
       "    </tr>\n",
       "    <tr>\n",
       "      <th>2</th>\n",
       "      <td>-1.604738</td>\n",
       "      <td>-1.528005</td>\n",
       "      <td>-1.294855</td>\n",
       "      <td>-0.233151</td>\n",
       "    </tr>\n",
       "    <tr>\n",
       "      <th>3</th>\n",
       "      <td>-1.604738</td>\n",
       "      <td>-0.822410</td>\n",
       "      <td>-1.294855</td>\n",
       "      <td>0.472444</td>\n",
       "    </tr>\n",
       "    <tr>\n",
       "      <th>4</th>\n",
       "      <td>-1.413697</td>\n",
       "      <td>-1.057609</td>\n",
       "      <td>-1.140705</td>\n",
       "      <td>0.083097</td>\n",
       "    </tr>\n",
       "  </tbody>\n",
       "</table>\n",
       "</div>"
      ],
      "text/plain": [
       "      speed      dist       예측값        잔차\n",
       "0 -2.177858 -1.606405 -1.757303  0.150898\n",
       "1 -2.177858 -1.292807 -1.757303  0.464496\n",
       "2 -1.604738 -1.528005 -1.294855 -0.233151\n",
       "3 -1.604738 -0.822410 -1.294855  0.472444\n",
       "4 -1.413697 -1.057609 -1.140705  0.083097"
      ]
     },
     "execution_count": 20,
     "metadata": {},
     "output_type": "execute_result"
    }
   ],
   "source": [
    "df['예측값'] = y\n",
    "df['잔차'] = residual\n",
    "df.head()"
   ]
  },
  {
   "cell_type": "markdown",
   "metadata": {},
   "source": [
    "### 1) 잔차의 선형성\n",
    "#### 잔차 시각화\n",
    "- 모든 예측값에서 가운데 점선에 맞추어 잔차가 비슷하게 있어야 한다\n",
    "- 빨간 실선은 잔차의 추세를 의미\n",
    "- 빨간 실선이 점선에서 크게 벗어난다면 잔차가 크게 달라진다는 의미이므로 선형성이 없다는 것이다."
   ]
  },
  {
   "cell_type": "code",
   "execution_count": 22,
   "metadata": {},
   "outputs": [
    {
     "data": {
      "image/png": "[encoded data removed]",
      "text/plain": [
       "<Figure size 1000x500 with 1 Axes>"
      ]
     },
     "metadata": {},
     "output_type": "display_data"
    }
   ],
   "source": [
    "xmin = df['예측값'].min()\n",
    "xmax = df['예측값'].max()\n",
    "xrange = [xmin, xmax]\n",
    "yrange = [0, 0]\n",
    "\n",
    "plt.figure()\n",
    "sb.regplot(data = df, x='예측값', y='잔차', lowess = True,\n",
    "           line_kws={'color': 'red'})\n",
    "sb.lineplot(x=xrange, y=yrange, color='blue', linestyle='--')\n",
    "plt.grid()\n",
    "plt.show()\n",
    "plt.close()"
   ]
  },
  {
   "cell_type": "markdown",
   "metadata": {},
   "source": [
    "### 2) 잔차의 정규성\n",
    "- 잔차가 정규분포를 따르는지 확인\n",
    "##### 시각화\n",
    "- Q-Q plot으로 확인\n",
    "- 잔차가 정규분포를 따르면 Q-Q Plot에서 점들이 점선을 따라 배치된다.\n",
    "- 구해 놓은 예측값을 활용하여 zscore 값을 구한다.\n",
    "##### zscore 구하기\n",
    "- `stats.zscore(컬럼)`"
   ]
  },
  {
   "cell_type": "code",
   "execution_count": 23,
   "metadata": {},
   "outputs": [
    {
     "data": {
      "text/html": [
       "<div>\n",
       "<style scoped>\n",
       "    .dataframe tbody tr th:only-of-type {\n",
       "        vertical-align: middle;\n",
       "    }\n",
       "\n",
       "    .dataframe tbody tr th {\n",
       "        vertical-align: top;\n",
       "    }\n",
       "\n",
       "    .dataframe thead th {\n",
       "        text-align: right;\n",
       "    }\n",
       "</style>\n",
       "<table border=\"1\" class=\"dataframe\">\n",
       "  <thead>\n",
       "    <tr style=\"text-align: right;\">\n",
       "      <th></th>\n",
       "      <th>speed</th>\n",
       "      <th>dist</th>\n",
       "      <th>예측값</th>\n",
       "      <th>잔차</th>\n",
       "      <th>zscore</th>\n",
       "    </tr>\n",
       "  </thead>\n",
       "  <tbody>\n",
       "    <tr>\n",
       "      <th>0</th>\n",
       "      <td>-2.177858</td>\n",
       "      <td>-1.606405</td>\n",
       "      <td>-1.757303</td>\n",
       "      <td>0.150898</td>\n",
       "      <td>-2.177858</td>\n",
       "    </tr>\n",
       "    <tr>\n",
       "      <th>1</th>\n",
       "      <td>-2.177858</td>\n",
       "      <td>-1.292807</td>\n",
       "      <td>-1.757303</td>\n",
       "      <td>0.464496</td>\n",
       "      <td>-2.177858</td>\n",
       "    </tr>\n",
       "    <tr>\n",
       "      <th>2</th>\n",
       "      <td>-1.604738</td>\n",
       "      <td>-1.528005</td>\n",
       "      <td>-1.294855</td>\n",
       "      <td>-0.233151</td>\n",
       "      <td>-1.604738</td>\n",
       "    </tr>\n",
       "    <tr>\n",
       "      <th>3</th>\n",
       "      <td>-1.604738</td>\n",
       "      <td>-0.822410</td>\n",
       "      <td>-1.294855</td>\n",
       "      <td>0.472444</td>\n",
       "      <td>-1.604738</td>\n",
       "    </tr>\n",
       "    <tr>\n",
       "      <th>4</th>\n",
       "      <td>-1.413697</td>\n",
       "      <td>-1.057609</td>\n",
       "      <td>-1.140705</td>\n",
       "      <td>0.083097</td>\n",
       "      <td>-1.413697</td>\n",
       "    </tr>\n",
       "  </tbody>\n",
       "</table>\n",
       "</div>"
      ],
      "text/plain": [
       "      speed      dist       예측값        잔차    zscore\n",
       "0 -2.177858 -1.606405 -1.757303  0.150898 -2.177858\n",
       "1 -2.177858 -1.292807 -1.757303  0.464496 -2.177858\n",
       "2 -1.604738 -1.528005 -1.294855 -0.233151 -1.604738\n",
       "3 -1.604738 -0.822410 -1.294855  0.472444 -1.604738\n",
       "4 -1.413697 -1.057609 -1.140705  0.083097 -1.413697"
      ]
     },
     "execution_count": 23,
     "metadata": {},
     "output_type": "execute_result"
    }
   ],
   "source": [
    "df['zscore'] = stats.zscore(df['예측값'])\n",
    "df.head()"
   ]
  },
  {
   "cell_type": "markdown",
   "metadata": {},
   "source": [
    "##### Q-Q Plot 그리기"
   ]
  },
  {
   "cell_type": "code",
   "execution_count": 25,
   "metadata": {},
   "outputs": [
    {
     "data": {
      "image/png": "[encoded data removed]",
      "text/plain": [
       "<Figure size 1000x500 with 1 Axes>"
      ]
     },
     "metadata": {},
     "output_type": "display_data"
    }
   ],
   "source": [
    "(x, y), _ = stats.probplot(df['zscore'])\n",
    "\n",
    "sb.scatterplot(x=x, y=y)\n",
    "sb.lineplot(x=[-3, 3], y=[-3, 3], color='red', linestyle='--')\n",
    "plt.show()\n",
    "plt.close()"
   ]
  },
  {
   "cell_type": "markdown",
   "metadata": {},
   "source": [
    "##### 잔차도\n",
    "- 잔차가 정규분포를 따른다면 대략적으로,\n",
    "    - $\\pm\\sqrt{MSE}$ 범위 안에 최소 `68%`의 잔차가 포함된다.\n",
    "    - $\\pm2\\sqrt{MSE}$ 범위 안에 최소 `95%`의 잔차가 포함된다.\n",
    "    - $\\pm3\\sqrt{MSE}$ 범위 안에 최소 `99%`의 잔차가 포함된다."
   ]
  },
  {
   "cell_type": "code",
   "execution_count": 26,
   "metadata": {},
   "outputs": [
    {
     "name": "stdout",
     "output_type": "stream",
     "text": [
      "루트 1MSE 구간에 포함된 잔차 비율: 74.00%\n",
      "루트 2MSE 구간에 포함된 잔차 비율: 94.00%\n",
      "루트 3MSE 구간에 포함된 잔차 비율: 100.00%\n"
     ]
    }
   ],
   "source": [
    "MSE_sq = np.sqrt(ols.fit.mse_resid)\n",
    "r = ols.fit.resid\n",
    "\n",
    "r1 = r[ (r > -MSE_sq) & (r < MSE_sq)].count() / r.count() * 100\n",
    "r2 = r[ (r > -2*MSE_sq) & (r < 2*MSE_sq)].count() / r.count() * 100\n",
    "r3 = r[ (r > -3*MSE_sq) & (r < 3*MSE_sq)].count() / r.count() * 100\n",
    "\n",
    "mse_r = [r1, r2, r3]\n",
    "\n",
    "print(f\"루트 1MSE 구간에 포함된 잔차 비율: {r1:1.2f}%\")\n",
    "print(f\"루트 2MSE 구간에 포함된 잔차 비율: {r2:1.2f}%\")\n",
    "print(f\"루트 3MSE 구간에 포함된 잔차 비율: {r3:1.2f}%\")"
   ]
  },
  {
   "cell_type": "code",
   "execution_count": 27,
   "metadata": {},
   "outputs": [
    {
     "data": {
      "image/png": "[encoded data removed]",
      "text/plain": [
       "<Figure size 1000x500 with 1 Axes>"
      ]
     },
     "metadata": {},
     "output_type": "display_data"
    }
   ],
   "source": [
    "mse_sq = ols.fit.mse_resid\n",
    "\n",
    "\n",
    "# 예측값과 실제값간의 잔차를 구해서 표시해주는 그래프\n",
    "sb.residplot(data=df, x='예측값', y='dist', scatter_kws = {'edgecolor':\"white\", \"alpha\":0.7})\n",
    "\n",
    "for i, c in enumerate(['red', 'green', 'black']):\n",
    "    plt.axhline((i+1) * mse_sq, color=c)\n",
    "    plt.axhline(-(i+1) * mse_sq, color=c)\n",
    "\n",
    "# 현재 표시되는 그래프의 x축 범위를 가져온다.\n",
    "xmin, xmax = plt.xlim()\n",
    "\n",
    "for i, c in enumerate(['red', 'green', 'black']):\n",
    "    plt.text(s=f\"{i+1}\"r'${}\\sqrt{MSE}$ = %s%%' % mse_r[i], x=xmax+0.2, y=(i+1) * mse_sq)\n",
    "    plt.text(s=f\"-{i+1}\"r'${}\\sqrt{MSE}$ = %s%%' % mse_r[i], x=xmax+0.2, y=-(i+1) * mse_sq)\n",
    "\n",
    "plt.show()\n",
    "plt.close()"
   ]
  },
  {
   "cell_type": "markdown",
   "metadata": {},
   "source": [
    "#### 샤피로 검정을 통한 정규성 검정\n",
    "- 표본수가 50개 미만인 경우 (중심극한정리를 감안할 경우 30개 미만)\n",
    "> 이 예제는 표본수가 50개임\n",
    "\n",
    "| 가설 | 내용 |\n",
    "|--|--|\n",
    "| 귀무가설 | 표본의 모집단이 정규분포를 따름 |\n",
    "| 대립가설 | 표본의 모집단이 정규분포를 따르지 않음 |"
   ]
  },
  {
   "cell_type": "code",
   "execution_count": 28,
   "metadata": {},
   "outputs": [
    {
     "name": "stdout",
     "output_type": "stream",
     "text": [
      "Shapiro-Wilk Test: (통계량, p-value) =  (0.9450910687446594, 0.02152557671070099)\n",
      "잔차는 정규 분포를 따르지 않습니다. (귀무가설 기각)\n"
     ]
    }
   ],
   "source": [
    "s, p = stats.shapiro(df['잔차'])\n",
    "print(\"Shapiro-Wilk Test: (통계량, p-value) = \", (s, p))\n",
    "\n",
    "if p > 0.05:\n",
    "    print(\"잔차는 정규 분포를 따릅니다. (귀무가설 채택)\")\n",
    "else:\n",
    "    print(\"잔차는 정규 분포를 따르지 않습니다. (귀무가설 기각)\")"
   ]
  },
  {
   "cell_type": "markdown",
   "metadata": {},
   "source": [
    "#### Kolmogorov Smirnov 검정\n",
    "- 표본 수가 50개 이상인 경우 (중심극한 정리를 감안할 경우 30개 이상)"
   ]
  },
  {
   "cell_type": "code",
   "execution_count": 29,
   "metadata": {},
   "outputs": [
    {
     "name": "stdout",
     "output_type": "stream",
     "text": [
      "Kolmogorov Smirnov Test: (통계량, p-value) =  (0.18069257855590273, 0.06702997329319504)\n",
      "잔차는 정규 분포를 따릅니다. (귀무가설 채택)\n"
     ]
    }
   ],
   "source": [
    "s, p = stats.kstest(df['잔차'], 'norm')\n",
    "print(\"Kolmogorov Smirnov Test: (통계량, p-value) = \", (s, p))\n",
    "\n",
    "if p > 0.05:\n",
    "    print(\"잔차는 정규 분포를 따릅니다. (귀무가설 채택)\")\n",
    "else:\n",
    "    print(\"잔차는 정규 분포를 따르지 않습니다. (귀무가설 기각)\")"
   ]
  },
  {
   "cell_type": "markdown",
   "metadata": {},
   "source": [
    "#### 잔차의 등분산성\n",
    "- 회귀모형을 통해 예측된 모든 값들에 대하여 잔차의 분산이 동일하다는 가정"
   ]
  },
  {
   "cell_type": "code",
   "execution_count": 30,
   "metadata": {},
   "outputs": [
    {
     "data": {
      "image/png": "[encoded data removed]",
      "text/plain": [
       "<Figure size 1000x500 with 1 Axes>"
      ]
     },
     "metadata": {},
     "output_type": "display_data"
    }
   ],
   "source": [
    "sb.regplot(x=df['예측값'], y=np.sqrt(np.abs(df['잔차'])), lowess=True, line_kws={'color':'red'})\n",
    "plt.grid()\n",
    "plt.show()\n",
    "plt.close()"
   ]
  },
  {
   "cell_type": "markdown",
   "metadata": {},
   "source": [
    "#### 브로이슈-패건 검정\n",
    "|가설|설명|\n",
    "|-:|-|\n",
    "|귀무가설|등분산성 가정이 만족된다 (오차의 분산은 독립변수들과 관련이 없다)|\n",
    "|대립가설|등분산성 가정이 만족되지 않는다(오차의 분산은 독립변수들과 관련이 있다)|"
   ]
  },
  {
   "cell_type": "code",
   "execution_count": 31,
   "metadata": {},
   "outputs": [
    {
     "data": {
      "text/html": [
       "<div>\n",
       "<style scoped>\n",
       "    .dataframe tbody tr th:only-of-type {\n",
       "        vertical-align: middle;\n",
       "    }\n",
       "\n",
       "    .dataframe tbody tr th {\n",
       "        vertical-align: top;\n",
       "    }\n",
       "\n",
       "    .dataframe thead th {\n",
       "        text-align: right;\n",
       "    }\n",
       "</style>\n",
       "<table border=\"1\" class=\"dataframe\">\n",
       "  <thead>\n",
       "    <tr style=\"text-align: right;\">\n",
       "      <th></th>\n",
       "      <th>0</th>\n",
       "    </tr>\n",
       "  </thead>\n",
       "  <tbody>\n",
       "    <tr>\n",
       "      <th>Lagrange multiplier statistic</th>\n",
       "      <td>3.214880</td>\n",
       "    </tr>\n",
       "    <tr>\n",
       "      <th>p-value</th>\n",
       "      <td>0.072972</td>\n",
       "    </tr>\n",
       "    <tr>\n",
       "      <th>f-value</th>\n",
       "      <td>3.298361</td>\n",
       "    </tr>\n",
       "    <tr>\n",
       "      <th>f p-value</th>\n",
       "      <td>0.075597</td>\n",
       "    </tr>\n",
       "  </tbody>\n",
       "</table>\n",
       "</div>"
      ],
      "text/plain": [
       "                                      0\n",
       "Lagrange multiplier statistic  3.214880\n",
       "p-value                        0.072972\n",
       "f-value                        3.298361\n",
       "f p-value                      0.075597"
      ]
     },
     "execution_count": 31,
     "metadata": {},
     "output_type": "execute_result"
    }
   ],
   "source": [
    "names = ['Lagrange multiplier statistic', 'p-value', 'f-value', 'f p-value']\n",
    "test_result = het_breuschpagan(ols.fit.resid, ols.fit.model.exog)\n",
    "DataFrame(test_result, index=names)"
   ]
  },
  {
   "cell_type": "markdown",
   "metadata": {},
   "source": [
    "### 3) 잔차의 독립성\n",
    "- 회귀분석 결과표 하단의 Dubin-Watson 값을 확인한다.\n",
    "\n",
    "| 수치 | 해석 |\n",
    "|-:|-|\n",
    "| `0` | 잔차들이 양의 상관 관계 (독립성 `X`) |\n",
    "| `2` | 잔차들이 독립|\n",
    "| `4` | 잔차들이 음의 상관 관계 (독립성 `X`) |\n",
    "\n",
    "- 일반적으로 DW값이 `1.5 ~ 2.5` 범위에 있으면 독립으로 판정"
   ]
  },
  {
   "cell_type": "code",
   "execution_count": 32,
   "metadata": {},
   "outputs": [
    {
     "data": {
      "text/html": [
       "<table class=\"simpletable\">\n",
       "<caption>OLS Regression Results</caption>\n",
       "<tr>\n",
       "  <th>Dep. Variable:</th>          <td>dist</td>       <th>  R-squared:         </th> <td>   0.651</td>\n",
       "</tr>\n",
       "<tr>\n",
       "  <th>Model:</th>                   <td>OLS</td>       <th>  Adj. R-squared:    </th> <td>   0.644</td>\n",
       "</tr>\n",
       "<tr>\n",
       "  <th>Method:</th>             <td>Least Squares</td>  <th>  F-statistic:       </th> <td>   89.57</td>\n",
       "</tr>\n",
       "<tr>\n",
       "  <th>Date:</th>             <td>Tue, 01 Aug 2023</td> <th>  Prob (F-statistic):</th> <td>1.49e-12</td>\n",
       "</tr>\n",
       "<tr>\n",
       "  <th>Time:</th>                 <td>09:33:15</td>     <th>  Log-Likelihood:    </th> <td> -44.624</td>\n",
       "</tr>\n",
       "<tr>\n",
       "  <th>No. Observations:</th>      <td>    50</td>      <th>  AIC:               </th> <td>   93.25</td>\n",
       "</tr>\n",
       "<tr>\n",
       "  <th>Df Residuals:</th>          <td>    48</td>      <th>  BIC:               </th> <td>   97.07</td>\n",
       "</tr>\n",
       "<tr>\n",
       "  <th>Df Model:</th>              <td>     1</td>      <th>                     </th>     <td> </td>   \n",
       "</tr>\n",
       "<tr>\n",
       "  <th>Covariance Type:</th>      <td>nonrobust</td>    <th>                     </th>     <td> </td>   \n",
       "</tr>\n",
       "</table>\n",
       "<table class=\"simpletable\">\n",
       "<tr>\n",
       "      <td></td>         <th>coef</th>     <th>std err</th>      <th>t</th>      <th>P>|t|</th>  <th>[0.025</th>    <th>0.975]</th>  \n",
       "</tr>\n",
       "<tr>\n",
       "  <th>Intercept</th> <td> 1.822e-16</td> <td>    0.085</td> <td> 2.14e-15</td> <td> 1.000</td> <td>   -0.171</td> <td>    0.171</td>\n",
       "</tr>\n",
       "<tr>\n",
       "  <th>speed</th>     <td>    0.8069</td> <td>    0.085</td> <td>    9.464</td> <td> 0.000</td> <td>    0.635</td> <td>    0.978</td>\n",
       "</tr>\n",
       "</table>\n",
       "<table class=\"simpletable\">\n",
       "<tr>\n",
       "  <th>Omnibus:</th>       <td> 8.975</td> <th>  Durbin-Watson:     </th> <td>   1.676</td>\n",
       "</tr>\n",
       "<tr>\n",
       "  <th>Prob(Omnibus):</th> <td> 0.011</td> <th>  Jarque-Bera (JB):  </th> <td>   8.189</td>\n",
       "</tr>\n",
       "<tr>\n",
       "  <th>Skew:</th>          <td> 0.885</td> <th>  Prob(JB):          </th> <td>  0.0167</td>\n",
       "</tr>\n",
       "<tr>\n",
       "  <th>Kurtosis:</th>      <td> 3.893</td> <th>  Cond. No.          </th> <td>    1.00</td>\n",
       "</tr>\n",
       "</table><br/><br/>Notes:<br/>[1] Standard Errors assume that the covariance matrix of the errors is correctly specified."
      ],
      "text/latex": [
       "\\begin{center}\n",
       "\\begin{tabular}{lclc}\n",
       "\\toprule\n",
       "\\textbf{Dep. Variable:}    &       dist       & \\textbf{  R-squared:         } &     0.651   \\\\\n",
       "\\textbf{Model:}            &       OLS        & \\textbf{  Adj. R-squared:    } &     0.644   \\\\\n",
       "\\textbf{Method:}           &  Least Squares   & \\textbf{  F-statistic:       } &     89.57   \\\\\n",
       "\\textbf{Date:}             & Tue, 01 Aug 2023 & \\textbf{  Prob (F-statistic):} &  1.49e-12   \\\\\n",
       "\\textbf{Time:}             &     09:33:15     & \\textbf{  Log-Likelihood:    } &   -44.624   \\\\\n",
       "\\textbf{No. Observations:} &          50      & \\textbf{  AIC:               } &     93.25   \\\\\n",
       "\\textbf{Df Residuals:}     &          48      & \\textbf{  BIC:               } &     97.07   \\\\\n",
       "\\textbf{Df Model:}         &           1      & \\textbf{                     } &             \\\\\n",
       "\\textbf{Covariance Type:}  &    nonrobust     & \\textbf{                     } &             \\\\\n",
       "\\bottomrule\n",
       "\\end{tabular}\n",
       "\\begin{tabular}{lcccccc}\n",
       "                   & \\textbf{coef} & \\textbf{std err} & \\textbf{t} & \\textbf{P$> |$t$|$} & \\textbf{[0.025} & \\textbf{0.975]}  \\\\\n",
       "\\midrule\n",
       "\\textbf{Intercept} &    1.822e-16  &        0.085     &  2.14e-15  &         1.000        &       -0.171    &        0.171     \\\\\n",
       "\\textbf{speed}     &       0.8069  &        0.085     &     9.464  &         0.000        &        0.635    &        0.978     \\\\\n",
       "\\bottomrule\n",
       "\\end{tabular}\n",
       "\\begin{tabular}{lclc}\n",
       "\\textbf{Omnibus:}       &  8.975 & \\textbf{  Durbin-Watson:     } &    1.676  \\\\\n",
       "\\textbf{Prob(Omnibus):} &  0.011 & \\textbf{  Jarque-Bera (JB):  } &    8.189  \\\\\n",
       "\\textbf{Skew:}          &  0.885 & \\textbf{  Prob(JB):          } &   0.0167  \\\\\n",
       "\\textbf{Kurtosis:}      &  3.893 & \\textbf{  Cond. No.          } &     1.00  \\\\\n",
       "\\bottomrule\n",
       "\\end{tabular}\n",
       "%\\caption{OLS Regression Results}\n",
       "\\end{center}\n",
       "\n",
       "Notes: \\newline\n",
       " [1] Standard Errors assume that the covariance matrix of the errors is correctly specified."
      ],
      "text/plain": [
       "<class 'statsmodels.iolib.summary.Summary'>\n",
       "\"\"\"\n",
       "                            OLS Regression Results                            \n",
       "==============================================================================\n",
       "Dep. Variable:                   dist   R-squared:                       0.651\n",
       "Model:                            OLS   Adj. R-squared:                  0.644\n",
       "Method:                 Least Squares   F-statistic:                     89.57\n",
       "Date:                Tue, 01 Aug 2023   Prob (F-statistic):           1.49e-12\n",
       "Time:                        09:33:15   Log-Likelihood:                -44.624\n",
       "No. Observations:                  50   AIC:                             93.25\n",
       "Df Residuals:                      48   BIC:                             97.07\n",
       "Df Model:                           1                                         \n",
       "Covariance Type:            nonrobust                                         \n",
       "==============================================================================\n",
       "                 coef    std err          t      P>|t|      [0.025      0.975]\n",
       "------------------------------------------------------------------------------\n",
       "Intercept   1.822e-16      0.085   2.14e-15      1.000      -0.171       0.171\n",
       "speed          0.8069      0.085      9.464      0.000       0.635       0.978\n",
       "==============================================================================\n",
       "Omnibus:                        8.975   Durbin-Watson:                   1.676\n",
       "Prob(Omnibus):                  0.011   Jarque-Bera (JB):                8.189\n",
       "Skew:                           0.885   Prob(JB):                       0.0167\n",
       "Kurtosis:                       3.893   Cond. No.                         1.00\n",
       "==============================================================================\n",
       "\n",
       "Notes:\n",
       "[1] Standard Errors assume that the covariance matrix of the errors is correctly specified.\n",
       "\"\"\""
      ]
     },
     "execution_count": 32,
     "metadata": {},
     "output_type": "execute_result"
    }
   ],
   "source": [
    "ols.summary"
   ]
  },
  {
   "cell_type": "code",
   "execution_count": 35,
   "metadata": {},
   "outputs": [
    {
     "name": "stdout",
     "output_type": "stream",
     "text": [
      "dw:  1.6762253234350977\n",
      "dw값이 1.5와 2.5 범위 안에 있으므로 잔차는 독립적이다.\n"
     ]
    }
   ],
   "source": [
    "print('dw: ', durbin_watson(df['잔차']))\n",
    "print('dw값이 1.5와 2.5 범위 안에 있으므로 잔차는 독립적이다.')"
   ]
  },
  {
   "cell_type": "code",
   "execution_count": null,
   "metadata": {},
   "outputs": [],
   "source": []
  }
 ],
 "metadata": {
  "kernelspec": {
   "display_name": "Python 3",
   "language": "python",
   "name": "python3"
  },
  "language_info": {
   "codemirror_mode": {
    "name": "ipython",
    "version": 3
   },
   "file_extension": ".py",
   "mimetype": "text/x-python",
   "name": "python",
   "nbconvert_exporter": "python",
   "pygments_lexer": "ipython3",
   "version": "3.11.3"
  },
  "orig_nbformat": 4
 },
 "nbformat": 4,
 "nbformat_minor": 2
}
