{
 "cells": [
  {
   "cell_type": "markdown",
   "metadata": {},
   "source": [
    "# Windows Form 만들기\n",
    "> https://wikidocs.net/book/2165\n",
    "```python\n",
    "pip3 install --upgrade pyqt5\n",
    "```\n",
    "\n",
    "- kernel crash:\n",
    "```\n",
    "An exception has occurred, use %tb to see the full traceback.\n",
    "SystemExit: 0\n",
    "/Users/dayoonz/Library/Python/3.9/lib/python/site-packages/IPython/core/interactiveshell.py:3534: UserWarning: To exit: use 'exit', 'quit', or Ctrl-D.\n",
    "  warn(\"To exit: use 'exit', 'quit', or Ctrl-D.\", stacklevel=1)\n",
    "```"
   ]
  },
  {
   "cell_type": "code",
   "execution_count": 1,
   "metadata": {},
   "outputs": [],
   "source": [
    "import sys\n",
    "from PyQt5.QtWidgets import QWidget, QApplication   # 창 띄우기 위한 모듈\n",
    "from PyQt5.QtWidgets import QPushButton             # 버튼 띄우기 위한 모듈\n",
    "from PyQt5.QtWidgets import QToolTip                # 툴팁 띄우기 위한 모듈\n",
    "from PyQt5.QtWidgets import QMainWindow             # 상태바 띄우기 위한 모듈\n",
    "from PyQt5.QtWidgets import QAction, qApp           # 메뉴바 띄우기 위한 모듈\n",
    "from PyQt5.QtGui import QIcon, QFont                # 아이콘 삽입, 폰트 설정을 위한 모듈\n",
    "from PyQt5.QtCore import QCoreApplication           # 창 닫기 위한 모듈"
   ]
  },
  {
   "cell_type": "markdown",
   "metadata": {},
   "source": [
    "## 1. 기초\n",
    "### 1) 창 띄우기\n",
    "```python\n",
    "import sys\n",
    "from PyQt5.QtWidgets import QApplication, QWidget\n",
    "```"
   ]
  },
  {
   "cell_type": "code",
   "execution_count": 2,
   "metadata": {},
   "outputs": [
    {
     "ename": "SystemExit",
     "evalue": "0",
     "output_type": "error",
     "traceback": [
      "An exception has occurred, use %tb to see the full traceback.\n",
      "\u001b[0;31mSystemExit\u001b[0m\u001b[0;31m:\u001b[0m 0\n"
     ]
    },
    {
     "name": "stderr",
     "output_type": "stream",
     "text": [
      "/Users/dayoonz/Library/Python/3.9/lib/python/site-packages/IPython/core/interactiveshell.py:3534: UserWarning: To exit: use 'exit', 'quit', or Ctrl-D.\n",
      "  warn(\"To exit: use 'exit', 'quit', or Ctrl-D.\", stacklevel=1)\n"
     ]
    }
   ],
   "source": [
    "# PyQt5를 이용해 윈폼으로 띄울 클래스 생성\n",
    "class Window(QWidget):                          \n",
    "    def __init__(self):                         # 이 클래스에 자신을 매개변수로 하는 생성자 생성\n",
    "        super().__init__()\n",
    "        self.setWindowTitle(\"My Window\")        # 창의 제목 설정\n",
    "        self.setGeometry(100, 100, 500, 500)    # 위젯의 위치, 사이즈 설정: 여기선 100,100 위치에 500,500 사이즈의 창\n",
    "        # self.move(100, 100)                   # 위젯의 위치 설정 (x=100px, y=100px)                 \n",
    "        # self.resize(500, 500)                 # 위젯의 크기 설정 (너비=500px, 높이=500px)\n",
    "\n",
    "        # self.show()                           # 밑에 대신 여기다 show()해도 됨\n",
    "\n",
    " \n",
    "app = QApplication(sys.argv)    # 메인에서 app이라는 QApplication 객체 생성 (모든 PyQt5 어플리케이션은 어플리케이션 객체를 생성해야 됨)\n",
    "root = Window()                 # Window 클래스를 root라는 객체로 생성\n",
    "root.show()                     # show 메서드를 이용해 화면에 띄워줌\n",
    "sys.exit(app.exec_())           # 창 닫기 버튼을 누를 시 종료되도록 sys.exit 메서드를 호출"
   ]
  },
  {
   "cell_type": "markdown",
   "metadata": {},
   "source": [
    "### 2) 아이콘 넣기\n",
    "- Mac에서는 표시 안 됨 (Windows에서만 됨)\n",
    "```python\n",
    "import sys\n",
    "from PyQt5.QtWidgets import QApplication, QWidget\n",
    "from PyQt5.QtGui import QIcon\n",
    "``````"
   ]
  },
  {
   "cell_type": "code",
   "execution_count": 2,
   "metadata": {},
   "outputs": [
    {
     "ename": "SystemExit",
     "evalue": "0",
     "output_type": "error",
     "traceback": [
      "An exception has occurred, use %tb to see the full traceback.\n",
      "\u001b[0;31mSystemExit\u001b[0m\u001b[0;31m:\u001b[0m 0\n"
     ]
    },
    {
     "name": "stderr",
     "output_type": "stream",
     "text": [
      "/Users/dayoonz/Library/Python/3.9/lib/python/site-packages/IPython/core/interactiveshell.py:3534: UserWarning: To exit: use 'exit', 'quit', or Ctrl-D.\n",
      "  warn(\"To exit: use 'exit', 'quit', or Ctrl-D.\", stacklevel=1)\n"
     ]
    }
   ],
   "source": [
    "class Window(QWidget):\n",
    "\n",
    "  def __init__(self):\n",
    "      super().__init__()\n",
    "      self.setWindowTitle('Icon')             # 창의 제목 설정\n",
    "      self.setWindowIcon(QIcon('web.png'))    # 아이콘 설정 (다른 폴더에 저장해 둔 경우 경로까지 함께 입력)\n",
    "      self.setGeometry(300, 300, 500, 500)    # 위젯의 위치, 사이즈 설정: 여기선 300,300 위치에 500,500 사이즈의 창\n",
    "\n",
    "      # self.show()                           # 밑에 대신 여기다 show()해도 됨\n",
    "\n",
    "app = QApplication(sys.argv)    # 메인에서 app이라는 QApplication 객체 생성 (모든 PyQt5 어플리케이션은 어플리케이션 객체를 생성해야 됨)\n",
    "root = Window()                 # Window 클래스를 root라는 객체로 생성\n",
    "root.show()                     # show 메서드를 이용해 화면에 띄워줌\n",
    "sys.exit(app.exec_())           # 창 닫기 버튼을 누를 시 종료되도록 sys.exit 메서드를 호출"
   ]
  },
  {
   "cell_type": "markdown",
   "metadata": {},
   "source": [
    "### 3) 창 닫기 (프로그래밍 사용)\n",
    "\n",
    "```python\n",
    "import sys\n",
    "from PyQt5.QtWidgets import QApplication, QWidget, QPushButton\n",
    "from PyQt5.QtCore import QCoreApplication```"
   ]
  },
  {
   "cell_type": "code",
   "execution_count": 2,
   "metadata": {},
   "outputs": [
    {
     "ename": "SystemExit",
     "evalue": "0",
     "output_type": "error",
     "traceback": [
      "An exception has occurred, use %tb to see the full traceback.\n",
      "\u001b[0;31mSystemExit\u001b[0m\u001b[0;31m:\u001b[0m 0\n"
     ]
    },
    {
     "name": "stderr",
     "output_type": "stream",
     "text": [
      "/Users/dayoonz/Library/Python/3.9/lib/python/site-packages/IPython/core/interactiveshell.py:3534: UserWarning: To exit: use 'exit', 'quit', or Ctrl-D.\n",
      "  warn(\"To exit: use 'exit', 'quit', or Ctrl-D.\", stacklevel=1)\n"
     ]
    },
    {
     "ename": "",
     "evalue": "",
     "output_type": "error",
     "traceback": [
      "\u001b[1;31mThe Kernel crashed while executing code in the the current cell or a previous cell. Please review the code in the cell(s) to identify a possible cause of the failure. Click <a href='https://aka.ms/vscodeJupyterKernelCrash'>here</a> for more info. View Jupyter <a href='command:jupyter.viewOutput'>log</a> for further details."
     ]
    }
   ],
   "source": [
    "class Window(QWidget):\n",
    "  def __init__(self):\n",
    "      super().__init__()\n",
    "      btn = QPushButton('Quit', self)       # 버튼 객체 생성: QPushButton('버튼에 표시될 텍스트', 버튼이 위치할 부모 위젯)\n",
    "      btn.move(50, 50)\n",
    "      btn.resize(btn.sizeHint())\n",
    "      btn.clicked.connect(QCoreApplication.instance().quit)\n",
    "        # PyQt5에서의 이벤트 처리는 시그널과 슬롯 메커니즘으로 이루어짐\n",
    "        # 버튼(btn) 클릭시 'clicked' 시그널 생성\n",
    "        # instance() -> 현재 인스턴스 반환\n",
    "        # 'clicked' 시그널 -> 어플리케이션을 종료하는 quit() 메서드에 연결\n",
    "        # 이렇게 발신자 (Sender)와 수신자 (Receiver), 두 객체 간에 커뮤니케이션이 이루어짐\n",
    "        # 이 예제에서 발신자 = 푸시버튼(btn), 수신자 = 어플리케이션 객체 (app)\n",
    "\n",
    "      self.setWindowTitle('Quit Button')\n",
    "      self.setGeometry(300, 300, 300, 200)\n",
    "\n",
    "      # self.show()                           # 밑에 대신 여기다 show()해도 됨\n",
    "\n",
    "\n",
    "app = QApplication(sys.argv)    # 메인에서 app이라는 QApplication 객체 생성 (모든 PyQt5 어플리케이션은 어플리케이션 객체를 생성해야 됨)\n",
    "root = Window()                 # Window 클래스를 root라는 객체로 생성\n",
    "root.show()                     # show 메서드를 이용해 화면에 띄워줌\n",
    "sys.exit(app.exec_())           # 창 닫기 버튼을 누를 시 종료되도록 sys.exit 메서드를 호출"
   ]
  },
  {
   "cell_type": "markdown",
   "metadata": {},
   "source": [
    "### 4) 툴팁 나타내기\n",
    "```python\n",
    "import sys\n",
    "from PyQt5.QtWidgets import QApplication, QWidget, QPushButton, QToolTip\n",
    "from PyQt4.QtGui import QFont\n",
    "```"
   ]
  },
  {
   "cell_type": "code",
   "execution_count": 2,
   "metadata": {},
   "outputs": [
    {
     "ename": "SystemExit",
     "evalue": "0",
     "output_type": "error",
     "traceback": [
      "An exception has occurred, use %tb to see the full traceback.\n",
      "\u001b[0;31mSystemExit\u001b[0m\u001b[0;31m:\u001b[0m 0\n"
     ]
    },
    {
     "name": "stderr",
     "output_type": "stream",
     "text": [
      "/Users/dayoonz/Library/Python/3.9/lib/python/site-packages/IPython/core/interactiveshell.py:3534: UserWarning: To exit: use 'exit', 'quit', or Ctrl-D.\n",
      "  warn(\"To exit: use 'exit', 'quit', or Ctrl-D.\", stacklevel=1)\n"
     ]
    }
   ],
   "source": [
    "class Window(QWidget):\n",
    "  def __init__(self):\n",
    "      super().__init__()\n",
    "      QToolTip.setFont(QFont('AppleGothic', 10))          # 툴팁 폰트, 크기 설정: 'AppleGothic', 10px\n",
    "      self.setToolTip('This is a <b>QWidget</b> widget')  # 표시될 텍스트(툴팁) 입력\n",
    "\n",
    "      btn = QPushButton('버튼', self)                         # 버튼 객체 생성: QPushButton('버튼에 표시될 텍스트', 버튼이 위치할 부모 위젯)\n",
    "      btn.setToolTip('This is a <b>QPushButton</b> widget')  # 표시될 텍스트(툴팁) 입력\n",
    "      btn.move(50, 50)                                       # 버튼 위치 설정\n",
    "      btn.resize(btn.sizeHint())                             # sizeHint() 메서드는 버튼을 적절한 크기로 설정\n",
    "\n",
    "      self.setWindowTitle('Tooltips')\n",
    "      self.setGeometry(300, 300, 300, 200)\n",
    "\n",
    "      # self.show()                           # 밑에 대신 여기다 show()해도 됨\n",
    "\n",
    "\n",
    "app = QApplication(sys.argv)    # 메인에서 app이라는 QApplication 객체 생성 (모든 PyQt5 어플리케이션은 어플리케이션 객체를 생성해야 됨)\n",
    "root = Window()                 # Window 클래스를 root라는 객체로 생성\n",
    "root.show()                     # show 메서드를 이용해 화면에 띄워줌\n",
    "sys.exit(app.exec_())           # 창 닫기 버튼을 누를 시 종료되도록 sys.exit 메서드를 호출"
   ]
  },
  {
   "cell_type": "markdown",
   "metadata": {},
   "source": [
    "### 5) 상태바 만들기\n",
    "```python\n",
    "import sys\n",
    "from PyQt5.QtWidgets import QApplication, QMainWindow\n",
    "```"
   ]
  },
  {
   "cell_type": "markdown",
   "metadata": {},
   "source": []
  },
  {
   "cell_type": "code",
   "execution_count": 1,
   "metadata": {},
   "outputs": [
    {
     "ename": "NameError",
     "evalue": "name 'QMainWindow' is not defined",
     "output_type": "error",
     "traceback": [
      "\u001b[0;31m---------------------------------------------------------------------------\u001b[0m",
      "\u001b[0;31mNameError\u001b[0m                                 Traceback (most recent call last)",
      "\u001b[1;32m/Users/dayoonz/Desktop/data_analysis/WindowsForm/WindowsForm.ipynb Cell 13\u001b[0m line \u001b[0;36m1\n\u001b[0;32m----> <a href='vscode-notebook-cell:/Users/dayoonz/Desktop/data_analysis/WindowsForm/WindowsForm.ipynb#X15sZmlsZQ%3D%3D?line=0'>1</a>\u001b[0m \u001b[39mclass\u001b[39;00m \u001b[39mWindow\u001b[39;00m(QMainWindow):      \u001b[39m# QMainWindow 클래스 사용, 상태바\u001b[39;00m\n\u001b[1;32m      <a href='vscode-notebook-cell:/Users/dayoonz/Desktop/data_analysis/WindowsForm/WindowsForm.ipynb#X15sZmlsZQ%3D%3D?line=1'>2</a>\u001b[0m   \u001b[39mdef\u001b[39;00m \u001b[39m__init__\u001b[39m(\u001b[39mself\u001b[39m):\n\u001b[1;32m      <a href='vscode-notebook-cell:/Users/dayoonz/Desktop/data_analysis/WindowsForm/WindowsForm.ipynb#X15sZmlsZQ%3D%3D?line=2'>3</a>\u001b[0m       \u001b[39msuper\u001b[39m()\u001b[39m.\u001b[39m\u001b[39m__init__\u001b[39m()\n",
      "\u001b[0;31mNameError\u001b[0m: name 'QMainWindow' is not defined"
     ]
    }
   ],
   "source": [
    "class Window(QMainWindow):      # QMainWindow 클래스 사용, 상태바\n",
    "  def __init__(self):\n",
    "      super().__init__()\n",
    "      self.statusBar().showMessage('Ready')   # 상태바 텍스트 설정\n",
    "      self.setWindowTitle('Status Bar')       # 창의 제목 설정\n",
    "      self.setGeometry(300, 300, 300, 200)    # 위젯 위치, 사이즈 설정: 여기선 300,300 위치에 300,200 사이즈의 창\n",
    "\n",
    "      # self.show()                           # 밑에 대신 여기다 show()해도 됨\n",
    "\n",
    "\n",
    "app = QApplication(sys.argv)    # 메인에서 app이라는 QApplication 객체 생성 (모든 PyQt5 어플리케이션은 어플리케이션 객체를 생성해야 됨)\n",
    "root = Window()                 # Window 클래스를 root라는 객체로 생성\n",
    "root.show()                     # show 메서드를 이용해 화면에 띄워줌\n",
    "sys.exit(app.exec_())           # 창 닫기 버튼을 누를 시 종료되도록 sys.exit 메서드를 호출"
   ]
  },
  {
   "cell_type": "markdown",
   "metadata": {},
   "source": [
    "### 6) 메뉴바 만들기\n",
    "```python\n",
    "import sys\n",
    "from PyQt5.QtWidgets import QApplication, QMainWindow, QAction, qApp\n",
    "from PyQt5.QtGui import QIcon\n",
    "```"
   ]
  },
  {
   "cell_type": "code",
   "execution_count": 2,
   "metadata": {},
   "outputs": [
    {
     "ename": "SystemExit",
     "evalue": "0",
     "output_type": "error",
     "traceback": [
      "An exception has occurred, use %tb to see the full traceback.\n",
      "\u001b[0;31mSystemExit\u001b[0m\u001b[0;31m:\u001b[0m 0\n"
     ]
    },
    {
     "name": "stderr",
     "output_type": "stream",
     "text": [
      "/Users/dayoonz/Library/Python/3.9/lib/python/site-packages/IPython/core/interactiveshell.py:3534: UserWarning: To exit: use 'exit', 'quit', or Ctrl-D.\n",
      "  warn(\"To exit: use 'exit', 'quit', or Ctrl-D.\", stacklevel=1)\n"
     ]
    },
    {
     "ename": "",
     "evalue": "",
     "output_type": "error",
     "traceback": [
      "\u001b[1;31mThe Kernel crashed while executing code in the the current cell or a previous cell. Please review the code in the cell(s) to identify a possible cause of the failure. Click <a href='https://aka.ms/vscodeJupyterKernelCrash'>here</a> for more info. View Jupyter <a href='command:jupyter.viewOutput'>log</a> for further details."
     ]
    }
   ],
   "source": [
    "class Window(QMainWindow):      # QMainWindow 클래스 사용, 메뉴바\n",
    "  def __init__(self):\n",
    "      super().__init__()\n",
    "      exitAction = QAction(QIcon('exit.png'), 'Exit', self)   # 아이콘 (exit.png)과 'Exit' 라벨을 갖는 하나의 동작 (exitAction) 만들기\n",
    "      exitAction.setShortcut('Ctrl+Q')                        # 동작(exitAction)에 대해 단축키(shortcut) 정의\n",
    "      exitAction.setStatusTip('Exit application')             # 메뉴에 마우스를 올렸을 때, 상태바에 나타날 상태팁을 setStatusTip() 메서드로 설정\n",
    "      exitAction.triggered.connect(qApp.quit)                 # 동작(exitAction) 선택 시 생성된 (triggered) 시그널이 QApplication 위젯의 quit() 메서드에 연결 -> 어플리케이션 종료\n",
    "\n",
    "      self.statusBar()\n",
    "      \n",
    "      menubar = self.menuBar()                # 메뉴바 생성\n",
    "      menubar.setNativeMenuBar(False)\n",
    "      filemenu = menubar.addMenu('&File')     #  'File' 메뉴 생성\n",
    "        # '&File'의 앰퍼샌드 (ampersand, &)는 간편하게 단축키를 설정하도록 해줌\n",
    "        # 'F' 앞에 앰퍼샌드가 있으므로 'Alt+F'가 File 메뉴의 단축키가 됨\n",
    "      filemenu.addAction(exitAction)          # 생성된 'File'메뉴에 'exitAction' 동작 추가\n",
    "\n",
    "      self.setWindowTitle('Menu Bar')       # 창의 제목 설정\n",
    "      self.setGeometry(300, 300, 300, 200)    # 위젯 위치, 사이즈 설정: 여기선 300,300 위치에 300,200 사이즈의 창\n",
    "\n",
    "      # self.show()                           # 밑에 대신 여기다 show()해도 됨\n",
    "\n",
    "\n",
    "app = QApplication(sys.argv)    # 메인에서 app이라는 QApplication 객체 생성 (모든 PyQt5 어플리케이션은 어플리케이션 객체를 생성해야 됨)\n",
    "root = Window()                 # Window 클래스를 root라는 객체로 생성\n",
    "root.show()                     # show 메서드를 이용해 화면에 띄워줌\n",
    "sys.exit(app.exec_())           # 창 닫기 버튼을 누를 시 종료되도록 sys.exit 메서드를 호출"
   ]
  },
  {
   "cell_type": "code",
   "execution_count": null,
   "metadata": {},
   "outputs": [],
   "source": []
  }
 ],
 "metadata": {
  "kernelspec": {
   "display_name": "Python 3",
   "language": "python",
   "name": "python3"
  },
  "language_info": {
   "codemirror_mode": {
    "name": "ipython",
    "version": 3
   },
   "file_extension": ".py",
   "mimetype": "text/x-python",
   "name": "python",
   "nbconvert_exporter": "python",
   "pygments_lexer": "ipython3",
   "version": "3.9.13"
  }
 },
 "nbformat": 4,
 "nbformat_minor": 2
}
