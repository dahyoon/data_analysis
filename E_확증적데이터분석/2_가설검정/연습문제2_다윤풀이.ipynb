{
 "cells": [
  {
   "cell_type": "markdown",
   "metadata": {},
   "source": [
    "# 가설검정 연습문제 (2)\n",
    "\n",
    "#### 문제 1\n",
    "- 어떤 화학약품의 제조에 상표가 다른 두 종류의 원료가 사용되고 있다.\n",
    "- 각 원료에서 주성분 A의 함량은 다음과 같다\n",
    "- 단, 함량은 정규분포를 따른다고 가정한다\n",
    "- 이 두 원료의 주성분 A의 함량이 다른지를 분석하라\n",
    "> https://data.hossam.kr/E02/material.xlsx"
   ]
  },
  {
   "cell_type": "code",
   "execution_count": 13,
   "metadata": {},
   "outputs": [
    {
     "name": "stdout",
     "output_type": "stream",
     "text": [
      "data:\n",
      "      상표1   상표2\n",
      "0   80.4  80.1\n",
      "1   78.2  81.2\n",
      "2   80.1  79.5\n",
      "3   77.1  78.0\n",
      "4   79.6  76.1\n",
      "5   80.4  77.0\n",
      "6   81.6  80.1\n",
      "7   79.9  79.9\n",
      "8   84.4  78.8\n",
      "9   80.9  80.8\n",
      "10  83.1   NaN\n",
      "귀무가설: 두 원료의 주성분 A의 함량에 차이가 없다\n",
      " 대립가설: 두 원료의 주성분 A의 함량에 차이가 있다\n",
      "T-Test:\n",
      " TtestResult(statistic=1.3919869278085952, pvalue=0.18297455698430268, df=16.0)\n",
      "결과 해석: p-value가 0.05보다 크므로 두 원료의 주성분 A의 함량에 차이가 있다.\n"
     ]
    }
   ],
   "source": [
    "# 필요한 패키지 참조\n",
    "from scipy import stats\n",
    "from pandas import read_excel\n",
    "\n",
    "# 데이터 가져오기\n",
    "data = read_excel('https://data.hossam.kr/E02/material.xlsx')\n",
    "print('data:\\n', data)\n",
    "\n",
    "# 가설\n",
    "print('귀무가설: 두 원료의 주성분 A의 함량에 차이가 없다\\n',\n",
    "      '대립가설: 두 원료의 주성분 A의 함량에 차이가 있다')\n",
    "\n",
    "# T-Test 시행\n",
    "print('T-Test:\\n', stats.ttest_ind(data['상표1'][:9], data['상표2'][:9]))\n",
    "# NaN 결과가 하나라도 있으면 계산이 안 돼서 결측값 제거함\n",
    "\n",
    "# 결과 해석\n",
    "print('결과 해석: p-value가 0.05보다 크므로 두 원료의 주성분 A의 함량에 차이가 있다.')\n"
   ]
  },
  {
   "cell_type": "markdown",
   "metadata": {},
   "source": [
    "#### 문제 2\n",
    "- 특정 피임약이 사용자의 혈압을 저하시키는지 조사하고자 한다\n",
    "- 이를 위해 부인 15명을 대상으로 평상시 혈압을 측정한 뒤, 이들에게 이 피임약을 일정 기간 복용하게 한 후 이들의 혈압을 다시 측정한 결과를 기록했다\n",
    "- 얻어진 데이터는 다음과 같다\n",
    "- 피임약 복용이 혈압에 영향을 주는지 분석하라\n",
    "> https://data.hossam.kr/E02/blood_pressure.xlsx"
   ]
  },
  {
   "cell_type": "code",
   "execution_count": 14,
   "metadata": {},
   "outputs": [
    {
     "name": "stdout",
     "output_type": "stream",
     "text": [
      "data:\n",
      "     복용전  복용후\n",
      "0    70   68\n",
      "1    80   72\n",
      "2    72   62\n",
      "3    76   70\n",
      "4    76   58\n",
      "5    76   66\n",
      "6    72   68\n",
      "7    78   52\n",
      "8    82   64\n",
      "9    64   72\n",
      "10   74   74\n",
      "11   92   60\n",
      "12   74   74\n",
      "13   68   72\n",
      "14   84   74\n",
      "귀무가설: 피임약 복용이 혈압에 영향을 주지 않는다\n",
      " 대립가설: 피임약 복용이 혈압에 영향을 준다\n",
      "T-Test:\n",
      " TtestResult(statistic=3.5607002511565433, pvalue=0.001345768982931397, df=28.0)\n",
      "결과 해석: p-value가 0.05보다 작으므로 피임약 복용이 혈압에 영행을 주지 않는다.\n"
     ]
    }
   ],
   "source": [
    "# 필요한 패키지 참조\n",
    "from scipy import stats\n",
    "from pandas import read_excel\n",
    "\n",
    "# 데이터 가져오기\n",
    "data = read_excel('https://data.hossam.kr/E02/blood_pressure.xlsx')\n",
    "print('data:\\n', data)\n",
    "\n",
    "# 가설\n",
    "print('귀무가설: 피임약 복용이 혈압에 영향을 주지 않는다\\n',\n",
    "      '대립가설: 피임약 복용이 혈압에 영향을 준다')\n",
    "\n",
    "# T-Test 시행\n",
    "print('T-Test:\\n', stats.ttest_ind(data['복용전'], data['복용후']))\n",
    "\n",
    "# 결과 해석\n",
    "print('결과 해석: p-value가 0.05보다 작으므로 피임약 복용이 혈압에 영행을 주지 않는다.')\n"
   ]
  },
  {
   "cell_type": "markdown",
   "metadata": {},
   "source": [
    "#### 문제 3\n",
    "- 고등학교 육상선수에게 체중감량을 시키면 달리기에 어떤 변화가 일어나는지 조사하기 위하여, 어떤 고등학교 육상선수 10명에게 감량훈련(2~4kg 정도)을 시킨 후 100m 달리기를 실시하여 다음의 데이터를 얻었다\n",
    "- 감량 전과 후에 달리기 속도에 차이가 있는지 분석하라\n",
    "- 단위: 초\n",
    "> https://data.hossam.kr/E02/runner_diet.xlsx"
   ]
  },
  {
   "cell_type": "code",
   "execution_count": 17,
   "metadata": {},
   "outputs": [
    {
     "name": "stdout",
     "output_type": "stream",
     "text": [
      "data:\n",
      "     감량전   감량후    \n",
      "0  14.5  14.3 NaN\n",
      "1  13.4  13.4 NaN\n",
      "2  13.0  13.1 NaN\n",
      "3  14.5  13.9 NaN\n",
      "4  13.3  13.1 NaN\n",
      "5  14.2  13.9 NaN\n",
      "6  13.6  13.6 NaN\n",
      "7  13.9  14.0 NaN\n",
      "8  13.2  12.8 NaN\n",
      "9  13.0  12.8 NaN\n",
      "귀무가설: 감량 전과 후에 달리기 속도에 차이가 없다\n",
      " 대립가설: 감량 전과 후에 달리기 속도에 차이가 있다\n",
      "T-Test:\n",
      " TtestResult(statistic=0.6831650725984573, pvalue=0.5032018499574886, df=18.0)\n",
      "결과 해석: p-value가 0.05보다 크므로 감량 전과 감량 후에 달리기 속도에 차이가 있다.\n"
     ]
    }
   ],
   "source": [
    "# 필요한 패키지 참조\n",
    "from scipy import stats\n",
    "from pandas import read_excel\n",
    "\n",
    "# 데이터 가져오기\n",
    "data = read_excel('https://data.hossam.kr/E02/runner_diet.xlsx')\n",
    "print('data:\\n', data)\n",
    "\n",
    "# 가설\n",
    "print('귀무가설: 감량 전과 후에 달리기 속도에 차이가 없다\\n',\n",
    "      '대립가설: 감량 전과 후에 달리기 속도에 차이가 있다')\n",
    "\n",
    "# T-Test 시행\n",
    "print('T-Test:\\n', stats.ttest_ind(data['감량전'], data['감량후']))\n",
    "\n",
    "# 결과 해석\n",
    "print('결과 해석: p-value가 0.05보다 크므로 감량 전과 감량 후에 달리기 속도에 차이가 있다.')\n"
   ]
  },
  {
   "cell_type": "markdown",
   "metadata": {},
   "source": [
    "#### 문제 4\n",
    "- 고등학교 레슬링 선수에게 체중감량을 시키면 체력에 어떤 변화가 일어나는지 조사하기 위하여, 어느 고등학교의 레슬링 선수 12명을 표본추출하여 감량시킨 후 다음의 체력 데이터를 얻었다\n",
    "- 감량 전과 감량 후 간에 차이가 있는가의 대응비교를 악력(우), 윗몸일으키기, 턱걸이, 100m 달리기에 대하여 실시하고 분석하라.\n",
    "> https://data.hossam.kr/E02/wrestler_diet.xlsx"
   ]
  },
  {
   "cell_type": "code",
   "execution_count": 28,
   "metadata": {},
   "outputs": [
    {
     "name": "stdout",
     "output_type": "stream",
     "text": [
      "귀무가설: 감량 전과 후에 체력에 차이가 없다\n",
      " 대립가설: 감량 전과 후에 체력에 차이가 있다\n",
      "T-Test for 악력(우):\n",
      " TtestResult(statistic=0.8315757183435315, pvalue=0.4145836380203657, df=22.0)\n",
      "T-Test for 윗몸일으키기:\n",
      " TtestResult(statistic=-3.549424572412321, pvalue=0.001797530216454694, df=22.0)\n",
      "T-Test for 턱걸이:\n",
      " TtestResult(statistic=-1.45528551002979, pvalue=0.1597120105667166, df=22.0)\n",
      "T-Test for 100m 달리기:\n",
      " TtestResult(statistic=0.0, pvalue=1.0, df=22.0)\n",
      "결과 해석: 윗몸일으키기를 제외한 악력(우), 턱걸이, 100m 달리기의 p-value가 0.05보다 상당히 크므로 감량 전과 감량 후에 체력에 차이가 있다.\n"
     ]
    }
   ],
   "source": [
    "# 필요한 패키지 참조\n",
    "from scipy import stats\n",
    "from pandas import read_excel\n",
    "\n",
    "# 데이터 가져오기\n",
    "data = read_excel('https://data.hossam.kr/E02/wrestler_diet.xlsx')\n",
    "\n",
    "# 가설\n",
    "print('귀무가설: 감량 전과 후에 체력에 차이가 없다\\n',\n",
    "      '대립가설: 감량 전과 후에 체력에 차이가 있다')\n",
    "\n",
    "# T-Test 시행: 악력(우), 윗몸일으키기, 턱걸이, 100m 달리기\n",
    "print('T-Test for 악력(우):\\n', stats.ttest_ind(data['감량전 악력'], data['감량후 악력']))\n",
    "print('T-Test for 윗몸일으키기:\\n', stats.ttest_ind(data['감량전 윗몸일으키기'], data['감량후 윗몸일으키기']))\n",
    "print('T-Test for 턱걸이:\\n', stats.ttest_ind(data['감량전 턱걸이'], data['감량후 턱걸이']))\n",
    "print('T-Test for 100m 달리기:\\n', stats.ttest_ind(data['감량전 100m 달리기'], data['감량후 100m 달리기']))\n",
    "\n",
    "# 결과 해석\n",
    "print('결과 해석: 윗몸일으키기를 제외한 악력(우), 턱걸이, 100m 달리기의 p-value가 0.05보다 상당히 크므로 감량 전과 감량 후에 체력에 차이가 있다.')\n"
   ]
  },
  {
   "cell_type": "code",
   "execution_count": null,
   "metadata": {},
   "outputs": [],
   "source": []
  }
 ],
 "metadata": {
  "kernelspec": {
   "display_name": "Python 3",
   "language": "python",
   "name": "python3"
  },
  "language_info": {
   "codemirror_mode": {
    "name": "ipython",
    "version": 3
   },
   "file_extension": ".py",
   "mimetype": "text/x-python",
   "name": "python",
   "nbconvert_exporter": "python",
   "pygments_lexer": "ipython3",
   "version": "3.11.3"
  },
  "orig_nbformat": 4
 },
 "nbformat": 4,
 "nbformat_minor": 2
}
