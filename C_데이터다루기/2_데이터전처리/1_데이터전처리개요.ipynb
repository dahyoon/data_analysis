{
 "cells": [
  {
   "attachments": {},
   "cell_type": "markdown",
   "metadata": {},
   "source": [
    "# 데이터 전처리 개요\n",
    "\n",
    "#### 1. 데이터 전처리의 이해\n",
    "- 데이터를 본격적으로 분석하기 전 분석에 적합하게 데이터를 가공하는 작업\n",
    "- 데이터 가공(Data Manipulation), 데이터 핸들링(Data Handling) 라고도 함\n",
    "\n",
    "##### 데이터 전처리에서 수행되는 주요 작업:\n",
    "\n",
    "- 행, 열 재배치 - 단일 데이터프레임에 대한 작업\n",
    "    - 행/열(변수)에 대한 재배치, 이름 변경\n",
    "    - 정렬\n",
    "    - 특정 데이터 필터링\n",
    "    - 행/열 추가/삭제\n",
    "    - 파생변수 추가\n",
    "\n",
    "\n",
    "- 행, 열 병합 - 2개 이상의 데이터프레임을 다루거나 새로운 데이터프레임이 생성되는 형태\n",
    "    - 다른 데이터 프레임과 데이터 합치기 (열))\n",
    "    - 다른 데이터 프레임과 데이터 합치기 (행))\n",
    "\n",
    "\n",
    "- 데이터 재구조화\n",
    "    - 피벗 테이블\n",
    "    - melt\n",
    "    - stack, unstack\n",
    "    - 교차표\n",
    "    - wide_to_long\n",
    "    \n",
    "    \n",
    "- 그룹변 집계\n",
    "    - group by\n",
    "\n",
    "#### 2. 변수의 이해\n",
    "\n",
    "##### 1) 변수와 데이터\n",
    "\n",
    "- 변수: 각 단위 (Unit, row))에 대해 관측되는 특성\n",
    "- 데이터: 하나 이상의 변수에 대한 관찰값의 모음\n",
    "\n",
    "##### 2) 변수의 종류\n",
    "\n",
    "- 척도: 사물, 사람, 등 대상의 특성을 통계상의 수로 표현하기 위해 체계적으로 숫자를 부여한 것\n",
    "\n",
    "데이터 측정척도\n",
    "\n",
    "    - 범주형자료(질적자료 categorical qualitative)\n",
    "        - 명목척도\n",
    "            - 대상을 특성에 따라 카테고리로 분류하여 기호를 부여한 것\n",
    "            - 특정이 이루어지는 항목들이 상호배타적인 특성만 가진 척도\n",
    "            - 비교 방법: 확인, 분류\n",
    "            - 연산 방법: =\n",
    "            - 통계값: 최빈치\n",
    "            - 적용 가능한 추론 통계 방법: 비모수 통계, 빈도 분석, 교차 분석\n",
    "            - 예) 성별, 이름, 지역, 학년 등\n",
    "        - 서열척도 (명목척도 중 하나)\n",
    "            - 대상의 특성들을 구분할 수 있으며 이들 사이의 상대적인 크기를 나타낼 수 있고 서로 간 비교가 가능한 척도\n",
    "            - 명목척도들 중 항목들 간에 서열이나 순위가 존재하는 척도\n",
    "            - 비교 방법: 확인, 분류\n",
    "            - 연산 방법: =, <, <=, >, >=\n",
    "            - 통계값: 최빈값, 중앙값\n",
    "            - 적용 가능한 추론 통계 방법: 비모수 통계, 서열 상관관계\n",
    "            - 예) 교육정고 (중졸, 고졸, 대졸 이상), 선호도 순위, 학점\n",
    "    - 연속형자료(양적자료 numerical qualitative)\n",
    "        - 등간척도\n",
    "            - 상호간의 서열 뿐 아니라 인접한 두 변수 값의 차가 일정한 변수\n",
    "            - 서열척도들 중 항목들 간의 간격이 일정한 척도'\n",
    "            - 비교 방법: 간격비교\n",
    "            - 연산: +, -, =, <, <=, >, >=\n",
    "            - 통계값: 최빈값, 중앙값, 산술평균\n",
    "            - 적용 가능한 추론 통계 방법: 모수 통계\n",
    "            - 예) 온도, 연도(올림픽, 월드컵), IQ, 시각, 만족도(매우불만족, 약간불만족, 보통, 약간만족, 매우만족) 등\n",
    "        - 비율척도\n",
    "            - 상호간 서열, 크기 차이, 크기 비교, 특성들 간의 계산까지 가능한 척도\n",
    "            - 등간척도 중 아무 것도 없는 상태를 '0'으로 정할 수 있는 척도\n",
    "            - 사칙연산 가능\n",
    "            - 연산: +, -, =, <, <=, >, >=\n",
    "            - 통계값: 최빈값, 중앙값, 기하평균, 조화평균 등\n",
    "            - 적용 가능한 추론통계 방법 : 모수 통계\n",
    "            - 예) 무게, 키, 길이, 임금, 나이(20세 이하, 21-30세, 31-40세, 41-50세일 때 0 이라는 개념은 아직 태어나지 않음을 뜻)\n",
    "\n",
    "\n",
    "참고문헌: https://blog.naver.com/sgjjojo/221270160250\n",
    "\n"
   ]
  },
  {
   "cell_type": "markdown",
   "metadata": {},
   "source": [
    "### 데이터 타입 변경"
   ]
  },
  {
   "cell_type": "code",
   "execution_count": 8,
   "metadata": {},
   "outputs": [],
   "source": [
    "from pandas import DataFrame, CategoricalDtype"
   ]
  },
  {
   "cell_type": "code",
   "execution_count": 17,
   "metadata": {},
   "outputs": [
    {
     "name": "stdout",
     "output_type": "stream",
     "text": [
      "df의 column별 dtypes: \n",
      " ID       int64\n",
      "READ     int64\n",
      "MATH     int64\n",
      "GRADE    int64\n",
      "dtype: object \n",
      "\n",
      "df_new의 column별 dtypes: \n",
      " ID       category\n",
      "READ        int64\n",
      "MATH        int64\n",
      "GRADE    category\n",
      "dtype: object \n",
      "\n",
      "df_new['GRADE']의 dtypes:\n"
     ]
    },
    {
     "data": {
      "text/plain": [
       "CategoricalDtype(categories=['9', '8', '7'], ordered=True, categories_dtype=object)"
      ]
     },
     "execution_count": 17,
     "metadata": {},
     "output_type": "execute_result"
    }
   ],
   "source": [
    "df = DataFrame([\n",
    "    {'ID': 25, 'READ': 350, 'MATH': 425, 'GRADE': 7},\n",
    "    {'ID': 27, 'READ': 425, 'MATH': 375, 'GRADE': 8},\n",
    "    {'ID': 30, 'READ': 475, 'MATH': 485, 'GRADE': 8},\n",
    "    {'ID': 35, 'READ': 375, 'MATH': 400, 'GRADE': 9}\n",
    "])\n",
    "print('df의 column별 dtypes:', '\\n', df.dtypes, '\\n')\n",
    "\n",
    "# 데이터프레임의 여러 컬럼을 일괄 변경하여 새로운 데이터프레임으로 생성\n",
    "df_new = df.astype({'ID': 'category', 'GRADE': 'category'})\n",
    "\n",
    "# 특정 컬럼만 적용 후 원본에 바로 적용\n",
    "df_new['GRADE'] = df_new['GRADE'].astype('category')\n",
    "print('df_new의 column별 dtypes:', '\\n', df_new.dtypes, '\\n')\n",
    "\n",
    "# 서열척도로 변경해야 하는 경우\n",
    "df_new['GRADE'] = df_new['GRADE'].astype(\n",
    "    CategoricalDtype(categories = ['9', '8', '7'], ordered = True)\n",
    ")\n",
    "    # 쓴 순서대로 서열이 정해짐: '9'이 가장 높고 '7'가 가장 낮음\n",
    "print(\"df_new['GRADE']의 dtypes:\")\n",
    "df_new['GRADE'].dtypes"
   ]
  },
  {
   "cell_type": "code",
   "execution_count": null,
   "metadata": {},
   "outputs": [],
   "source": []
  }
 ],
 "metadata": {
  "kernelspec": {
   "display_name": "Python 3",
   "language": "python",
   "name": "python3"
  },
  "language_info": {
   "codemirror_mode": {
    "name": "ipython",
    "version": 3
   },
   "file_extension": ".py",
   "mimetype": "text/x-python",
   "name": "python",
   "nbconvert_exporter": "python",
   "pygments_lexer": "ipython3",
   "version": "3.9.13"
  },
  "orig_nbformat": 4
 },
 "nbformat": 4,
 "nbformat_minor": 2
}
