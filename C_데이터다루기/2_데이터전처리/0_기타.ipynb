{
 "cells": [
  {
   "attachments": {},
   "cell_type": "markdown",
   "metadata": {},
   "source": [
    "참조:\n",
    "- https://seong6496.tistory.com/73 (DataFrame 인덱스 설정, 리셋: 직접 배정, .set_index(), .reset_index())\n",
    "- https://teddylee777.github.io/pandas/pandas-groupby/ (판다스(Pandas) .groupby()로 할 수 있는 거의 모든 것! (통계량, 전처리))"
   ]
  },
  {
   "attachments": {},
   "cell_type": "markdown",
   "metadata": {},
   "source": [
    "## DataFrame 인덱스 설정, 리셋\n",
    "### 1) 직접 배정\n",
    "- 직접 배정 시 data와 객수가 맞아야 됨\n",
    "- `DataFrame.index = list`\n",
    "- `DataFrame.columns = list`"
   ]
  },
  {
   "cell_type": "code",
   "execution_count": 1,
   "metadata": {},
   "outputs": [
    {
     "name": "stdout",
     "output_type": "stream",
     "text": [
      "    0   1   2   3\n",
      "0   0   1   2   3\n",
      "1   4   5   6   7\n",
      "2   8   9  10  11\n",
      "3  12  13  14  15\n",
      "new table: \n",
      "     c0  c1  c2  c3\n",
      "r0   0   1   2   3\n",
      "r1   4   5   6   7\n",
      "r2   8   9  10  11\n",
      "r3  12  13  14  15\n"
     ]
    }
   ],
   "source": [
    "import numpy\n",
    "from pandas import DataFrame\n",
    "\n",
    "table = DataFrame(numpy.arange(0, 16).reshape(4,4))\n",
    "print(table)\n",
    "table.index = ['r0', 'r1', 'r2', 'r3']\n",
    "table.columns = ['c0', 'c1', 'c2', 'c3']\n",
    "print('new table:', '\\n', table)"
   ]
  },
  {
   "attachments": {},
   "cell_type": "markdown",
   "metadata": {},
   "source": [
    "### 2) `.set_index()`\n",
    "- .set_index()로 원래 있던 컬럼은 인덱스로 불러들이는 방법\n",
    "- DataFrame.set_index(keys, drop=True, append=False, inplace=False, verify_integrity=False)\n",
    "--------------\n",
    "- keys: 인덱스로 사용하려는 열의 레이블을 입력; 멀티 인덱스 경우 리스트 형태로 값을 넣어주면 됨\n",
    "- drop: 인덱스로 쓸 열을 데이터 내에서 지울 여부 결정\n",
    "- append: 기존의 쓰던 인덱스를 삭제할지 여부 결정\n",
    "- inplace: 원본 객체를 변경할지 여부 결정\n",
    "- verify_integrity:인덱스 중복여부를 체크하는 것 - True로 하면 체크하는 시간 때문에 성능이 떨어짐"
   ]
  },
  {
   "cell_type": "code",
   "execution_count": 2,
   "metadata": {},
   "outputs": [
    {
     "data": {
      "text/html": [
       "<div>\n",
       "<style scoped>\n",
       "    .dataframe tbody tr th:only-of-type {\n",
       "        vertical-align: middle;\n",
       "    }\n",
       "\n",
       "    .dataframe tbody tr th {\n",
       "        vertical-align: top;\n",
       "    }\n",
       "\n",
       "    .dataframe thead th {\n",
       "        text-align: right;\n",
       "    }\n",
       "</style>\n",
       "<table border=\"1\" class=\"dataframe\">\n",
       "  <thead>\n",
       "    <tr style=\"text-align: right;\">\n",
       "      <th></th>\n",
       "      <th>c1</th>\n",
       "      <th>c2</th>\n",
       "      <th>c3</th>\n",
       "    </tr>\n",
       "    <tr>\n",
       "      <th>c0</th>\n",
       "      <th></th>\n",
       "      <th></th>\n",
       "      <th></th>\n",
       "    </tr>\n",
       "  </thead>\n",
       "  <tbody>\n",
       "    <tr>\n",
       "      <th>0</th>\n",
       "      <td>1</td>\n",
       "      <td>2</td>\n",
       "      <td>3</td>\n",
       "    </tr>\n",
       "    <tr>\n",
       "      <th>4</th>\n",
       "      <td>5</td>\n",
       "      <td>6</td>\n",
       "      <td>7</td>\n",
       "    </tr>\n",
       "    <tr>\n",
       "      <th>8</th>\n",
       "      <td>9</td>\n",
       "      <td>10</td>\n",
       "      <td>11</td>\n",
       "    </tr>\n",
       "    <tr>\n",
       "      <th>12</th>\n",
       "      <td>13</td>\n",
       "      <td>14</td>\n",
       "      <td>15</td>\n",
       "    </tr>\n",
       "  </tbody>\n",
       "</table>\n",
       "</div>"
      ],
      "text/plain": [
       "    c1  c2  c3\n",
       "c0            \n",
       "0    1   2   3\n",
       "4    5   6   7\n",
       "8    9  10  11\n",
       "12  13  14  15"
      ]
     },
     "execution_count": 2,
     "metadata": {},
     "output_type": "execute_result"
    }
   ],
   "source": [
    "table.set_index('c0', drop=True)"
   ]
  },
  {
   "attachments": {},
   "cell_type": "markdown",
   "metadata": {},
   "source": [
    "### 3) `.reset_index()`\n",
    "- 설정했던 인덱스 초기화\n",
    "- DataFrame.reset_index(level=None, drop=False, inplace=False, col_level=0, col_fill='')\n",
    "- drop과 inplace 만 주로 사용\n",
    "--------------\n",
    "- drop: 인덱스로 쓸 열을 데이터 내에서 지울 여부 결정\n",
    "- inplace: 원본 객체를 변경할지 여부 결정\n",
    "- level: 인덱스에서 주어진 단계를 제거 (기본값 = 모든 단계 제거)\n",
    "- col_level: 멀티인덱스일 경우 어떤 것으로 삽입할 것인지 설정 (기본값 = 0 -> 첫번째 것이 삽입됨)\n",
    "- col_fill: 멀티인덱스일 경우 어떻게 다른 단계의 이름을 붙일 것인지 설정 (기본값 = '' -> 안 붙여짐)\n",
    "- 'None'으로 할 시 인덱스 이름이 반복됨"
   ]
  },
  {
   "attachments": {},
   "cell_type": "markdown",
   "metadata": {},
   "source": [
    "## 데이터 값 변경\n",
    "- 값바꿀컬럼명 = 값바꿀컬럼명.map({'원래값1': '바꿀값1', '원래값2': '바꿀값2', ...})"
   ]
  },
  {
   "cell_type": "code",
   "execution_count": 3,
   "metadata": {},
   "outputs": [
    {
     "data": {
      "text/html": [
       "<div>\n",
       "<style scoped>\n",
       "    .dataframe tbody tr th:only-of-type {\n",
       "        vertical-align: middle;\n",
       "    }\n",
       "\n",
       "    .dataframe tbody tr th {\n",
       "        vertical-align: top;\n",
       "    }\n",
       "\n",
       "    .dataframe thead th {\n",
       "        text-align: right;\n",
       "    }\n",
       "</style>\n",
       "<table border=\"1\" class=\"dataframe\">\n",
       "  <thead>\n",
       "    <tr style=\"text-align: right;\">\n",
       "      <th></th>\n",
       "      <th>c0</th>\n",
       "      <th>c1</th>\n",
       "      <th>c2</th>\n",
       "      <th>c3</th>\n",
       "    </tr>\n",
       "  </thead>\n",
       "  <tbody>\n",
       "    <tr>\n",
       "      <th>r0</th>\n",
       "      <td>0</td>\n",
       "      <td>one</td>\n",
       "      <td>2</td>\n",
       "      <td>3</td>\n",
       "    </tr>\n",
       "    <tr>\n",
       "      <th>r1</th>\n",
       "      <td>4</td>\n",
       "      <td>five</td>\n",
       "      <td>6</td>\n",
       "      <td>7</td>\n",
       "    </tr>\n",
       "    <tr>\n",
       "      <th>r2</th>\n",
       "      <td>8</td>\n",
       "      <td>nine</td>\n",
       "      <td>10</td>\n",
       "      <td>11</td>\n",
       "    </tr>\n",
       "    <tr>\n",
       "      <th>r3</th>\n",
       "      <td>12</td>\n",
       "      <td>thirteen</td>\n",
       "      <td>14</td>\n",
       "      <td>15</td>\n",
       "    </tr>\n",
       "  </tbody>\n",
       "</table>\n",
       "</div>"
      ],
      "text/plain": [
       "    c0        c1  c2  c3\n",
       "r0   0       one   2   3\n",
       "r1   4      five   6   7\n",
       "r2   8      nine  10  11\n",
       "r3  12  thirteen  14  15"
      ]
     },
     "execution_count": 3,
     "metadata": {},
     "output_type": "execute_result"
    }
   ],
   "source": [
    "from pandas import DataFrame\n",
    "table['c1'] = table['c1'].map({1:'one', 5:'five', 9:'nine', 13:'thirteen'})\n",
    "table"
   ]
  },
  {
   "cell_type": "markdown",
   "metadata": {},
   "source": [
    "- df.loc[행의 인덱스, 열 이름] = 바꿀 값"
   ]
  },
  {
   "cell_type": "code",
   "execution_count": 8,
   "metadata": {},
   "outputs": [
    {
     "data": {
      "text/html": [
       "<div>\n",
       "<style scoped>\n",
       "    .dataframe tbody tr th:only-of-type {\n",
       "        vertical-align: middle;\n",
       "    }\n",
       "\n",
       "    .dataframe tbody tr th {\n",
       "        vertical-align: top;\n",
       "    }\n",
       "\n",
       "    .dataframe thead th {\n",
       "        text-align: right;\n",
       "    }\n",
       "</style>\n",
       "<table border=\"1\" class=\"dataframe\">\n",
       "  <thead>\n",
       "    <tr style=\"text-align: right;\">\n",
       "      <th></th>\n",
       "      <th>c0</th>\n",
       "      <th>c1</th>\n",
       "      <th>c2</th>\n",
       "      <th>c3</th>\n",
       "    </tr>\n",
       "  </thead>\n",
       "  <tbody>\n",
       "    <tr>\n",
       "      <th>r0</th>\n",
       "      <td>zero</td>\n",
       "      <td>one</td>\n",
       "      <td>2</td>\n",
       "      <td>3</td>\n",
       "    </tr>\n",
       "    <tr>\n",
       "      <th>r1</th>\n",
       "      <td>4</td>\n",
       "      <td>five</td>\n",
       "      <td>6</td>\n",
       "      <td>7</td>\n",
       "    </tr>\n",
       "    <tr>\n",
       "      <th>r2</th>\n",
       "      <td>8</td>\n",
       "      <td>nine</td>\n",
       "      <td>10</td>\n",
       "      <td>11</td>\n",
       "    </tr>\n",
       "    <tr>\n",
       "      <th>r3</th>\n",
       "      <td>12</td>\n",
       "      <td>thirteen</td>\n",
       "      <td>14</td>\n",
       "      <td>15</td>\n",
       "    </tr>\n",
       "  </tbody>\n",
       "</table>\n",
       "</div>"
      ],
      "text/plain": [
       "      c0        c1  c2  c3\n",
       "r0  zero       one   2   3\n",
       "r1     4      five   6   7\n",
       "r2     8      nine  10  11\n",
       "r3    12  thirteen  14  15"
      ]
     },
     "execution_count": 8,
     "metadata": {},
     "output_type": "execute_result"
    }
   ],
   "source": [
    "table.loc['r0', 'c0'] = 'zero'\n",
    "table"
   ]
  },
  {
   "cell_type": "markdown",
   "metadata": {},
   "source": [
    "### pandas.groupby()\n",
    "- 통계량, 전처리\n",
    "#### 1) `통계량`\n",
    "- 데이터츠레임.groupby(컬럼) + 통계함수\n",
    "    - 통계함수:\n",
    "        - .mean() -> 평균\n",
    "        - .var() -> 분산\n",
    "        - .agg()에 적용 가능한 통계함수 문자열 표\n",
    "            - count         데이터 개수\n",
    "            - sum           합계\n",
    "            - mean\t        평균\n",
    "            - median\t    중앙값\n",
    "            - var, std\t    분산, 표준편차\n",
    "            - min, max\t    최소, 최대값\n",
    "            - unique, nunique\t고유값, 고유값 개수\n",
    "            - prod\t        곱\n",
    "            - first, last\t첫째, 마지막값\n",
    "            - 예) df.groupby('sex').agg(['mean', 'var'])"
   ]
  },
  {
   "cell_type": "markdown",
   "metadata": {},
   "source": [
    "#### 2) 파라미터\n",
    "- `df.groupby([컬럼1, 컬럼2, ...], as_index=False)`\n",
    "    - `as_index=False` -> groupby에 설정된 컬럼들을 인덱스로 설정되게 하지 않고 일반 필드로 만든다"
   ]
  }
 ],
 "metadata": {
  "kernelspec": {
   "display_name": "Python 3",
   "language": "python",
   "name": "python3"
  },
  "language_info": {
   "codemirror_mode": {
    "name": "ipython",
    "version": 3
   },
   "file_extension": ".py",
   "mimetype": "text/x-python",
   "name": "python",
   "nbconvert_exporter": "python",
   "pygments_lexer": "ipython3",
   "version": "3.9.13"
  },
  "orig_nbformat": 4
 },
 "nbformat": 4,
 "nbformat_minor": 2
}
