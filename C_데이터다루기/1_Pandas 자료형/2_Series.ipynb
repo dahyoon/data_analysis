{
 "cells": [
  {
   "attachments": {},
   "cell_type": "markdown",
   "metadata": {},
   "source": [
    "## Series 자료형\n",
    "\n",
    "### 1. Pandas 패키지\n",
    "\n",
    "- 쉽고 직관적인 관계형 또는 분류된 데이터로 작업 할 수 있도록 설계된 빠르고 유연하며 표현이 풍부한 데이터 구조를 제공하는 Python 패키지\n",
    "- 실용적인 실제 데이터 분석을 수행하기 위한 고수준의 객체를 사용할 수 있다\n",
    "- 처리하는 데이터 종류: 재무, 통계, 사회 과학 및 다양한 엔지니어링 분야의 일반적인 사용 사례의 데이터\n",
    "\n",
    "#### 1) Pandas 데이터 구조:\n",
    "|차원|이름|설명|\n",
    "|-|-|-|\n",
    "|1차원|Series|균일한 유형의 배열로 표시된 1차원 데이터|\n",
    "|2차원|DataFrame|행과 열이있는 크기가 가변적인 테이블 형식의 2차원 데이터|\n",
    "\n",
    "#### 2) Pandas 사용 범위:\n",
    "- SQL 테이블 또는 Excel 스프레드 시트에서와 같이 이질적으로 유형이 지정된 열이 있는 테이블 형식 데이터\n",
    "- 정렬/미정렬 시계열 데이터\n",
    "- 행/열 테이블이 포함 된 임의의 행렬 데이터\n",
    "- 일반적인 통계 데이터 세트\n",
    "\n",
    "### 2. Series 자료형\n",
    "#### 1) Series 구조:\n",
    "- pandas 패키지에 포한되어 있는 자료형으로 `list > numpy arrary > series` 순으로 기능이 확장된다\n",
    "- 인덱스를 `명시적`으로 포함하고 있는 형태이며, 엑셀의 열 하나를 표현하고 있다고 이해할 수 있다"
   ]
  },
  {
   "cell_type": "code",
   "execution_count": 2,
   "metadata": {},
   "outputs": [],
   "source": [
    "# 필요한 패키지 가져오기\n",
    "from pandas import Series"
   ]
  },
  {
   "cell_type": "code",
   "execution_count": 6,
   "metadata": {},
   "outputs": [
    {
     "data": {
      "text/plain": [
       "0    10\n",
       "1    30\n",
       "2    50\n",
       "3    70\n",
       "4    90\n",
       "dtype: int64"
      ]
     },
     "execution_count": 6,
     "metadata": {},
     "output_type": "execute_result"
    }
   ],
   "source": [
    "# Series 만들기: 리스트나 numpy 배열을 통해 생성 가능 - 시리즈는 리스트 자료형을 가공하여 생성된 데이터 구조\n",
    "\n",
    "items = [10, 30, 50, 70, 90]\n",
    "column = Series(items)\n",
    "column"
   ]
  },
  {
   "cell_type": "code",
   "execution_count": 6,
   "metadata": {},
   "outputs": [
    {
     "name": "stdout",
     "output_type": "stream",
     "text": [
      "10\n",
      "50\n"
     ]
    }
   ],
   "source": [
    "# 인덱스를 활용한 개별 값 확인\n",
    "print(column[0])\n",
    "print(column[2])"
   ]
  },
  {
   "cell_type": "code",
   "execution_count": 7,
   "metadata": {},
   "outputs": [
    {
     "data": {
      "text/plain": [
       "array([10, 30, 50, 70, 90])"
      ]
     },
     "execution_count": 7,
     "metadata": {},
     "output_type": "execute_result"
    }
   ],
   "source": [
    "# 시리즈 값만 추출\n",
    "column.values"
   ]
  },
  {
   "cell_type": "code",
   "execution_count": 5,
   "metadata": {},
   "outputs": [
    {
     "data": {
      "text/plain": [
       "numpy.ndarray"
      ]
     },
     "execution_count": 5,
     "metadata": {},
     "output_type": "execute_result"
    }
   ],
   "source": [
    "# 값에 대한 데이터 타입 확인: Numpy 배열임을 알 수 있다\n",
    "type(column.values)"
   ]
  },
  {
   "cell_type": "code",
   "execution_count": 9,
   "metadata": {},
   "outputs": [
    {
     "data": {
      "text/plain": [
       "[10, 30, 50, 70, 90]"
      ]
     },
     "execution_count": 9,
     "metadata": {},
     "output_type": "execute_result"
    }
   ],
   "source": [
    "# list 자료형으로 변환\n",
    "mylist = list(column.values)\n",
    "mylist"
   ]
  },
  {
   "cell_type": "code",
   "execution_count": 10,
   "metadata": {},
   "outputs": [
    {
     "data": {
      "text/plain": [
       "RangeIndex(start=0, stop=5, step=1)"
      ]
     },
     "execution_count": 10,
     "metadata": {},
     "output_type": "execute_result"
    }
   ],
   "source": [
    "# 시리즈의 색인(index)만 추출\n",
    "column.index"
   ]
  },
  {
   "cell_type": "code",
   "execution_count": 11,
   "metadata": {},
   "outputs": [
    {
     "data": {
      "text/plain": [
       "pandas.core.indexes.range.RangeIndex"
      ]
     },
     "execution_count": 11,
     "metadata": {},
     "output_type": "execute_result"
    }
   ],
   "source": [
    "# 색인의 데이터타입 확인\n",
    "type(column.index)"
   ]
  },
  {
   "cell_type": "code",
   "execution_count": 11,
   "metadata": {},
   "outputs": [
    {
     "data": {
      "text/plain": [
       "[0, 1, 2, 3, 4]"
      ]
     },
     "execution_count": 11,
     "metadata": {},
     "output_type": "execute_result"
    }
   ],
   "source": [
    "# 색인을 리스트로 변환\n",
    "list(column.index)"
   ]
  },
  {
   "cell_type": "markdown",
   "metadata": {},
   "source": [
    "#### 2) 조건 검색\n",
    "- `이름[이름에 대한 조건식]`"
   ]
  },
  {
   "cell_type": "code",
   "execution_count": 15,
   "metadata": {},
   "outputs": [
    {
     "name": "stdout",
     "output_type": "stream",
     "text": [
      "0    10\n",
      "1    30\n",
      "2    50\n",
      "3    70\n",
      "4    90\n",
      "dtype: int64\n",
      "2    50\n",
      "3    70\n",
      "4    90\n",
      "dtype: int64\n"
     ]
    }
   ],
   "source": [
    "print(column)\n",
    "in1 = column[column > 30]\n",
    "print(in1)"
   ]
  },
  {
   "cell_type": "code",
   "execution_count": 13,
   "metadata": {},
   "outputs": [
    {
     "data": {
      "text/plain": [
       "1    30\n",
       "2    50\n",
       "3    70\n",
       "dtype: int64"
      ]
     },
     "execution_count": 13,
     "metadata": {},
     "output_type": "execute_result"
    }
   ],
   "source": [
    "# AND 검색\n",
    "in2 = column[column <= 70][column > 10]\n",
    "in2"
   ]
  },
  {
   "cell_type": "code",
   "execution_count": 14,
   "metadata": {},
   "outputs": [
    {
     "data": {
      "text/plain": [
       "0    10\n",
       "3    70\n",
       "4    90\n",
       "dtype: int64"
      ]
     },
     "execution_count": 14,
     "metadata": {},
     "output_type": "execute_result"
    }
   ],
   "source": [
    "# OR 검색\n",
    "in3 = column[(column<=10) | (column >= 70)]\n",
    "in3"
   ]
  },
  {
   "attachments": {},
   "cell_type": "markdown",
   "metadata": {},
   "source": [
    "#### 3) Series 연산"
   ]
  },
  {
   "cell_type": "code",
   "execution_count": 16,
   "metadata": {},
   "outputs": [
    {
     "data": {
      "text/plain": [
       "sat    290000\n",
       "sun    310000\n",
       "dtype: int64"
      ]
     },
     "execution_count": 16,
     "metadata": {},
     "output_type": "execute_result"
    }
   ],
   "source": [
    "# 인덱스를 직접 지정하면서 시리즈 만들기 \n",
    "\n",
    "# -> 지난주 주말에 대한 매출액\n",
    "week1 = Series([290000, 310000], index = ['sat', 'sun'])\n",
    "week1"
   ]
  },
  {
   "cell_type": "code",
   "execution_count": 17,
   "metadata": {},
   "outputs": [
    {
     "data": {
      "text/plain": [
       "sun    120000\n",
       "sat    220000\n",
       "dtype: int64"
      ]
     },
     "execution_count": 17,
     "metadata": {},
     "output_type": "execute_result"
    }
   ],
   "source": [
    "# -> 이번주 주말에 대한 매출액\n",
    "week2 = Series([120000, 220000], index=['sun', 'sat'])\n",
    "week2"
   ]
  },
  {
   "cell_type": "markdown",
   "metadata": {},
   "source": [
    "- 시리즈 객체의 사칙연산: `index가 동일한 항목`끼리 연산 수행\n",
    "    - 순서가 다르게 있어도 index가 동일한 항목끼리 알아서 찾아서 연산을 수행한다"
   ]
  },
  {
   "cell_type": "code",
   "execution_count": 20,
   "metadata": {},
   "outputs": [
    {
     "data": {
      "text/plain": [
       "sat    510000\n",
       "sun    430000\n",
       "dtype: int64"
      ]
     },
     "execution_count": 20,
     "metadata": {},
     "output_type": "execute_result"
    }
   ],
   "source": [
    "merge = week1 + week2\n",
    "merge"
   ]
  },
  {
   "attachments": {},
   "cell_type": "markdown",
   "metadata": {},
   "source": [
    "#### 4) 시리즈.value.counts()\n",
    "- `.value_counts()`is used to find the frequencies of a series\n",
    "- 값별 얼마나 많이 있는지 센다"
   ]
  },
  {
   "cell_type": "code",
   "execution_count": 19,
   "metadata": {},
   "outputs": [
    {
     "data": {
      "text/plain": [
       "510000    1\n",
       "430000    1\n",
       "Name: count, dtype: int64"
      ]
     },
     "execution_count": 19,
     "metadata": {},
     "output_type": "execute_result"
    }
   ],
   "source": [
    "merge.value_counts()"
   ]
  }
 ],
 "metadata": {
  "kernelspec": {
   "display_name": "Python 3",
   "language": "python",
   "name": "python3"
  },
  "language_info": {
   "codemirror_mode": {
    "name": "ipython",
    "version": 3
   },
   "file_extension": ".py",
   "mimetype": "text/x-python",
   "name": "python",
   "nbconvert_exporter": "python",
   "pygments_lexer": "ipython3",
   "version": "3.9.13"
  },
  "orig_nbformat": 4
 },
 "nbformat": 4,
 "nbformat_minor": 2
}
