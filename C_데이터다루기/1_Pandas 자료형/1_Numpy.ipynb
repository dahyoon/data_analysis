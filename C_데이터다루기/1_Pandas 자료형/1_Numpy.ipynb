{
 "cells": [
  {
   "attachments": {},
   "cell_type": "markdown",
   "metadata": {},
   "source": [
    "# NumPy 패키지 Numeric Python)\n",
    "\n",
    "### 1. 개요\n",
    "- 다차원 배열을 쉽게 처리하고 효율적으로 사용할 수 있도록 지원하는 파이썬 패키지\n",
    "- 데이터 구조 외에도 수치 계산을 위해 효율적으로 구현된 기능 제공\n",
    "- 데이터 분석에서 Pandas와 함께 자주 사용하는 도구\n",
    "\n",
    "#### 1) 역할\n",
    "- 실제로 데이터 분석을 수행하기 위한 전체 조건은 컴퓨터가 이해할 수 있도록 데이터를 숫자 형식으로 변환하는 것임\n",
    "- 파이썬의 list 자료형의 경우 데이터의 크기가 커질수록 저장 및 가공에 효율성을 보장하지 못함\n",
    "- 이러한 단점을 보완하기 위한 패키지이기에 Data Science에서 핵심적인 도구로 인식\n",
    "\n",
    "#### 2) 설치하기\n",
    "$ pip3 install --upgrade numpy"
   ]
  },
  {
   "attachments": {},
   "cell_type": "markdown",
   "metadata": {},
   "source": [
    "#### 3) 패키지 가져오기"
   ]
  },
  {
   "cell_type": "code",
   "execution_count": 4,
   "metadata": {},
   "outputs": [],
   "source": [
    "import numpy as np"
   ]
  },
  {
   "attachments": {},
   "cell_type": "markdown",
   "metadata": {},
   "source": [
    "### 2. Numpy 패키지 사용하기\n",
    "\n",
    "#### 1) Numpy 배열(array) 생성과 기본 활용"
   ]
  },
  {
   "cell_type": "code",
   "execution_count": 9,
   "metadata": {},
   "outputs": [
    {
     "name": "stdout",
     "output_type": "stream",
     "text": [
      "[1 3 5 7 9]\n",
      "배열의 원소는 5개 입니다.\n",
      "1 3\n",
      "0번째 원소 >> 1\n",
      "1번째 원소 >> 3\n",
      "2번째 원소 >> 5\n",
      "3번째 원소 >> 7\n",
      "4번째 원소 >> 9\n"
     ]
    }
   ],
   "source": [
    "# 리스트를 통한 1차원(=1행으로 구성) 배열 만들기\n",
    "arr = np.array([1, 3, 5, 7, 9])\n",
    "print(arr)\n",
    "\n",
    "# 배열의 크기와 각 원소에 접근하기\n",
    "# -> 내장함수 len()은 모든 연속성 데이터 (문자열, 리스트, 튜플 등)에 사용 가능\n",
    "size = len(arr)\n",
    "print(\"배열의 원소는 %d개 입니다.\" % size)\n",
    "\n",
    "# 배열의 원소에 접근하기\n",
    "# -> 리스트와 마찬가지로 각 원소에 인덱스 번호로 접근 가능\n",
    "print(arr[0], arr[1])\n",
    "\n",
    "# 인덱스가 있기에 반복문을 통해 제어할 각 원소에 접근 가능\n",
    "for i, v in enumerate(arr):\n",
    "    print('%d번째 원소 >> %d' % (i, v))"
   ]
  },
  {
   "attachments": {},
   "cell_type": "markdown",
   "metadata": {},
   "source": [
    "#### 2) Numpy array의 특성\n",
    "- list와 다르게 numpy 배열(array)는 원소의 타입이 서로 다른 것을 불허용\n",
    "- 가장 포괄적인 형태의 자료형으로 `통일`함: \n",
    "    - int, flt -> flt\n",
    "    - int, flt, str -> str"
   ]
  },
  {
   "cell_type": "code",
   "execution_count": 19,
   "metadata": {},
   "outputs": [
    {
     "name": "stdout",
     "output_type": "stream",
     "text": [
      "[1, 2, 3, '4']\n",
      "[1.  2.4 3.  4.6]\n",
      "['1' '2' '3' '4']\n",
      "[1 2 3 4 5]\n"
     ]
    }
   ],
   "source": [
    "# 서로 다른 타입의 원소를 갖는 list 만들기\n",
    "# -> 파이썬의 리스트는 서로 다른 타입 허용\n",
    "arr2 = [1, 2, 3, '4']\n",
    "print(arr2)\n",
    "\n",
    "# 정수와 실수가 섞인 리스트를 배열로 변환시\n",
    "# -> 여기서는 실수가 범위가 더 크므로 모든 원소가 실수형으로 변환됨\n",
    "arr3 = np.array([1, 2.4, 3, 4.6])\n",
    "print(arr3)\n",
    "\n",
    "# 정수, 실수, 문자열이 포함된 리스트를 배열로 변환시\n",
    "# -> 모든 타입이 문자열로 변환되어 있음\n",
    "arr4 = np.array([1, 2, 3, '4'])\n",
    "print(arr4)\n",
    "\n",
    "# 모든 원소의 타입을 강제로 int(정수)로 지정\n",
    "# -> 소수점 아래 값들은 모두 버려짐\n",
    "arr5 = np.array([1, 2.4, 3, 4.7, '5'], dtype = 'int') \n",
    "            # '9.9'(float으로 된 string)는 int()해도 int로 변환 안 됨!\n",
    "print(arr5)"
   ]
  },
  {
   "attachments": {},
   "cell_type": "markdown",
   "metadata": {},
   "source": [
    "#### 3) Numpy array의 기초 통계값\n",
    "- numpy.sum()\n",
    "- numpy.average()\n",
    "- numpy.max()\n",
    "- numpy.min()"
   ]
  },
  {
   "cell_type": "code",
   "execution_count": 20,
   "metadata": {},
   "outputs": [
    {
     "name": "stdout",
     "output_type": "stream",
     "text": [
      "총점: 338\n",
      "평균: 84\n",
      "가장 높은 점수: 91, 가장 낮은 점수: 77 \n",
      "참 열심히 했어요. 수고했어요.\n"
     ]
    }
   ],
   "source": [
    "# 예제를 위한 배열 구성\n",
    "grade = np.array([82, 77, 91, 88])\n",
    "\n",
    "# 모든 원소의 합\n",
    "s1 = np.sum(grade)\n",
    "print('총점: %d' % s1)\n",
    "\n",
    "# 모든 원소의 평균\n",
    "s2 = np.average(grade)\n",
    "print('평균: %d' % s2)\n",
    "\n",
    "# 최대, 최소값\n",
    "s3 = np.max(grade)\n",
    "s4 = np.min(grade)\n",
    "print('가장 높은 점수: %d, 가장 낮은 점수: %d' % (s3, s4), \"\\n참 열심히 했어요. 수고했어요.\")"
   ]
  },
  {
   "attachments": {},
   "cell_type": "markdown",
   "metadata": {},
   "source": [
    "#### 4) Numpy array의 각 원소에 대한 연산\n",
    "- 더하기, 빼기, 곱하기, 나누기, 제곱, 몫, 나머지 다 가능"
   ]
  },
  {
   "cell_type": "code",
   "execution_count": 21,
   "metadata": {},
   "outputs": [
    {
     "data": {
      "text/plain": [
       "array([0, 1, 1, 0])"
      ]
     },
     "execution_count": 21,
     "metadata": {},
     "output_type": "execute_result"
    }
   ],
   "source": [
    "grade = np.array([82, 77, 91, 88])\n",
    "\n",
    "new1 = grade + 2\n",
    "new2 = grade - 5\n",
    "new3 = grade * 2\n",
    "new4 = grade / 2\n",
    "new5 = grade ** 2\n",
    "new6 = grade // 2\n",
    "new7 = grade % 2\n",
    "new7"
   ]
  },
  {
   "attachments": {},
   "cell_type": "markdown",
   "metadata": {},
   "source": [
    "#### 5) Numpy array끼리의 연산\n",
    "- 연산자를 사용한 배열간의 연산 => `위치가 동일`한 각 원소끼리 수행됨\n",
    "- numpy모듈의 `함수`를 사용한 배열간의 연산 => 연산자와 동일한 결과"
   ]
  },
  {
   "cell_type": "code",
   "execution_count": 24,
   "metadata": {},
   "outputs": [
    {
     "data": {
      "text/plain": [
       "array([5., 5., 5., 5., 5.])"
      ]
     },
     "execution_count": 24,
     "metadata": {},
     "output_type": "execute_result"
    }
   ],
   "source": [
    "arr1 = np.array([10, 15, 20, 25, 30])\n",
    "arr2 = np.array([2, 3, 4, 5, 6])\n",
    "# print(arr1) >> [10 15 20 25 30]\n",
    "# print(arr2) >> [2 3 4 5 6]\n",
    "\n",
    "# 연산자를 사용한 배열간의 연산\n",
    "a = arr1 + arr2\n",
    "# a >> array([12, 18, 24, 30, 36])\n",
    "# print(a) >> [12 18 24 30 36]\n",
    "# 빼기, 곱하기, 나누기, 제곱, 몫, 나머지 다 됨\n",
    "a\n",
    "\n",
    "# 함수를 사용한 배열간의 연산\n",
    "# 더하기\n",
    "a = np.add(arr1, arr2)\n",
    "# 빼기\n",
    "b = np.subtract(arr1, arr2)\n",
    "# 곱하기\n",
    "c = np.multiply(arr1, arr2)\n",
    "# 나누기\n",
    "d = np.divide(arr1, arr2)\n",
    "d"
   ]
  },
  {
   "attachments": {},
   "cell_type": "markdown",
   "metadata": {},
   "source": [
    "#### 6) Numpy array의 기본 인덱싱, 슬라이싱"
   ]
  },
  {
   "cell_type": "code",
   "execution_count": 25,
   "metadata": {},
   "outputs": [
    {
     "data": {
      "text/plain": [
       "array([77, 91, 88])"
      ]
     },
     "execution_count": 25,
     "metadata": {},
     "output_type": "execute_result"
    }
   ],
   "source": [
    "# 철수의 1학년 - 4학년 까지의 평균 점수\n",
    "grade = np.array([82, 77, 91, 88])\n",
    "\n",
    "# 인덱싱\n",
    "grade[2]\n",
    "\n",
    "# 슬라이싱\n",
    "grade[1:3] # 1열부터 3열 전까지 범위 추출\n",
    "grade[:2] # 처음부터 2열 전까지 범위 추출\n",
    "grade[1:] # 1열부터 끝까지 범위 추출"
   ]
  },
  {
   "attachments": {},
   "cell_type": "markdown",
   "metadata": {},
   "source": [
    "#### 7) 조건에 맞는 값 추출하기\n",
    "- `numpy.logical_and()`\n",
    "- `numpy.logical_or()`"
   ]
  },
  {
   "cell_type": "code",
   "execution_count": 29,
   "metadata": {},
   "outputs": [
    {
     "data": {
      "text/plain": [
       "array([77, 91])"
      ]
     },
     "execution_count": 29,
     "metadata": {},
     "output_type": "execute_result"
    }
   ],
   "source": [
    "# -> 추출하고자 하는 원본과 같은 사이즈의 배열 생성\n",
    "# -> 추출할 값은 True, 그렇지 않으면 False\n",
    "bool_array = np.array([True, False, True, False])\n",
    "bool_array\n",
    "\n",
    "# -> 조건에 맞는 항목만 1차 배열로 추출\n",
    "# [82, 77, 91, 88]\n",
    "result1 = grade[bool_array]\n",
    "result1\n",
    "\n",
    "# 80점 이상인지 판별된 조건에 맞는 데이터만 추출\n",
    "result2 = grade[grade >= 80]\n",
    "result2\n",
    "\n",
    "# logical_and() 함수를 사용하여 80점 이상이고 90점 이하인 데이터만 추출\n",
    "result3 = grade[np.logical_and(grade>=80, grade<=90)]\n",
    "result3\n",
    "\n",
    "# logical_or() 함수를 사용하여 80점 미만이거나 90점 초과인 데이터만 추출\n",
    "result4 = grade[np.logical_or(grade<80, grade>90)]\n",
    "result4"
   ]
  },
  {
   "attachments": {},
   "cell_type": "markdown",
   "metadata": {},
   "source": [
    "### 3. 2차 배열\n",
    "\n",
    "#### 1) Numpy 2차 배열 생성 및 기본 정보 조회"
   ]
  },
  {
   "cell_type": "code",
   "execution_count": 35,
   "metadata": {},
   "outputs": [
    {
     "data": {
      "text/plain": [
       "array([[98, 72, 80, 64],\n",
       "       [88, 90, 80, 72],\n",
       "       [92, 88, 82, 76]])"
      ]
     },
     "execution_count": 35,
     "metadata": {},
     "output_type": "execute_result"
    }
   ],
   "source": [
    "# 철수의 학년-과목별 점수\n",
    "grade = np.array([\n",
    "    # 열 ->   0   1   2   3\n",
    "            [98, 72, 80, 64],   # 0행 - kor\n",
    "            [88, 90, 80, 72],   # 1행 - eng\n",
    "            [92, 88, 82, 76]    # 2행 - math\n",
    "])\n",
    "grade"
   ]
  },
  {
   "cell_type": "code",
   "execution_count": 36,
   "metadata": {},
   "outputs": [
    {
     "data": {
      "text/plain": [
       "dtype('int64')"
      ]
     },
     "execution_count": 36,
     "metadata": {},
     "output_type": "execute_result"
    }
   ],
   "source": [
    "# 차원 크기 (dimension)\n",
    "grade.ndim # >> 2\n",
    "\n",
    "# 각 차원의 원소수\n",
    "grade.shape # >> (3, 4)\n",
    "\n",
    "# # 각 원소의 타입\n",
    "grade.dtype # >> dtype('int64')"
   ]
  },
  {
   "attachments": {},
   "cell_type": "markdown",
   "metadata": {},
   "source": [
    "#### 2) 기본 인덱싱과 슬라이싱"
   ]
  },
  {
   "cell_type": "code",
   "execution_count": 39,
   "metadata": {},
   "outputs": [
    {
     "name": "stdout",
     "output_type": "stream",
     "text": [
      "[[98 72 80 64]\n",
      " [88 90 80 72]\n",
      " [92 88 82 76]]\n",
      "80\n",
      "80\n"
     ]
    },
    {
     "data": {
      "text/plain": [
       "array([[80, 72],\n",
       "       [82, 76]])"
      ]
     },
     "execution_count": 39,
     "metadata": {},
     "output_type": "execute_result"
    }
   ],
   "source": [
    "print(grade)\n",
    "# 정수형 인덱싱 => 1행 2열의 데이터 접근\n",
    "# 방법 1)\n",
    "print(grade [1, 2])\n",
    "# 방법 2)\n",
    "print(grade [1][2])\n",
    "\n",
    "# 슬라이싱 [행, 열]\n",
    "grade[1:3, 1:4] # -> 1~3행 전까지,1~4열 전까지 범위를 추출\n",
    "grade[:2, :3]   # -> 0~2행 전까지, 0~3열 전까지 범위를 추출\n",
    "grade[1:, 2:]   # -> 1~끝행, 2~끝열 범위를 추출"
   ]
  },
  {
   "attachments": {},
   "cell_type": "markdown",
   "metadata": {},
   "source": [
    "#### 3) 기초 통계 산출 (max, min, sum, average)\n",
    "- numpy.sum(배열, axis = n)\n",
    "    - 열끼리 (세로) -> axis = 0\n",
    "    - 행끼리 (가로) -> axis = 1"
   ]
  },
  {
   "cell_type": "code",
   "execution_count": 41,
   "metadata": {},
   "outputs": [
    {
     "name": "stdout",
     "output_type": "stream",
     "text": [
      "<class 'numpy.ndarray'>\n",
      "<class 'numpy.ndarray'>\n"
     ]
    },
    {
     "data": {
      "text/plain": [
       "array([314, 330, 338])"
      ]
     },
     "execution_count": 41,
     "metadata": {},
     "output_type": "execute_result"
    }
   ],
   "source": [
    "# 각 열끼리 더함 (세로로 덧셈) -> 결과 타입은 numpy의 1차 배열\n",
    "s1 = np.sum(grade, axis = 0)\n",
    "print(type(s1))\n",
    "s1\n",
    "\n",
    "# 각 행끼리 더함 (가로로 덧셈) -> 결과 타입은 numpy의 1차 배열\n",
    "s2 = np.sum(grade, axis = 1)\n",
    "print(type(s2))\n",
    "s2"
   ]
  },
  {
   "attachments": {},
   "cell_type": "markdown",
   "metadata": {},
   "source": [
    "#### 4) 조건에 맞는 값 추출하기"
   ]
  },
  {
   "cell_type": "code",
   "execution_count": 46,
   "metadata": {},
   "outputs": [
    {
     "name": "stdout",
     "output_type": "stream",
     "text": [
      "[[98 72 80 64]\n",
      " [88 90 80 72]\n",
      " [92 88 82 76]]\n"
     ]
    },
    {
     "data": {
      "text/plain": [
       "array([98, 72, 64, 72, 92, 76])"
      ]
     },
     "execution_count": 46,
     "metadata": {},
     "output_type": "execute_result"
    }
   ],
   "source": [
    "print(grade)\n",
    "# bool 형 인덱싱\n",
    "# -> 추출하고자 하는 원본과 같은 사이즈의 배열\n",
    "# -> 추출할 값은 True, 그렇지 않으면 False\n",
    "bool_array = np.array([\n",
    "            [True, False, True, False],\n",
    "            [True, True, True, True],\n",
    "            [True, True, True, False]\n",
    "])\n",
    "\n",
    "# 조건에 맞는 항목만 1차 배열로 추출\n",
    "result1 = grade[bool_array]\n",
    "result1\n",
    "\n",
    "# 80점 이상만 추출\n",
    "# -> 추출된 결과는 1차 배열\n",
    "result2 = grade[grade >= 80]\n",
    "result2\n",
    "\n",
    "# logical_and()를 사용하여 80점 이상, 90점 이하만 추출\n",
    "result3 = grade[np.logical_and(grade >= 80, grade <= 90)]\n",
    "result3\n",
    "\n",
    "# logical_or()를 사용하여 80점 미만 또는 90점 초과만 추출\n",
    "result4 = grade[np.logical_or(grade < 80, grade > 90)]\n",
    "result4"
   ]
  },
  {
   "cell_type": "code",
   "execution_count": null,
   "metadata": {},
   "outputs": [],
   "source": []
  }
 ],
 "metadata": {
  "kernelspec": {
   "display_name": "Python 3",
   "language": "python",
   "name": "python3"
  },
  "language_info": {
   "codemirror_mode": {
    "name": "ipython",
    "version": 3
   },
   "file_extension": ".py",
   "mimetype": "text/x-python",
   "name": "python",
   "nbconvert_exporter": "python",
   "pygments_lexer": "ipython3",
   "version": "3.9.13"
  },
  "orig_nbformat": 4
 },
 "nbformat": 4,
 "nbformat_minor": 2
}
