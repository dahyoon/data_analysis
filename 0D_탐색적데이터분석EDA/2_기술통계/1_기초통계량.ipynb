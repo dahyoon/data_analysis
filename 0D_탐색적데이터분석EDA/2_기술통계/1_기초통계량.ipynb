{
 "cells": [
  {
   "attachments": {},
   "cell_type": "markdown",
   "metadata": {},
   "source": [
    "# 기술통계 > 기초통계량\n",
    "\n",
    "## 1. 기술통계\n",
    "- 기술통계란, 자료를 `그래프나 숫자등으로 요약`하는 통계적 행위 및 관련 방법을 의미\n",
    "- 데이터 분석에 앞서 전체적으로 데이터의 특징을 파악하고 데이터를 다양한 각도로 접근\n",
    "- 데이터를 요약하고 시각화해서 잘 설명하는 것에 중점을 두며 데이터에 대해 쉽게 설명하기 위해 시각화를 많이 활용\n",
    "- 시각화 자료들: `박스플롯(상자그림)`, `도수분포표`, `히스토그램`\n",
    "- 사실을 객관적으로 확인하는 것을 중점으로 함\n",
    "\n",
    "## 2. 기술통계 절차\n",
    "### 1) 데이터 전체 크기, 형태 확인\n",
    "- 행/열 수 확인\n",
    "    - `데이터.shape`\n",
    "- 10만건의 데이터 전체를 출력하는 것은 매우 부담이 큰 처리이므로 상위 n건, 하위 n건의 일부만 확인\n",
    "    - `데이터프레임.head(n)`\n",
    "### 2) 수치형 데이터\n",
    "#### 1> 집단의 특성을 잘 나타내는 요약 통계량 확인\n",
    "- 평균, 중앙값, 표준편차, 범위(max~min), 사분위수 등 확인\n",
    "- 요약통계량을 상자그림으로 시각화하여 확인\n",
    "### 3) 범주형 데이터\n",
    "- 데이터의 빈도수 확인\n",
    "\n",
    "## 3. 작업 준비\n",
    "### 1) 패키지 참조"
   ]
  },
  {
   "cell_type": "code",
   "execution_count": 23,
   "metadata": {},
   "outputs": [],
   "source": [
    "import sys\n",
    "from matplotlib import pyplot as plt\n",
    "from pandas import read_excel\n",
    "import seaborn as sb"
   ]
  },
  {
   "attachments": {},
   "cell_type": "markdown",
   "metadata": {},
   "source": [
    "### 2) 데이터 가져오기"
   ]
  },
  {
   "cell_type": "code",
   "execution_count": 24,
   "metadata": {},
   "outputs": [
    {
     "data": {
      "text/html": [
       "<div>\n",
       "<style scoped>\n",
       "    .dataframe tbody tr th:only-of-type {\n",
       "        vertical-align: middle;\n",
       "    }\n",
       "\n",
       "    .dataframe tbody tr th {\n",
       "        vertical-align: top;\n",
       "    }\n",
       "\n",
       "    .dataframe thead th {\n",
       "        text-align: right;\n",
       "    }\n",
       "</style>\n",
       "<table border=\"1\" class=\"dataframe\">\n",
       "  <thead>\n",
       "    <tr style=\"text-align: right;\">\n",
       "      <th></th>\n",
       "      <th>광고비(백만원)</th>\n",
       "      <th>매출액(억원)</th>\n",
       "    </tr>\n",
       "    <tr>\n",
       "      <th>월</th>\n",
       "      <th></th>\n",
       "      <th></th>\n",
       "    </tr>\n",
       "  </thead>\n",
       "  <tbody>\n",
       "    <tr>\n",
       "      <th>1월</th>\n",
       "      <td>2</td>\n",
       "      <td>100</td>\n",
       "    </tr>\n",
       "    <tr>\n",
       "      <th>2월</th>\n",
       "      <td>142</td>\n",
       "      <td>1690</td>\n",
       "    </tr>\n",
       "    <tr>\n",
       "      <th>3월</th>\n",
       "      <td>122</td>\n",
       "      <td>298</td>\n",
       "    </tr>\n",
       "    <tr>\n",
       "      <th>4월</th>\n",
       "      <td>130</td>\n",
       "      <td>390</td>\n",
       "    </tr>\n",
       "    <tr>\n",
       "      <th>5월</th>\n",
       "      <td>185</td>\n",
       "      <td>590</td>\n",
       "    </tr>\n",
       "    <tr>\n",
       "      <th>6월</th>\n",
       "      <td>121</td>\n",
       "      <td>200</td>\n",
       "    </tr>\n",
       "    <tr>\n",
       "      <th>7월</th>\n",
       "      <td>101</td>\n",
       "      <td>190</td>\n",
       "    </tr>\n",
       "    <tr>\n",
       "      <th>8월</th>\n",
       "      <td>199</td>\n",
       "      <td>460</td>\n",
       "    </tr>\n",
       "    <tr>\n",
       "      <th>9월</th>\n",
       "      <td>221</td>\n",
       "      <td>660</td>\n",
       "    </tr>\n",
       "    <tr>\n",
       "      <th>10월</th>\n",
       "      <td>139</td>\n",
       "      <td>350</td>\n",
       "    </tr>\n",
       "    <tr>\n",
       "      <th>11월</th>\n",
       "      <td>169</td>\n",
       "      <td>650</td>\n",
       "    </tr>\n",
       "    <tr>\n",
       "      <th>12월</th>\n",
       "      <td>237</td>\n",
       "      <td>880</td>\n",
       "    </tr>\n",
       "  </tbody>\n",
       "</table>\n",
       "</div>"
      ],
      "text/plain": [
       "     광고비(백만원)  매출액(억원)\n",
       "월                     \n",
       "1월          2      100\n",
       "2월        142     1690\n",
       "3월        122      298\n",
       "4월        130      390\n",
       "5월        185      590\n",
       "6월        121      200\n",
       "7월        101      190\n",
       "8월        199      460\n",
       "9월        221      660\n",
       "10월       139      350\n",
       "11월       169      650\n",
       "12월       237      880"
      ]
     },
     "execution_count": 24,
     "metadata": {},
     "output_type": "execute_result"
    }
   ],
   "source": [
    "df = read_excel(\"https://data.hossam.kr/D02/ad-sales.xlsx\", index_col=\"월\")\n",
    "df"
   ]
  },
  {
   "attachments": {},
   "cell_type": "markdown",
   "metadata": {},
   "source": [
    "### 3) 데이터 전처리"
   ]
  },
  {
   "cell_type": "code",
   "execution_count": 25,
   "metadata": {},
   "outputs": [
    {
     "data": {
      "text/html": [
       "<div>\n",
       "<style scoped>\n",
       "    .dataframe tbody tr th:only-of-type {\n",
       "        vertical-align: middle;\n",
       "    }\n",
       "\n",
       "    .dataframe tbody tr th {\n",
       "        vertical-align: top;\n",
       "    }\n",
       "\n",
       "    .dataframe thead th {\n",
       "        text-align: right;\n",
       "    }\n",
       "</style>\n",
       "<table border=\"1\" class=\"dataframe\">\n",
       "  <thead>\n",
       "    <tr style=\"text-align: right;\">\n",
       "      <th></th>\n",
       "      <th>adv</th>\n",
       "      <th>sales</th>\n",
       "    </tr>\n",
       "    <tr>\n",
       "      <th>month</th>\n",
       "      <th></th>\n",
       "      <th></th>\n",
       "    </tr>\n",
       "  </thead>\n",
       "  <tbody>\n",
       "    <tr>\n",
       "      <th>1월</th>\n",
       "      <td>2</td>\n",
       "      <td>100</td>\n",
       "    </tr>\n",
       "    <tr>\n",
       "      <th>2월</th>\n",
       "      <td>142</td>\n",
       "      <td>1690</td>\n",
       "    </tr>\n",
       "    <tr>\n",
       "      <th>3월</th>\n",
       "      <td>122</td>\n",
       "      <td>298</td>\n",
       "    </tr>\n",
       "    <tr>\n",
       "      <th>4월</th>\n",
       "      <td>130</td>\n",
       "      <td>390</td>\n",
       "    </tr>\n",
       "    <tr>\n",
       "      <th>5월</th>\n",
       "      <td>185</td>\n",
       "      <td>590</td>\n",
       "    </tr>\n",
       "    <tr>\n",
       "      <th>6월</th>\n",
       "      <td>121</td>\n",
       "      <td>200</td>\n",
       "    </tr>\n",
       "    <tr>\n",
       "      <th>7월</th>\n",
       "      <td>101</td>\n",
       "      <td>190</td>\n",
       "    </tr>\n",
       "    <tr>\n",
       "      <th>8월</th>\n",
       "      <td>199</td>\n",
       "      <td>460</td>\n",
       "    </tr>\n",
       "    <tr>\n",
       "      <th>9월</th>\n",
       "      <td>221</td>\n",
       "      <td>660</td>\n",
       "    </tr>\n",
       "    <tr>\n",
       "      <th>10월</th>\n",
       "      <td>139</td>\n",
       "      <td>350</td>\n",
       "    </tr>\n",
       "    <tr>\n",
       "      <th>11월</th>\n",
       "      <td>169</td>\n",
       "      <td>650</td>\n",
       "    </tr>\n",
       "    <tr>\n",
       "      <th>12월</th>\n",
       "      <td>237</td>\n",
       "      <td>880</td>\n",
       "    </tr>\n",
       "  </tbody>\n",
       "</table>\n",
       "</div>"
      ],
      "text/plain": [
       "       adv  sales\n",
       "month            \n",
       "1월       2    100\n",
       "2월     142   1690\n",
       "3월     122    298\n",
       "4월     130    390\n",
       "5월     185    590\n",
       "6월     121    200\n",
       "7월     101    190\n",
       "8월     199    460\n",
       "9월     221    660\n",
       "10월    139    350\n",
       "11월    169    650\n",
       "12월    237    880"
      ]
     },
     "execution_count": 25,
     "metadata": {},
     "output_type": "execute_result"
    }
   ],
   "source": [
    "df.rename(columns={'광고비(백만원)': 'adv', '매출액(억원)': 'sales'}, inplace=True)\n",
    "df.index.name = 'month'\n",
    "df"
   ]
  },
  {
   "attachments": {},
   "cell_type": "markdown",
   "metadata": {},
   "source": [
    "## 4. 기초통계량\n",
    "### 1) 데이터의 범위\n",
    "- `최대값 ~ 최소값`의 구간 의미"
   ]
  },
  {
   "cell_type": "code",
   "execution_count": 26,
   "metadata": {},
   "outputs": [
    {
     "name": "stdout",
     "output_type": "stream",
     "text": [
      "광고비 구간은 2~237백만원 입니다.\n",
      "매출액 구간은 100~1690억원 입니다.\n"
     ]
    }
   ],
   "source": [
    "max_adv = df['adv'].max()\n",
    "min_adv = df['adv'].min()\n",
    "print(\"광고비 구간은 {min}~{max}백만원 입니다.\".format(max = max_adv, min=min_adv))\n",
    "\n",
    "max_sales = df['sales'].max()\n",
    "min_sales = df['sales'].min()\n",
    "print(\"매출액 구간은 {min}~{max}억원 입니다.\".format(max = max_sales, min=min_sales))"
   ]
  },
  {
   "attachments": {},
   "cell_type": "markdown",
   "metadata": {},
   "source": [
    "### 2) 합계"
   ]
  },
  {
   "cell_type": "code",
   "execution_count": 27,
   "metadata": {},
   "outputs": [
    {
     "name": "stdout",
     "output_type": "stream",
     "text": [
      "광고비의 총 합은 1768백만원이고, 매출액의 총 합은 6458억원 입니다.\n"
     ]
    }
   ],
   "source": [
    "sum_adv = df['adv'].sum()\n",
    "sum_sales = df['sales'].sum()\n",
    "print(\"광고비의 총 합은 %d백만원이고, 매출액의 총 합은 %d억원 입니다.\" % (sum_adv, sum_sales))"
   ]
  },
  {
   "attachments": {},
   "cell_type": "markdown",
   "metadata": {},
   "source": [
    "### 3) 평균\n",
    "- : 특정 값이 다른 값들의 범위와 차이가 큰 경우 신뢰도가 떨어짐\n",
    "- 위의 데이터에서 100에 해당하는 값은 다른 값들에 비해 극단적으로 높음 -> 이러한 값을 극단치라고 함"
   ]
  },
  {
   "cell_type": "code",
   "execution_count": 28,
   "metadata": {},
   "outputs": [
    {
     "name": "stdout",
     "output_type": "stream",
     "text": [
      "광고비의 평균은 147백만원이고, 매출액의 평균은 147억원 입니다.\n"
     ]
    }
   ],
   "source": [
    "mean_adv = df['adv'].mean()\n",
    "mean_sales = df['adv'].mean()\n",
    "print(\"광고비의 평균은 %d백만원이고, 매출액의 평균은 %d억원 입니다.\" % (mean_adv, mean_sales))"
   ]
  },
  {
   "attachments": {},
   "cell_type": "markdown",
   "metadata": {},
   "source": [
    "### 4) 중앙값 ($m_e$)\n",
    "- 모든 값을 순서대로 정렬한 후 가운데 위치의 값\n",
    "- 평균의 신뢰도가 현저히 낮을 경우 데이터의 분포를 확인하기 위해 사용\n",
    "\n",
    "#### 데이터의 수가 홀수인 경우\n",
    "- 모든 값을 순서대로 정렬한 후 `가운데 위치의 값`\n",
    "- `1, 2, 3, 4, 5` 의 중앙값은 `3`\n",
    "- $m_e = x{(\\frac{n+1}2)}$\n",
    "\n",
    "#### 데이터의 수가 짝수개인 경우\n",
    "- 모든 값을 순서대로 정렬한 후 `가운데 두 값의 평균`\n",
    "- `1, 2, 3, 4, 5, 6`의 중앙값은 `(3+4)/2`이므로 `3.5`이다.\n",
    "- $m_e = \\frac{1}{2}{({x_{\\frac{n}{2}} + {x_{\\frac{n}{2}+1}}})}$"
   ]
  },
  {
   "cell_type": "code",
   "execution_count": 29,
   "metadata": {},
   "outputs": [
    {
     "name": "stdout",
     "output_type": "stream",
     "text": [
      "광고비의 중앙값은 140백만원이고, 매출액의 중앙값은 425억원 입니다.\n"
     ]
    }
   ],
   "source": [
    "median_adv = df['adv'].median()\n",
    "median_sales = df['sales'].median()\n",
    "print(\"광고비의 중앙값은 %d백만원이고, 매출액의 중앙값은 %d억원 입니다.\" % (median_adv, median_sales))"
   ]
  },
  {
   "attachments": {},
   "cell_type": "markdown",
   "metadata": {},
   "source": [
    "### 5) 사분위 수\n",
    "- 데이터 표본을 4개의 동일한 부분으로 나눈 값\n",
    "- 사분위수를 사용하여 데이터 집합의 범위와 중심 위치를 신속하게 평가할 수 있음\n",
    "- 이는 데이터를 이해하는 데 중요한 첫 번째 단계\n",
    "- 종류\n",
    "\n",
    "| 용어               | 설명                                                   |\n",
    "| ------------------ | ---------------------------------------------------- |\n",
    "| 1사분위 수(Q1)     | 데이터의 하위 25%가 이 값보다 작거나 같음.             |\n",
    "| 2사분위 수(Q2)     | 중위수 데이터의 50%가 이 값보다 작거나 같음. (=중앙값) |\n",
    "| 3사분위 수(Q3)     | 데이터의 하위 75%가 이 값보다 작거나 같음.(=상위 25%)  |\n",
    "| 사분위간 범위(IQR) | 3사분위 수부터 1사분위 수 구간                         |\n",
    "- 사분위수는 데이터의 관측치가 아닌 `계산된 값`\n",
    "- 실존하지 않는 값이기 때문에 사분위수를 정확하게 계산하려면 종종 두 관측치 사이를 보간해야 함\n",
    "- 중위수와 사분위간 범위는 극단치의 영향을 받지 않기 때문에 평균 및 표준 편차보다 치우침이 많은 데이터의 중심 위치와 범위의 더 나은 측도가 될 수 있음\n",
    "\n",
    "#### 1> 1사분위 수\n",
    "\n",
    "$Q_1 = ((총도수 + 1) \\times 0.25)+1$"
   ]
  },
  {
   "cell_type": "code",
   "execution_count": 30,
   "metadata": {},
   "outputs": [
    {
     "name": "stdout",
     "output_type": "stream",
     "text": [
      "4.25\n",
      "121.75\n"
     ]
    }
   ],
   "source": [
    "# 사분위 수의 위치\n",
    "adv = list(df['adv'])\n",
    "총도수 = len(adv)\n",
    "Q1 = ((총도수 + 1) * 0.25) + 1\n",
    "print(Q1)\n",
    "\n",
    "# 사분위 수의 실제 값\n",
    "print(df['adv'].quantile(q=0.25))"
   ]
  },
  {
   "attachments": {},
   "cell_type": "markdown",
   "metadata": {},
   "source": [
    "#### 2> 2사분위 수\n",
    "- 중앙값과 동일"
   ]
  },
  {
   "cell_type": "code",
   "execution_count": 31,
   "metadata": {},
   "outputs": [
    {
     "data": {
      "text/plain": [
       "140.5"
      ]
     },
     "execution_count": 31,
     "metadata": {},
     "output_type": "execute_result"
    }
   ],
   "source": [
    "df['adv'].quantile(q=0.5)"
   ]
  },
  {
   "attachments": {},
   "cell_type": "markdown",
   "metadata": {},
   "source": [
    "#### 3> 3사분위 수\n",
    "\n",
    "$Q_3 = ((총도수 + 1) \\times 0.75)+1$"
   ]
  },
  {
   "cell_type": "code",
   "execution_count": 32,
   "metadata": {},
   "outputs": [
    {
     "name": "stdout",
     "output_type": "stream",
     "text": [
      "10.75\n",
      "188.5\n"
     ]
    }
   ],
   "source": [
    "adv = list(df['adv'])\n",
    "총도수 = len(adv)\n",
    "Q3 = ((총도수 + 1) * 0.75) + 1\n",
    "print(Q3)\n",
    "\n",
    "print(df['adv'].quantile(q=0.75))"
   ]
  },
  {
   "attachments": {},
   "cell_type": "markdown",
   "metadata": {},
   "source": [
    "#### 4> 사분위간 범위\n",
    "\n",
    "$Q3 - Q1$"
   ]
  },
  {
   "cell_type": "code",
   "execution_count": 33,
   "metadata": {},
   "outputs": [
    {
     "name": "stdout",
     "output_type": "stream",
     "text": [
      "66.75\n"
     ]
    }
   ],
   "source": [
    "print(df['adv'].quantile(q=0.75) - df['adv'].quantile(q=0.25))"
   ]
  },
  {
   "attachments": {},
   "cell_type": "markdown",
   "metadata": {},
   "source": [
    "### 6) 분산, 표준편차"
   ]
  },
  {
   "cell_type": "code",
   "execution_count": 34,
   "metadata": {},
   "outputs": [
    {
     "name": "stdout",
     "output_type": "stream",
     "text": [
      "광고비의 분산은 3911.515152\n",
      "광고비의 표준편차는 62.542107\n"
     ]
    }
   ],
   "source": [
    "분산 = df['adv'].var()\n",
    "print(\"광고비의 분산은 %f\" % 분산)\n",
    "\n",
    "표준편차 = df['adv'].std()\n",
    "print(\"광고비의 표준편차는 %f\" % 표준편차)"
   ]
  },
  {
   "attachments": {},
   "cell_type": "markdown",
   "metadata": {},
   "source": [
    "### 7) 기초통계량 일괄 산출\n",
    "\n",
    "#### 기초통계량 데이터프레임 생성\n",
    "- `데이터프레임.describe(percentiles = None, include = None, exclude = None)`\n",
    "    - Generate descriptive statistics.\n",
    "    - `Descriptive statistics` include those that summarize the central tendency, dispersion and shape of a dataset’s distribution, `excluding NaN values`.\n",
    "    - Analyzes `both numeric and object series`, as well as `DataFrame column sets of mixed data types`\n",
    "    - The output will vary depending on what is provided\n",
    "    - Parameters:\n",
    "        - `percentiles`: list-like of numbers, `optional`\n",
    "            - The percentiles to include in the output. All should fall between 0 and 1\n",
    "            - default is [.25, .5, .75], which returns the 25th, 50th, and 75th percentiles\n",
    "        - `include`: ‘all’, list-like of dtypes or None (default), `optional`\n",
    "            - A white list of data types to include in the result. \n",
    "            - Ignored for Series. \n",
    "            - Here are the options:\n",
    "                - ‘all’ : All columns of the input will be included in the output.\n",
    "                - A list-like of dtypes : Limits the results to the provided data types. To limit the result to numeric types submit numpy.number. To limit it instead to object columns submit the numpy.object data type. Strings can also be used in the style of select_dtypes (e.g. df.describe(include=['O'])). To select pandas categorical columns, use 'category'\n",
    "                - None (default) : The result will include all numeric columns.\n",
    "        - `exclude`: list-like of dtypes or None (default), `optional`\n",
    "            - A black list of data types to omit from the result. \n",
    "            - Ignored for Series. \n",
    "            - Here are the options:\n",
    "                - A list-like of dtypes : Excludes the provided data types from the result. To exclude numeric types submit numpy.number. To exclude object columns submit the data type numpy.object. Strings can also be used in the style of select_dtypes (e.g. df.describe(exclude=['O'])). To exclude pandas categorical columns, use 'category'\n",
    "                - None (default) : The result will exclude nothing.\n",
    "    - `Returns`: Series or DataFrame\n",
    "        - Summary statistics of the Series or Dataframe provided."
   ]
  },
  {
   "cell_type": "code",
   "execution_count": 35,
   "metadata": {},
   "outputs": [
    {
     "data": {
      "text/html": [
       "<div>\n",
       "<style scoped>\n",
       "    .dataframe tbody tr th:only-of-type {\n",
       "        vertical-align: middle;\n",
       "    }\n",
       "\n",
       "    .dataframe tbody tr th {\n",
       "        vertical-align: top;\n",
       "    }\n",
       "\n",
       "    .dataframe thead th {\n",
       "        text-align: right;\n",
       "    }\n",
       "</style>\n",
       "<table border=\"1\" class=\"dataframe\">\n",
       "  <thead>\n",
       "    <tr style=\"text-align: right;\">\n",
       "      <th></th>\n",
       "      <th>adv</th>\n",
       "      <th>sales</th>\n",
       "    </tr>\n",
       "  </thead>\n",
       "  <tbody>\n",
       "    <tr>\n",
       "      <th>count</th>\n",
       "      <td>12.000000</td>\n",
       "      <td>12.000000</td>\n",
       "    </tr>\n",
       "    <tr>\n",
       "      <th>mean</th>\n",
       "      <td>147.333333</td>\n",
       "      <td>538.166667</td>\n",
       "    </tr>\n",
       "    <tr>\n",
       "      <th>std</th>\n",
       "      <td>62.542107</td>\n",
       "      <td>428.774540</td>\n",
       "    </tr>\n",
       "    <tr>\n",
       "      <th>min</th>\n",
       "      <td>2.000000</td>\n",
       "      <td>100.000000</td>\n",
       "    </tr>\n",
       "    <tr>\n",
       "      <th>25%</th>\n",
       "      <td>121.750000</td>\n",
       "      <td>273.500000</td>\n",
       "    </tr>\n",
       "    <tr>\n",
       "      <th>50%</th>\n",
       "      <td>140.500000</td>\n",
       "      <td>425.000000</td>\n",
       "    </tr>\n",
       "    <tr>\n",
       "      <th>75%</th>\n",
       "      <td>188.500000</td>\n",
       "      <td>652.500000</td>\n",
       "    </tr>\n",
       "    <tr>\n",
       "      <th>max</th>\n",
       "      <td>237.000000</td>\n",
       "      <td>1690.000000</td>\n",
       "    </tr>\n",
       "  </tbody>\n",
       "</table>\n",
       "</div>"
      ],
      "text/plain": [
       "              adv        sales\n",
       "count   12.000000    12.000000\n",
       "mean   147.333333   538.166667\n",
       "std     62.542107   428.774540\n",
       "min      2.000000   100.000000\n",
       "25%    121.750000   273.500000\n",
       "50%    140.500000   425.000000\n",
       "75%    188.500000   652.500000\n",
       "max    237.000000  1690.000000"
      ]
     },
     "execution_count": 35,
     "metadata": {},
     "output_type": "execute_result"
    }
   ],
   "source": [
    "desc = df.describe()\n",
    "desc"
   ]
  },
  {
   "attachments": {},
   "cell_type": "markdown",
   "metadata": {},
   "source": [
    "##### 데이터프레임의 전치 구하기"
   ]
  },
  {
   "cell_type": "code",
   "execution_count": 36,
   "metadata": {},
   "outputs": [
    {
     "data": {
      "text/html": [
       "<div>\n",
       "<style scoped>\n",
       "    .dataframe tbody tr th:only-of-type {\n",
       "        vertical-align: middle;\n",
       "    }\n",
       "\n",
       "    .dataframe tbody tr th {\n",
       "        vertical-align: top;\n",
       "    }\n",
       "\n",
       "    .dataframe thead th {\n",
       "        text-align: right;\n",
       "    }\n",
       "</style>\n",
       "<table border=\"1\" class=\"dataframe\">\n",
       "  <thead>\n",
       "    <tr style=\"text-align: right;\">\n",
       "      <th></th>\n",
       "      <th>count</th>\n",
       "      <th>mean</th>\n",
       "      <th>std</th>\n",
       "      <th>min</th>\n",
       "      <th>25%</th>\n",
       "      <th>50%</th>\n",
       "      <th>75%</th>\n",
       "      <th>max</th>\n",
       "    </tr>\n",
       "  </thead>\n",
       "  <tbody>\n",
       "    <tr>\n",
       "      <th>adv</th>\n",
       "      <td>12.0</td>\n",
       "      <td>147.333333</td>\n",
       "      <td>62.542107</td>\n",
       "      <td>2.0</td>\n",
       "      <td>121.75</td>\n",
       "      <td>140.5</td>\n",
       "      <td>188.5</td>\n",
       "      <td>237.0</td>\n",
       "    </tr>\n",
       "    <tr>\n",
       "      <th>sales</th>\n",
       "      <td>12.0</td>\n",
       "      <td>538.166667</td>\n",
       "      <td>428.774540</td>\n",
       "      <td>100.0</td>\n",
       "      <td>273.50</td>\n",
       "      <td>425.0</td>\n",
       "      <td>652.5</td>\n",
       "      <td>1690.0</td>\n",
       "    </tr>\n",
       "  </tbody>\n",
       "</table>\n",
       "</div>"
      ],
      "text/plain": [
       "       count        mean         std    min     25%    50%    75%     max\n",
       "adv     12.0  147.333333   62.542107    2.0  121.75  140.5  188.5   237.0\n",
       "sales   12.0  538.166667  428.774540  100.0  273.50  425.0  652.5  1690.0"
      ]
     },
     "execution_count": 36,
     "metadata": {},
     "output_type": "execute_result"
    }
   ],
   "source": [
    "desc.T"
   ]
  },
  {
   "attachments": {},
   "cell_type": "markdown",
   "metadata": {},
   "source": [
    "## 5. 기초통계량 시각화\n",
    "- 상자그림`.boxplot()`은 데이터의 범위 및 분포, 사분위 수, 이상치 등을 시각화 한 그래프\n",
    "- `.grid()` 표시하고자 하면 반드시 `.boxplot() 전`에 표시해야 됨:\n",
    "    - 순서: \n",
    "        - .grid()\n",
    "        - .boxplot()\n",
    "\n",
    "### 1) 그래프 전역 설정"
   ]
  },
  {
   "cell_type": "code",
   "execution_count": 37,
   "metadata": {},
   "outputs": [],
   "source": [
    "plt.rcParams[\"font.family\"] = 'AppleGothic' if sys.platform == 'darwin' else 'Malgun Gothic'\n",
    "plt.rcParams[\"font.size\"] = 10\n",
    "plt.rcParams[\"figure.figsize\"] = (7, 4)\n",
    "plt.rcParams[\"axes.unicode_minus\"] = False"
   ]
  },
  {
   "attachments": {},
   "cell_type": "markdown",
   "metadata": {},
   "source": [
    "### 2) 모든 컬럼에 대한 일괄 생성"
   ]
  },
  {
   "cell_type": "code",
   "execution_count": 38,
   "metadata": {},
   "outputs": [
    {
     "data": {
      "image/png": "[encoded data removed]",
      "text/plain": [
       "<Figure size 700x400 with 1 Axes>"
      ]
     },
     "metadata": {},
     "output_type": "display_data"
    }
   ],
   "source": [
    "plt.figure()\n",
    "plt.grid()      # 격자를 표시하고자 하는 경우 반드시 boxplot() 함수보다 먼저 표시해야 함    \n",
    "df.boxplot()\n",
    "plt.show()\n",
    "plt.close()"
   ]
  },
  {
   "attachments": {},
   "cell_type": "markdown",
   "metadata": {},
   "source": [
    "### 3) 특정 컬럼만 시각화"
   ]
  },
  {
   "cell_type": "code",
   "execution_count": 39,
   "metadata": {},
   "outputs": [
    {
     "data": {
      "image/png": "[encoded data removed]",
      "text/plain": [
       "<Figure size 700x400 with 1 Axes>"
      ]
     },
     "metadata": {},
     "output_type": "display_data"
    }
   ],
   "source": [
    "plt.figure()\n",
    "plt.grid()\n",
    "df.boxplot(['adv'])\n",
    "plt.show()\n",
    "plt.close()"
   ]
  },
  {
   "attachments": {},
   "cell_type": "markdown",
   "metadata": {},
   "source": [
    "### 4. 서브플롯을 활용한 상자그림"
   ]
  },
  {
   "cell_type": "code",
   "execution_count": 40,
   "metadata": {},
   "outputs": [
    {
     "data": {
      "image/png": "[encoded data removed]",
      "text/plain": [
       "<Figure size 1000x400 with 2 Axes>"
      ]
     },
     "metadata": {},
     "output_type": "display_data"
    }
   ],
   "source": [
    "fig, (ax1, ax2) = plt.subplots(1, 2, figsize = (10, 4))\n",
    "df.boxplot(['adv'], ax = ax1)\n",
    "df.boxplot(['sales'], ax = ax2)\n",
    "plt.show()\n",
    "plt.close()"
   ]
  },
  {
   "attachments": {},
   "cell_type": "markdown",
   "metadata": {},
   "source": [
    "### 5. seaborn을 사용한 상자그림"
   ]
  },
  {
   "cell_type": "code",
   "execution_count": 41,
   "metadata": {},
   "outputs": [
    {
     "data": {
      "image/png": "[encoded data removed]",
      "text/plain": [
       "<Figure size 500x200 with 1 Axes>"
      ]
     },
     "metadata": {},
     "output_type": "display_data"
    },
    {
     "data": {
      "image/png": "[encoded data removed]",
      "text/plain": [
       "<Figure size 500x200 with 1 Axes>"
      ]
     },
     "metadata": {},
     "output_type": "display_data"
    },
    {
     "data": {
      "image/png": "[encoded data removed]",
      "text/plain": [
       "<Figure size 300x400 with 1 Axes>"
      ]
     },
     "metadata": {},
     "output_type": "display_data"
    }
   ],
   "source": [
    "plt.rcParams['figure.figsize']=(5, 2)\n",
    "plt.figure()\n",
    "plt.title('모든 컬럼 데이터')\n",
    "sb.boxplot(data=df)\n",
    "plt.show()\n",
    "plt.close()\n",
    "\n",
    "plt.figure()\n",
    "plt.title('adv 컬럼 데이터 x축')\n",
    "sb.boxplot(data = df, x = 'adv')\n",
    "plt.show()\n",
    "plt.close()\n",
    "\n",
    "plt.rcParams['figure.figsize']=(3, 4)\n",
    "plt.figure()\n",
    "plt.title('adv 컬럼 데이터 y축')\n",
    "sb.boxplot(data = df, y = 'adv')\n",
    "plt.show()\n",
    "plt.close()"
   ]
  },
  {
   "cell_type": "code",
   "execution_count": 42,
   "metadata": {},
   "outputs": [
    {
     "name": "stdout",
     "output_type": "stream",
     "text": [
      "               주가\n",
      "count   24.000000\n",
      "mean   153.000000\n",
      "std     24.354269\n",
      "min    102.000000\n",
      "25%    142.750000\n",
      "50%    150.000000\n",
      "75%    163.500000\n",
      "max    235.000000\n"
     ]
    },
    {
     "data": {
      "image/png": "[encoded data removed]",
      "text/plain": [
       "<Figure size 300x400 with 1 Axes>"
      ]
     },
     "metadata": {},
     "output_type": "display_data"
    },
    {
     "name": "stdout",
     "output_type": "stream",
     "text": [
      "Insight: 외국 기업의 주가보다 내국 기업의 주가의 범위가 더 넓다.\n"
     ]
    }
   ],
   "source": [
    "data = read_excel('https://data.hossam.kr/D02/stock.xlsx')\n",
    "data\n",
    "\n",
    "print(data.describe())\n",
    "\n",
    "plt.figure()\n",
    "plt.grid() \n",
    "sb.boxplot(x='구분',y='주가',data=data)\n",
    "plt.title('내국기업/외국기업 비교',fontsize=17)\n",
    "plt.show()\n",
    "plt.close()\n",
    "print(\"Insight: 외국 기업의 주가보다 내국 기업의 주가의 범위가 더 넓다.\")"
   ]
  },
  {
   "attachments": {},
   "cell_type": "markdown",
   "metadata": {},
   "source": [
    "## 6. 극단치 경계\n",
    "- 데이터가 극단적으로 크거나 작은 값을 극단치(=이상치)라고 함\n",
    "- 그 값을 결정하는 기준이 되는 값을 극단치 경계\n",
    "\n",
    "### IQR\n",
    "- 1사분위수와 3사분위수의 거리\n",
    "$IQR = Q3 - Q1$\n",
    "\n",
    "### 상한 극단치 경계\n",
    "$상한 = Q3 + IQR * 1.5$\n",
    "\n",
    "### 하한 극단치 경계\n",
    "$하한 = Q1 - IQR * 1.5$\n",
    "\n",
    "### 광고비에 대한 이상치 구하기"
   ]
  },
  {
   "cell_type": "code",
   "execution_count": 43,
   "metadata": {},
   "outputs": [
    {
     "name": "stdout",
     "output_type": "stream",
     "text": [
      "       adv  sales\n",
      "month            \n",
      "1월       2    100\n",
      "2월     142   1690\n",
      "3월     122    298\n",
      "4월     130    390\n",
      "5월     185    590\n",
      "6월     121    200\n",
      "7월     101    190\n",
      "8월     199    460\n",
      "9월     221    660\n",
      "10월    139    350\n",
      "11월    169    650\n",
      "12월    237    880\n",
      "광고비에 대한 하한 극단치 경계값: 21.625000\n",
      "month\n",
      "1월    2\n",
      "Name: adv, dtype: int64\n"
     ]
    }
   ],
   "source": [
    "print(df)\n",
    "\n",
    "q1 = df['adv'].quantile(q=0.25)\n",
    "q3 = df['adv'].quantile(q=0.75)\n",
    "iqr = q3 - q1\n",
    "하한 = q1 - iqr * 1.5\n",
    "print('광고비에 대한 하한 극단치 경계값: %f' % 하한)\n",
    "\n",
    "df1 = df.query('adv < @ 하한')\n",
    "print(df1['adv'])"
   ]
  },
  {
   "attachments": {},
   "cell_type": "markdown",
   "metadata": {},
   "source": [
    "### 매출액에 대한 이상치 구하기"
   ]
  },
  {
   "cell_type": "code",
   "execution_count": 44,
   "metadata": {},
   "outputs": [
    {
     "name": "stdout",
     "output_type": "stream",
     "text": [
      "매출액에 대한 상한 극단치 경계값: 1221.000000\n",
      "month\n",
      "2월    1690\n",
      "Name: sales, dtype: int64\n"
     ]
    }
   ],
   "source": [
    "q1 = df['sales'].quantile(q=0.25)\n",
    "q3 = df['sales'].quantile(q=0.75)\n",
    "iqr = q3 - q1\n",
    "상한 = q3 + iqr * 1.5\n",
    "print('매출액에 대한 상한 극단치 경계값: %f' % 상한)\n",
    "\n",
    "df2 = df.query('sales > @상한')\n",
    "print(df2['sales'])"
   ]
  }
 ],
 "metadata": {
  "kernelspec": {
   "display_name": "Python 3",
   "language": "python",
   "name": "python3"
  },
  "language_info": {
   "codemirror_mode": {
    "name": "ipython",
    "version": 3
   },
   "file_extension": ".py",
   "mimetype": "text/x-python",
   "name": "python",
   "nbconvert_exporter": "python",
   "pygments_lexer": "ipython3",
   "version": "3.9.13"
  },
  "orig_nbformat": 4
 },
 "nbformat": 4,
 "nbformat_minor": 2
}
