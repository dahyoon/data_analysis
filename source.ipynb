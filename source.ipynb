{
 "cells": [
  {
   "attachments": {},
   "cell_type": "markdown",
   "metadata": {},
   "source": [
    "## 지도 이미지\n",
    "- 위키미디어에서 Seoul districts.svg 키워드로 검색하여 서울 지도 이미지르 ㄹ내려받아 map_seoul.svg라는 이름으로 작업 폴더에 추가하고 open() 함수로 파일을 읽어올 수 있음\n",
    "> https://commons.wikimedia.org/wiki/File:Seoul_districts.svg?uselang=ko\n",
    "- D 탐색적 데이터 분석, 4_기타시각화, 2_SVG지도시각화(서울)"
   ]
  },
  {
   "attachments": {},
   "cell_type": "markdown",
   "metadata": {},
   "source": [
    "## 영화진흥위원회 (온라인 상)\n",
    "\n",
    "> urlFmt = \"http://www.kobis.or.kr/kobisopenapi/webservice/rest/boxoffice/searchDailyBoxOfficeList.json?key={key}&targetDt={targetDt}\"\n",
    "\n",
    "```\n",
    "최종 URL\n",
    "url = urlFmt.format(key=API_KEY, targetDt=yesterday)\n",
    "```\n",
    "- B 데이터수집, 1_OpenAPI데이터수집, 4_영화진흥위원회"
   ]
  },
  {
   "attachments": {},
   "cell_type": "markdown",
   "metadata": {},
   "source": [
    "## 카카오책\n",
    "> urlFmt = \"https://dapi.kakao.com/v3/search/book?query={query}&page={page}&size={size}\"\n",
    "```\n",
    "요청변수 (파라미터)\n",
    "query = \"파이썬\"\n",
    "page = 1 # page=10이면 page 10에 해당하는 결과를 받아올 수 있다는 뜻\n",
    "size = 15 \n",
    "# key = \"직적발급받은 key\"\n",
    "key = \"f903e6bb99d409d576298b6e08527c66\"\n",
    "```\n",
    "- B 데이터수집, 1_OpenAPI데이터수집, 5_카카오책"
   ]
  },
  {
   "attachments": {},
   "cell_type": "markdown",
   "metadata": {},
   "source": [
    "## 카카오 이미지\n",
    "> urlFmt = \"https://dapi.kakao.com/v2/search/image?query={query}&page={page}&size={size}\"\n",
    "```\n",
    "# 요청변수\n",
    "query = \"봄 패션\"\n",
    "page = 1\n",
    "size = 80\n",
    "key = \"b636ff83df45f778874b079dcb979102\"\n",
    "```\n",
    "- B 데이터수집, 1_OpenAPI데이터수집, 7_카카오이미지검색결과수집"
   ]
  },
  {
   "attachments": {},
   "cell_type": "markdown",
   "metadata": {},
   "source": [
    "## 숙명여대 학과정보\n",
    "> url = \"https://www.sookmyung.ac.kr/sookmyungkr/1011/subview.do\"\n",
    "- B 데이터수집, 2_웹페이지데이터수집, 3_학과정보수집"
   ]
  },
  {
   "attachments": {},
   "cell_type": "markdown",
   "metadata": {},
   "source": [
    "## 쿠팡 '노트북' 상품 정보\n",
    "> url = \"https://www.coupang.com/np/search?q=%EB%85%B8%ED%8A%B8%EB%B6%81&listSize=72&channel=user\"\n",
    "- B 데이터수집, 2_웹페이지데이터수집, 연습문제_쿠팡검색결과"
   ]
  },
  {
   "attachments": {},
   "cell_type": "markdown",
   "metadata": {},
   "source": [
    "## 네이버 웹툰 요일별\n",
    "> naverWebtoonUrl = \"https://comic.naver.com/webtoon?tab={0}\"\n",
    "```\n",
    "params = ['mon', 'tue', 'wed', 'thu', 'fri', 'sat', 'sun', 'dailyPlus']\n",
    "```\n",
    "- B 데이터수집, 3_selenium활용데이터수집, 1_네이버웹툰목록수집"
   ]
  },
  {
   "attachments": {},
   "cell_type": "markdown",
   "metadata": {},
   "source": [
    "## 네이버 로그인\n",
    "> https://nid.naver.com/nidlogin.login?mode=form&url=https://www.naver.com/\n",
    "- B 데이터수집, 3_selenium활용데이터수집, 2_네이버로그인"
   ]
  },
  {
   "attachments": {},
   "cell_type": "markdown",
   "metadata": {},
   "source": [
    "## 파파고 번역기\n",
    "> \"https://papago.naver.com/\"\n",
    "- B 데이터수집, 3_selenium활용데이터수집, 3_파파고번역기"
   ]
  },
  {
   "attachments": {},
   "cell_type": "markdown",
   "metadata": {},
   "source": [
    "## 네이버 쇼핑\n",
    "> urlFmt = \"https://search.shopping.naver.com/search/all?query={keyword}\"\n",
    "```\n",
    "url = urlFmt.format(keyword=encKeyword)\n",
    "```\n",
    "- B 데이터수집, 3_selenium활용데이터수집, 4_네이버쇼핑"
   ]
  },
  {
   "cell_type": "markdown",
   "metadata": {},
   "source": []
  }
 ],
 "metadata": {
  "language_info": {
   "name": "python"
  },
  "orig_nbformat": 4
 },
 "nbformat": 4,
 "nbformat_minor": 2
}
