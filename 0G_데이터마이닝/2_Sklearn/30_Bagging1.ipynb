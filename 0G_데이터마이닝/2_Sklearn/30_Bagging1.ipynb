{
 "cells": [
  {
   "cell_type": "markdown",
   "metadata": {},
   "source": [
    "# Bagging (1)\n",
    "## 1. 패키지 참조"
   ]
  },
  {
   "cell_type": "code",
   "execution_count": 3,
   "metadata": {},
   "outputs": [],
   "source": [
    "import warnings\n",
    "warnings.filterwarnings('ignore')\n",
    "\n",
    "import seaborn as sb\n",
    "from pandas import read_excel\n",
    "from matplotlib import pyplot as plt\n",
    "from sklearn.ensemble import BaggingClassifier, BaggingRegressor\n",
    "from sklearn.linear_model import LogisticRegression, LinearRegression\n",
    "\n",
    "from sklearn.preprocessing import StandardScaler\n",
    "from sklearn.model_selection import train_test_split\n",
    "from sklearn.metrics import accuracy_score, r2_score"
   ]
  },
  {
   "cell_type": "markdown",
   "metadata": {},
   "source": [
    "## 2. 분류 문제\n",
    "### 1) 데이터 가져오기 및 전처리"
   ]
  },
  {
   "cell_type": "code",
   "execution_count": 9,
   "metadata": {},
   "outputs": [
    {
     "name": "stdout",
     "output_type": "stream",
     "text": [
      "독립변수 x의 shape: (569, 30) 종속변수 y의 shape: (569,)\n",
      "표준화 된 x 의 1번째 컬럼 값들: [[ 1.09706398 -2.07333501  1.26993369  0.9843749   1.56846633  3.28351467\n",
      "   2.65287398  2.53247522  2.21751501  2.25574689  2.48973393 -0.56526506\n",
      "   2.83303087  2.48757756 -0.21400165  1.31686157  0.72402616  0.66081994\n",
      "   1.14875667  0.90708308  1.88668963 -1.35929347  2.30360062  2.00123749\n",
      "   1.30768627  2.61666502  2.10952635  2.29607613  2.75062224  1.93701461]]\n",
      "훈련용 독립변수 x_train의 shape: (398, 30) 훈련용 종속변수 y_traint의 shape: (398,)\n",
      "검증용 독립변수 x_test의 shape: (171, 30) 검증용 종속변수 y_test의 shape: (171,)\n"
     ]
    }
   ],
   "source": [
    "# 데이터 가져오기\n",
    "origin = read_excel('https://data.hossam.kr/G02/breast_cancer.xlsx')\n",
    "\n",
    "# 독립/종속 변수 분리\n",
    "x = origin.drop('target', axis = 1)\n",
    "y = origin['target']\n",
    "print('독립변수 x의 shape:', x.shape, '종속변수 y의 shape:', y.shape)\n",
    "\n",
    "# 데이터 표준화\n",
    "std_x = StandardScaler().fit_transform(x)\n",
    "digit = 1\n",
    "print('표준화 된 x 의 %d번째 컬럼 값들:' % digit, std_x[:digit])\n",
    "\n",
    "# 훈련/검증 데이터 분할\n",
    "x_train, x_test, y_train, y_test = train_test_split(\n",
    "    std_x, y, test_size = 0.3, random_state=777)\n",
    "print('훈련용 독립변수 x_train의 shape:', x_train.shape, '훈련용 종속변수 y_traint의 shape:', y_train.shape)\n",
    "print('검증용 독립변수 x_test의 shape:', x_test.shape, '검증용 종속변수 y_test의 shape:', y_test.shape)\n"
   ]
  },
  {
   "cell_type": "markdown",
   "metadata": {},
   "source": [
    "### 2) 분류 모델 구현\n",
    "#### 1_ 분류 알고리즘 객체 정의"
   ]
  },
  {
   "cell_type": "code",
   "execution_count": 7,
   "metadata": {},
   "outputs": [],
   "source": [
    "lr = LogisticRegression()  # KNN, DTREE 등 모든 분류 알고리즘 적용 가능"
   ]
  },
  {
   "cell_type": "markdown",
   "metadata": {},
   "source": [
    "#### 2_ Bagging 모델 구현"
   ]
  },
  {
   "cell_type": "code",
   "execution_count": 8,
   "metadata": {},
   "outputs": [
    {
     "name": "stdout",
     "output_type": "stream",
     "text": [
      "BaggingClassifier 훈련 정확도: 0.611\n",
      "BaggingClassifier 검증 정확도: 0.667\n"
     ]
    }
   ],
   "source": [
    "clf = BaggingClassifier(\n",
    "    base_estimator = lr,\n",
    "    n_estimators = 50,  # 부트스트랩 샘플 새구\n",
    "    max_samples = 1,    # 부트스트랩 샘플 비율 => 1이면 학습데이터를 모두 샘플링한다\n",
    "    bootstrap = True,   # 복원 추출, False이면 비복원 추출\n",
    "    random_state = 777,\n",
    "\n",
    "    # 하나의 예측기에 들어가는 샘플에 대하여 컬럼의 중복 사용여부를 결정\n",
    "    bootstrap_features = False,\n",
    "    n_jobs = -1)\n",
    "\n",
    "clf.fit(x_train, y_train)\n",
    "print('BaggingClassifier 훈련 정확도: {:.3f}'.format(clf.score(x_train, y_train)))\n",
    "\n",
    "y_pred = clf.predict(x_test)\n",
    "print('BaggingClassifier 검증 정확도: {:.3f}'.format(accuracy_score(y_test, y_pred)))"
   ]
  },
  {
   "cell_type": "markdown",
   "metadata": {},
   "source": [
    "## 3. 회귀 문제\n",
    "### 1) 데이터 가져오기 및 전처리"
   ]
  },
  {
   "cell_type": "code",
   "execution_count": 11,
   "metadata": {},
   "outputs": [
    {
     "name": "stdout",
     "output_type": "stream",
     "text": [
      "      CRIM    ZN  INDUS  CHAS    NOX     RM   AGE     DIS  RAD  TAX  PTRATIO  \\\n",
      "0  0.00632  18.0   2.31     0  0.538  6.575  65.2  4.0900    1  296     15.3   \n",
      "1  0.02731   0.0   7.07     0  0.469  6.421  78.9  4.9671    2  242     17.8   \n",
      "2  0.02729   0.0   7.07     0  0.469  7.185  61.1  4.9671    2  242     17.8   \n",
      "3  0.03237   0.0   2.18     0  0.458  6.998  45.8  6.0622    3  222     18.7   \n",
      "4  0.06905   0.0   2.18     0  0.458  7.147  54.2  6.0622    3  222     18.7   \n",
      "\n",
      "        B  LSTAT  MEDV  CAT. MEDV  \n",
      "0  396.90   4.98  24.0          0  \n",
      "1  396.90   9.14  21.6          0  \n",
      "2  392.83   4.03  34.7          1  \n",
      "3  394.63   2.94  33.4          1  \n",
      "4  396.90   5.33  36.2          1  \n",
      "독립변수 x의 shape: (506, 14) 종속변수 y의 shape: (506,)\n",
      "훈련용 독립변수 x_train의 shape: (354, 14) 훈련용 종속변수 y_traint의 shape: (354,)\n",
      "검증용 독립변수 x_test의 shape: (152, 14) 검증용 종속변수 y_test의 shape: (152,)\n"
     ]
    }
   ],
   "source": [
    "# 데이터 가져오기\n",
    "origin = read_excel('https://data.hossam.kr/E04/boston.xlsx')\n",
    "print(origin.head())\n",
    "\n",
    "# 독립/종속 변수 분리\n",
    "x = origin.drop('MEDV', axis = 1)\n",
    "y = origin['MEDV']\n",
    "print('독립변수 x의 shape:', x.shape, '종속변수 y의 shape:', y.shape)\n",
    "\n",
    "# 훈련/검증 데이터 분할\n",
    "x_train, x_test, y_train, y_test = train_test_split(\n",
    "    x, y, test_size = 0.3, random_state=777)\n",
    "print('훈련용 독립변수 x_train의 shape:', x_train.shape, '훈련용 종속변수 y_traint의 shape:', y_train.shape)\n",
    "print('검증용 독립변수 x_test의 shape:', x_test.shape, '검증용 종속변수 y_test의 shape:', y_test.shape)\n"
   ]
  },
  {
   "cell_type": "markdown",
   "metadata": {},
   "source": [
    "### 3) 회귀 모델 구현\n",
    "#### 1_ 회귀 알고리즘 객체 정의"
   ]
  },
  {
   "cell_type": "code",
   "execution_count": 12,
   "metadata": {},
   "outputs": [],
   "source": [
    "rg = LinearRegression()"
   ]
  },
  {
   "cell_type": "markdown",
   "metadata": {},
   "source": [
    "#### 2_ Bagging 모델 구현"
   ]
  },
  {
   "cell_type": "code",
   "execution_count": 13,
   "metadata": {},
   "outputs": [
    {
     "name": "stdout",
     "output_type": "stream",
     "text": [
      "BaggingClassifier 훈련 R2: -0.016774\n",
      "BaggingClassifier 테스트 R2: -0.010032\n"
     ]
    }
   ],
   "source": [
    "reg = BaggingRegressor(\n",
    "    base_estimator = rg,\n",
    "    n_estimators = 50,  # 부트스트랩 샘플 개수\n",
    "    max_samples = 1,    # 부트스트랩 샘플 비율 -> 1이면 학습데이터를 모두 샘플링한다\n",
    "    bootstrap = True,   # 복원 추출, False이면 비복원 추출\n",
    "    random_state = 777,\n",
    "\n",
    "    # 하나의 예측기에 들어가는 샘플에 대하여 컬럼의 중복 사용여부를 결정\n",
    "    bootstrap_features = False,\n",
    "    n_jobs = -1)\n",
    "\n",
    "reg.fit(x_train, y_train)\n",
    "print('BaggingClassifier 훈련 R2: {:f}'.format(reg.score(x_train, y_train)))\n",
    "\n",
    "y_pred = reg.predict(x_test)\n",
    "print('BaggingClassifier 테스트 R2: {:f}'.format(r2_score(y_test, y_pred)))"
   ]
  }
 ],
 "metadata": {
  "kernelspec": {
   "display_name": "Python 3",
   "language": "python",
   "name": "python3"
  },
  "language_info": {
   "codemirror_mode": {
    "name": "ipython",
    "version": 3
   },
   "file_extension": ".py",
   "mimetype": "text/x-python",
   "name": "python",
   "nbconvert_exporter": "python",
   "pygments_lexer": "ipython3",
   "version": "3.9.13"
  }
 },
 "nbformat": 4,
 "nbformat_minor": 2
}
