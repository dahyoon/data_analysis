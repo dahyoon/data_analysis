{
 "cells": [
  {
   "cell_type": "markdown",
   "metadata": {},
   "source": [
    "# 웹페이지 데이터 수집 서론\n",
    "\n",
    "## 1. 용어\n",
    "### 1) 스크랩핑\n",
    "- 단일 페이지로부터의 데이터 수집\n",
    "### 2) 크롤링\n",
    "- 특정 페이지로부터 파생되는 하위 페이지까지 일괄 수집\n",
    "- 크롤러: 크롤링을 수행하는 소프트웨어 (=검색 엔진)\n",
    "- 단점: 사이트의 디자인이 바뀌면 써놓은 코드가 무용지물이 됨\n",
    "\n",
    "## 2. 필요한 모듈/기능\n",
    "### 1) `BeautifulSoup4` 모듈\n",
    "- \n",
    "### 2) `Selenium` 모듈\n",
    "- "
   ]
  },
  {
   "cell_type": "code",
   "execution_count": null,
   "metadata": {},
   "outputs": [],
   "source": []
  }
 ],
 "metadata": {
  "language_info": {
   "name": "python"
  }
 },
 "nbformat": 4,
 "nbformat_minor": 2
}
