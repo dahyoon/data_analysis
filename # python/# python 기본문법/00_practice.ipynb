{
 "cells": [
  {
   "cell_type": "code",
   "execution_count": null,
   "metadata": {},
   "outputs": [],
   "source": [
    "\n",
    "str.find('o') str.index('o') - 대상 문자열에 지정한 문자가 몇 번째 index에 있는지 출력하는 함수\n",
    "    a = \"python\"\n",
    "    print(a.find('o'))\n",
    "    >> 4\n",
    "    print(a.index('o'))\n",
    "    >> 4\n",
    "없는 문자를 찾을 때에는 -1 return한다\n",
    "    a = \"python\"\n",
    "    print(a.find('x'))\n",
    "    >> -1\n",
    "st.rfind('o') - 대상 문자열에 지정한 문자가 몇 번째 index에 **마지막**으로 있는지 출력하는 함수\n",
    "    a = \"hello\"\n",
    "    print(a.rfind('l'))\n",
    "    >> 3"
   ]
  },
  {
   "cell_type": "code",
   "execution_count": 5,
   "metadata": {},
   "outputs": [
    {
     "data": {
      "text/plain": [
       "3"
      ]
     },
     "execution_count": 5,
     "metadata": {},
     "output_type": "execute_result"
    }
   ],
   "source": [
    "a = 'hello'\n",
    "a.rfind('l')"
   ]
  },
  {
   "cell_type": "code",
   "execution_count": null,
   "metadata": {},
   "outputs": [],
   "source": []
  }
 ],
 "metadata": {
  "kernelspec": {
   "display_name": "Python 3",
   "language": "python",
   "name": "python3"
  },
  "language_info": {
   "codemirror_mode": {
    "name": "ipython",
    "version": 3
   },
   "file_extension": ".py",
   "mimetype": "text/x-python",
   "name": "python",
   "nbconvert_exporter": "python",
   "pygments_lexer": "ipython3",
   "version": "3.9.13"
  }
 },
 "nbformat": 4,
 "nbformat_minor": 2
}
