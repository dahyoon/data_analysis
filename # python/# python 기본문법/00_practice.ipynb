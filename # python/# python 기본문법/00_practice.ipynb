{
 "cells": [
  {
   "cell_type": "code",
   "execution_count": 16,
   "metadata": {},
   "outputs": [
    {
     "name": "stdout",
     "output_type": "stream",
     "text": [
      "2016년 1월 1일의 요일: SAT\n"
     ]
    },
    {
     "data": {
      "text/plain": [
       "'SAT'"
      ]
     },
     "execution_count": 16,
     "metadata": {},
     "output_type": "execute_result"
    }
   ],
   "source": [
    "# 달별 딕셔너리 생성\n",
    "monthly_dict = {}\n",
    "\n",
    "# 달 개수 리스트 생성\n",
    "monthly_list = list(range(1, 13))\n",
    "\n",
    "# 각 달마다 있을 날짜 딕셔너리 생성\n",
    "days_dict1 = {}             # 31일을 담을 딕셔너리\n",
    "days_dict2 = {}             # 29일을 담을 딕셔너리\n",
    "days_dict3 = {}             # 30일을 담을 딕셔너리\n",
    "for a in list(range(1, 32)):\n",
    "    days_dict1[a] = 0\n",
    "for a in list(range(1, 30)):\n",
    "    days_dict2[a] = 0\n",
    "for a in list(range(1, 31)):\n",
    "    days_dict3[a] = 0\n",
    "\n",
    "# 각 달마다 해당 포함 날짜들을 담은 딕셔너리 입력\n",
    "for month in monthly_list:\n",
    "    # 31일을 담은 달에 0의 값을 가진 각 31일 입력\n",
    "    if month in [1, 3, 5, 7, 8, 10, 12]:\n",
    "        monthly_dict[month] = days_dict1\n",
    "    # 2월에 0의 값을 가진 각 29일 입력\n",
    "    elif month == 2:\n",
    "        monthly_dict[month] = days_dict2\n",
    "    # 31일을 담은 달에 0의 값을 가진 각 31일 입력\n",
    "    elif month in [4, 6, 9, 11]:\n",
    "        monthly_dict[month] = days_dict3\n",
    "\n",
    "\n",
    "# 요일을 담은 리스트 생성\n",
    "요일 = ['SUN','MON','TUE','WED','THU','FRI','SAT']\n",
    "\n",
    "# 해당 년도 1월 1일의 요일 인덱스 설정\n",
    "day_index = 6      # 2016년 1월 1일은 'FRI'이므로 인덱스는 5\n",
    "print('2016년 1월 1일의 요일:', 요일[day_index])\n",
    "\n",
    "# 각 날짜마다 해당 요일 입력\n",
    "for month in monthly_list:\n",
    "    for day in monthly_dict[month]:\n",
    "        if day_index < 7:\n",
    "            monthly_dict[month][day] = 요일[day_index]\n",
    "            day_index += 1\n",
    "        else:\n",
    "            day_index = 0\n",
    "            monthly_dict[month][day] = 요일[day_index]\n",
    "            day_index += 1\n",
    "monthly_dict[1][2]"
   ]
  },
  {
   "cell_type": "code",
   "execution_count": 8,
   "metadata": {},
   "outputs": [],
   "source": [
    "dartResult = '1S2D*3T'\t\n",
    "result = 37\n",
    "설명 = '11 * 2 + 22 * 2 + 33'"
   ]
  },
  {
   "cell_type": "code",
   "execution_count": 5,
   "metadata": {},
   "outputs": [],
   "source": [
    "dartResult = '1D2S#10S'\n",
    "result = 9\t\n",
    "설명 = '12 + 21 * (-1) + 101'"
   ]
  },
  {
   "cell_type": "code",
   "execution_count": 58,
   "metadata": {},
   "outputs": [
    {
     "name": "stdout",
     "output_type": "stream",
     "text": [
      "answer is: [1, 3]\n"
     ]
    }
   ],
   "source": [
    "answers = [3, 1, 3, 1, 5]\n",
    "result = [1]\n",
    "\n",
    "\n",
    "num1 = [1, 2, 3, 4, 5]\n",
    "num2 = [2, 1, 2, 3, 2, 4, 2, 5]\n",
    "num3 = [3, 3, 1, 1, 2, 2, 4, 4, 5, 5]\n",
    "\n",
    "\n",
    "score_dict = {}\n",
    "score = 0\n",
    "for i in range(len(answers)):\n",
    "    if answers[i] == num1[i]:\n",
    "        score += 1\n",
    "    score_dict[1] = score\n",
    "score = 0\n",
    "for i in range(len(answers)):\n",
    "    if answers[i] == num2[i]:\n",
    "        score += 1\n",
    "    score_dict[2] = score\n",
    "score = 0\n",
    "for i in range(len(answers)):\n",
    "    if answers[i] == num3[i]:\n",
    "        score += 1\n",
    "    score_dict[3] = score\n",
    "alist = []\n",
    "for key, value in score_dict.items():\n",
    "    if score_dict[key] == max(score_dict.values()):\n",
    "        alist.append('max')\n",
    "    else:\n",
    "        alist.append('not')\n",
    "if alist.count('max') == 1:\n",
    "    answer = alist.index('max') + 1\n",
    "    print('answer is:', [answer])\n",
    "elif alist.count('max') == 2:\n",
    "    answer1 = alist.index('max') + 1\n",
    "    alist.reverse()\n",
    "    answer2 = alist.index('max') + 1\n",
    "    if answer2 == 1:\n",
    "        answer2 = 3\n",
    "    else:\n",
    "        answer2 = 1\n",
    "    print('answer is:', [answer1, answer2])\n",
    "else:\n",
    "    print([1, 2, 3])\n"
   ]
  },
  {
   "cell_type": "code",
   "execution_count": 35,
   "metadata": {},
   "outputs": [],
   "source": [
    "a, b, c = score_dict.values()\n"
   ]
  },
  {
   "cell_type": "code",
   "execution_count": 36,
   "metadata": {},
   "outputs": [
    {
     "data": {
      "text/plain": [
       "5"
      ]
     },
     "execution_count": 36,
     "metadata": {},
     "output_type": "execute_result"
    }
   ],
   "source": [
    "a"
   ]
  },
  {
   "cell_type": "code",
   "execution_count": null,
   "metadata": {},
   "outputs": [],
   "source": []
  }
 ],
 "metadata": {
  "kernelspec": {
   "display_name": "Python 3",
   "language": "python",
   "name": "python3"
  },
  "language_info": {
   "codemirror_mode": {
    "name": "ipython",
    "version": 3
   },
   "file_extension": ".py",
   "mimetype": "text/x-python",
   "name": "python",
   "nbconvert_exporter": "python",
   "pygments_lexer": "ipython3",
   "version": "3.9.13"
  }
 },
 "nbformat": 4,
 "nbformat_minor": 2
}
