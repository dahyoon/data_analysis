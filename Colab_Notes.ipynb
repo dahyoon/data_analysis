{
  "cells": [
    {
      "cell_type": "markdown",
      "metadata": {
        "colab_type": "text",
        "id": "view-in-github"
      },
      "source": [
        "<a href=\"https://colab.research.google.com/github/lolddong/data_analysis/blob/main/Colab_Notes.ipynb\" target=\"_parent\"><img src=\"https://colab.research.google.com/assets/colab-badge.svg\" alt=\"Open In Colab\"/></a>"
      ]
    },
    {
      "cell_type": "markdown",
      "metadata": {
        "id": "EGVJff7VBlmj"
      },
      "source": [
        "Colab 사용시 주의 점:\n",
        "- helper 모듈 사용 시 helper.py 을 Colab에 담아놔야 된다\n",
        "- 한글 사용 시 한글 글꼴을 다운받아야 된다\n",
        "- pca 사용 시 pca 패키지 (pip) 를 매번 다운받아야 된다 (Colab에 기본적으로 탑재 되어있지 않기 때문)\n",
        "- 매번 반드시 해야할 것 (Colab을 열 떄마다)\n",
        "\t- 사본을 '저장'부터 하고 시작하기 (drive나 github에)\n",
        "    - 그 후 저장한 파일을 열고 무조건 위측 메뉴에 '런타임' > '런타임 유형 변경' > 'T4 GPU' 선택\n",
        "        - 런타임 유형을 변경하는 건 컴퓨터 종류를 선택하는 것\n",
        "            - TPU: 구글에서 만든 tensorflow 전용 GPU\n",
        "        - 런타임 유형을 바꿔버리면 처음서부터 실행을 다시 해야됨 (컴퓨터 바꾸는 것이랑 비슷)\n",
        "        - -> 그래서 이것부터 해야하는 것\n",
        "        - 비활성화 되어있는 A100 GPU와 V100 GPU는 유료옵션임\n",
        "        - 'CPU' 보다 'T4 GPU'가 빠르고, 최소 내 컴퓨터보단 빠를 것이다\n",
        "- 웬만한 pip 패키지 사용 가능\n",
        "    - `!` 후 `pip3`를 통해 pip 명령어 사용 가능\n",
        "    - `! pip freeze`하면 사용 가능한 pip 패키지들 출력"
      ]
    },
    {
      "cell_type": "markdown",
      "metadata": {
        "id": "o5N4i4IyBxKY"
      },
      "source": [
        "한글 글꼴 설정 및 다운로드"
      ]
    },
    {
      "cell_type": "code",
      "execution_count": null,
      "metadata": {
        "colab": {
          "base_uri": "https://localhost:8080/"
        },
        "id": "rMywicH3aLdr",
        "outputId": "246f4afb-635a-48c5-d6ba-5c46c8de63c8"
      },
      "outputs": [
        {
          "name": "stdout",
          "output_type": "stream",
          "text": [
            "Reading package lists... Done\n",
            "Building dependency tree... Done\n",
            "Reading state information... Done\n",
            "The following NEW packages will be installed:\n",
            "  fonts-nanum\n",
            "0 upgraded, 1 newly installed, 0 to remove and 18 not upgraded.\n",
            "Need to get 0 B/10.3 MB of archives.\n",
            "After this operation, 34.1 MB of additional disk space will be used.\n",
            "debconf: unable to initialize frontend: Dialog\n",
            "debconf: (No usable dialog-like program is installed, so the dialog based frontend cannot be used. at /usr/share/perl5/Debconf/FrontEnd/Dialog.pm line 78, <> line 1.)\n",
            "debconf: falling back to frontend: Readline\n",
            "debconf: unable to initialize frontend: Readline\n",
            "debconf: (This frontend requires a controlling tty.)\n",
            "debconf: falling back to frontend: Teletype\n",
            "dpkg-preconfigure: unable to re-open stdin: \n",
            "Selecting previously unselected package fonts-nanum.\n",
            "(Reading database ... 120895 files and directories currently installed.)\n",
            "Preparing to unpack .../fonts-nanum_20200506-1_all.deb ...\n",
            "Unpacking fonts-nanum (20200506-1) ...\n",
            "Setting up fonts-nanum (20200506-1) ...\n",
            "Processing triggers for fontconfig (2.13.1-4.2ubuntu5) ...\n",
            "/usr/share/fonts: caching, new cache contents: 0 fonts, 1 dirs\n",
            "/usr/share/fonts/truetype: caching, new cache contents: 0 fonts, 3 dirs\n",
            "/usr/share/fonts/truetype/humor-sans: caching, new cache contents: 1 fonts, 0 dirs\n",
            "/usr/share/fonts/truetype/liberation: caching, new cache contents: 16 fonts, 0 dirs\n",
            "/usr/share/fonts/truetype/nanum: caching, new cache contents: 12 fonts, 0 dirs\n",
            "/usr/local/share/fonts: caching, new cache contents: 0 fonts, 0 dirs\n",
            "/root/.local/share/fonts: skipping, no such directory\n",
            "/root/.fonts: skipping, no such directory\n",
            "/usr/share/fonts/truetype: skipping, looped directory detected\n",
            "/usr/share/fonts/truetype/humor-sans: skipping, looped directory detected\n",
            "/usr/share/fonts/truetype/liberation: skipping, looped directory detected\n",
            "/usr/share/fonts/truetype/nanum: skipping, looped directory detected\n",
            "/var/cache/fontconfig: cleaning cache directory\n",
            "/root/.cache/fontconfig: not cleaning non-existent cache directory\n",
            "/root/.fontconfig: not cleaning non-existent cache directory\n",
            "fc-cache: succeeded\n"
          ]
        }
      ],
      "source": [
        "!sudo apt-get install -y fonts-nanum\n",
        "!sudo fc-cache -fv\n",
        "!rm ~/.cache/matplotlib -rf\n",
        "\n",
        "from matplotlib import font_manager as fm\n",
        "import matplotlib.pyplot as plt\n",
        "fe = fm.FontEntry(fname=r'/usr/share/fonts/truetype/nanum/NanumGothic.ttf',\n",
        "                  name='NanumGothic')\n",
        "fm.fontManager.ttflist.insert(0, fe)\n",
        "plt.rcParams.update({'font.size':18, 'font.family':'NanumGothic'})"
      ]
    },
    {
      "cell_type": "markdown",
      "metadata": {
        "id": "VoZoIK89GtqI"
      },
      "source": [
        "구글 드라이브에 Access/Mount하기"
      ]
    },
    {
      "cell_type": "code",
      "execution_count": 1,
      "metadata": {
        "colab": {
          "base_uri": "https://localhost:8080/"
        },
        "id": "_-8wk_SGGay2",
        "outputId": "22495cbf-f971-4e27-9952-459ef39afb9a"
      },
      "outputs": [
        {
          "name": "stdout",
          "output_type": "stream",
          "text": [
            "Drive already mounted at /content/drive; to attempt to forcibly remount, call drive.mount(\"/content/drive\", force_remount=True).\n"
          ]
        }
      ],
      "source": [
        "from google.colab import drive\n",
        "drive.mount('/content/drive')"
      ]
    }
  ],
  "metadata": {
    "accelerator": "TPU",
    "colab": {
      "authorship_tag": "ABX9TyNuzTFGDNYSPkkvZV25kUls",
      "include_colab_link": true,
      "mount_file_id": "1M6a-E2YAj_ew-8eGsd2xck0jnD4wH0kU",
      "provenance": []
    },
    "kernelspec": {
      "display_name": "Python 3",
      "name": "python3"
    },
    "language_info": {
      "name": "python"
    }
  },
  "nbformat": 4,
  "nbformat_minor": 0
}
