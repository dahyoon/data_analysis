QGIS 개요

- Geographic   -> 지리 시각
- Information  -> Data
- System       -> 의사결정 
- 즉, '지리 데이터에 대한 의사결정을 시각적으로 도와주는 통계 체계'라고 얘기한다

ArcGIS
- 유료, 가격 비쌈
