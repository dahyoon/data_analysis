{
 "cells": [
  {
   "cell_type": "markdown",
   "metadata": {},
   "source": [
    "Google Sheet - Geocode by AwesomeTable\n",
    "- 한글주소를 위도, 경도로 변환할 수 있음"
   ]
  },
  {
   "cell_type": "markdown",
   "metadata": {},
   "source": [
    "# 좌표계\n",
    "\n",
    "- : 지리적 객체를 위치시키는데 사용되는 좌표기반체계\n",
    "- 두 가지 종류: `지리좌표계(GCS)`와 `투영좌표계(PCS)`로 구분\n",
    "\n",
    "## `지리좌표계(GCS: Geographic Coordinate System)`\n",
    "- 지구상의 위치를 정의하는데 3차원의 구면을 이용하는 좌표계"
   ]
  },
  {
   "cell_type": "markdown",
   "metadata": {},
   "source": []
  }
 ],
 "metadata": {
  "language_info": {
   "name": "python"
  }
 },
 "nbformat": 4,
 "nbformat_minor": 2
}
