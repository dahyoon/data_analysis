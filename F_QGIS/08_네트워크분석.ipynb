{
 "cells": [
  {
   "cell_type": "markdown",
   "metadata": {},
   "source": [
    "# 네트워크 분석\n",
    "- 교통망 (고속도로, 철도, 도로)이나 하턴, 전기, 상하수도 관망의 연결성을 분석하는 방법\n",
    "\n",
    "## I. 최단경로 탐색분석\n",
    "\n",
    "## II. 서비스 영역 탐색\n",
    "- 특정 시설을 중심으로 특정 시간 이내에 도달할 수 있는 서비스 영역을 도출하는 분석 방법\n",
    "\n",
    "(수업 4분만 들음)"
   ]
  },
  {
   "cell_type": "markdown",
   "metadata": {},
   "source": []
  }
 ],
 "metadata": {
  "language_info": {
   "name": "python"
  }
 },
 "nbformat": 4,
 "nbformat_minor": 2
}
