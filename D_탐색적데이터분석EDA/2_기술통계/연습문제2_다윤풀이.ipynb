{
 "cells": [
  {
   "attachments": {},
   "cell_type": "markdown",
   "metadata": {},
   "source": [
    "# 기술통계 연습문제 2\n",
    "- Wage 데이터 셋은 경제 및 노동 시장에 관련된 정보를 담고 있는 데이터셋이다.\n",
    "- 이 데이터셋은 미국에서 수집된 임금에 대한 정보를 포함하고 있다.\n",
    "- https://data.hossam.kr/D02/wage.xlsx\n",
    "- 이 데이터셋을 활용하여 다음 물음에 답하시오.\n",
    "\n",
    "1. 데이터를 로드하여 명목형 변수를 1, 2 등으로 레이블링 하시오. 값의 종류는 데이터프레임으로부터 조회하여 확인하시오.\n",
    "2. 레이블링 된 명목형 변수를 category 타입으로 변경하시오.\n",
    "3. 수치형 변수에 대한 요약 통계를 확인하고 설명하시오 (상자그림 제외)\n",
    "4. 명목형 변수에 대한 기술 통계를 수행하고 설명하시오.\n",
    "5. 결혼 여부에 따른 임금 수준을 비교하고자 한다. 결혼 여부에 따라 서브플롯을 구성하여 임금 수준을 히스토그램으로 시각화 하고 설명하시오.\n",
    "6. 교육 수준에 따른 임금에 대한 히스토그램을 시각화 하고 설명하시오. 교육수준별로 그래프를 나누어 서브플롯으로 제시해야 합니다.\n",
    "7. 직군별 건강상태를 확인하고자 한다. 적절한 형태로 데이터를 재배치하고 설명하시오.\n",
    "8. 교육 수준을 인종 비율에 따라 설명하고자 한다. 적절한 시각화 자료를 제시하고 설명하시오."
   ]
  },
  {
   "cell_type": "code",
   "execution_count": 42,
   "metadata": {},
   "outputs": [
    {
     "data": {
      "text/plain": [
       "Index(['age', 'maritl', 'race', 'education', 'region', 'jobclass', 'health',\n",
       "       'health_ins', 'logwage', 'wage'],\n",
       "      dtype='object')"
      ]
     },
     "execution_count": 42,
     "metadata": {},
     "output_type": "execute_result"
    }
   ],
   "source": [
    "import sys\n",
    "import numpy as np\n",
    "import seaborn as sb\n",
    "from pandas import DataFrame, read_excel, melt\n",
    "from matplotlib import pyplot as plt\n",
    "\n",
    "data_pre1 = read_excel('https://data.hossam.kr/D02/wage.xlsx', index_col=\"year\")\n",
    "# for a in range(len(data_pre1.dtypes)):\n",
    "#     if data_pre1.dtypes[a] == 'object':\n",
    "#         data_pre1.astype({})\n",
    "\n",
    "data_pre1.columns\n",
    "\n",
    "# for a in range(len(dtypelist)):\n",
    "#     if dtypelist[a] == 'dtype('O')':\n",
    "#         dtypelist[a] = 'dtype'\n",
    "\n",
    "# # vc = data_pre1['education'].value_counts() # 컬럼 안에 있는 종류들 count 출력\n",
    "# # matlist = list(vc.index)\n",
    "# # matlist.sort()\n",
    "\n"
   ]
  }
 ],
 "metadata": {
  "kernelspec": {
   "display_name": "Python 3",
   "language": "python",
   "name": "python3"
  },
  "language_info": {
   "codemirror_mode": {
    "name": "ipython",
    "version": 3
   },
   "file_extension": ".py",
   "mimetype": "text/x-python",
   "name": "python",
   "nbconvert_exporter": "python",
   "pygments_lexer": "ipython3",
   "version": "3.11.3"
  },
  "orig_nbformat": 4
 },
 "nbformat": 4,
 "nbformat_minor": 2
}
