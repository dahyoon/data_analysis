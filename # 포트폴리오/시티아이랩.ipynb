{
 "cells": [
  {
   "cell_type": "markdown",
   "metadata": {},
   "source": [
    "# 과제\n",
    "## 1) IoU (Intersection over Union)를 구하는 함수를 작성해 주세요.\n",
    "- IoU: a performance metric used to evaluate the accuracy of annotation, segmentation, and object detection algorithms. It quantifies the `overlap` between the `predicted bounding box or segmented region` and `the ground truth bounding box or annotated region` from a dataset"
   ]
  },
  {
   "cell_type": "code",
   "execution_count": 2,
   "metadata": {},
   "outputs": [
    {
     "name": "stdout",
     "output_type": "stream",
     "text": [
      "IoU between box1 and box2: 0.1590013140604468\n"
     ]
    }
   ],
   "source": [
    "def IoU(box1, box2):\n",
    "    \"\"\"\n",
    "    Intersection over Union (IoU) 구하는 함수\n",
    "\n",
    "    Parameters:\n",
    "    - box1: 첫 박스의 좌표들을 나타내는 tuple (x1, y1, x2, y2)\n",
    "    - box2: 두 번째 박스의 좌표들을 나타내는 tuple (x1, y1, x2, y2)\n",
    "\n",
    "    Returns:\n",
    "    - iou: Intersection over Union (IoU)\n",
    "    \"\"\"\n",
    "\n",
    "    # 교차하는 좌표 지점\n",
    "    x1_inter = max(box1[0], box2[0])\n",
    "    y1_inter = max(box1[1], box2[1])\n",
    "    x2_inter = min(box1[2], box2[2])\n",
    "    y2_inter = min(box1[3], box2[3])\n",
    "\n",
    "    # 교차하는 면적\n",
    "    intersection_area = max(0, x2_inter - x1_inter + 1) * max(0, y2_inter - y1_inter + 1)\n",
    "\n",
    "    # 각 박스의 면적\n",
    "    box1_area = (box1[2] - box1[0] + 1) * (box1[3] - box1[1] + 1)\n",
    "    box2_area = (box2[2] - box2[0] + 1) * (box2[3] - box2[1] + 1)\n",
    "\n",
    "    # 합쳐진 면적\n",
    "    union_area = box1_area + box2_area - intersection_area\n",
    "\n",
    "    # IoU\n",
    "    iou = intersection_area / union_area\n",
    "\n",
    "    return iou\n",
    "\n",
    "# Example usage:\n",
    "box1 = (10, 10, 30, 30)\n",
    "box2 = (20, 20, 40, 40)\n",
    "iou_value = IoU(box1, box2)\n",
    "print(f\"IoU between box1 and box2: {iou_value}\")"
   ]
  }
 ],
 "metadata": {
  "kernelspec": {
   "display_name": "Python 3",
   "language": "python",
   "name": "python3"
  },
  "language_info": {
   "codemirror_mode": {
    "name": "ipython",
    "version": 3
   },
   "file_extension": ".py",
   "mimetype": "text/x-python",
   "name": "python",
   "nbconvert_exporter": "python",
   "pygments_lexer": "ipython3",
   "version": "3.9.13"
  },
  "orig_nbformat": 4
 },
 "nbformat": 4,
 "nbformat_minor": 2
}
