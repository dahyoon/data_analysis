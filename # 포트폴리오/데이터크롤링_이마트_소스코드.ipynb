{
 "cells": [
  {
   "attachments": {},
   "cell_type": "markdown",
   "metadata": {},
   "source": [
    "# emart Icecream Data\n",
    "\n",
    "#### 1. 필요한 패키지 참조"
   ]
  },
  {
   "cell_type": "code",
   "execution_count": 1,
   "metadata": {},
   "outputs": [],
   "source": [
    "import chromedriver_autoinstaller\n",
    "from selenium import webdriver\n",
    "from selenium.webdriver.support.ui import WebDriverWait\n",
    "import time\n",
    "\n",
    "from bs4 import BeautifulSoup\n",
    "from pandas import DataFrame"
   ]
  },
  {
   "attachments": {},
   "cell_type": "markdown",
   "metadata": {},
   "source": [
    "#### 2. Chrome Browser 가동"
   ]
  },
  {
   "cell_type": "code",
   "execution_count": 2,
   "metadata": {},
   "outputs": [],
   "source": [
    "chromedriver_autoinstaller.install()\n",
    "driver = webdriver.Chrome()\n",
    "\n",
    "# 크롬브라우저가 준비될 때 까지 최대 5초씩 대기\n",
    "driver.implicitly_wait(5)"
   ]
  },
  {
   "attachments": {},
   "cell_type": "markdown",
   "metadata": {},
   "source": [
    "#### 3. emart 페이지 별 아이스크림에 접근하기 위한 변수값 설정 (총 22 페이지)"
   ]
  },
  {
   "cell_type": "code",
   "execution_count": 3,
   "metadata": {},
   "outputs": [],
   "source": [
    "params = list(range(1, 23))\n",
    "url_emart = \"https://emart.ssg.com/disp/category.ssg?dispCtgId=6000213403&page={0}\""
   ]
  },
  {
   "attachments": {},
   "cell_type": "markdown",
   "metadata": {},
   "source": [
    "#### 4. 내용 수집\n",
    "\n",
    "##### 1) 모든 정보 수집할 리스트 및 판매명에 포함되어 있는 브랜드명이 담긴 리스트 생성"
   ]
  },
  {
   "cell_type": "code",
   "execution_count": 4,
   "metadata": {},
   "outputs": [],
   "source": [
    "icecream_data = []\n",
    "brandName = ['빙그레', '해태', 'No Brand', '노브랜드', '롯데', '피코크', 'SSG푸드마켓', '매일유업',\n",
    "            '나뚜루', '나뚜르', '하겐다즈', '설빙', '바른씨', '아이러브아이스크림', '제이큐',\n",
    "            '글로벌푸드', '우리밀', '유니레버', '골든벨', '동서', '서울우유', '허쉬', '화과방', \n",
    "            '매그넘', '상상앤드', '고디바','우리가스토리', '자연맛남', '앤드류허쉬', '1am',\n",
    "            '비비수산', '인정식탁', '널담', '몽테이블', '부르스터스', '네추럴킹덤', '오설록', \n",
    "            '델몬트', '아이스올리', '라벨리', '라라스윗', '할로', '끌레도르', '벤엔제리스', '상하목장',\n",
    "            '삼립', '다이센', '네니아', '킷캣', '미닛메이드', '엠즈씨드', '사몬타나', '헤일로탑', \n",
    "            '바라톨리노', '마이노멀', '테이트', '하이디', '맥키스','매키스']"
   ]
  },
  {
   "attachments": {},
   "cell_type": "markdown",
   "metadata": {},
   "source": [
    "##### 2) 페이지 별 아이스크림의 정보가 표시되는 html&css 추출 + 추출된 아이스크림 목록 수 만큼 반복하여 판매명, 브랜드명, 가격 가져오기"
   ]
  },
  {
   "cell_type": "code",
   "execution_count": 5,
   "metadata": {},
   "outputs": [],
   "source": [
    "# 페이지별 반복\n",
    "for p in params:\n",
    "    url = url_emart.format(p)\n",
    "    driver.get(url)\n",
    "    time.sleep(1)\n",
    "\n",
    "    soup = BeautifulSoup(driver.page_source)\n",
    "    icecreamList = soup.select(\".mnemitem_grid_item\")\n",
    "    \n",
    "    # 추출된 아이스크림 목록 수 만큼 반복\n",
    "    for i in icecreamList:\n",
    "        # 판매명\n",
    "        name = i.select(\".mnemitem_goods_tit\")\n",
    "        if name:\n",
    "            nameValue = name[0].text.strip()\n",
    "        else: \n",
    "            nameValue = None\n",
    "        \n",
    "        # 브랜드명\n",
    "        brand = i.select(\".mnemitem_goods_brand\")\n",
    "        if brand:\n",
    "            brandValue = brand[0].text.strip()\n",
    "        else:\n",
    "            for b in brandName:\n",
    "                if b in nameValue:\n",
    "                    brandValue = b\n",
    "                    break\n",
    "                else:\n",
    "                    brandValue = None\n",
    "\n",
    "        # 가격\n",
    "        price = i.select(\".new_price > .ssg_price\")\n",
    "        if price:\n",
    "            priceValue = price[0].text.strip().replace(',', '')\n",
    "        else:\n",
    "            priceValue = None\n",
    "        \n",
    "        # 결과 병합\n",
    "        resultDic = {'판매명': nameValue, \n",
    "                     '브랜드': brandValue,\n",
    "                     '가격(원)': priceValue}\n",
    "        icecream_data.append(resultDic)"
   ]
  },
  {
   "attachments": {},
   "cell_type": "markdown",
   "metadata": {},
   "source": [
    "#### 5. Excel 파일로 수집한 내용 저장"
   ]
  },
  {
   "cell_type": "code",
   "execution_count": null,
   "metadata": {},
   "outputs": [],
   "source": [
    "df = DataFrame(icecream_data)\n",
    "df.to_excel(\"icecream_list_emart.xlsx\")"
   ]
  }
 ],
 "metadata": {
  "kernelspec": {
   "display_name": "Python 3",
   "language": "python",
   "name": "python3"
  },
  "language_info": {
   "codemirror_mode": {
    "name": "ipython",
    "version": 3
   },
   "file_extension": ".py",
   "mimetype": "text/x-python",
   "name": "python",
   "nbconvert_exporter": "python",
   "pygments_lexer": "ipython3",
   "version": "3.11.3"
  },
  "orig_nbformat": 4
 },
 "nbformat": 4,
 "nbformat_minor": 2
}
